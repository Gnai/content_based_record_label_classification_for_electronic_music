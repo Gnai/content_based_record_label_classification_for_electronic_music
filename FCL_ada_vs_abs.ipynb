{
 "cells": [
  {
   "cell_type": "markdown",
   "metadata": {
    "colab_type": "text",
    "id": "pD2Du8odZ3BJ"
   },
   "source": [
    "## A classification task: record label recognition\n"
   ]
  },
  {
   "cell_type": "code",
   "execution_count": 1,
   "metadata": {
    "colab": {},
    "colab_type": "code",
    "id": "8RP7NclOZ3BO"
   },
   "outputs": [],
   "source": [
    "#Basic imports\n",
    "import os\n",
    "import matplotlib.pyplot as plt\n",
    "import essentia.standard as ess\n",
    "import essentia\n",
    "import numpy as np\n",
    "import sys"
   ]
  },
  {
   "cell_type": "code",
   "execution_count": 2,
   "metadata": {
    "colab": {},
    "colab_type": "code",
    "id": "nhjFnVCLZ3B8"
   },
   "outputs": [],
   "source": [
    "# Raw-data preprocess analysis parameters\n",
    "fs = 44100\n",
    "windowSize = 4096 * 4\n",
    "hopSize = 4096 * 2\n",
    "NRG_threshold_ratio = 0.01 #threshold expressed as ratio with respect to the maximum value\n",
    "V_threshold = 0.01 #waveform threshold value\n",
    "#Let's put in a container to be able to use as a single argument in function calls\n",
    "params = {\"fs\":fs, \"windowSize\":windowSize, \"hopSize\":hopSize, \"V_threshold\":V_threshold}"
   ]
  },
  {
   "cell_type": "markdown",
   "metadata": {
    "colab_type": "text",
    "id": "mMcx5G3jZ3C3"
   },
   "source": [
    "## Analysis and preprocessing of features\n",
    "\n"
   ]
  },
  {
   "cell_type": "code",
   "execution_count": 3,
   "metadata": {
    "colab": {},
    "colab_type": "code",
    "id": "dV84IY-RZ3C4"
   },
   "outputs": [],
   "source": [
    "import pandas as pd"
   ]
  },
  {
   "cell_type": "code",
   "execution_count": 4,
   "metadata": {
    "colab": {
     "base_uri": "https://localhost:8080/",
     "height": 253
    },
    "colab_type": "code",
    "id": "CaJDBafwZ3C-",
    "outputId": "96f1c235-4ce7-4273-f18e-38681f2d3d96"
   },
   "outputs": [
    {
     "name": "stdout",
     "output_type": "stream",
     "text": [
      "(1035, 111)\n"
     ]
    },
    {
     "data": {
      "text/html": [
       "<div>\n",
       "<style scoped>\n",
       "    .dataframe tbody tr th:only-of-type {\n",
       "        vertical-align: middle;\n",
       "    }\n",
       "\n",
       "    .dataframe tbody tr th {\n",
       "        vertical-align: top;\n",
       "    }\n",
       "\n",
       "    .dataframe thead th {\n",
       "        text-align: right;\n",
       "    }\n",
       "</style>\n",
       "<table border=\"1\" class=\"dataframe\">\n",
       "  <thead>\n",
       "    <tr style=\"text-align: right;\">\n",
       "      <th></th>\n",
       "      <th>average_loudness</th>\n",
       "      <th>barkbands_crest.mean</th>\n",
       "      <th>barkbands_crest.stdev</th>\n",
       "      <th>barkbands_flatness_db.mean</th>\n",
       "      <th>barkbands_flatness_db.stdev</th>\n",
       "      <th>barkbands_kurtosis.mean</th>\n",
       "      <th>barkbands_kurtosis.stdev</th>\n",
       "      <th>barkbands_skewness.mean</th>\n",
       "      <th>barkbands_skewness.stdev</th>\n",
       "      <th>barkbands_spread.mean</th>\n",
       "      <th>...</th>\n",
       "      <th>tonal.hpcp_entropy.mean</th>\n",
       "      <th>tonal.hpcp_entropy.stdev</th>\n",
       "      <th>tonal.key_edma.strength</th>\n",
       "      <th>tonal.key_krumhansl.strength</th>\n",
       "      <th>tonal.key_temperley.strength</th>\n",
       "      <th>tonal.tuning_diatonic_strength</th>\n",
       "      <th>tonal.tuning_equal_tempered_deviation</th>\n",
       "      <th>tonal.tuning_frequency</th>\n",
       "      <th>tonal.tuning_nontempered_energy_ratio</th>\n",
       "      <th>label</th>\n",
       "    </tr>\n",
       "  </thead>\n",
       "  <tbody>\n",
       "    <tr>\n",
       "      <th>0</th>\n",
       "      <td>0.988186</td>\n",
       "      <td>20.478498</td>\n",
       "      <td>4.089674</td>\n",
       "      <td>0.379634</td>\n",
       "      <td>0.117483</td>\n",
       "      <td>160.641403</td>\n",
       "      <td>198.192886</td>\n",
       "      <td>8.975998</td>\n",
       "      <td>5.951560</td>\n",
       "      <td>12.921071</td>\n",
       "      <td>...</td>\n",
       "      <td>2.388727</td>\n",
       "      <td>0.630828</td>\n",
       "      <td>0.597704</td>\n",
       "      <td>0.590780</td>\n",
       "      <td>0.576712</td>\n",
       "      <td>0.519700</td>\n",
       "      <td>0.264084</td>\n",
       "      <td>434.193115</td>\n",
       "      <td>0.914482</td>\n",
       "      <td>suaraarchive</td>\n",
       "    </tr>\n",
       "    <tr>\n",
       "      <th>1</th>\n",
       "      <td>0.968379</td>\n",
       "      <td>15.320263</td>\n",
       "      <td>6.943198</td>\n",
       "      <td>0.171818</td>\n",
       "      <td>0.090113</td>\n",
       "      <td>26.312613</td>\n",
       "      <td>69.235451</td>\n",
       "      <td>3.349055</td>\n",
       "      <td>3.365176</td>\n",
       "      <td>29.381922</td>\n",
       "      <td>...</td>\n",
       "      <td>2.579776</td>\n",
       "      <td>0.895548</td>\n",
       "      <td>0.437140</td>\n",
       "      <td>0.432375</td>\n",
       "      <td>0.453034</td>\n",
       "      <td>0.617205</td>\n",
       "      <td>0.201986</td>\n",
       "      <td>434.193115</td>\n",
       "      <td>0.857048</td>\n",
       "      <td>suaraarchive</td>\n",
       "    </tr>\n",
       "    <tr>\n",
       "      <th>2</th>\n",
       "      <td>0.961911</td>\n",
       "      <td>14.853801</td>\n",
       "      <td>6.487042</td>\n",
       "      <td>0.309190</td>\n",
       "      <td>0.134920</td>\n",
       "      <td>36.727467</td>\n",
       "      <td>61.274410</td>\n",
       "      <td>3.712230</td>\n",
       "      <td>2.883528</td>\n",
       "      <td>12.519576</td>\n",
       "      <td>...</td>\n",
       "      <td>2.466795</td>\n",
       "      <td>0.769552</td>\n",
       "      <td>0.639024</td>\n",
       "      <td>0.656498</td>\n",
       "      <td>0.667925</td>\n",
       "      <td>0.449289</td>\n",
       "      <td>0.139628</td>\n",
       "      <td>434.193115</td>\n",
       "      <td>0.786461</td>\n",
       "      <td>suaraarchive</td>\n",
       "    </tr>\n",
       "    <tr>\n",
       "      <th>3</th>\n",
       "      <td>0.984195</td>\n",
       "      <td>19.392551</td>\n",
       "      <td>4.652277</td>\n",
       "      <td>0.236884</td>\n",
       "      <td>0.071677</td>\n",
       "      <td>70.987419</td>\n",
       "      <td>86.121933</td>\n",
       "      <td>6.727059</td>\n",
       "      <td>3.746682</td>\n",
       "      <td>11.425290</td>\n",
       "      <td>...</td>\n",
       "      <td>2.289503</td>\n",
       "      <td>0.803594</td>\n",
       "      <td>0.702167</td>\n",
       "      <td>0.709757</td>\n",
       "      <td>0.708595</td>\n",
       "      <td>0.596609</td>\n",
       "      <td>0.109998</td>\n",
       "      <td>440.254242</td>\n",
       "      <td>0.737786</td>\n",
       "      <td>suaraarchive</td>\n",
       "    </tr>\n",
       "    <tr>\n",
       "      <th>4</th>\n",
       "      <td>0.989017</td>\n",
       "      <td>15.688944</td>\n",
       "      <td>7.368422</td>\n",
       "      <td>0.212260</td>\n",
       "      <td>0.122203</td>\n",
       "      <td>40.260254</td>\n",
       "      <td>53.379383</td>\n",
       "      <td>4.249978</td>\n",
       "      <td>2.831521</td>\n",
       "      <td>17.101896</td>\n",
       "      <td>...</td>\n",
       "      <td>2.521369</td>\n",
       "      <td>0.769857</td>\n",
       "      <td>0.608317</td>\n",
       "      <td>0.604574</td>\n",
       "      <td>0.602309</td>\n",
       "      <td>0.455554</td>\n",
       "      <td>0.209978</td>\n",
       "      <td>434.193115</td>\n",
       "      <td>0.915794</td>\n",
       "      <td>suaraarchive</td>\n",
       "    </tr>\n",
       "  </tbody>\n",
       "</table>\n",
       "<p>5 rows × 111 columns</p>\n",
       "</div>"
      ],
      "text/plain": [
       "   average_loudness  barkbands_crest.mean  barkbands_crest.stdev  \\\n",
       "0          0.988186             20.478498               4.089674   \n",
       "1          0.968379             15.320263               6.943198   \n",
       "2          0.961911             14.853801               6.487042   \n",
       "3          0.984195             19.392551               4.652277   \n",
       "4          0.989017             15.688944               7.368422   \n",
       "\n",
       "   barkbands_flatness_db.mean  barkbands_flatness_db.stdev  \\\n",
       "0                    0.379634                     0.117483   \n",
       "1                    0.171818                     0.090113   \n",
       "2                    0.309190                     0.134920   \n",
       "3                    0.236884                     0.071677   \n",
       "4                    0.212260                     0.122203   \n",
       "\n",
       "   barkbands_kurtosis.mean  barkbands_kurtosis.stdev  barkbands_skewness.mean  \\\n",
       "0               160.641403                198.192886                 8.975998   \n",
       "1                26.312613                 69.235451                 3.349055   \n",
       "2                36.727467                 61.274410                 3.712230   \n",
       "3                70.987419                 86.121933                 6.727059   \n",
       "4                40.260254                 53.379383                 4.249978   \n",
       "\n",
       "   barkbands_skewness.stdev  barkbands_spread.mean  ...  \\\n",
       "0                  5.951560              12.921071  ...   \n",
       "1                  3.365176              29.381922  ...   \n",
       "2                  2.883528              12.519576  ...   \n",
       "3                  3.746682              11.425290  ...   \n",
       "4                  2.831521              17.101896  ...   \n",
       "\n",
       "   tonal.hpcp_entropy.mean  tonal.hpcp_entropy.stdev  tonal.key_edma.strength  \\\n",
       "0                 2.388727                  0.630828                 0.597704   \n",
       "1                 2.579776                  0.895548                 0.437140   \n",
       "2                 2.466795                  0.769552                 0.639024   \n",
       "3                 2.289503                  0.803594                 0.702167   \n",
       "4                 2.521369                  0.769857                 0.608317   \n",
       "\n",
       "   tonal.key_krumhansl.strength  tonal.key_temperley.strength  \\\n",
       "0                      0.590780                      0.576712   \n",
       "1                      0.432375                      0.453034   \n",
       "2                      0.656498                      0.667925   \n",
       "3                      0.709757                      0.708595   \n",
       "4                      0.604574                      0.602309   \n",
       "\n",
       "   tonal.tuning_diatonic_strength  tonal.tuning_equal_tempered_deviation  \\\n",
       "0                        0.519700                               0.264084   \n",
       "1                        0.617205                               0.201986   \n",
       "2                        0.449289                               0.139628   \n",
       "3                        0.596609                               0.109998   \n",
       "4                        0.455554                               0.209978   \n",
       "\n",
       "   tonal.tuning_frequency  tonal.tuning_nontempered_energy_ratio         label  \n",
       "0              434.193115                               0.914482  suaraarchive  \n",
       "1              434.193115                               0.857048  suaraarchive  \n",
       "2              434.193115                               0.786461  suaraarchive  \n",
       "3              440.254242                               0.737786  suaraarchive  \n",
       "4              434.193115                               0.915794  suaraarchive  \n",
       "\n",
       "[5 rows x 111 columns]"
      ]
     },
     "execution_count": 4,
     "metadata": {},
     "output_type": "execute_result"
    }
   ],
   "source": [
    "#Read \n",
    "file = 'ada_vs_abs/data_NRG_ada_30s.csv'\n",
    "data = pd.read_csv(file)\n",
    "#Let's see the first lines of our data\n",
    "print(data.shape)\n",
    "data.head()"
   ]
  },
  {
   "cell_type": "code",
   "execution_count": 5,
   "metadata": {
    "colab": {
     "base_uri": "https://localhost:8080/",
     "height": 34
    },
    "colab_type": "code",
    "id": "thpa7ESXZ3DG",
    "outputId": "f0d89c65-8400-47c7-99b8-c0604b462e51"
   },
   "outputs": [
    {
     "data": {
      "text/plain": [
       "0"
      ]
     },
     "execution_count": 5,
     "metadata": {},
     "output_type": "execute_result"
    }
   ],
   "source": [
    "data.isnull().sum().sum()#sums a matrix of True/False values obtained by checking if each value is Nan"
   ]
  },
  {
   "cell_type": "code",
   "execution_count": 6,
   "metadata": {
    "colab": {},
    "colab_type": "code",
    "id": "_zrFi7BLMhai",
    "outputId": "916d739b-dabe-41fd-c3c9-9b13c7596114"
   },
   "outputs": [
    {
     "data": {
      "image/png": "[encoded data removed]",
      "text/plain": [
       "<Figure size 493.125x360 with 1 Axes>"
      ]
     },
     "metadata": {
      "needs_background": "light"
     },
     "output_type": "display_data"
    }
   ],
   "source": [
    "import seaborn as sns\n",
    "# hue -> Grouping variable that will produce elements with different colors\n",
    "# style -> Grouping variable that will produce elements with different styles\n",
    "sns.relplot(x = \"rhythm.bpm\", y = \"pitch_salience.stdev\", hue = \"label\", data = data);"
   ]
  },
  {
   "cell_type": "code",
   "execution_count": 7,
   "metadata": {
    "colab": {
     "base_uri": "https://localhost:8080/",
     "height": 346
    },
    "colab_type": "code",
    "id": "4q8SmhSMZ3DP",
    "outputId": "dd3b5baa-d301-4b4c-cdba-03725281b52b"
   },
   "outputs": [
    {
     "data": {
      "text/html": [
       "<div>\n",
       "<style scoped>\n",
       "    .dataframe tbody tr th:only-of-type {\n",
       "        vertical-align: middle;\n",
       "    }\n",
       "\n",
       "    .dataframe tbody tr th {\n",
       "        vertical-align: top;\n",
       "    }\n",
       "\n",
       "    .dataframe thead th {\n",
       "        text-align: right;\n",
       "    }\n",
       "</style>\n",
       "<table border=\"1\" class=\"dataframe\">\n",
       "  <thead>\n",
       "    <tr style=\"text-align: right;\">\n",
       "      <th></th>\n",
       "      <th>average_loudness</th>\n",
       "      <th>barkbands_crest.mean</th>\n",
       "      <th>barkbands_crest.stdev</th>\n",
       "      <th>barkbands_flatness_db.mean</th>\n",
       "      <th>barkbands_flatness_db.stdev</th>\n",
       "      <th>barkbands_kurtosis.mean</th>\n",
       "      <th>barkbands_kurtosis.stdev</th>\n",
       "      <th>barkbands_skewness.mean</th>\n",
       "      <th>barkbands_skewness.stdev</th>\n",
       "      <th>barkbands_spread.mean</th>\n",
       "      <th>...</th>\n",
       "      <th>tonal.hpcp_crest.stdev</th>\n",
       "      <th>tonal.hpcp_entropy.mean</th>\n",
       "      <th>tonal.hpcp_entropy.stdev</th>\n",
       "      <th>tonal.key_edma.strength</th>\n",
       "      <th>tonal.key_krumhansl.strength</th>\n",
       "      <th>tonal.key_temperley.strength</th>\n",
       "      <th>tonal.tuning_diatonic_strength</th>\n",
       "      <th>tonal.tuning_equal_tempered_deviation</th>\n",
       "      <th>tonal.tuning_frequency</th>\n",
       "      <th>tonal.tuning_nontempered_energy_ratio</th>\n",
       "    </tr>\n",
       "  </thead>\n",
       "  <tbody>\n",
       "    <tr>\n",
       "      <th>count</th>\n",
       "      <td>1035.000000</td>\n",
       "      <td>1035.000000</td>\n",
       "      <td>1035.000000</td>\n",
       "      <td>1035.000000</td>\n",
       "      <td>1035.000000</td>\n",
       "      <td>1035.000000</td>\n",
       "      <td>1035.000000</td>\n",
       "      <td>1035.000000</td>\n",
       "      <td>1035.000000</td>\n",
       "      <td>1035.000000</td>\n",
       "      <td>...</td>\n",
       "      <td>1035.000000</td>\n",
       "      <td>1035.000000</td>\n",
       "      <td>1035.000000</td>\n",
       "      <td>1035.000000</td>\n",
       "      <td>1035.000000</td>\n",
       "      <td>1035.000000</td>\n",
       "      <td>1035.000000</td>\n",
       "      <td>1035.000000</td>\n",
       "      <td>1035.000000</td>\n",
       "      <td>1035.000000</td>\n",
       "    </tr>\n",
       "    <tr>\n",
       "      <th>mean</th>\n",
       "      <td>0.952248</td>\n",
       "      <td>15.873745</td>\n",
       "      <td>5.672438</td>\n",
       "      <td>0.264289</td>\n",
       "      <td>0.107595</td>\n",
       "      <td>72.068507</td>\n",
       "      <td>144.493509</td>\n",
       "      <td>4.462619</td>\n",
       "      <td>4.029200</td>\n",
       "      <td>14.609930</td>\n",
       "      <td>...</td>\n",
       "      <td>5.616286</td>\n",
       "      <td>2.159383</td>\n",
       "      <td>0.720389</td>\n",
       "      <td>0.588068</td>\n",
       "      <td>0.589004</td>\n",
       "      <td>0.587099</td>\n",
       "      <td>0.525658</td>\n",
       "      <td>0.210091</td>\n",
       "      <td>436.736802</td>\n",
       "      <td>0.874860</td>\n",
       "    </tr>\n",
       "    <tr>\n",
       "      <th>std</th>\n",
       "      <td>0.075543</td>\n",
       "      <td>2.717432</td>\n",
       "      <td>1.054826</td>\n",
       "      <td>0.081654</td>\n",
       "      <td>0.037502</td>\n",
       "      <td>76.931084</td>\n",
       "      <td>179.202921</td>\n",
       "      <td>2.053157</td>\n",
       "      <td>2.177337</td>\n",
       "      <td>8.058646</td>\n",
       "      <td>...</td>\n",
       "      <td>1.131823</td>\n",
       "      <td>0.359946</td>\n",
       "      <td>0.093981</td>\n",
       "      <td>0.125688</td>\n",
       "      <td>0.126367</td>\n",
       "      <td>0.125067</td>\n",
       "      <td>0.097683</td>\n",
       "      <td>0.074196</td>\n",
       "      <td>4.959479</td>\n",
       "      <td>0.090125</td>\n",
       "    </tr>\n",
       "    <tr>\n",
       "      <th>min</th>\n",
       "      <td>0.094679</td>\n",
       "      <td>8.371400</td>\n",
       "      <td>1.532150</td>\n",
       "      <td>0.079238</td>\n",
       "      <td>0.018111</td>\n",
       "      <td>0.257622</td>\n",
       "      <td>1.411797</td>\n",
       "      <td>0.308921</td>\n",
       "      <td>0.396244</td>\n",
       "      <td>0.456950</td>\n",
       "      <td>...</td>\n",
       "      <td>3.149999</td>\n",
       "      <td>1.150857</td>\n",
       "      <td>0.377700</td>\n",
       "      <td>0.219322</td>\n",
       "      <td>0.222864</td>\n",
       "      <td>0.228071</td>\n",
       "      <td>0.194460</td>\n",
       "      <td>0.002877</td>\n",
       "      <td>431.443085</td>\n",
       "      <td>0.569442</td>\n",
       "    </tr>\n",
       "    <tr>\n",
       "      <th>25%</th>\n",
       "      <td>0.952494</td>\n",
       "      <td>13.993185</td>\n",
       "      <td>4.944035</td>\n",
       "      <td>0.206684</td>\n",
       "      <td>0.082220</td>\n",
       "      <td>22.019686</td>\n",
       "      <td>39.529701</td>\n",
       "      <td>2.990434</td>\n",
       "      <td>2.420218</td>\n",
       "      <td>8.550832</td>\n",
       "      <td>...</td>\n",
       "      <td>4.782813</td>\n",
       "      <td>1.896354</td>\n",
       "      <td>0.655909</td>\n",
       "      <td>0.504541</td>\n",
       "      <td>0.501116</td>\n",
       "      <td>0.501357</td>\n",
       "      <td>0.462929</td>\n",
       "      <td>0.172651</td>\n",
       "      <td>434.193115</td>\n",
       "      <td>0.845392</td>\n",
       "    </tr>\n",
       "    <tr>\n",
       "      <th>50%</th>\n",
       "      <td>0.975928</td>\n",
       "      <td>15.772546</td>\n",
       "      <td>5.666733</td>\n",
       "      <td>0.255874</td>\n",
       "      <td>0.104174</td>\n",
       "      <td>48.996506</td>\n",
       "      <td>91.750435</td>\n",
       "      <td>4.229000</td>\n",
       "      <td>3.671598</td>\n",
       "      <td>13.377729</td>\n",
       "      <td>...</td>\n",
       "      <td>5.411049</td>\n",
       "      <td>2.127462</td>\n",
       "      <td>0.723492</td>\n",
       "      <td>0.605286</td>\n",
       "      <td>0.605114</td>\n",
       "      <td>0.600800</td>\n",
       "      <td>0.529626</td>\n",
       "      <td>0.217818</td>\n",
       "      <td>434.193115</td>\n",
       "      <td>0.897670</td>\n",
       "    </tr>\n",
       "    <tr>\n",
       "      <th>75%</th>\n",
       "      <td>0.984717</td>\n",
       "      <td>17.885271</td>\n",
       "      <td>6.400847</td>\n",
       "      <td>0.312379</td>\n",
       "      <td>0.129777</td>\n",
       "      <td>93.932812</td>\n",
       "      <td>192.648407</td>\n",
       "      <td>5.688199</td>\n",
       "      <td>5.258108</td>\n",
       "      <td>19.132484</td>\n",
       "      <td>...</td>\n",
       "      <td>6.267091</td>\n",
       "      <td>2.425113</td>\n",
       "      <td>0.778683</td>\n",
       "      <td>0.679911</td>\n",
       "      <td>0.682141</td>\n",
       "      <td>0.679774</td>\n",
       "      <td>0.591802</td>\n",
       "      <td>0.257583</td>\n",
       "      <td>437.718536</td>\n",
       "      <td>0.936963</td>\n",
       "    </tr>\n",
       "    <tr>\n",
       "      <th>max</th>\n",
       "      <td>0.990216</td>\n",
       "      <td>24.052708</td>\n",
       "      <td>8.728979</td>\n",
       "      <td>0.585487</td>\n",
       "      <td>0.294311</td>\n",
       "      <td>661.860596</td>\n",
       "      <td>2247.064209</td>\n",
       "      <td>15.467979</td>\n",
       "      <td>18.644485</td>\n",
       "      <td>70.538437</td>\n",
       "      <td>...</td>\n",
       "      <td>9.885797</td>\n",
       "      <td>3.345558</td>\n",
       "      <td>1.103085</td>\n",
       "      <td>0.898272</td>\n",
       "      <td>0.910610</td>\n",
       "      <td>0.918201</td>\n",
       "      <td>0.831871</td>\n",
       "      <td>0.472213</td>\n",
       "      <td>456.570251</td>\n",
       "      <td>0.996004</td>\n",
       "    </tr>\n",
       "  </tbody>\n",
       "</table>\n",
       "<p>8 rows × 110 columns</p>\n",
       "</div>"
      ],
      "text/plain": [
       "       average_loudness  barkbands_crest.mean  barkbands_crest.stdev  \\\n",
       "count       1035.000000           1035.000000            1035.000000   \n",
       "mean           0.952248             15.873745               5.672438   \n",
       "std            0.075543              2.717432               1.054826   \n",
       "min            0.094679              8.371400               1.532150   \n",
       "25%            0.952494             13.993185               4.944035   \n",
       "50%            0.975928             15.772546               5.666733   \n",
       "75%            0.984717             17.885271               6.400847   \n",
       "max            0.990216             24.052708               8.728979   \n",
       "\n",
       "       barkbands_flatness_db.mean  barkbands_flatness_db.stdev  \\\n",
       "count                 1035.000000                  1035.000000   \n",
       "mean                     0.264289                     0.107595   \n",
       "std                      0.081654                     0.037502   \n",
       "min                      0.079238                     0.018111   \n",
       "25%                      0.206684                     0.082220   \n",
       "50%                      0.255874                     0.104174   \n",
       "75%                      0.312379                     0.129777   \n",
       "max                      0.585487                     0.294311   \n",
       "\n",
       "       barkbands_kurtosis.mean  barkbands_kurtosis.stdev  \\\n",
       "count              1035.000000               1035.000000   \n",
       "mean                 72.068507                144.493509   \n",
       "std                  76.931084                179.202921   \n",
       "min                   0.257622                  1.411797   \n",
       "25%                  22.019686                 39.529701   \n",
       "50%                  48.996506                 91.750435   \n",
       "75%                  93.932812                192.648407   \n",
       "max                 661.860596               2247.064209   \n",
       "\n",
       "       barkbands_skewness.mean  barkbands_skewness.stdev  \\\n",
       "count              1035.000000               1035.000000   \n",
       "mean                  4.462619                  4.029200   \n",
       "std                   2.053157                  2.177337   \n",
       "min                   0.308921                  0.396244   \n",
       "25%                   2.990434                  2.420218   \n",
       "50%                   4.229000                  3.671598   \n",
       "75%                   5.688199                  5.258108   \n",
       "max                  15.467979                 18.644485   \n",
       "\n",
       "       barkbands_spread.mean  ...  tonal.hpcp_crest.stdev  \\\n",
       "count            1035.000000  ...             1035.000000   \n",
       "mean               14.609930  ...                5.616286   \n",
       "std                 8.058646  ...                1.131823   \n",
       "min                 0.456950  ...                3.149999   \n",
       "25%                 8.550832  ...                4.782813   \n",
       "50%                13.377729  ...                5.411049   \n",
       "75%                19.132484  ...                6.267091   \n",
       "max                70.538437  ...                9.885797   \n",
       "\n",
       "       tonal.hpcp_entropy.mean  tonal.hpcp_entropy.stdev  \\\n",
       "count              1035.000000               1035.000000   \n",
       "mean                  2.159383                  0.720389   \n",
       "std                   0.359946                  0.093981   \n",
       "min                   1.150857                  0.377700   \n",
       "25%                   1.896354                  0.655909   \n",
       "50%                   2.127462                  0.723492   \n",
       "75%                   2.425113                  0.778683   \n",
       "max                   3.345558                  1.103085   \n",
       "\n",
       "       tonal.key_edma.strength  tonal.key_krumhansl.strength  \\\n",
       "count              1035.000000                   1035.000000   \n",
       "mean                  0.588068                      0.589004   \n",
       "std                   0.125688                      0.126367   \n",
       "min                   0.219322                      0.222864   \n",
       "25%                   0.504541                      0.501116   \n",
       "50%                   0.605286                      0.605114   \n",
       "75%                   0.679911                      0.682141   \n",
       "max                   0.898272                      0.910610   \n",
       "\n",
       "       tonal.key_temperley.strength  tonal.tuning_diatonic_strength  \\\n",
       "count                   1035.000000                     1035.000000   \n",
       "mean                       0.587099                        0.525658   \n",
       "std                        0.125067                        0.097683   \n",
       "min                        0.228071                        0.194460   \n",
       "25%                        0.501357                        0.462929   \n",
       "50%                        0.600800                        0.529626   \n",
       "75%                        0.679774                        0.591802   \n",
       "max                        0.918201                        0.831871   \n",
       "\n",
       "       tonal.tuning_equal_tempered_deviation  tonal.tuning_frequency  \\\n",
       "count                            1035.000000             1035.000000   \n",
       "mean                                0.210091              436.736802   \n",
       "std                                 0.074196                4.959479   \n",
       "min                                 0.002877              431.443085   \n",
       "25%                                 0.172651              434.193115   \n",
       "50%                                 0.217818              434.193115   \n",
       "75%                                 0.257583              437.718536   \n",
       "max                                 0.472213              456.570251   \n",
       "\n",
       "       tonal.tuning_nontempered_energy_ratio  \n",
       "count                            1035.000000  \n",
       "mean                                0.874860  \n",
       "std                                 0.090125  \n",
       "min                                 0.569442  \n",
       "25%                                 0.845392  \n",
       "50%                                 0.897670  \n",
       "75%                                 0.936963  \n",
       "max                                 0.996004  \n",
       "\n",
       "[8 rows x 110 columns]"
      ]
     },
     "execution_count": 7,
     "metadata": {},
     "output_type": "execute_result"
    }
   ],
   "source": [
    "#Descriptive statistics of the features:\n",
    "data.describe()"
   ]
  },
  {
   "cell_type": "markdown",
   "metadata": {
    "colab_type": "text",
    "id": "dU9u2YaDZ3DV"
   },
   "source": [
    "\n",
    "\n",
    "### Preprocessing of the features\n",
    "\n",
    "**Normalisation of the features**"
   ]
  },
  {
   "cell_type": "code",
   "execution_count": 8,
   "metadata": {
    "colab": {},
    "colab_type": "code",
    "id": "amcLwVPkZ3DX"
   },
   "outputs": [],
   "source": [
    "data_modif = data.copy()\n",
    "#Let's use sklearn's preprocessing tools for applying normalisation to features\n",
    "from sklearn import preprocessing\n",
    "min_max_scaler = preprocessing.MinMaxScaler()\n",
    "data_modif.iloc[:,:110] = min_max_scaler.fit_transform(data.iloc[:,:110].values)"
   ]
  },
  {
   "cell_type": "code",
   "execution_count": 9,
   "metadata": {
    "colab": {
     "base_uri": "https://localhost:8080/",
     "height": 346
    },
    "colab_type": "code",
    "id": "a8-ErcHzZ3Db",
    "outputId": "50a567f2-f5ab-4234-a57f-1d59f2ca79a1"
   },
   "outputs": [
    {
     "data": {
      "text/html": [
       "<div>\n",
       "<style scoped>\n",
       "    .dataframe tbody tr th:only-of-type {\n",
       "        vertical-align: middle;\n",
       "    }\n",
       "\n",
       "    .dataframe tbody tr th {\n",
       "        vertical-align: top;\n",
       "    }\n",
       "\n",
       "    .dataframe thead th {\n",
       "        text-align: right;\n",
       "    }\n",
       "</style>\n",
       "<table border=\"1\" class=\"dataframe\">\n",
       "  <thead>\n",
       "    <tr style=\"text-align: right;\">\n",
       "      <th></th>\n",
       "      <th>average_loudness</th>\n",
       "      <th>barkbands_crest.mean</th>\n",
       "      <th>barkbands_crest.stdev</th>\n",
       "      <th>barkbands_flatness_db.mean</th>\n",
       "      <th>barkbands_flatness_db.stdev</th>\n",
       "      <th>barkbands_kurtosis.mean</th>\n",
       "      <th>barkbands_kurtosis.stdev</th>\n",
       "      <th>barkbands_skewness.mean</th>\n",
       "      <th>barkbands_skewness.stdev</th>\n",
       "      <th>barkbands_spread.mean</th>\n",
       "      <th>...</th>\n",
       "      <th>tonal.hpcp_crest.stdev</th>\n",
       "      <th>tonal.hpcp_entropy.mean</th>\n",
       "      <th>tonal.hpcp_entropy.stdev</th>\n",
       "      <th>tonal.key_edma.strength</th>\n",
       "      <th>tonal.key_krumhansl.strength</th>\n",
       "      <th>tonal.key_temperley.strength</th>\n",
       "      <th>tonal.tuning_diatonic_strength</th>\n",
       "      <th>tonal.tuning_equal_tempered_deviation</th>\n",
       "      <th>tonal.tuning_frequency</th>\n",
       "      <th>tonal.tuning_nontempered_energy_ratio</th>\n",
       "    </tr>\n",
       "  </thead>\n",
       "  <tbody>\n",
       "    <tr>\n",
       "      <th>count</th>\n",
       "      <td>1035.000000</td>\n",
       "      <td>1035.000000</td>\n",
       "      <td>1035.000000</td>\n",
       "      <td>1035.000000</td>\n",
       "      <td>1035.000000</td>\n",
       "      <td>1035.000000</td>\n",
       "      <td>1035.000000</td>\n",
       "      <td>1035.000000</td>\n",
       "      <td>1035.000000</td>\n",
       "      <td>1035.000000</td>\n",
       "      <td>...</td>\n",
       "      <td>1035.000000</td>\n",
       "      <td>1035.000000</td>\n",
       "      <td>1035.000000</td>\n",
       "      <td>1035.000000</td>\n",
       "      <td>1035.000000</td>\n",
       "      <td>1035.000000</td>\n",
       "      <td>1035.000000</td>\n",
       "      <td>1035.000000</td>\n",
       "      <td>1035.000000</td>\n",
       "      <td>1035.000000</td>\n",
       "    </tr>\n",
       "    <tr>\n",
       "      <th>mean</th>\n",
       "      <td>0.957603</td>\n",
       "      <td>0.478426</td>\n",
       "      <td>0.575293</td>\n",
       "      <td>0.365535</td>\n",
       "      <td>0.323985</td>\n",
       "      <td>0.108541</td>\n",
       "      <td>0.063715</td>\n",
       "      <td>0.274008</td>\n",
       "      <td>0.199085</td>\n",
       "      <td>0.201950</td>\n",
       "      <td>...</td>\n",
       "      <td>0.366146</td>\n",
       "      <td>0.459528</td>\n",
       "      <td>0.472424</td>\n",
       "      <td>0.543112</td>\n",
       "      <td>0.532377</td>\n",
       "      <td>0.520232</td>\n",
       "      <td>0.519599</td>\n",
       "      <td>0.441504</td>\n",
       "      <td>0.210677</td>\n",
       "      <td>0.715999</td>\n",
       "    </tr>\n",
       "    <tr>\n",
       "      <th>std</th>\n",
       "      <td>0.084355</td>\n",
       "      <td>0.173291</td>\n",
       "      <td>0.146568</td>\n",
       "      <td>0.161292</td>\n",
       "      <td>0.135778</td>\n",
       "      <td>0.116280</td>\n",
       "      <td>0.079800</td>\n",
       "      <td>0.135441</td>\n",
       "      <td>0.119318</td>\n",
       "      <td>0.114990</td>\n",
       "      <td>...</td>\n",
       "      <td>0.168031</td>\n",
       "      <td>0.164007</td>\n",
       "      <td>0.129560</td>\n",
       "      <td>0.185121</td>\n",
       "      <td>0.183741</td>\n",
       "      <td>0.181222</td>\n",
       "      <td>0.153250</td>\n",
       "      <td>0.158087</td>\n",
       "      <td>0.197375</td>\n",
       "      <td>0.211281</td>\n",
       "    </tr>\n",
       "    <tr>\n",
       "      <th>min</th>\n",
       "      <td>0.000000</td>\n",
       "      <td>0.000000</td>\n",
       "      <td>0.000000</td>\n",
       "      <td>0.000000</td>\n",
       "      <td>0.000000</td>\n",
       "      <td>0.000000</td>\n",
       "      <td>0.000000</td>\n",
       "      <td>0.000000</td>\n",
       "      <td>0.000000</td>\n",
       "      <td>0.000000</td>\n",
       "      <td>...</td>\n",
       "      <td>0.000000</td>\n",
       "      <td>0.000000</td>\n",
       "      <td>0.000000</td>\n",
       "      <td>0.000000</td>\n",
       "      <td>0.000000</td>\n",
       "      <td>0.000000</td>\n",
       "      <td>0.000000</td>\n",
       "      <td>0.000000</td>\n",
       "      <td>0.000000</td>\n",
       "      <td>0.000000</td>\n",
       "    </tr>\n",
       "    <tr>\n",
       "      <th>25%</th>\n",
       "      <td>0.957878</td>\n",
       "      <td>0.358502</td>\n",
       "      <td>0.474082</td>\n",
       "      <td>0.251747</td>\n",
       "      <td>0.232113</td>\n",
       "      <td>0.032893</td>\n",
       "      <td>0.016974</td>\n",
       "      <td>0.176892</td>\n",
       "      <td>0.110913</td>\n",
       "      <td>0.115492</td>\n",
       "      <td>...</td>\n",
       "      <td>0.242408</td>\n",
       "      <td>0.339680</td>\n",
       "      <td>0.383533</td>\n",
       "      <td>0.420089</td>\n",
       "      <td>0.404585</td>\n",
       "      <td>0.395992</td>\n",
       "      <td>0.421187</td>\n",
       "      <td>0.361732</td>\n",
       "      <td>0.109445</td>\n",
       "      <td>0.646916</td>\n",
       "    </tr>\n",
       "    <tr>\n",
       "      <th>50%</th>\n",
       "      <td>0.984045</td>\n",
       "      <td>0.471972</td>\n",
       "      <td>0.574501</td>\n",
       "      <td>0.348912</td>\n",
       "      <td>0.311597</td>\n",
       "      <td>0.073668</td>\n",
       "      <td>0.040228</td>\n",
       "      <td>0.258596</td>\n",
       "      <td>0.179489</td>\n",
       "      <td>0.184368</td>\n",
       "      <td>...</td>\n",
       "      <td>0.335677</td>\n",
       "      <td>0.444983</td>\n",
       "      <td>0.476701</td>\n",
       "      <td>0.568473</td>\n",
       "      <td>0.555801</td>\n",
       "      <td>0.540085</td>\n",
       "      <td>0.525823</td>\n",
       "      <td>0.457968</td>\n",
       "      <td>0.109445</td>\n",
       "      <td>0.769473</td>\n",
       "    </tr>\n",
       "    <tr>\n",
       "      <th>75%</th>\n",
       "      <td>0.993859</td>\n",
       "      <td>0.606701</td>\n",
       "      <td>0.676506</td>\n",
       "      <td>0.460526</td>\n",
       "      <td>0.404294</td>\n",
       "      <td>0.141588</td>\n",
       "      <td>0.085159</td>\n",
       "      <td>0.354856</td>\n",
       "      <td>0.266429</td>\n",
       "      <td>0.266483</td>\n",
       "      <td>...</td>\n",
       "      <td>0.462765</td>\n",
       "      <td>0.580606</td>\n",
       "      <td>0.552788</td>\n",
       "      <td>0.678384</td>\n",
       "      <td>0.667800</td>\n",
       "      <td>0.654519</td>\n",
       "      <td>0.623369</td>\n",
       "      <td>0.542695</td>\n",
       "      <td>0.249748</td>\n",
       "      <td>0.861588</td>\n",
       "    </tr>\n",
       "    <tr>\n",
       "      <th>max</th>\n",
       "      <td>1.000000</td>\n",
       "      <td>1.000000</td>\n",
       "      <td>1.000000</td>\n",
       "      <td>1.000000</td>\n",
       "      <td>1.000000</td>\n",
       "      <td>1.000000</td>\n",
       "      <td>1.000000</td>\n",
       "      <td>1.000000</td>\n",
       "      <td>1.000000</td>\n",
       "      <td>1.000000</td>\n",
       "      <td>...</td>\n",
       "      <td>1.000000</td>\n",
       "      <td>1.000000</td>\n",
       "      <td>1.000000</td>\n",
       "      <td>1.000000</td>\n",
       "      <td>1.000000</td>\n",
       "      <td>1.000000</td>\n",
       "      <td>1.000000</td>\n",
       "      <td>1.000000</td>\n",
       "      <td>1.000000</td>\n",
       "      <td>1.000000</td>\n",
       "    </tr>\n",
       "  </tbody>\n",
       "</table>\n",
       "<p>8 rows × 110 columns</p>\n",
       "</div>"
      ],
      "text/plain": [
       "       average_loudness  barkbands_crest.mean  barkbands_crest.stdev  \\\n",
       "count       1035.000000           1035.000000            1035.000000   \n",
       "mean           0.957603              0.478426               0.575293   \n",
       "std            0.084355              0.173291               0.146568   \n",
       "min            0.000000              0.000000               0.000000   \n",
       "25%            0.957878              0.358502               0.474082   \n",
       "50%            0.984045              0.471972               0.574501   \n",
       "75%            0.993859              0.606701               0.676506   \n",
       "max            1.000000              1.000000               1.000000   \n",
       "\n",
       "       barkbands_flatness_db.mean  barkbands_flatness_db.stdev  \\\n",
       "count                 1035.000000                  1035.000000   \n",
       "mean                     0.365535                     0.323985   \n",
       "std                      0.161292                     0.135778   \n",
       "min                      0.000000                     0.000000   \n",
       "25%                      0.251747                     0.232113   \n",
       "50%                      0.348912                     0.311597   \n",
       "75%                      0.460526                     0.404294   \n",
       "max                      1.000000                     1.000000   \n",
       "\n",
       "       barkbands_kurtosis.mean  barkbands_kurtosis.stdev  \\\n",
       "count              1035.000000               1035.000000   \n",
       "mean                  0.108541                  0.063715   \n",
       "std                   0.116280                  0.079800   \n",
       "min                   0.000000                  0.000000   \n",
       "25%                   0.032893                  0.016974   \n",
       "50%                   0.073668                  0.040228   \n",
       "75%                   0.141588                  0.085159   \n",
       "max                   1.000000                  1.000000   \n",
       "\n",
       "       barkbands_skewness.mean  barkbands_skewness.stdev  \\\n",
       "count              1035.000000               1035.000000   \n",
       "mean                  0.274008                  0.199085   \n",
       "std                   0.135441                  0.119318   \n",
       "min                   0.000000                  0.000000   \n",
       "25%                   0.176892                  0.110913   \n",
       "50%                   0.258596                  0.179489   \n",
       "75%                   0.354856                  0.266429   \n",
       "max                   1.000000                  1.000000   \n",
       "\n",
       "       barkbands_spread.mean  ...  tonal.hpcp_crest.stdev  \\\n",
       "count            1035.000000  ...             1035.000000   \n",
       "mean                0.201950  ...                0.366146   \n",
       "std                 0.114990  ...                0.168031   \n",
       "min                 0.000000  ...                0.000000   \n",
       "25%                 0.115492  ...                0.242408   \n",
       "50%                 0.184368  ...                0.335677   \n",
       "75%                 0.266483  ...                0.462765   \n",
       "max                 1.000000  ...                1.000000   \n",
       "\n",
       "       tonal.hpcp_entropy.mean  tonal.hpcp_entropy.stdev  \\\n",
       "count              1035.000000               1035.000000   \n",
       "mean                  0.459528                  0.472424   \n",
       "std                   0.164007                  0.129560   \n",
       "min                   0.000000                  0.000000   \n",
       "25%                   0.339680                  0.383533   \n",
       "50%                   0.444983                  0.476701   \n",
       "75%                   0.580606                  0.552788   \n",
       "max                   1.000000                  1.000000   \n",
       "\n",
       "       tonal.key_edma.strength  tonal.key_krumhansl.strength  \\\n",
       "count              1035.000000                   1035.000000   \n",
       "mean                  0.543112                      0.532377   \n",
       "std                   0.185121                      0.183741   \n",
       "min                   0.000000                      0.000000   \n",
       "25%                   0.420089                      0.404585   \n",
       "50%                   0.568473                      0.555801   \n",
       "75%                   0.678384                      0.667800   \n",
       "max                   1.000000                      1.000000   \n",
       "\n",
       "       tonal.key_temperley.strength  tonal.tuning_diatonic_strength  \\\n",
       "count                   1035.000000                     1035.000000   \n",
       "mean                       0.520232                        0.519599   \n",
       "std                        0.181222                        0.153250   \n",
       "min                        0.000000                        0.000000   \n",
       "25%                        0.395992                        0.421187   \n",
       "50%                        0.540085                        0.525823   \n",
       "75%                        0.654519                        0.623369   \n",
       "max                        1.000000                        1.000000   \n",
       "\n",
       "       tonal.tuning_equal_tempered_deviation  tonal.tuning_frequency  \\\n",
       "count                            1035.000000             1035.000000   \n",
       "mean                                0.441504                0.210677   \n",
       "std                                 0.158087                0.197375   \n",
       "min                                 0.000000                0.000000   \n",
       "25%                                 0.361732                0.109445   \n",
       "50%                                 0.457968                0.109445   \n",
       "75%                                 0.542695                0.249748   \n",
       "max                                 1.000000                1.000000   \n",
       "\n",
       "       tonal.tuning_nontempered_energy_ratio  \n",
       "count                            1035.000000  \n",
       "mean                                0.715999  \n",
       "std                                 0.211281  \n",
       "min                                 0.000000  \n",
       "25%                                 0.646916  \n",
       "50%                                 0.769473  \n",
       "75%                                 0.861588  \n",
       "max                                 1.000000  \n",
       "\n",
       "[8 rows x 110 columns]"
      ]
     },
     "execution_count": 9,
     "metadata": {},
     "output_type": "execute_result"
    }
   ],
   "source": [
    "data_modif.describe()"
   ]
  },
  {
   "cell_type": "code",
   "execution_count": 10,
   "metadata": {},
   "outputs": [
    {
     "data": {
      "text/plain": [
       "mordarchive             115\n",
       "ninjatunearchive        115\n",
       "defectedarchive         115\n",
       "kompaktarchive          115\n",
       "chillhoparchive         115\n",
       "stilvortalentarchive    115\n",
       "bar25archive            115\n",
       "littlehelpersarchive    115\n",
       "suaraarchive            115\n",
       "Name: label, dtype: int64"
      ]
     },
     "execution_count": 10,
     "metadata": {},
     "output_type": "execute_result"
    }
   ],
   "source": [
    "data_modif.label.value_counts()"
   ]
  },
  {
   "cell_type": "code",
   "execution_count": 11,
   "metadata": {},
   "outputs": [
    {
     "name": "stdout",
     "output_type": "stream",
     "text": [
      "Features of the first sample:  [[0.99773399 0.77207199 0.35536821 ... 0.55654481 0.10944451 0.80888542]\n",
      " [0.97561621 0.44313033 0.75186559 ... 0.42423515 0.10944451 0.67424264]\n",
      " [0.96839373 0.41338395 0.68848263 ... 0.29136994 0.10944451 0.5087634 ]\n",
      " ...\n",
      " [0.99033825 0.36826535 0.52951107 ... 0.541463   0.47253048 0.65025419]\n",
      " [0.98359412 0.39226997 0.46287843 ... 0.54155126 0.10944451 0.89767763]\n",
      " [0.94188896 0.14677192 0.27906662 ... 0.15330398 0.56448825 0.39220494]]\n",
      "Class of the first sample:  8\n"
     ]
    }
   ],
   "source": [
    "#input values put in a matrix, there are 110 features\n",
    "x = data_modif.iloc[:,:110]\n",
    "#Creating output values\n",
    "data_modif.label = pd.Categorical(data_modif.label)#convert to categorical data\n",
    "y = np.array(data_modif.label.cat.codes) #create label encoded outputs\n",
    "#Print the first sample\n",
    "print(\"Features of the first sample: \", x.values)\n",
    "print(\"Class of the first sample: \", y[0])"
   ]
  },
  {
   "cell_type": "code",
   "execution_count": 12,
   "metadata": {},
   "outputs": [
    {
     "name": "stdout",
     "output_type": "stream",
     "text": [
      "[8 8 8 ... 3 3 3]\n",
      "(1035,)\n"
     ]
    }
   ],
   "source": [
    "print(y)\n",
    "print(y.shape)\n"
   ]
  },
  {
   "cell_type": "code",
   "execution_count": 13,
   "metadata": {},
   "outputs": [
    {
     "name": "stdout",
     "output_type": "stream",
     "text": [
      "                                    Specs      Score\n",
      "49                silence_rate_60dB.stdev  46.743046\n",
      "19                erbbands_kurtosis.stdev  39.537191\n",
      "45                silence_rate_20dB.stdev  36.947222\n",
      "18                 erbbands_kurtosis.mean  31.659999\n",
      "21                erbbands_skewness.stdev  30.187001\n",
      "..                                    ...        ...\n",
      "102              tonal.hpcp_entropy.stdev   2.777937\n",
      "65   spectral_energyband_middle_low.stdev   2.539868\n",
      "54                 spectral_decrease.mean   1.574500\n",
      "0                        average_loudness   0.426670\n",
      "44                 silence_rate_20dB.mean   0.353370\n",
      "\n",
      "[110 rows x 2 columns]\n"
     ]
    }
   ],
   "source": [
    "import pandas as pd\n",
    "import numpy as np\n",
    "from sklearn.feature_selection import SelectKBest\n",
    "from sklearn.feature_selection import chi2\n",
    "\n",
    "#apply SelectKBest class to extract top 10 best features\n",
    "bestfeatures = SelectKBest(score_func=chi2, k=110)\n",
    "fit = bestfeatures.fit(x,y)\n",
    "dfscores = pd.DataFrame(fit.scores_)\n",
    "dfcolumns = pd.DataFrame(x.columns)\n",
    "#concat two dataframes for better visualization \n",
    "featureScores = pd.concat([dfcolumns,dfscores],axis=1)\n",
    "featureScores.columns = ['Specs','Score']  #naming the dataframe columns\n",
    "print(featureScores.nlargest(110,'Score'))  #print k best features"
   ]
  },
  {
   "cell_type": "code",
   "execution_count": 14,
   "metadata": {},
   "outputs": [],
   "source": [
    "X_new = bestfeatures.fit_transform(x, y)"
   ]
  },
  {
   "cell_type": "code",
   "execution_count": 15,
   "metadata": {},
   "outputs": [
    {
     "name": "stdout",
     "output_type": "stream",
     "text": [
      "(1035, 110)\n"
     ]
    }
   ],
   "source": [
    "print ( X_new.shape)"
   ]
  },
  {
   "cell_type": "code",
   "execution_count": 16,
   "metadata": {},
   "outputs": [],
   "source": [
    "from numpy import save\n",
    "save('y.npy', y)"
   ]
  },
  {
   "cell_type": "code",
   "execution_count": 17,
   "metadata": {},
   "outputs": [],
   "source": [
    "from sklearn.preprocessing import StandardScaler\n",
    "from sklearn.model_selection import train_test_split"
   ]
  },
  {
   "cell_type": "code",
   "execution_count": 18,
   "metadata": {
    "colab": {},
    "colab_type": "code",
    "id": "8jENK7AuH-92"
   },
   "outputs": [],
   "source": [
    "#Let's start by splitting our data \n",
    "X_train_val, X_test, y_train_val, y_test = train_test_split(X_new, y, test_size = 0.20, random_state = 42)\n",
    "\n",
    "\n",
    "#..and apply normalisation\n",
    "scaler = StandardScaler().fit(X_train_val)\n",
    "norm_x_train_val = scaler.transform(X_train_val)\n",
    "norm_x_test = scaler.transform(X_test)"
   ]
  },
  {
   "cell_type": "markdown",
   "metadata": {
    "colab_type": "text",
    "id": "w-mHYkMIH-98"
   },
   "source": [
    "Our neural network will have 4 neurons at the output layer each of which will output the estimated probability of the sample belonging to a class. So, let's convert our labels to **one-hot encoding** to fit to that representation.\n",
    "Example: a sample belonging to the 'violin' class is represented with 3 (integer encoded) will be represented with  [0 0 0 1]. Similarly, a 'ebclar' sample represented with with 0 will be represented with [1 0 0 0]"
   ]
  },
  {
   "cell_type": "code",
   "execution_count": 19,
   "metadata": {
    "colab": {
     "base_uri": "https://localhost:8080/",
     "height": 52
    },
    "colab_type": "code",
    "id": "2LQQDNeRH-9-",
    "outputId": "848c8901-adf2-4110-f5e3-3035bc83d6fa"
   },
   "outputs": [
    {
     "name": "stdout",
     "output_type": "stream",
     "text": [
      "One-hot encoded y_train_val shape =  (828, 9)\n",
      "One-hot encoded y_test shape =  (207, 9)\n"
     ]
    }
   ],
   "source": [
    "from sklearn.preprocessing import OneHotEncoder\n",
    "onehot_encoder = OneHotEncoder(sparse=False)\n",
    "y_train_val_onehot = onehot_encoder.fit_transform(y_train_val.reshape(len(y_train_val), 1))\n",
    "y_test_onehot = onehot_encoder.fit_transform(y_test.reshape(len(y_test), 1))\n",
    "print(\"One-hot encoded y_train_val shape = \", y_train_val_onehot.shape)\n",
    "print(\"One-hot encoded y_test shape = \", y_test_onehot.shape)"
   ]
  },
  {
   "cell_type": "markdown",
   "metadata": {
    "colab_type": "text",
    "id": "EZLW1zNWH-9_"
   },
   "source": [
    "**Let's define our deep learning architecture**"
   ]
  },
  {
   "cell_type": "code",
   "execution_count": 20,
   "metadata": {
    "colab": {},
    "colab_type": "code",
    "id": "DwoS-ycaH--A"
   },
   "outputs": [
    {
     "name": "stderr",
     "output_type": "stream",
     "text": [
      "Using TensorFlow backend.\n"
     ]
    }
   ],
   "source": [
    "from keras.models import Sequential\n",
    "from keras import layers\n",
    "\n",
    "def compose_model(num_features):\n",
    "    \n",
    "    model = Sequential()\n",
    "\n",
    "    # Input layer \n",
    "    model.add(layers.BatchNormalization(name='InputLayer', input_shape=(num_features,)))\n",
    "    \n",
    "    # 1. hidden layer\n",
    "    model.add(layers.Dense(name='HiddenLayer_1', units = 110))\n",
    "    model.add(layers.BatchNormalization())\n",
    "    model.add(layers.Activation('tanh'))\n",
    "    model.add(layers.Dropout(0.3))\n",
    "\n",
    "    # 2. hidden layyer\n",
    "    model.add(layers.Dense(name='HiddenLayer_2', units = 55))\n",
    "    model.add(layers.BatchNormalization())\n",
    "    model.add(layers.Activation('relu'))\n",
    "    model.add(layers.Dropout(0.3))\n",
    "\n",
    "    # Output layer\n",
    "    model.add(layers.Dense(name='Output_layer', units = 9))\n",
    "    model.add(layers.Activation('softmax'))\n",
    "    \n",
    "    return model\n",
    "\n",
    "model = compose_model(X_train_val.shape[1])"
   ]
  },
  {
   "cell_type": "markdown",
   "metadata": {
    "colab_type": "text",
    "id": "5ElXt45hH--C"
   },
   "source": [
    "You can have a look at the summary of the model"
   ]
  },
  {
   "cell_type": "markdown",
   "metadata": {
    "colab_type": "text",
    "id": "bQ75Lb9TH--D"
   },
   "source": [
    "Let's pick an optimizer, compile the model and train the network"
   ]
  },
  {
   "cell_type": "code",
   "execution_count": 21,
   "metadata": {
    "colab": {},
    "colab_type": "code",
    "id": "5K_wFcbXH--F"
   },
   "outputs": [],
   "source": [
    "model.compile(optimizer = 'Adam', loss = 'categorical_crossentropy', metrics = ['acc'])\n",
    "summary = model.fit(X_train_val, y_train_val_onehot, batch_size = 50, epochs = 50, validation_split=0.2, verbose=0)"
   ]
  },
  {
   "cell_type": "markdown",
   "metadata": {
    "colab_type": "text",
    "id": "RwU-eRAPH--H"
   },
   "source": [
    "Testing the trained model"
   ]
  },
  {
   "cell_type": "code",
   "execution_count": 22,
   "metadata": {
    "colab": {
     "base_uri": "https://localhost:8080/",
     "height": 52
    },
    "colab_type": "code",
    "id": "-CBE3EHiH--I",
    "outputId": "790ee9c6-9b0b-4c04-878c-4252c20edd43"
   },
   "outputs": [
    {
     "name": "stdout",
     "output_type": "stream",
     "text": [
      "Test loss: 1.3881306207698325\n",
      "Test accuracy: 0.5169082283973694\n"
     ]
    }
   ],
   "source": [
    "score = model.evaluate(X_test, y_test_onehot, verbose = 0)\n",
    "print('Test loss:', score[0])\n",
    "print('Test accuracy:', score[1])"
   ]
  },
  {
   "cell_type": "code",
   "execution_count": 23,
   "metadata": {},
   "outputs": [
    {
     "name": "stdout",
     "output_type": "stream",
     "text": [
      "946\n"
     ]
    }
   ],
   "source": [
    "import sklearn\n",
    "y=model.predict(X_test)\n",
    "print(np.argmax(y))"
   ]
  },
  {
   "cell_type": "code",
   "execution_count": 24,
   "metadata": {},
   "outputs": [],
   "source": [
    "y_pred = y.argmax(axis=1)"
   ]
  },
  {
   "cell_type": "markdown",
   "metadata": {
    "colab_type": "text",
    "id": "Yd0UP87PH--L"
   },
   "source": [
    "It is a good and common practice to check the learning curves"
   ]
  },
  {
   "cell_type": "code",
   "execution_count": 25,
   "metadata": {},
   "outputs": [
    {
     "name": "stdout",
     "output_type": "stream",
     "text": [
      "               precision    recall  f1-score   support\n",
      "\n",
      "        bar25       0.41      0.45      0.43        20\n",
      "     chillhop       0.78      0.81      0.79        31\n",
      "     defected       0.40      0.29      0.33        21\n",
      "      kompakt       0.45      0.45      0.45        20\n",
      "littlehelpers       0.67      0.78      0.72        23\n",
      "         mord       0.75      0.80      0.77        15\n",
      "    ninjatune       0.38      0.42      0.40        26\n",
      "stilvortalent       0.31      0.43      0.36        21\n",
      "        suara       0.47      0.27      0.34        30\n",
      "\n",
      "     accuracy                           0.52       207\n",
      "    macro avg       0.51      0.52      0.51       207\n",
      " weighted avg       0.52      0.52      0.51       207\n",
      "\n"
     ]
    }
   ],
   "source": [
    "from sklearn.metrics import classification_report\n",
    "target_names= ['bar25', 'chillhop', 'defected', 'kompakt','littlehelpers', 'mord', 'ninjatune', 'stilvortalent', 'suara']\n",
    "report = classification_report(y_test,y_pred, target_names=target_names, output_dict= True)\n",
    "print(classification_report(y_test,y_pred, target_names=target_names))"
   ]
  },
  {
   "cell_type": "code",
   "execution_count": 26,
   "metadata": {},
   "outputs": [
    {
     "name": "stdout",
     "output_type": "stream",
     "text": [
      "                30s_ada\n",
      "bar25          0.428571\n",
      "chillhop       0.793651\n",
      "defected       0.333333\n",
      "kompakt        0.450000\n",
      "littlehelpers  0.720000\n",
      "mord           0.774194\n",
      "ninjatune      0.400000\n",
      "stilvortalent  0.360000\n",
      "suara          0.340426\n",
      "<class 'pandas.core.frame.DataFrame'>\n"
     ]
    }
   ],
   "source": [
    "df = pd.DataFrame(report).transpose()\n",
    "df = df['f1-score']\n",
    "df = df.iloc[0:9]\n",
    "df = pd.DataFrame(df)\n",
    "df = df.rename(columns={'f1-score': '30s_ada'})\n",
    "print(df)\n",
    "#df1['RecordLabel'] = df1.index\n",
    "#print(len(df1.columns))\n",
    "\n",
    "print(type(df))"
   ]
  },
  {
   "cell_type": "markdown",
   "metadata": {},
   "source": [
    "## FCL_ABS with Bar Chart\n"
   ]
  },
  {
   "cell_type": "code",
   "execution_count": 27,
   "metadata": {},
   "outputs": [
    {
     "name": "stdout",
     "output_type": "stream",
     "text": [
      "(1035, 111)\n"
     ]
    },
    {
     "data": {
      "text/html": [
       "<div>\n",
       "<style scoped>\n",
       "    .dataframe tbody tr th:only-of-type {\n",
       "        vertical-align: middle;\n",
       "    }\n",
       "\n",
       "    .dataframe tbody tr th {\n",
       "        vertical-align: top;\n",
       "    }\n",
       "\n",
       "    .dataframe thead th {\n",
       "        text-align: right;\n",
       "    }\n",
       "</style>\n",
       "<table border=\"1\" class=\"dataframe\">\n",
       "  <thead>\n",
       "    <tr style=\"text-align: right;\">\n",
       "      <th></th>\n",
       "      <th>average_loudness</th>\n",
       "      <th>barkbands_crest.mean</th>\n",
       "      <th>barkbands_crest.stdev</th>\n",
       "      <th>barkbands_flatness_db.mean</th>\n",
       "      <th>barkbands_flatness_db.stdev</th>\n",
       "      <th>barkbands_kurtosis.mean</th>\n",
       "      <th>barkbands_kurtosis.stdev</th>\n",
       "      <th>barkbands_skewness.mean</th>\n",
       "      <th>barkbands_skewness.stdev</th>\n",
       "      <th>barkbands_spread.mean</th>\n",
       "      <th>...</th>\n",
       "      <th>tonal.hpcp_entropy.mean</th>\n",
       "      <th>tonal.hpcp_entropy.stdev</th>\n",
       "      <th>tonal.key_edma.strength</th>\n",
       "      <th>tonal.key_krumhansl.strength</th>\n",
       "      <th>tonal.key_temperley.strength</th>\n",
       "      <th>tonal.tuning_diatonic_strength</th>\n",
       "      <th>tonal.tuning_equal_tempered_deviation</th>\n",
       "      <th>tonal.tuning_frequency</th>\n",
       "      <th>tonal.tuning_nontempered_energy_ratio</th>\n",
       "      <th>label</th>\n",
       "    </tr>\n",
       "  </thead>\n",
       "  <tbody>\n",
       "    <tr>\n",
       "      <th>0</th>\n",
       "      <td>0.985963</td>\n",
       "      <td>16.988277</td>\n",
       "      <td>6.152028</td>\n",
       "      <td>0.234508</td>\n",
       "      <td>0.104749</td>\n",
       "      <td>54.934834</td>\n",
       "      <td>111.080116</td>\n",
       "      <td>4.672720</td>\n",
       "      <td>4.311407</td>\n",
       "      <td>22.171335</td>\n",
       "      <td>...</td>\n",
       "      <td>1.935214</td>\n",
       "      <td>0.825875</td>\n",
       "      <td>0.671964</td>\n",
       "      <td>0.650649</td>\n",
       "      <td>0.601438</td>\n",
       "      <td>0.614866</td>\n",
       "      <td>0.230020</td>\n",
       "      <td>434.193115</td>\n",
       "      <td>0.894006</td>\n",
       "      <td>suaraarchive</td>\n",
       "    </tr>\n",
       "    <tr>\n",
       "      <th>1</th>\n",
       "      <td>0.981879</td>\n",
       "      <td>16.154875</td>\n",
       "      <td>7.029408</td>\n",
       "      <td>0.248749</td>\n",
       "      <td>0.129977</td>\n",
       "      <td>139.366715</td>\n",
       "      <td>373.698608</td>\n",
       "      <td>6.428804</td>\n",
       "      <td>7.328341</td>\n",
       "      <td>24.018057</td>\n",
       "      <td>...</td>\n",
       "      <td>2.261895</td>\n",
       "      <td>0.816613</td>\n",
       "      <td>0.467872</td>\n",
       "      <td>0.477233</td>\n",
       "      <td>0.485559</td>\n",
       "      <td>0.560867</td>\n",
       "      <td>0.263837</td>\n",
       "      <td>434.193115</td>\n",
       "      <td>0.917605</td>\n",
       "      <td>suaraarchive</td>\n",
       "    </tr>\n",
       "    <tr>\n",
       "      <th>2</th>\n",
       "      <td>0.987341</td>\n",
       "      <td>17.704046</td>\n",
       "      <td>5.994382</td>\n",
       "      <td>0.221113</td>\n",
       "      <td>0.102747</td>\n",
       "      <td>61.243366</td>\n",
       "      <td>91.167221</td>\n",
       "      <td>5.480647</td>\n",
       "      <td>4.225255</td>\n",
       "      <td>16.820066</td>\n",
       "      <td>...</td>\n",
       "      <td>2.214764</td>\n",
       "      <td>0.626813</td>\n",
       "      <td>0.407111</td>\n",
       "      <td>0.422130</td>\n",
       "      <td>0.442967</td>\n",
       "      <td>0.613699</td>\n",
       "      <td>0.240900</td>\n",
       "      <td>434.193115</td>\n",
       "      <td>0.956878</td>\n",
       "      <td>suaraarchive</td>\n",
       "    </tr>\n",
       "    <tr>\n",
       "      <th>3</th>\n",
       "      <td>0.988173</td>\n",
       "      <td>18.196672</td>\n",
       "      <td>5.676707</td>\n",
       "      <td>0.250346</td>\n",
       "      <td>0.116325</td>\n",
       "      <td>131.642410</td>\n",
       "      <td>197.429703</td>\n",
       "      <td>7.458259</td>\n",
       "      <td>6.250255</td>\n",
       "      <td>25.070768</td>\n",
       "      <td>...</td>\n",
       "      <td>2.151182</td>\n",
       "      <td>0.751411</td>\n",
       "      <td>0.538804</td>\n",
       "      <td>0.536238</td>\n",
       "      <td>0.531833</td>\n",
       "      <td>0.583113</td>\n",
       "      <td>0.253850</td>\n",
       "      <td>434.193115</td>\n",
       "      <td>0.934906</td>\n",
       "      <td>suaraarchive</td>\n",
       "    </tr>\n",
       "    <tr>\n",
       "      <th>4</th>\n",
       "      <td>0.974610</td>\n",
       "      <td>16.868780</td>\n",
       "      <td>5.965635</td>\n",
       "      <td>0.272079</td>\n",
       "      <td>0.128965</td>\n",
       "      <td>67.502502</td>\n",
       "      <td>97.909622</td>\n",
       "      <td>5.588888</td>\n",
       "      <td>4.365337</td>\n",
       "      <td>18.521112</td>\n",
       "      <td>...</td>\n",
       "      <td>2.586561</td>\n",
       "      <td>0.888847</td>\n",
       "      <td>0.626011</td>\n",
       "      <td>0.628222</td>\n",
       "      <td>0.619442</td>\n",
       "      <td>0.556919</td>\n",
       "      <td>0.238008</td>\n",
       "      <td>434.193115</td>\n",
       "      <td>0.894724</td>\n",
       "      <td>suaraarchive</td>\n",
       "    </tr>\n",
       "  </tbody>\n",
       "</table>\n",
       "<p>5 rows × 111 columns</p>\n",
       "</div>"
      ],
      "text/plain": [
       "   average_loudness  barkbands_crest.mean  barkbands_crest.stdev  \\\n",
       "0          0.985963             16.988277               6.152028   \n",
       "1          0.981879             16.154875               7.029408   \n",
       "2          0.987341             17.704046               5.994382   \n",
       "3          0.988173             18.196672               5.676707   \n",
       "4          0.974610             16.868780               5.965635   \n",
       "\n",
       "   barkbands_flatness_db.mean  barkbands_flatness_db.stdev  \\\n",
       "0                    0.234508                     0.104749   \n",
       "1                    0.248749                     0.129977   \n",
       "2                    0.221113                     0.102747   \n",
       "3                    0.250346                     0.116325   \n",
       "4                    0.272079                     0.128965   \n",
       "\n",
       "   barkbands_kurtosis.mean  barkbands_kurtosis.stdev  barkbands_skewness.mean  \\\n",
       "0                54.934834                111.080116                 4.672720   \n",
       "1               139.366715                373.698608                 6.428804   \n",
       "2                61.243366                 91.167221                 5.480647   \n",
       "3               131.642410                197.429703                 7.458259   \n",
       "4                67.502502                 97.909622                 5.588888   \n",
       "\n",
       "   barkbands_skewness.stdev  barkbands_spread.mean  ...  \\\n",
       "0                  4.311407              22.171335  ...   \n",
       "1                  7.328341              24.018057  ...   \n",
       "2                  4.225255              16.820066  ...   \n",
       "3                  6.250255              25.070768  ...   \n",
       "4                  4.365337              18.521112  ...   \n",
       "\n",
       "   tonal.hpcp_entropy.mean  tonal.hpcp_entropy.stdev  tonal.key_edma.strength  \\\n",
       "0                 1.935214                  0.825875                 0.671964   \n",
       "1                 2.261895                  0.816613                 0.467872   \n",
       "2                 2.214764                  0.626813                 0.407111   \n",
       "3                 2.151182                  0.751411                 0.538804   \n",
       "4                 2.586561                  0.888847                 0.626011   \n",
       "\n",
       "   tonal.key_krumhansl.strength  tonal.key_temperley.strength  \\\n",
       "0                      0.650649                      0.601438   \n",
       "1                      0.477233                      0.485559   \n",
       "2                      0.422130                      0.442967   \n",
       "3                      0.536238                      0.531833   \n",
       "4                      0.628222                      0.619442   \n",
       "\n",
       "   tonal.tuning_diatonic_strength  tonal.tuning_equal_tempered_deviation  \\\n",
       "0                        0.614866                               0.230020   \n",
       "1                        0.560867                               0.263837   \n",
       "2                        0.613699                               0.240900   \n",
       "3                        0.583113                               0.253850   \n",
       "4                        0.556919                               0.238008   \n",
       "\n",
       "   tonal.tuning_frequency  tonal.tuning_nontempered_energy_ratio         label  \n",
       "0              434.193115                               0.894006  suaraarchive  \n",
       "1              434.193115                               0.917605  suaraarchive  \n",
       "2              434.193115                               0.956878  suaraarchive  \n",
       "3              434.193115                               0.934906  suaraarchive  \n",
       "4              434.193115                               0.894724  suaraarchive  \n",
       "\n",
       "[5 rows x 111 columns]"
      ]
     },
     "execution_count": 27,
     "metadata": {},
     "output_type": "execute_result"
    }
   ],
   "source": [
    "#Read \n",
    "file = 'ada_vs_abs/data_30s_abs.csv'\n",
    "data = pd.read_csv(file)\n",
    "#Let's see the first lines of our data\n",
    "print(data.shape)\n",
    "data.head()"
   ]
  },
  {
   "cell_type": "code",
   "execution_count": 28,
   "metadata": {},
   "outputs": [],
   "source": [
    "data_modif = data.copy()\n",
    "#Let's use sklearn's preprocessing tools for applying normalisation to features\n",
    "from sklearn import preprocessing\n",
    "min_max_scaler = preprocessing.MinMaxScaler()\n",
    "data_modif.iloc[:,:110] = min_max_scaler.fit_transform(data.iloc[:,:110].values)"
   ]
  },
  {
   "cell_type": "code",
   "execution_count": 29,
   "metadata": {},
   "outputs": [
    {
     "name": "stdout",
     "output_type": "stream",
     "text": [
      "Features of the first sample:  [[0.99580082 0.62858924 0.62376039 ... 0.49492942 0.11818908 0.7531477 ]\n",
      " [0.99166978 0.57740937 0.76054089 ... 0.56782885 0.11818908 0.80897225]\n",
      " [0.99719478 0.67254514 0.599184   ... 0.518384   0.11818908 0.90187227]\n",
      " ...\n",
      " [0.98624355 0.56612256 0.5483726  ... 0.38825126 0.20736905 0.65730876]\n",
      " [0.98084167 0.59086628 0.57181089 ... 0.67647132 0.11818908 0.93065097]\n",
      " [0.99565998 0.70336201 0.73198501 ... 0.44058589 0.11818908 0.79975125]]\n",
      "Class of the first sample:  8\n"
     ]
    }
   ],
   "source": [
    "#input values put in a matrix, there are 110 features\n",
    "x = data_modif.iloc[:,:110]\n",
    "#Creating output values\n",
    "data_modif.label = pd.Categorical(data_modif.label)#convert to categorical data\n",
    "y = np.array(data_modif.label.cat.codes) #create label encoded outputs\n",
    "#Print the first sample\n",
    "print(\"Features of the first sample: \", x.values)\n",
    "print(\"Class of the first sample: \", y[0])"
   ]
  },
  {
   "cell_type": "code",
   "execution_count": 30,
   "metadata": {},
   "outputs": [
    {
     "name": "stdout",
     "output_type": "stream",
     "text": [
      "                                     Specs      Score\n",
      "49                 silence_rate_60dB.stdev  52.904380\n",
      "75                  spectral_rolloff.stdev  32.915049\n",
      "41                   melbands_spread.stdev  32.887092\n",
      "21                 erbbands_skewness.stdev  31.174851\n",
      "10                  barkbands_spread.stdev  27.826430\n",
      "..                                     ...        ...\n",
      "89  rhythm.bpm_histogram_first_peak_weight   1.624347\n",
      "65    spectral_energyband_middle_low.stdev   1.507741\n",
      "30         loudness_ebu128.short_term.mean   1.433258\n",
      "0                         average_loudness   0.856595\n",
      "44                  silence_rate_20dB.mean   0.251267\n",
      "\n",
      "[110 rows x 2 columns]\n"
     ]
    }
   ],
   "source": [
    "import pandas as pd\n",
    "import numpy as np\n",
    "from sklearn.feature_selection import SelectKBest\n",
    "from sklearn.feature_selection import chi2\n",
    "\n",
    "#apply SelectKBest class to extract top 10 best features\n",
    "bestfeatures = SelectKBest(score_func=chi2, k=110)\n",
    "fit = bestfeatures.fit(x,y)\n",
    "dfscores = pd.DataFrame(fit.scores_)\n",
    "dfcolumns = pd.DataFrame(x.columns)\n",
    "#concat two dataframes for better visualization \n",
    "featureScores = pd.concat([dfcolumns,dfscores],axis=1)\n",
    "featureScores.columns = ['Specs','Score']  #naming the dataframe columns\n",
    "print(featureScores.nlargest(110,'Score'))  #print k best features"
   ]
  },
  {
   "cell_type": "code",
   "execution_count": 31,
   "metadata": {},
   "outputs": [],
   "source": [
    "X_new = bestfeatures.fit_transform(x, y)"
   ]
  },
  {
   "cell_type": "code",
   "execution_count": 32,
   "metadata": {},
   "outputs": [],
   "source": [
    "#Let's start by splitting our data \n",
    "X_train_val, X_test, y_train_val, y_test = train_test_split(X_new, y, test_size = 0.20, random_state = 42)\n",
    "\n",
    "\n",
    "#..and apply normalisation\n",
    "scaler = StandardScaler().fit(X_train_val)\n",
    "norm_x_train_val = scaler.transform(X_train_val)\n",
    "norm_x_test = scaler.transform(X_test)"
   ]
  },
  {
   "cell_type": "code",
   "execution_count": 33,
   "metadata": {},
   "outputs": [
    {
     "name": "stdout",
     "output_type": "stream",
     "text": [
      "One-hot encoded y_train_val shape =  (828, 9)\n",
      "One-hot encoded y_test shape =  (207, 9)\n"
     ]
    }
   ],
   "source": [
    "from sklearn.preprocessing import OneHotEncoder\n",
    "onehot_encoder = OneHotEncoder(sparse=False)\n",
    "y_train_val_onehot = onehot_encoder.fit_transform(y_train_val.reshape(len(y_train_val), 1))\n",
    "y_test_onehot = onehot_encoder.fit_transform(y_test.reshape(len(y_test), 1))\n",
    "print(\"One-hot encoded y_train_val shape = \", y_train_val_onehot.shape)\n",
    "print(\"One-hot encoded y_test shape = \", y_test_onehot.shape)"
   ]
  },
  {
   "cell_type": "code",
   "execution_count": 34,
   "metadata": {},
   "outputs": [],
   "source": [
    "from keras.models import Sequential\n",
    "from keras import layers\n",
    "\n",
    "def compose_model(num_features):\n",
    "    \n",
    "    model = Sequential()\n",
    "\n",
    "    # Input layer \n",
    "    model.add(layers.BatchNormalization(name='InputLayer', input_shape=(num_features,)))\n",
    "    \n",
    "    # 1. hidden layer\n",
    "    model.add(layers.Dense(name='HiddenLayer_1', units = 110))\n",
    "    model.add(layers.BatchNormalization())\n",
    "    model.add(layers.Activation('tanh'))\n",
    "    model.add(layers.Dropout(0.3))\n",
    "\n",
    "    # 2. hidden layyer\n",
    "    model.add(layers.Dense(name='HiddenLayer_2', units = 55))\n",
    "    model.add(layers.BatchNormalization())\n",
    "    model.add(layers.Activation('relu'))\n",
    "    model.add(layers.Dropout(0.3))\n",
    "\n",
    "    # Output layer\n",
    "    model.add(layers.Dense(name='Output_layer', units = 9))\n",
    "    model.add(layers.Activation('softmax'))\n",
    "    \n",
    "    return model\n",
    "\n",
    "model = compose_model(X_train_val.shape[1])"
   ]
  },
  {
   "cell_type": "code",
   "execution_count": 35,
   "metadata": {},
   "outputs": [],
   "source": [
    "model.compile(optimizer = 'Adam', loss = 'categorical_crossentropy', metrics = ['acc'])\n",
    "summary = model.fit(X_train_val, y_train_val_onehot, batch_size = 50, epochs = 50, validation_split=0.2, verbose=0)"
   ]
  },
  {
   "cell_type": "code",
   "execution_count": 36,
   "metadata": {},
   "outputs": [
    {
     "name": "stdout",
     "output_type": "stream",
     "text": [
      "Test loss: 1.4073197432762183\n",
      "Test accuracy: 0.5072463750839233\n"
     ]
    }
   ],
   "source": [
    "score = model.evaluate(X_test, y_test_onehot, verbose = 0)\n",
    "print('Test loss:', score[0])\n",
    "print('Test accuracy:', score[1])"
   ]
  },
  {
   "cell_type": "code",
   "execution_count": 37,
   "metadata": {},
   "outputs": [
    {
     "name": "stdout",
     "output_type": "stream",
     "text": [
      "1810\n"
     ]
    }
   ],
   "source": [
    "import sklearn\n",
    "y=model.predict(X_test)\n",
    "print(np.argmax(y))"
   ]
  },
  {
   "cell_type": "code",
   "execution_count": 38,
   "metadata": {},
   "outputs": [],
   "source": [
    "y_pred = y.argmax(axis=1)"
   ]
  },
  {
   "cell_type": "code",
   "execution_count": 39,
   "metadata": {},
   "outputs": [
    {
     "name": "stdout",
     "output_type": "stream",
     "text": [
      "               precision    recall  f1-score   support\n",
      "\n",
      "        bar25       0.55      0.52      0.54        21\n",
      "     chillhop       0.72      0.91      0.81        23\n",
      "     defected       0.48      0.32      0.38        31\n",
      "      kompakt       0.43      0.50      0.47        20\n",
      "littlehelpers       0.71      0.65      0.68        26\n",
      "         mord       0.57      0.80      0.67        15\n",
      "    ninjatune       0.37      0.50      0.43        20\n",
      "stilvortalent       0.31      0.38      0.34        21\n",
      "        suara       0.38      0.20      0.26        30\n",
      "\n",
      "     accuracy                           0.51       207\n",
      "    macro avg       0.50      0.53      0.51       207\n",
      " weighted avg       0.50      0.51      0.49       207\n",
      "\n"
     ]
    }
   ],
   "source": [
    "from sklearn.metrics import classification_report\n",
    "target_names= ['bar25', 'chillhop', 'defected', 'kompakt','littlehelpers', 'mord', 'ninjatune', 'stilvortalent', 'suara']\n",
    "report1 = classification_report(y_test,y_pred, target_names=target_names, output_dict= True)\n",
    "print(classification_report(y_test,y_pred, target_names=target_names))"
   ]
  },
  {
   "cell_type": "code",
   "execution_count": 40,
   "metadata": {},
   "outputs": [
    {
     "name": "stdout",
     "output_type": "stream",
     "text": [
      "<class 'pandas.core.frame.DataFrame'>\n",
      "                30s_abs\n",
      "bar25          0.536585\n",
      "chillhop       0.807692\n",
      "defected       0.384615\n",
      "kompakt        0.465116\n",
      "littlehelpers  0.680000\n",
      "mord           0.666667\n",
      "ninjatune      0.425532\n",
      "stilvortalent  0.340426\n",
      "suara          0.260870\n",
      "<class 'pandas.core.frame.DataFrame'>\n"
     ]
    }
   ],
   "source": [
    "df1 = pd.DataFrame(report1).transpose()\n",
    "print(type(df1))\n",
    "df1 = df1['f1-score']\n",
    "df1 = df1.iloc[0:9]\n",
    "df1 = pd.DataFrame(df1)\n",
    "df1 = df1.rename(columns={'f1-score': '30s_abs'})\n",
    "print(df1)\n",
    "#df1['RecordLabel'] = df1.index\n",
    "#print(len(df1.columns))\n",
    "\n",
    "print(type(df1))"
   ]
  },
  {
   "cell_type": "code",
   "execution_count": 41,
   "metadata": {},
   "outputs": [
    {
     "name": "stdout",
     "output_type": "stream",
     "text": [
      "                30s_ada   30s_abs\n",
      "bar25          0.428571  0.536585\n",
      "chillhop       0.793651  0.807692\n",
      "defected       0.333333  0.384615\n",
      "kompakt        0.450000  0.465116\n",
      "littlehelpers  0.720000  0.680000\n",
      "mord           0.774194  0.666667\n",
      "ninjatune      0.400000  0.425532\n",
      "stilvortalent  0.360000  0.340426\n",
      "suara          0.340426  0.260870\n"
     ]
    }
   ],
   "source": [
    "df_tot = pd.concat([df, df1], axis=1, sort=False)\n",
    "print(df_tot)"
   ]
  },
  {
   "cell_type": "code",
   "execution_count": 42,
   "metadata": {},
   "outputs": [
    {
     "name": "stdout",
     "output_type": "stream",
     "text": [
      "bar25          30s_ada    0.428571\n",
      "               30s_abs    0.536585\n",
      "chillhop       30s_ada    0.793651\n",
      "               30s_abs    0.807692\n",
      "defected       30s_ada    0.333333\n",
      "               30s_abs    0.384615\n",
      "kompakt        30s_ada    0.450000\n",
      "               30s_abs    0.465116\n",
      "littlehelpers  30s_ada    0.720000\n",
      "               30s_abs    0.680000\n",
      "mord           30s_ada    0.774194\n",
      "               30s_abs    0.666667\n",
      "ninjatune      30s_ada    0.400000\n",
      "               30s_abs    0.425532\n",
      "stilvortalent  30s_ada    0.360000\n",
      "               30s_abs    0.340426\n",
      "suara          30s_ada    0.340426\n",
      "               30s_abs    0.260870\n",
      "dtype: float64\n"
     ]
    }
   ],
   "source": [
    "df_tot = df_tot.stack(level=0)\n",
    "print(df_tot)"
   ]
  },
  {
   "cell_type": "code",
   "execution_count": 43,
   "metadata": {},
   "outputs": [
    {
     "name": "stdout",
     "output_type": "stream",
     "text": [
      "<class 'pandas.core.frame.DataFrame'>\n",
      "                              0\n",
      "bar25         30s_ada  0.428571\n",
      "              30s_abs  0.536585\n",
      "chillhop      30s_ada  0.793651\n",
      "              30s_abs  0.807692\n",
      "defected      30s_ada  0.333333\n",
      "              30s_abs  0.384615\n",
      "kompakt       30s_ada  0.450000\n",
      "              30s_abs  0.465116\n",
      "littlehelpers 30s_ada  0.720000\n",
      "              30s_abs  0.680000\n",
      "mord          30s_ada  0.774194\n",
      "              30s_abs  0.666667\n",
      "ninjatune     30s_ada  0.400000\n",
      "              30s_abs  0.425532\n",
      "stilvortalent 30s_ada  0.360000\n",
      "              30s_abs  0.340426\n",
      "suara         30s_ada  0.340426\n",
      "              30s_abs  0.260870\n"
     ]
    }
   ],
   "source": [
    "df_tot = pd.DataFrame(df_tot)\n",
    "print(type(df_tot))\n",
    "print(df_tot)"
   ]
  },
  {
   "cell_type": "code",
   "execution_count": 44,
   "metadata": {},
   "outputs": [
    {
     "data": {
      "text/html": [
       "<div>\n",
       "<style scoped>\n",
       "    .dataframe tbody tr th:only-of-type {\n",
       "        vertical-align: middle;\n",
       "    }\n",
       "\n",
       "    .dataframe tbody tr th {\n",
       "        vertical-align: top;\n",
       "    }\n",
       "\n",
       "    .dataframe thead th {\n",
       "        text-align: right;\n",
       "    }\n",
       "</style>\n",
       "<table border=\"1\" class=\"dataframe\">\n",
       "  <thead>\n",
       "    <tr style=\"text-align: right;\">\n",
       "      <th></th>\n",
       "      <th>level_0</th>\n",
       "      <th>level_1</th>\n",
       "      <th>0</th>\n",
       "    </tr>\n",
       "  </thead>\n",
       "  <tbody>\n",
       "    <tr>\n",
       "      <th>0</th>\n",
       "      <td>bar25</td>\n",
       "      <td>30s_ada</td>\n",
       "      <td>0.428571</td>\n",
       "    </tr>\n",
       "    <tr>\n",
       "      <th>1</th>\n",
       "      <td>bar25</td>\n",
       "      <td>30s_abs</td>\n",
       "      <td>0.536585</td>\n",
       "    </tr>\n",
       "    <tr>\n",
       "      <th>2</th>\n",
       "      <td>chillhop</td>\n",
       "      <td>30s_ada</td>\n",
       "      <td>0.793651</td>\n",
       "    </tr>\n",
       "    <tr>\n",
       "      <th>3</th>\n",
       "      <td>chillhop</td>\n",
       "      <td>30s_abs</td>\n",
       "      <td>0.807692</td>\n",
       "    </tr>\n",
       "    <tr>\n",
       "      <th>4</th>\n",
       "      <td>defected</td>\n",
       "      <td>30s_ada</td>\n",
       "      <td>0.333333</td>\n",
       "    </tr>\n",
       "    <tr>\n",
       "      <th>5</th>\n",
       "      <td>defected</td>\n",
       "      <td>30s_abs</td>\n",
       "      <td>0.384615</td>\n",
       "    </tr>\n",
       "    <tr>\n",
       "      <th>6</th>\n",
       "      <td>kompakt</td>\n",
       "      <td>30s_ada</td>\n",
       "      <td>0.450000</td>\n",
       "    </tr>\n",
       "    <tr>\n",
       "      <th>7</th>\n",
       "      <td>kompakt</td>\n",
       "      <td>30s_abs</td>\n",
       "      <td>0.465116</td>\n",
       "    </tr>\n",
       "    <tr>\n",
       "      <th>8</th>\n",
       "      <td>littlehelpers</td>\n",
       "      <td>30s_ada</td>\n",
       "      <td>0.720000</td>\n",
       "    </tr>\n",
       "    <tr>\n",
       "      <th>9</th>\n",
       "      <td>littlehelpers</td>\n",
       "      <td>30s_abs</td>\n",
       "      <td>0.680000</td>\n",
       "    </tr>\n",
       "    <tr>\n",
       "      <th>10</th>\n",
       "      <td>mord</td>\n",
       "      <td>30s_ada</td>\n",
       "      <td>0.774194</td>\n",
       "    </tr>\n",
       "    <tr>\n",
       "      <th>11</th>\n",
       "      <td>mord</td>\n",
       "      <td>30s_abs</td>\n",
       "      <td>0.666667</td>\n",
       "    </tr>\n",
       "    <tr>\n",
       "      <th>12</th>\n",
       "      <td>ninjatune</td>\n",
       "      <td>30s_ada</td>\n",
       "      <td>0.400000</td>\n",
       "    </tr>\n",
       "    <tr>\n",
       "      <th>13</th>\n",
       "      <td>ninjatune</td>\n",
       "      <td>30s_abs</td>\n",
       "      <td>0.425532</td>\n",
       "    </tr>\n",
       "    <tr>\n",
       "      <th>14</th>\n",
       "      <td>stilvortalent</td>\n",
       "      <td>30s_ada</td>\n",
       "      <td>0.360000</td>\n",
       "    </tr>\n",
       "    <tr>\n",
       "      <th>15</th>\n",
       "      <td>stilvortalent</td>\n",
       "      <td>30s_abs</td>\n",
       "      <td>0.340426</td>\n",
       "    </tr>\n",
       "    <tr>\n",
       "      <th>16</th>\n",
       "      <td>suara</td>\n",
       "      <td>30s_ada</td>\n",
       "      <td>0.340426</td>\n",
       "    </tr>\n",
       "    <tr>\n",
       "      <th>17</th>\n",
       "      <td>suara</td>\n",
       "      <td>30s_abs</td>\n",
       "      <td>0.260870</td>\n",
       "    </tr>\n",
       "  </tbody>\n",
       "</table>\n",
       "</div>"
      ],
      "text/plain": [
       "          level_0  level_1         0\n",
       "0           bar25  30s_ada  0.428571\n",
       "1           bar25  30s_abs  0.536585\n",
       "2        chillhop  30s_ada  0.793651\n",
       "3        chillhop  30s_abs  0.807692\n",
       "4        defected  30s_ada  0.333333\n",
       "5        defected  30s_abs  0.384615\n",
       "6         kompakt  30s_ada  0.450000\n",
       "7         kompakt  30s_abs  0.465116\n",
       "8   littlehelpers  30s_ada  0.720000\n",
       "9   littlehelpers  30s_abs  0.680000\n",
       "10           mord  30s_ada  0.774194\n",
       "11           mord  30s_abs  0.666667\n",
       "12      ninjatune  30s_ada  0.400000\n",
       "13      ninjatune  30s_abs  0.425532\n",
       "14  stilvortalent  30s_ada  0.360000\n",
       "15  stilvortalent  30s_abs  0.340426\n",
       "16          suara  30s_ada  0.340426\n",
       "17          suara  30s_abs  0.260870"
      ]
     },
     "execution_count": 44,
     "metadata": {},
     "output_type": "execute_result"
    }
   ],
   "source": [
    "df_tot.reset_index(inplace=True)\n",
    "df_tot"
   ]
  },
  {
   "cell_type": "code",
   "execution_count": 45,
   "metadata": {},
   "outputs": [
    {
     "name": "stdout",
     "output_type": "stream",
     "text": [
      "     Record Label Excerpt_Type  f1-score\n",
      "0           bar25      30s_ada  0.428571\n",
      "1           bar25      30s_abs  0.536585\n",
      "2        chillhop      30s_ada  0.793651\n",
      "3        chillhop      30s_abs  0.807692\n",
      "4        defected      30s_ada  0.333333\n",
      "5        defected      30s_abs  0.384615\n",
      "6         kompakt      30s_ada  0.450000\n",
      "7         kompakt      30s_abs  0.465116\n",
      "8   littlehelpers      30s_ada  0.720000\n",
      "9   littlehelpers      30s_abs  0.680000\n",
      "10           mord      30s_ada  0.774194\n",
      "11           mord      30s_abs  0.666667\n",
      "12      ninjatune      30s_ada  0.400000\n",
      "13      ninjatune      30s_abs  0.425532\n",
      "14  stilvortalent      30s_ada  0.360000\n",
      "15  stilvortalent      30s_abs  0.340426\n",
      "16          suara      30s_ada  0.340426\n",
      "17          suara      30s_abs  0.260870\n"
     ]
    }
   ],
   "source": [
    "df_tot = df_tot.rename(columns={'level_0': 'Record Label', 'level_1':'Excerpt_Type', '0': 'f1-score'}) \n",
    "df_tot.columns.values[2] = \"f1-score\" \n",
    "print((df_tot))"
   ]
  },
  {
   "cell_type": "code",
   "execution_count": 46,
   "metadata": {},
   "outputs": [
    {
     "data": {
      "image/png": "[encoded data removed]",
      "text/plain": [
       "<Figure size 1008x504 with 1 Axes>"
      ]
     },
     "metadata": {},
     "output_type": "display_data"
    }
   ],
   "source": [
    "sns.set()\n",
    "plt.figure(figsize = (14,7))\n",
    " \n",
    "sns.barplot(data=df_tot,x='Record Label', y='f1-score', hue = 'Excerpt_Type', palette = 'magma')\n",
    " \n",
    "plt.title(\"Adaptive vs Absolute F1-score for FCL for 30s Excerpts\", fontsize = 20)\n",
    "plt.xlabel(\"Record Label\", fontsize = 15)\n",
    "plt.ylabel(\"f1-score\", fontsize = 15)\n",
    " \n",
    "plt.savefig(\"Adaptive vs Absolute F1-score for FCL for 30s Excerpts\")\n",
    "plt.show()"
   ]
  }
 ],
 "metadata": {
  "colab": {
   "collapsed_sections": [],
   "name": "Lecture1_IntroWithACaseStudy.ipynb",
   "provenance": []
  },
  "kernelspec": {
   "display_name": "Python 3",
   "language": "python",
   "name": "python3"
  },
  "language_info": {
   "codemirror_mode": {
    "name": "ipython",
    "version": 3
   },
   "file_extension": ".py",
   "mimetype": "text/x-python",
   "name": "python",
   "nbconvert_exporter": "python",
   "pygments_lexer": "ipython3",
   "version": "3.6.9"
  }
 },
 "nbformat": 4,
 "nbformat_minor": 1
}
