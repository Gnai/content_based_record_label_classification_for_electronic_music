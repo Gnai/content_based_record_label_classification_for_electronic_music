{
 "cells": [
  {
   "cell_type": "code",
   "execution_count": 2,
   "metadata": {},
   "outputs": [],
   "source": [
    "#Basic imports\n",
    "import os\n",
    "import matplotlib.pyplot as plt\n",
    "import PIL\n",
    "import essentia.standard as ess\n",
    "import essentia\n",
    "import numpy as np\n",
    "import IPython.display as ipd\n",
    "from random import randint"
   ]
  },
  {
   "cell_type": "code",
   "execution_count": 5,
   "metadata": {},
   "outputs": [
    {
     "name": "stdout",
     "output_type": "stream",
     "text": [
      "suaraarchive  songs  568\n",
      "mordarchive  songs  384\n",
      "defectedarchive  songs  1485\n",
      "stilvortalentarchive  songs  561\n",
      "bar25archive  songs  412\n",
      "littlehelpersarchive  songs  350\n",
      "kompaktarchive  songs  298\n"
     ]
    }
   ],
   "source": [
    "count = 0\n",
    "count_songs = 0\n",
    "labels = []\n",
    "labels_dict = dict()\n",
    "\n",
    "\n",
    "# iterate over directories in '../../'\n",
    "# each directory is a label\n",
    "# store the in labels variable\n",
    "for root, dirs, files in os.walk ('../gnaimeh/boc_60s/'):\n",
    "    count += 1\n",
    "    if count==1:\n",
    "        labels = [label for label in dirs if not label.startswith('.')]\n",
    "    else:\n",
    "        break\n",
    "\n",
    "for l in labels:\n",
    "    # count the number of songs in labels directories\n",
    "    # file is considered to be song if it ends with .mp3 and doesn't\n",
    "    # start with .\n",
    "    count_songs = 0\n",
    "    for root, dirs, files in os.walk('../gnaimeh/boc_60s/'+l):\n",
    "        for file in files:\n",
    "            if file.endswith('c3.mp3'):\n",
    "                count_songs += 1\n",
    "\n",
    "    # store label and it's count in labels_dict[\"name\"] and\n",
    "    # labels_dict[\"number_songs\"] lists\n",
    "    print(l, \" songs \", count_songs)\n",
    "    if \"name\" in labels_dict:\n",
    "        labels_dict[\"name\"].append(l)\n",
    "        labels_dict['number_songs'].append(count_songs)\n",
    "    else:\n",
    "        labels_dict[\"name\"] = [l]\n",
    "        labels_dict[\"number_songs\"] = [count_songs]"
   ]
  },
  {
   "cell_type": "code",
   "execution_count": 6,
   "metadata": {},
   "outputs": [
    {
     "name": "stdout",
     "output_type": "stream",
     "text": [
      "Directory  ../gnaimeh/unbalanced_1mn_only/  Created \n"
     ]
    }
   ],
   "source": [
    "img_dir_name = '../gnaimeh/unbalanced_1mn_only/'\n",
    "\n",
    "if not os.path.exists(img_dir_name):\n",
    "    os.mkdir(img_dir_name)\n",
    "    print(\"Directory \", img_dir_name, \" Created \")\n",
    "else:\n",
    "    print(\"Directory \", img_dir_name, \" already exists\")"
   ]
  },
  {
   "cell_type": "code",
   "execution_count": 28,
   "metadata": {},
   "outputs": [
    {
     "name": "stdout",
     "output_type": "stream",
     "text": [
      "Directory  ../gnaimeh/unbalanced_1mn_only/  already exists\n",
      "Directory  ../gnaimeh/unbalanced_1mn_only/train  already exists\n",
      "Directory  ../gnaimeh/unbalanced_1mn_only/test  already exists\n"
     ]
    }
   ],
   "source": [
    "minute_1_folder = '../gnaimeh/unbalanced_1mn_only/'\n",
    "if not os.path.exists(minute_1_folder):\n",
    "    os.mkdir(minute_1_folder)\n",
    "    print(\"Directory \", minute_1_folder, \" Created \")\n",
    "else:\n",
    "    print(\"Directory \", minute_1_folder, \" already exists\")\n",
    " \n",
    "\n",
    "minute_1_folder_train = '../gnaimeh/unbalanced_1mn_only/train'\n",
    "if not os.path.exists(minute_1_folder_train):\n",
    "    os.mkdir(minute_1_folder_train)\n",
    "    print(\"Directory \", minute_1_folder_train, \" Created \")\n",
    "else:\n",
    "    print(\"Directory \", minute_1_folder_train, \" already exists\")\n",
    "    \n",
    "    \n",
    "minute_1_folder_test = '../gnaimeh/unbalanced_1mn_only/test'\n",
    "if not os.path.exists(minute_1_folder_test):\n",
    "    os.mkdir(minute_1_folder_test)\n",
    "    print(\"Directory \", minute_1_folder_test, \" Created \")\n",
    "else:\n",
    "    print(\"Directory \", minute_1_folder_test, \" already exists\")"
   ]
  },
  {
   "cell_type": "code",
   "execution_count": 22,
   "metadata": {},
   "outputs": [
    {
     "name": "stdout",
     "output_type": "stream",
     "text": [
      "suaraarchive\n",
      "mordarchive\n",
      "defectedarchive\n",
      "stilvortalentarchive\n",
      "bar25archive\n",
      "littlehelpersarchive\n",
      "kompaktarchive\n"
     ]
    }
   ],
   "source": [
    "split = 'train'\n",
    "\n",
    "data_file = '../gnaimeh/unbalanced_1mn_only/'+split+'_complete.csv'\n",
    "with open(data_file, 'w') as writer:\n",
    "    line2write = 'path,label\\n'\n",
    "    writer.write(line2write)\n",
    "    for l in labels:\n",
    "        print(l)\n",
    "        count = 0\n",
    "        for root, dirs, files in os.walk ('../gnaimeh/unbalanced_1mn_only/'+split+'/'+l):\n",
    "            for file in files:\n",
    "                line2write = root+'/'+file+','+l+'\\n'\n",
    "                writer.write(line2write)\n",
    "            "
   ]
  },
  {
   "cell_type": "code",
   "execution_count": 23,
   "metadata": {},
   "outputs": [
    {
     "name": "stdout",
     "output_type": "stream",
     "text": [
      "suaraarchive\n",
      "mordarchive\n",
      "defectedarchive\n",
      "stilvortalentarchive\n",
      "bar25archive\n",
      "littlehelpersarchive\n",
      "kompaktarchive\n"
     ]
    }
   ],
   "source": [
    "split = 'test'\n",
    "\n",
    "data_file = '../gnaimeh/unbalanced_1mn_only/'+split+'_complete.csv'\n",
    "with open(data_file, 'w') as writer:\n",
    "    line2write = 'path,label\\n'\n",
    "    writer.write(line2write)\n",
    "    for l in labels:\n",
    "        print(l)\n",
    "        count = 0\n",
    "        for root, dirs, files in os.walk ('../gnaimeh/unbalanced_1mn_only//'+split+'/'+l):\n",
    "            for file in files:\n",
    "                line2write = root+'/'+file+','+l+'\\n'\n",
    "                writer.write(line2write)"
   ]
  },
  {
   "cell_type": "code",
   "execution_count": 31,
   "metadata": {},
   "outputs": [
    {
     "ename": "FileNotFoundError",
     "evalue": "[Errno 2] No such file or directory: '../gnaimeh/unbalanced_1mn_only_train/suaraarchive'",
     "output_type": "error",
     "traceback": [
      "\u001b[0;31m---------------------------------------------------------------------------\u001b[0m",
      "\u001b[0;31mFileNotFoundError\u001b[0m                         Traceback (most recent call last)",
      "\u001b[0;32m<ipython-input-31-7322b01bd5ff>\u001b[0m in \u001b[0;36m<module>\u001b[0;34m\u001b[0m\n\u001b[1;32m      8\u001b[0m \u001b[0;32mfor\u001b[0m \u001b[0ml\u001b[0m \u001b[0;32min\u001b[0m \u001b[0mlabels_dict\u001b[0m\u001b[0;34m[\u001b[0m\u001b[0;34m'name'\u001b[0m\u001b[0;34m]\u001b[0m\u001b[0;34m:\u001b[0m\u001b[0;34m\u001b[0m\u001b[0;34m\u001b[0m\u001b[0m\n\u001b[1;32m      9\u001b[0m     \u001b[0;32mif\u001b[0m \u001b[0;32mnot\u001b[0m \u001b[0mos\u001b[0m\u001b[0;34m.\u001b[0m\u001b[0mpath\u001b[0m\u001b[0;34m.\u001b[0m\u001b[0mexists\u001b[0m\u001b[0;34m(\u001b[0m\u001b[0;34m'../gnaimeh/unbalanced_1mn_only_train'\u001b[0m\u001b[0;34m+\u001b[0m\u001b[0;34m'/'\u001b[0m\u001b[0;34m+\u001b[0m\u001b[0ml\u001b[0m\u001b[0;34m)\u001b[0m\u001b[0;34m:\u001b[0m\u001b[0;34m\u001b[0m\u001b[0;34m\u001b[0m\u001b[0m\n\u001b[0;32m---> 10\u001b[0;31m         \u001b[0mos\u001b[0m\u001b[0;34m.\u001b[0m\u001b[0mmkdir\u001b[0m\u001b[0;34m(\u001b[0m\u001b[0;34m'../gnaimeh/unbalanced_1mn_only_train'\u001b[0m\u001b[0;34m+\u001b[0m\u001b[0;34m'/'\u001b[0m\u001b[0;34m+\u001b[0m\u001b[0ml\u001b[0m\u001b[0;34m)\u001b[0m\u001b[0;34m\u001b[0m\u001b[0;34m\u001b[0m\u001b[0m\n\u001b[0m\u001b[1;32m     11\u001b[0m         \u001b[0mos\u001b[0m\u001b[0;34m.\u001b[0m\u001b[0mmkdir\u001b[0m\u001b[0;34m(\u001b[0m\u001b[0;34m'../unbalanced_1mn_only_test'\u001b[0m\u001b[0;34m+\u001b[0m\u001b[0;34m'/'\u001b[0m\u001b[0;34m+\u001b[0m\u001b[0ml\u001b[0m\u001b[0;34m)\u001b[0m\u001b[0;34m\u001b[0m\u001b[0;34m\u001b[0m\u001b[0m\n\u001b[1;32m     12\u001b[0m         \u001b[0mprint\u001b[0m\u001b[0;34m(\u001b[0m\u001b[0;34m\"Directory \"\u001b[0m\u001b[0;34m,\u001b[0m \u001b[0;34m'../gnaimeh/unbalanced_1mn_only_train'\u001b[0m\u001b[0;34m+\u001b[0m\u001b[0;34m'/'\u001b[0m\u001b[0;34m+\u001b[0m\u001b[0ml\u001b[0m\u001b[0;34m,\u001b[0m \u001b[0;34m\" Created \"\u001b[0m\u001b[0;34m)\u001b[0m\u001b[0;34m\u001b[0m\u001b[0;34m\u001b[0m\u001b[0m\n",
      "\u001b[0;31mFileNotFoundError\u001b[0m: [Errno 2] No such file or directory: '../gnaimeh/unbalanced_1mn_only_train/suaraarchive'"
     ]
    }
   ],
   "source": [
    "countlabel = 0\n",
    "count = 0\n",
    "nfiles = min(labels_dict[\"number_songs\"])\n",
    "fs = 44100\n",
    "sample_1m = fs*60   \n",
    "    \n",
    "# Start iteration through labels folders\n",
    "for l in labels_dict['name']:\n",
    "    if not os.path.exists('../gnaimeh/unbalanced_1mn_only_train'+'/'+l):\n",
    "        os.mkdir(../gnaimeh/unbalanced_1mn_only_train+'/'+l)\n",
    "        os.mkdir('../unbalanced_1mn_only_test'+'/'+l)\n",
    "        print(\"Directory \", '../gnaimeh/unbalanced_1mn_only_train'+'/'+l, \" Created \")\n",
    "        print(\"Directory \", '../unbalanced_1mn_only_test'+'/'+l, \" Created \")\n",
    "    else:\n",
    "        print(\"Directory \", '../unbalanced_1mn_only_test'+'/'+l, \" already exists\")\n",
    "        print(\"Directory \", '../gnaimeh/unbalanced_1mn_only_train'+'/'+l, \" already exists\")\n",
    "        print('ANALIZING NEW LABEL... ',l)\n",
    "    count = 0    \n",
    "    count_chunk = 0\n",
    "    for root, dirs, files in os.walk (main_dir+l):\n",
    "        # Check if counter of files per label and reset\n",
    "        # Iterate over files in label l\n",
    "        for file in files: \n",
    "            if not file.startswith('.') and file.endswith('c3.mp3'):                                  \n",
    "                if count < nfiles:\n",
    "                    count += 1\n",
    "                    # Reading audio file \n",
    "                    x = ess.MonoLoader(filename=root+'/'+file, sampleRate=fs)()\n",
    "\n",
    "                    # Append audio file choppend in a list\n",
    "                    X = []\n",
    "                    for i in range(x.size//sample_1m):\n",
    "                        X.append(x[i*sample_1m:i*sample_1m+sample_1m])\n",
    "\n",
    "                    # Initilization of spectrum, window and melbands\n",
    "                    spectrum = ess.Spectrum()\n",
    "                    windowing = ess.Windowing(type='blackmanharris62', zeroPadding=2048)\n",
    "                    melbands = ess.MelBands(numberBands=96, lowFrequencyBound=0, highFrequencyBound=11000)\n",
    "\n",
    "                    pool = essentia.Pool()\n",
    "                    amp2db = ess.UnaryOperator(type='lin2db', scale=2)\n",
    "\n",
    "                    # Mel band calculation for each chunk\n",
    "                    for x in X:\n",
    "                        count_chunk+=1;\n",
    "                        pool = essentia.Pool()\n",
    "                        for frame in ess.FrameGenerator(x, frameSize=2048, hopSize=1024):\n",
    "                            frame_spectrum = spectrum(windowing(frame))\n",
    "                            frame_mel = melbands(frame_spectrum)\n",
    "\n",
    "                            pool.add('mel96_db', amp2db(frame_mel))  \n",
    "\n",
    "                        # Save as training set 80% of each of the labels and as test set the 20%\n",
    "                        if count <= 244:\n",
    "                            print('Train: ',count,' | Chunk: ', count_chunk)\n",
    "                            np.save('../unbalanced_1mn_only_train' + '/' + l + '/' + str(count_chunk), pool['mel96_db'].T)\n",
    "                        else:\n",
    "                            np.save('../unbalanced_1mn_only_test' + '/' + l + '/' + str(count_chunk), pool['mel96_db'].T)\n",
    "                            print('Test: ',count,' | Chunk: ', count_chunk)\n",
    "\n",
    "\n",
    "                    if count % 20 == 0:\n",
    "                        print(count, \" files processed, current file: \",file)\n",
    "                        print(count_chunk, \" chunks processed, current file: \",file)\n",
    "                    \n",
    "\n"
   ]
  }
 ],
 "metadata": {
  "kernelspec": {
   "display_name": "Python 3",
   "language": "python",
   "name": "python3"
  },
  "language_info": {
   "codemirror_mode": {
    "name": "ipython",
    "version": 3
   },
   "file_extension": ".py",
   "mimetype": "text/x-python",
   "name": "python",
   "nbconvert_exporter": "python",
   "pygments_lexer": "ipython3",
   "version": "3.6.9"
  }
 },
 "nbformat": 4,
 "nbformat_minor": 4
}
