{
  "nbformat": 4,
  "nbformat_minor": 0,
  "metadata": {
    "kernelspec": {
      "name": "python3",
      "display_name": "Python 3"
    },
    "colab": {
      "name": "1mn_only_unbalanced.ipynb",
      "provenance": [],
      "collapsed_sections": []
    },
    "accelerator": "GPU"
  },
  "cells": [
    {
      "cell_type": "markdown",
      "metadata": {
        "id": "VygoYBmcDpf5",
        "colab_type": "text"
      },
      "source": [
        "# CNN electronic music label classification 1 minute chunk"
      ]
    },
    {
      "cell_type": "markdown",
      "metadata": {
        "id": "ouHaL_WJl_z8",
        "colab_type": "text"
      },
      "source": [
        "### Import libraries"
      ]
    },
    {
      "cell_type": "code",
      "metadata": {
        "id": "ZWghEY04Dpf7",
        "colab_type": "code",
        "colab": {}
      },
      "source": [
        "import torch\n",
        "import torch.nn as nn\n",
        "import numpy as np\n",
        "import pandas as pd\n",
        "from torch.utils import data\n",
        "import os\n",
        "import tqdm as tqdm\n",
        "import matplotlib.pyplot as plt\n",
        "import torchvision\n",
        "from torchvision import transforms, utils\n",
        "from torch.utils.data import Dataset, DataLoader, WeightedRandomSampler\n",
        "import seaborn as sns"
      ],
      "execution_count": 5,
      "outputs": []
    },
    {
      "cell_type": "code",
      "metadata": {
        "id": "1woP_cUVDznE",
        "colab_type": "code",
        "colab": {
          "base_uri": "https://localhost:8080/",
          "height": 34
        },
        "outputId": "b079e1fb-5f78-4f20-fb94-6ebe74c28623"
      },
      "source": [
        "from google.colab import drive\n",
        "drive.mount('/content/drive')"
      ],
      "execution_count": 6,
      "outputs": [
        {
          "output_type": "stream",
          "text": [
            "Drive already mounted at /content/drive; to attempt to forcibly remount, call drive.mount(\"/content/drive\", force_remount=True).\n"
          ],
          "name": "stdout"
        }
      ]
    },
    {
      "cell_type": "markdown",
      "metadata": {
        "id": "giRrmqUxDpgA",
        "colab_type": "text"
      },
      "source": [
        "### Class definition\n",
        "Dataset and CNN"
      ]
    },
    {
      "cell_type": "code",
      "metadata": {
        "id": "Nd0rMGS5DpgD",
        "colab_type": "code",
        "colab": {}
      },
      "source": [
        "class CNN(nn.Module):\n",
        "    def __init__(self, gap_h, gap_w, num_class=9):\n",
        "        super(CNN, self).__init__()\n",
        "\n",
        "        # init bn\n",
        "        self.bn_init = nn.BatchNorm2d(1)\n",
        "\n",
        "        # layer 1\n",
        "        self.conv_1 = nn.Conv2d(1, 64, 3, padding=1)\n",
        "        self.bn_1 = nn.BatchNorm2d(64)\n",
        "        self.mp_1 = nn.MaxPool2d((2, 4))\n",
        "\n",
        "        # layer 2\n",
        "        self.conv_2 = nn.Conv2d(64, 128, 3, padding=1)\n",
        "        self.bn_2 = nn.BatchNorm2d(128)\n",
        "        self.mp_2 = nn.MaxPool2d((2, 4))\n",
        "\n",
        "        # layer 3\n",
        "        self.conv_3 = nn.Conv2d(128, 128, 3, padding=1)\n",
        "        self.bn_3 = nn.BatchNorm2d(128)\n",
        "        self.mp_3 = nn.MaxPool2d((2, 4))\n",
        "\n",
        "        # layer 4\n",
        "        self.conv_4 = nn.Conv2d(128, 128, 3, padding=1)\n",
        "        self.bn_4 = nn.BatchNorm2d(128)\n",
        "        self.mp_4 = nn.MaxPool2d((3, 5))\n",
        "\n",
        "        # layer 5\n",
        "        self.conv_5 = nn.Conv2d(128, 64, 3, padding=1)\n",
        "        self.bn_5 = nn.BatchNorm2d(64)\n",
        "        self.mp_5 = nn.MaxPool2d((4, 4))\n",
        "        \n",
        "        # Global Average Pooling\n",
        "        self.gap = nn.AvgPool2d((1, gap_w), stride=(1, 1))\n",
        "\n",
        "        # classifier\n",
        "        self.dense = nn.Linear(64, num_class)\n",
        "\n",
        "    def forward(self, x):\n",
        "        x = x.unsqueeze(1)\n",
        "\n",
        "        # init bn\n",
        "        x = self.bn_init(x)\n",
        "        # layer 1\n",
        "        x = self.mp_1(nn.ELU()(self.bn_1(self.conv_1(x))))\n",
        "        # layer 2\n",
        "        x = self.mp_2(nn.ELU()(self.bn_2(self.conv_2(x))))\n",
        "        # layer 3\n",
        "        x = self.mp_3(nn.ELU()(self.bn_3(self.conv_3(x))))\n",
        "        # layer 4\n",
        "        x = self.mp_4(nn.ELU()(self.bn_4(self.conv_4(x))))\n",
        "        # layer 5\n",
        "        x = self.mp_5(nn.ELU()(self.bn_5(self.conv_5(x))))\n",
        "        x = self.gap(x)\n",
        "        # classifier\n",
        "        x = x.view(x.size(0), -1)\n",
        "        x = nn.Dropout(0.5)(x)\n",
        "        logit = self.dense(x)\n",
        "\n",
        "        return logit"
      ],
      "execution_count": 7,
      "outputs": []
    },
    {
      "cell_type": "markdown",
      "metadata": {
        "id": "eSWCKgckDpgI",
        "colab_type": "text"
      },
      "source": [
        "Reading labels"
      ]
    },
    {
      "cell_type": "code",
      "metadata": {
        "id": "b0a2X4pXDpgJ",
        "colab_type": "code",
        "colab": {
          "base_uri": "https://localhost:8080/",
          "height": 224
        },
        "outputId": "6f7e3097-bf23-4bb9-ca94-82978e9b1a13"
      },
      "source": [
        "count = 0\n",
        "count_labels = []\n",
        "labels = []\n",
        "labels_dict = dict()\n",
        "main_dir = '/content/drive/My Drive/archives/mel_specs/1_min_only_u/train'\n",
        "\n",
        "for root, dirs, files in os.walk (main_dir):\n",
        "    count += 1\n",
        "    if count==1:\n",
        "        labels = [label for label in dirs if not label.startswith('.')]\n",
        "    else:\n",
        "        break\n",
        "print(labels)\n",
        "\n",
        "total_count = 0\n",
        "for l in labels:\n",
        "    count = 0\n",
        "    for root, dirs, files in os.walk(main_dir+'/'+l):\n",
        "        for file in files:\n",
        "            count+=1\n",
        "            total_count+=1\n",
        "\n",
        "    count_labels.append(count)   \n",
        "    print(l,' = ',count)\n",
        "print('TOTAL = ',total_count)\n"
      ],
      "execution_count": 24,
      "outputs": [
        {
          "output_type": "stream",
          "text": [
            "['kompaktarchive', 'littlehelpersarchive', 'chillhoparchive', 'suaraarchive', 'bar25archive', 'mordarchive', 'stilvortalentarchive', 'defectedarchive', 'ninjatunearchive']\n",
            "kompaktarchive  =  238\n",
            "littlehelpersarchive  =  278\n",
            "chillhoparchive  =  249\n",
            "suaraarchive  =  440\n",
            "bar25archive  =  335\n",
            "mordarchive  =  305\n",
            "stilvortalentarchive  =  446\n",
            "defectedarchive  =  1188\n",
            "ninjatunearchive  =  234\n",
            "TOTAL =  3713\n"
          ],
          "name": "stdout"
        }
      ]
    },
    {
      "cell_type": "markdown",
      "metadata": {
        "id": "KGPpC4dYmO0b",
        "colab_type": "text"
      },
      "source": [
        "### Initialization dataset, model, criterion and optimizer"
      ]
    },
    {
      "cell_type": "markdown",
      "metadata": {
        "id": "CMquQ1TjmV3h",
        "colab_type": "text"
      },
      "source": [
        "Train and Test DataLoader initialization"
      ]
    },
    {
      "cell_type": "code",
      "metadata": {
        "id": "OiCpGQjQmuhY",
        "colab_type": "code",
        "colab": {}
      },
      "source": [
        "def train_loader(path):\n",
        "    sample = torch.from_numpy(np.load(path))\n",
        "    return sample\n",
        "\n",
        "def test_loader(path):\n",
        "    sample = torch.from_numpy(np.load(path))\n",
        "    return sample    "
      ],
      "execution_count": 33,
      "outputs": []
    },
    {
      "cell_type": "code",
      "metadata": {
        "id": "hZmkJAWeq-0M",
        "colab_type": "code",
        "colab": {}
      },
      "source": [
        "train_root = '/content/drive/My Drive/archives/mel_specs/1_min_only_u/train'\n",
        "test_root = '/content/drive/My Drive/archives/mel_specs/1_min_only_u/test'\n",
        "\n",
        "\n",
        "train_dataset = torchvision.datasets.DatasetFolder(root=train_root, loader=train_loader,  extensions='.npy', transform=None, target_transform=None, is_valid_file=None)\n",
        "train_loader = torch.utils.data.DataLoader(dataset=train_dataset, batch_size=32, shuffle=True, num_workers=4)\n",
        "\n",
        "test_dataset = torchvision.datasets.DatasetFolder(root=test_root, loader=test_loader,  extensions='.npy', transform=None, target_transform=None, is_valid_file=None)\n",
        "test_loader = torch.utils.data.DataLoader(dataset=test_dataset, batch_size=32, shuffle=True, num_workers=4)"
      ],
      "execution_count": 34,
      "outputs": []
    },
    {
      "cell_type": "markdown",
      "metadata": {
        "id": "tQRCkHflmaPE",
        "colab_type": "text"
      },
      "source": [
        "Model, criterion and optimizer initialization"
      ]
    },
    {
      "cell_type": "code",
      "metadata": {
        "id": "RQ2ocyMhuKi-",
        "colab_type": "code",
        "colab": {}
      },
      "source": [
        "def weights_init(m):\n",
        "    classname = m.__class__.__name__\n",
        "    if classname.find('Conv') != -1:\n",
        "          nn.init.xavier_normal_(m.weight.data)       "
      ],
      "execution_count": 35,
      "outputs": []
    },
    {
      "cell_type": "code",
      "metadata": {
        "id": "JbqNDTakzvp7",
        "colab_type": "code",
        "colab": {
          "base_uri": "https://localhost:8080/",
          "height": 357
        },
        "outputId": "095af313-b528-4042-c4b5-6fb3e21d2dec"
      },
      "source": [
        "torch.manual_seed(42)\n",
        "device = 'cuda'\n",
        "model = CNN(num_class=9, gap_h=1, gap_w=2)\n",
        "model.cuda(device)\n",
        "\n",
        "class_weights = torch.Tensor([7.86, 8.36, 13.2, 10.47, 8.87, 8.12, 7.34, 5.98, 22.98])\n",
        "\n",
        "criterion = nn.CrossEntropyLoss(weight = class_weights)\n",
        "criterion = criterion.to(device)   #move back to GPU \n",
        "optimizer = torch.optim.Adam(model.parameters(), lr= 1e-5) #was at 1e-4 originally\n",
        "model.apply(weights_init)"
      ],
      "execution_count": 39,
      "outputs": [
        {
          "output_type": "execute_result",
          "data": {
            "text/plain": [
              "CNN(\n",
              "  (bn_init): BatchNorm2d(1, eps=1e-05, momentum=0.1, affine=True, track_running_stats=True)\n",
              "  (conv_1): Conv2d(1, 64, kernel_size=(3, 3), stride=(1, 1), padding=(1, 1))\n",
              "  (bn_1): BatchNorm2d(64, eps=1e-05, momentum=0.1, affine=True, track_running_stats=True)\n",
              "  (mp_1): MaxPool2d(kernel_size=(2, 4), stride=(2, 4), padding=0, dilation=1, ceil_mode=False)\n",
              "  (conv_2): Conv2d(64, 128, kernel_size=(3, 3), stride=(1, 1), padding=(1, 1))\n",
              "  (bn_2): BatchNorm2d(128, eps=1e-05, momentum=0.1, affine=True, track_running_stats=True)\n",
              "  (mp_2): MaxPool2d(kernel_size=(2, 4), stride=(2, 4), padding=0, dilation=1, ceil_mode=False)\n",
              "  (conv_3): Conv2d(128, 128, kernel_size=(3, 3), stride=(1, 1), padding=(1, 1))\n",
              "  (bn_3): BatchNorm2d(128, eps=1e-05, momentum=0.1, affine=True, track_running_stats=True)\n",
              "  (mp_3): MaxPool2d(kernel_size=(2, 4), stride=(2, 4), padding=0, dilation=1, ceil_mode=False)\n",
              "  (conv_4): Conv2d(128, 128, kernel_size=(3, 3), stride=(1, 1), padding=(1, 1))\n",
              "  (bn_4): BatchNorm2d(128, eps=1e-05, momentum=0.1, affine=True, track_running_stats=True)\n",
              "  (mp_4): MaxPool2d(kernel_size=(3, 5), stride=(3, 5), padding=0, dilation=1, ceil_mode=False)\n",
              "  (conv_5): Conv2d(128, 64, kernel_size=(3, 3), stride=(1, 1), padding=(1, 1))\n",
              "  (bn_5): BatchNorm2d(64, eps=1e-05, momentum=0.1, affine=True, track_running_stats=True)\n",
              "  (mp_5): MaxPool2d(kernel_size=(4, 4), stride=(4, 4), padding=0, dilation=1, ceil_mode=False)\n",
              "  (gap): AvgPool2d(kernel_size=(1, 2), stride=(1, 1), padding=0)\n",
              "  (dense): Linear(in_features=64, out_features=9, bias=True)\n",
              ")"
            ]
          },
          "metadata": {
            "tags": []
          },
          "execution_count": 39
        }
      ]
    },
    {
      "cell_type": "markdown",
      "metadata": {
        "id": "854klrZlmfWi",
        "colab_type": "text"
      },
      "source": [
        "Checkpoint loading"
      ]
    },
    {
      "cell_type": "code",
      "metadata": {
        "id": "5nnWYqMl65pt",
        "colab_type": "code",
        "colab": {
          "base_uri": "https://localhost:8080/",
          "height": 357
        },
        "outputId": "948f5c13-3de1-4830-ec94-ad5b109635e2"
      },
      "source": [
        "checkpoint = torch.load('/content/drive/My Drive/archives/mel_specs/1_min/checkpoint1mnonlyu2.tar', map_location=lambda storage, loc: storage)\n",
        "model.load_state_dict(checkpoint['model_state_dict'])\n",
        "optimizer.load_state_dict(checkpoint['optimizer_state_dict'])\n",
        "epoch = checkpoint['epoch']\n",
        "cost_list = checkpoint['cost_list']\n",
        "model.cuda()"
      ],
      "execution_count": 40,
      "outputs": [
        {
          "output_type": "execute_result",
          "data": {
            "text/plain": [
              "CNN(\n",
              "  (bn_init): BatchNorm2d(1, eps=1e-05, momentum=0.1, affine=True, track_running_stats=True)\n",
              "  (conv_1): Conv2d(1, 64, kernel_size=(3, 3), stride=(1, 1), padding=(1, 1))\n",
              "  (bn_1): BatchNorm2d(64, eps=1e-05, momentum=0.1, affine=True, track_running_stats=True)\n",
              "  (mp_1): MaxPool2d(kernel_size=(2, 4), stride=(2, 4), padding=0, dilation=1, ceil_mode=False)\n",
              "  (conv_2): Conv2d(64, 128, kernel_size=(3, 3), stride=(1, 1), padding=(1, 1))\n",
              "  (bn_2): BatchNorm2d(128, eps=1e-05, momentum=0.1, affine=True, track_running_stats=True)\n",
              "  (mp_2): MaxPool2d(kernel_size=(2, 4), stride=(2, 4), padding=0, dilation=1, ceil_mode=False)\n",
              "  (conv_3): Conv2d(128, 128, kernel_size=(3, 3), stride=(1, 1), padding=(1, 1))\n",
              "  (bn_3): BatchNorm2d(128, eps=1e-05, momentum=0.1, affine=True, track_running_stats=True)\n",
              "  (mp_3): MaxPool2d(kernel_size=(2, 4), stride=(2, 4), padding=0, dilation=1, ceil_mode=False)\n",
              "  (conv_4): Conv2d(128, 128, kernel_size=(3, 3), stride=(1, 1), padding=(1, 1))\n",
              "  (bn_4): BatchNorm2d(128, eps=1e-05, momentum=0.1, affine=True, track_running_stats=True)\n",
              "  (mp_4): MaxPool2d(kernel_size=(3, 5), stride=(3, 5), padding=0, dilation=1, ceil_mode=False)\n",
              "  (conv_5): Conv2d(128, 64, kernel_size=(3, 3), stride=(1, 1), padding=(1, 1))\n",
              "  (bn_5): BatchNorm2d(64, eps=1e-05, momentum=0.1, affine=True, track_running_stats=True)\n",
              "  (mp_5): MaxPool2d(kernel_size=(4, 4), stride=(4, 4), padding=0, dilation=1, ceil_mode=False)\n",
              "  (gap): AvgPool2d(kernel_size=(1, 2), stride=(1, 1), padding=0)\n",
              "  (dense): Linear(in_features=64, out_features=9, bias=True)\n",
              ")"
            ]
          },
          "metadata": {
            "tags": []
          },
          "execution_count": 40
        }
      ]
    },
    {
      "cell_type": "markdown",
      "metadata": {
        "id": "tx22p2a-mh1U",
        "colab_type": "text"
      },
      "source": [
        "### Training"
      ]
    },
    {
      "cell_type": "code",
      "metadata": {
        "id": "PQ_LFoZV3-jl",
        "colab_type": "code",
        "colab": {}
      },
      "source": [
        "cost_list = []\n",
        "#pred_list = []\n",
        "epoch = 0\n",
        "COST=0"
      ],
      "execution_count": 37,
      "outputs": []
    },
    {
      "cell_type": "code",
      "metadata": {
        "id": "2HDUgoU4DpgW",
        "colab_type": "code",
        "colab": {
          "base_uri": "https://localhost:8080/",
          "height": 1000
        },
        "outputId": "1bc67753-eb1d-4e2e-f33f-62796abe25cf"
      },
      "source": [
        "\n",
        "for epoch in tqdm.tqdm(range(epoch,200)):\n",
        "    COST=0\n",
        "    model.train()\n",
        "    for i,data in enumerate(train_loader):\n",
        "        x,y = data\n",
        "        x = x.cuda()\n",
        "        y = y.cuda()\n",
        "        optimizer.zero_grad()      \n",
        "        y_=model(x)\n",
        "        loss=criterion(y_,y)\n",
        "        loss.backward()\n",
        "        optimizer.step()\n",
        "        COST+=loss.data\n",
        "        \n",
        "        if i % 10 == 0:\n",
        "            print(loss)\n",
        "    \n",
        "    cost_list.append(COST)\n",
        "    print('COST epoch',epoch, ' = ', cost_list)\n",
        "\n",
        "    if epoch % 1 == 0 :\n",
        "      torch.save({\n",
        "              'epoch': epoch,\n",
        "              'model_state_dict': model.state_dict(),\n",
        "              'optimizer_state_dict': optimizer.state_dict(),\n",
        "              'loss': COST,\n",
        "              'cost_list': cost_list,\n",
        "              \n",
        "              }, '/content/drive/My Drive/archives/mel_specs/1_min/checkpoint1mnonlyu2.tar')\n",
        "    \n",
        "    model.eval()\n",
        "\n",
        "    pred_list=[] \n",
        "    y_list = []\n",
        "\n",
        "    for i, data in enumerate(test_loader):\n",
        "      x, y = data\n",
        "      x = x.cuda()\n",
        "      pred = model(x)\n",
        "\n",
        "      # append\n",
        "      pred = pred.detach().cpu()\n",
        "      for _p in pred:\n",
        "          pred_list.append(int(_p.argmax()))\n",
        "      for _y in y:\n",
        "          y_list.append(int(_y))\n",
        "          \n",
        "      if i % 10 == 0:\n",
        "          print('Files processed = ', i)\n",
        "\n",
        "    accuracy = np.sum(np.asarray(pred_list)==np.asarray(y_list))/len(y_list)\n",
        "\n",
        "    print('Accuracy epoch',epoch, ' = ',accuracy)\n",
        "      "
      ],
      "execution_count": null,
      "outputs": [
        {
          "output_type": "stream",
          "text": [
            "\n",
            "  0%|          | 0/85 [00:00<?, ?it/s]\u001b[A"
          ],
          "name": "stderr"
        },
        {
          "output_type": "stream",
          "text": [
            "tensor(0.1254, device='cuda:0', grad_fn=<NllLossBackward>)\n",
            "tensor(0.3834, device='cuda:0', grad_fn=<NllLossBackward>)\n",
            "tensor(0.1787, device='cuda:0', grad_fn=<NllLossBackward>)\n",
            "tensor(0.1898, device='cuda:0', grad_fn=<NllLossBackward>)\n",
            "tensor(0.2144, device='cuda:0', grad_fn=<NllLossBackward>)\n",
            "tensor(0.1418, device='cuda:0', grad_fn=<NllLossBackward>)\n",
            "tensor(0.1577, device='cuda:0', grad_fn=<NllLossBackward>)\n",
            "tensor(0.1435, device='cuda:0', grad_fn=<NllLossBackward>)\n",
            "tensor(0.1780, device='cuda:0', grad_fn=<NllLossBackward>)\n",
            "tensor(0.1664, device='cuda:0', grad_fn=<NllLossBackward>)\n",
            "tensor(0.1052, device='cuda:0', grad_fn=<NllLossBackward>)\n",
            "tensor(0.2614, device='cuda:0', grad_fn=<NllLossBackward>)\n",
            "COST epoch 115  =  [tensor(215.4651), tensor(189.6025), tensor(175.6849), tensor(164.4619), tensor(158.8496), tensor(156.0321), tensor(150.6120), tensor(144.3463), tensor(141.3565), tensor(139.4983), tensor(136.5457), tensor(128.8909), tensor(124.2010), tensor(125.3575), tensor(121.3005), tensor(118.9421), tensor(118.4855), tensor(116.8539), tensor(115.6892), tensor(115.8840), tensor(113.0649), tensor(108.7815), tensor(108.5644), tensor(107.7817), tensor(105.5480), tensor(102.6072), tensor(100.0628), tensor(96.0067), tensor(92.6655), tensor(89.7722), tensor(89.6663), tensor(85.9662), tensor(83.1880), tensor(82.4780), tensor(84.5441), tensor(78.4753), tensor(80.9089), tensor(78.1325), tensor(74.5456), tensor(77.9940), tensor(72.4654), tensor(69.4446), tensor(76.1483), tensor(70.9732), tensor(69.8376), tensor(67.4501), tensor(67.9863), tensor(65.1256), tensor(59.1719), tensor(54.2257), tensor(52.1780), tensor(60.8111), tensor(52.3975), tensor(52.7493), tensor(52.0840), tensor(56.8607), tensor(48.4050), tensor(54.3788), tensor(51.9191), tensor(43.9075), tensor(41.4396), tensor(45.0265), tensor(58.5117), tensor(48.5969), tensor(46.6955), tensor(41.6940), tensor(35.0416), tensor(38.8943), tensor(47.8251), tensor(39.3093), tensor(30.9201), tensor(31.8631), tensor(34.5794), tensor(33.3512), tensor(38.4576), tensor(35.9424), tensor(45.1892), tensor(43.2896), tensor(51.1424), tensor(31.5733), tensor(26.5779), tensor(29.9627), tensor(31.9452), tensor(36.5331), tensor(33.1515), tensor(31.2439), tensor(24.1168), tensor(30.3980), tensor(40.1584), tensor(29.9310), tensor(22.8265), tensor(22.9804), tensor(20.0973), tensor(25.3530), tensor(36.6106), tensor(30.3809), tensor(34.9887), tensor(54.6532), tensor(36.1554), tensor(29.4460), tensor(26.2822), tensor(26.6348), tensor(35.1002), tensor(29.3603), tensor(21.2217), tensor(23.9768), tensor(20.0577), tensor(28.2518), tensor(26.5647), tensor(29.4851), tensor(31.0345), tensor(22.5284), tensor(29.0627), tensor(35.2666), tensor(24.9637), tensor(22.7595), tensor(23.7034, device='cuda:0')]\n",
            "Files processed =  0\n",
            "Files processed =  10\n",
            "Files processed =  20\n"
          ],
          "name": "stdout"
        },
        {
          "output_type": "stream",
          "text": [
            "\n",
            "  1%|          | 1/85 [01:44<2:25:57, 104.25s/it]\u001b[A"
          ],
          "name": "stderr"
        },
        {
          "output_type": "stream",
          "text": [
            "Accuracy epoch 115  =  0.6010928961748634\n",
            "tensor(0.3258, device='cuda:0', grad_fn=<NllLossBackward>)\n",
            "tensor(0.1840, device='cuda:0', grad_fn=<NllLossBackward>)\n",
            "tensor(0.1944, device='cuda:0', grad_fn=<NllLossBackward>)\n",
            "tensor(0.1481, device='cuda:0', grad_fn=<NllLossBackward>)\n",
            "tensor(0.1083, device='cuda:0', grad_fn=<NllLossBackward>)\n",
            "tensor(0.1323, device='cuda:0', grad_fn=<NllLossBackward>)\n",
            "tensor(0.1074, device='cuda:0', grad_fn=<NllLossBackward>)\n",
            "tensor(0.1971, device='cuda:0', grad_fn=<NllLossBackward>)\n",
            "tensor(0.0913, device='cuda:0', grad_fn=<NllLossBackward>)\n",
            "tensor(0.1702, device='cuda:0', grad_fn=<NllLossBackward>)\n",
            "tensor(0.3222, device='cuda:0', grad_fn=<NllLossBackward>)\n",
            "tensor(0.1208, device='cuda:0', grad_fn=<NllLossBackward>)\n",
            "COST epoch 116  =  [tensor(215.4651), tensor(189.6025), tensor(175.6849), tensor(164.4619), tensor(158.8496), tensor(156.0321), tensor(150.6120), tensor(144.3463), tensor(141.3565), tensor(139.4983), tensor(136.5457), tensor(128.8909), tensor(124.2010), tensor(125.3575), tensor(121.3005), tensor(118.9421), tensor(118.4855), tensor(116.8539), tensor(115.6892), tensor(115.8840), tensor(113.0649), tensor(108.7815), tensor(108.5644), tensor(107.7817), tensor(105.5480), tensor(102.6072), tensor(100.0628), tensor(96.0067), tensor(92.6655), tensor(89.7722), tensor(89.6663), tensor(85.9662), tensor(83.1880), tensor(82.4780), tensor(84.5441), tensor(78.4753), tensor(80.9089), tensor(78.1325), tensor(74.5456), tensor(77.9940), tensor(72.4654), tensor(69.4446), tensor(76.1483), tensor(70.9732), tensor(69.8376), tensor(67.4501), tensor(67.9863), tensor(65.1256), tensor(59.1719), tensor(54.2257), tensor(52.1780), tensor(60.8111), tensor(52.3975), tensor(52.7493), tensor(52.0840), tensor(56.8607), tensor(48.4050), tensor(54.3788), tensor(51.9191), tensor(43.9075), tensor(41.4396), tensor(45.0265), tensor(58.5117), tensor(48.5969), tensor(46.6955), tensor(41.6940), tensor(35.0416), tensor(38.8943), tensor(47.8251), tensor(39.3093), tensor(30.9201), tensor(31.8631), tensor(34.5794), tensor(33.3512), tensor(38.4576), tensor(35.9424), tensor(45.1892), tensor(43.2896), tensor(51.1424), tensor(31.5733), tensor(26.5779), tensor(29.9627), tensor(31.9452), tensor(36.5331), tensor(33.1515), tensor(31.2439), tensor(24.1168), tensor(30.3980), tensor(40.1584), tensor(29.9310), tensor(22.8265), tensor(22.9804), tensor(20.0973), tensor(25.3530), tensor(36.6106), tensor(30.3809), tensor(34.9887), tensor(54.6532), tensor(36.1554), tensor(29.4460), tensor(26.2822), tensor(26.6348), tensor(35.1002), tensor(29.3603), tensor(21.2217), tensor(23.9768), tensor(20.0577), tensor(28.2518), tensor(26.5647), tensor(29.4851), tensor(31.0345), tensor(22.5284), tensor(29.0627), tensor(35.2666), tensor(24.9637), tensor(22.7595), tensor(23.7034, device='cuda:0'), tensor(22.5727, device='cuda:0')]\n",
            "Files processed =  0\n",
            "Files processed =  10\n",
            "Files processed =  20\n"
          ],
          "name": "stdout"
        },
        {
          "output_type": "stream",
          "text": [
            "\n",
            "  2%|▏         | 2/85 [03:28<2:24:15, 104.28s/it]\u001b[A"
          ],
          "name": "stderr"
        },
        {
          "output_type": "stream",
          "text": [
            "Accuracy epoch 116  =  0.5836065573770491\n",
            "tensor(0.0872, device='cuda:0', grad_fn=<NllLossBackward>)\n",
            "tensor(0.2744, device='cuda:0', grad_fn=<NllLossBackward>)\n",
            "tensor(0.3112, device='cuda:0', grad_fn=<NllLossBackward>)\n",
            "tensor(0.2516, device='cuda:0', grad_fn=<NllLossBackward>)\n",
            "tensor(0.1456, device='cuda:0', grad_fn=<NllLossBackward>)\n",
            "tensor(0.1193, device='cuda:0', grad_fn=<NllLossBackward>)\n",
            "tensor(0.0838, device='cuda:0', grad_fn=<NllLossBackward>)\n",
            "tensor(0.1794, device='cuda:0', grad_fn=<NllLossBackward>)\n",
            "tensor(0.2155, device='cuda:0', grad_fn=<NllLossBackward>)\n",
            "tensor(0.2479, device='cuda:0', grad_fn=<NllLossBackward>)\n",
            "tensor(0.1456, device='cuda:0', grad_fn=<NllLossBackward>)\n",
            "tensor(0.0979, device='cuda:0', grad_fn=<NllLossBackward>)\n",
            "COST epoch 117  =  [tensor(215.4651), tensor(189.6025), tensor(175.6849), tensor(164.4619), tensor(158.8496), tensor(156.0321), tensor(150.6120), tensor(144.3463), tensor(141.3565), tensor(139.4983), tensor(136.5457), tensor(128.8909), tensor(124.2010), tensor(125.3575), tensor(121.3005), tensor(118.9421), tensor(118.4855), tensor(116.8539), tensor(115.6892), tensor(115.8840), tensor(113.0649), tensor(108.7815), tensor(108.5644), tensor(107.7817), tensor(105.5480), tensor(102.6072), tensor(100.0628), tensor(96.0067), tensor(92.6655), tensor(89.7722), tensor(89.6663), tensor(85.9662), tensor(83.1880), tensor(82.4780), tensor(84.5441), tensor(78.4753), tensor(80.9089), tensor(78.1325), tensor(74.5456), tensor(77.9940), tensor(72.4654), tensor(69.4446), tensor(76.1483), tensor(70.9732), tensor(69.8376), tensor(67.4501), tensor(67.9863), tensor(65.1256), tensor(59.1719), tensor(54.2257), tensor(52.1780), tensor(60.8111), tensor(52.3975), tensor(52.7493), tensor(52.0840), tensor(56.8607), tensor(48.4050), tensor(54.3788), tensor(51.9191), tensor(43.9075), tensor(41.4396), tensor(45.0265), tensor(58.5117), tensor(48.5969), tensor(46.6955), tensor(41.6940), tensor(35.0416), tensor(38.8943), tensor(47.8251), tensor(39.3093), tensor(30.9201), tensor(31.8631), tensor(34.5794), tensor(33.3512), tensor(38.4576), tensor(35.9424), tensor(45.1892), tensor(43.2896), tensor(51.1424), tensor(31.5733), tensor(26.5779), tensor(29.9627), tensor(31.9452), tensor(36.5331), tensor(33.1515), tensor(31.2439), tensor(24.1168), tensor(30.3980), tensor(40.1584), tensor(29.9310), tensor(22.8265), tensor(22.9804), tensor(20.0973), tensor(25.3530), tensor(36.6106), tensor(30.3809), tensor(34.9887), tensor(54.6532), tensor(36.1554), tensor(29.4460), tensor(26.2822), tensor(26.6348), tensor(35.1002), tensor(29.3603), tensor(21.2217), tensor(23.9768), tensor(20.0577), tensor(28.2518), tensor(26.5647), tensor(29.4851), tensor(31.0345), tensor(22.5284), tensor(29.0627), tensor(35.2666), tensor(24.9637), tensor(22.7595), tensor(23.7034, device='cuda:0'), tensor(22.5727, device='cuda:0'), tensor(26.0879, device='cuda:0')]\n",
            "Files processed =  0\n",
            "Files processed =  10\n",
            "Files processed =  20\n"
          ],
          "name": "stdout"
        },
        {
          "output_type": "stream",
          "text": [
            "\n",
            "  4%|▎         | 3/85 [05:12<2:22:28, 104.26s/it]\u001b[A"
          ],
          "name": "stderr"
        },
        {
          "output_type": "stream",
          "text": [
            "Accuracy epoch 117  =  0.5890710382513661\n",
            "tensor(0.1449, device='cuda:0', grad_fn=<NllLossBackward>)\n",
            "tensor(0.2661, device='cuda:0', grad_fn=<NllLossBackward>)\n",
            "tensor(0.2354, device='cuda:0', grad_fn=<NllLossBackward>)\n",
            "tensor(0.2533, device='cuda:0', grad_fn=<NllLossBackward>)\n",
            "tensor(0.2060, device='cuda:0', grad_fn=<NllLossBackward>)\n",
            "tensor(0.1177, device='cuda:0', grad_fn=<NllLossBackward>)\n",
            "tensor(0.1371, device='cuda:0', grad_fn=<NllLossBackward>)\n",
            "tensor(0.1127, device='cuda:0', grad_fn=<NllLossBackward>)\n",
            "tensor(0.2876, device='cuda:0', grad_fn=<NllLossBackward>)\n",
            "tensor(0.2025, device='cuda:0', grad_fn=<NllLossBackward>)\n",
            "tensor(0.2061, device='cuda:0', grad_fn=<NllLossBackward>)\n",
            "tensor(0.1282, device='cuda:0', grad_fn=<NllLossBackward>)\n",
            "COST epoch 118  =  [tensor(215.4651), tensor(189.6025), tensor(175.6849), tensor(164.4619), tensor(158.8496), tensor(156.0321), tensor(150.6120), tensor(144.3463), tensor(141.3565), tensor(139.4983), tensor(136.5457), tensor(128.8909), tensor(124.2010), tensor(125.3575), tensor(121.3005), tensor(118.9421), tensor(118.4855), tensor(116.8539), tensor(115.6892), tensor(115.8840), tensor(113.0649), tensor(108.7815), tensor(108.5644), tensor(107.7817), tensor(105.5480), tensor(102.6072), tensor(100.0628), tensor(96.0067), tensor(92.6655), tensor(89.7722), tensor(89.6663), tensor(85.9662), tensor(83.1880), tensor(82.4780), tensor(84.5441), tensor(78.4753), tensor(80.9089), tensor(78.1325), tensor(74.5456), tensor(77.9940), tensor(72.4654), tensor(69.4446), tensor(76.1483), tensor(70.9732), tensor(69.8376), tensor(67.4501), tensor(67.9863), tensor(65.1256), tensor(59.1719), tensor(54.2257), tensor(52.1780), tensor(60.8111), tensor(52.3975), tensor(52.7493), tensor(52.0840), tensor(56.8607), tensor(48.4050), tensor(54.3788), tensor(51.9191), tensor(43.9075), tensor(41.4396), tensor(45.0265), tensor(58.5117), tensor(48.5969), tensor(46.6955), tensor(41.6940), tensor(35.0416), tensor(38.8943), tensor(47.8251), tensor(39.3093), tensor(30.9201), tensor(31.8631), tensor(34.5794), tensor(33.3512), tensor(38.4576), tensor(35.9424), tensor(45.1892), tensor(43.2896), tensor(51.1424), tensor(31.5733), tensor(26.5779), tensor(29.9627), tensor(31.9452), tensor(36.5331), tensor(33.1515), tensor(31.2439), tensor(24.1168), tensor(30.3980), tensor(40.1584), tensor(29.9310), tensor(22.8265), tensor(22.9804), tensor(20.0973), tensor(25.3530), tensor(36.6106), tensor(30.3809), tensor(34.9887), tensor(54.6532), tensor(36.1554), tensor(29.4460), tensor(26.2822), tensor(26.6348), tensor(35.1002), tensor(29.3603), tensor(21.2217), tensor(23.9768), tensor(20.0577), tensor(28.2518), tensor(26.5647), tensor(29.4851), tensor(31.0345), tensor(22.5284), tensor(29.0627), tensor(35.2666), tensor(24.9637), tensor(22.7595), tensor(23.7034, device='cuda:0'), tensor(22.5727, device='cuda:0'), tensor(26.0879, device='cuda:0'), tensor(22.3387, device='cuda:0')]\n",
            "Files processed =  0\n",
            "Files processed =  10\n",
            "Files processed =  20\n"
          ],
          "name": "stdout"
        },
        {
          "output_type": "stream",
          "text": [
            "\n",
            "  5%|▍         | 4/85 [06:56<2:20:39, 104.19s/it]\u001b[A"
          ],
          "name": "stderr"
        },
        {
          "output_type": "stream",
          "text": [
            "Accuracy epoch 118  =  0.5814207650273224\n",
            "tensor(0.1319, device='cuda:0', grad_fn=<NllLossBackward>)\n",
            "tensor(0.1857, device='cuda:0', grad_fn=<NllLossBackward>)\n",
            "tensor(0.1272, device='cuda:0', grad_fn=<NllLossBackward>)\n",
            "tensor(0.1271, device='cuda:0', grad_fn=<NllLossBackward>)\n",
            "tensor(0.1463, device='cuda:0', grad_fn=<NllLossBackward>)\n",
            "tensor(0.0851, device='cuda:0', grad_fn=<NllLossBackward>)\n",
            "tensor(0.1012, device='cuda:0', grad_fn=<NllLossBackward>)\n",
            "tensor(0.0862, device='cuda:0', grad_fn=<NllLossBackward>)\n",
            "tensor(0.0995, device='cuda:0', grad_fn=<NllLossBackward>)\n",
            "tensor(0.1747, device='cuda:0', grad_fn=<NllLossBackward>)\n",
            "tensor(0.1809, device='cuda:0', grad_fn=<NllLossBackward>)\n",
            "tensor(0.1407, device='cuda:0', grad_fn=<NllLossBackward>)\n",
            "COST epoch 119  =  [tensor(215.4651), tensor(189.6025), tensor(175.6849), tensor(164.4619), tensor(158.8496), tensor(156.0321), tensor(150.6120), tensor(144.3463), tensor(141.3565), tensor(139.4983), tensor(136.5457), tensor(128.8909), tensor(124.2010), tensor(125.3575), tensor(121.3005), tensor(118.9421), tensor(118.4855), tensor(116.8539), tensor(115.6892), tensor(115.8840), tensor(113.0649), tensor(108.7815), tensor(108.5644), tensor(107.7817), tensor(105.5480), tensor(102.6072), tensor(100.0628), tensor(96.0067), tensor(92.6655), tensor(89.7722), tensor(89.6663), tensor(85.9662), tensor(83.1880), tensor(82.4780), tensor(84.5441), tensor(78.4753), tensor(80.9089), tensor(78.1325), tensor(74.5456), tensor(77.9940), tensor(72.4654), tensor(69.4446), tensor(76.1483), tensor(70.9732), tensor(69.8376), tensor(67.4501), tensor(67.9863), tensor(65.1256), tensor(59.1719), tensor(54.2257), tensor(52.1780), tensor(60.8111), tensor(52.3975), tensor(52.7493), tensor(52.0840), tensor(56.8607), tensor(48.4050), tensor(54.3788), tensor(51.9191), tensor(43.9075), tensor(41.4396), tensor(45.0265), tensor(58.5117), tensor(48.5969), tensor(46.6955), tensor(41.6940), tensor(35.0416), tensor(38.8943), tensor(47.8251), tensor(39.3093), tensor(30.9201), tensor(31.8631), tensor(34.5794), tensor(33.3512), tensor(38.4576), tensor(35.9424), tensor(45.1892), tensor(43.2896), tensor(51.1424), tensor(31.5733), tensor(26.5779), tensor(29.9627), tensor(31.9452), tensor(36.5331), tensor(33.1515), tensor(31.2439), tensor(24.1168), tensor(30.3980), tensor(40.1584), tensor(29.9310), tensor(22.8265), tensor(22.9804), tensor(20.0973), tensor(25.3530), tensor(36.6106), tensor(30.3809), tensor(34.9887), tensor(54.6532), tensor(36.1554), tensor(29.4460), tensor(26.2822), tensor(26.6348), tensor(35.1002), tensor(29.3603), tensor(21.2217), tensor(23.9768), tensor(20.0577), tensor(28.2518), tensor(26.5647), tensor(29.4851), tensor(31.0345), tensor(22.5284), tensor(29.0627), tensor(35.2666), tensor(24.9637), tensor(22.7595), tensor(23.7034, device='cuda:0'), tensor(22.5727, device='cuda:0'), tensor(26.0879, device='cuda:0'), tensor(22.3387, device='cuda:0'), tensor(17.6325, device='cuda:0')]\n",
            "Files processed =  0\n",
            "Files processed =  10\n",
            "Files processed =  20\n"
          ],
          "name": "stdout"
        },
        {
          "output_type": "stream",
          "text": [
            "\n",
            "  6%|▌         | 5/85 [08:40<2:18:51, 104.14s/it]\u001b[A"
          ],
          "name": "stderr"
        },
        {
          "output_type": "stream",
          "text": [
            "Accuracy epoch 119  =  0.5967213114754099\n",
            "tensor(0.1068, device='cuda:0', grad_fn=<NllLossBackward>)\n",
            "tensor(0.2301, device='cuda:0', grad_fn=<NllLossBackward>)\n",
            "tensor(0.1215, device='cuda:0', grad_fn=<NllLossBackward>)\n",
            "tensor(0.1673, device='cuda:0', grad_fn=<NllLossBackward>)\n",
            "tensor(0.1194, device='cuda:0', grad_fn=<NllLossBackward>)\n",
            "tensor(0.2093, device='cuda:0', grad_fn=<NllLossBackward>)\n",
            "tensor(0.1618, device='cuda:0', grad_fn=<NllLossBackward>)\n",
            "tensor(0.1408, device='cuda:0', grad_fn=<NllLossBackward>)\n",
            "tensor(0.1629, device='cuda:0', grad_fn=<NllLossBackward>)\n",
            "tensor(0.1761, device='cuda:0', grad_fn=<NllLossBackward>)\n",
            "tensor(0.1439, device='cuda:0', grad_fn=<NllLossBackward>)\n",
            "tensor(0.1179, device='cuda:0', grad_fn=<NllLossBackward>)\n",
            "COST epoch 120  =  [tensor(215.4651), tensor(189.6025), tensor(175.6849), tensor(164.4619), tensor(158.8496), tensor(156.0321), tensor(150.6120), tensor(144.3463), tensor(141.3565), tensor(139.4983), tensor(136.5457), tensor(128.8909), tensor(124.2010), tensor(125.3575), tensor(121.3005), tensor(118.9421), tensor(118.4855), tensor(116.8539), tensor(115.6892), tensor(115.8840), tensor(113.0649), tensor(108.7815), tensor(108.5644), tensor(107.7817), tensor(105.5480), tensor(102.6072), tensor(100.0628), tensor(96.0067), tensor(92.6655), tensor(89.7722), tensor(89.6663), tensor(85.9662), tensor(83.1880), tensor(82.4780), tensor(84.5441), tensor(78.4753), tensor(80.9089), tensor(78.1325), tensor(74.5456), tensor(77.9940), tensor(72.4654), tensor(69.4446), tensor(76.1483), tensor(70.9732), tensor(69.8376), tensor(67.4501), tensor(67.9863), tensor(65.1256), tensor(59.1719), tensor(54.2257), tensor(52.1780), tensor(60.8111), tensor(52.3975), tensor(52.7493), tensor(52.0840), tensor(56.8607), tensor(48.4050), tensor(54.3788), tensor(51.9191), tensor(43.9075), tensor(41.4396), tensor(45.0265), tensor(58.5117), tensor(48.5969), tensor(46.6955), tensor(41.6940), tensor(35.0416), tensor(38.8943), tensor(47.8251), tensor(39.3093), tensor(30.9201), tensor(31.8631), tensor(34.5794), tensor(33.3512), tensor(38.4576), tensor(35.9424), tensor(45.1892), tensor(43.2896), tensor(51.1424), tensor(31.5733), tensor(26.5779), tensor(29.9627), tensor(31.9452), tensor(36.5331), tensor(33.1515), tensor(31.2439), tensor(24.1168), tensor(30.3980), tensor(40.1584), tensor(29.9310), tensor(22.8265), tensor(22.9804), tensor(20.0973), tensor(25.3530), tensor(36.6106), tensor(30.3809), tensor(34.9887), tensor(54.6532), tensor(36.1554), tensor(29.4460), tensor(26.2822), tensor(26.6348), tensor(35.1002), tensor(29.3603), tensor(21.2217), tensor(23.9768), tensor(20.0577), tensor(28.2518), tensor(26.5647), tensor(29.4851), tensor(31.0345), tensor(22.5284), tensor(29.0627), tensor(35.2666), tensor(24.9637), tensor(22.7595), tensor(23.7034, device='cuda:0'), tensor(22.5727, device='cuda:0'), tensor(26.0879, device='cuda:0'), tensor(22.3387, device='cuda:0'), tensor(17.6325, device='cuda:0'), tensor(21.7002, device='cuda:0')]\n",
            "Files processed =  0\n",
            "Files processed =  10\n",
            "Files processed =  20\n"
          ],
          "name": "stdout"
        },
        {
          "output_type": "stream",
          "text": [
            "\n",
            "  7%|▋         | 6/85 [10:25<2:17:10, 104.19s/it]\u001b[A"
          ],
          "name": "stderr"
        },
        {
          "output_type": "stream",
          "text": [
            "Accuracy epoch 120  =  0.48415300546448087\n",
            "tensor(0.2351, device='cuda:0', grad_fn=<NllLossBackward>)\n",
            "tensor(0.2323, device='cuda:0', grad_fn=<NllLossBackward>)\n",
            "tensor(0.2212, device='cuda:0', grad_fn=<NllLossBackward>)\n",
            "tensor(0.2899, device='cuda:0', grad_fn=<NllLossBackward>)\n",
            "tensor(0.2260, device='cuda:0', grad_fn=<NllLossBackward>)\n",
            "tensor(0.0581, device='cuda:0', grad_fn=<NllLossBackward>)\n",
            "tensor(0.0985, device='cuda:0', grad_fn=<NllLossBackward>)\n",
            "tensor(0.2472, device='cuda:0', grad_fn=<NllLossBackward>)\n",
            "tensor(0.1016, device='cuda:0', grad_fn=<NllLossBackward>)\n",
            "tensor(0.1544, device='cuda:0', grad_fn=<NllLossBackward>)\n",
            "tensor(0.0707, device='cuda:0', grad_fn=<NllLossBackward>)\n",
            "tensor(0.1338, device='cuda:0', grad_fn=<NllLossBackward>)\n",
            "COST epoch 121  =  [tensor(215.4651), tensor(189.6025), tensor(175.6849), tensor(164.4619), tensor(158.8496), tensor(156.0321), tensor(150.6120), tensor(144.3463), tensor(141.3565), tensor(139.4983), tensor(136.5457), tensor(128.8909), tensor(124.2010), tensor(125.3575), tensor(121.3005), tensor(118.9421), tensor(118.4855), tensor(116.8539), tensor(115.6892), tensor(115.8840), tensor(113.0649), tensor(108.7815), tensor(108.5644), tensor(107.7817), tensor(105.5480), tensor(102.6072), tensor(100.0628), tensor(96.0067), tensor(92.6655), tensor(89.7722), tensor(89.6663), tensor(85.9662), tensor(83.1880), tensor(82.4780), tensor(84.5441), tensor(78.4753), tensor(80.9089), tensor(78.1325), tensor(74.5456), tensor(77.9940), tensor(72.4654), tensor(69.4446), tensor(76.1483), tensor(70.9732), tensor(69.8376), tensor(67.4501), tensor(67.9863), tensor(65.1256), tensor(59.1719), tensor(54.2257), tensor(52.1780), tensor(60.8111), tensor(52.3975), tensor(52.7493), tensor(52.0840), tensor(56.8607), tensor(48.4050), tensor(54.3788), tensor(51.9191), tensor(43.9075), tensor(41.4396), tensor(45.0265), tensor(58.5117), tensor(48.5969), tensor(46.6955), tensor(41.6940), tensor(35.0416), tensor(38.8943), tensor(47.8251), tensor(39.3093), tensor(30.9201), tensor(31.8631), tensor(34.5794), tensor(33.3512), tensor(38.4576), tensor(35.9424), tensor(45.1892), tensor(43.2896), tensor(51.1424), tensor(31.5733), tensor(26.5779), tensor(29.9627), tensor(31.9452), tensor(36.5331), tensor(33.1515), tensor(31.2439), tensor(24.1168), tensor(30.3980), tensor(40.1584), tensor(29.9310), tensor(22.8265), tensor(22.9804), tensor(20.0973), tensor(25.3530), tensor(36.6106), tensor(30.3809), tensor(34.9887), tensor(54.6532), tensor(36.1554), tensor(29.4460), tensor(26.2822), tensor(26.6348), tensor(35.1002), tensor(29.3603), tensor(21.2217), tensor(23.9768), tensor(20.0577), tensor(28.2518), tensor(26.5647), tensor(29.4851), tensor(31.0345), tensor(22.5284), tensor(29.0627), tensor(35.2666), tensor(24.9637), tensor(22.7595), tensor(23.7034, device='cuda:0'), tensor(22.5727, device='cuda:0'), tensor(26.0879, device='cuda:0'), tensor(22.3387, device='cuda:0'), tensor(17.6325, device='cuda:0'), tensor(21.7002, device='cuda:0'), tensor(27.6935, device='cuda:0')]\n",
            "Files processed =  0\n",
            "Files processed =  10\n",
            "Files processed =  20\n"
          ],
          "name": "stdout"
        },
        {
          "output_type": "stream",
          "text": [
            "\n",
            "  8%|▊         | 7/85 [12:09<2:15:31, 104.26s/it]\u001b[A"
          ],
          "name": "stderr"
        },
        {
          "output_type": "stream",
          "text": [
            "Accuracy epoch 121  =  0.5322404371584699\n",
            "tensor(0.1424, device='cuda:0', grad_fn=<NllLossBackward>)\n",
            "tensor(0.4804, device='cuda:0', grad_fn=<NllLossBackward>)\n",
            "tensor(0.1485, device='cuda:0', grad_fn=<NllLossBackward>)\n",
            "tensor(0.1116, device='cuda:0', grad_fn=<NllLossBackward>)\n",
            "tensor(0.2068, device='cuda:0', grad_fn=<NllLossBackward>)\n",
            "tensor(0.2332, device='cuda:0', grad_fn=<NllLossBackward>)\n",
            "tensor(0.1481, device='cuda:0', grad_fn=<NllLossBackward>)\n",
            "tensor(0.1434, device='cuda:0', grad_fn=<NllLossBackward>)\n",
            "tensor(0.1597, device='cuda:0', grad_fn=<NllLossBackward>)\n",
            "tensor(0.1179, device='cuda:0', grad_fn=<NllLossBackward>)\n",
            "tensor(0.0624, device='cuda:0', grad_fn=<NllLossBackward>)\n",
            "tensor(0.1252, device='cuda:0', grad_fn=<NllLossBackward>)\n",
            "COST epoch 122  =  [tensor(215.4651), tensor(189.6025), tensor(175.6849), tensor(164.4619), tensor(158.8496), tensor(156.0321), tensor(150.6120), tensor(144.3463), tensor(141.3565), tensor(139.4983), tensor(136.5457), tensor(128.8909), tensor(124.2010), tensor(125.3575), tensor(121.3005), tensor(118.9421), tensor(118.4855), tensor(116.8539), tensor(115.6892), tensor(115.8840), tensor(113.0649), tensor(108.7815), tensor(108.5644), tensor(107.7817), tensor(105.5480), tensor(102.6072), tensor(100.0628), tensor(96.0067), tensor(92.6655), tensor(89.7722), tensor(89.6663), tensor(85.9662), tensor(83.1880), tensor(82.4780), tensor(84.5441), tensor(78.4753), tensor(80.9089), tensor(78.1325), tensor(74.5456), tensor(77.9940), tensor(72.4654), tensor(69.4446), tensor(76.1483), tensor(70.9732), tensor(69.8376), tensor(67.4501), tensor(67.9863), tensor(65.1256), tensor(59.1719), tensor(54.2257), tensor(52.1780), tensor(60.8111), tensor(52.3975), tensor(52.7493), tensor(52.0840), tensor(56.8607), tensor(48.4050), tensor(54.3788), tensor(51.9191), tensor(43.9075), tensor(41.4396), tensor(45.0265), tensor(58.5117), tensor(48.5969), tensor(46.6955), tensor(41.6940), tensor(35.0416), tensor(38.8943), tensor(47.8251), tensor(39.3093), tensor(30.9201), tensor(31.8631), tensor(34.5794), tensor(33.3512), tensor(38.4576), tensor(35.9424), tensor(45.1892), tensor(43.2896), tensor(51.1424), tensor(31.5733), tensor(26.5779), tensor(29.9627), tensor(31.9452), tensor(36.5331), tensor(33.1515), tensor(31.2439), tensor(24.1168), tensor(30.3980), tensor(40.1584), tensor(29.9310), tensor(22.8265), tensor(22.9804), tensor(20.0973), tensor(25.3530), tensor(36.6106), tensor(30.3809), tensor(34.9887), tensor(54.6532), tensor(36.1554), tensor(29.4460), tensor(26.2822), tensor(26.6348), tensor(35.1002), tensor(29.3603), tensor(21.2217), tensor(23.9768), tensor(20.0577), tensor(28.2518), tensor(26.5647), tensor(29.4851), tensor(31.0345), tensor(22.5284), tensor(29.0627), tensor(35.2666), tensor(24.9637), tensor(22.7595), tensor(23.7034, device='cuda:0'), tensor(22.5727, device='cuda:0'), tensor(26.0879, device='cuda:0'), tensor(22.3387, device='cuda:0'), tensor(17.6325, device='cuda:0'), tensor(21.7002, device='cuda:0'), tensor(27.6935, device='cuda:0'), tensor(20.7815, device='cuda:0')]\n",
            "Files processed =  0\n",
            "Files processed =  10\n",
            "Files processed =  20\n"
          ],
          "name": "stdout"
        },
        {
          "output_type": "stream",
          "text": [
            "\n",
            "  9%|▉         | 8/85 [13:53<2:13:47, 104.26s/it]\u001b[A"
          ],
          "name": "stderr"
        },
        {
          "output_type": "stream",
          "text": [
            "Accuracy epoch 122  =  0.5781420765027322\n",
            "tensor(0.1222, device='cuda:0', grad_fn=<NllLossBackward>)\n",
            "tensor(0.0986, device='cuda:0', grad_fn=<NllLossBackward>)\n",
            "tensor(0.0894, device='cuda:0', grad_fn=<NllLossBackward>)\n",
            "tensor(0.1291, device='cuda:0', grad_fn=<NllLossBackward>)\n",
            "tensor(0.0732, device='cuda:0', grad_fn=<NllLossBackward>)\n",
            "tensor(0.1461, device='cuda:0', grad_fn=<NllLossBackward>)\n",
            "tensor(0.1223, device='cuda:0', grad_fn=<NllLossBackward>)\n",
            "tensor(0.2281, device='cuda:0', grad_fn=<NllLossBackward>)\n",
            "tensor(0.0823, device='cuda:0', grad_fn=<NllLossBackward>)\n",
            "tensor(0.1276, device='cuda:0', grad_fn=<NllLossBackward>)\n",
            "tensor(0.0563, device='cuda:0', grad_fn=<NllLossBackward>)\n",
            "tensor(0.1267, device='cuda:0', grad_fn=<NllLossBackward>)\n",
            "COST epoch 123  =  [tensor(215.4651), tensor(189.6025), tensor(175.6849), tensor(164.4619), tensor(158.8496), tensor(156.0321), tensor(150.6120), tensor(144.3463), tensor(141.3565), tensor(139.4983), tensor(136.5457), tensor(128.8909), tensor(124.2010), tensor(125.3575), tensor(121.3005), tensor(118.9421), tensor(118.4855), tensor(116.8539), tensor(115.6892), tensor(115.8840), tensor(113.0649), tensor(108.7815), tensor(108.5644), tensor(107.7817), tensor(105.5480), tensor(102.6072), tensor(100.0628), tensor(96.0067), tensor(92.6655), tensor(89.7722), tensor(89.6663), tensor(85.9662), tensor(83.1880), tensor(82.4780), tensor(84.5441), tensor(78.4753), tensor(80.9089), tensor(78.1325), tensor(74.5456), tensor(77.9940), tensor(72.4654), tensor(69.4446), tensor(76.1483), tensor(70.9732), tensor(69.8376), tensor(67.4501), tensor(67.9863), tensor(65.1256), tensor(59.1719), tensor(54.2257), tensor(52.1780), tensor(60.8111), tensor(52.3975), tensor(52.7493), tensor(52.0840), tensor(56.8607), tensor(48.4050), tensor(54.3788), tensor(51.9191), tensor(43.9075), tensor(41.4396), tensor(45.0265), tensor(58.5117), tensor(48.5969), tensor(46.6955), tensor(41.6940), tensor(35.0416), tensor(38.8943), tensor(47.8251), tensor(39.3093), tensor(30.9201), tensor(31.8631), tensor(34.5794), tensor(33.3512), tensor(38.4576), tensor(35.9424), tensor(45.1892), tensor(43.2896), tensor(51.1424), tensor(31.5733), tensor(26.5779), tensor(29.9627), tensor(31.9452), tensor(36.5331), tensor(33.1515), tensor(31.2439), tensor(24.1168), tensor(30.3980), tensor(40.1584), tensor(29.9310), tensor(22.8265), tensor(22.9804), tensor(20.0973), tensor(25.3530), tensor(36.6106), tensor(30.3809), tensor(34.9887), tensor(54.6532), tensor(36.1554), tensor(29.4460), tensor(26.2822), tensor(26.6348), tensor(35.1002), tensor(29.3603), tensor(21.2217), tensor(23.9768), tensor(20.0577), tensor(28.2518), tensor(26.5647), tensor(29.4851), tensor(31.0345), tensor(22.5284), tensor(29.0627), tensor(35.2666), tensor(24.9637), tensor(22.7595), tensor(23.7034, device='cuda:0'), tensor(22.5727, device='cuda:0'), tensor(26.0879, device='cuda:0'), tensor(22.3387, device='cuda:0'), tensor(17.6325, device='cuda:0'), tensor(21.7002, device='cuda:0'), tensor(27.6935, device='cuda:0'), tensor(20.7815, device='cuda:0'), tensor(13.3192, device='cuda:0')]\n",
            "Files processed =  0\n",
            "Files processed =  10\n",
            "Files processed =  20\n"
          ],
          "name": "stdout"
        },
        {
          "output_type": "stream",
          "text": [
            "\n",
            " 11%|█         | 9/85 [15:37<2:11:57, 104.18s/it]\u001b[A"
          ],
          "name": "stderr"
        },
        {
          "output_type": "stream",
          "text": [
            "Accuracy epoch 123  =  0.6185792349726776\n",
            "tensor(0.1384, device='cuda:0', grad_fn=<NllLossBackward>)\n",
            "tensor(0.0506, device='cuda:0', grad_fn=<NllLossBackward>)\n",
            "tensor(0.1051, device='cuda:0', grad_fn=<NllLossBackward>)\n",
            "tensor(0.0860, device='cuda:0', grad_fn=<NllLossBackward>)\n",
            "tensor(0.1217, device='cuda:0', grad_fn=<NllLossBackward>)\n",
            "tensor(0.0825, device='cuda:0', grad_fn=<NllLossBackward>)\n",
            "tensor(0.0459, device='cuda:0', grad_fn=<NllLossBackward>)\n",
            "tensor(0.1388, device='cuda:0', grad_fn=<NllLossBackward>)\n",
            "tensor(0.1175, device='cuda:0', grad_fn=<NllLossBackward>)\n",
            "tensor(0.1064, device='cuda:0', grad_fn=<NllLossBackward>)\n",
            "tensor(0.1009, device='cuda:0', grad_fn=<NllLossBackward>)\n",
            "tensor(0.0874, device='cuda:0', grad_fn=<NllLossBackward>)\n",
            "COST epoch 124  =  [tensor(215.4651), tensor(189.6025), tensor(175.6849), tensor(164.4619), tensor(158.8496), tensor(156.0321), tensor(150.6120), tensor(144.3463), tensor(141.3565), tensor(139.4983), tensor(136.5457), tensor(128.8909), tensor(124.2010), tensor(125.3575), tensor(121.3005), tensor(118.9421), tensor(118.4855), tensor(116.8539), tensor(115.6892), tensor(115.8840), tensor(113.0649), tensor(108.7815), tensor(108.5644), tensor(107.7817), tensor(105.5480), tensor(102.6072), tensor(100.0628), tensor(96.0067), tensor(92.6655), tensor(89.7722), tensor(89.6663), tensor(85.9662), tensor(83.1880), tensor(82.4780), tensor(84.5441), tensor(78.4753), tensor(80.9089), tensor(78.1325), tensor(74.5456), tensor(77.9940), tensor(72.4654), tensor(69.4446), tensor(76.1483), tensor(70.9732), tensor(69.8376), tensor(67.4501), tensor(67.9863), tensor(65.1256), tensor(59.1719), tensor(54.2257), tensor(52.1780), tensor(60.8111), tensor(52.3975), tensor(52.7493), tensor(52.0840), tensor(56.8607), tensor(48.4050), tensor(54.3788), tensor(51.9191), tensor(43.9075), tensor(41.4396), tensor(45.0265), tensor(58.5117), tensor(48.5969), tensor(46.6955), tensor(41.6940), tensor(35.0416), tensor(38.8943), tensor(47.8251), tensor(39.3093), tensor(30.9201), tensor(31.8631), tensor(34.5794), tensor(33.3512), tensor(38.4576), tensor(35.9424), tensor(45.1892), tensor(43.2896), tensor(51.1424), tensor(31.5733), tensor(26.5779), tensor(29.9627), tensor(31.9452), tensor(36.5331), tensor(33.1515), tensor(31.2439), tensor(24.1168), tensor(30.3980), tensor(40.1584), tensor(29.9310), tensor(22.8265), tensor(22.9804), tensor(20.0973), tensor(25.3530), tensor(36.6106), tensor(30.3809), tensor(34.9887), tensor(54.6532), tensor(36.1554), tensor(29.4460), tensor(26.2822), tensor(26.6348), tensor(35.1002), tensor(29.3603), tensor(21.2217), tensor(23.9768), tensor(20.0577), tensor(28.2518), tensor(26.5647), tensor(29.4851), tensor(31.0345), tensor(22.5284), tensor(29.0627), tensor(35.2666), tensor(24.9637), tensor(22.7595), tensor(23.7034, device='cuda:0'), tensor(22.5727, device='cuda:0'), tensor(26.0879, device='cuda:0'), tensor(22.3387, device='cuda:0'), tensor(17.6325, device='cuda:0'), tensor(21.7002, device='cuda:0'), tensor(27.6935, device='cuda:0'), tensor(20.7815, device='cuda:0'), tensor(13.3192, device='cuda:0'), tensor(12.7722, device='cuda:0')]\n",
            "Files processed =  0\n",
            "Files processed =  10\n",
            "Files processed =  20\n"
          ],
          "name": "stdout"
        },
        {
          "output_type": "stream",
          "text": [
            "\n",
            " 12%|█▏        | 10/85 [17:21<2:10:07, 104.11s/it]\u001b[A"
          ],
          "name": "stderr"
        },
        {
          "output_type": "stream",
          "text": [
            "Accuracy epoch 124  =  0.5912568306010929\n",
            "tensor(0.0796, device='cuda:0', grad_fn=<NllLossBackward>)\n",
            "tensor(0.1785, device='cuda:0', grad_fn=<NllLossBackward>)\n",
            "tensor(0.1261, device='cuda:0', grad_fn=<NllLossBackward>)\n",
            "tensor(0.1661, device='cuda:0', grad_fn=<NllLossBackward>)\n",
            "tensor(0.0615, device='cuda:0', grad_fn=<NllLossBackward>)\n",
            "tensor(0.0787, device='cuda:0', grad_fn=<NllLossBackward>)\n",
            "tensor(0.0839, device='cuda:0', grad_fn=<NllLossBackward>)\n",
            "tensor(0.0769, device='cuda:0', grad_fn=<NllLossBackward>)\n",
            "tensor(0.0776, device='cuda:0', grad_fn=<NllLossBackward>)\n",
            "tensor(0.0915, device='cuda:0', grad_fn=<NllLossBackward>)\n",
            "tensor(0.1316, device='cuda:0', grad_fn=<NllLossBackward>)\n",
            "tensor(0.0623, device='cuda:0', grad_fn=<NllLossBackward>)\n",
            "COST epoch 125  =  [tensor(215.4651), tensor(189.6025), tensor(175.6849), tensor(164.4619), tensor(158.8496), tensor(156.0321), tensor(150.6120), tensor(144.3463), tensor(141.3565), tensor(139.4983), tensor(136.5457), tensor(128.8909), tensor(124.2010), tensor(125.3575), tensor(121.3005), tensor(118.9421), tensor(118.4855), tensor(116.8539), tensor(115.6892), tensor(115.8840), tensor(113.0649), tensor(108.7815), tensor(108.5644), tensor(107.7817), tensor(105.5480), tensor(102.6072), tensor(100.0628), tensor(96.0067), tensor(92.6655), tensor(89.7722), tensor(89.6663), tensor(85.9662), tensor(83.1880), tensor(82.4780), tensor(84.5441), tensor(78.4753), tensor(80.9089), tensor(78.1325), tensor(74.5456), tensor(77.9940), tensor(72.4654), tensor(69.4446), tensor(76.1483), tensor(70.9732), tensor(69.8376), tensor(67.4501), tensor(67.9863), tensor(65.1256), tensor(59.1719), tensor(54.2257), tensor(52.1780), tensor(60.8111), tensor(52.3975), tensor(52.7493), tensor(52.0840), tensor(56.8607), tensor(48.4050), tensor(54.3788), tensor(51.9191), tensor(43.9075), tensor(41.4396), tensor(45.0265), tensor(58.5117), tensor(48.5969), tensor(46.6955), tensor(41.6940), tensor(35.0416), tensor(38.8943), tensor(47.8251), tensor(39.3093), tensor(30.9201), tensor(31.8631), tensor(34.5794), tensor(33.3512), tensor(38.4576), tensor(35.9424), tensor(45.1892), tensor(43.2896), tensor(51.1424), tensor(31.5733), tensor(26.5779), tensor(29.9627), tensor(31.9452), tensor(36.5331), tensor(33.1515), tensor(31.2439), tensor(24.1168), tensor(30.3980), tensor(40.1584), tensor(29.9310), tensor(22.8265), tensor(22.9804), tensor(20.0973), tensor(25.3530), tensor(36.6106), tensor(30.3809), tensor(34.9887), tensor(54.6532), tensor(36.1554), tensor(29.4460), tensor(26.2822), tensor(26.6348), tensor(35.1002), tensor(29.3603), tensor(21.2217), tensor(23.9768), tensor(20.0577), tensor(28.2518), tensor(26.5647), tensor(29.4851), tensor(31.0345), tensor(22.5284), tensor(29.0627), tensor(35.2666), tensor(24.9637), tensor(22.7595), tensor(23.7034, device='cuda:0'), tensor(22.5727, device='cuda:0'), tensor(26.0879, device='cuda:0'), tensor(22.3387, device='cuda:0'), tensor(17.6325, device='cuda:0'), tensor(21.7002, device='cuda:0'), tensor(27.6935, device='cuda:0'), tensor(20.7815, device='cuda:0'), tensor(13.3192, device='cuda:0'), tensor(12.7722, device='cuda:0'), tensor(24.7190, device='cuda:0')]\n",
            "Files processed =  0\n",
            "Files processed =  10\n",
            "Files processed =  20\n"
          ],
          "name": "stdout"
        },
        {
          "output_type": "stream",
          "text": [
            "\n",
            " 13%|█▎        | 11/85 [19:05<2:08:23, 104.11s/it]\u001b[A"
          ],
          "name": "stderr"
        },
        {
          "output_type": "stream",
          "text": [
            "Accuracy epoch 125  =  0.46775956284153003\n",
            "tensor(0.0837, device='cuda:0', grad_fn=<NllLossBackward>)\n",
            "tensor(0.5509, device='cuda:0', grad_fn=<NllLossBackward>)\n",
            "tensor(0.5157, device='cuda:0', grad_fn=<NllLossBackward>)\n",
            "tensor(0.1991, device='cuda:0', grad_fn=<NllLossBackward>)\n",
            "tensor(0.2789, device='cuda:0', grad_fn=<NllLossBackward>)\n",
            "tensor(0.2755, device='cuda:0', grad_fn=<NllLossBackward>)\n",
            "tensor(0.1337, device='cuda:0', grad_fn=<NllLossBackward>)\n",
            "tensor(0.0824, device='cuda:0', grad_fn=<NllLossBackward>)\n",
            "tensor(0.2114, device='cuda:0', grad_fn=<NllLossBackward>)\n",
            "tensor(0.0782, device='cuda:0', grad_fn=<NllLossBackward>)\n",
            "tensor(0.1208, device='cuda:0', grad_fn=<NllLossBackward>)\n",
            "tensor(0.6723, device='cuda:0', grad_fn=<NllLossBackward>)\n",
            "COST epoch 126  =  [tensor(215.4651), tensor(189.6025), tensor(175.6849), tensor(164.4619), tensor(158.8496), tensor(156.0321), tensor(150.6120), tensor(144.3463), tensor(141.3565), tensor(139.4983), tensor(136.5457), tensor(128.8909), tensor(124.2010), tensor(125.3575), tensor(121.3005), tensor(118.9421), tensor(118.4855), tensor(116.8539), tensor(115.6892), tensor(115.8840), tensor(113.0649), tensor(108.7815), tensor(108.5644), tensor(107.7817), tensor(105.5480), tensor(102.6072), tensor(100.0628), tensor(96.0067), tensor(92.6655), tensor(89.7722), tensor(89.6663), tensor(85.9662), tensor(83.1880), tensor(82.4780), tensor(84.5441), tensor(78.4753), tensor(80.9089), tensor(78.1325), tensor(74.5456), tensor(77.9940), tensor(72.4654), tensor(69.4446), tensor(76.1483), tensor(70.9732), tensor(69.8376), tensor(67.4501), tensor(67.9863), tensor(65.1256), tensor(59.1719), tensor(54.2257), tensor(52.1780), tensor(60.8111), tensor(52.3975), tensor(52.7493), tensor(52.0840), tensor(56.8607), tensor(48.4050), tensor(54.3788), tensor(51.9191), tensor(43.9075), tensor(41.4396), tensor(45.0265), tensor(58.5117), tensor(48.5969), tensor(46.6955), tensor(41.6940), tensor(35.0416), tensor(38.8943), tensor(47.8251), tensor(39.3093), tensor(30.9201), tensor(31.8631), tensor(34.5794), tensor(33.3512), tensor(38.4576), tensor(35.9424), tensor(45.1892), tensor(43.2896), tensor(51.1424), tensor(31.5733), tensor(26.5779), tensor(29.9627), tensor(31.9452), tensor(36.5331), tensor(33.1515), tensor(31.2439), tensor(24.1168), tensor(30.3980), tensor(40.1584), tensor(29.9310), tensor(22.8265), tensor(22.9804), tensor(20.0973), tensor(25.3530), tensor(36.6106), tensor(30.3809), tensor(34.9887), tensor(54.6532), tensor(36.1554), tensor(29.4460), tensor(26.2822), tensor(26.6348), tensor(35.1002), tensor(29.3603), tensor(21.2217), tensor(23.9768), tensor(20.0577), tensor(28.2518), tensor(26.5647), tensor(29.4851), tensor(31.0345), tensor(22.5284), tensor(29.0627), tensor(35.2666), tensor(24.9637), tensor(22.7595), tensor(23.7034, device='cuda:0'), tensor(22.5727, device='cuda:0'), tensor(26.0879, device='cuda:0'), tensor(22.3387, device='cuda:0'), tensor(17.6325, device='cuda:0'), tensor(21.7002, device='cuda:0'), tensor(27.6935, device='cuda:0'), tensor(20.7815, device='cuda:0'), tensor(13.3192, device='cuda:0'), tensor(12.7722, device='cuda:0'), tensor(24.7190, device='cuda:0'), tensor(26.7232, device='cuda:0')]\n",
            "Files processed =  0\n",
            "Files processed =  10\n",
            "Files processed =  20\n"
          ],
          "name": "stdout"
        },
        {
          "output_type": "stream",
          "text": [
            "\n",
            " 14%|█▍        | 12/85 [20:49<2:06:39, 104.10s/it]\u001b[A"
          ],
          "name": "stderr"
        },
        {
          "output_type": "stream",
          "text": [
            "Accuracy epoch 126  =  0.43278688524590164\n",
            "tensor(0.1243, device='cuda:0', grad_fn=<NllLossBackward>)\n",
            "tensor(0.1941, device='cuda:0', grad_fn=<NllLossBackward>)\n",
            "tensor(0.1178, device='cuda:0', grad_fn=<NllLossBackward>)\n",
            "tensor(0.1195, device='cuda:0', grad_fn=<NllLossBackward>)\n",
            "tensor(0.1820, device='cuda:0', grad_fn=<NllLossBackward>)\n",
            "tensor(0.0507, device='cuda:0', grad_fn=<NllLossBackward>)\n",
            "tensor(0.0731, device='cuda:0', grad_fn=<NllLossBackward>)\n",
            "tensor(0.1286, device='cuda:0', grad_fn=<NllLossBackward>)\n",
            "tensor(0.1161, device='cuda:0', grad_fn=<NllLossBackward>)\n",
            "tensor(0.0861, device='cuda:0', grad_fn=<NllLossBackward>)\n",
            "tensor(0.0673, device='cuda:0', grad_fn=<NllLossBackward>)\n",
            "tensor(0.0610, device='cuda:0', grad_fn=<NllLossBackward>)\n",
            "COST epoch 127  =  [tensor(215.4651), tensor(189.6025), tensor(175.6849), tensor(164.4619), tensor(158.8496), tensor(156.0321), tensor(150.6120), tensor(144.3463), tensor(141.3565), tensor(139.4983), tensor(136.5457), tensor(128.8909), tensor(124.2010), tensor(125.3575), tensor(121.3005), tensor(118.9421), tensor(118.4855), tensor(116.8539), tensor(115.6892), tensor(115.8840), tensor(113.0649), tensor(108.7815), tensor(108.5644), tensor(107.7817), tensor(105.5480), tensor(102.6072), tensor(100.0628), tensor(96.0067), tensor(92.6655), tensor(89.7722), tensor(89.6663), tensor(85.9662), tensor(83.1880), tensor(82.4780), tensor(84.5441), tensor(78.4753), tensor(80.9089), tensor(78.1325), tensor(74.5456), tensor(77.9940), tensor(72.4654), tensor(69.4446), tensor(76.1483), tensor(70.9732), tensor(69.8376), tensor(67.4501), tensor(67.9863), tensor(65.1256), tensor(59.1719), tensor(54.2257), tensor(52.1780), tensor(60.8111), tensor(52.3975), tensor(52.7493), tensor(52.0840), tensor(56.8607), tensor(48.4050), tensor(54.3788), tensor(51.9191), tensor(43.9075), tensor(41.4396), tensor(45.0265), tensor(58.5117), tensor(48.5969), tensor(46.6955), tensor(41.6940), tensor(35.0416), tensor(38.8943), tensor(47.8251), tensor(39.3093), tensor(30.9201), tensor(31.8631), tensor(34.5794), tensor(33.3512), tensor(38.4576), tensor(35.9424), tensor(45.1892), tensor(43.2896), tensor(51.1424), tensor(31.5733), tensor(26.5779), tensor(29.9627), tensor(31.9452), tensor(36.5331), tensor(33.1515), tensor(31.2439), tensor(24.1168), tensor(30.3980), tensor(40.1584), tensor(29.9310), tensor(22.8265), tensor(22.9804), tensor(20.0973), tensor(25.3530), tensor(36.6106), tensor(30.3809), tensor(34.9887), tensor(54.6532), tensor(36.1554), tensor(29.4460), tensor(26.2822), tensor(26.6348), tensor(35.1002), tensor(29.3603), tensor(21.2217), tensor(23.9768), tensor(20.0577), tensor(28.2518), tensor(26.5647), tensor(29.4851), tensor(31.0345), tensor(22.5284), tensor(29.0627), tensor(35.2666), tensor(24.9637), tensor(22.7595), tensor(23.7034, device='cuda:0'), tensor(22.5727, device='cuda:0'), tensor(26.0879, device='cuda:0'), tensor(22.3387, device='cuda:0'), tensor(17.6325, device='cuda:0'), tensor(21.7002, device='cuda:0'), tensor(27.6935, device='cuda:0'), tensor(20.7815, device='cuda:0'), tensor(13.3192, device='cuda:0'), tensor(12.7722, device='cuda:0'), tensor(24.7190, device='cuda:0'), tensor(26.7232, device='cuda:0'), tensor(14.3619, device='cuda:0')]\n",
            "Files processed =  0\n",
            "Files processed =  10\n",
            "Files processed =  20\n"
          ],
          "name": "stdout"
        },
        {
          "output_type": "stream",
          "text": [
            "\n",
            " 15%|█▌        | 13/85 [22:34<2:04:57, 104.13s/it]\u001b[A"
          ],
          "name": "stderr"
        },
        {
          "output_type": "stream",
          "text": [
            "Accuracy epoch 127  =  0.5442622950819672\n",
            "tensor(0.2199, device='cuda:0', grad_fn=<NllLossBackward>)\n",
            "tensor(0.1560, device='cuda:0', grad_fn=<NllLossBackward>)\n",
            "tensor(0.1341, device='cuda:0', grad_fn=<NllLossBackward>)\n",
            "tensor(0.1342, device='cuda:0', grad_fn=<NllLossBackward>)\n",
            "tensor(0.1935, device='cuda:0', grad_fn=<NllLossBackward>)\n",
            "tensor(0.0664, device='cuda:0', grad_fn=<NllLossBackward>)\n",
            "tensor(0.1471, device='cuda:0', grad_fn=<NllLossBackward>)\n",
            "tensor(0.2633, device='cuda:0', grad_fn=<NllLossBackward>)\n",
            "tensor(0.2238, device='cuda:0', grad_fn=<NllLossBackward>)\n",
            "tensor(0.0652, device='cuda:0', grad_fn=<NllLossBackward>)\n",
            "tensor(0.1272, device='cuda:0', grad_fn=<NllLossBackward>)\n",
            "tensor(0.1359, device='cuda:0', grad_fn=<NllLossBackward>)\n",
            "COST epoch 128  =  [tensor(215.4651), tensor(189.6025), tensor(175.6849), tensor(164.4619), tensor(158.8496), tensor(156.0321), tensor(150.6120), tensor(144.3463), tensor(141.3565), tensor(139.4983), tensor(136.5457), tensor(128.8909), tensor(124.2010), tensor(125.3575), tensor(121.3005), tensor(118.9421), tensor(118.4855), tensor(116.8539), tensor(115.6892), tensor(115.8840), tensor(113.0649), tensor(108.7815), tensor(108.5644), tensor(107.7817), tensor(105.5480), tensor(102.6072), tensor(100.0628), tensor(96.0067), tensor(92.6655), tensor(89.7722), tensor(89.6663), tensor(85.9662), tensor(83.1880), tensor(82.4780), tensor(84.5441), tensor(78.4753), tensor(80.9089), tensor(78.1325), tensor(74.5456), tensor(77.9940), tensor(72.4654), tensor(69.4446), tensor(76.1483), tensor(70.9732), tensor(69.8376), tensor(67.4501), tensor(67.9863), tensor(65.1256), tensor(59.1719), tensor(54.2257), tensor(52.1780), tensor(60.8111), tensor(52.3975), tensor(52.7493), tensor(52.0840), tensor(56.8607), tensor(48.4050), tensor(54.3788), tensor(51.9191), tensor(43.9075), tensor(41.4396), tensor(45.0265), tensor(58.5117), tensor(48.5969), tensor(46.6955), tensor(41.6940), tensor(35.0416), tensor(38.8943), tensor(47.8251), tensor(39.3093), tensor(30.9201), tensor(31.8631), tensor(34.5794), tensor(33.3512), tensor(38.4576), tensor(35.9424), tensor(45.1892), tensor(43.2896), tensor(51.1424), tensor(31.5733), tensor(26.5779), tensor(29.9627), tensor(31.9452), tensor(36.5331), tensor(33.1515), tensor(31.2439), tensor(24.1168), tensor(30.3980), tensor(40.1584), tensor(29.9310), tensor(22.8265), tensor(22.9804), tensor(20.0973), tensor(25.3530), tensor(36.6106), tensor(30.3809), tensor(34.9887), tensor(54.6532), tensor(36.1554), tensor(29.4460), tensor(26.2822), tensor(26.6348), tensor(35.1002), tensor(29.3603), tensor(21.2217), tensor(23.9768), tensor(20.0577), tensor(28.2518), tensor(26.5647), tensor(29.4851), tensor(31.0345), tensor(22.5284), tensor(29.0627), tensor(35.2666), tensor(24.9637), tensor(22.7595), tensor(23.7034, device='cuda:0'), tensor(22.5727, device='cuda:0'), tensor(26.0879, device='cuda:0'), tensor(22.3387, device='cuda:0'), tensor(17.6325, device='cuda:0'), tensor(21.7002, device='cuda:0'), tensor(27.6935, device='cuda:0'), tensor(20.7815, device='cuda:0'), tensor(13.3192, device='cuda:0'), tensor(12.7722, device='cuda:0'), tensor(24.7190, device='cuda:0'), tensor(26.7232, device='cuda:0'), tensor(14.3619, device='cuda:0'), tensor(18.2599, device='cuda:0')]\n",
            "Files processed =  0\n",
            "Files processed =  10\n",
            "Files processed =  20\n"
          ],
          "name": "stdout"
        },
        {
          "output_type": "stream",
          "text": [
            "\n",
            " 16%|█▋        | 14/85 [24:18<2:03:13, 104.13s/it]\u001b[A"
          ],
          "name": "stderr"
        },
        {
          "output_type": "stream",
          "text": [
            "Accuracy epoch 128  =  0.6043715846994535\n",
            "tensor(0.1066, device='cuda:0', grad_fn=<NllLossBackward>)\n",
            "tensor(0.1748, device='cuda:0', grad_fn=<NllLossBackward>)\n",
            "tensor(0.2021, device='cuda:0', grad_fn=<NllLossBackward>)\n",
            "tensor(0.0902, device='cuda:0', grad_fn=<NllLossBackward>)\n",
            "tensor(0.2416, device='cuda:0', grad_fn=<NllLossBackward>)\n",
            "tensor(0.1819, device='cuda:0', grad_fn=<NllLossBackward>)\n",
            "tensor(0.1568, device='cuda:0', grad_fn=<NllLossBackward>)\n",
            "tensor(0.0889, device='cuda:0', grad_fn=<NllLossBackward>)\n",
            "tensor(0.1673, device='cuda:0', grad_fn=<NllLossBackward>)\n",
            "tensor(0.1541, device='cuda:0', grad_fn=<NllLossBackward>)\n",
            "tensor(0.1258, device='cuda:0', grad_fn=<NllLossBackward>)\n",
            "tensor(0.1654, device='cuda:0', grad_fn=<NllLossBackward>)\n"
          ],
          "name": "stdout"
        }
      ]
    },
    {
      "cell_type": "code",
      "metadata": {
        "id": "Wp62PlNlmHSa",
        "colab_type": "code",
        "colab": {
          "base_uri": "https://localhost:8080/",
          "height": 34
        },
        "outputId": "353a9ee0-e46b-47f5-bdb0-493210229b33"
      },
      "source": [
        " n_classes = torch.unique(y)\n",
        " print(n_classes)"
      ],
      "execution_count": null,
      "outputs": [
        {
          "output_type": "stream",
          "text": [
            "tensor([0, 1, 2, 3, 4, 5, 7, 8], device='cuda:0')\n"
          ],
          "name": "stdout"
        }
      ]
    },
    {
      "cell_type": "code",
      "metadata": {
        "id": "3cSmPCQNDpgZ",
        "colab_type": "code",
        "colab": {
          "base_uri": "https://localhost:8080/",
          "height": 284
        },
        "outputId": "cdb730dc-61ca-41ab-a80e-c11cd0466608"
      },
      "source": [
        "plt.plot(cost_list)"
      ],
      "execution_count": 19,
      "outputs": [
        {
          "output_type": "execute_result",
          "data": {
            "text/plain": [
              "[<matplotlib.lines.Line2D at 0x7ff789ea0a20>]"
            ]
          },
          "metadata": {
            "tags": []
          },
          "execution_count": 19
        },
        {
          "output_type": "display_data",
          "data": {
            "image/png": "[encoded data removed]",
            "text/plain": [
              "<Figure size 432x288 with 1 Axes>"
            ]
          },
          "metadata": {
            "tags": [],
            "needs_background": "light"
          }
        }
      ]
    },
    {
      "cell_type": "code",
      "metadata": {
        "id": "7klvn4SOFN64",
        "colab_type": "code",
        "colab": {
          "base_uri": "https://localhost:8080/",
          "height": 130
        },
        "outputId": "c21de2a5-4f3f-4272-cba8-ee63446a0fcb"
      },
      "source": [
        "plt.plot(cost_list, c='blue', pred_list, c='red')\n",
        "#or \n",
        "#plt.plot(cost_list, label=trainloss)\n",
        "#plt.plot(pred_list, label=testloss)\n",
        "plt.show()"
      ],
      "execution_count": null,
      "outputs": [
        {
          "output_type": "error",
          "ename": "SyntaxError",
          "evalue": "ignored",
          "traceback": [
            "\u001b[0;36m  File \u001b[0;32m\"<ipython-input-11-89d3b6b04759>\"\u001b[0;36m, line \u001b[0;32m1\u001b[0m\n\u001b[0;31m    plt.plot(cost_list, c='blue', pred_list, c='red')\u001b[0m\n\u001b[0m                                 ^\u001b[0m\n\u001b[0;31mSyntaxError\u001b[0m\u001b[0;31m:\u001b[0m positional argument follows keyword argument\n"
          ]
        }
      ]
    },
    {
      "cell_type": "markdown",
      "metadata": {
        "id": "Ia_JakXiDpge",
        "colab_type": "text"
      },
      "source": [
        "### Evaluation"
      ]
    },
    {
      "cell_type": "markdown",
      "metadata": {
        "id": "8hGfGtmsm7fT",
        "colab_type": "text"
      },
      "source": [
        "Loading model"
      ]
    },
    {
      "cell_type": "code",
      "metadata": {
        "id": "SOrq8SCxDpgg",
        "colab_type": "code",
        "colab": {
          "base_uri": "https://localhost:8080/",
          "height": 357
        },
        "outputId": "97bc1224-480d-47b2-b21b-25f73d75c518"
      },
      "source": [
        "checkpoint = torch.load('/content/drive/My Drive/archives/mel_specs/1_min/checkpointtr0.tar', map_location=lambda storage, loc: storage)\n",
        "model.load_state_dict(checkpoint['model_state_dict'])\n",
        "optimizer.load_state_dict(checkpoint['optimizer_state_dict'])\n",
        "epoch = checkpoint['epoch']\n",
        "cost_list = checkpoint['cost_list']\n",
        "model.cuda()"
      ],
      "execution_count": null,
      "outputs": [
        {
          "output_type": "execute_result",
          "data": {
            "text/plain": [
              "CNN(\n",
              "  (bn_init): BatchNorm2d(1, eps=1e-05, momentum=0.1, affine=True, track_running_stats=True)\n",
              "  (conv_1): Conv2d(1, 64, kernel_size=(3, 3), stride=(1, 1), padding=(1, 1))\n",
              "  (bn_1): BatchNorm2d(64, eps=1e-05, momentum=0.1, affine=True, track_running_stats=True)\n",
              "  (mp_1): MaxPool2d(kernel_size=(2, 4), stride=(2, 4), padding=0, dilation=1, ceil_mode=False)\n",
              "  (conv_2): Conv2d(64, 128, kernel_size=(3, 3), stride=(1, 1), padding=(1, 1))\n",
              "  (bn_2): BatchNorm2d(128, eps=1e-05, momentum=0.1, affine=True, track_running_stats=True)\n",
              "  (mp_2): MaxPool2d(kernel_size=(2, 4), stride=(2, 4), padding=0, dilation=1, ceil_mode=False)\n",
              "  (conv_3): Conv2d(128, 128, kernel_size=(3, 3), stride=(1, 1), padding=(1, 1))\n",
              "  (bn_3): BatchNorm2d(128, eps=1e-05, momentum=0.1, affine=True, track_running_stats=True)\n",
              "  (mp_3): MaxPool2d(kernel_size=(2, 4), stride=(2, 4), padding=0, dilation=1, ceil_mode=False)\n",
              "  (conv_4): Conv2d(128, 128, kernel_size=(3, 3), stride=(1, 1), padding=(1, 1))\n",
              "  (bn_4): BatchNorm2d(128, eps=1e-05, momentum=0.1, affine=True, track_running_stats=True)\n",
              "  (mp_4): MaxPool2d(kernel_size=(3, 5), stride=(3, 5), padding=0, dilation=1, ceil_mode=False)\n",
              "  (conv_5): Conv2d(128, 64, kernel_size=(3, 3), stride=(1, 1), padding=(1, 1))\n",
              "  (bn_5): BatchNorm2d(64, eps=1e-05, momentum=0.1, affine=True, track_running_stats=True)\n",
              "  (mp_5): MaxPool2d(kernel_size=(4, 4), stride=(4, 4), padding=0, dilation=1, ceil_mode=False)\n",
              "  (gap): AvgPool2d(kernel_size=(1, 2), stride=(1, 1), padding=0)\n",
              "  (dense): Linear(in_features=64, out_features=9, bias=True)\n",
              ")"
            ]
          },
          "metadata": {
            "tags": []
          },
          "execution_count": 9
        }
      ]
    },
    {
      "cell_type": "code",
      "metadata": {
        "id": "cixzZtCdDpgj",
        "colab_type": "code",
        "colab": {
          "base_uri": "https://localhost:8080/",
          "height": 68
        },
        "outputId": "aa628b07-4c54-4177-c630-00da645ffc8b"
      },
      "source": [
        "y_list = []\n",
        "pred_list = []\n",
        "model.eval()\n",
        "for i, data in enumerate(test_loader):\n",
        "    x, y = data\n",
        "    x = x.cuda()\n",
        "    pred = model(x)\n",
        "    \n",
        "    pred = pred.detach().cpu()\n",
        "    for _p in pred:\n",
        "          pred_list.append(int(_p.argmax()))\n",
        "    for _y in y:\n",
        "          y_list.append(int(_y))\n",
        "        \n",
        "    if i % 10 == 0:\n",
        "        print('Batch processed = ', i)\n",
        "    "
      ],
      "execution_count": 20,
      "outputs": [
        {
          "output_type": "stream",
          "text": [
            "Batch processed =  0\n",
            "Batch processed =  10\n",
            "Batch processed =  20\n"
          ],
          "name": "stdout"
        }
      ]
    },
    {
      "cell_type": "markdown",
      "metadata": {
        "id": "8bIMzJFlm_NZ",
        "colab_type": "text"
      },
      "source": [
        "Accuracy calculation"
      ]
    },
    {
      "cell_type": "code",
      "metadata": {
        "id": "k-adOkLZDpgp",
        "colab_type": "code",
        "colab": {
          "base_uri": "https://localhost:8080/",
          "height": 34
        },
        "outputId": "6f68a0bc-83a8-4b5f-9cac-5a1c20b58542"
      },
      "source": [
        "accuracy = np.sum(np.asarray(pred_list)==np.asarray(y_list))/len(y_list)\n",
        "print(accuracy)"
      ],
      "execution_count": 21,
      "outputs": [
        {
          "output_type": "stream",
          "text": [
            "0.34972677595628415\n"
          ],
          "name": "stdout"
        }
      ]
    },
    {
      "cell_type": "markdown",
      "metadata": {
        "id": "ZzpnVgZknEM9",
        "colab_type": "text"
      },
      "source": [
        "Confusion matrix calculation"
      ]
    },
    {
      "cell_type": "code",
      "metadata": {
        "id": "5BIwb6ubDpgt",
        "colab_type": "code",
        "colab": {
          "base_uri": "https://localhost:8080/",
          "height": 348
        },
        "outputId": "3ca8e430-0cf2-496e-fde7-e79137451e32"
      },
      "source": [
        "import sklearn.metrics\n",
        "import seaborn\n",
        " \n",
        "lab = [lab.split('archive')[0] for lab in labels]\n",
        "plt.figure()\n",
        "plt.title('Confusion matrix 1 minute chunk')\n",
        "cm = sklearn.metrics.confusion_matrix(np.asarray(y_list), np.asarray(pred_list))\n",
        "seaborn.heatmap(cm, annot=True, xticklabels=lab, yticklabels=lab, fmt=\"d\", cmap = \"Oranges\")"
      ],
      "execution_count": 25,
      "outputs": [
        {
          "output_type": "execute_result",
          "data": {
            "text/plain": [
              "<matplotlib.axes._subplots.AxesSubplot at 0x7ff78973dba8>"
            ]
          },
          "metadata": {
            "tags": []
          },
          "execution_count": 25
        },
        {
          "output_type": "display_data",
          "data": {
            "image/png": "[encoded data removed]",
            "text/plain": [
              "<Figure size 432x288 with 2 Axes>"
            ]
          },
          "metadata": {
            "tags": [],
            "needs_background": "light"
          }
        }
      ]
    },
    {
      "cell_type": "markdown",
      "metadata": {
        "id": "FWEaA-vEnK3q",
        "colab_type": "text"
      },
      "source": [
        "F"
      ]
    },
    {
      "cell_type": "code",
      "metadata": {
        "id": "yvJE1-D6Dpg3",
        "colab_type": "code",
        "colab": {
          "base_uri": "https://localhost:8080/",
          "height": 34
        },
        "outputId": "dc54a3af-d5cd-4f2e-e012-25202ed9c34b"
      },
      "source": [
        "sklearn.metrics.f1_score(y_list, pred_list, average='micro')"
      ],
      "execution_count": 26,
      "outputs": [
        {
          "output_type": "execute_result",
          "data": {
            "text/plain": [
              "0.34972677595628415"
            ]
          },
          "metadata": {
            "tags": []
          },
          "execution_count": 26
        }
      ]
    },
    {
      "cell_type": "code",
      "metadata": {
        "id": "ItN5cVxrPeG_",
        "colab_type": "code",
        "colab": {
          "base_uri": "https://localhost:8080/",
          "height": 289
        },
        "outputId": "c901063c-91ad-44f3-9099-7598d3a18cbd"
      },
      "source": [
        "from sklearn.metrics import classification_report\n",
        "print(classification_report(y_list, pred_list))"
      ],
      "execution_count": 27,
      "outputs": [
        {
          "output_type": "stream",
          "text": [
            "              precision    recall  f1-score   support\n",
            "\n",
            "           0       0.08      0.08      0.08        76\n",
            "           1       0.35      0.27      0.31        62\n",
            "           2       0.54      0.62      0.58       296\n",
            "           3       0.15      0.19      0.17        57\n",
            "           4       0.29      0.43      0.34        70\n",
            "           5       0.43      0.42      0.43        76\n",
            "           6       0.11      0.09      0.10        58\n",
            "           7       0.22      0.05      0.09       111\n",
            "           8       0.24      0.28      0.25       109\n",
            "\n",
            "    accuracy                           0.35       915\n",
            "   macro avg       0.27      0.27      0.26       915\n",
            "weighted avg       0.33      0.35      0.33       915\n",
            "\n"
          ],
          "name": "stdout"
        }
      ]
    }
  ]
}