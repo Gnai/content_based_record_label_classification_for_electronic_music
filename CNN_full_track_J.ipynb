{
  "nbformat": 4,
  "nbformat_minor": 0,
  "metadata": {
    "kernelspec": {
      "name": "python3",
      "display_name": "Python 3"
    },
    "colab": {
      "name": "CNN_full-track_J.ipynb",
      "provenance": [],
      "collapsed_sections": []
    },
    "accelerator": "GPU"
  },
  "cells": [
    {
      "cell_type": "markdown",
      "metadata": {
        "id": "ZGYN8XySCKSt",
        "colab_type": "text"
      },
      "source": [
        "# CNN electronic music label classification full-track chunk"
      ]
    },
    {
      "cell_type": "markdown",
      "metadata": {
        "id": "Mm3HTWugkLvi",
        "colab_type": "text"
      },
      "source": [
        "### Import libraries"
      ]
    },
    {
      "cell_type": "code",
      "metadata": {
        "id": "I09P9JUjCKSw",
        "colab_type": "code",
        "colab": {}
      },
      "source": [
        "import torch\n",
        "import torch.nn as nn\n",
        "import numpy as np\n",
        "import pandas as pd\n",
        "from torch.utils import data\n",
        "import os\n",
        "import tqdm as tqdm\n",
        "import matplotlib.pyplot as plt"
      ],
      "execution_count": 0,
      "outputs": []
    },
    {
      "cell_type": "code",
      "metadata": {
        "id": "5B553TpuCRHS",
        "colab_type": "code",
        "outputId": "1d3fea96-e7f2-4ff9-e71b-8cd64d675d80",
        "colab": {
          "base_uri": "https://localhost:8080/",
          "height": 122
        }
      },
      "source": [
        "from google.colab import drive\n",
        "drive.mount('/content/drive')"
      ],
      "execution_count": 2,
      "outputs": [
        {
          "output_type": "stream",
          "text": [
            "Go to this URL in a browser: https://accounts.google.com/o/oauth2/auth?client_id=947318989803-6bn6qk8qdgf4n4g3pfee6491hc0brc4i.apps.googleusercontent.com&redirect_uri=urn%3aietf%3awg%3aoauth%3a2.0%3aoob&response_type=code&scope=email%20https%3a%2f%2fwww.googleapis.com%2fauth%2fdocs.test%20https%3a%2f%2fwww.googleapis.com%2fauth%2fdrive%20https%3a%2f%2fwww.googleapis.com%2fauth%2fdrive.photos.readonly%20https%3a%2f%2fwww.googleapis.com%2fauth%2fpeopleapi.readonly\n",
            "\n",
            "Enter your authorization code:\n",
            "··········\n",
            "Mounted at /content/drive\n"
          ],
          "name": "stdout"
        }
      ]
    },
    {
      "cell_type": "markdown",
      "metadata": {
        "id": "WZWrB6y9CKSz",
        "colab_type": "text"
      },
      "source": [
        "### Class definition\n",
        "Dataset and CNN"
      ]
    },
    {
      "cell_type": "code",
      "metadata": {
        "id": "BgM3VrntCKS0",
        "colab_type": "code",
        "colab": {}
      },
      "source": [
        "class AudioFolder(data.Dataset):\n",
        "    def __init__(self, csv_path, labels):\n",
        "        self.csv = pd.read_csv(csv_path)\n",
        "        self.labels = labels        \n",
        "        self.output_dict = dict()\n",
        "        for i,l in enumerate(self.labels):\n",
        "            self.output_dict[l]=i\n",
        "\n",
        "\n",
        "    def __getitem__(self, index):\n",
        "        npy, label = self.get_npy(index)\n",
        "        return npy.astype('float'), label\n",
        "\n",
        "    def get_npy(self, index):\n",
        "        path = self.csv['path'][index]\n",
        "        path = path.split('/homedtic/jbustos/mel_specs/')[1]\n",
        "        path = '/content/drive/My Drive/archives/mel_specs/'+path\n",
        "        npy = np.load(path)\n",
        "        #Hot encoding output\n",
        "        #label_hot = np.zeros(len(labels))\n",
        "        label = self.output_dict[self.csv['label'][index]]\n",
        "        #label_hot[label]=1\n",
        "        return npy, label\n",
        "\n",
        "    def __len__(self):\n",
        "        return len(self.csv)\n",
        "\n",
        "\n",
        "def my_collate(batch):\n",
        "\n",
        "    min_size = min([item[0].shape[1] for item in batch]) \n",
        "    data = [item[0][:,:min_size] for item in batch]\n",
        "    target = [item[1] for item in batch]\n",
        "    data = torch.Tensor(data)\n",
        "    target = torch.LongTensor(target)\n",
        "\n",
        "    return [data, target]\n",
        "\n",
        "\n",
        "\n",
        "def get_audio_loader():\n",
        "    data_loader = data.DataLoader(dataset=AudioFolder(csv_path=csv_path, labels=labels),\n",
        "                                  batch_size=batch_size,\n",
        "                                  shuffle=True,\n",
        "                                  collate_fn=my_collate,\n",
        "                                  drop_last=False)\n",
        "    return data_loader"
      ],
      "execution_count": 0,
      "outputs": []
    },
    {
      "cell_type": "code",
      "metadata": {
        "id": "IVuadrKZCKS3",
        "colab_type": "code",
        "colab": {}
      },
      "source": [
        "class CNN(nn.Module):\n",
        "    def __init__(self, gap_h, gap_w, num_class=9):\n",
        "        super(CNN, self).__init__()\n",
        "\n",
        "        # init bn\n",
        "        self.bn_init = nn.BatchNorm2d(1)\n",
        "\n",
        "        # layer 1\n",
        "        self.conv_1 = nn.Conv2d(1, 64, 3, padding=1)\n",
        "        self.bn_1 = nn.BatchNorm2d(64)\n",
        "        self.mp_1 = nn.MaxPool2d((2, 4))\n",
        "\n",
        "        # layer 2\n",
        "        self.conv_2 = nn.Conv2d(64, 128, 3, padding=1)\n",
        "        self.bn_2 = nn.BatchNorm2d(128)\n",
        "        self.mp_2 = nn.MaxPool2d((2, 4))\n",
        "\n",
        "        # layer 3\n",
        "        self.conv_3 = nn.Conv2d(128, 128, 3, padding=1)\n",
        "        self.bn_3 = nn.BatchNorm2d(128)\n",
        "        self.mp_3 = nn.MaxPool2d((2, 4))\n",
        "\n",
        "        # layer 4\n",
        "        self.conv_4 = nn.Conv2d(128, 128, 3, padding=1)\n",
        "        self.bn_4 = nn.BatchNorm2d(128)\n",
        "        self.mp_4 = nn.MaxPool2d((3, 5))\n",
        "\n",
        "        # layer 5\n",
        "        self.conv_5 = nn.Conv2d(128, 64, 3, padding=1)\n",
        "        self.bn_5 = nn.BatchNorm2d(64)\n",
        "        self.mp_5 = nn.MaxPool2d((4, 4))\n",
        "\n",
        "        # classifier\n",
        "        self.dense = nn.Linear(64, num_class)\n",
        "\n",
        "    def forward(self, x):\n",
        "        x = x.unsqueeze(1)\n",
        "\n",
        "        # init bn\n",
        "        x = self.bn_init(x)\n",
        "        # layer 1\n",
        "        x = self.mp_1(nn.ELU()(self.bn_1(self.conv_1(x))))\n",
        "        # layer 2\n",
        "        x = self.mp_2(nn.ELU()(self.bn_2(self.conv_2(x))))\n",
        "        # layer 3\n",
        "        x = self.mp_3(nn.ELU()(self.bn_3(self.conv_3(x))))\n",
        "        # layer 4\n",
        "        x = self.mp_4(nn.ELU()(self.bn_4(self.conv_4(x))))\n",
        "        # layer 5\n",
        "        x = self.mp_5(nn.ELU()(self.bn_5(self.conv_5(x))))\n",
        "        \n",
        "        gap = nn.AvgPool2d((1, x.size(3)), stride=(1, 1))\n",
        "        x = gap(x)\n",
        "        # classifier\n",
        "        x = x.view(x.size(0), -1)\n",
        "        x = nn.Dropout(0.5)(x)\n",
        "        logit = self.dense(x)\n",
        "\n",
        "        return logit"
      ],
      "execution_count": 0,
      "outputs": []
    },
    {
      "cell_type": "markdown",
      "metadata": {
        "id": "JMmaV-NJCKS8",
        "colab_type": "text"
      },
      "source": [
        "Reading labels"
      ]
    },
    {
      "cell_type": "code",
      "metadata": {
        "scrolled": true,
        "id": "gwZdp_t7CKS8",
        "colab_type": "code",
        "outputId": "0f5b8fe6-07e7-4c02-b581-b04d5d8d71e6",
        "colab": {
          "base_uri": "https://localhost:8080/",
          "height": 207
        }
      },
      "source": [
        "count = 0\n",
        "count_songs = 0\n",
        "labels = []\n",
        "labels_dict = dict()\n",
        "main_dir = '/content/drive/My Drive/archives/mel_specs/complete_track/train'\n",
        "\n",
        "for root, dirs, files in os.walk (main_dir):\n",
        "    count += 1\n",
        "    if count==1:\n",
        "        labels = [label for label in dirs if not label.startswith('.')]\n",
        "    else:\n",
        "        break\n",
        "print(labels)\n",
        "\n",
        "for l in labels:\n",
        "    count = 0\n",
        "    for root, dirs, files in os.walk(main_dir+'/'+l):\n",
        "        for file in files:\n",
        "            count+=1\n",
        "    print(l,' = ',count)"
      ],
      "execution_count": 6,
      "outputs": [
        {
          "output_type": "stream",
          "text": [
            "['defectedarchive', 'mordarchive', 'littlehelpersarchive', 'kompaktarchive', 'ninjatunearchive', 'stilvortalentarchive', 'chillhoparchive', 'suaraarchive', 'bar25archive']\n",
            "defectedarchive  =  244\n",
            "mordarchive  =  244\n",
            "littlehelpersarchive  =  244\n",
            "kompaktarchive  =  244\n",
            "ninjatunearchive  =  244\n",
            "stilvortalentarchive  =  244\n",
            "chillhoparchive  =  244\n",
            "suaraarchive  =  244\n",
            "bar25archive  =  244\n"
          ],
          "name": "stdout"
        }
      ]
    },
    {
      "cell_type": "markdown",
      "metadata": {
        "id": "pcQ9-c0UkfWv",
        "colab_type": "text"
      },
      "source": [
        "### Initialization dataset, model, criterion and optimizer"
      ]
    },
    {
      "cell_type": "markdown",
      "metadata": {
        "id": "ZwF2b41Fk12N",
        "colab_type": "text"
      },
      "source": [
        "Train and set DataLoader initialization"
      ]
    },
    {
      "cell_type": "code",
      "metadata": {
        "id": "mnjRhKZbCKTD",
        "colab_type": "code",
        "colab": {}
      },
      "source": [
        "csv_path = '/content/drive/My Drive/archives/mel_specs/complete_track/train_complete.csv'\n",
        "batch_size = 4\n",
        "train_loader = get_audio_loader()\n",
        "\n",
        "csv_path = '/content/drive/My Drive/archives/mel_specs/complete_track/test_complete.csv'\n",
        "batch_size = 4\n",
        "test_loader = get_audio_loader()"
      ],
      "execution_count": 0,
      "outputs": []
    },
    {
      "cell_type": "markdown",
      "metadata": {
        "id": "HE5CxT5pk3RG",
        "colab_type": "text"
      },
      "source": [
        "Model, criterion and optimizer initialization"
      ]
    },
    {
      "cell_type": "code",
      "metadata": {
        "id": "DJm7AwAkbI2t",
        "colab_type": "code",
        "colab": {}
      },
      "source": [
        "def weights_init(m):\n",
        "    classname = m.__class__.__name__\n",
        "    if classname.find('Conv') != -1:\n",
        "          nn.init.xavier_normal_(m.weight.data)       "
      ],
      "execution_count": 0,
      "outputs": []
    },
    {
      "cell_type": "code",
      "metadata": {
        "id": "nYzDpjZECKTG",
        "colab_type": "code",
        "colab": {
          "base_uri": "https://localhost:8080/",
          "height": 340
        },
        "outputId": "5c999657-9347-432c-ce77-2ce7bb3906ca"
      },
      "source": [
        "torch.manual_seed(42)\n",
        "device = torch.device('cuda')\n",
        "\n",
        "model = CNN(num_class=9, gap_h=1, gap_w=2)\n",
        "model.cuda(device)\n",
        "\n",
        "criterion = nn.CrossEntropyLoss()\n",
        "optimizer = torch.optim.Adam(model.parameters(), 2e-4)\n",
        "model.apply(weights_init)"
      ],
      "execution_count": 9,
      "outputs": [
        {
          "output_type": "execute_result",
          "data": {
            "text/plain": [
              "CNN(\n",
              "  (bn_init): BatchNorm2d(1, eps=1e-05, momentum=0.1, affine=True, track_running_stats=True)\n",
              "  (conv_1): Conv2d(1, 64, kernel_size=(3, 3), stride=(1, 1), padding=(1, 1))\n",
              "  (bn_1): BatchNorm2d(64, eps=1e-05, momentum=0.1, affine=True, track_running_stats=True)\n",
              "  (mp_1): MaxPool2d(kernel_size=(2, 4), stride=(2, 4), padding=0, dilation=1, ceil_mode=False)\n",
              "  (conv_2): Conv2d(64, 128, kernel_size=(3, 3), stride=(1, 1), padding=(1, 1))\n",
              "  (bn_2): BatchNorm2d(128, eps=1e-05, momentum=0.1, affine=True, track_running_stats=True)\n",
              "  (mp_2): MaxPool2d(kernel_size=(2, 4), stride=(2, 4), padding=0, dilation=1, ceil_mode=False)\n",
              "  (conv_3): Conv2d(128, 128, kernel_size=(3, 3), stride=(1, 1), padding=(1, 1))\n",
              "  (bn_3): BatchNorm2d(128, eps=1e-05, momentum=0.1, affine=True, track_running_stats=True)\n",
              "  (mp_3): MaxPool2d(kernel_size=(2, 4), stride=(2, 4), padding=0, dilation=1, ceil_mode=False)\n",
              "  (conv_4): Conv2d(128, 128, kernel_size=(3, 3), stride=(1, 1), padding=(1, 1))\n",
              "  (bn_4): BatchNorm2d(128, eps=1e-05, momentum=0.1, affine=True, track_running_stats=True)\n",
              "  (mp_4): MaxPool2d(kernel_size=(3, 5), stride=(3, 5), padding=0, dilation=1, ceil_mode=False)\n",
              "  (conv_5): Conv2d(128, 64, kernel_size=(3, 3), stride=(1, 1), padding=(1, 1))\n",
              "  (bn_5): BatchNorm2d(64, eps=1e-05, momentum=0.1, affine=True, track_running_stats=True)\n",
              "  (mp_5): MaxPool2d(kernel_size=(4, 4), stride=(4, 4), padding=0, dilation=1, ceil_mode=False)\n",
              "  (dense): Linear(in_features=64, out_features=9, bias=True)\n",
              ")"
            ]
          },
          "metadata": {
            "tags": []
          },
          "execution_count": 9
        }
      ]
    },
    {
      "cell_type": "markdown",
      "metadata": {
        "id": "uaf5kK2Wk9Fm",
        "colab_type": "text"
      },
      "source": [
        "Loading checkpoint"
      ]
    },
    {
      "cell_type": "code",
      "metadata": {
        "id": "tEanQeP3syBN",
        "colab_type": "code",
        "outputId": "33ed9e11-29cb-40ab-a2c6-d7142c26248e",
        "colab": {
          "base_uri": "https://localhost:8080/",
          "height": 340
        }
      },
      "source": [
        "checkpoint = torch.load('/content/drive/My Drive/archives/mel_specs/complete_track/checkpointjbf.tar', map_location='cpu')\n",
        "model.load_state_dict(checkpoint['model_state_dict'])\n",
        "optimizer.load_state_dict(checkpoint['optimizer_state_dict'])\n",
        "epoch = checkpoint['epoch']\n",
        "cost_list = checkpoint['cost_list']\n",
        "model.cuda()"
      ],
      "execution_count": 10,
      "outputs": [
        {
          "output_type": "execute_result",
          "data": {
            "text/plain": [
              "CNN(\n",
              "  (bn_init): BatchNorm2d(1, eps=1e-05, momentum=0.1, affine=True, track_running_stats=True)\n",
              "  (conv_1): Conv2d(1, 64, kernel_size=(3, 3), stride=(1, 1), padding=(1, 1))\n",
              "  (bn_1): BatchNorm2d(64, eps=1e-05, momentum=0.1, affine=True, track_running_stats=True)\n",
              "  (mp_1): MaxPool2d(kernel_size=(2, 4), stride=(2, 4), padding=0, dilation=1, ceil_mode=False)\n",
              "  (conv_2): Conv2d(64, 128, kernel_size=(3, 3), stride=(1, 1), padding=(1, 1))\n",
              "  (bn_2): BatchNorm2d(128, eps=1e-05, momentum=0.1, affine=True, track_running_stats=True)\n",
              "  (mp_2): MaxPool2d(kernel_size=(2, 4), stride=(2, 4), padding=0, dilation=1, ceil_mode=False)\n",
              "  (conv_3): Conv2d(128, 128, kernel_size=(3, 3), stride=(1, 1), padding=(1, 1))\n",
              "  (bn_3): BatchNorm2d(128, eps=1e-05, momentum=0.1, affine=True, track_running_stats=True)\n",
              "  (mp_3): MaxPool2d(kernel_size=(2, 4), stride=(2, 4), padding=0, dilation=1, ceil_mode=False)\n",
              "  (conv_4): Conv2d(128, 128, kernel_size=(3, 3), stride=(1, 1), padding=(1, 1))\n",
              "  (bn_4): BatchNorm2d(128, eps=1e-05, momentum=0.1, affine=True, track_running_stats=True)\n",
              "  (mp_4): MaxPool2d(kernel_size=(3, 5), stride=(3, 5), padding=0, dilation=1, ceil_mode=False)\n",
              "  (conv_5): Conv2d(128, 64, kernel_size=(3, 3), stride=(1, 1), padding=(1, 1))\n",
              "  (bn_5): BatchNorm2d(64, eps=1e-05, momentum=0.1, affine=True, track_running_stats=True)\n",
              "  (mp_5): MaxPool2d(kernel_size=(4, 4), stride=(4, 4), padding=0, dilation=1, ceil_mode=False)\n",
              "  (dense): Linear(in_features=64, out_features=9, bias=True)\n",
              ")"
            ]
          },
          "metadata": {
            "tags": []
          },
          "execution_count": 10
        }
      ]
    },
    {
      "cell_type": "markdown",
      "metadata": {
        "id": "aDdVptpYlDGv",
        "colab_type": "text"
      },
      "source": [
        "### Training"
      ]
    },
    {
      "cell_type": "code",
      "metadata": {
        "id": "fa6_gmjYYLDT",
        "colab_type": "code",
        "colab": {}
      },
      "source": [
        "cost_list = []\n",
        "#pred_list = []\n",
        "epoch = 0\n",
        "COST=0"
      ],
      "execution_count": 0,
      "outputs": []
    },
    {
      "cell_type": "code",
      "metadata": {
        "id": "jbs5_aj0CKTJ",
        "colab_type": "code",
        "outputId": "4cb23b1a-0fe0-48ca-d4c2-5265a51b759a",
        "colab": {
          "base_uri": "https://localhost:8080/",
          "height": 1000
        }
      },
      "source": [
        "for epoch in tqdm.tqdm(range(epoch,200)):\n",
        "    COST=0\n",
        "    model.train()\n",
        "    for i,data in enumerate(train_loader):\n",
        "        x,y = data\n",
        "        x = x.to(device)\n",
        "        y = y.to(device)\n",
        "        optimizer.zero_grad()       \n",
        "        y_=model(x)\n",
        "        loss=criterion(y_,y)\n",
        "        loss.backward()\n",
        "        optimizer.step()\n",
        "        COST+=loss.data\n",
        "        \n",
        "        if i % 50 == 0:\n",
        "            print(loss)\n",
        "    \n",
        "    cost_list.append(COST)\n",
        "    print('COST epoch',epoch, ' = ', cost_list)\n",
        "\n",
        "    torch.save({\n",
        "            'epoch': epoch,\n",
        "            'model_state_dict': model.state_dict(),\n",
        "            'optimizer_state_dict': optimizer.state_dict(),\n",
        "            'loss': COST,\n",
        "            'cost_list': cost_list,\n",
        "            }, '/content/drive/My Drive/archives/mel_specs/complete_track/checkpointjbf.tar')\n",
        "    \n",
        "    model.eval()\n",
        "    y_list = []\n",
        "    pred_list = []\n",
        "    for i, data in enumerate(test_loader):\n",
        "      x, y = data\n",
        "      x = x.cuda()\n",
        "      pred = model(x)\n",
        "\n",
        "      # append\n",
        "      pred = pred.detach().cpu()\n",
        "      for _p in pred:\n",
        "          pred_list.append(int(_p.argmax()))\n",
        "      for _y in y:\n",
        "          y_list.append(int(_y))\n",
        "\n",
        "      if i % 10 == 0:\n",
        "          print('Files processed = ', i)\n",
        "          print(pred_list)\n",
        "          print(y_list)\n",
        "\n",
        "    accuracy = np.sum(np.asarray(pred_list)==np.asarray(y_list))/len(y_list)\n",
        "\n",
        "    print('Accuracy epoch',epoch, ' = ',accuracy)"
      ],
      "execution_count": 0,
      "outputs": [
        {
          "output_type": "stream",
          "text": [
            "\r  0%|          | 0/170 [00:00<?, ?it/s]"
          ],
          "name": "stderr"
        },
        {
          "output_type": "stream",
          "text": [
            "tensor(0.9339, device='cuda:0', grad_fn=<NllLossBackward>)\n",
            "tensor(0.2331, device='cuda:0', grad_fn=<NllLossBackward>)\n",
            "tensor(1.0337, device='cuda:0', grad_fn=<NllLossBackward>)\n",
            "tensor(0.6492, device='cuda:0', grad_fn=<NllLossBackward>)\n",
            "tensor(0.3572, device='cuda:0', grad_fn=<NllLossBackward>)\n",
            "tensor(2.7971, device='cuda:0', grad_fn=<NllLossBackward>)\n",
            "tensor(1.1332, device='cuda:0', grad_fn=<NllLossBackward>)\n",
            "tensor(0.5612, device='cuda:0', grad_fn=<NllLossBackward>)\n",
            "tensor(0.9746, device='cuda:0', grad_fn=<NllLossBackward>)\n",
            "tensor(0.4057, device='cuda:0', grad_fn=<NllLossBackward>)\n",
            "tensor(1.0106, device='cuda:0', grad_fn=<NllLossBackward>)\n",
            "COST epoch 30  =  [tensor(1111.4436), tensor(990.5597), tensor(934.4700), tensor(874.6571), tensor(822.8998), tensor(800.3447), tensor(765.9095), tensor(740.0458), tensor(718.9320), tensor(719.7072), tensor(693.2490), tensor(697.7689), tensor(672.8008), tensor(661.9917), tensor(658.5683), tensor(635.4274), tensor(631.2565), tensor(615.2205), tensor(607.1673), tensor(607.2458), tensor(606.9468), tensor(562.4706), tensor(572.2747), tensor(568.2372), tensor(549.9225), tensor(549.4277), tensor(539.3239), tensor(530.7670), tensor(519.7222), tensor(514.4471), tensor(505.1449), tensor(497.7492), tensor(483.2874, device='cuda:0')]\n",
            "Files processed =  0\n",
            "[1, 8, 6, 1]\n",
            "[7, 5, 6, 7]\n",
            "Files processed =  10\n",
            "[1, 8, 6, 1, 3, 4, 3, 5, 1, 8, 7, 0, 6, 3, 3, 6, 1, 3, 4, 3, 1, 8, 6, 3, 0, 4, 8, 3, 0, 7, 3, 5, 3, 0, 4, 6, 0, 5, 1, 7, 3, 3, 3, 1]\n",
            "[7, 5, 6, 7, 3, 4, 3, 8, 1, 3, 5, 0, 6, 4, 8, 6, 1, 3, 6, 6, 1, 8, 6, 4, 2, 6, 5, 4, 0, 7, 4, 7, 4, 2, 4, 6, 0, 5, 7, 5, 3, 4, 3, 4]\n",
            "Files processed =  20\n",
            "[1, 8, 6, 1, 3, 4, 3, 5, 1, 8, 7, 0, 6, 3, 3, 6, 1, 3, 4, 3, 1, 8, 6, 3, 0, 4, 8, 3, 0, 7, 3, 5, 3, 0, 4, 6, 0, 5, 1, 7, 3, 3, 3, 1, 4, 8, 7, 1, 1, 0, 5, 7, 7, 0, 0, 2, 5, 7, 5, 3, 3, 1, 3, 1, 7, 3, 8, 0, 5, 0, 8, 4, 3, 3, 0, 3, 3, 5, 1, 1, 1, 0, 0, 2]\n",
            "[7, 5, 6, 7, 3, 4, 3, 8, 1, 3, 5, 0, 6, 4, 8, 6, 1, 3, 6, 6, 1, 8, 6, 4, 2, 6, 5, 4, 0, 7, 4, 7, 4, 2, 4, 6, 0, 5, 7, 5, 3, 4, 3, 4, 8, 8, 8, 4, 1, 0, 8, 5, 0, 0, 4, 2, 7, 0, 5, 0, 5, 7, 8, 1, 7, 2, 5, 0, 5, 0, 5, 4, 8, 1, 0, 3, 7, 3, 1, 7, 1, 0, 0, 2]\n",
            "Files processed =  30\n",
            "[1, 8, 6, 1, 3, 4, 3, 5, 1, 8, 7, 0, 6, 3, 3, 6, 1, 3, 4, 3, 1, 8, 6, 3, 0, 4, 8, 3, 0, 7, 3, 5, 3, 0, 4, 6, 0, 5, 1, 7, 3, 3, 3, 1, 4, 8, 7, 1, 1, 0, 5, 7, 7, 0, 0, 2, 5, 7, 5, 3, 3, 1, 3, 1, 7, 3, 8, 0, 5, 0, 8, 4, 3, 3, 0, 3, 3, 5, 1, 1, 1, 0, 0, 2, 1, 1, 1, 2, 0, 1, 1, 1, 1, 8, 7, 8, 8, 1, 3, 7, 0, 7, 3, 1, 7, 7, 0, 6, 1, 4, 0, 8, 1, 7, 6, 0, 7, 0, 3, 1, 8, 0, 8, 8]\n",
            "[7, 5, 6, 7, 3, 4, 3, 8, 1, 3, 5, 0, 6, 4, 8, 6, 1, 3, 6, 6, 1, 8, 6, 4, 2, 6, 5, 4, 0, 7, 4, 7, 4, 2, 4, 6, 0, 5, 7, 5, 3, 4, 3, 4, 8, 8, 8, 4, 1, 0, 8, 5, 0, 0, 4, 2, 7, 0, 5, 0, 5, 7, 8, 1, 7, 2, 5, 0, 5, 0, 5, 4, 8, 1, 0, 3, 7, 3, 1, 7, 1, 0, 0, 2, 7, 1, 1, 2, 3, 7, 1, 4, 7, 8, 8, 5, 5, 1, 7, 2, 2, 7, 4, 1, 1, 7, 0, 6, 7, 4, 7, 8, 7, 3, 6, 0, 5, 0, 1, 1, 2, 0, 8, 5]\n",
            "Files processed =  40\n",
            "[1, 8, 6, 1, 3, 4, 3, 5, 1, 8, 7, 0, 6, 3, 3, 6, 1, 3, 4, 3, 1, 8, 6, 3, 0, 4, 8, 3, 0, 7, 3, 5, 3, 0, 4, 6, 0, 5, 1, 7, 3, 3, 3, 1, 4, 8, 7, 1, 1, 0, 5, 7, 7, 0, 0, 2, 5, 7, 5, 3, 3, 1, 3, 1, 7, 3, 8, 0, 5, 0, 8, 4, 3, 3, 0, 3, 3, 5, 1, 1, 1, 0, 0, 2, 1, 1, 1, 2, 0, 1, 1, 1, 1, 8, 7, 8, 8, 1, 3, 7, 0, 7, 3, 1, 7, 7, 0, 6, 1, 4, 0, 8, 1, 7, 6, 0, 7, 0, 3, 1, 8, 0, 8, 8, 3, 3, 6, 6, 1, 0, 1, 6, 6, 1, 4, 3, 2, 7, 6, 2, 4, 1, 3, 0, 3, 0, 0, 8, 2, 8, 3, 3, 3, 1, 1, 2, 1, 8, 3, 7, 2, 3, 8, 0]\n",
            "[7, 5, 6, 7, 3, 4, 3, 8, 1, 3, 5, 0, 6, 4, 8, 6, 1, 3, 6, 6, 1, 8, 6, 4, 2, 6, 5, 4, 0, 7, 4, 7, 4, 2, 4, 6, 0, 5, 7, 5, 3, 4, 3, 4, 8, 8, 8, 4, 1, 0, 8, 5, 0, 0, 4, 2, 7, 0, 5, 0, 5, 7, 8, 1, 7, 2, 5, 0, 5, 0, 5, 4, 8, 1, 0, 3, 7, 3, 1, 7, 1, 0, 0, 2, 7, 1, 1, 2, 3, 7, 1, 4, 7, 8, 8, 5, 5, 1, 7, 2, 2, 7, 4, 1, 1, 7, 0, 6, 7, 4, 7, 8, 7, 3, 6, 0, 5, 0, 1, 1, 2, 0, 8, 5, 4, 3, 6, 6, 1, 0, 1, 6, 6, 1, 4, 4, 3, 7, 6, 7, 4, 1, 4, 0, 5, 0, 0, 5, 7, 8, 3, 0, 5, 3, 1, 2, 1, 5, 8, 5, 2, 4, 5, 0]\n",
            "Files processed =  50\n",
            "[1, 8, 6, 1, 3, 4, 3, 5, 1, 8, 7, 0, 6, 3, 3, 6, 1, 3, 4, 3, 1, 8, 6, 3, 0, 4, 8, 3, 0, 7, 3, 5, 3, 0, 4, 6, 0, 5, 1, 7, 3, 3, 3, 1, 4, 8, 7, 1, 1, 0, 5, 7, 7, 0, 0, 2, 5, 7, 5, 3, 3, 1, 3, 1, 7, 3, 8, 0, 5, 0, 8, 4, 3, 3, 0, 3, 3, 5, 1, 1, 1, 0, 0, 2, 1, 1, 1, 2, 0, 1, 1, 1, 1, 8, 7, 8, 8, 1, 3, 7, 0, 7, 3, 1, 7, 7, 0, 6, 1, 4, 0, 8, 1, 7, 6, 0, 7, 0, 3, 1, 8, 0, 8, 8, 3, 3, 6, 6, 1, 0, 1, 6, 6, 1, 4, 3, 2, 7, 6, 2, 4, 1, 3, 0, 3, 0, 0, 8, 2, 8, 3, 3, 3, 1, 1, 2, 1, 8, 3, 7, 2, 3, 8, 0, 6, 1, 6, 3, 7, 7, 7, 1, 2, 2, 0, 4, 5, 3, 6, 6, 3, 6, 2, 3, 3, 6, 8, 8, 0, 6, 4, 8, 4, 0, 8, 3, 4, 3, 0, 8, 6, 0, 4, 1]\n",
            "[7, 5, 6, 7, 3, 4, 3, 8, 1, 3, 5, 0, 6, 4, 8, 6, 1, 3, 6, 6, 1, 8, 6, 4, 2, 6, 5, 4, 0, 7, 4, 7, 4, 2, 4, 6, 0, 5, 7, 5, 3, 4, 3, 4, 8, 8, 8, 4, 1, 0, 8, 5, 0, 0, 4, 2, 7, 0, 5, 0, 5, 7, 8, 1, 7, 2, 5, 0, 5, 0, 5, 4, 8, 1, 0, 3, 7, 3, 1, 7, 1, 0, 0, 2, 7, 1, 1, 2, 3, 7, 1, 4, 7, 8, 8, 5, 5, 1, 7, 2, 2, 7, 4, 1, 1, 7, 0, 6, 7, 4, 7, 8, 7, 3, 6, 0, 5, 0, 1, 1, 2, 0, 8, 5, 4, 3, 6, 6, 1, 0, 1, 6, 6, 1, 4, 4, 3, 7, 6, 7, 4, 1, 4, 0, 5, 0, 0, 5, 7, 8, 3, 0, 5, 3, 1, 2, 1, 5, 8, 5, 2, 4, 5, 0, 6, 1, 6, 3, 5, 8, 7, 1, 2, 2, 2, 4, 5, 4, 6, 6, 8, 6, 2, 3, 8, 6, 5, 5, 3, 6, 3, 8, 4, 4, 5, 8, 4, 3, 6, 6, 6, 0, 4, 7]\n",
            "Files processed =  60\n",
            "[1, 8, 6, 1, 3, 4, 3, 5, 1, 8, 7, 0, 6, 3, 3, 6, 1, 3, 4, 3, 1, 8, 6, 3, 0, 4, 8, 3, 0, 7, 3, 5, 3, 0, 4, 6, 0, 5, 1, 7, 3, 3, 3, 1, 4, 8, 7, 1, 1, 0, 5, 7, 7, 0, 0, 2, 5, 7, 5, 3, 3, 1, 3, 1, 7, 3, 8, 0, 5, 0, 8, 4, 3, 3, 0, 3, 3, 5, 1, 1, 1, 0, 0, 2, 1, 1, 1, 2, 0, 1, 1, 1, 1, 8, 7, 8, 8, 1, 3, 7, 0, 7, 3, 1, 7, 7, 0, 6, 1, 4, 0, 8, 1, 7, 6, 0, 7, 0, 3, 1, 8, 0, 8, 8, 3, 3, 6, 6, 1, 0, 1, 6, 6, 1, 4, 3, 2, 7, 6, 2, 4, 1, 3, 0, 3, 0, 0, 8, 2, 8, 3, 3, 3, 1, 1, 2, 1, 8, 3, 7, 2, 3, 8, 0, 6, 1, 6, 3, 7, 7, 7, 1, 2, 2, 0, 4, 5, 3, 6, 6, 3, 6, 2, 3, 3, 6, 8, 8, 0, 6, 4, 8, 4, 0, 8, 3, 4, 3, 0, 8, 6, 0, 4, 1, 2, 0, 8, 1, 3, 3, 4, 6, 3, 6, 1, 2, 7, 3, 8, 5, 1, 8, 3, 8, 1, 7, 6, 8, 8, 3, 1, 0, 7, 4, 8, 8, 7, 2, 3, 7, 1, 4, 6, 0]\n",
            "[7, 5, 6, 7, 3, 4, 3, 8, 1, 3, 5, 0, 6, 4, 8, 6, 1, 3, 6, 6, 1, 8, 6, 4, 2, 6, 5, 4, 0, 7, 4, 7, 4, 2, 4, 6, 0, 5, 7, 5, 3, 4, 3, 4, 8, 8, 8, 4, 1, 0, 8, 5, 0, 0, 4, 2, 7, 0, 5, 0, 5, 7, 8, 1, 7, 2, 5, 0, 5, 0, 5, 4, 8, 1, 0, 3, 7, 3, 1, 7, 1, 0, 0, 2, 7, 1, 1, 2, 3, 7, 1, 4, 7, 8, 8, 5, 5, 1, 7, 2, 2, 7, 4, 1, 1, 7, 0, 6, 7, 4, 7, 8, 7, 3, 6, 0, 5, 0, 1, 1, 2, 0, 8, 5, 4, 3, 6, 6, 1, 0, 1, 6, 6, 1, 4, 4, 3, 7, 6, 7, 4, 1, 4, 0, 5, 0, 0, 5, 7, 8, 3, 0, 5, 3, 1, 2, 1, 5, 8, 5, 2, 4, 5, 0, 6, 1, 6, 3, 5, 8, 7, 1, 2, 2, 2, 4, 5, 4, 6, 6, 8, 6, 2, 3, 8, 6, 5, 5, 3, 6, 3, 8, 4, 4, 5, 8, 4, 3, 6, 6, 6, 0, 4, 7, 2, 0, 3, 7, 4, 5, 4, 6, 4, 6, 1, 2, 3, 7, 6, 7, 1, 2, 5, 8, 1, 7, 6, 8, 2, 4, 1, 0, 0, 4, 3, 5, 7, 2, 3, 7, 1, 3, 6, 5]\n",
            "Files processed =  70\n",
            "[1, 8, 6, 1, 3, 4, 3, 5, 1, 8, 7, 0, 6, 3, 3, 6, 1, 3, 4, 3, 1, 8, 6, 3, 0, 4, 8, 3, 0, 7, 3, 5, 3, 0, 4, 6, 0, 5, 1, 7, 3, 3, 3, 1, 4, 8, 7, 1, 1, 0, 5, 7, 7, 0, 0, 2, 5, 7, 5, 3, 3, 1, 3, 1, 7, 3, 8, 0, 5, 0, 8, 4, 3, 3, 0, 3, 3, 5, 1, 1, 1, 0, 0, 2, 1, 1, 1, 2, 0, 1, 1, 1, 1, 8, 7, 8, 8, 1, 3, 7, 0, 7, 3, 1, 7, 7, 0, 6, 1, 4, 0, 8, 1, 7, 6, 0, 7, 0, 3, 1, 8, 0, 8, 8, 3, 3, 6, 6, 1, 0, 1, 6, 6, 1, 4, 3, 2, 7, 6, 2, 4, 1, 3, 0, 3, 0, 0, 8, 2, 8, 3, 3, 3, 1, 1, 2, 1, 8, 3, 7, 2, 3, 8, 0, 6, 1, 6, 3, 7, 7, 7, 1, 2, 2, 0, 4, 5, 3, 6, 6, 3, 6, 2, 3, 3, 6, 8, 8, 0, 6, 4, 8, 4, 0, 8, 3, 4, 3, 0, 8, 6, 0, 4, 1, 2, 0, 8, 1, 3, 3, 4, 6, 3, 6, 1, 2, 7, 3, 8, 5, 1, 8, 3, 8, 1, 7, 6, 8, 8, 3, 1, 0, 7, 4, 8, 8, 7, 2, 3, 7, 1, 4, 6, 0, 3, 1, 6, 1, 3, 2, 1, 7, 0, 8, 3, 1, 7, 2, 8, 0, 2, 5, 0, 1, 1, 8, 0, 3, 0, 7, 2, 3, 0, 4, 4, 2, 6, 3, 3, 6, 5, 0, 0, 3]\n",
            "[7, 5, 6, 7, 3, 4, 3, 8, 1, 3, 5, 0, 6, 4, 8, 6, 1, 3, 6, 6, 1, 8, 6, 4, 2, 6, 5, 4, 0, 7, 4, 7, 4, 2, 4, 6, 0, 5, 7, 5, 3, 4, 3, 4, 8, 8, 8, 4, 1, 0, 8, 5, 0, 0, 4, 2, 7, 0, 5, 0, 5, 7, 8, 1, 7, 2, 5, 0, 5, 0, 5, 4, 8, 1, 0, 3, 7, 3, 1, 7, 1, 0, 0, 2, 7, 1, 1, 2, 3, 7, 1, 4, 7, 8, 8, 5, 5, 1, 7, 2, 2, 7, 4, 1, 1, 7, 0, 6, 7, 4, 7, 8, 7, 3, 6, 0, 5, 0, 1, 1, 2, 0, 8, 5, 4, 3, 6, 6, 1, 0, 1, 6, 6, 1, 4, 4, 3, 7, 6, 7, 4, 1, 4, 0, 5, 0, 0, 5, 7, 8, 3, 0, 5, 3, 1, 2, 1, 5, 8, 5, 2, 4, 5, 0, 6, 1, 6, 3, 5, 8, 7, 1, 2, 2, 2, 4, 5, 4, 6, 6, 8, 6, 2, 3, 8, 6, 5, 5, 3, 6, 3, 8, 4, 4, 5, 8, 4, 3, 6, 6, 6, 0, 4, 7, 2, 0, 3, 7, 4, 5, 4, 6, 4, 6, 1, 2, 3, 7, 6, 7, 1, 2, 5, 8, 1, 7, 6, 8, 2, 4, 1, 0, 0, 4, 3, 5, 7, 2, 3, 7, 1, 3, 6, 5, 4, 1, 6, 1, 8, 2, 1, 7, 8, 8, 3, 1, 8, 2, 5, 0, 2, 6, 0, 7, 7, 5, 3, 0, 3, 5, 2, 3, 0, 0, 4, 2, 6, 5, 3, 6, 5, 4, 0, 4]\n",
            "Files processed =  80\n",
            "[1, 8, 6, 1, 3, 4, 3, 5, 1, 8, 7, 0, 6, 3, 3, 6, 1, 3, 4, 3, 1, 8, 6, 3, 0, 4, 8, 3, 0, 7, 3, 5, 3, 0, 4, 6, 0, 5, 1, 7, 3, 3, 3, 1, 4, 8, 7, 1, 1, 0, 5, 7, 7, 0, 0, 2, 5, 7, 5, 3, 3, 1, 3, 1, 7, 3, 8, 0, 5, 0, 8, 4, 3, 3, 0, 3, 3, 5, 1, 1, 1, 0, 0, 2, 1, 1, 1, 2, 0, 1, 1, 1, 1, 8, 7, 8, 8, 1, 3, 7, 0, 7, 3, 1, 7, 7, 0, 6, 1, 4, 0, 8, 1, 7, 6, 0, 7, 0, 3, 1, 8, 0, 8, 8, 3, 3, 6, 6, 1, 0, 1, 6, 6, 1, 4, 3, 2, 7, 6, 2, 4, 1, 3, 0, 3, 0, 0, 8, 2, 8, 3, 3, 3, 1, 1, 2, 1, 8, 3, 7, 2, 3, 8, 0, 6, 1, 6, 3, 7, 7, 7, 1, 2, 2, 0, 4, 5, 3, 6, 6, 3, 6, 2, 3, 3, 6, 8, 8, 0, 6, 4, 8, 4, 0, 8, 3, 4, 3, 0, 8, 6, 0, 4, 1, 2, 0, 8, 1, 3, 3, 4, 6, 3, 6, 1, 2, 7, 3, 8, 5, 1, 8, 3, 8, 1, 7, 6, 8, 8, 3, 1, 0, 7, 4, 8, 8, 7, 2, 3, 7, 1, 4, 6, 0, 3, 1, 6, 1, 3, 2, 1, 7, 0, 8, 3, 1, 7, 2, 8, 0, 2, 5, 0, 1, 1, 8, 0, 3, 0, 7, 2, 3, 0, 4, 4, 2, 6, 3, 3, 6, 5, 0, 0, 3, 1, 3, 1, 2, 3, 0, 0, 3, 7, 6, 0, 4, 6, 7, 7, 7, 6, 2, 1, 4, 1, 8, 5, 0, 8, 7, 3, 8, 1, 2, 1, 8, 8, 3, 2, 4, 3, 6, 7, 3]\n",
            "[7, 5, 6, 7, 3, 4, 3, 8, 1, 3, 5, 0, 6, 4, 8, 6, 1, 3, 6, 6, 1, 8, 6, 4, 2, 6, 5, 4, 0, 7, 4, 7, 4, 2, 4, 6, 0, 5, 7, 5, 3, 4, 3, 4, 8, 8, 8, 4, 1, 0, 8, 5, 0, 0, 4, 2, 7, 0, 5, 0, 5, 7, 8, 1, 7, 2, 5, 0, 5, 0, 5, 4, 8, 1, 0, 3, 7, 3, 1, 7, 1, 0, 0, 2, 7, 1, 1, 2, 3, 7, 1, 4, 7, 8, 8, 5, 5, 1, 7, 2, 2, 7, 4, 1, 1, 7, 0, 6, 7, 4, 7, 8, 7, 3, 6, 0, 5, 0, 1, 1, 2, 0, 8, 5, 4, 3, 6, 6, 1, 0, 1, 6, 6, 1, 4, 4, 3, 7, 6, 7, 4, 1, 4, 0, 5, 0, 0, 5, 7, 8, 3, 0, 5, 3, 1, 2, 1, 5, 8, 5, 2, 4, 5, 0, 6, 1, 6, 3, 5, 8, 7, 1, 2, 2, 2, 4, 5, 4, 6, 6, 8, 6, 2, 3, 8, 6, 5, 5, 3, 6, 3, 8, 4, 4, 5, 8, 4, 3, 6, 6, 6, 0, 4, 7, 2, 0, 3, 7, 4, 5, 4, 6, 4, 6, 1, 2, 3, 7, 6, 7, 1, 2, 5, 8, 1, 7, 6, 8, 2, 4, 1, 0, 0, 4, 3, 5, 7, 2, 3, 7, 1, 3, 6, 5, 4, 1, 6, 1, 8, 2, 1, 7, 8, 8, 3, 1, 8, 2, 5, 0, 2, 6, 0, 7, 7, 5, 3, 0, 3, 5, 2, 3, 0, 0, 4, 2, 6, 5, 3, 6, 5, 4, 0, 4, 1, 4, 1, 2, 5, 0, 0, 8, 2, 6, 0, 6, 6, 8, 7, 7, 6, 3, 1, 3, 1, 8, 5, 0, 8, 8, 3, 6, 7, 2, 1, 8, 8, 7, 2, 6, 3, 6, 7, 3]\n",
            "Files processed =  90\n",
            "[1, 8, 6, 1, 3, 4, 3, 5, 1, 8, 7, 0, 6, 3, 3, 6, 1, 3, 4, 3, 1, 8, 6, 3, 0, 4, 8, 3, 0, 7, 3, 5, 3, 0, 4, 6, 0, 5, 1, 7, 3, 3, 3, 1, 4, 8, 7, 1, 1, 0, 5, 7, 7, 0, 0, 2, 5, 7, 5, 3, 3, 1, 3, 1, 7, 3, 8, 0, 5, 0, 8, 4, 3, 3, 0, 3, 3, 5, 1, 1, 1, 0, 0, 2, 1, 1, 1, 2, 0, 1, 1, 1, 1, 8, 7, 8, 8, 1, 3, 7, 0, 7, 3, 1, 7, 7, 0, 6, 1, 4, 0, 8, 1, 7, 6, 0, 7, 0, 3, 1, 8, 0, 8, 8, 3, 3, 6, 6, 1, 0, 1, 6, 6, 1, 4, 3, 2, 7, 6, 2, 4, 1, 3, 0, 3, 0, 0, 8, 2, 8, 3, 3, 3, 1, 1, 2, 1, 8, 3, 7, 2, 3, 8, 0, 6, 1, 6, 3, 7, 7, 7, 1, 2, 2, 0, 4, 5, 3, 6, 6, 3, 6, 2, 3, 3, 6, 8, 8, 0, 6, 4, 8, 4, 0, 8, 3, 4, 3, 0, 8, 6, 0, 4, 1, 2, 0, 8, 1, 3, 3, 4, 6, 3, 6, 1, 2, 7, 3, 8, 5, 1, 8, 3, 8, 1, 7, 6, 8, 8, 3, 1, 0, 7, 4, 8, 8, 7, 2, 3, 7, 1, 4, 6, 0, 3, 1, 6, 1, 3, 2, 1, 7, 0, 8, 3, 1, 7, 2, 8, 0, 2, 5, 0, 1, 1, 8, 0, 3, 0, 7, 2, 3, 0, 4, 4, 2, 6, 3, 3, 6, 5, 0, 0, 3, 1, 3, 1, 2, 3, 0, 0, 3, 7, 6, 0, 4, 6, 7, 7, 7, 6, 2, 1, 4, 1, 8, 5, 0, 8, 7, 3, 8, 1, 2, 1, 8, 8, 3, 2, 4, 3, 6, 7, 3, 2, 6, 0, 6, 1, 4, 0, 7, 6, 0, 1, 2, 7, 7, 8, 4, 2, 7, 2, 8, 6, 5, 1, 0, 1, 3, 1, 8, 2, 6, 4, 0, 3, 1, 4, 3, 7, 4, 4, 6]\n",
            "[7, 5, 6, 7, 3, 4, 3, 8, 1, 3, 5, 0, 6, 4, 8, 6, 1, 3, 6, 6, 1, 8, 6, 4, 2, 6, 5, 4, 0, 7, 4, 7, 4, 2, 4, 6, 0, 5, 7, 5, 3, 4, 3, 4, 8, 8, 8, 4, 1, 0, 8, 5, 0, 0, 4, 2, 7, 0, 5, 0, 5, 7, 8, 1, 7, 2, 5, 0, 5, 0, 5, 4, 8, 1, 0, 3, 7, 3, 1, 7, 1, 0, 0, 2, 7, 1, 1, 2, 3, 7, 1, 4, 7, 8, 8, 5, 5, 1, 7, 2, 2, 7, 4, 1, 1, 7, 0, 6, 7, 4, 7, 8, 7, 3, 6, 0, 5, 0, 1, 1, 2, 0, 8, 5, 4, 3, 6, 6, 1, 0, 1, 6, 6, 1, 4, 4, 3, 7, 6, 7, 4, 1, 4, 0, 5, 0, 0, 5, 7, 8, 3, 0, 5, 3, 1, 2, 1, 5, 8, 5, 2, 4, 5, 0, 6, 1, 6, 3, 5, 8, 7, 1, 2, 2, 2, 4, 5, 4, 6, 6, 8, 6, 2, 3, 8, 6, 5, 5, 3, 6, 3, 8, 4, 4, 5, 8, 4, 3, 6, 6, 6, 0, 4, 7, 2, 0, 3, 7, 4, 5, 4, 6, 4, 6, 1, 2, 3, 7, 6, 7, 1, 2, 5, 8, 1, 7, 6, 8, 2, 4, 1, 0, 0, 4, 3, 5, 7, 2, 3, 7, 1, 3, 6, 5, 4, 1, 6, 1, 8, 2, 1, 7, 8, 8, 3, 1, 8, 2, 5, 0, 2, 6, 0, 7, 7, 5, 3, 0, 3, 5, 2, 3, 0, 0, 4, 2, 6, 5, 3, 6, 5, 4, 0, 4, 1, 4, 1, 2, 5, 0, 0, 8, 2, 6, 0, 6, 6, 8, 7, 7, 6, 3, 1, 3, 1, 8, 5, 0, 8, 8, 3, 6, 7, 2, 1, 8, 8, 7, 2, 6, 3, 6, 7, 3, 2, 6, 3, 6, 1, 4, 0, 7, 6, 0, 1, 0, 2, 0, 8, 4, 2, 7, 2, 2, 6, 3, 7, 5, 3, 8, 1, 8, 2, 6, 4, 0, 0, 1, 8, 3, 7, 4, 3, 6]\n",
            "Files processed =  100\n",
            "[1, 8, 6, 1, 3, 4, 3, 5, 1, 8, 7, 0, 6, 3, 3, 6, 1, 3, 4, 3, 1, 8, 6, 3, 0, 4, 8, 3, 0, 7, 3, 5, 3, 0, 4, 6, 0, 5, 1, 7, 3, 3, 3, 1, 4, 8, 7, 1, 1, 0, 5, 7, 7, 0, 0, 2, 5, 7, 5, 3, 3, 1, 3, 1, 7, 3, 8, 0, 5, 0, 8, 4, 3, 3, 0, 3, 3, 5, 1, 1, 1, 0, 0, 2, 1, 1, 1, 2, 0, 1, 1, 1, 1, 8, 7, 8, 8, 1, 3, 7, 0, 7, 3, 1, 7, 7, 0, 6, 1, 4, 0, 8, 1, 7, 6, 0, 7, 0, 3, 1, 8, 0, 8, 8, 3, 3, 6, 6, 1, 0, 1, 6, 6, 1, 4, 3, 2, 7, 6, 2, 4, 1, 3, 0, 3, 0, 0, 8, 2, 8, 3, 3, 3, 1, 1, 2, 1, 8, 3, 7, 2, 3, 8, 0, 6, 1, 6, 3, 7, 7, 7, 1, 2, 2, 0, 4, 5, 3, 6, 6, 3, 6, 2, 3, 3, 6, 8, 8, 0, 6, 4, 8, 4, 0, 8, 3, 4, 3, 0, 8, 6, 0, 4, 1, 2, 0, 8, 1, 3, 3, 4, 6, 3, 6, 1, 2, 7, 3, 8, 5, 1, 8, 3, 8, 1, 7, 6, 8, 8, 3, 1, 0, 7, 4, 8, 8, 7, 2, 3, 7, 1, 4, 6, 0, 3, 1, 6, 1, 3, 2, 1, 7, 0, 8, 3, 1, 7, 2, 8, 0, 2, 5, 0, 1, 1, 8, 0, 3, 0, 7, 2, 3, 0, 4, 4, 2, 6, 3, 3, 6, 5, 0, 0, 3, 1, 3, 1, 2, 3, 0, 0, 3, 7, 6, 0, 4, 6, 7, 7, 7, 6, 2, 1, 4, 1, 8, 5, 0, 8, 7, 3, 8, 1, 2, 1, 8, 8, 3, 2, 4, 3, 6, 7, 3, 2, 6, 0, 6, 1, 4, 0, 7, 6, 0, 1, 2, 7, 7, 8, 4, 2, 7, 2, 8, 6, 5, 1, 0, 1, 3, 1, 8, 2, 6, 4, 0, 3, 1, 4, 3, 7, 4, 4, 6, 1, 3, 4, 8, 7, 0, 0, 0, 0, 5, 7, 2, 6, 5, 3, 8, 0, 2, 3, 6, 3, 1, 3, 0, 3, 2, 0, 3, 0, 1, 0, 0, 2, 3, 3, 5, 1, 1, 3, 5]\n",
            "[7, 5, 6, 7, 3, 4, 3, 8, 1, 3, 5, 0, 6, 4, 8, 6, 1, 3, 6, 6, 1, 8, 6, 4, 2, 6, 5, 4, 0, 7, 4, 7, 4, 2, 4, 6, 0, 5, 7, 5, 3, 4, 3, 4, 8, 8, 8, 4, 1, 0, 8, 5, 0, 0, 4, 2, 7, 0, 5, 0, 5, 7, 8, 1, 7, 2, 5, 0, 5, 0, 5, 4, 8, 1, 0, 3, 7, 3, 1, 7, 1, 0, 0, 2, 7, 1, 1, 2, 3, 7, 1, 4, 7, 8, 8, 5, 5, 1, 7, 2, 2, 7, 4, 1, 1, 7, 0, 6, 7, 4, 7, 8, 7, 3, 6, 0, 5, 0, 1, 1, 2, 0, 8, 5, 4, 3, 6, 6, 1, 0, 1, 6, 6, 1, 4, 4, 3, 7, 6, 7, 4, 1, 4, 0, 5, 0, 0, 5, 7, 8, 3, 0, 5, 3, 1, 2, 1, 5, 8, 5, 2, 4, 5, 0, 6, 1, 6, 3, 5, 8, 7, 1, 2, 2, 2, 4, 5, 4, 6, 6, 8, 6, 2, 3, 8, 6, 5, 5, 3, 6, 3, 8, 4, 4, 5, 8, 4, 3, 6, 6, 6, 0, 4, 7, 2, 0, 3, 7, 4, 5, 4, 6, 4, 6, 1, 2, 3, 7, 6, 7, 1, 2, 5, 8, 1, 7, 6, 8, 2, 4, 1, 0, 0, 4, 3, 5, 7, 2, 3, 7, 1, 3, 6, 5, 4, 1, 6, 1, 8, 2, 1, 7, 8, 8, 3, 1, 8, 2, 5, 0, 2, 6, 0, 7, 7, 5, 3, 0, 3, 5, 2, 3, 0, 0, 4, 2, 6, 5, 3, 6, 5, 4, 0, 4, 1, 4, 1, 2, 5, 0, 0, 8, 2, 6, 0, 6, 6, 8, 7, 7, 6, 3, 1, 3, 1, 8, 5, 0, 8, 8, 3, 6, 7, 2, 1, 8, 8, 7, 2, 6, 3, 6, 7, 3, 2, 6, 3, 6, 1, 4, 0, 7, 6, 0, 1, 0, 2, 0, 8, 4, 2, 7, 2, 2, 6, 3, 7, 5, 3, 8, 1, 8, 2, 6, 4, 0, 0, 1, 8, 3, 7, 4, 3, 6, 3, 6, 3, 2, 5, 4, 0, 2, 8, 8, 7, 2, 6, 7, 5, 8, 0, 2, 3, 6, 3, 1, 7, 0, 5, 2, 0, 4, 0, 1, 0, 4, 2, 3, 8, 5, 1, 1, 8, 7]\n",
            "Files processed =  110\n",
            "[1, 8, 6, 1, 3, 4, 3, 5, 1, 8, 7, 0, 6, 3, 3, 6, 1, 3, 4, 3, 1, 8, 6, 3, 0, 4, 8, 3, 0, 7, 3, 5, 3, 0, 4, 6, 0, 5, 1, 7, 3, 3, 3, 1, 4, 8, 7, 1, 1, 0, 5, 7, 7, 0, 0, 2, 5, 7, 5, 3, 3, 1, 3, 1, 7, 3, 8, 0, 5, 0, 8, 4, 3, 3, 0, 3, 3, 5, 1, 1, 1, 0, 0, 2, 1, 1, 1, 2, 0, 1, 1, 1, 1, 8, 7, 8, 8, 1, 3, 7, 0, 7, 3, 1, 7, 7, 0, 6, 1, 4, 0, 8, 1, 7, 6, 0, 7, 0, 3, 1, 8, 0, 8, 8, 3, 3, 6, 6, 1, 0, 1, 6, 6, 1, 4, 3, 2, 7, 6, 2, 4, 1, 3, 0, 3, 0, 0, 8, 2, 8, 3, 3, 3, 1, 1, 2, 1, 8, 3, 7, 2, 3, 8, 0, 6, 1, 6, 3, 7, 7, 7, 1, 2, 2, 0, 4, 5, 3, 6, 6, 3, 6, 2, 3, 3, 6, 8, 8, 0, 6, 4, 8, 4, 0, 8, 3, 4, 3, 0, 8, 6, 0, 4, 1, 2, 0, 8, 1, 3, 3, 4, 6, 3, 6, 1, 2, 7, 3, 8, 5, 1, 8, 3, 8, 1, 7, 6, 8, 8, 3, 1, 0, 7, 4, 8, 8, 7, 2, 3, 7, 1, 4, 6, 0, 3, 1, 6, 1, 3, 2, 1, 7, 0, 8, 3, 1, 7, 2, 8, 0, 2, 5, 0, 1, 1, 8, 0, 3, 0, 7, 2, 3, 0, 4, 4, 2, 6, 3, 3, 6, 5, 0, 0, 3, 1, 3, 1, 2, 3, 0, 0, 3, 7, 6, 0, 4, 6, 7, 7, 7, 6, 2, 1, 4, 1, 8, 5, 0, 8, 7, 3, 8, 1, 2, 1, 8, 8, 3, 2, 4, 3, 6, 7, 3, 2, 6, 0, 6, 1, 4, 0, 7, 6, 0, 1, 2, 7, 7, 8, 4, 2, 7, 2, 8, 6, 5, 1, 0, 1, 3, 1, 8, 2, 6, 4, 0, 3, 1, 4, 3, 7, 4, 4, 6, 1, 3, 4, 8, 7, 0, 0, 0, 0, 5, 7, 2, 6, 5, 3, 8, 0, 2, 3, 6, 3, 1, 3, 0, 3, 2, 0, 3, 0, 1, 0, 0, 2, 3, 3, 5, 1, 1, 3, 5, 8, 8, 2, 1, 3, 1, 1, 3, 1, 3, 3, 4, 3, 3, 8, 7, 0, 1, 3, 8, 2, 7, 4, 7, 7, 2, 0, 7, 8, 7, 2, 0, 4, 0, 0, 7, 1, 7, 1, 1]\n",
            "[7, 5, 6, 7, 3, 4, 3, 8, 1, 3, 5, 0, 6, 4, 8, 6, 1, 3, 6, 6, 1, 8, 6, 4, 2, 6, 5, 4, 0, 7, 4, 7, 4, 2, 4, 6, 0, 5, 7, 5, 3, 4, 3, 4, 8, 8, 8, 4, 1, 0, 8, 5, 0, 0, 4, 2, 7, 0, 5, 0, 5, 7, 8, 1, 7, 2, 5, 0, 5, 0, 5, 4, 8, 1, 0, 3, 7, 3, 1, 7, 1, 0, 0, 2, 7, 1, 1, 2, 3, 7, 1, 4, 7, 8, 8, 5, 5, 1, 7, 2, 2, 7, 4, 1, 1, 7, 0, 6, 7, 4, 7, 8, 7, 3, 6, 0, 5, 0, 1, 1, 2, 0, 8, 5, 4, 3, 6, 6, 1, 0, 1, 6, 6, 1, 4, 4, 3, 7, 6, 7, 4, 1, 4, 0, 5, 0, 0, 5, 7, 8, 3, 0, 5, 3, 1, 2, 1, 5, 8, 5, 2, 4, 5, 0, 6, 1, 6, 3, 5, 8, 7, 1, 2, 2, 2, 4, 5, 4, 6, 6, 8, 6, 2, 3, 8, 6, 5, 5, 3, 6, 3, 8, 4, 4, 5, 8, 4, 3, 6, 6, 6, 0, 4, 7, 2, 0, 3, 7, 4, 5, 4, 6, 4, 6, 1, 2, 3, 7, 6, 7, 1, 2, 5, 8, 1, 7, 6, 8, 2, 4, 1, 0, 0, 4, 3, 5, 7, 2, 3, 7, 1, 3, 6, 5, 4, 1, 6, 1, 8, 2, 1, 7, 8, 8, 3, 1, 8, 2, 5, 0, 2, 6, 0, 7, 7, 5, 3, 0, 3, 5, 2, 3, 0, 0, 4, 2, 6, 5, 3, 6, 5, 4, 0, 4, 1, 4, 1, 2, 5, 0, 0, 8, 2, 6, 0, 6, 6, 8, 7, 7, 6, 3, 1, 3, 1, 8, 5, 0, 8, 8, 3, 6, 7, 2, 1, 8, 8, 7, 2, 6, 3, 6, 7, 3, 2, 6, 3, 6, 1, 4, 0, 7, 6, 0, 1, 0, 2, 0, 8, 4, 2, 7, 2, 2, 6, 3, 7, 5, 3, 8, 1, 8, 2, 6, 4, 0, 0, 1, 8, 3, 7, 4, 3, 6, 3, 6, 3, 2, 5, 4, 0, 2, 8, 8, 7, 2, 6, 7, 5, 8, 0, 2, 3, 6, 3, 1, 7, 0, 5, 2, 0, 4, 0, 1, 0, 4, 2, 3, 8, 5, 1, 1, 8, 7, 5, 3, 2, 1, 5, 1, 4, 3, 7, 3, 5, 4, 3, 3, 5, 8, 4, 7, 3, 5, 2, 2, 4, 8, 7, 2, 0, 7, 2, 5, 2, 0, 5, 0, 0, 7, 1, 7, 3, 1]\n",
            "Files processed =  120\n",
            "[1, 8, 6, 1, 3, 4, 3, 5, 1, 8, 7, 0, 6, 3, 3, 6, 1, 3, 4, 3, 1, 8, 6, 3, 0, 4, 8, 3, 0, 7, 3, 5, 3, 0, 4, 6, 0, 5, 1, 7, 3, 3, 3, 1, 4, 8, 7, 1, 1, 0, 5, 7, 7, 0, 0, 2, 5, 7, 5, 3, 3, 1, 3, 1, 7, 3, 8, 0, 5, 0, 8, 4, 3, 3, 0, 3, 3, 5, 1, 1, 1, 0, 0, 2, 1, 1, 1, 2, 0, 1, 1, 1, 1, 8, 7, 8, 8, 1, 3, 7, 0, 7, 3, 1, 7, 7, 0, 6, 1, 4, 0, 8, 1, 7, 6, 0, 7, 0, 3, 1, 8, 0, 8, 8, 3, 3, 6, 6, 1, 0, 1, 6, 6, 1, 4, 3, 2, 7, 6, 2, 4, 1, 3, 0, 3, 0, 0, 8, 2, 8, 3, 3, 3, 1, 1, 2, 1, 8, 3, 7, 2, 3, 8, 0, 6, 1, 6, 3, 7, 7, 7, 1, 2, 2, 0, 4, 5, 3, 6, 6, 3, 6, 2, 3, 3, 6, 8, 8, 0, 6, 4, 8, 4, 0, 8, 3, 4, 3, 0, 8, 6, 0, 4, 1, 2, 0, 8, 1, 3, 3, 4, 6, 3, 6, 1, 2, 7, 3, 8, 5, 1, 8, 3, 8, 1, 7, 6, 8, 8, 3, 1, 0, 7, 4, 8, 8, 7, 2, 3, 7, 1, 4, 6, 0, 3, 1, 6, 1, 3, 2, 1, 7, 0, 8, 3, 1, 7, 2, 8, 0, 2, 5, 0, 1, 1, 8, 0, 3, 0, 7, 2, 3, 0, 4, 4, 2, 6, 3, 3, 6, 5, 0, 0, 3, 1, 3, 1, 2, 3, 0, 0, 3, 7, 6, 0, 4, 6, 7, 7, 7, 6, 2, 1, 4, 1, 8, 5, 0, 8, 7, 3, 8, 1, 2, 1, 8, 8, 3, 2, 4, 3, 6, 7, 3, 2, 6, 0, 6, 1, 4, 0, 7, 6, 0, 1, 2, 7, 7, 8, 4, 2, 7, 2, 8, 6, 5, 1, 0, 1, 3, 1, 8, 2, 6, 4, 0, 3, 1, 4, 3, 7, 4, 4, 6, 1, 3, 4, 8, 7, 0, 0, 0, 0, 5, 7, 2, 6, 5, 3, 8, 0, 2, 3, 6, 3, 1, 3, 0, 3, 2, 0, 3, 0, 1, 0, 0, 2, 3, 3, 5, 1, 1, 3, 5, 8, 8, 2, 1, 3, 1, 1, 3, 1, 3, 3, 4, 3, 3, 8, 7, 0, 1, 3, 8, 2, 7, 4, 7, 7, 2, 0, 7, 8, 7, 2, 0, 4, 0, 0, 7, 1, 7, 1, 1, 3, 3, 3, 8, 3, 1, 7, 6, 3, 3, 7, 2, 3, 6, 3, 1, 7, 5, 5, 7, 0, 5, 3, 3, 0, 3, 0, 1, 2, 8, 3, 0, 1, 6, 3, 8, 0, 1, 1, 3]\n",
            "[7, 5, 6, 7, 3, 4, 3, 8, 1, 3, 5, 0, 6, 4, 8, 6, 1, 3, 6, 6, 1, 8, 6, 4, 2, 6, 5, 4, 0, 7, 4, 7, 4, 2, 4, 6, 0, 5, 7, 5, 3, 4, 3, 4, 8, 8, 8, 4, 1, 0, 8, 5, 0, 0, 4, 2, 7, 0, 5, 0, 5, 7, 8, 1, 7, 2, 5, 0, 5, 0, 5, 4, 8, 1, 0, 3, 7, 3, 1, 7, 1, 0, 0, 2, 7, 1, 1, 2, 3, 7, 1, 4, 7, 8, 8, 5, 5, 1, 7, 2, 2, 7, 4, 1, 1, 7, 0, 6, 7, 4, 7, 8, 7, 3, 6, 0, 5, 0, 1, 1, 2, 0, 8, 5, 4, 3, 6, 6, 1, 0, 1, 6, 6, 1, 4, 4, 3, 7, 6, 7, 4, 1, 4, 0, 5, 0, 0, 5, 7, 8, 3, 0, 5, 3, 1, 2, 1, 5, 8, 5, 2, 4, 5, 0, 6, 1, 6, 3, 5, 8, 7, 1, 2, 2, 2, 4, 5, 4, 6, 6, 8, 6, 2, 3, 8, 6, 5, 5, 3, 6, 3, 8, 4, 4, 5, 8, 4, 3, 6, 6, 6, 0, 4, 7, 2, 0, 3, 7, 4, 5, 4, 6, 4, 6, 1, 2, 3, 7, 6, 7, 1, 2, 5, 8, 1, 7, 6, 8, 2, 4, 1, 0, 0, 4, 3, 5, 7, 2, 3, 7, 1, 3, 6, 5, 4, 1, 6, 1, 8, 2, 1, 7, 8, 8, 3, 1, 8, 2, 5, 0, 2, 6, 0, 7, 7, 5, 3, 0, 3, 5, 2, 3, 0, 0, 4, 2, 6, 5, 3, 6, 5, 4, 0, 4, 1, 4, 1, 2, 5, 0, 0, 8, 2, 6, 0, 6, 6, 8, 7, 7, 6, 3, 1, 3, 1, 8, 5, 0, 8, 8, 3, 6, 7, 2, 1, 8, 8, 7, 2, 6, 3, 6, 7, 3, 2, 6, 3, 6, 1, 4, 0, 7, 6, 0, 1, 0, 2, 0, 8, 4, 2, 7, 2, 2, 6, 3, 7, 5, 3, 8, 1, 8, 2, 6, 4, 0, 0, 1, 8, 3, 7, 4, 3, 6, 3, 6, 3, 2, 5, 4, 0, 2, 8, 8, 7, 2, 6, 7, 5, 8, 0, 2, 3, 6, 3, 1, 7, 0, 5, 2, 0, 4, 0, 1, 0, 4, 2, 3, 8, 5, 1, 1, 8, 7, 5, 3, 2, 1, 5, 1, 4, 3, 7, 3, 5, 4, 3, 3, 5, 8, 4, 7, 3, 5, 2, 2, 4, 8, 7, 2, 0, 7, 2, 5, 2, 0, 5, 0, 0, 7, 1, 7, 3, 1, 1, 4, 2, 5, 3, 1, 7, 6, 2, 5, 8, 2, 4, 6, 0, 7, 3, 3, 5, 0, 2, 5, 4, 3, 3, 8, 0, 7, 2, 0, 3, 5, 1, 6, 3, 8, 4, 1, 1, 8]\n",
            "Files processed =  130\n",
            "[1, 8, 6, 1, 3, 4, 3, 5, 1, 8, 7, 0, 6, 3, 3, 6, 1, 3, 4, 3, 1, 8, 6, 3, 0, 4, 8, 3, 0, 7, 3, 5, 3, 0, 4, 6, 0, 5, 1, 7, 3, 3, 3, 1, 4, 8, 7, 1, 1, 0, 5, 7, 7, 0, 0, 2, 5, 7, 5, 3, 3, 1, 3, 1, 7, 3, 8, 0, 5, 0, 8, 4, 3, 3, 0, 3, 3, 5, 1, 1, 1, 0, 0, 2, 1, 1, 1, 2, 0, 1, 1, 1, 1, 8, 7, 8, 8, 1, 3, 7, 0, 7, 3, 1, 7, 7, 0, 6, 1, 4, 0, 8, 1, 7, 6, 0, 7, 0, 3, 1, 8, 0, 8, 8, 3, 3, 6, 6, 1, 0, 1, 6, 6, 1, 4, 3, 2, 7, 6, 2, 4, 1, 3, 0, 3, 0, 0, 8, 2, 8, 3, 3, 3, 1, 1, 2, 1, 8, 3, 7, 2, 3, 8, 0, 6, 1, 6, 3, 7, 7, 7, 1, 2, 2, 0, 4, 5, 3, 6, 6, 3, 6, 2, 3, 3, 6, 8, 8, 0, 6, 4, 8, 4, 0, 8, 3, 4, 3, 0, 8, 6, 0, 4, 1, 2, 0, 8, 1, 3, 3, 4, 6, 3, 6, 1, 2, 7, 3, 8, 5, 1, 8, 3, 8, 1, 7, 6, 8, 8, 3, 1, 0, 7, 4, 8, 8, 7, 2, 3, 7, 1, 4, 6, 0, 3, 1, 6, 1, 3, 2, 1, 7, 0, 8, 3, 1, 7, 2, 8, 0, 2, 5, 0, 1, 1, 8, 0, 3, 0, 7, 2, 3, 0, 4, 4, 2, 6, 3, 3, 6, 5, 0, 0, 3, 1, 3, 1, 2, 3, 0, 0, 3, 7, 6, 0, 4, 6, 7, 7, 7, 6, 2, 1, 4, 1, 8, 5, 0, 8, 7, 3, 8, 1, 2, 1, 8, 8, 3, 2, 4, 3, 6, 7, 3, 2, 6, 0, 6, 1, 4, 0, 7, 6, 0, 1, 2, 7, 7, 8, 4, 2, 7, 2, 8, 6, 5, 1, 0, 1, 3, 1, 8, 2, 6, 4, 0, 3, 1, 4, 3, 7, 4, 4, 6, 1, 3, 4, 8, 7, 0, 0, 0, 0, 5, 7, 2, 6, 5, 3, 8, 0, 2, 3, 6, 3, 1, 3, 0, 3, 2, 0, 3, 0, 1, 0, 0, 2, 3, 3, 5, 1, 1, 3, 5, 8, 8, 2, 1, 3, 1, 1, 3, 1, 3, 3, 4, 3, 3, 8, 7, 0, 1, 3, 8, 2, 7, 4, 7, 7, 2, 0, 7, 8, 7, 2, 0, 4, 0, 0, 7, 1, 7, 1, 1, 3, 3, 3, 8, 3, 1, 7, 6, 3, 3, 7, 2, 3, 6, 3, 1, 7, 5, 5, 7, 0, 5, 3, 3, 0, 3, 0, 1, 2, 8, 3, 0, 1, 6, 3, 8, 0, 1, 1, 3, 5, 6, 3, 0, 3, 2, 1, 3, 6, 8, 5, 7, 8, 0, 3, 8, 6, 3, 3, 7, 7, 4, 1, 3, 0, 4, 8, 2, 1, 5, 1, 2, 3, 1, 0, 7, 5, 1, 1, 3]\n",
            "[7, 5, 6, 7, 3, 4, 3, 8, 1, 3, 5, 0, 6, 4, 8, 6, 1, 3, 6, 6, 1, 8, 6, 4, 2, 6, 5, 4, 0, 7, 4, 7, 4, 2, 4, 6, 0, 5, 7, 5, 3, 4, 3, 4, 8, 8, 8, 4, 1, 0, 8, 5, 0, 0, 4, 2, 7, 0, 5, 0, 5, 7, 8, 1, 7, 2, 5, 0, 5, 0, 5, 4, 8, 1, 0, 3, 7, 3, 1, 7, 1, 0, 0, 2, 7, 1, 1, 2, 3, 7, 1, 4, 7, 8, 8, 5, 5, 1, 7, 2, 2, 7, 4, 1, 1, 7, 0, 6, 7, 4, 7, 8, 7, 3, 6, 0, 5, 0, 1, 1, 2, 0, 8, 5, 4, 3, 6, 6, 1, 0, 1, 6, 6, 1, 4, 4, 3, 7, 6, 7, 4, 1, 4, 0, 5, 0, 0, 5, 7, 8, 3, 0, 5, 3, 1, 2, 1, 5, 8, 5, 2, 4, 5, 0, 6, 1, 6, 3, 5, 8, 7, 1, 2, 2, 2, 4, 5, 4, 6, 6, 8, 6, 2, 3, 8, 6, 5, 5, 3, 6, 3, 8, 4, 4, 5, 8, 4, 3, 6, 6, 6, 0, 4, 7, 2, 0, 3, 7, 4, 5, 4, 6, 4, 6, 1, 2, 3, 7, 6, 7, 1, 2, 5, 8, 1, 7, 6, 8, 2, 4, 1, 0, 0, 4, 3, 5, 7, 2, 3, 7, 1, 3, 6, 5, 4, 1, 6, 1, 8, 2, 1, 7, 8, 8, 3, 1, 8, 2, 5, 0, 2, 6, 0, 7, 7, 5, 3, 0, 3, 5, 2, 3, 0, 0, 4, 2, 6, 5, 3, 6, 5, 4, 0, 4, 1, 4, 1, 2, 5, 0, 0, 8, 2, 6, 0, 6, 6, 8, 7, 7, 6, 3, 1, 3, 1, 8, 5, 0, 8, 8, 3, 6, 7, 2, 1, 8, 8, 7, 2, 6, 3, 6, 7, 3, 2, 6, 3, 6, 1, 4, 0, 7, 6, 0, 1, 0, 2, 0, 8, 4, 2, 7, 2, 2, 6, 3, 7, 5, 3, 8, 1, 8, 2, 6, 4, 0, 0, 1, 8, 3, 7, 4, 3, 6, 3, 6, 3, 2, 5, 4, 0, 2, 8, 8, 7, 2, 6, 7, 5, 8, 0, 2, 3, 6, 3, 1, 7, 0, 5, 2, 0, 4, 0, 1, 0, 4, 2, 3, 8, 5, 1, 1, 8, 7, 5, 3, 2, 1, 5, 1, 4, 3, 7, 3, 5, 4, 3, 3, 5, 8, 4, 7, 3, 5, 2, 2, 4, 8, 7, 2, 0, 7, 2, 5, 2, 0, 5, 0, 0, 7, 1, 7, 3, 1, 1, 4, 2, 5, 3, 1, 7, 6, 2, 5, 8, 2, 4, 6, 0, 7, 3, 3, 5, 0, 2, 5, 4, 3, 3, 8, 0, 7, 2, 0, 3, 5, 1, 6, 3, 8, 4, 1, 1, 8, 7, 6, 5, 0, 8, 2, 1, 4, 6, 8, 5, 4, 8, 4, 6, 8, 6, 8, 5, 0, 0, 4, 1, 8, 2, 6, 8, 2, 7, 8, 1, 2, 2, 1, 2, 8, 5, 7, 4, 4]\n"
          ],
          "name": "stdout"
        },
        {
          "output_type": "stream",
          "text": [
            "\r  1%|          | 1/170 [29:59<84:29:59, 1799.99s/it]"
          ],
          "name": "stderr"
        },
        {
          "output_type": "stream",
          "text": [
            "Accuracy epoch 30  =  0.5428051001821493\n",
            "tensor(0.5435, device='cuda:0', grad_fn=<NllLossBackward>)\n",
            "tensor(0.2193, device='cuda:0', grad_fn=<NllLossBackward>)\n",
            "tensor(0.8449, device='cuda:0', grad_fn=<NllLossBackward>)\n",
            "tensor(0.5524, device='cuda:0', grad_fn=<NllLossBackward>)\n",
            "tensor(1.1673, device='cuda:0', grad_fn=<NllLossBackward>)\n",
            "tensor(1.7680, device='cuda:0', grad_fn=<NllLossBackward>)\n",
            "tensor(0.9643, device='cuda:0', grad_fn=<NllLossBackward>)\n",
            "tensor(1.0292, device='cuda:0', grad_fn=<NllLossBackward>)\n",
            "tensor(0.6537, device='cuda:0', grad_fn=<NllLossBackward>)\n",
            "tensor(0.4501, device='cuda:0', grad_fn=<NllLossBackward>)\n",
            "tensor(1.0145, device='cuda:0', grad_fn=<NllLossBackward>)\n",
            "COST epoch 31  =  [tensor(1111.4436), tensor(990.5597), tensor(934.4700), tensor(874.6571), tensor(822.8998), tensor(800.3447), tensor(765.9095), tensor(740.0458), tensor(718.9320), tensor(719.7072), tensor(693.2490), tensor(697.7689), tensor(672.8008), tensor(661.9917), tensor(658.5683), tensor(635.4274), tensor(631.2565), tensor(615.2205), tensor(607.1673), tensor(607.2458), tensor(606.9468), tensor(562.4706), tensor(572.2747), tensor(568.2372), tensor(549.9225), tensor(549.4277), tensor(539.3239), tensor(530.7670), tensor(519.7222), tensor(514.4471), tensor(505.1449), tensor(497.7492), tensor(483.2874, device='cuda:0'), tensor(486.2227, device='cuda:0')]\n",
            "Files processed =  0\n",
            "[6, 6, 8, 3]\n",
            "[3, 4, 8, 3]\n",
            "Files processed =  10\n",
            "[6, 6, 8, 3, 2, 7, 0, 6, 2, 1, 3, 8, 7, 2, 8, 6, 1, 3, 8, 7, 5, 6, 5, 6, 1, 1, 8, 1, 2, 1, 6, 8, 1, 7, 1, 6, 7, 6, 0, 2, 4, 8, 2, 0]\n",
            "[3, 4, 8, 3, 2, 3, 0, 6, 8, 1, 3, 2, 7, 2, 5, 4, 1, 3, 8, 7, 8, 6, 7, 6, 4, 7, 8, 1, 2, 1, 6, 2, 7, 7, 3, 6, 5, 6, 4, 2, 3, 5, 2, 0]\n",
            "Files processed =  20\n",
            "[6, 6, 8, 3, 2, 7, 0, 6, 2, 1, 3, 8, 7, 2, 8, 6, 1, 3, 8, 7, 5, 6, 5, 6, 1, 1, 8, 1, 2, 1, 6, 8, 1, 7, 1, 6, 7, 6, 0, 2, 4, 8, 2, 0, 5, 8, 0, 0, 5, 0, 1, 0, 6, 8, 5, 7, 3, 6, 2, 0, 2, 1, 1, 0, 6, 6, 5, 1, 4, 6, 4, 0, 1, 0, 6, 1, 8, 1, 1, 1, 6, 8, 1, 3]\n",
            "[3, 4, 8, 3, 2, 3, 0, 6, 8, 1, 3, 2, 7, 2, 5, 4, 1, 3, 8, 7, 8, 6, 7, 6, 4, 7, 8, 1, 2, 1, 6, 2, 7, 7, 3, 6, 5, 6, 4, 2, 3, 5, 2, 0, 5, 8, 0, 2, 8, 0, 1, 2, 6, 0, 5, 7, 2, 6, 3, 4, 2, 1, 1, 0, 5, 6, 5, 7, 4, 6, 4, 6, 1, 0, 4, 5, 4, 1, 1, 1, 6, 8, 1, 8]\n",
            "Files processed =  30\n",
            "[6, 6, 8, 3, 2, 7, 0, 6, 2, 1, 3, 8, 7, 2, 8, 6, 1, 3, 8, 7, 5, 6, 5, 6, 1, 1, 8, 1, 2, 1, 6, 8, 1, 7, 1, 6, 7, 6, 0, 2, 4, 8, 2, 0, 5, 8, 0, 0, 5, 0, 1, 0, 6, 8, 5, 7, 3, 6, 2, 0, 2, 1, 1, 0, 6, 6, 5, 1, 4, 6, 4, 0, 1, 0, 6, 1, 8, 1, 1, 1, 6, 8, 1, 3, 8, 2, 4, 8, 8, 2, 2, 1, 1, 0, 3, 0, 2, 6, 5, 7, 1, 6, 8, 5, 4, 3, 6, 8, 1, 0, 1, 2, 1, 3, 6, 3, 0, 6, 2, 1, 3, 0, 0, 5]\n",
            "[3, 4, 8, 3, 2, 3, 0, 6, 8, 1, 3, 2, 7, 2, 5, 4, 1, 3, 8, 7, 8, 6, 7, 6, 4, 7, 8, 1, 2, 1, 6, 2, 7, 7, 3, 6, 5, 6, 4, 2, 3, 5, 2, 0, 5, 8, 0, 2, 8, 0, 1, 2, 6, 0, 5, 7, 2, 6, 3, 4, 2, 1, 1, 0, 5, 6, 5, 7, 4, 6, 4, 6, 1, 0, 4, 5, 4, 1, 1, 1, 6, 8, 1, 8, 8, 2, 3, 2, 8, 2, 2, 1, 4, 0, 8, 3, 2, 6, 0, 3, 7, 6, 0, 4, 4, 7, 3, 5, 4, 0, 1, 2, 1, 1, 6, 4, 0, 6, 2, 1, 7, 0, 0, 5]\n",
            "Files processed =  40\n",
            "[6, 6, 8, 3, 2, 7, 0, 6, 2, 1, 3, 8, 7, 2, 8, 6, 1, 3, 8, 7, 5, 6, 5, 6, 1, 1, 8, 1, 2, 1, 6, 8, 1, 7, 1, 6, 7, 6, 0, 2, 4, 8, 2, 0, 5, 8, 0, 0, 5, 0, 1, 0, 6, 8, 5, 7, 3, 6, 2, 0, 2, 1, 1, 0, 6, 6, 5, 1, 4, 6, 4, 0, 1, 0, 6, 1, 8, 1, 1, 1, 6, 8, 1, 3, 8, 2, 4, 8, 8, 2, 2, 1, 1, 0, 3, 0, 2, 6, 5, 7, 1, 6, 8, 5, 4, 3, 6, 8, 1, 0, 1, 2, 1, 3, 6, 3, 0, 6, 2, 1, 3, 0, 0, 5, 6, 8, 8, 1, 5, 8, 5, 8, 2, 2, 0, 5, 8, 7, 2, 6, 5, 6, 8, 8, 8, 8, 5, 1, 0, 8, 5, 3, 0, 1, 6, 4, 8, 6, 1, 7, 0, 7, 3, 6]\n",
            "[3, 4, 8, 3, 2, 3, 0, 6, 8, 1, 3, 2, 7, 2, 5, 4, 1, 3, 8, 7, 8, 6, 7, 6, 4, 7, 8, 1, 2, 1, 6, 2, 7, 7, 3, 6, 5, 6, 4, 2, 3, 5, 2, 0, 5, 8, 0, 2, 8, 0, 1, 2, 6, 0, 5, 7, 2, 6, 3, 4, 2, 1, 1, 0, 5, 6, 5, 7, 4, 6, 4, 6, 1, 0, 4, 5, 4, 1, 1, 1, 6, 8, 1, 8, 8, 2, 3, 2, 8, 2, 2, 1, 4, 0, 8, 3, 2, 6, 0, 3, 7, 6, 0, 4, 4, 7, 3, 5, 4, 0, 1, 2, 1, 1, 6, 4, 0, 6, 2, 1, 7, 0, 0, 5, 6, 8, 0, 7, 5, 5, 8, 8, 2, 2, 0, 7, 8, 5, 2, 5, 8, 4, 8, 2, 5, 8, 5, 3, 0, 5, 5, 4, 5, 1, 6, 3, 3, 6, 1, 5, 4, 8, 3, 6]\n",
            "Files processed =  50\n",
            "[6, 6, 8, 3, 2, 7, 0, 6, 2, 1, 3, 8, 7, 2, 8, 6, 1, 3, 8, 7, 5, 6, 5, 6, 1, 1, 8, 1, 2, 1, 6, 8, 1, 7, 1, 6, 7, 6, 0, 2, 4, 8, 2, 0, 5, 8, 0, 0, 5, 0, 1, 0, 6, 8, 5, 7, 3, 6, 2, 0, 2, 1, 1, 0, 6, 6, 5, 1, 4, 6, 4, 0, 1, 0, 6, 1, 8, 1, 1, 1, 6, 8, 1, 3, 8, 2, 4, 8, 8, 2, 2, 1, 1, 0, 3, 0, 2, 6, 5, 7, 1, 6, 8, 5, 4, 3, 6, 8, 1, 0, 1, 2, 1, 3, 6, 3, 0, 6, 2, 1, 3, 0, 0, 5, 6, 8, 8, 1, 5, 8, 5, 8, 2, 2, 0, 5, 8, 7, 2, 6, 5, 6, 8, 8, 8, 8, 5, 1, 0, 8, 5, 3, 0, 1, 6, 4, 8, 6, 1, 7, 0, 7, 3, 6, 0, 4, 6, 3, 2, 8, 6, 8, 8, 6, 1, 1, 5, 1, 1, 6, 7, 2, 1, 0, 5, 5, 4, 8, 6, 3, 1, 5, 6, 0, 2, 1, 5, 5, 7, 1, 4, 6, 4, 8]\n",
            "[3, 4, 8, 3, 2, 3, 0, 6, 8, 1, 3, 2, 7, 2, 5, 4, 1, 3, 8, 7, 8, 6, 7, 6, 4, 7, 8, 1, 2, 1, 6, 2, 7, 7, 3, 6, 5, 6, 4, 2, 3, 5, 2, 0, 5, 8, 0, 2, 8, 0, 1, 2, 6, 0, 5, 7, 2, 6, 3, 4, 2, 1, 1, 0, 5, 6, 5, 7, 4, 6, 4, 6, 1, 0, 4, 5, 4, 1, 1, 1, 6, 8, 1, 8, 8, 2, 3, 2, 8, 2, 2, 1, 4, 0, 8, 3, 2, 6, 0, 3, 7, 6, 0, 4, 4, 7, 3, 5, 4, 0, 1, 2, 1, 1, 6, 4, 0, 6, 2, 1, 7, 0, 0, 5, 6, 8, 0, 7, 5, 5, 8, 8, 2, 2, 0, 7, 8, 5, 2, 5, 8, 4, 8, 2, 5, 8, 5, 3, 0, 5, 5, 4, 5, 1, 6, 3, 3, 6, 1, 5, 4, 8, 3, 6, 3, 4, 6, 3, 2, 8, 3, 8, 0, 6, 1, 1, 4, 4, 1, 3, 7, 2, 1, 0, 7, 8, 4, 5, 6, 4, 4, 7, 6, 2, 2, 1, 5, 7, 0, 4, 4, 6, 4, 8]\n",
            "Files processed =  60\n",
            "[6, 6, 8, 3, 2, 7, 0, 6, 2, 1, 3, 8, 7, 2, 8, 6, 1, 3, 8, 7, 5, 6, 5, 6, 1, 1, 8, 1, 2, 1, 6, 8, 1, 7, 1, 6, 7, 6, 0, 2, 4, 8, 2, 0, 5, 8, 0, 0, 5, 0, 1, 0, 6, 8, 5, 7, 3, 6, 2, 0, 2, 1, 1, 0, 6, 6, 5, 1, 4, 6, 4, 0, 1, 0, 6, 1, 8, 1, 1, 1, 6, 8, 1, 3, 8, 2, 4, 8, 8, 2, 2, 1, 1, 0, 3, 0, 2, 6, 5, 7, 1, 6, 8, 5, 4, 3, 6, 8, 1, 0, 1, 2, 1, 3, 6, 3, 0, 6, 2, 1, 3, 0, 0, 5, 6, 8, 8, 1, 5, 8, 5, 8, 2, 2, 0, 5, 8, 7, 2, 6, 5, 6, 8, 8, 8, 8, 5, 1, 0, 8, 5, 3, 0, 1, 6, 4, 8, 6, 1, 7, 0, 7, 3, 6, 0, 4, 6, 3, 2, 8, 6, 8, 8, 6, 1, 1, 5, 1, 1, 6, 7, 2, 1, 0, 5, 5, 4, 8, 6, 3, 1, 5, 6, 0, 2, 1, 5, 5, 7, 1, 4, 6, 4, 8, 4, 8, 5, 8, 6, 5, 0, 4, 1, 8, 0, 6, 3, 4, 0, 4, 2, 3, 1, 1, 0, 6, 5, 6, 1, 5, 1, 5, 8, 7, 2, 6, 0, 0, 0, 3, 1, 6, 7, 3]\n",
            "[3, 4, 8, 3, 2, 3, 0, 6, 8, 1, 3, 2, 7, 2, 5, 4, 1, 3, 8, 7, 8, 6, 7, 6, 4, 7, 8, 1, 2, 1, 6, 2, 7, 7, 3, 6, 5, 6, 4, 2, 3, 5, 2, 0, 5, 8, 0, 2, 8, 0, 1, 2, 6, 0, 5, 7, 2, 6, 3, 4, 2, 1, 1, 0, 5, 6, 5, 7, 4, 6, 4, 6, 1, 0, 4, 5, 4, 1, 1, 1, 6, 8, 1, 8, 8, 2, 3, 2, 8, 2, 2, 1, 4, 0, 8, 3, 2, 6, 0, 3, 7, 6, 0, 4, 4, 7, 3, 5, 4, 0, 1, 2, 1, 1, 6, 4, 0, 6, 2, 1, 7, 0, 0, 5, 6, 8, 0, 7, 5, 5, 8, 8, 2, 2, 0, 7, 8, 5, 2, 5, 8, 4, 8, 2, 5, 8, 5, 3, 0, 5, 5, 4, 5, 1, 6, 3, 3, 6, 1, 5, 4, 8, 3, 6, 3, 4, 6, 3, 2, 8, 3, 8, 0, 6, 1, 1, 4, 4, 1, 3, 7, 2, 1, 0, 7, 8, 4, 5, 6, 4, 4, 7, 6, 2, 2, 1, 5, 7, 0, 4, 4, 6, 4, 8, 3, 5, 5, 5, 6, 8, 0, 5, 7, 5, 3, 6, 4, 4, 0, 4, 2, 3, 1, 7, 0, 6, 2, 6, 7, 5, 1, 8, 8, 7, 2, 6, 3, 0, 7, 3, 4, 6, 7, 4]\n",
            "Files processed =  70\n",
            "[6, 6, 8, 3, 2, 7, 0, 6, 2, 1, 3, 8, 7, 2, 8, 6, 1, 3, 8, 7, 5, 6, 5, 6, 1, 1, 8, 1, 2, 1, 6, 8, 1, 7, 1, 6, 7, 6, 0, 2, 4, 8, 2, 0, 5, 8, 0, 0, 5, 0, 1, 0, 6, 8, 5, 7, 3, 6, 2, 0, 2, 1, 1, 0, 6, 6, 5, 1, 4, 6, 4, 0, 1, 0, 6, 1, 8, 1, 1, 1, 6, 8, 1, 3, 8, 2, 4, 8, 8, 2, 2, 1, 1, 0, 3, 0, 2, 6, 5, 7, 1, 6, 8, 5, 4, 3, 6, 8, 1, 0, 1, 2, 1, 3, 6, 3, 0, 6, 2, 1, 3, 0, 0, 5, 6, 8, 8, 1, 5, 8, 5, 8, 2, 2, 0, 5, 8, 7, 2, 6, 5, 6, 8, 8, 8, 8, 5, 1, 0, 8, 5, 3, 0, 1, 6, 4, 8, 6, 1, 7, 0, 7, 3, 6, 0, 4, 6, 3, 2, 8, 6, 8, 8, 6, 1, 1, 5, 1, 1, 6, 7, 2, 1, 0, 5, 5, 4, 8, 6, 3, 1, 5, 6, 0, 2, 1, 5, 5, 7, 1, 4, 6, 4, 8, 4, 8, 5, 8, 6, 5, 0, 4, 1, 8, 0, 6, 3, 4, 0, 4, 2, 3, 1, 1, 0, 6, 5, 6, 1, 5, 1, 5, 8, 7, 2, 6, 0, 0, 0, 3, 1, 6, 7, 3, 8, 2, 0, 6, 8, 1, 6, 0, 1, 0, 5, 7, 8, 5, 5, 2, 0, 0, 1, 0, 4, 6, 8, 8, 2, 1, 2, 4, 2, 2, 1, 5, 8, 2, 4, 3, 2, 1, 1, 1]\n",
            "[3, 4, 8, 3, 2, 3, 0, 6, 8, 1, 3, 2, 7, 2, 5, 4, 1, 3, 8, 7, 8, 6, 7, 6, 4, 7, 8, 1, 2, 1, 6, 2, 7, 7, 3, 6, 5, 6, 4, 2, 3, 5, 2, 0, 5, 8, 0, 2, 8, 0, 1, 2, 6, 0, 5, 7, 2, 6, 3, 4, 2, 1, 1, 0, 5, 6, 5, 7, 4, 6, 4, 6, 1, 0, 4, 5, 4, 1, 1, 1, 6, 8, 1, 8, 8, 2, 3, 2, 8, 2, 2, 1, 4, 0, 8, 3, 2, 6, 0, 3, 7, 6, 0, 4, 4, 7, 3, 5, 4, 0, 1, 2, 1, 1, 6, 4, 0, 6, 2, 1, 7, 0, 0, 5, 6, 8, 0, 7, 5, 5, 8, 8, 2, 2, 0, 7, 8, 5, 2, 5, 8, 4, 8, 2, 5, 8, 5, 3, 0, 5, 5, 4, 5, 1, 6, 3, 3, 6, 1, 5, 4, 8, 3, 6, 3, 4, 6, 3, 2, 8, 3, 8, 0, 6, 1, 1, 4, 4, 1, 3, 7, 2, 1, 0, 7, 8, 4, 5, 6, 4, 4, 7, 6, 2, 2, 1, 5, 7, 0, 4, 4, 6, 4, 8, 3, 5, 5, 5, 6, 8, 0, 5, 7, 5, 3, 6, 4, 4, 0, 4, 2, 3, 1, 7, 0, 6, 2, 6, 7, 5, 1, 8, 8, 7, 2, 6, 3, 0, 7, 3, 4, 6, 7, 4, 0, 2, 0, 6, 0, 1, 6, 0, 7, 0, 7, 7, 8, 5, 5, 2, 3, 0, 7, 0, 3, 6, 0, 4, 2, 2, 2, 4, 2, 2, 1, 7, 0, 0, 4, 3, 2, 7, 7, 4]\n",
            "Files processed =  80\n",
            "[6, 6, 8, 3, 2, 7, 0, 6, 2, 1, 3, 8, 7, 2, 8, 6, 1, 3, 8, 7, 5, 6, 5, 6, 1, 1, 8, 1, 2, 1, 6, 8, 1, 7, 1, 6, 7, 6, 0, 2, 4, 8, 2, 0, 5, 8, 0, 0, 5, 0, 1, 0, 6, 8, 5, 7, 3, 6, 2, 0, 2, 1, 1, 0, 6, 6, 5, 1, 4, 6, 4, 0, 1, 0, 6, 1, 8, 1, 1, 1, 6, 8, 1, 3, 8, 2, 4, 8, 8, 2, 2, 1, 1, 0, 3, 0, 2, 6, 5, 7, 1, 6, 8, 5, 4, 3, 6, 8, 1, 0, 1, 2, 1, 3, 6, 3, 0, 6, 2, 1, 3, 0, 0, 5, 6, 8, 8, 1, 5, 8, 5, 8, 2, 2, 0, 5, 8, 7, 2, 6, 5, 6, 8, 8, 8, 8, 5, 1, 0, 8, 5, 3, 0, 1, 6, 4, 8, 6, 1, 7, 0, 7, 3, 6, 0, 4, 6, 3, 2, 8, 6, 8, 8, 6, 1, 1, 5, 1, 1, 6, 7, 2, 1, 0, 5, 5, 4, 8, 6, 3, 1, 5, 6, 0, 2, 1, 5, 5, 7, 1, 4, 6, 4, 8, 4, 8, 5, 8, 6, 5, 0, 4, 1, 8, 0, 6, 3, 4, 0, 4, 2, 3, 1, 1, 0, 6, 5, 6, 1, 5, 1, 5, 8, 7, 2, 6, 0, 0, 0, 3, 1, 6, 7, 3, 8, 2, 0, 6, 8, 1, 6, 0, 1, 0, 5, 7, 8, 5, 5, 2, 0, 0, 1, 0, 4, 6, 8, 8, 2, 1, 2, 4, 2, 2, 1, 5, 8, 2, 4, 3, 2, 1, 1, 1, 4, 1, 7, 1, 5, 8, 3, 3, 7, 7, 8, 0, 5, 3, 6, 8, 5, 8, 3, 8, 0, 8, 6, 2, 3, 8, 5, 3, 0, 8, 3, 2, 1, 1, 8, 1, 7, 8, 1, 8]\n",
            "[3, 4, 8, 3, 2, 3, 0, 6, 8, 1, 3, 2, 7, 2, 5, 4, 1, 3, 8, 7, 8, 6, 7, 6, 4, 7, 8, 1, 2, 1, 6, 2, 7, 7, 3, 6, 5, 6, 4, 2, 3, 5, 2, 0, 5, 8, 0, 2, 8, 0, 1, 2, 6, 0, 5, 7, 2, 6, 3, 4, 2, 1, 1, 0, 5, 6, 5, 7, 4, 6, 4, 6, 1, 0, 4, 5, 4, 1, 1, 1, 6, 8, 1, 8, 8, 2, 3, 2, 8, 2, 2, 1, 4, 0, 8, 3, 2, 6, 0, 3, 7, 6, 0, 4, 4, 7, 3, 5, 4, 0, 1, 2, 1, 1, 6, 4, 0, 6, 2, 1, 7, 0, 0, 5, 6, 8, 0, 7, 5, 5, 8, 8, 2, 2, 0, 7, 8, 5, 2, 5, 8, 4, 8, 2, 5, 8, 5, 3, 0, 5, 5, 4, 5, 1, 6, 3, 3, 6, 1, 5, 4, 8, 3, 6, 3, 4, 6, 3, 2, 8, 3, 8, 0, 6, 1, 1, 4, 4, 1, 3, 7, 2, 1, 0, 7, 8, 4, 5, 6, 4, 4, 7, 6, 2, 2, 1, 5, 7, 0, 4, 4, 6, 4, 8, 3, 5, 5, 5, 6, 8, 0, 5, 7, 5, 3, 6, 4, 4, 0, 4, 2, 3, 1, 7, 0, 6, 2, 6, 7, 5, 1, 8, 8, 7, 2, 6, 3, 0, 7, 3, 4, 6, 7, 4, 0, 2, 0, 6, 0, 1, 6, 0, 7, 0, 7, 7, 8, 5, 5, 2, 3, 0, 7, 0, 3, 6, 0, 4, 2, 2, 2, 4, 2, 2, 1, 7, 0, 0, 4, 3, 2, 7, 7, 4, 5, 1, 0, 7, 5, 3, 0, 4, 7, 0, 2, 8, 8, 7, 6, 8, 5, 8, 7, 5, 0, 8, 3, 2, 3, 2, 2, 8, 0, 5, 3, 2, 1, 7, 5, 7, 3, 8, 7, 8]\n",
            "Files processed =  90\n",
            "[6, 6, 8, 3, 2, 7, 0, 6, 2, 1, 3, 8, 7, 2, 8, 6, 1, 3, 8, 7, 5, 6, 5, 6, 1, 1, 8, 1, 2, 1, 6, 8, 1, 7, 1, 6, 7, 6, 0, 2, 4, 8, 2, 0, 5, 8, 0, 0, 5, 0, 1, 0, 6, 8, 5, 7, 3, 6, 2, 0, 2, 1, 1, 0, 6, 6, 5, 1, 4, 6, 4, 0, 1, 0, 6, 1, 8, 1, 1, 1, 6, 8, 1, 3, 8, 2, 4, 8, 8, 2, 2, 1, 1, 0, 3, 0, 2, 6, 5, 7, 1, 6, 8, 5, 4, 3, 6, 8, 1, 0, 1, 2, 1, 3, 6, 3, 0, 6, 2, 1, 3, 0, 0, 5, 6, 8, 8, 1, 5, 8, 5, 8, 2, 2, 0, 5, 8, 7, 2, 6, 5, 6, 8, 8, 8, 8, 5, 1, 0, 8, 5, 3, 0, 1, 6, 4, 8, 6, 1, 7, 0, 7, 3, 6, 0, 4, 6, 3, 2, 8, 6, 8, 8, 6, 1, 1, 5, 1, 1, 6, 7, 2, 1, 0, 5, 5, 4, 8, 6, 3, 1, 5, 6, 0, 2, 1, 5, 5, 7, 1, 4, 6, 4, 8, 4, 8, 5, 8, 6, 5, 0, 4, 1, 8, 0, 6, 3, 4, 0, 4, 2, 3, 1, 1, 0, 6, 5, 6, 1, 5, 1, 5, 8, 7, 2, 6, 0, 0, 0, 3, 1, 6, 7, 3, 8, 2, 0, 6, 8, 1, 6, 0, 1, 0, 5, 7, 8, 5, 5, 2, 0, 0, 1, 0, 4, 6, 8, 8, 2, 1, 2, 4, 2, 2, 1, 5, 8, 2, 4, 3, 2, 1, 1, 1, 4, 1, 7, 1, 5, 8, 3, 3, 7, 7, 8, 0, 5, 3, 6, 8, 5, 8, 3, 8, 0, 8, 6, 2, 3, 8, 5, 3, 0, 8, 3, 2, 1, 1, 8, 1, 7, 8, 1, 8, 8, 0, 1, 0, 2, 7, 8, 8, 6, 5, 0, 5, 8, 3, 8, 4, 6, 8, 7, 1, 0, 0, 5, 0, 1, 7, 1, 1, 6, 1, 1, 0, 5, 7, 6, 6, 0, 1, 3, 0]\n",
            "[3, 4, 8, 3, 2, 3, 0, 6, 8, 1, 3, 2, 7, 2, 5, 4, 1, 3, 8, 7, 8, 6, 7, 6, 4, 7, 8, 1, 2, 1, 6, 2, 7, 7, 3, 6, 5, 6, 4, 2, 3, 5, 2, 0, 5, 8, 0, 2, 8, 0, 1, 2, 6, 0, 5, 7, 2, 6, 3, 4, 2, 1, 1, 0, 5, 6, 5, 7, 4, 6, 4, 6, 1, 0, 4, 5, 4, 1, 1, 1, 6, 8, 1, 8, 8, 2, 3, 2, 8, 2, 2, 1, 4, 0, 8, 3, 2, 6, 0, 3, 7, 6, 0, 4, 4, 7, 3, 5, 4, 0, 1, 2, 1, 1, 6, 4, 0, 6, 2, 1, 7, 0, 0, 5, 6, 8, 0, 7, 5, 5, 8, 8, 2, 2, 0, 7, 8, 5, 2, 5, 8, 4, 8, 2, 5, 8, 5, 3, 0, 5, 5, 4, 5, 1, 6, 3, 3, 6, 1, 5, 4, 8, 3, 6, 3, 4, 6, 3, 2, 8, 3, 8, 0, 6, 1, 1, 4, 4, 1, 3, 7, 2, 1, 0, 7, 8, 4, 5, 6, 4, 4, 7, 6, 2, 2, 1, 5, 7, 0, 4, 4, 6, 4, 8, 3, 5, 5, 5, 6, 8, 0, 5, 7, 5, 3, 6, 4, 4, 0, 4, 2, 3, 1, 7, 0, 6, 2, 6, 7, 5, 1, 8, 8, 7, 2, 6, 3, 0, 7, 3, 4, 6, 7, 4, 0, 2, 0, 6, 0, 1, 6, 0, 7, 0, 7, 7, 8, 5, 5, 2, 3, 0, 7, 0, 3, 6, 0, 4, 2, 2, 2, 4, 2, 2, 1, 7, 0, 0, 4, 3, 2, 7, 7, 4, 5, 1, 0, 7, 5, 3, 0, 4, 7, 0, 2, 8, 8, 7, 6, 8, 5, 8, 7, 5, 0, 8, 3, 2, 3, 2, 2, 8, 0, 5, 3, 2, 1, 7, 5, 7, 3, 8, 7, 8, 3, 0, 1, 3, 2, 3, 8, 5, 6, 3, 3, 3, 5, 4, 5, 3, 6, 8, 0, 1, 0, 0, 0, 0, 1, 2, 1, 7, 6, 7, 1, 0, 8, 7, 6, 6, 5, 7, 5, 2]\n",
            "Files processed =  100\n",
            "[6, 6, 8, 3, 2, 7, 0, 6, 2, 1, 3, 8, 7, 2, 8, 6, 1, 3, 8, 7, 5, 6, 5, 6, 1, 1, 8, 1, 2, 1, 6, 8, 1, 7, 1, 6, 7, 6, 0, 2, 4, 8, 2, 0, 5, 8, 0, 0, 5, 0, 1, 0, 6, 8, 5, 7, 3, 6, 2, 0, 2, 1, 1, 0, 6, 6, 5, 1, 4, 6, 4, 0, 1, 0, 6, 1, 8, 1, 1, 1, 6, 8, 1, 3, 8, 2, 4, 8, 8, 2, 2, 1, 1, 0, 3, 0, 2, 6, 5, 7, 1, 6, 8, 5, 4, 3, 6, 8, 1, 0, 1, 2, 1, 3, 6, 3, 0, 6, 2, 1, 3, 0, 0, 5, 6, 8, 8, 1, 5, 8, 5, 8, 2, 2, 0, 5, 8, 7, 2, 6, 5, 6, 8, 8, 8, 8, 5, 1, 0, 8, 5, 3, 0, 1, 6, 4, 8, 6, 1, 7, 0, 7, 3, 6, 0, 4, 6, 3, 2, 8, 6, 8, 8, 6, 1, 1, 5, 1, 1, 6, 7, 2, 1, 0, 5, 5, 4, 8, 6, 3, 1, 5, 6, 0, 2, 1, 5, 5, 7, 1, 4, 6, 4, 8, 4, 8, 5, 8, 6, 5, 0, 4, 1, 8, 0, 6, 3, 4, 0, 4, 2, 3, 1, 1, 0, 6, 5, 6, 1, 5, 1, 5, 8, 7, 2, 6, 0, 0, 0, 3, 1, 6, 7, 3, 8, 2, 0, 6, 8, 1, 6, 0, 1, 0, 5, 7, 8, 5, 5, 2, 0, 0, 1, 0, 4, 6, 8, 8, 2, 1, 2, 4, 2, 2, 1, 5, 8, 2, 4, 3, 2, 1, 1, 1, 4, 1, 7, 1, 5, 8, 3, 3, 7, 7, 8, 0, 5, 3, 6, 8, 5, 8, 3, 8, 0, 8, 6, 2, 3, 8, 5, 3, 0, 8, 3, 2, 1, 1, 8, 1, 7, 8, 1, 8, 8, 0, 1, 0, 2, 7, 8, 8, 6, 5, 0, 5, 8, 3, 8, 4, 6, 8, 7, 1, 0, 0, 5, 0, 1, 7, 1, 1, 6, 1, 1, 0, 5, 7, 6, 6, 0, 1, 3, 0, 1, 1, 0, 6, 5, 8, 0, 1, 1, 0, 8, 2, 3, 8, 4, 1, 2, 6, 3, 1, 5, 1, 8, 6, 8, 1, 1, 1, 5, 7, 5, 5, 8, 1, 1, 8, 1, 6, 1, 6]\n",
            "[3, 4, 8, 3, 2, 3, 0, 6, 8, 1, 3, 2, 7, 2, 5, 4, 1, 3, 8, 7, 8, 6, 7, 6, 4, 7, 8, 1, 2, 1, 6, 2, 7, 7, 3, 6, 5, 6, 4, 2, 3, 5, 2, 0, 5, 8, 0, 2, 8, 0, 1, 2, 6, 0, 5, 7, 2, 6, 3, 4, 2, 1, 1, 0, 5, 6, 5, 7, 4, 6, 4, 6, 1, 0, 4, 5, 4, 1, 1, 1, 6, 8, 1, 8, 8, 2, 3, 2, 8, 2, 2, 1, 4, 0, 8, 3, 2, 6, 0, 3, 7, 6, 0, 4, 4, 7, 3, 5, 4, 0, 1, 2, 1, 1, 6, 4, 0, 6, 2, 1, 7, 0, 0, 5, 6, 8, 0, 7, 5, 5, 8, 8, 2, 2, 0, 7, 8, 5, 2, 5, 8, 4, 8, 2, 5, 8, 5, 3, 0, 5, 5, 4, 5, 1, 6, 3, 3, 6, 1, 5, 4, 8, 3, 6, 3, 4, 6, 3, 2, 8, 3, 8, 0, 6, 1, 1, 4, 4, 1, 3, 7, 2, 1, 0, 7, 8, 4, 5, 6, 4, 4, 7, 6, 2, 2, 1, 5, 7, 0, 4, 4, 6, 4, 8, 3, 5, 5, 5, 6, 8, 0, 5, 7, 5, 3, 6, 4, 4, 0, 4, 2, 3, 1, 7, 0, 6, 2, 6, 7, 5, 1, 8, 8, 7, 2, 6, 3, 0, 7, 3, 4, 6, 7, 4, 0, 2, 0, 6, 0, 1, 6, 0, 7, 0, 7, 7, 8, 5, 5, 2, 3, 0, 7, 0, 3, 6, 0, 4, 2, 2, 2, 4, 2, 2, 1, 7, 0, 0, 4, 3, 2, 7, 7, 4, 5, 1, 0, 7, 5, 3, 0, 4, 7, 0, 2, 8, 8, 7, 6, 8, 5, 8, 7, 5, 0, 8, 3, 2, 3, 2, 2, 8, 0, 5, 3, 2, 1, 7, 5, 7, 3, 8, 7, 8, 3, 0, 1, 3, 2, 3, 8, 5, 6, 3, 3, 3, 5, 4, 5, 3, 6, 8, 0, 1, 0, 0, 0, 0, 1, 2, 1, 7, 6, 7, 1, 0, 8, 7, 6, 6, 5, 7, 5, 2, 1, 1, 0, 6, 8, 5, 0, 7, 1, 3, 3, 2, 5, 8, 4, 7, 5, 6, 4, 1, 4, 1, 8, 6, 2, 3, 7, 1, 7, 3, 5, 5, 8, 1, 1, 8, 1, 6, 1, 6]\n",
            "Files processed =  110\n",
            "[6, 6, 8, 3, 2, 7, 0, 6, 2, 1, 3, 8, 7, 2, 8, 6, 1, 3, 8, 7, 5, 6, 5, 6, 1, 1, 8, 1, 2, 1, 6, 8, 1, 7, 1, 6, 7, 6, 0, 2, 4, 8, 2, 0, 5, 8, 0, 0, 5, 0, 1, 0, 6, 8, 5, 7, 3, 6, 2, 0, 2, 1, 1, 0, 6, 6, 5, 1, 4, 6, 4, 0, 1, 0, 6, 1, 8, 1, 1, 1, 6, 8, 1, 3, 8, 2, 4, 8, 8, 2, 2, 1, 1, 0, 3, 0, 2, 6, 5, 7, 1, 6, 8, 5, 4, 3, 6, 8, 1, 0, 1, 2, 1, 3, 6, 3, 0, 6, 2, 1, 3, 0, 0, 5, 6, 8, 8, 1, 5, 8, 5, 8, 2, 2, 0, 5, 8, 7, 2, 6, 5, 6, 8, 8, 8, 8, 5, 1, 0, 8, 5, 3, 0, 1, 6, 4, 8, 6, 1, 7, 0, 7, 3, 6, 0, 4, 6, 3, 2, 8, 6, 8, 8, 6, 1, 1, 5, 1, 1, 6, 7, 2, 1, 0, 5, 5, 4, 8, 6, 3, 1, 5, 6, 0, 2, 1, 5, 5, 7, 1, 4, 6, 4, 8, 4, 8, 5, 8, 6, 5, 0, 4, 1, 8, 0, 6, 3, 4, 0, 4, 2, 3, 1, 1, 0, 6, 5, 6, 1, 5, 1, 5, 8, 7, 2, 6, 0, 0, 0, 3, 1, 6, 7, 3, 8, 2, 0, 6, 8, 1, 6, 0, 1, 0, 5, 7, 8, 5, 5, 2, 0, 0, 1, 0, 4, 6, 8, 8, 2, 1, 2, 4, 2, 2, 1, 5, 8, 2, 4, 3, 2, 1, 1, 1, 4, 1, 7, 1, 5, 8, 3, 3, 7, 7, 8, 0, 5, 3, 6, 8, 5, 8, 3, 8, 0, 8, 6, 2, 3, 8, 5, 3, 0, 8, 3, 2, 1, 1, 8, 1, 7, 8, 1, 8, 8, 0, 1, 0, 2, 7, 8, 8, 6, 5, 0, 5, 8, 3, 8, 4, 6, 8, 7, 1, 0, 0, 5, 0, 1, 7, 1, 1, 6, 1, 1, 0, 5, 7, 6, 6, 0, 1, 3, 0, 1, 1, 0, 6, 5, 8, 0, 1, 1, 0, 8, 2, 3, 8, 4, 1, 2, 6, 3, 1, 5, 1, 8, 6, 8, 1, 1, 1, 5, 7, 5, 5, 8, 1, 1, 8, 1, 6, 1, 6, 7, 1, 5, 6, 1, 8, 5, 6, 7, 1, 0, 3, 8, 1, 0, 1, 8, 0, 4, 3, 1, 4, 0, 8, 6, 0, 0, 2, 3, 8, 1, 1, 2, 7, 3, 0, 3, 3, 1, 1]\n",
            "[3, 4, 8, 3, 2, 3, 0, 6, 8, 1, 3, 2, 7, 2, 5, 4, 1, 3, 8, 7, 8, 6, 7, 6, 4, 7, 8, 1, 2, 1, 6, 2, 7, 7, 3, 6, 5, 6, 4, 2, 3, 5, 2, 0, 5, 8, 0, 2, 8, 0, 1, 2, 6, 0, 5, 7, 2, 6, 3, 4, 2, 1, 1, 0, 5, 6, 5, 7, 4, 6, 4, 6, 1, 0, 4, 5, 4, 1, 1, 1, 6, 8, 1, 8, 8, 2, 3, 2, 8, 2, 2, 1, 4, 0, 8, 3, 2, 6, 0, 3, 7, 6, 0, 4, 4, 7, 3, 5, 4, 0, 1, 2, 1, 1, 6, 4, 0, 6, 2, 1, 7, 0, 0, 5, 6, 8, 0, 7, 5, 5, 8, 8, 2, 2, 0, 7, 8, 5, 2, 5, 8, 4, 8, 2, 5, 8, 5, 3, 0, 5, 5, 4, 5, 1, 6, 3, 3, 6, 1, 5, 4, 8, 3, 6, 3, 4, 6, 3, 2, 8, 3, 8, 0, 6, 1, 1, 4, 4, 1, 3, 7, 2, 1, 0, 7, 8, 4, 5, 6, 4, 4, 7, 6, 2, 2, 1, 5, 7, 0, 4, 4, 6, 4, 8, 3, 5, 5, 5, 6, 8, 0, 5, 7, 5, 3, 6, 4, 4, 0, 4, 2, 3, 1, 7, 0, 6, 2, 6, 7, 5, 1, 8, 8, 7, 2, 6, 3, 0, 7, 3, 4, 6, 7, 4, 0, 2, 0, 6, 0, 1, 6, 0, 7, 0, 7, 7, 8, 5, 5, 2, 3, 0, 7, 0, 3, 6, 0, 4, 2, 2, 2, 4, 2, 2, 1, 7, 0, 0, 4, 3, 2, 7, 7, 4, 5, 1, 0, 7, 5, 3, 0, 4, 7, 0, 2, 8, 8, 7, 6, 8, 5, 8, 7, 5, 0, 8, 3, 2, 3, 2, 2, 8, 0, 5, 3, 2, 1, 7, 5, 7, 3, 8, 7, 8, 3, 0, 1, 3, 2, 3, 8, 5, 6, 3, 3, 3, 5, 4, 5, 3, 6, 8, 0, 1, 0, 0, 0, 0, 1, 2, 1, 7, 6, 7, 1, 0, 8, 7, 6, 6, 5, 7, 5, 2, 1, 1, 0, 6, 8, 5, 0, 7, 1, 3, 3, 2, 5, 8, 4, 7, 5, 6, 4, 1, 4, 1, 8, 6, 2, 3, 7, 1, 7, 3, 5, 5, 8, 1, 1, 8, 1, 6, 1, 6, 7, 7, 8, 6, 1, 8, 7, 6, 7, 7, 0, 4, 8, 1, 0, 4, 8, 6, 3, 3, 7, 5, 2, 7, 6, 3, 4, 2, 8, 0, 1, 1, 2, 7, 3, 2, 4, 5, 1, 4]\n",
            "Files processed =  120\n",
            "[6, 6, 8, 3, 2, 7, 0, 6, 2, 1, 3, 8, 7, 2, 8, 6, 1, 3, 8, 7, 5, 6, 5, 6, 1, 1, 8, 1, 2, 1, 6, 8, 1, 7, 1, 6, 7, 6, 0, 2, 4, 8, 2, 0, 5, 8, 0, 0, 5, 0, 1, 0, 6, 8, 5, 7, 3, 6, 2, 0, 2, 1, 1, 0, 6, 6, 5, 1, 4, 6, 4, 0, 1, 0, 6, 1, 8, 1, 1, 1, 6, 8, 1, 3, 8, 2, 4, 8, 8, 2, 2, 1, 1, 0, 3, 0, 2, 6, 5, 7, 1, 6, 8, 5, 4, 3, 6, 8, 1, 0, 1, 2, 1, 3, 6, 3, 0, 6, 2, 1, 3, 0, 0, 5, 6, 8, 8, 1, 5, 8, 5, 8, 2, 2, 0, 5, 8, 7, 2, 6, 5, 6, 8, 8, 8, 8, 5, 1, 0, 8, 5, 3, 0, 1, 6, 4, 8, 6, 1, 7, 0, 7, 3, 6, 0, 4, 6, 3, 2, 8, 6, 8, 8, 6, 1, 1, 5, 1, 1, 6, 7, 2, 1, 0, 5, 5, 4, 8, 6, 3, 1, 5, 6, 0, 2, 1, 5, 5, 7, 1, 4, 6, 4, 8, 4, 8, 5, 8, 6, 5, 0, 4, 1, 8, 0, 6, 3, 4, 0, 4, 2, 3, 1, 1, 0, 6, 5, 6, 1, 5, 1, 5, 8, 7, 2, 6, 0, 0, 0, 3, 1, 6, 7, 3, 8, 2, 0, 6, 8, 1, 6, 0, 1, 0, 5, 7, 8, 5, 5, 2, 0, 0, 1, 0, 4, 6, 8, 8, 2, 1, 2, 4, 2, 2, 1, 5, 8, 2, 4, 3, 2, 1, 1, 1, 4, 1, 7, 1, 5, 8, 3, 3, 7, 7, 8, 0, 5, 3, 6, 8, 5, 8, 3, 8, 0, 8, 6, 2, 3, 8, 5, 3, 0, 8, 3, 2, 1, 1, 8, 1, 7, 8, 1, 8, 8, 0, 1, 0, 2, 7, 8, 8, 6, 5, 0, 5, 8, 3, 8, 4, 6, 8, 7, 1, 0, 0, 5, 0, 1, 7, 1, 1, 6, 1, 1, 0, 5, 7, 6, 6, 0, 1, 3, 0, 1, 1, 0, 6, 5, 8, 0, 1, 1, 0, 8, 2, 3, 8, 4, 1, 2, 6, 3, 1, 5, 1, 8, 6, 8, 1, 1, 1, 5, 7, 5, 5, 8, 1, 1, 8, 1, 6, 1, 6, 7, 1, 5, 6, 1, 8, 5, 6, 7, 1, 0, 3, 8, 1, 0, 1, 8, 0, 4, 3, 1, 4, 0, 8, 6, 0, 0, 2, 3, 8, 1, 1, 2, 7, 3, 0, 3, 3, 1, 1, 8, 3, 7, 7, 2, 6, 1, 8, 5, 2, 8, 1, 4, 1, 5, 8, 6, 2, 1, 4, 5, 6, 2, 6, 2, 2, 6, 6, 0, 5, 1, 0, 4, 8, 2, 1, 1, 3, 8, 0]\n",
            "[3, 4, 8, 3, 2, 3, 0, 6, 8, 1, 3, 2, 7, 2, 5, 4, 1, 3, 8, 7, 8, 6, 7, 6, 4, 7, 8, 1, 2, 1, 6, 2, 7, 7, 3, 6, 5, 6, 4, 2, 3, 5, 2, 0, 5, 8, 0, 2, 8, 0, 1, 2, 6, 0, 5, 7, 2, 6, 3, 4, 2, 1, 1, 0, 5, 6, 5, 7, 4, 6, 4, 6, 1, 0, 4, 5, 4, 1, 1, 1, 6, 8, 1, 8, 8, 2, 3, 2, 8, 2, 2, 1, 4, 0, 8, 3, 2, 6, 0, 3, 7, 6, 0, 4, 4, 7, 3, 5, 4, 0, 1, 2, 1, 1, 6, 4, 0, 6, 2, 1, 7, 0, 0, 5, 6, 8, 0, 7, 5, 5, 8, 8, 2, 2, 0, 7, 8, 5, 2, 5, 8, 4, 8, 2, 5, 8, 5, 3, 0, 5, 5, 4, 5, 1, 6, 3, 3, 6, 1, 5, 4, 8, 3, 6, 3, 4, 6, 3, 2, 8, 3, 8, 0, 6, 1, 1, 4, 4, 1, 3, 7, 2, 1, 0, 7, 8, 4, 5, 6, 4, 4, 7, 6, 2, 2, 1, 5, 7, 0, 4, 4, 6, 4, 8, 3, 5, 5, 5, 6, 8, 0, 5, 7, 5, 3, 6, 4, 4, 0, 4, 2, 3, 1, 7, 0, 6, 2, 6, 7, 5, 1, 8, 8, 7, 2, 6, 3, 0, 7, 3, 4, 6, 7, 4, 0, 2, 0, 6, 0, 1, 6, 0, 7, 0, 7, 7, 8, 5, 5, 2, 3, 0, 7, 0, 3, 6, 0, 4, 2, 2, 2, 4, 2, 2, 1, 7, 0, 0, 4, 3, 2, 7, 7, 4, 5, 1, 0, 7, 5, 3, 0, 4, 7, 0, 2, 8, 8, 7, 6, 8, 5, 8, 7, 5, 0, 8, 3, 2, 3, 2, 2, 8, 0, 5, 3, 2, 1, 7, 5, 7, 3, 8, 7, 8, 3, 0, 1, 3, 2, 3, 8, 5, 6, 3, 3, 3, 5, 4, 5, 3, 6, 8, 0, 1, 0, 0, 0, 0, 1, 2, 1, 7, 6, 7, 1, 0, 8, 7, 6, 6, 5, 7, 5, 2, 1, 1, 0, 6, 8, 5, 0, 7, 1, 3, 3, 2, 5, 8, 4, 7, 5, 6, 4, 1, 4, 1, 8, 6, 2, 3, 7, 1, 7, 3, 5, 5, 8, 1, 1, 8, 1, 6, 1, 6, 7, 7, 8, 6, 1, 8, 7, 6, 7, 7, 0, 4, 8, 1, 0, 4, 8, 6, 3, 3, 7, 5, 2, 7, 6, 3, 4, 2, 8, 0, 1, 1, 2, 7, 3, 2, 4, 5, 1, 4, 8, 3, 7, 0, 2, 3, 1, 8, 5, 2, 8, 3, 3, 1, 5, 8, 6, 2, 1, 5, 3, 6, 2, 3, 2, 2, 6, 6, 0, 8, 1, 0, 4, 5, 2, 1, 1, 4, 8, 0]\n",
            "Files processed =  130\n",
            "[6, 6, 8, 3, 2, 7, 0, 6, 2, 1, 3, 8, 7, 2, 8, 6, 1, 3, 8, 7, 5, 6, 5, 6, 1, 1, 8, 1, 2, 1, 6, 8, 1, 7, 1, 6, 7, 6, 0, 2, 4, 8, 2, 0, 5, 8, 0, 0, 5, 0, 1, 0, 6, 8, 5, 7, 3, 6, 2, 0, 2, 1, 1, 0, 6, 6, 5, 1, 4, 6, 4, 0, 1, 0, 6, 1, 8, 1, 1, 1, 6, 8, 1, 3, 8, 2, 4, 8, 8, 2, 2, 1, 1, 0, 3, 0, 2, 6, 5, 7, 1, 6, 8, 5, 4, 3, 6, 8, 1, 0, 1, 2, 1, 3, 6, 3, 0, 6, 2, 1, 3, 0, 0, 5, 6, 8, 8, 1, 5, 8, 5, 8, 2, 2, 0, 5, 8, 7, 2, 6, 5, 6, 8, 8, 8, 8, 5, 1, 0, 8, 5, 3, 0, 1, 6, 4, 8, 6, 1, 7, 0, 7, 3, 6, 0, 4, 6, 3, 2, 8, 6, 8, 8, 6, 1, 1, 5, 1, 1, 6, 7, 2, 1, 0, 5, 5, 4, 8, 6, 3, 1, 5, 6, 0, 2, 1, 5, 5, 7, 1, 4, 6, 4, 8, 4, 8, 5, 8, 6, 5, 0, 4, 1, 8, 0, 6, 3, 4, 0, 4, 2, 3, 1, 1, 0, 6, 5, 6, 1, 5, 1, 5, 8, 7, 2, 6, 0, 0, 0, 3, 1, 6, 7, 3, 8, 2, 0, 6, 8, 1, 6, 0, 1, 0, 5, 7, 8, 5, 5, 2, 0, 0, 1, 0, 4, 6, 8, 8, 2, 1, 2, 4, 2, 2, 1, 5, 8, 2, 4, 3, 2, 1, 1, 1, 4, 1, 7, 1, 5, 8, 3, 3, 7, 7, 8, 0, 5, 3, 6, 8, 5, 8, 3, 8, 0, 8, 6, 2, 3, 8, 5, 3, 0, 8, 3, 2, 1, 1, 8, 1, 7, 8, 1, 8, 8, 0, 1, 0, 2, 7, 8, 8, 6, 5, 0, 5, 8, 3, 8, 4, 6, 8, 7, 1, 0, 0, 5, 0, 1, 7, 1, 1, 6, 1, 1, 0, 5, 7, 6, 6, 0, 1, 3, 0, 1, 1, 0, 6, 5, 8, 0, 1, 1, 0, 8, 2, 3, 8, 4, 1, 2, 6, 3, 1, 5, 1, 8, 6, 8, 1, 1, 1, 5, 7, 5, 5, 8, 1, 1, 8, 1, 6, 1, 6, 7, 1, 5, 6, 1, 8, 5, 6, 7, 1, 0, 3, 8, 1, 0, 1, 8, 0, 4, 3, 1, 4, 0, 8, 6, 0, 0, 2, 3, 8, 1, 1, 2, 7, 3, 0, 3, 3, 1, 1, 8, 3, 7, 7, 2, 6, 1, 8, 5, 2, 8, 1, 4, 1, 5, 8, 6, 2, 1, 4, 5, 6, 2, 6, 2, 2, 6, 6, 0, 5, 1, 0, 4, 8, 2, 1, 1, 3, 8, 0, 4, 3, 1, 0, 3, 4, 6, 1, 2, 6, 4, 0, 6, 3, 8, 6, 5, 3, 5, 1, 0, 7, 7, 7, 7, 5, 6, 7, 0, 4, 0, 5, 1, 3, 0, 1, 8, 0, 6, 8]\n",
            "[3, 4, 8, 3, 2, 3, 0, 6, 8, 1, 3, 2, 7, 2, 5, 4, 1, 3, 8, 7, 8, 6, 7, 6, 4, 7, 8, 1, 2, 1, 6, 2, 7, 7, 3, 6, 5, 6, 4, 2, 3, 5, 2, 0, 5, 8, 0, 2, 8, 0, 1, 2, 6, 0, 5, 7, 2, 6, 3, 4, 2, 1, 1, 0, 5, 6, 5, 7, 4, 6, 4, 6, 1, 0, 4, 5, 4, 1, 1, 1, 6, 8, 1, 8, 8, 2, 3, 2, 8, 2, 2, 1, 4, 0, 8, 3, 2, 6, 0, 3, 7, 6, 0, 4, 4, 7, 3, 5, 4, 0, 1, 2, 1, 1, 6, 4, 0, 6, 2, 1, 7, 0, 0, 5, 6, 8, 0, 7, 5, 5, 8, 8, 2, 2, 0, 7, 8, 5, 2, 5, 8, 4, 8, 2, 5, 8, 5, 3, 0, 5, 5, 4, 5, 1, 6, 3, 3, 6, 1, 5, 4, 8, 3, 6, 3, 4, 6, 3, 2, 8, 3, 8, 0, 6, 1, 1, 4, 4, 1, 3, 7, 2, 1, 0, 7, 8, 4, 5, 6, 4, 4, 7, 6, 2, 2, 1, 5, 7, 0, 4, 4, 6, 4, 8, 3, 5, 5, 5, 6, 8, 0, 5, 7, 5, 3, 6, 4, 4, 0, 4, 2, 3, 1, 7, 0, 6, 2, 6, 7, 5, 1, 8, 8, 7, 2, 6, 3, 0, 7, 3, 4, 6, 7, 4, 0, 2, 0, 6, 0, 1, 6, 0, 7, 0, 7, 7, 8, 5, 5, 2, 3, 0, 7, 0, 3, 6, 0, 4, 2, 2, 2, 4, 2, 2, 1, 7, 0, 0, 4, 3, 2, 7, 7, 4, 5, 1, 0, 7, 5, 3, 0, 4, 7, 0, 2, 8, 8, 7, 6, 8, 5, 8, 7, 5, 0, 8, 3, 2, 3, 2, 2, 8, 0, 5, 3, 2, 1, 7, 5, 7, 3, 8, 7, 8, 3, 0, 1, 3, 2, 3, 8, 5, 6, 3, 3, 3, 5, 4, 5, 3, 6, 8, 0, 1, 0, 0, 0, 0, 1, 2, 1, 7, 6, 7, 1, 0, 8, 7, 6, 6, 5, 7, 5, 2, 1, 1, 0, 6, 8, 5, 0, 7, 1, 3, 3, 2, 5, 8, 4, 7, 5, 6, 4, 1, 4, 1, 8, 6, 2, 3, 7, 1, 7, 3, 5, 5, 8, 1, 1, 8, 1, 6, 1, 6, 7, 7, 8, 6, 1, 8, 7, 6, 7, 7, 0, 4, 8, 1, 0, 4, 8, 6, 3, 3, 7, 5, 2, 7, 6, 3, 4, 2, 8, 0, 1, 1, 2, 7, 3, 2, 4, 5, 1, 4, 8, 3, 7, 0, 2, 3, 1, 8, 5, 2, 8, 3, 3, 1, 5, 8, 6, 2, 1, 5, 3, 6, 2, 3, 2, 2, 6, 6, 0, 8, 1, 0, 4, 5, 2, 1, 1, 4, 8, 0, 4, 4, 7, 7, 3, 4, 4, 4, 2, 6, 4, 0, 6, 0, 8, 6, 5, 5, 5, 7, 0, 0, 8, 7, 2, 5, 6, 3, 0, 4, 3, 7, 1, 4, 4, 1, 0, 5, 6, 8]\n"
          ],
          "name": "stdout"
        },
        {
          "output_type": "stream",
          "text": [
            "\r  1%|          | 2/170 [55:27<80:11:02, 1718.23s/it]"
          ],
          "name": "stderr"
        },
        {
          "output_type": "stream",
          "text": [
            "Accuracy epoch 31  =  0.581056466302368\n",
            "tensor(1.2521, device='cuda:0', grad_fn=<NllLossBackward>)\n",
            "tensor(0.5582, device='cuda:0', grad_fn=<NllLossBackward>)\n",
            "tensor(1.4263, device='cuda:0', grad_fn=<NllLossBackward>)\n",
            "tensor(0.4973, device='cuda:0', grad_fn=<NllLossBackward>)\n",
            "tensor(1.8706, device='cuda:0', grad_fn=<NllLossBackward>)\n",
            "tensor(1.7377, device='cuda:0', grad_fn=<NllLossBackward>)\n",
            "tensor(1.0175, device='cuda:0', grad_fn=<NllLossBackward>)\n",
            "tensor(1.8473, device='cuda:0', grad_fn=<NllLossBackward>)\n",
            "tensor(0.6141, device='cuda:0', grad_fn=<NllLossBackward>)\n",
            "tensor(0.5321, device='cuda:0', grad_fn=<NllLossBackward>)\n",
            "tensor(2.0479, device='cuda:0', grad_fn=<NllLossBackward>)\n",
            "COST epoch 32  =  [tensor(1111.4436), tensor(990.5597), tensor(934.4700), tensor(874.6571), tensor(822.8998), tensor(800.3447), tensor(765.9095), tensor(740.0458), tensor(718.9320), tensor(719.7072), tensor(693.2490), tensor(697.7689), tensor(672.8008), tensor(661.9917), tensor(658.5683), tensor(635.4274), tensor(631.2565), tensor(615.2205), tensor(607.1673), tensor(607.2458), tensor(606.9468), tensor(562.4706), tensor(572.2747), tensor(568.2372), tensor(549.9225), tensor(549.4277), tensor(539.3239), tensor(530.7670), tensor(519.7222), tensor(514.4471), tensor(505.1449), tensor(497.7492), tensor(483.2874, device='cuda:0'), tensor(486.2227, device='cuda:0'), tensor(471.6280, device='cuda:0')]\n",
            "Files processed =  0\n",
            "[0, 0, 3, 8]\n",
            "[2, 0, 5, 5]\n",
            "Files processed =  10\n",
            "[0, 0, 3, 8, 6, 7, 6, 2, 1, 4, 8, 8, 0, 0, 5, 1, 4, 6, 6, 1, 1, 8, 6, 4, 3, 8, 6, 0, 0, 4, 2, 3, 3, 3, 1, 2, 8, 5, 6, 0, 6, 1, 1, 2]\n",
            "[2, 0, 5, 5, 4, 7, 3, 5, 1, 4, 8, 5, 0, 0, 8, 1, 4, 6, 4, 7, 1, 0, 6, 2, 4, 8, 6, 0, 2, 4, 2, 7, 3, 4, 1, 2, 7, 7, 4, 0, 6, 1, 1, 2]\n",
            "Files processed =  20\n",
            "[0, 0, 3, 8, 6, 7, 6, 2, 1, 4, 8, 8, 0, 0, 5, 1, 4, 6, 6, 1, 1, 8, 6, 4, 3, 8, 6, 0, 0, 4, 2, 3, 3, 3, 1, 2, 8, 5, 6, 0, 6, 1, 1, 2, 1, 0, 0, 6, 8, 8, 6, 0, 0, 1, 4, 1, 1, 0, 5, 4, 5, 6, 2, 2, 8, 1, 1, 6, 1, 0, 6, 0, 2, 4, 3, 8, 6, 0, 5, 6, 6, 2, 6, 6]\n",
            "[2, 0, 5, 5, 4, 7, 3, 5, 1, 4, 8, 5, 0, 0, 8, 1, 4, 6, 4, 7, 1, 0, 6, 2, 4, 8, 6, 0, 2, 4, 2, 7, 3, 4, 1, 2, 7, 7, 4, 0, 6, 1, 1, 2, 1, 0, 0, 4, 5, 8, 6, 2, 0, 7, 3, 1, 1, 0, 5, 4, 8, 6, 2, 2, 0, 7, 7, 6, 7, 0, 4, 4, 2, 3, 4, 8, 6, 0, 5, 6, 3, 2, 6, 6]\n",
            "Files processed =  30\n",
            "[0, 0, 3, 8, 6, 7, 6, 2, 1, 4, 8, 8, 0, 0, 5, 1, 4, 6, 6, 1, 1, 8, 6, 4, 3, 8, 6, 0, 0, 4, 2, 3, 3, 3, 1, 2, 8, 5, 6, 0, 6, 1, 1, 2, 1, 0, 0, 6, 8, 8, 6, 0, 0, 1, 4, 1, 1, 0, 5, 4, 5, 6, 2, 2, 8, 1, 1, 6, 1, 0, 6, 0, 2, 4, 3, 8, 6, 0, 5, 6, 6, 2, 6, 6, 4, 1, 7, 8, 6, 6, 5, 1, 3, 1, 1, 8, 0, 3, 3, 2, 0, 3, 0, 0, 8, 3, 4, 1, 0, 6, 6, 4, 6, 5, 8, 2, 0, 8, 8, 0, 6, 0, 8, 1]\n",
            "[2, 0, 5, 5, 4, 7, 3, 5, 1, 4, 8, 5, 0, 0, 8, 1, 4, 6, 4, 7, 1, 0, 6, 2, 4, 8, 6, 0, 2, 4, 2, 7, 3, 4, 1, 2, 7, 7, 4, 0, 6, 1, 1, 2, 1, 0, 0, 4, 5, 8, 6, 2, 0, 7, 3, 1, 1, 0, 5, 4, 8, 6, 2, 2, 0, 7, 7, 6, 7, 0, 4, 4, 2, 3, 4, 8, 6, 0, 5, 6, 3, 2, 6, 6, 4, 7, 3, 3, 4, 6, 7, 1, 8, 1, 7, 7, 2, 0, 3, 0, 2, 4, 2, 2, 8, 8, 7, 1, 0, 4, 0, 4, 4, 5, 3, 2, 2, 8, 2, 2, 0, 0, 3, 1]\n",
            "Files processed =  40\n",
            "[0, 0, 3, 8, 6, 7, 6, 2, 1, 4, 8, 8, 0, 0, 5, 1, 4, 6, 6, 1, 1, 8, 6, 4, 3, 8, 6, 0, 0, 4, 2, 3, 3, 3, 1, 2, 8, 5, 6, 0, 6, 1, 1, 2, 1, 0, 0, 6, 8, 8, 6, 0, 0, 1, 4, 1, 1, 0, 5, 4, 5, 6, 2, 2, 8, 1, 1, 6, 1, 0, 6, 0, 2, 4, 3, 8, 6, 0, 5, 6, 6, 2, 6, 6, 4, 1, 7, 8, 6, 6, 5, 1, 3, 1, 1, 8, 0, 3, 3, 2, 0, 3, 0, 0, 8, 3, 4, 1, 0, 6, 6, 4, 6, 5, 8, 2, 0, 8, 8, 0, 6, 0, 8, 1, 1, 6, 0, 6, 1, 1, 2, 6, 8, 4, 2, 3, 8, 6, 7, 3, 1, 2, 6, 8, 6, 2, 8, 4, 1, 8, 8, 1, 8, 8, 1, 3, 0, 1, 2, 6, 1, 2, 6, 8]\n",
            "[2, 0, 5, 5, 4, 7, 3, 5, 1, 4, 8, 5, 0, 0, 8, 1, 4, 6, 4, 7, 1, 0, 6, 2, 4, 8, 6, 0, 2, 4, 2, 7, 3, 4, 1, 2, 7, 7, 4, 0, 6, 1, 1, 2, 1, 0, 0, 4, 5, 8, 6, 2, 0, 7, 3, 1, 1, 0, 5, 4, 8, 6, 2, 2, 0, 7, 7, 6, 7, 0, 4, 4, 2, 3, 4, 8, 6, 0, 5, 6, 3, 2, 6, 6, 4, 7, 3, 3, 4, 6, 7, 1, 8, 1, 7, 7, 2, 0, 3, 0, 2, 4, 2, 2, 8, 8, 7, 1, 0, 4, 0, 4, 4, 5, 3, 2, 2, 8, 2, 2, 0, 0, 3, 1, 3, 6, 0, 0, 3, 1, 2, 6, 8, 8, 2, 5, 5, 6, 7, 3, 1, 2, 6, 5, 6, 2, 5, 4, 7, 3, 5, 1, 8, 8, 1, 4, 0, 1, 2, 6, 1, 2, 6, 5]\n",
            "Files processed =  50\n",
            "[0, 0, 3, 8, 6, 7, 6, 2, 1, 4, 8, 8, 0, 0, 5, 1, 4, 6, 6, 1, 1, 8, 6, 4, 3, 8, 6, 0, 0, 4, 2, 3, 3, 3, 1, 2, 8, 5, 6, 0, 6, 1, 1, 2, 1, 0, 0, 6, 8, 8, 6, 0, 0, 1, 4, 1, 1, 0, 5, 4, 5, 6, 2, 2, 8, 1, 1, 6, 1, 0, 6, 0, 2, 4, 3, 8, 6, 0, 5, 6, 6, 2, 6, 6, 4, 1, 7, 8, 6, 6, 5, 1, 3, 1, 1, 8, 0, 3, 3, 2, 0, 3, 0, 0, 8, 3, 4, 1, 0, 6, 6, 4, 6, 5, 8, 2, 0, 8, 8, 0, 6, 0, 8, 1, 1, 6, 0, 6, 1, 1, 2, 6, 8, 4, 2, 3, 8, 6, 7, 3, 1, 2, 6, 8, 6, 2, 8, 4, 1, 8, 8, 1, 8, 8, 1, 3, 0, 1, 2, 6, 1, 2, 6, 8, 5, 1, 5, 2, 8, 1, 5, 0, 1, 6, 1, 6, 1, 2, 0, 3, 5, 0, 1, 8, 8, 8, 8, 4, 0, 1, 6, 0, 0, 2, 3, 1, 1, 4, 8, 8, 0, 2, 3, 5]\n",
            "[2, 0, 5, 5, 4, 7, 3, 5, 1, 4, 8, 5, 0, 0, 8, 1, 4, 6, 4, 7, 1, 0, 6, 2, 4, 8, 6, 0, 2, 4, 2, 7, 3, 4, 1, 2, 7, 7, 4, 0, 6, 1, 1, 2, 1, 0, 0, 4, 5, 8, 6, 2, 0, 7, 3, 1, 1, 0, 5, 4, 8, 6, 2, 2, 0, 7, 7, 6, 7, 0, 4, 4, 2, 3, 4, 8, 6, 0, 5, 6, 3, 2, 6, 6, 4, 7, 3, 3, 4, 6, 7, 1, 8, 1, 7, 7, 2, 0, 3, 0, 2, 4, 2, 2, 8, 8, 7, 1, 0, 4, 0, 4, 4, 5, 3, 2, 2, 8, 2, 2, 0, 0, 3, 1, 3, 6, 0, 0, 3, 1, 2, 6, 8, 8, 2, 5, 5, 6, 7, 3, 1, 2, 6, 5, 6, 2, 5, 4, 7, 3, 5, 1, 8, 8, 1, 4, 0, 1, 2, 6, 1, 2, 6, 5, 7, 7, 8, 2, 5, 7, 5, 0, 7, 6, 7, 6, 1, 2, 0, 3, 7, 0, 4, 8, 5, 5, 8, 8, 0, 1, 6, 2, 0, 2, 3, 7, 1, 4, 5, 5, 4, 5, 5, 7]\n",
            "Files processed =  60\n",
            "[0, 0, 3, 8, 6, 7, 6, 2, 1, 4, 8, 8, 0, 0, 5, 1, 4, 6, 6, 1, 1, 8, 6, 4, 3, 8, 6, 0, 0, 4, 2, 3, 3, 3, 1, 2, 8, 5, 6, 0, 6, 1, 1, 2, 1, 0, 0, 6, 8, 8, 6, 0, 0, 1, 4, 1, 1, 0, 5, 4, 5, 6, 2, 2, 8, 1, 1, 6, 1, 0, 6, 0, 2, 4, 3, 8, 6, 0, 5, 6, 6, 2, 6, 6, 4, 1, 7, 8, 6, 6, 5, 1, 3, 1, 1, 8, 0, 3, 3, 2, 0, 3, 0, 0, 8, 3, 4, 1, 0, 6, 6, 4, 6, 5, 8, 2, 0, 8, 8, 0, 6, 0, 8, 1, 1, 6, 0, 6, 1, 1, 2, 6, 8, 4, 2, 3, 8, 6, 7, 3, 1, 2, 6, 8, 6, 2, 8, 4, 1, 8, 8, 1, 8, 8, 1, 3, 0, 1, 2, 6, 1, 2, 6, 8, 5, 1, 5, 2, 8, 1, 5, 0, 1, 6, 1, 6, 1, 2, 0, 3, 5, 0, 1, 8, 8, 8, 8, 4, 0, 1, 6, 0, 0, 2, 3, 1, 1, 4, 8, 8, 0, 2, 3, 5, 1, 6, 2, 0, 4, 0, 5, 4, 8, 5, 1, 6, 5, 8, 3, 3, 2, 1, 7, 6, 2, 2, 1, 1, 6, 0, 4, 1, 2, 0, 3, 6, 1, 0, 1, 0, 6, 6, 3, 3]\n",
            "[2, 0, 5, 5, 4, 7, 3, 5, 1, 4, 8, 5, 0, 0, 8, 1, 4, 6, 4, 7, 1, 0, 6, 2, 4, 8, 6, 0, 2, 4, 2, 7, 3, 4, 1, 2, 7, 7, 4, 0, 6, 1, 1, 2, 1, 0, 0, 4, 5, 8, 6, 2, 0, 7, 3, 1, 1, 0, 5, 4, 8, 6, 2, 2, 0, 7, 7, 6, 7, 0, 4, 4, 2, 3, 4, 8, 6, 0, 5, 6, 3, 2, 6, 6, 4, 7, 3, 3, 4, 6, 7, 1, 8, 1, 7, 7, 2, 0, 3, 0, 2, 4, 2, 2, 8, 8, 7, 1, 0, 4, 0, 4, 4, 5, 3, 2, 2, 8, 2, 2, 0, 0, 3, 1, 3, 6, 0, 0, 3, 1, 2, 6, 8, 8, 2, 5, 5, 6, 7, 3, 1, 2, 6, 5, 6, 2, 5, 4, 7, 3, 5, 1, 8, 8, 1, 4, 0, 1, 2, 6, 1, 2, 6, 5, 7, 7, 8, 2, 5, 7, 5, 0, 7, 6, 7, 6, 1, 2, 0, 3, 7, 0, 4, 8, 5, 5, 8, 8, 0, 1, 6, 2, 0, 2, 3, 7, 1, 4, 5, 5, 4, 5, 5, 7, 1, 6, 2, 2, 3, 0, 8, 3, 8, 5, 1, 3, 7, 5, 8, 3, 2, 1, 0, 0, 2, 2, 1, 1, 6, 0, 3, 1, 0, 0, 5, 6, 7, 0, 7, 3, 3, 6, 3, 8]\n",
            "Files processed =  70\n",
            "[0, 0, 3, 8, 6, 7, 6, 2, 1, 4, 8, 8, 0, 0, 5, 1, 4, 6, 6, 1, 1, 8, 6, 4, 3, 8, 6, 0, 0, 4, 2, 3, 3, 3, 1, 2, 8, 5, 6, 0, 6, 1, 1, 2, 1, 0, 0, 6, 8, 8, 6, 0, 0, 1, 4, 1, 1, 0, 5, 4, 5, 6, 2, 2, 8, 1, 1, 6, 1, 0, 6, 0, 2, 4, 3, 8, 6, 0, 5, 6, 6, 2, 6, 6, 4, 1, 7, 8, 6, 6, 5, 1, 3, 1, 1, 8, 0, 3, 3, 2, 0, 3, 0, 0, 8, 3, 4, 1, 0, 6, 6, 4, 6, 5, 8, 2, 0, 8, 8, 0, 6, 0, 8, 1, 1, 6, 0, 6, 1, 1, 2, 6, 8, 4, 2, 3, 8, 6, 7, 3, 1, 2, 6, 8, 6, 2, 8, 4, 1, 8, 8, 1, 8, 8, 1, 3, 0, 1, 2, 6, 1, 2, 6, 8, 5, 1, 5, 2, 8, 1, 5, 0, 1, 6, 1, 6, 1, 2, 0, 3, 5, 0, 1, 8, 8, 8, 8, 4, 0, 1, 6, 0, 0, 2, 3, 1, 1, 4, 8, 8, 0, 2, 3, 5, 1, 6, 2, 0, 4, 0, 5, 4, 8, 5, 1, 6, 5, 8, 3, 3, 2, 1, 7, 6, 2, 2, 1, 1, 6, 0, 4, 1, 2, 0, 3, 6, 1, 0, 1, 0, 6, 6, 3, 3, 0, 6, 6, 2, 1, 5, 4, 1, 8, 1, 1, 4, 4, 0, 0, 0, 2, 0, 7, 6, 8, 1, 5, 6, 0, 8, 1, 6, 2, 5, 1, 2, 5, 7, 0, 8, 2, 8, 1, 1]\n",
            "[2, 0, 5, 5, 4, 7, 3, 5, 1, 4, 8, 5, 0, 0, 8, 1, 4, 6, 4, 7, 1, 0, 6, 2, 4, 8, 6, 0, 2, 4, 2, 7, 3, 4, 1, 2, 7, 7, 4, 0, 6, 1, 1, 2, 1, 0, 0, 4, 5, 8, 6, 2, 0, 7, 3, 1, 1, 0, 5, 4, 8, 6, 2, 2, 0, 7, 7, 6, 7, 0, 4, 4, 2, 3, 4, 8, 6, 0, 5, 6, 3, 2, 6, 6, 4, 7, 3, 3, 4, 6, 7, 1, 8, 1, 7, 7, 2, 0, 3, 0, 2, 4, 2, 2, 8, 8, 7, 1, 0, 4, 0, 4, 4, 5, 3, 2, 2, 8, 2, 2, 0, 0, 3, 1, 3, 6, 0, 0, 3, 1, 2, 6, 8, 8, 2, 5, 5, 6, 7, 3, 1, 2, 6, 5, 6, 2, 5, 4, 7, 3, 5, 1, 8, 8, 1, 4, 0, 1, 2, 6, 1, 2, 6, 5, 7, 7, 8, 2, 5, 7, 5, 0, 7, 6, 7, 6, 1, 2, 0, 3, 7, 0, 4, 8, 5, 5, 8, 8, 0, 1, 6, 2, 0, 2, 3, 7, 1, 4, 5, 5, 4, 5, 5, 7, 1, 6, 2, 2, 3, 0, 8, 3, 8, 5, 1, 3, 7, 5, 8, 3, 2, 1, 0, 0, 2, 2, 1, 1, 6, 0, 3, 1, 0, 0, 5, 6, 7, 0, 7, 3, 3, 6, 3, 8, 0, 6, 6, 2, 1, 5, 3, 1, 0, 1, 1, 4, 5, 3, 0, 3, 2, 0, 5, 6, 8, 7, 5, 6, 7, 8, 1, 3, 2, 7, 1, 2, 8, 0, 0, 8, 2, 8, 1, 7]\n",
            "Files processed =  80\n",
            "[0, 0, 3, 8, 6, 7, 6, 2, 1, 4, 8, 8, 0, 0, 5, 1, 4, 6, 6, 1, 1, 8, 6, 4, 3, 8, 6, 0, 0, 4, 2, 3, 3, 3, 1, 2, 8, 5, 6, 0, 6, 1, 1, 2, 1, 0, 0, 6, 8, 8, 6, 0, 0, 1, 4, 1, 1, 0, 5, 4, 5, 6, 2, 2, 8, 1, 1, 6, 1, 0, 6, 0, 2, 4, 3, 8, 6, 0, 5, 6, 6, 2, 6, 6, 4, 1, 7, 8, 6, 6, 5, 1, 3, 1, 1, 8, 0, 3, 3, 2, 0, 3, 0, 0, 8, 3, 4, 1, 0, 6, 6, 4, 6, 5, 8, 2, 0, 8, 8, 0, 6, 0, 8, 1, 1, 6, 0, 6, 1, 1, 2, 6, 8, 4, 2, 3, 8, 6, 7, 3, 1, 2, 6, 8, 6, 2, 8, 4, 1, 8, 8, 1, 8, 8, 1, 3, 0, 1, 2, 6, 1, 2, 6, 8, 5, 1, 5, 2, 8, 1, 5, 0, 1, 6, 1, 6, 1, 2, 0, 3, 5, 0, 1, 8, 8, 8, 8, 4, 0, 1, 6, 0, 0, 2, 3, 1, 1, 4, 8, 8, 0, 2, 3, 5, 1, 6, 2, 0, 4, 0, 5, 4, 8, 5, 1, 6, 5, 8, 3, 3, 2, 1, 7, 6, 2, 2, 1, 1, 6, 0, 4, 1, 2, 0, 3, 6, 1, 0, 1, 0, 6, 6, 3, 3, 0, 6, 6, 2, 1, 5, 4, 1, 8, 1, 1, 4, 4, 0, 0, 0, 2, 0, 7, 6, 8, 1, 5, 6, 0, 8, 1, 6, 2, 5, 1, 2, 5, 7, 0, 8, 2, 8, 1, 1, 3, 0, 6, 8, 6, 1, 8, 4, 8, 5, 3, 3, 6, 1, 5, 6, 0, 2, 2, 5, 1, 0, 6, 1, 6, 8, 8, 0, 2, 8, 2, 1, 2, 4, 1, 4, 4, 1, 1, 7]\n",
            "[2, 0, 5, 5, 4, 7, 3, 5, 1, 4, 8, 5, 0, 0, 8, 1, 4, 6, 4, 7, 1, 0, 6, 2, 4, 8, 6, 0, 2, 4, 2, 7, 3, 4, 1, 2, 7, 7, 4, 0, 6, 1, 1, 2, 1, 0, 0, 4, 5, 8, 6, 2, 0, 7, 3, 1, 1, 0, 5, 4, 8, 6, 2, 2, 0, 7, 7, 6, 7, 0, 4, 4, 2, 3, 4, 8, 6, 0, 5, 6, 3, 2, 6, 6, 4, 7, 3, 3, 4, 6, 7, 1, 8, 1, 7, 7, 2, 0, 3, 0, 2, 4, 2, 2, 8, 8, 7, 1, 0, 4, 0, 4, 4, 5, 3, 2, 2, 8, 2, 2, 0, 0, 3, 1, 3, 6, 0, 0, 3, 1, 2, 6, 8, 8, 2, 5, 5, 6, 7, 3, 1, 2, 6, 5, 6, 2, 5, 4, 7, 3, 5, 1, 8, 8, 1, 4, 0, 1, 2, 6, 1, 2, 6, 5, 7, 7, 8, 2, 5, 7, 5, 0, 7, 6, 7, 6, 1, 2, 0, 3, 7, 0, 4, 8, 5, 5, 8, 8, 0, 1, 6, 2, 0, 2, 3, 7, 1, 4, 5, 5, 4, 5, 5, 7, 1, 6, 2, 2, 3, 0, 8, 3, 8, 5, 1, 3, 7, 5, 8, 3, 2, 1, 0, 0, 2, 2, 1, 1, 6, 0, 3, 1, 0, 0, 5, 6, 7, 0, 7, 3, 3, 6, 3, 8, 0, 6, 6, 2, 1, 5, 3, 1, 0, 1, 1, 4, 5, 3, 0, 3, 2, 0, 5, 6, 8, 7, 5, 6, 7, 8, 1, 3, 2, 7, 1, 2, 8, 0, 0, 8, 2, 8, 1, 7, 3, 0, 5, 8, 6, 1, 3, 4, 8, 8, 8, 3, 3, 1, 5, 6, 0, 2, 2, 7, 1, 3, 6, 1, 4, 8, 8, 2, 3, 5, 2, 1, 2, 3, 7, 4, 4, 1, 7, 0]\n",
            "Files processed =  90\n",
            "[0, 0, 3, 8, 6, 7, 6, 2, 1, 4, 8, 8, 0, 0, 5, 1, 4, 6, 6, 1, 1, 8, 6, 4, 3, 8, 6, 0, 0, 4, 2, 3, 3, 3, 1, 2, 8, 5, 6, 0, 6, 1, 1, 2, 1, 0, 0, 6, 8, 8, 6, 0, 0, 1, 4, 1, 1, 0, 5, 4, 5, 6, 2, 2, 8, 1, 1, 6, 1, 0, 6, 0, 2, 4, 3, 8, 6, 0, 5, 6, 6, 2, 6, 6, 4, 1, 7, 8, 6, 6, 5, 1, 3, 1, 1, 8, 0, 3, 3, 2, 0, 3, 0, 0, 8, 3, 4, 1, 0, 6, 6, 4, 6, 5, 8, 2, 0, 8, 8, 0, 6, 0, 8, 1, 1, 6, 0, 6, 1, 1, 2, 6, 8, 4, 2, 3, 8, 6, 7, 3, 1, 2, 6, 8, 6, 2, 8, 4, 1, 8, 8, 1, 8, 8, 1, 3, 0, 1, 2, 6, 1, 2, 6, 8, 5, 1, 5, 2, 8, 1, 5, 0, 1, 6, 1, 6, 1, 2, 0, 3, 5, 0, 1, 8, 8, 8, 8, 4, 0, 1, 6, 0, 0, 2, 3, 1, 1, 4, 8, 8, 0, 2, 3, 5, 1, 6, 2, 0, 4, 0, 5, 4, 8, 5, 1, 6, 5, 8, 3, 3, 2, 1, 7, 6, 2, 2, 1, 1, 6, 0, 4, 1, 2, 0, 3, 6, 1, 0, 1, 0, 6, 6, 3, 3, 0, 6, 6, 2, 1, 5, 4, 1, 8, 1, 1, 4, 4, 0, 0, 0, 2, 0, 7, 6, 8, 1, 5, 6, 0, 8, 1, 6, 2, 5, 1, 2, 5, 7, 0, 8, 2, 8, 1, 1, 3, 0, 6, 8, 6, 1, 8, 4, 8, 5, 3, 3, 6, 1, 5, 6, 0, 2, 2, 5, 1, 0, 6, 1, 6, 8, 8, 0, 2, 8, 2, 1, 2, 4, 1, 4, 4, 1, 1, 7, 6, 8, 6, 8, 3, 5, 5, 1, 1, 5, 0, 3, 8, 6, 3, 3, 3, 2, 2, 3, 5, 2, 1, 4, 3, 6, 0, 6, 5, 6, 6, 6, 6, 1, 8, 1, 3, 4, 8, 5]\n",
            "[2, 0, 5, 5, 4, 7, 3, 5, 1, 4, 8, 5, 0, 0, 8, 1, 4, 6, 4, 7, 1, 0, 6, 2, 4, 8, 6, 0, 2, 4, 2, 7, 3, 4, 1, 2, 7, 7, 4, 0, 6, 1, 1, 2, 1, 0, 0, 4, 5, 8, 6, 2, 0, 7, 3, 1, 1, 0, 5, 4, 8, 6, 2, 2, 0, 7, 7, 6, 7, 0, 4, 4, 2, 3, 4, 8, 6, 0, 5, 6, 3, 2, 6, 6, 4, 7, 3, 3, 4, 6, 7, 1, 8, 1, 7, 7, 2, 0, 3, 0, 2, 4, 2, 2, 8, 8, 7, 1, 0, 4, 0, 4, 4, 5, 3, 2, 2, 8, 2, 2, 0, 0, 3, 1, 3, 6, 0, 0, 3, 1, 2, 6, 8, 8, 2, 5, 5, 6, 7, 3, 1, 2, 6, 5, 6, 2, 5, 4, 7, 3, 5, 1, 8, 8, 1, 4, 0, 1, 2, 6, 1, 2, 6, 5, 7, 7, 8, 2, 5, 7, 5, 0, 7, 6, 7, 6, 1, 2, 0, 3, 7, 0, 4, 8, 5, 5, 8, 8, 0, 1, 6, 2, 0, 2, 3, 7, 1, 4, 5, 5, 4, 5, 5, 7, 1, 6, 2, 2, 3, 0, 8, 3, 8, 5, 1, 3, 7, 5, 8, 3, 2, 1, 0, 0, 2, 2, 1, 1, 6, 0, 3, 1, 0, 0, 5, 6, 7, 0, 7, 3, 3, 6, 3, 8, 0, 6, 6, 2, 1, 5, 3, 1, 0, 1, 1, 4, 5, 3, 0, 3, 2, 0, 5, 6, 8, 7, 5, 6, 7, 8, 1, 3, 2, 7, 1, 2, 8, 0, 0, 8, 2, 8, 1, 7, 3, 0, 5, 8, 6, 1, 3, 4, 8, 8, 8, 3, 3, 1, 5, 6, 0, 2, 2, 7, 1, 3, 6, 1, 4, 8, 8, 2, 3, 5, 2, 1, 2, 3, 7, 4, 4, 1, 7, 0, 6, 5, 6, 3, 8, 8, 7, 1, 1, 8, 3, 4, 8, 3, 7, 8, 4, 5, 2, 3, 3, 2, 1, 4, 8, 6, 7, 6, 5, 4, 6, 3, 6, 1, 8, 1, 7, 3, 5, 8]\n",
            "Files processed =  100\n",
            "[0, 0, 3, 8, 6, 7, 6, 2, 1, 4, 8, 8, 0, 0, 5, 1, 4, 6, 6, 1, 1, 8, 6, 4, 3, 8, 6, 0, 0, 4, 2, 3, 3, 3, 1, 2, 8, 5, 6, 0, 6, 1, 1, 2, 1, 0, 0, 6, 8, 8, 6, 0, 0, 1, 4, 1, 1, 0, 5, 4, 5, 6, 2, 2, 8, 1, 1, 6, 1, 0, 6, 0, 2, 4, 3, 8, 6, 0, 5, 6, 6, 2, 6, 6, 4, 1, 7, 8, 6, 6, 5, 1, 3, 1, 1, 8, 0, 3, 3, 2, 0, 3, 0, 0, 8, 3, 4, 1, 0, 6, 6, 4, 6, 5, 8, 2, 0, 8, 8, 0, 6, 0, 8, 1, 1, 6, 0, 6, 1, 1, 2, 6, 8, 4, 2, 3, 8, 6, 7, 3, 1, 2, 6, 8, 6, 2, 8, 4, 1, 8, 8, 1, 8, 8, 1, 3, 0, 1, 2, 6, 1, 2, 6, 8, 5, 1, 5, 2, 8, 1, 5, 0, 1, 6, 1, 6, 1, 2, 0, 3, 5, 0, 1, 8, 8, 8, 8, 4, 0, 1, 6, 0, 0, 2, 3, 1, 1, 4, 8, 8, 0, 2, 3, 5, 1, 6, 2, 0, 4, 0, 5, 4, 8, 5, 1, 6, 5, 8, 3, 3, 2, 1, 7, 6, 2, 2, 1, 1, 6, 0, 4, 1, 2, 0, 3, 6, 1, 0, 1, 0, 6, 6, 3, 3, 0, 6, 6, 2, 1, 5, 4, 1, 8, 1, 1, 4, 4, 0, 0, 0, 2, 0, 7, 6, 8, 1, 5, 6, 0, 8, 1, 6, 2, 5, 1, 2, 5, 7, 0, 8, 2, 8, 1, 1, 3, 0, 6, 8, 6, 1, 8, 4, 8, 5, 3, 3, 6, 1, 5, 6, 0, 2, 2, 5, 1, 0, 6, 1, 6, 8, 8, 0, 2, 8, 2, 1, 2, 4, 1, 4, 4, 1, 1, 7, 6, 8, 6, 8, 3, 5, 5, 1, 1, 5, 0, 3, 8, 6, 3, 3, 3, 2, 2, 3, 5, 2, 1, 4, 3, 6, 0, 6, 5, 6, 6, 6, 6, 1, 8, 1, 3, 4, 8, 5, 4, 1, 0, 6, 6, 3, 2, 5, 3, 5, 8, 0, 3, 6, 8, 5, 3, 3, 3, 5, 8, 6, 8, 2, 4, 6, 1, 5, 6, 0, 3, 4, 8, 6, 4, 8, 8, 4, 6, 6]\n",
            "[2, 0, 5, 5, 4, 7, 3, 5, 1, 4, 8, 5, 0, 0, 8, 1, 4, 6, 4, 7, 1, 0, 6, 2, 4, 8, 6, 0, 2, 4, 2, 7, 3, 4, 1, 2, 7, 7, 4, 0, 6, 1, 1, 2, 1, 0, 0, 4, 5, 8, 6, 2, 0, 7, 3, 1, 1, 0, 5, 4, 8, 6, 2, 2, 0, 7, 7, 6, 7, 0, 4, 4, 2, 3, 4, 8, 6, 0, 5, 6, 3, 2, 6, 6, 4, 7, 3, 3, 4, 6, 7, 1, 8, 1, 7, 7, 2, 0, 3, 0, 2, 4, 2, 2, 8, 8, 7, 1, 0, 4, 0, 4, 4, 5, 3, 2, 2, 8, 2, 2, 0, 0, 3, 1, 3, 6, 0, 0, 3, 1, 2, 6, 8, 8, 2, 5, 5, 6, 7, 3, 1, 2, 6, 5, 6, 2, 5, 4, 7, 3, 5, 1, 8, 8, 1, 4, 0, 1, 2, 6, 1, 2, 6, 5, 7, 7, 8, 2, 5, 7, 5, 0, 7, 6, 7, 6, 1, 2, 0, 3, 7, 0, 4, 8, 5, 5, 8, 8, 0, 1, 6, 2, 0, 2, 3, 7, 1, 4, 5, 5, 4, 5, 5, 7, 1, 6, 2, 2, 3, 0, 8, 3, 8, 5, 1, 3, 7, 5, 8, 3, 2, 1, 0, 0, 2, 2, 1, 1, 6, 0, 3, 1, 0, 0, 5, 6, 7, 0, 7, 3, 3, 6, 3, 8, 0, 6, 6, 2, 1, 5, 3, 1, 0, 1, 1, 4, 5, 3, 0, 3, 2, 0, 5, 6, 8, 7, 5, 6, 7, 8, 1, 3, 2, 7, 1, 2, 8, 0, 0, 8, 2, 8, 1, 7, 3, 0, 5, 8, 6, 1, 3, 4, 8, 8, 8, 3, 3, 1, 5, 6, 0, 2, 2, 7, 1, 3, 6, 1, 4, 8, 8, 2, 3, 5, 2, 1, 2, 3, 7, 4, 4, 1, 7, 0, 6, 5, 6, 3, 8, 8, 7, 1, 1, 8, 3, 4, 8, 3, 7, 8, 4, 5, 2, 3, 3, 2, 1, 4, 8, 6, 7, 6, 5, 4, 6, 3, 6, 1, 8, 1, 7, 3, 5, 8, 4, 4, 8, 6, 6, 7, 5, 5, 3, 8, 5, 0, 3, 6, 5, 8, 3, 4, 7, 7, 8, 6, 3, 2, 4, 6, 1, 3, 6, 0, 5, 4, 5, 3, 5, 5, 0, 4, 5, 4]\n",
            "Files processed =  110\n",
            "[0, 0, 3, 8, 6, 7, 6, 2, 1, 4, 8, 8, 0, 0, 5, 1, 4, 6, 6, 1, 1, 8, 6, 4, 3, 8, 6, 0, 0, 4, 2, 3, 3, 3, 1, 2, 8, 5, 6, 0, 6, 1, 1, 2, 1, 0, 0, 6, 8, 8, 6, 0, 0, 1, 4, 1, 1, 0, 5, 4, 5, 6, 2, 2, 8, 1, 1, 6, 1, 0, 6, 0, 2, 4, 3, 8, 6, 0, 5, 6, 6, 2, 6, 6, 4, 1, 7, 8, 6, 6, 5, 1, 3, 1, 1, 8, 0, 3, 3, 2, 0, 3, 0, 0, 8, 3, 4, 1, 0, 6, 6, 4, 6, 5, 8, 2, 0, 8, 8, 0, 6, 0, 8, 1, 1, 6, 0, 6, 1, 1, 2, 6, 8, 4, 2, 3, 8, 6, 7, 3, 1, 2, 6, 8, 6, 2, 8, 4, 1, 8, 8, 1, 8, 8, 1, 3, 0, 1, 2, 6, 1, 2, 6, 8, 5, 1, 5, 2, 8, 1, 5, 0, 1, 6, 1, 6, 1, 2, 0, 3, 5, 0, 1, 8, 8, 8, 8, 4, 0, 1, 6, 0, 0, 2, 3, 1, 1, 4, 8, 8, 0, 2, 3, 5, 1, 6, 2, 0, 4, 0, 5, 4, 8, 5, 1, 6, 5, 8, 3, 3, 2, 1, 7, 6, 2, 2, 1, 1, 6, 0, 4, 1, 2, 0, 3, 6, 1, 0, 1, 0, 6, 6, 3, 3, 0, 6, 6, 2, 1, 5, 4, 1, 8, 1, 1, 4, 4, 0, 0, 0, 2, 0, 7, 6, 8, 1, 5, 6, 0, 8, 1, 6, 2, 5, 1, 2, 5, 7, 0, 8, 2, 8, 1, 1, 3, 0, 6, 8, 6, 1, 8, 4, 8, 5, 3, 3, 6, 1, 5, 6, 0, 2, 2, 5, 1, 0, 6, 1, 6, 8, 8, 0, 2, 8, 2, 1, 2, 4, 1, 4, 4, 1, 1, 7, 6, 8, 6, 8, 3, 5, 5, 1, 1, 5, 0, 3, 8, 6, 3, 3, 3, 2, 2, 3, 5, 2, 1, 4, 3, 6, 0, 6, 5, 6, 6, 6, 6, 1, 8, 1, 3, 4, 8, 5, 4, 1, 0, 6, 6, 3, 2, 5, 3, 5, 8, 0, 3, 6, 8, 5, 3, 3, 3, 5, 8, 6, 8, 2, 4, 6, 1, 5, 6, 0, 3, 4, 8, 6, 4, 8, 8, 4, 6, 6, 8, 3, 6, 1, 2, 6, 8, 8, 5, 1, 8, 8, 6, 4, 1, 4, 1, 6, 8, 8, 5, 8, 5, 8, 6, 4, 3, 0, 6, 2, 1, 6, 6, 4, 1, 0, 5, 5, 8, 6]\n",
            "[2, 0, 5, 5, 4, 7, 3, 5, 1, 4, 8, 5, 0, 0, 8, 1, 4, 6, 4, 7, 1, 0, 6, 2, 4, 8, 6, 0, 2, 4, 2, 7, 3, 4, 1, 2, 7, 7, 4, 0, 6, 1, 1, 2, 1, 0, 0, 4, 5, 8, 6, 2, 0, 7, 3, 1, 1, 0, 5, 4, 8, 6, 2, 2, 0, 7, 7, 6, 7, 0, 4, 4, 2, 3, 4, 8, 6, 0, 5, 6, 3, 2, 6, 6, 4, 7, 3, 3, 4, 6, 7, 1, 8, 1, 7, 7, 2, 0, 3, 0, 2, 4, 2, 2, 8, 8, 7, 1, 0, 4, 0, 4, 4, 5, 3, 2, 2, 8, 2, 2, 0, 0, 3, 1, 3, 6, 0, 0, 3, 1, 2, 6, 8, 8, 2, 5, 5, 6, 7, 3, 1, 2, 6, 5, 6, 2, 5, 4, 7, 3, 5, 1, 8, 8, 1, 4, 0, 1, 2, 6, 1, 2, 6, 5, 7, 7, 8, 2, 5, 7, 5, 0, 7, 6, 7, 6, 1, 2, 0, 3, 7, 0, 4, 8, 5, 5, 8, 8, 0, 1, 6, 2, 0, 2, 3, 7, 1, 4, 5, 5, 4, 5, 5, 7, 1, 6, 2, 2, 3, 0, 8, 3, 8, 5, 1, 3, 7, 5, 8, 3, 2, 1, 0, 0, 2, 2, 1, 1, 6, 0, 3, 1, 0, 0, 5, 6, 7, 0, 7, 3, 3, 6, 3, 8, 0, 6, 6, 2, 1, 5, 3, 1, 0, 1, 1, 4, 5, 3, 0, 3, 2, 0, 5, 6, 8, 7, 5, 6, 7, 8, 1, 3, 2, 7, 1, 2, 8, 0, 0, 8, 2, 8, 1, 7, 3, 0, 5, 8, 6, 1, 3, 4, 8, 8, 8, 3, 3, 1, 5, 6, 0, 2, 2, 7, 1, 3, 6, 1, 4, 8, 8, 2, 3, 5, 2, 1, 2, 3, 7, 4, 4, 1, 7, 0, 6, 5, 6, 3, 8, 8, 7, 1, 1, 8, 3, 4, 8, 3, 7, 8, 4, 5, 2, 3, 3, 2, 1, 4, 8, 6, 7, 6, 5, 4, 6, 3, 6, 1, 8, 1, 7, 3, 5, 8, 4, 4, 8, 6, 6, 7, 5, 5, 3, 8, 5, 0, 3, 6, 5, 8, 3, 4, 7, 7, 8, 6, 3, 2, 4, 6, 1, 3, 6, 0, 5, 4, 5, 3, 5, 5, 0, 4, 5, 4, 2, 4, 6, 4, 2, 6, 5, 8, 8, 1, 8, 8, 3, 4, 7, 4, 1, 6, 5, 8, 7, 2, 5, 4, 6, 4, 2, 0, 6, 2, 1, 6, 4, 5, 1, 0, 7, 5, 8, 6]\n",
            "Files processed =  120\n",
            "[0, 0, 3, 8, 6, 7, 6, 2, 1, 4, 8, 8, 0, 0, 5, 1, 4, 6, 6, 1, 1, 8, 6, 4, 3, 8, 6, 0, 0, 4, 2, 3, 3, 3, 1, 2, 8, 5, 6, 0, 6, 1, 1, 2, 1, 0, 0, 6, 8, 8, 6, 0, 0, 1, 4, 1, 1, 0, 5, 4, 5, 6, 2, 2, 8, 1, 1, 6, 1, 0, 6, 0, 2, 4, 3, 8, 6, 0, 5, 6, 6, 2, 6, 6, 4, 1, 7, 8, 6, 6, 5, 1, 3, 1, 1, 8, 0, 3, 3, 2, 0, 3, 0, 0, 8, 3, 4, 1, 0, 6, 6, 4, 6, 5, 8, 2, 0, 8, 8, 0, 6, 0, 8, 1, 1, 6, 0, 6, 1, 1, 2, 6, 8, 4, 2, 3, 8, 6, 7, 3, 1, 2, 6, 8, 6, 2, 8, 4, 1, 8, 8, 1, 8, 8, 1, 3, 0, 1, 2, 6, 1, 2, 6, 8, 5, 1, 5, 2, 8, 1, 5, 0, 1, 6, 1, 6, 1, 2, 0, 3, 5, 0, 1, 8, 8, 8, 8, 4, 0, 1, 6, 0, 0, 2, 3, 1, 1, 4, 8, 8, 0, 2, 3, 5, 1, 6, 2, 0, 4, 0, 5, 4, 8, 5, 1, 6, 5, 8, 3, 3, 2, 1, 7, 6, 2, 2, 1, 1, 6, 0, 4, 1, 2, 0, 3, 6, 1, 0, 1, 0, 6, 6, 3, 3, 0, 6, 6, 2, 1, 5, 4, 1, 8, 1, 1, 4, 4, 0, 0, 0, 2, 0, 7, 6, 8, 1, 5, 6, 0, 8, 1, 6, 2, 5, 1, 2, 5, 7, 0, 8, 2, 8, 1, 1, 3, 0, 6, 8, 6, 1, 8, 4, 8, 5, 3, 3, 6, 1, 5, 6, 0, 2, 2, 5, 1, 0, 6, 1, 6, 8, 8, 0, 2, 8, 2, 1, 2, 4, 1, 4, 4, 1, 1, 7, 6, 8, 6, 8, 3, 5, 5, 1, 1, 5, 0, 3, 8, 6, 3, 3, 3, 2, 2, 3, 5, 2, 1, 4, 3, 6, 0, 6, 5, 6, 6, 6, 6, 1, 8, 1, 3, 4, 8, 5, 4, 1, 0, 6, 6, 3, 2, 5, 3, 5, 8, 0, 3, 6, 8, 5, 3, 3, 3, 5, 8, 6, 8, 2, 4, 6, 1, 5, 6, 0, 3, 4, 8, 6, 4, 8, 8, 4, 6, 6, 8, 3, 6, 1, 2, 6, 8, 8, 5, 1, 8, 8, 6, 4, 1, 4, 1, 6, 8, 8, 5, 8, 5, 8, 6, 4, 3, 0, 6, 2, 1, 6, 6, 4, 1, 0, 5, 5, 8, 6, 1, 0, 2, 8, 8, 5, 8, 6, 6, 6, 3, 1, 8, 1, 3, 3, 1, 2, 3, 5, 4, 3, 6, 0, 0, 4, 1, 5, 1, 5, 4, 3, 6, 2, 0, 4, 1, 0, 8, 8]\n",
            "[2, 0, 5, 5, 4, 7, 3, 5, 1, 4, 8, 5, 0, 0, 8, 1, 4, 6, 4, 7, 1, 0, 6, 2, 4, 8, 6, 0, 2, 4, 2, 7, 3, 4, 1, 2, 7, 7, 4, 0, 6, 1, 1, 2, 1, 0, 0, 4, 5, 8, 6, 2, 0, 7, 3, 1, 1, 0, 5, 4, 8, 6, 2, 2, 0, 7, 7, 6, 7, 0, 4, 4, 2, 3, 4, 8, 6, 0, 5, 6, 3, 2, 6, 6, 4, 7, 3, 3, 4, 6, 7, 1, 8, 1, 7, 7, 2, 0, 3, 0, 2, 4, 2, 2, 8, 8, 7, 1, 0, 4, 0, 4, 4, 5, 3, 2, 2, 8, 2, 2, 0, 0, 3, 1, 3, 6, 0, 0, 3, 1, 2, 6, 8, 8, 2, 5, 5, 6, 7, 3, 1, 2, 6, 5, 6, 2, 5, 4, 7, 3, 5, 1, 8, 8, 1, 4, 0, 1, 2, 6, 1, 2, 6, 5, 7, 7, 8, 2, 5, 7, 5, 0, 7, 6, 7, 6, 1, 2, 0, 3, 7, 0, 4, 8, 5, 5, 8, 8, 0, 1, 6, 2, 0, 2, 3, 7, 1, 4, 5, 5, 4, 5, 5, 7, 1, 6, 2, 2, 3, 0, 8, 3, 8, 5, 1, 3, 7, 5, 8, 3, 2, 1, 0, 0, 2, 2, 1, 1, 6, 0, 3, 1, 0, 0, 5, 6, 7, 0, 7, 3, 3, 6, 3, 8, 0, 6, 6, 2, 1, 5, 3, 1, 0, 1, 1, 4, 5, 3, 0, 3, 2, 0, 5, 6, 8, 7, 5, 6, 7, 8, 1, 3, 2, 7, 1, 2, 8, 0, 0, 8, 2, 8, 1, 7, 3, 0, 5, 8, 6, 1, 3, 4, 8, 8, 8, 3, 3, 1, 5, 6, 0, 2, 2, 7, 1, 3, 6, 1, 4, 8, 8, 2, 3, 5, 2, 1, 2, 3, 7, 4, 4, 1, 7, 0, 6, 5, 6, 3, 8, 8, 7, 1, 1, 8, 3, 4, 8, 3, 7, 8, 4, 5, 2, 3, 3, 2, 1, 4, 8, 6, 7, 6, 5, 4, 6, 3, 6, 1, 8, 1, 7, 3, 5, 8, 4, 4, 8, 6, 6, 7, 5, 5, 3, 8, 5, 0, 3, 6, 5, 8, 3, 4, 7, 7, 8, 6, 3, 2, 4, 6, 1, 3, 6, 0, 5, 4, 5, 3, 5, 5, 0, 4, 5, 4, 2, 4, 6, 4, 2, 6, 5, 8, 8, 1, 8, 8, 3, 4, 7, 4, 1, 6, 5, 8, 7, 2, 5, 4, 6, 4, 2, 0, 6, 2, 1, 6, 4, 5, 1, 0, 7, 5, 8, 6, 1, 3, 2, 5, 0, 7, 8, 3, 3, 3, 1, 3, 8, 4, 3, 5, 1, 2, 4, 8, 5, 4, 6, 0, 0, 7, 7, 7, 7, 5, 3, 3, 6, 2, 0, 4, 1, 5, 0, 7]\n",
            "Files processed =  130\n",
            "[0, 0, 3, 8, 6, 7, 6, 2, 1, 4, 8, 8, 0, 0, 5, 1, 4, 6, 6, 1, 1, 8, 6, 4, 3, 8, 6, 0, 0, 4, 2, 3, 3, 3, 1, 2, 8, 5, 6, 0, 6, 1, 1, 2, 1, 0, 0, 6, 8, 8, 6, 0, 0, 1, 4, 1, 1, 0, 5, 4, 5, 6, 2, 2, 8, 1, 1, 6, 1, 0, 6, 0, 2, 4, 3, 8, 6, 0, 5, 6, 6, 2, 6, 6, 4, 1, 7, 8, 6, 6, 5, 1, 3, 1, 1, 8, 0, 3, 3, 2, 0, 3, 0, 0, 8, 3, 4, 1, 0, 6, 6, 4, 6, 5, 8, 2, 0, 8, 8, 0, 6, 0, 8, 1, 1, 6, 0, 6, 1, 1, 2, 6, 8, 4, 2, 3, 8, 6, 7, 3, 1, 2, 6, 8, 6, 2, 8, 4, 1, 8, 8, 1, 8, 8, 1, 3, 0, 1, 2, 6, 1, 2, 6, 8, 5, 1, 5, 2, 8, 1, 5, 0, 1, 6, 1, 6, 1, 2, 0, 3, 5, 0, 1, 8, 8, 8, 8, 4, 0, 1, 6, 0, 0, 2, 3, 1, 1, 4, 8, 8, 0, 2, 3, 5, 1, 6, 2, 0, 4, 0, 5, 4, 8, 5, 1, 6, 5, 8, 3, 3, 2, 1, 7, 6, 2, 2, 1, 1, 6, 0, 4, 1, 2, 0, 3, 6, 1, 0, 1, 0, 6, 6, 3, 3, 0, 6, 6, 2, 1, 5, 4, 1, 8, 1, 1, 4, 4, 0, 0, 0, 2, 0, 7, 6, 8, 1, 5, 6, 0, 8, 1, 6, 2, 5, 1, 2, 5, 7, 0, 8, 2, 8, 1, 1, 3, 0, 6, 8, 6, 1, 8, 4, 8, 5, 3, 3, 6, 1, 5, 6, 0, 2, 2, 5, 1, 0, 6, 1, 6, 8, 8, 0, 2, 8, 2, 1, 2, 4, 1, 4, 4, 1, 1, 7, 6, 8, 6, 8, 3, 5, 5, 1, 1, 5, 0, 3, 8, 6, 3, 3, 3, 2, 2, 3, 5, 2, 1, 4, 3, 6, 0, 6, 5, 6, 6, 6, 6, 1, 8, 1, 3, 4, 8, 5, 4, 1, 0, 6, 6, 3, 2, 5, 3, 5, 8, 0, 3, 6, 8, 5, 3, 3, 3, 5, 8, 6, 8, 2, 4, 6, 1, 5, 6, 0, 3, 4, 8, 6, 4, 8, 8, 4, 6, 6, 8, 3, 6, 1, 2, 6, 8, 8, 5, 1, 8, 8, 6, 4, 1, 4, 1, 6, 8, 8, 5, 8, 5, 8, 6, 4, 3, 0, 6, 2, 1, 6, 6, 4, 1, 0, 5, 5, 8, 6, 1, 0, 2, 8, 8, 5, 8, 6, 6, 6, 3, 1, 8, 1, 3, 3, 1, 2, 3, 5, 4, 3, 6, 0, 0, 4, 1, 5, 1, 5, 4, 3, 6, 2, 0, 4, 1, 0, 8, 8, 8, 5, 4, 1, 4, 6, 8, 6, 5, 6, 5, 1, 3, 4, 2, 0, 6, 0, 6, 3, 6, 5, 6, 5, 1, 4, 1, 8, 1, 0, 7, 8, 1, 8, 1, 6, 8, 4, 7, 7]\n",
            "[2, 0, 5, 5, 4, 7, 3, 5, 1, 4, 8, 5, 0, 0, 8, 1, 4, 6, 4, 7, 1, 0, 6, 2, 4, 8, 6, 0, 2, 4, 2, 7, 3, 4, 1, 2, 7, 7, 4, 0, 6, 1, 1, 2, 1, 0, 0, 4, 5, 8, 6, 2, 0, 7, 3, 1, 1, 0, 5, 4, 8, 6, 2, 2, 0, 7, 7, 6, 7, 0, 4, 4, 2, 3, 4, 8, 6, 0, 5, 6, 3, 2, 6, 6, 4, 7, 3, 3, 4, 6, 7, 1, 8, 1, 7, 7, 2, 0, 3, 0, 2, 4, 2, 2, 8, 8, 7, 1, 0, 4, 0, 4, 4, 5, 3, 2, 2, 8, 2, 2, 0, 0, 3, 1, 3, 6, 0, 0, 3, 1, 2, 6, 8, 8, 2, 5, 5, 6, 7, 3, 1, 2, 6, 5, 6, 2, 5, 4, 7, 3, 5, 1, 8, 8, 1, 4, 0, 1, 2, 6, 1, 2, 6, 5, 7, 7, 8, 2, 5, 7, 5, 0, 7, 6, 7, 6, 1, 2, 0, 3, 7, 0, 4, 8, 5, 5, 8, 8, 0, 1, 6, 2, 0, 2, 3, 7, 1, 4, 5, 5, 4, 5, 5, 7, 1, 6, 2, 2, 3, 0, 8, 3, 8, 5, 1, 3, 7, 5, 8, 3, 2, 1, 0, 0, 2, 2, 1, 1, 6, 0, 3, 1, 0, 0, 5, 6, 7, 0, 7, 3, 3, 6, 3, 8, 0, 6, 6, 2, 1, 5, 3, 1, 0, 1, 1, 4, 5, 3, 0, 3, 2, 0, 5, 6, 8, 7, 5, 6, 7, 8, 1, 3, 2, 7, 1, 2, 8, 0, 0, 8, 2, 8, 1, 7, 3, 0, 5, 8, 6, 1, 3, 4, 8, 8, 8, 3, 3, 1, 5, 6, 0, 2, 2, 7, 1, 3, 6, 1, 4, 8, 8, 2, 3, 5, 2, 1, 2, 3, 7, 4, 4, 1, 7, 0, 6, 5, 6, 3, 8, 8, 7, 1, 1, 8, 3, 4, 8, 3, 7, 8, 4, 5, 2, 3, 3, 2, 1, 4, 8, 6, 7, 6, 5, 4, 6, 3, 6, 1, 8, 1, 7, 3, 5, 8, 4, 4, 8, 6, 6, 7, 5, 5, 3, 8, 5, 0, 3, 6, 5, 8, 3, 4, 7, 7, 8, 6, 3, 2, 4, 6, 1, 3, 6, 0, 5, 4, 5, 3, 5, 5, 0, 4, 5, 4, 2, 4, 6, 4, 2, 6, 5, 8, 8, 1, 8, 8, 3, 4, 7, 4, 1, 6, 5, 8, 7, 2, 5, 4, 6, 4, 2, 0, 6, 2, 1, 6, 4, 5, 1, 0, 7, 5, 8, 6, 1, 3, 2, 5, 0, 7, 8, 3, 3, 3, 1, 3, 8, 4, 3, 5, 1, 2, 4, 8, 5, 4, 6, 0, 0, 7, 7, 7, 7, 5, 3, 3, 6, 2, 0, 4, 1, 5, 0, 7, 5, 5, 3, 1, 4, 6, 2, 4, 5, 0, 8, 1, 4, 4, 2, 0, 6, 0, 6, 3, 6, 3, 4, 8, 7, 4, 7, 0, 1, 2, 7, 2, 1, 8, 1, 6, 0, 4, 7, 5]\n"
          ],
          "name": "stdout"
        },
        {
          "output_type": "stream",
          "text": [
            "\r  2%|▏         | 3/170 [1:20:35<76:46:37, 1655.08s/it]"
          ],
          "name": "stderr"
        },
        {
          "output_type": "stream",
          "text": [
            "Accuracy epoch 32  =  0.5428051001821493\n",
            "tensor(1.5031, device='cuda:0', grad_fn=<NllLossBackward>)\n",
            "tensor(0.4138, device='cuda:0', grad_fn=<NllLossBackward>)\n",
            "tensor(1.7908, device='cuda:0', grad_fn=<NllLossBackward>)\n",
            "tensor(0.4838, device='cuda:0', grad_fn=<NllLossBackward>)\n",
            "tensor(0.6377, device='cuda:0', grad_fn=<NllLossBackward>)\n",
            "tensor(1.5801, device='cuda:0', grad_fn=<NllLossBackward>)\n",
            "tensor(0.4263, device='cuda:0', grad_fn=<NllLossBackward>)\n",
            "tensor(0.6724, device='cuda:0', grad_fn=<NllLossBackward>)\n",
            "tensor(0.9516, device='cuda:0', grad_fn=<NllLossBackward>)\n",
            "tensor(0.3752, device='cuda:0', grad_fn=<NllLossBackward>)\n",
            "tensor(0.2529, device='cuda:0', grad_fn=<NllLossBackward>)\n",
            "COST epoch 33  =  [tensor(1111.4436), tensor(990.5597), tensor(934.4700), tensor(874.6571), tensor(822.8998), tensor(800.3447), tensor(765.9095), tensor(740.0458), tensor(718.9320), tensor(719.7072), tensor(693.2490), tensor(697.7689), tensor(672.8008), tensor(661.9917), tensor(658.5683), tensor(635.4274), tensor(631.2565), tensor(615.2205), tensor(607.1673), tensor(607.2458), tensor(606.9468), tensor(562.4706), tensor(572.2747), tensor(568.2372), tensor(549.9225), tensor(549.4277), tensor(539.3239), tensor(530.7670), tensor(519.7222), tensor(514.4471), tensor(505.1449), tensor(497.7492), tensor(483.2874, device='cuda:0'), tensor(486.2227, device='cuda:0'), tensor(471.6280, device='cuda:0'), tensor(463.2786, device='cuda:0')]\n",
            "Files processed =  0\n",
            "[8, 3, 5, 4]\n",
            "[3, 3, 0, 4]\n",
            "Files processed =  10\n",
            "[8, 3, 5, 4, 1, 6, 3, 1, 7, 4, 5, 1, 2, 1, 8, 5, 3, 8, 0, 5, 0, 1, 3, 6, 7, 6, 8, 7, 5, 0, 5, 1, 7, 7, 1, 5, 6, 7, 1, 2, 5, 3, 2, 1]\n",
            "[3, 3, 0, 4, 7, 6, 3, 1, 7, 7, 7, 1, 2, 7, 5, 3, 4, 8, 0, 5, 0, 1, 5, 6, 3, 6, 5, 7, 3, 3, 8, 1, 0, 7, 4, 4, 6, 3, 7, 2, 8, 4, 2, 1]\n",
            "Files processed =  20\n",
            "[8, 3, 5, 4, 1, 6, 3, 1, 7, 4, 5, 1, 2, 1, 8, 5, 3, 8, 0, 5, 0, 1, 3, 6, 7, 6, 8, 7, 5, 0, 5, 1, 7, 7, 1, 5, 6, 7, 1, 2, 5, 3, 2, 1, 2, 5, 4, 1, 5, 6, 1, 0, 3, 1, 4, 5, 3, 3, 4, 1, 7, 5, 1, 0, 2, 2, 6, 2, 1, 2, 6, 3, 7, 7, 8, 4, 3, 5, 1, 5, 5, 8, 1, 7]\n",
            "[3, 3, 0, 4, 7, 6, 3, 1, 7, 7, 7, 1, 2, 7, 5, 3, 4, 8, 0, 5, 0, 1, 5, 6, 3, 6, 5, 7, 3, 3, 8, 1, 0, 7, 4, 4, 6, 3, 7, 2, 8, 4, 2, 1, 2, 8, 4, 1, 5, 6, 1, 2, 8, 1, 4, 7, 8, 3, 3, 1, 0, 5, 3, 0, 2, 2, 6, 2, 1, 2, 6, 3, 7, 0, 8, 3, 4, 7, 1, 3, 7, 2, 7, 0]\n",
            "Files processed =  30\n",
            "[8, 3, 5, 4, 1, 6, 3, 1, 7, 4, 5, 1, 2, 1, 8, 5, 3, 8, 0, 5, 0, 1, 3, 6, 7, 6, 8, 7, 5, 0, 5, 1, 7, 7, 1, 5, 6, 7, 1, 2, 5, 3, 2, 1, 2, 5, 4, 1, 5, 6, 1, 0, 3, 1, 4, 5, 3, 3, 4, 1, 7, 5, 1, 0, 2, 2, 6, 2, 1, 2, 6, 3, 7, 7, 8, 4, 3, 5, 1, 5, 5, 8, 1, 7, 7, 5, 2, 1, 3, 1, 5, 5, 5, 6, 0, 3, 1, 0, 2, 6, 1, 5, 7, 5, 1, 7, 7, 1, 7, 8, 7, 1, 5, 3, 5, 4, 1, 4, 5, 3, 1, 2, 2, 8]\n",
            "[3, 3, 0, 4, 7, 6, 3, 1, 7, 7, 7, 1, 2, 7, 5, 3, 4, 8, 0, 5, 0, 1, 5, 6, 3, 6, 5, 7, 3, 3, 8, 1, 0, 7, 4, 4, 6, 3, 7, 2, 8, 4, 2, 1, 2, 8, 4, 1, 5, 6, 1, 2, 8, 1, 4, 7, 8, 3, 3, 1, 0, 5, 3, 0, 2, 2, 6, 2, 1, 2, 6, 3, 7, 0, 8, 3, 4, 7, 1, 3, 7, 2, 7, 0, 7, 3, 2, 1, 4, 7, 5, 8, 5, 3, 5, 5, 2, 0, 2, 6, 1, 8, 4, 3, 1, 8, 5, 1, 7, 5, 3, 1, 7, 4, 5, 3, 1, 0, 0, 4, 1, 2, 2, 5]\n",
            "Files processed =  40\n",
            "[8, 3, 5, 4, 1, 6, 3, 1, 7, 4, 5, 1, 2, 1, 8, 5, 3, 8, 0, 5, 0, 1, 3, 6, 7, 6, 8, 7, 5, 0, 5, 1, 7, 7, 1, 5, 6, 7, 1, 2, 5, 3, 2, 1, 2, 5, 4, 1, 5, 6, 1, 0, 3, 1, 4, 5, 3, 3, 4, 1, 7, 5, 1, 0, 2, 2, 6, 2, 1, 2, 6, 3, 7, 7, 8, 4, 3, 5, 1, 5, 5, 8, 1, 7, 7, 5, 2, 1, 3, 1, 5, 5, 5, 6, 0, 3, 1, 0, 2, 6, 1, 5, 7, 5, 1, 7, 7, 1, 7, 8, 7, 1, 5, 3, 5, 4, 1, 4, 5, 3, 1, 2, 2, 8, 1, 1, 3, 6, 1, 7, 1, 5, 2, 4, 5, 5, 1, 0, 5, 7, 5, 4, 5, 7, 7, 4, 5, 5, 4, 5, 5, 1, 5, 5, 2, 8, 5, 3, 3, 2, 8, 1, 5, 0]\n",
            "[3, 3, 0, 4, 7, 6, 3, 1, 7, 7, 7, 1, 2, 7, 5, 3, 4, 8, 0, 5, 0, 1, 5, 6, 3, 6, 5, 7, 3, 3, 8, 1, 0, 7, 4, 4, 6, 3, 7, 2, 8, 4, 2, 1, 2, 8, 4, 1, 5, 6, 1, 2, 8, 1, 4, 7, 8, 3, 3, 1, 0, 5, 3, 0, 2, 2, 6, 2, 1, 2, 6, 3, 7, 0, 8, 3, 4, 7, 1, 3, 7, 2, 7, 0, 7, 3, 2, 1, 4, 7, 5, 8, 5, 3, 5, 5, 2, 0, 2, 6, 1, 8, 4, 3, 1, 8, 5, 1, 7, 5, 3, 1, 7, 4, 5, 3, 1, 0, 0, 4, 1, 2, 2, 5, 1, 1, 3, 3, 1, 0, 7, 8, 2, 4, 8, 3, 1, 3, 4, 7, 8, 1, 3, 7, 0, 4, 5, 4, 4, 4, 0, 1, 8, 3, 2, 2, 8, 4, 8, 2, 8, 4, 8, 0]\n",
            "Files processed =  50\n",
            "[8, 3, 5, 4, 1, 6, 3, 1, 7, 4, 5, 1, 2, 1, 8, 5, 3, 8, 0, 5, 0, 1, 3, 6, 7, 6, 8, 7, 5, 0, 5, 1, 7, 7, 1, 5, 6, 7, 1, 2, 5, 3, 2, 1, 2, 5, 4, 1, 5, 6, 1, 0, 3, 1, 4, 5, 3, 3, 4, 1, 7, 5, 1, 0, 2, 2, 6, 2, 1, 2, 6, 3, 7, 7, 8, 4, 3, 5, 1, 5, 5, 8, 1, 7, 7, 5, 2, 1, 3, 1, 5, 5, 5, 6, 0, 3, 1, 0, 2, 6, 1, 5, 7, 5, 1, 7, 7, 1, 7, 8, 7, 1, 5, 3, 5, 4, 1, 4, 5, 3, 1, 2, 2, 8, 1, 1, 3, 6, 1, 7, 1, 5, 2, 4, 5, 5, 1, 0, 5, 7, 5, 4, 5, 7, 7, 4, 5, 5, 4, 5, 5, 1, 5, 5, 2, 8, 5, 3, 3, 2, 8, 1, 5, 0, 5, 6, 5, 3, 5, 0, 4, 0, 1, 4, 0, 3, 3, 6, 5, 6, 6, 5, 5, 2, 8, 5, 5, 5, 6, 8, 1, 0, 1, 5, 5, 1, 4, 0, 3, 4, 4, 0, 4, 1]\n",
            "[3, 3, 0, 4, 7, 6, 3, 1, 7, 7, 7, 1, 2, 7, 5, 3, 4, 8, 0, 5, 0, 1, 5, 6, 3, 6, 5, 7, 3, 3, 8, 1, 0, 7, 4, 4, 6, 3, 7, 2, 8, 4, 2, 1, 2, 8, 4, 1, 5, 6, 1, 2, 8, 1, 4, 7, 8, 3, 3, 1, 0, 5, 3, 0, 2, 2, 6, 2, 1, 2, 6, 3, 7, 0, 8, 3, 4, 7, 1, 3, 7, 2, 7, 0, 7, 3, 2, 1, 4, 7, 5, 8, 5, 3, 5, 5, 2, 0, 2, 6, 1, 8, 4, 3, 1, 8, 5, 1, 7, 5, 3, 1, 7, 4, 5, 3, 1, 0, 0, 4, 1, 2, 2, 5, 1, 1, 3, 3, 1, 0, 7, 8, 2, 4, 8, 3, 1, 3, 4, 7, 8, 1, 3, 7, 0, 4, 5, 4, 4, 4, 0, 1, 8, 3, 2, 2, 8, 4, 8, 2, 8, 4, 8, 0, 8, 6, 5, 3, 8, 0, 4, 0, 1, 4, 0, 4, 4, 6, 7, 6, 6, 0, 0, 2, 8, 7, 3, 5, 6, 8, 1, 0, 7, 0, 5, 1, 4, 0, 8, 4, 5, 3, 4, 1]\n",
            "Files processed =  60\n",
            "[8, 3, 5, 4, 1, 6, 3, 1, 7, 4, 5, 1, 2, 1, 8, 5, 3, 8, 0, 5, 0, 1, 3, 6, 7, 6, 8, 7, 5, 0, 5, 1, 7, 7, 1, 5, 6, 7, 1, 2, 5, 3, 2, 1, 2, 5, 4, 1, 5, 6, 1, 0, 3, 1, 4, 5, 3, 3, 4, 1, 7, 5, 1, 0, 2, 2, 6, 2, 1, 2, 6, 3, 7, 7, 8, 4, 3, 5, 1, 5, 5, 8, 1, 7, 7, 5, 2, 1, 3, 1, 5, 5, 5, 6, 0, 3, 1, 0, 2, 6, 1, 5, 7, 5, 1, 7, 7, 1, 7, 8, 7, 1, 5, 3, 5, 4, 1, 4, 5, 3, 1, 2, 2, 8, 1, 1, 3, 6, 1, 7, 1, 5, 2, 4, 5, 5, 1, 0, 5, 7, 5, 4, 5, 7, 7, 4, 5, 5, 4, 5, 5, 1, 5, 5, 2, 8, 5, 3, 3, 2, 8, 1, 5, 0, 5, 6, 5, 3, 5, 0, 4, 0, 1, 4, 0, 3, 3, 6, 5, 6, 6, 5, 5, 2, 8, 5, 5, 5, 6, 8, 1, 0, 1, 5, 5, 1, 4, 0, 3, 4, 4, 0, 4, 1, 0, 3, 5, 2, 2, 6, 5, 8, 1, 5, 3, 5, 6, 3, 2, 5, 6, 6, 1, 2, 1, 5, 5, 6, 5, 2, 4, 5, 5, 2, 6, 0, 3, 7, 3, 6, 5, 6, 6, 4]\n",
            "[3, 3, 0, 4, 7, 6, 3, 1, 7, 7, 7, 1, 2, 7, 5, 3, 4, 8, 0, 5, 0, 1, 5, 6, 3, 6, 5, 7, 3, 3, 8, 1, 0, 7, 4, 4, 6, 3, 7, 2, 8, 4, 2, 1, 2, 8, 4, 1, 5, 6, 1, 2, 8, 1, 4, 7, 8, 3, 3, 1, 0, 5, 3, 0, 2, 2, 6, 2, 1, 2, 6, 3, 7, 0, 8, 3, 4, 7, 1, 3, 7, 2, 7, 0, 7, 3, 2, 1, 4, 7, 5, 8, 5, 3, 5, 5, 2, 0, 2, 6, 1, 8, 4, 3, 1, 8, 5, 1, 7, 5, 3, 1, 7, 4, 5, 3, 1, 0, 0, 4, 1, 2, 2, 5, 1, 1, 3, 3, 1, 0, 7, 8, 2, 4, 8, 3, 1, 3, 4, 7, 8, 1, 3, 7, 0, 4, 5, 4, 4, 4, 0, 1, 8, 3, 2, 2, 8, 4, 8, 2, 8, 4, 8, 0, 8, 6, 5, 3, 8, 0, 4, 0, 1, 4, 0, 4, 4, 6, 7, 6, 6, 0, 0, 2, 8, 7, 3, 5, 6, 8, 1, 0, 7, 0, 5, 1, 4, 0, 8, 4, 5, 3, 4, 1, 0, 8, 8, 2, 2, 5, 3, 5, 7, 7, 4, 5, 6, 7, 5, 7, 6, 6, 1, 2, 1, 8, 5, 6, 3, 2, 5, 5, 3, 0, 4, 0, 8, 5, 8, 6, 4, 6, 6, 4]\n",
            "Files processed =  70\n",
            "[8, 3, 5, 4, 1, 6, 3, 1, 7, 4, 5, 1, 2, 1, 8, 5, 3, 8, 0, 5, 0, 1, 3, 6, 7, 6, 8, 7, 5, 0, 5, 1, 7, 7, 1, 5, 6, 7, 1, 2, 5, 3, 2, 1, 2, 5, 4, 1, 5, 6, 1, 0, 3, 1, 4, 5, 3, 3, 4, 1, 7, 5, 1, 0, 2, 2, 6, 2, 1, 2, 6, 3, 7, 7, 8, 4, 3, 5, 1, 5, 5, 8, 1, 7, 7, 5, 2, 1, 3, 1, 5, 5, 5, 6, 0, 3, 1, 0, 2, 6, 1, 5, 7, 5, 1, 7, 7, 1, 7, 8, 7, 1, 5, 3, 5, 4, 1, 4, 5, 3, 1, 2, 2, 8, 1, 1, 3, 6, 1, 7, 1, 5, 2, 4, 5, 5, 1, 0, 5, 7, 5, 4, 5, 7, 7, 4, 5, 5, 4, 5, 5, 1, 5, 5, 2, 8, 5, 3, 3, 2, 8, 1, 5, 0, 5, 6, 5, 3, 5, 0, 4, 0, 1, 4, 0, 3, 3, 6, 5, 6, 6, 5, 5, 2, 8, 5, 5, 5, 6, 8, 1, 0, 1, 5, 5, 1, 4, 0, 3, 4, 4, 0, 4, 1, 0, 3, 5, 2, 2, 6, 5, 8, 1, 5, 3, 5, 6, 3, 2, 5, 6, 6, 1, 2, 1, 5, 5, 6, 5, 2, 4, 5, 5, 2, 6, 0, 3, 7, 3, 6, 5, 6, 6, 4, 7, 6, 5, 1, 5, 5, 5, 2, 7, 7, 7, 4, 2, 1, 6, 5, 5, 0, 3, 4, 5, 1, 6, 6, 2, 2, 0, 1, 7, 5, 5, 7, 7, 1, 1, 0, 6, 1, 2, 6]\n",
            "[3, 3, 0, 4, 7, 6, 3, 1, 7, 7, 7, 1, 2, 7, 5, 3, 4, 8, 0, 5, 0, 1, 5, 6, 3, 6, 5, 7, 3, 3, 8, 1, 0, 7, 4, 4, 6, 3, 7, 2, 8, 4, 2, 1, 2, 8, 4, 1, 5, 6, 1, 2, 8, 1, 4, 7, 8, 3, 3, 1, 0, 5, 3, 0, 2, 2, 6, 2, 1, 2, 6, 3, 7, 0, 8, 3, 4, 7, 1, 3, 7, 2, 7, 0, 7, 3, 2, 1, 4, 7, 5, 8, 5, 3, 5, 5, 2, 0, 2, 6, 1, 8, 4, 3, 1, 8, 5, 1, 7, 5, 3, 1, 7, 4, 5, 3, 1, 0, 0, 4, 1, 2, 2, 5, 1, 1, 3, 3, 1, 0, 7, 8, 2, 4, 8, 3, 1, 3, 4, 7, 8, 1, 3, 7, 0, 4, 5, 4, 4, 4, 0, 1, 8, 3, 2, 2, 8, 4, 8, 2, 8, 4, 8, 0, 8, 6, 5, 3, 8, 0, 4, 0, 1, 4, 0, 4, 4, 6, 7, 6, 6, 0, 0, 2, 8, 7, 3, 5, 6, 8, 1, 0, 7, 0, 5, 1, 4, 0, 8, 4, 5, 3, 4, 1, 0, 8, 8, 2, 2, 5, 3, 5, 7, 7, 4, 5, 6, 7, 5, 7, 6, 6, 1, 2, 1, 8, 5, 6, 3, 2, 5, 5, 3, 0, 4, 0, 8, 5, 8, 6, 4, 6, 6, 4, 0, 6, 7, 4, 5, 8, 5, 3, 7, 0, 7, 1, 2, 7, 6, 3, 5, 4, 3, 4, 4, 3, 2, 6, 2, 5, 0, 7, 3, 8, 5, 8, 7, 1, 7, 0, 6, 1, 2, 6]\n",
            "Files processed =  80\n",
            "[8, 3, 5, 4, 1, 6, 3, 1, 7, 4, 5, 1, 2, 1, 8, 5, 3, 8, 0, 5, 0, 1, 3, 6, 7, 6, 8, 7, 5, 0, 5, 1, 7, 7, 1, 5, 6, 7, 1, 2, 5, 3, 2, 1, 2, 5, 4, 1, 5, 6, 1, 0, 3, 1, 4, 5, 3, 3, 4, 1, 7, 5, 1, 0, 2, 2, 6, 2, 1, 2, 6, 3, 7, 7, 8, 4, 3, 5, 1, 5, 5, 8, 1, 7, 7, 5, 2, 1, 3, 1, 5, 5, 5, 6, 0, 3, 1, 0, 2, 6, 1, 5, 7, 5, 1, 7, 7, 1, 7, 8, 7, 1, 5, 3, 5, 4, 1, 4, 5, 3, 1, 2, 2, 8, 1, 1, 3, 6, 1, 7, 1, 5, 2, 4, 5, 5, 1, 0, 5, 7, 5, 4, 5, 7, 7, 4, 5, 5, 4, 5, 5, 1, 5, 5, 2, 8, 5, 3, 3, 2, 8, 1, 5, 0, 5, 6, 5, 3, 5, 0, 4, 0, 1, 4, 0, 3, 3, 6, 5, 6, 6, 5, 5, 2, 8, 5, 5, 5, 6, 8, 1, 0, 1, 5, 5, 1, 4, 0, 3, 4, 4, 0, 4, 1, 0, 3, 5, 2, 2, 6, 5, 8, 1, 5, 3, 5, 6, 3, 2, 5, 6, 6, 1, 2, 1, 5, 5, 6, 5, 2, 4, 5, 5, 2, 6, 0, 3, 7, 3, 6, 5, 6, 6, 4, 7, 6, 5, 1, 5, 5, 5, 2, 7, 7, 7, 4, 2, 1, 6, 5, 5, 0, 3, 4, 5, 1, 6, 6, 2, 2, 0, 1, 7, 5, 5, 7, 7, 1, 1, 0, 6, 1, 2, 6, 6, 6, 2, 6, 3, 1, 1, 8, 5, 1, 0, 5, 4, 8, 2, 8, 0, 4, 6, 5, 6, 1, 5, 3, 5, 5, 5, 5, 6, 2, 6, 3, 2, 5, 6, 7, 1, 1, 5, 5]\n",
            "[3, 3, 0, 4, 7, 6, 3, 1, 7, 7, 7, 1, 2, 7, 5, 3, 4, 8, 0, 5, 0, 1, 5, 6, 3, 6, 5, 7, 3, 3, 8, 1, 0, 7, 4, 4, 6, 3, 7, 2, 8, 4, 2, 1, 2, 8, 4, 1, 5, 6, 1, 2, 8, 1, 4, 7, 8, 3, 3, 1, 0, 5, 3, 0, 2, 2, 6, 2, 1, 2, 6, 3, 7, 0, 8, 3, 4, 7, 1, 3, 7, 2, 7, 0, 7, 3, 2, 1, 4, 7, 5, 8, 5, 3, 5, 5, 2, 0, 2, 6, 1, 8, 4, 3, 1, 8, 5, 1, 7, 5, 3, 1, 7, 4, 5, 3, 1, 0, 0, 4, 1, 2, 2, 5, 1, 1, 3, 3, 1, 0, 7, 8, 2, 4, 8, 3, 1, 3, 4, 7, 8, 1, 3, 7, 0, 4, 5, 4, 4, 4, 0, 1, 8, 3, 2, 2, 8, 4, 8, 2, 8, 4, 8, 0, 8, 6, 5, 3, 8, 0, 4, 0, 1, 4, 0, 4, 4, 6, 7, 6, 6, 0, 0, 2, 8, 7, 3, 5, 6, 8, 1, 0, 7, 0, 5, 1, 4, 0, 8, 4, 5, 3, 4, 1, 0, 8, 8, 2, 2, 5, 3, 5, 7, 7, 4, 5, 6, 7, 5, 7, 6, 6, 1, 2, 1, 8, 5, 6, 3, 2, 5, 5, 3, 0, 4, 0, 8, 5, 8, 6, 4, 6, 6, 4, 0, 6, 7, 4, 5, 8, 5, 3, 7, 0, 7, 1, 2, 7, 6, 3, 5, 4, 3, 4, 4, 3, 2, 6, 2, 5, 0, 7, 3, 8, 5, 8, 7, 1, 7, 0, 6, 1, 2, 6, 6, 4, 5, 6, 4, 1, 4, 8, 5, 7, 0, 5, 7, 2, 2, 5, 0, 3, 6, 3, 6, 1, 5, 0, 4, 3, 4, 8, 6, 0, 6, 3, 2, 8, 3, 8, 1, 7, 7, 8]\n",
            "Files processed =  90\n",
            "[8, 3, 5, 4, 1, 6, 3, 1, 7, 4, 5, 1, 2, 1, 8, 5, 3, 8, 0, 5, 0, 1, 3, 6, 7, 6, 8, 7, 5, 0, 5, 1, 7, 7, 1, 5, 6, 7, 1, 2, 5, 3, 2, 1, 2, 5, 4, 1, 5, 6, 1, 0, 3, 1, 4, 5, 3, 3, 4, 1, 7, 5, 1, 0, 2, 2, 6, 2, 1, 2, 6, 3, 7, 7, 8, 4, 3, 5, 1, 5, 5, 8, 1, 7, 7, 5, 2, 1, 3, 1, 5, 5, 5, 6, 0, 3, 1, 0, 2, 6, 1, 5, 7, 5, 1, 7, 7, 1, 7, 8, 7, 1, 5, 3, 5, 4, 1, 4, 5, 3, 1, 2, 2, 8, 1, 1, 3, 6, 1, 7, 1, 5, 2, 4, 5, 5, 1, 0, 5, 7, 5, 4, 5, 7, 7, 4, 5, 5, 4, 5, 5, 1, 5, 5, 2, 8, 5, 3, 3, 2, 8, 1, 5, 0, 5, 6, 5, 3, 5, 0, 4, 0, 1, 4, 0, 3, 3, 6, 5, 6, 6, 5, 5, 2, 8, 5, 5, 5, 6, 8, 1, 0, 1, 5, 5, 1, 4, 0, 3, 4, 4, 0, 4, 1, 0, 3, 5, 2, 2, 6, 5, 8, 1, 5, 3, 5, 6, 3, 2, 5, 6, 6, 1, 2, 1, 5, 5, 6, 5, 2, 4, 5, 5, 2, 6, 0, 3, 7, 3, 6, 5, 6, 6, 4, 7, 6, 5, 1, 5, 5, 5, 2, 7, 7, 7, 4, 2, 1, 6, 5, 5, 0, 3, 4, 5, 1, 6, 6, 2, 2, 0, 1, 7, 5, 5, 7, 7, 1, 1, 0, 6, 1, 2, 6, 6, 6, 2, 6, 3, 1, 1, 8, 5, 1, 0, 5, 4, 8, 2, 8, 0, 4, 6, 5, 6, 1, 5, 3, 5, 5, 5, 5, 6, 2, 6, 3, 2, 5, 6, 7, 1, 1, 5, 5, 0, 8, 7, 6, 0, 5, 2, 7, 7, 3, 0, 1, 0, 5, 5, 1, 6, 3, 6, 3, 7, 7, 3, 5, 7, 6, 7, 0, 2, 2, 0, 5, 5, 5, 2, 1, 6, 3, 2, 2]\n",
            "[3, 3, 0, 4, 7, 6, 3, 1, 7, 7, 7, 1, 2, 7, 5, 3, 4, 8, 0, 5, 0, 1, 5, 6, 3, 6, 5, 7, 3, 3, 8, 1, 0, 7, 4, 4, 6, 3, 7, 2, 8, 4, 2, 1, 2, 8, 4, 1, 5, 6, 1, 2, 8, 1, 4, 7, 8, 3, 3, 1, 0, 5, 3, 0, 2, 2, 6, 2, 1, 2, 6, 3, 7, 0, 8, 3, 4, 7, 1, 3, 7, 2, 7, 0, 7, 3, 2, 1, 4, 7, 5, 8, 5, 3, 5, 5, 2, 0, 2, 6, 1, 8, 4, 3, 1, 8, 5, 1, 7, 5, 3, 1, 7, 4, 5, 3, 1, 0, 0, 4, 1, 2, 2, 5, 1, 1, 3, 3, 1, 0, 7, 8, 2, 4, 8, 3, 1, 3, 4, 7, 8, 1, 3, 7, 0, 4, 5, 4, 4, 4, 0, 1, 8, 3, 2, 2, 8, 4, 8, 2, 8, 4, 8, 0, 8, 6, 5, 3, 8, 0, 4, 0, 1, 4, 0, 4, 4, 6, 7, 6, 6, 0, 0, 2, 8, 7, 3, 5, 6, 8, 1, 0, 7, 0, 5, 1, 4, 0, 8, 4, 5, 3, 4, 1, 0, 8, 8, 2, 2, 5, 3, 5, 7, 7, 4, 5, 6, 7, 5, 7, 6, 6, 1, 2, 1, 8, 5, 6, 3, 2, 5, 5, 3, 0, 4, 0, 8, 5, 8, 6, 4, 6, 6, 4, 0, 6, 7, 4, 5, 8, 5, 3, 7, 0, 7, 1, 2, 7, 6, 3, 5, 4, 3, 4, 4, 3, 2, 6, 2, 5, 0, 7, 3, 8, 5, 8, 7, 1, 7, 0, 6, 1, 2, 6, 6, 4, 5, 6, 4, 1, 4, 8, 5, 7, 0, 5, 7, 2, 2, 5, 0, 3, 6, 3, 6, 1, 5, 0, 4, 3, 4, 8, 6, 0, 6, 3, 2, 8, 3, 8, 1, 7, 7, 8, 0, 5, 3, 3, 0, 3, 2, 0, 7, 4, 2, 1, 3, 8, 8, 1, 6, 3, 6, 1, 0, 0, 5, 5, 0, 6, 5, 0, 2, 2, 0, 8, 2, 8, 2, 1, 6, 5, 2, 2]\n",
            "Files processed =  100\n",
            "[8, 3, 5, 4, 1, 6, 3, 1, 7, 4, 5, 1, 2, 1, 8, 5, 3, 8, 0, 5, 0, 1, 3, 6, 7, 6, 8, 7, 5, 0, 5, 1, 7, 7, 1, 5, 6, 7, 1, 2, 5, 3, 2, 1, 2, 5, 4, 1, 5, 6, 1, 0, 3, 1, 4, 5, 3, 3, 4, 1, 7, 5, 1, 0, 2, 2, 6, 2, 1, 2, 6, 3, 7, 7, 8, 4, 3, 5, 1, 5, 5, 8, 1, 7, 7, 5, 2, 1, 3, 1, 5, 5, 5, 6, 0, 3, 1, 0, 2, 6, 1, 5, 7, 5, 1, 7, 7, 1, 7, 8, 7, 1, 5, 3, 5, 4, 1, 4, 5, 3, 1, 2, 2, 8, 1, 1, 3, 6, 1, 7, 1, 5, 2, 4, 5, 5, 1, 0, 5, 7, 5, 4, 5, 7, 7, 4, 5, 5, 4, 5, 5, 1, 5, 5, 2, 8, 5, 3, 3, 2, 8, 1, 5, 0, 5, 6, 5, 3, 5, 0, 4, 0, 1, 4, 0, 3, 3, 6, 5, 6, 6, 5, 5, 2, 8, 5, 5, 5, 6, 8, 1, 0, 1, 5, 5, 1, 4, 0, 3, 4, 4, 0, 4, 1, 0, 3, 5, 2, 2, 6, 5, 8, 1, 5, 3, 5, 6, 3, 2, 5, 6, 6, 1, 2, 1, 5, 5, 6, 5, 2, 4, 5, 5, 2, 6, 0, 3, 7, 3, 6, 5, 6, 6, 4, 7, 6, 5, 1, 5, 5, 5, 2, 7, 7, 7, 4, 2, 1, 6, 5, 5, 0, 3, 4, 5, 1, 6, 6, 2, 2, 0, 1, 7, 5, 5, 7, 7, 1, 1, 0, 6, 1, 2, 6, 6, 6, 2, 6, 3, 1, 1, 8, 5, 1, 0, 5, 4, 8, 2, 8, 0, 4, 6, 5, 6, 1, 5, 3, 5, 5, 5, 5, 6, 2, 6, 3, 2, 5, 6, 7, 1, 1, 5, 5, 0, 8, 7, 6, 0, 5, 2, 7, 7, 3, 0, 1, 0, 5, 5, 1, 6, 3, 6, 3, 7, 7, 3, 5, 7, 6, 7, 0, 2, 2, 0, 5, 5, 5, 2, 1, 6, 3, 2, 2, 1, 1, 8, 6, 7, 1, 1, 5, 6, 6, 0, 6, 0, 2, 6, 0, 4, 5, 2, 8, 0, 4, 2, 8, 5, 1, 8, 4, 1, 4, 5, 3, 5, 5, 4, 3, 2, 5, 7, 2]\n",
            "[3, 3, 0, 4, 7, 6, 3, 1, 7, 7, 7, 1, 2, 7, 5, 3, 4, 8, 0, 5, 0, 1, 5, 6, 3, 6, 5, 7, 3, 3, 8, 1, 0, 7, 4, 4, 6, 3, 7, 2, 8, 4, 2, 1, 2, 8, 4, 1, 5, 6, 1, 2, 8, 1, 4, 7, 8, 3, 3, 1, 0, 5, 3, 0, 2, 2, 6, 2, 1, 2, 6, 3, 7, 0, 8, 3, 4, 7, 1, 3, 7, 2, 7, 0, 7, 3, 2, 1, 4, 7, 5, 8, 5, 3, 5, 5, 2, 0, 2, 6, 1, 8, 4, 3, 1, 8, 5, 1, 7, 5, 3, 1, 7, 4, 5, 3, 1, 0, 0, 4, 1, 2, 2, 5, 1, 1, 3, 3, 1, 0, 7, 8, 2, 4, 8, 3, 1, 3, 4, 7, 8, 1, 3, 7, 0, 4, 5, 4, 4, 4, 0, 1, 8, 3, 2, 2, 8, 4, 8, 2, 8, 4, 8, 0, 8, 6, 5, 3, 8, 0, 4, 0, 1, 4, 0, 4, 4, 6, 7, 6, 6, 0, 0, 2, 8, 7, 3, 5, 6, 8, 1, 0, 7, 0, 5, 1, 4, 0, 8, 4, 5, 3, 4, 1, 0, 8, 8, 2, 2, 5, 3, 5, 7, 7, 4, 5, 6, 7, 5, 7, 6, 6, 1, 2, 1, 8, 5, 6, 3, 2, 5, 5, 3, 0, 4, 0, 8, 5, 8, 6, 4, 6, 6, 4, 0, 6, 7, 4, 5, 8, 5, 3, 7, 0, 7, 1, 2, 7, 6, 3, 5, 4, 3, 4, 4, 3, 2, 6, 2, 5, 0, 7, 3, 8, 5, 8, 7, 1, 7, 0, 6, 1, 2, 6, 6, 4, 5, 6, 4, 1, 4, 8, 5, 7, 0, 5, 7, 2, 2, 5, 0, 3, 6, 3, 6, 1, 5, 0, 4, 3, 4, 8, 6, 0, 6, 3, 2, 8, 3, 8, 1, 7, 7, 8, 0, 5, 3, 3, 0, 3, 2, 0, 7, 4, 2, 1, 3, 8, 8, 1, 6, 3, 6, 1, 0, 0, 5, 5, 0, 6, 5, 0, 2, 2, 0, 8, 2, 8, 2, 1, 6, 5, 2, 2, 7, 1, 8, 6, 7, 1, 7, 7, 6, 6, 7, 6, 0, 8, 6, 2, 4, 5, 2, 5, 0, 3, 2, 5, 4, 7, 5, 4, 1, 4, 5, 5, 7, 7, 4, 1, 8, 5, 5, 2]\n",
            "Files processed =  110\n",
            "[8, 3, 5, 4, 1, 6, 3, 1, 7, 4, 5, 1, 2, 1, 8, 5, 3, 8, 0, 5, 0, 1, 3, 6, 7, 6, 8, 7, 5, 0, 5, 1, 7, 7, 1, 5, 6, 7, 1, 2, 5, 3, 2, 1, 2, 5, 4, 1, 5, 6, 1, 0, 3, 1, 4, 5, 3, 3, 4, 1, 7, 5, 1, 0, 2, 2, 6, 2, 1, 2, 6, 3, 7, 7, 8, 4, 3, 5, 1, 5, 5, 8, 1, 7, 7, 5, 2, 1, 3, 1, 5, 5, 5, 6, 0, 3, 1, 0, 2, 6, 1, 5, 7, 5, 1, 7, 7, 1, 7, 8, 7, 1, 5, 3, 5, 4, 1, 4, 5, 3, 1, 2, 2, 8, 1, 1, 3, 6, 1, 7, 1, 5, 2, 4, 5, 5, 1, 0, 5, 7, 5, 4, 5, 7, 7, 4, 5, 5, 4, 5, 5, 1, 5, 5, 2, 8, 5, 3, 3, 2, 8, 1, 5, 0, 5, 6, 5, 3, 5, 0, 4, 0, 1, 4, 0, 3, 3, 6, 5, 6, 6, 5, 5, 2, 8, 5, 5, 5, 6, 8, 1, 0, 1, 5, 5, 1, 4, 0, 3, 4, 4, 0, 4, 1, 0, 3, 5, 2, 2, 6, 5, 8, 1, 5, 3, 5, 6, 3, 2, 5, 6, 6, 1, 2, 1, 5, 5, 6, 5, 2, 4, 5, 5, 2, 6, 0, 3, 7, 3, 6, 5, 6, 6, 4, 7, 6, 5, 1, 5, 5, 5, 2, 7, 7, 7, 4, 2, 1, 6, 5, 5, 0, 3, 4, 5, 1, 6, 6, 2, 2, 0, 1, 7, 5, 5, 7, 7, 1, 1, 0, 6, 1, 2, 6, 6, 6, 2, 6, 3, 1, 1, 8, 5, 1, 0, 5, 4, 8, 2, 8, 0, 4, 6, 5, 6, 1, 5, 3, 5, 5, 5, 5, 6, 2, 6, 3, 2, 5, 6, 7, 1, 1, 5, 5, 0, 8, 7, 6, 0, 5, 2, 7, 7, 3, 0, 1, 0, 5, 5, 1, 6, 3, 6, 3, 7, 7, 3, 5, 7, 6, 7, 0, 2, 2, 0, 5, 5, 5, 2, 1, 6, 3, 2, 2, 1, 1, 8, 6, 7, 1, 1, 5, 6, 6, 0, 6, 0, 2, 6, 0, 4, 5, 2, 8, 0, 4, 2, 8, 5, 1, 8, 4, 1, 4, 5, 3, 5, 5, 4, 3, 2, 5, 7, 2, 3, 0, 3, 1, 1, 1, 3, 7, 6, 5, 2, 1, 6, 7, 6, 6, 7, 7, 1, 7, 2, 6, 6, 2, 2, 6, 1, 2, 8, 8, 5, 5, 1, 2, 6, 2, 1, 5, 0, 1]\n",
            "[3, 3, 0, 4, 7, 6, 3, 1, 7, 7, 7, 1, 2, 7, 5, 3, 4, 8, 0, 5, 0, 1, 5, 6, 3, 6, 5, 7, 3, 3, 8, 1, 0, 7, 4, 4, 6, 3, 7, 2, 8, 4, 2, 1, 2, 8, 4, 1, 5, 6, 1, 2, 8, 1, 4, 7, 8, 3, 3, 1, 0, 5, 3, 0, 2, 2, 6, 2, 1, 2, 6, 3, 7, 0, 8, 3, 4, 7, 1, 3, 7, 2, 7, 0, 7, 3, 2, 1, 4, 7, 5, 8, 5, 3, 5, 5, 2, 0, 2, 6, 1, 8, 4, 3, 1, 8, 5, 1, 7, 5, 3, 1, 7, 4, 5, 3, 1, 0, 0, 4, 1, 2, 2, 5, 1, 1, 3, 3, 1, 0, 7, 8, 2, 4, 8, 3, 1, 3, 4, 7, 8, 1, 3, 7, 0, 4, 5, 4, 4, 4, 0, 1, 8, 3, 2, 2, 8, 4, 8, 2, 8, 4, 8, 0, 8, 6, 5, 3, 8, 0, 4, 0, 1, 4, 0, 4, 4, 6, 7, 6, 6, 0, 0, 2, 8, 7, 3, 5, 6, 8, 1, 0, 7, 0, 5, 1, 4, 0, 8, 4, 5, 3, 4, 1, 0, 8, 8, 2, 2, 5, 3, 5, 7, 7, 4, 5, 6, 7, 5, 7, 6, 6, 1, 2, 1, 8, 5, 6, 3, 2, 5, 5, 3, 0, 4, 0, 8, 5, 8, 6, 4, 6, 6, 4, 0, 6, 7, 4, 5, 8, 5, 3, 7, 0, 7, 1, 2, 7, 6, 3, 5, 4, 3, 4, 4, 3, 2, 6, 2, 5, 0, 7, 3, 8, 5, 8, 7, 1, 7, 0, 6, 1, 2, 6, 6, 4, 5, 6, 4, 1, 4, 8, 5, 7, 0, 5, 7, 2, 2, 5, 0, 3, 6, 3, 6, 1, 5, 0, 4, 3, 4, 8, 6, 0, 6, 3, 2, 8, 3, 8, 1, 7, 7, 8, 0, 5, 3, 3, 0, 3, 2, 0, 7, 4, 2, 1, 3, 8, 8, 1, 6, 3, 6, 1, 0, 0, 5, 5, 0, 6, 5, 0, 2, 2, 0, 8, 2, 8, 2, 1, 6, 5, 2, 2, 7, 1, 8, 6, 7, 1, 7, 7, 6, 6, 7, 6, 0, 8, 6, 2, 4, 5, 2, 5, 0, 3, 2, 5, 4, 7, 5, 4, 1, 4, 5, 5, 7, 7, 4, 1, 8, 5, 5, 2, 1, 0, 3, 7, 1, 7, 7, 0, 6, 3, 2, 1, 8, 0, 6, 6, 0, 4, 1, 8, 2, 6, 6, 8, 2, 6, 3, 2, 8, 8, 8, 7, 1, 2, 6, 2, 1, 0, 2, 7]\n",
            "Files processed =  120\n",
            "[8, 3, 5, 4, 1, 6, 3, 1, 7, 4, 5, 1, 2, 1, 8, 5, 3, 8, 0, 5, 0, 1, 3, 6, 7, 6, 8, 7, 5, 0, 5, 1, 7, 7, 1, 5, 6, 7, 1, 2, 5, 3, 2, 1, 2, 5, 4, 1, 5, 6, 1, 0, 3, 1, 4, 5, 3, 3, 4, 1, 7, 5, 1, 0, 2, 2, 6, 2, 1, 2, 6, 3, 7, 7, 8, 4, 3, 5, 1, 5, 5, 8, 1, 7, 7, 5, 2, 1, 3, 1, 5, 5, 5, 6, 0, 3, 1, 0, 2, 6, 1, 5, 7, 5, 1, 7, 7, 1, 7, 8, 7, 1, 5, 3, 5, 4, 1, 4, 5, 3, 1, 2, 2, 8, 1, 1, 3, 6, 1, 7, 1, 5, 2, 4, 5, 5, 1, 0, 5, 7, 5, 4, 5, 7, 7, 4, 5, 5, 4, 5, 5, 1, 5, 5, 2, 8, 5, 3, 3, 2, 8, 1, 5, 0, 5, 6, 5, 3, 5, 0, 4, 0, 1, 4, 0, 3, 3, 6, 5, 6, 6, 5, 5, 2, 8, 5, 5, 5, 6, 8, 1, 0, 1, 5, 5, 1, 4, 0, 3, 4, 4, 0, 4, 1, 0, 3, 5, 2, 2, 6, 5, 8, 1, 5, 3, 5, 6, 3, 2, 5, 6, 6, 1, 2, 1, 5, 5, 6, 5, 2, 4, 5, 5, 2, 6, 0, 3, 7, 3, 6, 5, 6, 6, 4, 7, 6, 5, 1, 5, 5, 5, 2, 7, 7, 7, 4, 2, 1, 6, 5, 5, 0, 3, 4, 5, 1, 6, 6, 2, 2, 0, 1, 7, 5, 5, 7, 7, 1, 1, 0, 6, 1, 2, 6, 6, 6, 2, 6, 3, 1, 1, 8, 5, 1, 0, 5, 4, 8, 2, 8, 0, 4, 6, 5, 6, 1, 5, 3, 5, 5, 5, 5, 6, 2, 6, 3, 2, 5, 6, 7, 1, 1, 5, 5, 0, 8, 7, 6, 0, 5, 2, 7, 7, 3, 0, 1, 0, 5, 5, 1, 6, 3, 6, 3, 7, 7, 3, 5, 7, 6, 7, 0, 2, 2, 0, 5, 5, 5, 2, 1, 6, 3, 2, 2, 1, 1, 8, 6, 7, 1, 1, 5, 6, 6, 0, 6, 0, 2, 6, 0, 4, 5, 2, 8, 0, 4, 2, 8, 5, 1, 8, 4, 1, 4, 5, 3, 5, 5, 4, 3, 2, 5, 7, 2, 3, 0, 3, 1, 1, 1, 3, 7, 6, 5, 2, 1, 6, 7, 6, 6, 7, 7, 1, 7, 2, 6, 6, 2, 2, 6, 1, 2, 8, 8, 5, 5, 1, 2, 6, 2, 1, 5, 0, 1, 6, 6, 1, 6, 5, 0, 5, 2, 2, 4, 0, 6, 5, 5, 5, 5, 1, 3, 5, 3, 8, 5, 1, 3, 6, 6, 7, 8, 7, 5, 4, 0, 5, 0, 1, 6, 5, 5, 7, 5]\n",
            "[3, 3, 0, 4, 7, 6, 3, 1, 7, 7, 7, 1, 2, 7, 5, 3, 4, 8, 0, 5, 0, 1, 5, 6, 3, 6, 5, 7, 3, 3, 8, 1, 0, 7, 4, 4, 6, 3, 7, 2, 8, 4, 2, 1, 2, 8, 4, 1, 5, 6, 1, 2, 8, 1, 4, 7, 8, 3, 3, 1, 0, 5, 3, 0, 2, 2, 6, 2, 1, 2, 6, 3, 7, 0, 8, 3, 4, 7, 1, 3, 7, 2, 7, 0, 7, 3, 2, 1, 4, 7, 5, 8, 5, 3, 5, 5, 2, 0, 2, 6, 1, 8, 4, 3, 1, 8, 5, 1, 7, 5, 3, 1, 7, 4, 5, 3, 1, 0, 0, 4, 1, 2, 2, 5, 1, 1, 3, 3, 1, 0, 7, 8, 2, 4, 8, 3, 1, 3, 4, 7, 8, 1, 3, 7, 0, 4, 5, 4, 4, 4, 0, 1, 8, 3, 2, 2, 8, 4, 8, 2, 8, 4, 8, 0, 8, 6, 5, 3, 8, 0, 4, 0, 1, 4, 0, 4, 4, 6, 7, 6, 6, 0, 0, 2, 8, 7, 3, 5, 6, 8, 1, 0, 7, 0, 5, 1, 4, 0, 8, 4, 5, 3, 4, 1, 0, 8, 8, 2, 2, 5, 3, 5, 7, 7, 4, 5, 6, 7, 5, 7, 6, 6, 1, 2, 1, 8, 5, 6, 3, 2, 5, 5, 3, 0, 4, 0, 8, 5, 8, 6, 4, 6, 6, 4, 0, 6, 7, 4, 5, 8, 5, 3, 7, 0, 7, 1, 2, 7, 6, 3, 5, 4, 3, 4, 4, 3, 2, 6, 2, 5, 0, 7, 3, 8, 5, 8, 7, 1, 7, 0, 6, 1, 2, 6, 6, 4, 5, 6, 4, 1, 4, 8, 5, 7, 0, 5, 7, 2, 2, 5, 0, 3, 6, 3, 6, 1, 5, 0, 4, 3, 4, 8, 6, 0, 6, 3, 2, 8, 3, 8, 1, 7, 7, 8, 0, 5, 3, 3, 0, 3, 2, 0, 7, 4, 2, 1, 3, 8, 8, 1, 6, 3, 6, 1, 0, 0, 5, 5, 0, 6, 5, 0, 2, 2, 0, 8, 2, 8, 2, 1, 6, 5, 2, 2, 7, 1, 8, 6, 7, 1, 7, 7, 6, 6, 7, 6, 0, 8, 6, 2, 4, 5, 2, 5, 0, 3, 2, 5, 4, 7, 5, 4, 1, 4, 5, 5, 7, 7, 4, 1, 8, 5, 5, 2, 1, 0, 3, 7, 1, 7, 7, 0, 6, 3, 2, 1, 8, 0, 6, 6, 0, 4, 1, 8, 2, 6, 6, 8, 2, 6, 3, 2, 8, 8, 8, 7, 1, 2, 6, 2, 1, 0, 2, 7, 6, 6, 1, 6, 5, 0, 8, 2, 2, 1, 3, 6, 3, 3, 8, 0, 1, 4, 8, 0, 5, 5, 3, 4, 6, 3, 0, 8, 4, 0, 4, 3, 8, 0, 1, 6, 5, 2, 7, 8]\n",
            "Files processed =  130\n",
            "[8, 3, 5, 4, 1, 6, 3, 1, 7, 4, 5, 1, 2, 1, 8, 5, 3, 8, 0, 5, 0, 1, 3, 6, 7, 6, 8, 7, 5, 0, 5, 1, 7, 7, 1, 5, 6, 7, 1, 2, 5, 3, 2, 1, 2, 5, 4, 1, 5, 6, 1, 0, 3, 1, 4, 5, 3, 3, 4, 1, 7, 5, 1, 0, 2, 2, 6, 2, 1, 2, 6, 3, 7, 7, 8, 4, 3, 5, 1, 5, 5, 8, 1, 7, 7, 5, 2, 1, 3, 1, 5, 5, 5, 6, 0, 3, 1, 0, 2, 6, 1, 5, 7, 5, 1, 7, 7, 1, 7, 8, 7, 1, 5, 3, 5, 4, 1, 4, 5, 3, 1, 2, 2, 8, 1, 1, 3, 6, 1, 7, 1, 5, 2, 4, 5, 5, 1, 0, 5, 7, 5, 4, 5, 7, 7, 4, 5, 5, 4, 5, 5, 1, 5, 5, 2, 8, 5, 3, 3, 2, 8, 1, 5, 0, 5, 6, 5, 3, 5, 0, 4, 0, 1, 4, 0, 3, 3, 6, 5, 6, 6, 5, 5, 2, 8, 5, 5, 5, 6, 8, 1, 0, 1, 5, 5, 1, 4, 0, 3, 4, 4, 0, 4, 1, 0, 3, 5, 2, 2, 6, 5, 8, 1, 5, 3, 5, 6, 3, 2, 5, 6, 6, 1, 2, 1, 5, 5, 6, 5, 2, 4, 5, 5, 2, 6, 0, 3, 7, 3, 6, 5, 6, 6, 4, 7, 6, 5, 1, 5, 5, 5, 2, 7, 7, 7, 4, 2, 1, 6, 5, 5, 0, 3, 4, 5, 1, 6, 6, 2, 2, 0, 1, 7, 5, 5, 7, 7, 1, 1, 0, 6, 1, 2, 6, 6, 6, 2, 6, 3, 1, 1, 8, 5, 1, 0, 5, 4, 8, 2, 8, 0, 4, 6, 5, 6, 1, 5, 3, 5, 5, 5, 5, 6, 2, 6, 3, 2, 5, 6, 7, 1, 1, 5, 5, 0, 8, 7, 6, 0, 5, 2, 7, 7, 3, 0, 1, 0, 5, 5, 1, 6, 3, 6, 3, 7, 7, 3, 5, 7, 6, 7, 0, 2, 2, 0, 5, 5, 5, 2, 1, 6, 3, 2, 2, 1, 1, 8, 6, 7, 1, 1, 5, 6, 6, 0, 6, 0, 2, 6, 0, 4, 5, 2, 8, 0, 4, 2, 8, 5, 1, 8, 4, 1, 4, 5, 3, 5, 5, 4, 3, 2, 5, 7, 2, 3, 0, 3, 1, 1, 1, 3, 7, 6, 5, 2, 1, 6, 7, 6, 6, 7, 7, 1, 7, 2, 6, 6, 2, 2, 6, 1, 2, 8, 8, 5, 5, 1, 2, 6, 2, 1, 5, 0, 1, 6, 6, 1, 6, 5, 0, 5, 2, 2, 4, 0, 6, 5, 5, 5, 5, 1, 3, 5, 3, 8, 5, 1, 3, 6, 6, 7, 8, 7, 5, 4, 0, 5, 0, 1, 6, 5, 5, 7, 5, 2, 5, 2, 1, 0, 5, 6, 7, 4, 5, 7, 8, 2, 6, 3, 1, 0, 5, 1, 0, 6, 1, 4, 7, 5, 5, 7, 8, 5, 6, 7, 7, 8, 1, 4, 4, 3, 6, 6, 5]\n",
            "[3, 3, 0, 4, 7, 6, 3, 1, 7, 7, 7, 1, 2, 7, 5, 3, 4, 8, 0, 5, 0, 1, 5, 6, 3, 6, 5, 7, 3, 3, 8, 1, 0, 7, 4, 4, 6, 3, 7, 2, 8, 4, 2, 1, 2, 8, 4, 1, 5, 6, 1, 2, 8, 1, 4, 7, 8, 3, 3, 1, 0, 5, 3, 0, 2, 2, 6, 2, 1, 2, 6, 3, 7, 0, 8, 3, 4, 7, 1, 3, 7, 2, 7, 0, 7, 3, 2, 1, 4, 7, 5, 8, 5, 3, 5, 5, 2, 0, 2, 6, 1, 8, 4, 3, 1, 8, 5, 1, 7, 5, 3, 1, 7, 4, 5, 3, 1, 0, 0, 4, 1, 2, 2, 5, 1, 1, 3, 3, 1, 0, 7, 8, 2, 4, 8, 3, 1, 3, 4, 7, 8, 1, 3, 7, 0, 4, 5, 4, 4, 4, 0, 1, 8, 3, 2, 2, 8, 4, 8, 2, 8, 4, 8, 0, 8, 6, 5, 3, 8, 0, 4, 0, 1, 4, 0, 4, 4, 6, 7, 6, 6, 0, 0, 2, 8, 7, 3, 5, 6, 8, 1, 0, 7, 0, 5, 1, 4, 0, 8, 4, 5, 3, 4, 1, 0, 8, 8, 2, 2, 5, 3, 5, 7, 7, 4, 5, 6, 7, 5, 7, 6, 6, 1, 2, 1, 8, 5, 6, 3, 2, 5, 5, 3, 0, 4, 0, 8, 5, 8, 6, 4, 6, 6, 4, 0, 6, 7, 4, 5, 8, 5, 3, 7, 0, 7, 1, 2, 7, 6, 3, 5, 4, 3, 4, 4, 3, 2, 6, 2, 5, 0, 7, 3, 8, 5, 8, 7, 1, 7, 0, 6, 1, 2, 6, 6, 4, 5, 6, 4, 1, 4, 8, 5, 7, 0, 5, 7, 2, 2, 5, 0, 3, 6, 3, 6, 1, 5, 0, 4, 3, 4, 8, 6, 0, 6, 3, 2, 8, 3, 8, 1, 7, 7, 8, 0, 5, 3, 3, 0, 3, 2, 0, 7, 4, 2, 1, 3, 8, 8, 1, 6, 3, 6, 1, 0, 0, 5, 5, 0, 6, 5, 0, 2, 2, 0, 8, 2, 8, 2, 1, 6, 5, 2, 2, 7, 1, 8, 6, 7, 1, 7, 7, 6, 6, 7, 6, 0, 8, 6, 2, 4, 5, 2, 5, 0, 3, 2, 5, 4, 7, 5, 4, 1, 4, 5, 5, 7, 7, 4, 1, 8, 5, 5, 2, 1, 0, 3, 7, 1, 7, 7, 0, 6, 3, 2, 1, 8, 0, 6, 6, 0, 4, 1, 8, 2, 6, 6, 8, 2, 6, 3, 2, 8, 8, 8, 7, 1, 2, 6, 2, 1, 0, 2, 7, 6, 6, 1, 6, 5, 0, 8, 2, 2, 1, 3, 6, 3, 3, 8, 0, 1, 4, 8, 0, 5, 5, 3, 4, 6, 3, 0, 8, 4, 0, 4, 3, 8, 0, 1, 6, 5, 2, 7, 8, 2, 3, 2, 1, 2, 5, 6, 5, 4, 3, 7, 8, 2, 6, 8, 1, 0, 0, 1, 0, 6, 1, 4, 8, 8, 7, 7, 5, 7, 6, 0, 3, 5, 1, 4, 4, 2, 6, 6, 8]\n"
          ],
          "name": "stdout"
        },
        {
          "output_type": "stream",
          "text": [
            "\r  2%|▏         | 4/170 [1:45:43<74:17:35, 1611.18s/it]"
          ],
          "name": "stderr"
        },
        {
          "output_type": "stream",
          "text": [
            "Accuracy epoch 33  =  0.5245901639344263\n",
            "tensor(0.6546, device='cuda:0', grad_fn=<NllLossBackward>)\n",
            "tensor(1.2426, device='cuda:0', grad_fn=<NllLossBackward>)\n",
            "tensor(0.5423, device='cuda:0', grad_fn=<NllLossBackward>)\n",
            "tensor(0.3975, device='cuda:0', grad_fn=<NllLossBackward>)\n",
            "tensor(1.2992, device='cuda:0', grad_fn=<NllLossBackward>)\n",
            "tensor(0.4312, device='cuda:0', grad_fn=<NllLossBackward>)\n",
            "tensor(0.7370, device='cuda:0', grad_fn=<NllLossBackward>)\n",
            "tensor(0.8744, device='cuda:0', grad_fn=<NllLossBackward>)\n",
            "tensor(0.9468, device='cuda:0', grad_fn=<NllLossBackward>)\n",
            "tensor(0.4291, device='cuda:0', grad_fn=<NllLossBackward>)\n",
            "tensor(0.2981, device='cuda:0', grad_fn=<NllLossBackward>)\n",
            "COST epoch 34  =  [tensor(1111.4436), tensor(990.5597), tensor(934.4700), tensor(874.6571), tensor(822.8998), tensor(800.3447), tensor(765.9095), tensor(740.0458), tensor(718.9320), tensor(719.7072), tensor(693.2490), tensor(697.7689), tensor(672.8008), tensor(661.9917), tensor(658.5683), tensor(635.4274), tensor(631.2565), tensor(615.2205), tensor(607.1673), tensor(607.2458), tensor(606.9468), tensor(562.4706), tensor(572.2747), tensor(568.2372), tensor(549.9225), tensor(549.4277), tensor(539.3239), tensor(530.7670), tensor(519.7222), tensor(514.4471), tensor(505.1449), tensor(497.7492), tensor(483.2874, device='cuda:0'), tensor(486.2227, device='cuda:0'), tensor(471.6280, device='cuda:0'), tensor(463.2786, device='cuda:0'), tensor(463.6834, device='cuda:0')]\n",
            "Files processed =  0\n",
            "[4, 3, 6, 2]\n",
            "[4, 7, 4, 8]\n",
            "Files processed =  10\n",
            "[4, 3, 6, 2, 5, 6, 3, 4, 0, 2, 4, 3, 1, 8, 1, 8, 2, 3, 1, 0, 4, 4, 0, 3, 2, 4, 8, 4, 5, 3, 3, 6, 7, 3, 4, 3, 0, 3, 3, 5, 5, 3, 5, 2]\n",
            "[4, 7, 4, 8, 7, 6, 5, 8, 0, 2, 4, 0, 1, 8, 7, 5, 0, 3, 1, 5, 4, 4, 0, 8, 2, 4, 8, 5, 5, 8, 8, 8, 5, 4, 4, 3, 0, 8, 1, 7, 0, 0, 5, 2]\n",
            "Files processed =  20\n",
            "[4, 3, 6, 2, 5, 6, 3, 4, 0, 2, 4, 3, 1, 8, 1, 8, 2, 3, 1, 0, 4, 4, 0, 3, 2, 4, 8, 4, 5, 3, 3, 6, 7, 3, 4, 3, 0, 3, 3, 5, 5, 3, 5, 2, 4, 4, 2, 3, 5, 3, 5, 1, 4, 5, 0, 6, 1, 2, 6, 8, 1, 1, 1, 5, 1, 3, 1, 3, 3, 1, 3, 2, 3, 4, 2, 1, 2, 1, 3, 1, 3, 3, 2, 5]\n",
            "[4, 7, 4, 8, 7, 6, 5, 8, 0, 2, 4, 0, 1, 8, 7, 5, 0, 3, 1, 5, 4, 4, 0, 8, 2, 4, 8, 5, 5, 8, 8, 8, 5, 4, 4, 3, 0, 8, 1, 7, 0, 0, 5, 2, 3, 4, 0, 4, 3, 8, 8, 1, 4, 0, 0, 6, 7, 2, 6, 8, 7, 7, 1, 5, 7, 5, 1, 3, 4, 1, 0, 2, 4, 3, 2, 7, 2, 4, 4, 1, 1, 5, 2, 7]\n",
            "Files processed =  30\n",
            "[4, 3, 6, 2, 5, 6, 3, 4, 0, 2, 4, 3, 1, 8, 1, 8, 2, 3, 1, 0, 4, 4, 0, 3, 2, 4, 8, 4, 5, 3, 3, 6, 7, 3, 4, 3, 0, 3, 3, 5, 5, 3, 5, 2, 4, 4, 2, 3, 5, 3, 5, 1, 4, 5, 0, 6, 1, 2, 6, 8, 1, 1, 1, 5, 1, 3, 1, 3, 3, 1, 3, 2, 3, 4, 2, 1, 2, 1, 3, 1, 3, 3, 2, 5, 4, 6, 2, 3, 4, 2, 4, 2, 0, 1, 5, 3, 4, 5, 5, 0, 3, 1, 5, 4, 0, 1, 1, 2, 4, 1, 1, 3, 6, 0, 2, 5, 1, 6, 4, 1, 8, 5, 1, 3]\n",
            "[4, 7, 4, 8, 7, 6, 5, 8, 0, 2, 4, 0, 1, 8, 7, 5, 0, 3, 1, 5, 4, 4, 0, 8, 2, 4, 8, 5, 5, 8, 8, 8, 5, 4, 4, 3, 0, 8, 1, 7, 0, 0, 5, 2, 3, 4, 0, 4, 3, 8, 8, 1, 4, 0, 0, 6, 7, 2, 6, 8, 7, 7, 1, 5, 7, 5, 1, 3, 4, 1, 0, 2, 4, 3, 2, 7, 2, 4, 4, 1, 1, 5, 2, 7, 1, 6, 2, 4, 4, 0, 4, 2, 0, 1, 8, 3, 4, 3, 7, 0, 3, 1, 8, 5, 5, 1, 1, 2, 4, 1, 3, 5, 6, 7, 0, 7, 7, 3, 4, 1, 8, 2, 7, 4]\n",
            "Files processed =  40\n",
            "[4, 3, 6, 2, 5, 6, 3, 4, 0, 2, 4, 3, 1, 8, 1, 8, 2, 3, 1, 0, 4, 4, 0, 3, 2, 4, 8, 4, 5, 3, 3, 6, 7, 3, 4, 3, 0, 3, 3, 5, 5, 3, 5, 2, 4, 4, 2, 3, 5, 3, 5, 1, 4, 5, 0, 6, 1, 2, 6, 8, 1, 1, 1, 5, 1, 3, 1, 3, 3, 1, 3, 2, 3, 4, 2, 1, 2, 1, 3, 1, 3, 3, 2, 5, 4, 6, 2, 3, 4, 2, 4, 2, 0, 1, 5, 3, 4, 5, 5, 0, 3, 1, 5, 4, 0, 1, 1, 2, 4, 1, 1, 3, 6, 0, 2, 5, 1, 6, 4, 1, 8, 5, 1, 3, 4, 7, 6, 6, 5, 6, 6, 3, 3, 2, 5, 1, 3, 1, 2, 5, 4, 2, 1, 8, 2, 6, 1, 6, 6, 1, 1, 5, 8, 3, 8, 7, 1, 3, 3, 1, 1, 4, 6, 1]\n",
            "[4, 7, 4, 8, 7, 6, 5, 8, 0, 2, 4, 0, 1, 8, 7, 5, 0, 3, 1, 5, 4, 4, 0, 8, 2, 4, 8, 5, 5, 8, 8, 8, 5, 4, 4, 3, 0, 8, 1, 7, 0, 0, 5, 2, 3, 4, 0, 4, 3, 8, 8, 1, 4, 0, 0, 6, 7, 2, 6, 8, 7, 7, 1, 5, 7, 5, 1, 3, 4, 1, 0, 2, 4, 3, 2, 7, 2, 4, 4, 1, 1, 5, 2, 7, 1, 6, 2, 4, 4, 0, 4, 2, 0, 1, 8, 3, 4, 3, 7, 0, 3, 1, 8, 5, 5, 1, 1, 2, 4, 1, 3, 5, 6, 7, 0, 7, 7, 3, 4, 1, 8, 2, 7, 4, 0, 7, 6, 6, 8, 0, 6, 5, 5, 2, 5, 7, 8, 1, 2, 7, 4, 2, 1, 8, 3, 4, 1, 6, 6, 1, 1, 8, 5, 0, 5, 8, 1, 3, 3, 7, 1, 4, 1, 1]\n",
            "Files processed =  50\n",
            "[4, 3, 6, 2, 5, 6, 3, 4, 0, 2, 4, 3, 1, 8, 1, 8, 2, 3, 1, 0, 4, 4, 0, 3, 2, 4, 8, 4, 5, 3, 3, 6, 7, 3, 4, 3, 0, 3, 3, 5, 5, 3, 5, 2, 4, 4, 2, 3, 5, 3, 5, 1, 4, 5, 0, 6, 1, 2, 6, 8, 1, 1, 1, 5, 1, 3, 1, 3, 3, 1, 3, 2, 3, 4, 2, 1, 2, 1, 3, 1, 3, 3, 2, 5, 4, 6, 2, 3, 4, 2, 4, 2, 0, 1, 5, 3, 4, 5, 5, 0, 3, 1, 5, 4, 0, 1, 1, 2, 4, 1, 1, 3, 6, 0, 2, 5, 1, 6, 4, 1, 8, 5, 1, 3, 4, 7, 6, 6, 5, 6, 6, 3, 3, 2, 5, 1, 3, 1, 2, 5, 4, 2, 1, 8, 2, 6, 1, 6, 6, 1, 1, 5, 8, 3, 8, 7, 1, 3, 3, 1, 1, 4, 6, 1, 6, 6, 3, 3, 6, 0, 6, 7, 2, 4, 5, 4, 2, 3, 2, 3, 5, 3, 4, 5, 2, 1, 7, 2, 7, 0, 3, 2, 3, 6, 6, 5, 6, 1, 6, 6, 4, 5, 2, 4]\n",
            "[4, 7, 4, 8, 7, 6, 5, 8, 0, 2, 4, 0, 1, 8, 7, 5, 0, 3, 1, 5, 4, 4, 0, 8, 2, 4, 8, 5, 5, 8, 8, 8, 5, 4, 4, 3, 0, 8, 1, 7, 0, 0, 5, 2, 3, 4, 0, 4, 3, 8, 8, 1, 4, 0, 0, 6, 7, 2, 6, 8, 7, 7, 1, 5, 7, 5, 1, 3, 4, 1, 0, 2, 4, 3, 2, 7, 2, 4, 4, 1, 1, 5, 2, 7, 1, 6, 2, 4, 4, 0, 4, 2, 0, 1, 8, 3, 4, 3, 7, 0, 3, 1, 8, 5, 5, 1, 1, 2, 4, 1, 3, 5, 6, 7, 0, 7, 7, 3, 4, 1, 8, 2, 7, 4, 0, 7, 6, 6, 8, 0, 6, 5, 5, 2, 5, 7, 8, 1, 2, 7, 4, 2, 1, 8, 3, 4, 1, 6, 6, 1, 1, 8, 5, 0, 5, 8, 1, 3, 3, 7, 1, 4, 1, 1, 5, 6, 2, 4, 6, 0, 6, 7, 2, 5, 5, 7, 0, 2, 2, 4, 7, 0, 5, 5, 2, 7, 3, 2, 7, 2, 7, 2, 3, 3, 6, 5, 6, 7, 6, 3, 4, 7, 8, 5]\n",
            "Files processed =  60\n",
            "[4, 3, 6, 2, 5, 6, 3, 4, 0, 2, 4, 3, 1, 8, 1, 8, 2, 3, 1, 0, 4, 4, 0, 3, 2, 4, 8, 4, 5, 3, 3, 6, 7, 3, 4, 3, 0, 3, 3, 5, 5, 3, 5, 2, 4, 4, 2, 3, 5, 3, 5, 1, 4, 5, 0, 6, 1, 2, 6, 8, 1, 1, 1, 5, 1, 3, 1, 3, 3, 1, 3, 2, 3, 4, 2, 1, 2, 1, 3, 1, 3, 3, 2, 5, 4, 6, 2, 3, 4, 2, 4, 2, 0, 1, 5, 3, 4, 5, 5, 0, 3, 1, 5, 4, 0, 1, 1, 2, 4, 1, 1, 3, 6, 0, 2, 5, 1, 6, 4, 1, 8, 5, 1, 3, 4, 7, 6, 6, 5, 6, 6, 3, 3, 2, 5, 1, 3, 1, 2, 5, 4, 2, 1, 8, 2, 6, 1, 6, 6, 1, 1, 5, 8, 3, 8, 7, 1, 3, 3, 1, 1, 4, 6, 1, 6, 6, 3, 3, 6, 0, 6, 7, 2, 4, 5, 4, 2, 3, 2, 3, 5, 3, 4, 5, 2, 1, 7, 2, 7, 0, 3, 2, 3, 6, 6, 5, 6, 1, 6, 6, 4, 5, 2, 4, 1, 3, 6, 5, 3, 6, 1, 2, 1, 0, 6, 0, 1, 4, 3, 5, 0, 3, 6, 3, 3, 5, 2, 1, 1, 5, 3, 5, 1, 2, 1, 0, 6, 8, 2, 3, 3, 3, 2, 1]\n",
            "[4, 7, 4, 8, 7, 6, 5, 8, 0, 2, 4, 0, 1, 8, 7, 5, 0, 3, 1, 5, 4, 4, 0, 8, 2, 4, 8, 5, 5, 8, 8, 8, 5, 4, 4, 3, 0, 8, 1, 7, 0, 0, 5, 2, 3, 4, 0, 4, 3, 8, 8, 1, 4, 0, 0, 6, 7, 2, 6, 8, 7, 7, 1, 5, 7, 5, 1, 3, 4, 1, 0, 2, 4, 3, 2, 7, 2, 4, 4, 1, 1, 5, 2, 7, 1, 6, 2, 4, 4, 0, 4, 2, 0, 1, 8, 3, 4, 3, 7, 0, 3, 1, 8, 5, 5, 1, 1, 2, 4, 1, 3, 5, 6, 7, 0, 7, 7, 3, 4, 1, 8, 2, 7, 4, 0, 7, 6, 6, 8, 0, 6, 5, 5, 2, 5, 7, 8, 1, 2, 7, 4, 2, 1, 8, 3, 4, 1, 6, 6, 1, 1, 8, 5, 0, 5, 8, 1, 3, 3, 7, 1, 4, 1, 1, 5, 6, 2, 4, 6, 0, 6, 7, 2, 5, 5, 7, 0, 2, 2, 4, 7, 0, 5, 5, 2, 7, 3, 2, 7, 2, 7, 2, 3, 3, 6, 5, 6, 7, 6, 3, 4, 7, 8, 5, 7, 3, 6, 7, 8, 0, 1, 2, 1, 0, 6, 3, 3, 4, 3, 5, 0, 8, 6, 5, 5, 5, 2, 1, 7, 2, 3, 8, 1, 2, 1, 0, 6, 8, 2, 5, 8, 3, 2, 5]\n",
            "Files processed =  70\n",
            "[4, 3, 6, 2, 5, 6, 3, 4, 0, 2, 4, 3, 1, 8, 1, 8, 2, 3, 1, 0, 4, 4, 0, 3, 2, 4, 8, 4, 5, 3, 3, 6, 7, 3, 4, 3, 0, 3, 3, 5, 5, 3, 5, 2, 4, 4, 2, 3, 5, 3, 5, 1, 4, 5, 0, 6, 1, 2, 6, 8, 1, 1, 1, 5, 1, 3, 1, 3, 3, 1, 3, 2, 3, 4, 2, 1, 2, 1, 3, 1, 3, 3, 2, 5, 4, 6, 2, 3, 4, 2, 4, 2, 0, 1, 5, 3, 4, 5, 5, 0, 3, 1, 5, 4, 0, 1, 1, 2, 4, 1, 1, 3, 6, 0, 2, 5, 1, 6, 4, 1, 8, 5, 1, 3, 4, 7, 6, 6, 5, 6, 6, 3, 3, 2, 5, 1, 3, 1, 2, 5, 4, 2, 1, 8, 2, 6, 1, 6, 6, 1, 1, 5, 8, 3, 8, 7, 1, 3, 3, 1, 1, 4, 6, 1, 6, 6, 3, 3, 6, 0, 6, 7, 2, 4, 5, 4, 2, 3, 2, 3, 5, 3, 4, 5, 2, 1, 7, 2, 7, 0, 3, 2, 3, 6, 6, 5, 6, 1, 6, 6, 4, 5, 2, 4, 1, 3, 6, 5, 3, 6, 1, 2, 1, 0, 6, 0, 1, 4, 3, 5, 0, 3, 6, 3, 3, 5, 2, 1, 1, 5, 3, 5, 1, 2, 1, 0, 6, 8, 2, 3, 3, 3, 2, 1, 6, 3, 1, 4, 4, 3, 4, 3, 4, 4, 2, 7, 4, 6, 3, 4, 5, 6, 6, 3, 4, 0, 5, 8, 2, 7, 2, 6, 1, 7, 6, 4, 0, 2, 2, 4, 2, 6, 3, 3]\n",
            "[4, 7, 4, 8, 7, 6, 5, 8, 0, 2, 4, 0, 1, 8, 7, 5, 0, 3, 1, 5, 4, 4, 0, 8, 2, 4, 8, 5, 5, 8, 8, 8, 5, 4, 4, 3, 0, 8, 1, 7, 0, 0, 5, 2, 3, 4, 0, 4, 3, 8, 8, 1, 4, 0, 0, 6, 7, 2, 6, 8, 7, 7, 1, 5, 7, 5, 1, 3, 4, 1, 0, 2, 4, 3, 2, 7, 2, 4, 4, 1, 1, 5, 2, 7, 1, 6, 2, 4, 4, 0, 4, 2, 0, 1, 8, 3, 4, 3, 7, 0, 3, 1, 8, 5, 5, 1, 1, 2, 4, 1, 3, 5, 6, 7, 0, 7, 7, 3, 4, 1, 8, 2, 7, 4, 0, 7, 6, 6, 8, 0, 6, 5, 5, 2, 5, 7, 8, 1, 2, 7, 4, 2, 1, 8, 3, 4, 1, 6, 6, 1, 1, 8, 5, 0, 5, 8, 1, 3, 3, 7, 1, 4, 1, 1, 5, 6, 2, 4, 6, 0, 6, 7, 2, 5, 5, 7, 0, 2, 2, 4, 7, 0, 5, 5, 2, 7, 3, 2, 7, 2, 7, 2, 3, 3, 6, 5, 6, 7, 6, 3, 4, 7, 8, 5, 7, 3, 6, 7, 8, 0, 1, 2, 1, 0, 6, 3, 3, 4, 3, 5, 0, 8, 6, 5, 5, 5, 2, 1, 7, 2, 3, 8, 1, 2, 1, 0, 6, 8, 2, 5, 8, 3, 2, 5, 6, 5, 7, 5, 3, 8, 3, 3, 0, 4, 2, 7, 6, 6, 5, 4, 8, 0, 6, 3, 7, 0, 5, 8, 2, 7, 2, 3, 1, 7, 6, 0, 0, 2, 2, 3, 2, 6, 4, 4]\n",
            "Files processed =  80\n",
            "[4, 3, 6, 2, 5, 6, 3, 4, 0, 2, 4, 3, 1, 8, 1, 8, 2, 3, 1, 0, 4, 4, 0, 3, 2, 4, 8, 4, 5, 3, 3, 6, 7, 3, 4, 3, 0, 3, 3, 5, 5, 3, 5, 2, 4, 4, 2, 3, 5, 3, 5, 1, 4, 5, 0, 6, 1, 2, 6, 8, 1, 1, 1, 5, 1, 3, 1, 3, 3, 1, 3, 2, 3, 4, 2, 1, 2, 1, 3, 1, 3, 3, 2, 5, 4, 6, 2, 3, 4, 2, 4, 2, 0, 1, 5, 3, 4, 5, 5, 0, 3, 1, 5, 4, 0, 1, 1, 2, 4, 1, 1, 3, 6, 0, 2, 5, 1, 6, 4, 1, 8, 5, 1, 3, 4, 7, 6, 6, 5, 6, 6, 3, 3, 2, 5, 1, 3, 1, 2, 5, 4, 2, 1, 8, 2, 6, 1, 6, 6, 1, 1, 5, 8, 3, 8, 7, 1, 3, 3, 1, 1, 4, 6, 1, 6, 6, 3, 3, 6, 0, 6, 7, 2, 4, 5, 4, 2, 3, 2, 3, 5, 3, 4, 5, 2, 1, 7, 2, 7, 0, 3, 2, 3, 6, 6, 5, 6, 1, 6, 6, 4, 5, 2, 4, 1, 3, 6, 5, 3, 6, 1, 2, 1, 0, 6, 0, 1, 4, 3, 5, 0, 3, 6, 3, 3, 5, 2, 1, 1, 5, 3, 5, 1, 2, 1, 0, 6, 8, 2, 3, 3, 3, 2, 1, 6, 3, 1, 4, 4, 3, 4, 3, 4, 4, 2, 7, 4, 6, 3, 4, 5, 6, 6, 3, 4, 0, 5, 8, 2, 7, 2, 6, 1, 7, 6, 4, 0, 2, 2, 4, 2, 6, 3, 3, 8, 8, 6, 4, 3, 7, 5, 1, 1, 2, 6, 3, 0, 4, 1, 1, 6, 3, 1, 7, 4, 6, 2, 2, 5, 3, 3, 3, 8, 1, 5, 6, 4, 5, 6, 7, 1, 3, 3, 1]\n",
            "[4, 7, 4, 8, 7, 6, 5, 8, 0, 2, 4, 0, 1, 8, 7, 5, 0, 3, 1, 5, 4, 4, 0, 8, 2, 4, 8, 5, 5, 8, 8, 8, 5, 4, 4, 3, 0, 8, 1, 7, 0, 0, 5, 2, 3, 4, 0, 4, 3, 8, 8, 1, 4, 0, 0, 6, 7, 2, 6, 8, 7, 7, 1, 5, 7, 5, 1, 3, 4, 1, 0, 2, 4, 3, 2, 7, 2, 4, 4, 1, 1, 5, 2, 7, 1, 6, 2, 4, 4, 0, 4, 2, 0, 1, 8, 3, 4, 3, 7, 0, 3, 1, 8, 5, 5, 1, 1, 2, 4, 1, 3, 5, 6, 7, 0, 7, 7, 3, 4, 1, 8, 2, 7, 4, 0, 7, 6, 6, 8, 0, 6, 5, 5, 2, 5, 7, 8, 1, 2, 7, 4, 2, 1, 8, 3, 4, 1, 6, 6, 1, 1, 8, 5, 0, 5, 8, 1, 3, 3, 7, 1, 4, 1, 1, 5, 6, 2, 4, 6, 0, 6, 7, 2, 5, 5, 7, 0, 2, 2, 4, 7, 0, 5, 5, 2, 7, 3, 2, 7, 2, 7, 2, 3, 3, 6, 5, 6, 7, 6, 3, 4, 7, 8, 5, 7, 3, 6, 7, 8, 0, 1, 2, 1, 0, 6, 3, 3, 4, 3, 5, 0, 8, 6, 5, 5, 5, 2, 1, 7, 2, 3, 8, 1, 2, 1, 0, 6, 8, 2, 5, 8, 3, 2, 5, 6, 5, 7, 5, 3, 8, 3, 3, 0, 4, 2, 7, 6, 6, 5, 4, 8, 0, 6, 3, 7, 0, 5, 8, 2, 7, 2, 3, 1, 7, 6, 0, 0, 2, 2, 3, 2, 6, 4, 4, 5, 8, 4, 4, 8, 7, 4, 3, 1, 2, 6, 5, 0, 4, 7, 1, 3, 0, 3, 0, 3, 6, 2, 2, 7, 8, 3, 4, 5, 7, 8, 4, 0, 5, 4, 0, 1, 3, 4, 1]\n",
            "Files processed =  90\n",
            "[4, 3, 6, 2, 5, 6, 3, 4, 0, 2, 4, 3, 1, 8, 1, 8, 2, 3, 1, 0, 4, 4, 0, 3, 2, 4, 8, 4, 5, 3, 3, 6, 7, 3, 4, 3, 0, 3, 3, 5, 5, 3, 5, 2, 4, 4, 2, 3, 5, 3, 5, 1, 4, 5, 0, 6, 1, 2, 6, 8, 1, 1, 1, 5, 1, 3, 1, 3, 3, 1, 3, 2, 3, 4, 2, 1, 2, 1, 3, 1, 3, 3, 2, 5, 4, 6, 2, 3, 4, 2, 4, 2, 0, 1, 5, 3, 4, 5, 5, 0, 3, 1, 5, 4, 0, 1, 1, 2, 4, 1, 1, 3, 6, 0, 2, 5, 1, 6, 4, 1, 8, 5, 1, 3, 4, 7, 6, 6, 5, 6, 6, 3, 3, 2, 5, 1, 3, 1, 2, 5, 4, 2, 1, 8, 2, 6, 1, 6, 6, 1, 1, 5, 8, 3, 8, 7, 1, 3, 3, 1, 1, 4, 6, 1, 6, 6, 3, 3, 6, 0, 6, 7, 2, 4, 5, 4, 2, 3, 2, 3, 5, 3, 4, 5, 2, 1, 7, 2, 7, 0, 3, 2, 3, 6, 6, 5, 6, 1, 6, 6, 4, 5, 2, 4, 1, 3, 6, 5, 3, 6, 1, 2, 1, 0, 6, 0, 1, 4, 3, 5, 0, 3, 6, 3, 3, 5, 2, 1, 1, 5, 3, 5, 1, 2, 1, 0, 6, 8, 2, 3, 3, 3, 2, 1, 6, 3, 1, 4, 4, 3, 4, 3, 4, 4, 2, 7, 4, 6, 3, 4, 5, 6, 6, 3, 4, 0, 5, 8, 2, 7, 2, 6, 1, 7, 6, 4, 0, 2, 2, 4, 2, 6, 3, 3, 8, 8, 6, 4, 3, 7, 5, 1, 1, 2, 6, 3, 0, 4, 1, 1, 6, 3, 1, 7, 4, 6, 2, 2, 5, 3, 3, 3, 8, 1, 5, 6, 4, 5, 6, 7, 1, 3, 3, 1, 7, 8, 4, 6, 4, 1, 6, 1, 6, 4, 3, 6, 8, 1, 5, 7, 5, 3, 6, 4, 6, 2, 6, 3, 6, 0, 2, 6, 5, 6, 6, 1, 5, 4, 4, 1, 3, 5, 1, 3]\n",
            "[4, 7, 4, 8, 7, 6, 5, 8, 0, 2, 4, 0, 1, 8, 7, 5, 0, 3, 1, 5, 4, 4, 0, 8, 2, 4, 8, 5, 5, 8, 8, 8, 5, 4, 4, 3, 0, 8, 1, 7, 0, 0, 5, 2, 3, 4, 0, 4, 3, 8, 8, 1, 4, 0, 0, 6, 7, 2, 6, 8, 7, 7, 1, 5, 7, 5, 1, 3, 4, 1, 0, 2, 4, 3, 2, 7, 2, 4, 4, 1, 1, 5, 2, 7, 1, 6, 2, 4, 4, 0, 4, 2, 0, 1, 8, 3, 4, 3, 7, 0, 3, 1, 8, 5, 5, 1, 1, 2, 4, 1, 3, 5, 6, 7, 0, 7, 7, 3, 4, 1, 8, 2, 7, 4, 0, 7, 6, 6, 8, 0, 6, 5, 5, 2, 5, 7, 8, 1, 2, 7, 4, 2, 1, 8, 3, 4, 1, 6, 6, 1, 1, 8, 5, 0, 5, 8, 1, 3, 3, 7, 1, 4, 1, 1, 5, 6, 2, 4, 6, 0, 6, 7, 2, 5, 5, 7, 0, 2, 2, 4, 7, 0, 5, 5, 2, 7, 3, 2, 7, 2, 7, 2, 3, 3, 6, 5, 6, 7, 6, 3, 4, 7, 8, 5, 7, 3, 6, 7, 8, 0, 1, 2, 1, 0, 6, 3, 3, 4, 3, 5, 0, 8, 6, 5, 5, 5, 2, 1, 7, 2, 3, 8, 1, 2, 1, 0, 6, 8, 2, 5, 8, 3, 2, 5, 6, 5, 7, 5, 3, 8, 3, 3, 0, 4, 2, 7, 6, 6, 5, 4, 8, 0, 6, 3, 7, 0, 5, 8, 2, 7, 2, 3, 1, 7, 6, 0, 0, 2, 2, 3, 2, 6, 4, 4, 5, 8, 4, 4, 8, 7, 4, 3, 1, 2, 6, 5, 0, 4, 7, 1, 3, 0, 3, 0, 3, 6, 2, 2, 7, 8, 3, 4, 5, 7, 8, 4, 0, 5, 4, 0, 1, 3, 4, 1, 0, 0, 3, 6, 4, 7, 6, 4, 3, 3, 2, 4, 5, 1, 8, 7, 5, 5, 6, 7, 6, 5, 3, 5, 6, 0, 2, 6, 7, 6, 4, 4, 3, 4, 3, 1, 3, 0, 1, 8]\n",
            "Files processed =  100\n",
            "[4, 3, 6, 2, 5, 6, 3, 4, 0, 2, 4, 3, 1, 8, 1, 8, 2, 3, 1, 0, 4, 4, 0, 3, 2, 4, 8, 4, 5, 3, 3, 6, 7, 3, 4, 3, 0, 3, 3, 5, 5, 3, 5, 2, 4, 4, 2, 3, 5, 3, 5, 1, 4, 5, 0, 6, 1, 2, 6, 8, 1, 1, 1, 5, 1, 3, 1, 3, 3, 1, 3, 2, 3, 4, 2, 1, 2, 1, 3, 1, 3, 3, 2, 5, 4, 6, 2, 3, 4, 2, 4, 2, 0, 1, 5, 3, 4, 5, 5, 0, 3, 1, 5, 4, 0, 1, 1, 2, 4, 1, 1, 3, 6, 0, 2, 5, 1, 6, 4, 1, 8, 5, 1, 3, 4, 7, 6, 6, 5, 6, 6, 3, 3, 2, 5, 1, 3, 1, 2, 5, 4, 2, 1, 8, 2, 6, 1, 6, 6, 1, 1, 5, 8, 3, 8, 7, 1, 3, 3, 1, 1, 4, 6, 1, 6, 6, 3, 3, 6, 0, 6, 7, 2, 4, 5, 4, 2, 3, 2, 3, 5, 3, 4, 5, 2, 1, 7, 2, 7, 0, 3, 2, 3, 6, 6, 5, 6, 1, 6, 6, 4, 5, 2, 4, 1, 3, 6, 5, 3, 6, 1, 2, 1, 0, 6, 0, 1, 4, 3, 5, 0, 3, 6, 3, 3, 5, 2, 1, 1, 5, 3, 5, 1, 2, 1, 0, 6, 8, 2, 3, 3, 3, 2, 1, 6, 3, 1, 4, 4, 3, 4, 3, 4, 4, 2, 7, 4, 6, 3, 4, 5, 6, 6, 3, 4, 0, 5, 8, 2, 7, 2, 6, 1, 7, 6, 4, 0, 2, 2, 4, 2, 6, 3, 3, 8, 8, 6, 4, 3, 7, 5, 1, 1, 2, 6, 3, 0, 4, 1, 1, 6, 3, 1, 7, 4, 6, 2, 2, 5, 3, 3, 3, 8, 1, 5, 6, 4, 5, 6, 7, 1, 3, 3, 1, 7, 8, 4, 6, 4, 1, 6, 1, 6, 4, 3, 6, 8, 1, 5, 7, 5, 3, 6, 4, 6, 2, 6, 3, 6, 0, 2, 6, 5, 6, 6, 1, 5, 4, 4, 1, 3, 5, 1, 3, 3, 3, 3, 1, 4, 5, 5, 0, 6, 5, 8, 6, 6, 3, 1, 6, 6, 6, 1, 2, 5, 4, 2, 3, 1, 3, 1, 1, 2, 4, 1, 7, 3, 2, 8, 6, 6, 4, 6, 2]\n",
            "[4, 7, 4, 8, 7, 6, 5, 8, 0, 2, 4, 0, 1, 8, 7, 5, 0, 3, 1, 5, 4, 4, 0, 8, 2, 4, 8, 5, 5, 8, 8, 8, 5, 4, 4, 3, 0, 8, 1, 7, 0, 0, 5, 2, 3, 4, 0, 4, 3, 8, 8, 1, 4, 0, 0, 6, 7, 2, 6, 8, 7, 7, 1, 5, 7, 5, 1, 3, 4, 1, 0, 2, 4, 3, 2, 7, 2, 4, 4, 1, 1, 5, 2, 7, 1, 6, 2, 4, 4, 0, 4, 2, 0, 1, 8, 3, 4, 3, 7, 0, 3, 1, 8, 5, 5, 1, 1, 2, 4, 1, 3, 5, 6, 7, 0, 7, 7, 3, 4, 1, 8, 2, 7, 4, 0, 7, 6, 6, 8, 0, 6, 5, 5, 2, 5, 7, 8, 1, 2, 7, 4, 2, 1, 8, 3, 4, 1, 6, 6, 1, 1, 8, 5, 0, 5, 8, 1, 3, 3, 7, 1, 4, 1, 1, 5, 6, 2, 4, 6, 0, 6, 7, 2, 5, 5, 7, 0, 2, 2, 4, 7, 0, 5, 5, 2, 7, 3, 2, 7, 2, 7, 2, 3, 3, 6, 5, 6, 7, 6, 3, 4, 7, 8, 5, 7, 3, 6, 7, 8, 0, 1, 2, 1, 0, 6, 3, 3, 4, 3, 5, 0, 8, 6, 5, 5, 5, 2, 1, 7, 2, 3, 8, 1, 2, 1, 0, 6, 8, 2, 5, 8, 3, 2, 5, 6, 5, 7, 5, 3, 8, 3, 3, 0, 4, 2, 7, 6, 6, 5, 4, 8, 0, 6, 3, 7, 0, 5, 8, 2, 7, 2, 3, 1, 7, 6, 0, 0, 2, 2, 3, 2, 6, 4, 4, 5, 8, 4, 4, 8, 7, 4, 3, 1, 2, 6, 5, 0, 4, 7, 1, 3, 0, 3, 0, 3, 6, 2, 2, 7, 8, 3, 4, 5, 7, 8, 4, 0, 5, 4, 0, 1, 3, 4, 1, 0, 0, 3, 6, 4, 7, 6, 4, 3, 3, 2, 4, 5, 1, 8, 7, 5, 5, 6, 7, 6, 5, 3, 5, 6, 0, 2, 6, 7, 6, 4, 4, 3, 4, 3, 1, 3, 0, 1, 8, 8, 4, 5, 7, 3, 5, 7, 0, 6, 8, 8, 6, 6, 8, 7, 6, 6, 6, 7, 3, 7, 4, 2, 8, 4, 5, 1, 1, 2, 8, 1, 7, 8, 2, 0, 4, 6, 7, 3, 0]\n",
            "Files processed =  110\n",
            "[4, 3, 6, 2, 5, 6, 3, 4, 0, 2, 4, 3, 1, 8, 1, 8, 2, 3, 1, 0, 4, 4, 0, 3, 2, 4, 8, 4, 5, 3, 3, 6, 7, 3, 4, 3, 0, 3, 3, 5, 5, 3, 5, 2, 4, 4, 2, 3, 5, 3, 5, 1, 4, 5, 0, 6, 1, 2, 6, 8, 1, 1, 1, 5, 1, 3, 1, 3, 3, 1, 3, 2, 3, 4, 2, 1, 2, 1, 3, 1, 3, 3, 2, 5, 4, 6, 2, 3, 4, 2, 4, 2, 0, 1, 5, 3, 4, 5, 5, 0, 3, 1, 5, 4, 0, 1, 1, 2, 4, 1, 1, 3, 6, 0, 2, 5, 1, 6, 4, 1, 8, 5, 1, 3, 4, 7, 6, 6, 5, 6, 6, 3, 3, 2, 5, 1, 3, 1, 2, 5, 4, 2, 1, 8, 2, 6, 1, 6, 6, 1, 1, 5, 8, 3, 8, 7, 1, 3, 3, 1, 1, 4, 6, 1, 6, 6, 3, 3, 6, 0, 6, 7, 2, 4, 5, 4, 2, 3, 2, 3, 5, 3, 4, 5, 2, 1, 7, 2, 7, 0, 3, 2, 3, 6, 6, 5, 6, 1, 6, 6, 4, 5, 2, 4, 1, 3, 6, 5, 3, 6, 1, 2, 1, 0, 6, 0, 1, 4, 3, 5, 0, 3, 6, 3, 3, 5, 2, 1, 1, 5, 3, 5, 1, 2, 1, 0, 6, 8, 2, 3, 3, 3, 2, 1, 6, 3, 1, 4, 4, 3, 4, 3, 4, 4, 2, 7, 4, 6, 3, 4, 5, 6, 6, 3, 4, 0, 5, 8, 2, 7, 2, 6, 1, 7, 6, 4, 0, 2, 2, 4, 2, 6, 3, 3, 8, 8, 6, 4, 3, 7, 5, 1, 1, 2, 6, 3, 0, 4, 1, 1, 6, 3, 1, 7, 4, 6, 2, 2, 5, 3, 3, 3, 8, 1, 5, 6, 4, 5, 6, 7, 1, 3, 3, 1, 7, 8, 4, 6, 4, 1, 6, 1, 6, 4, 3, 6, 8, 1, 5, 7, 5, 3, 6, 4, 6, 2, 6, 3, 6, 0, 2, 6, 5, 6, 6, 1, 5, 4, 4, 1, 3, 5, 1, 3, 3, 3, 3, 1, 4, 5, 5, 0, 6, 5, 8, 6, 6, 3, 1, 6, 6, 6, 1, 2, 5, 4, 2, 3, 1, 3, 1, 1, 2, 4, 1, 7, 3, 2, 8, 6, 6, 4, 6, 2, 0, 6, 6, 6, 1, 6, 1, 6, 2, 3, 6, 0, 3, 8, 6, 7, 1, 3, 2, 6, 6, 3, 6, 1, 1, 6, 6, 0, 6, 7, 1, 3, 1, 2, 1, 6, 3, 2, 4, 5]\n",
            "[4, 7, 4, 8, 7, 6, 5, 8, 0, 2, 4, 0, 1, 8, 7, 5, 0, 3, 1, 5, 4, 4, 0, 8, 2, 4, 8, 5, 5, 8, 8, 8, 5, 4, 4, 3, 0, 8, 1, 7, 0, 0, 5, 2, 3, 4, 0, 4, 3, 8, 8, 1, 4, 0, 0, 6, 7, 2, 6, 8, 7, 7, 1, 5, 7, 5, 1, 3, 4, 1, 0, 2, 4, 3, 2, 7, 2, 4, 4, 1, 1, 5, 2, 7, 1, 6, 2, 4, 4, 0, 4, 2, 0, 1, 8, 3, 4, 3, 7, 0, 3, 1, 8, 5, 5, 1, 1, 2, 4, 1, 3, 5, 6, 7, 0, 7, 7, 3, 4, 1, 8, 2, 7, 4, 0, 7, 6, 6, 8, 0, 6, 5, 5, 2, 5, 7, 8, 1, 2, 7, 4, 2, 1, 8, 3, 4, 1, 6, 6, 1, 1, 8, 5, 0, 5, 8, 1, 3, 3, 7, 1, 4, 1, 1, 5, 6, 2, 4, 6, 0, 6, 7, 2, 5, 5, 7, 0, 2, 2, 4, 7, 0, 5, 5, 2, 7, 3, 2, 7, 2, 7, 2, 3, 3, 6, 5, 6, 7, 6, 3, 4, 7, 8, 5, 7, 3, 6, 7, 8, 0, 1, 2, 1, 0, 6, 3, 3, 4, 3, 5, 0, 8, 6, 5, 5, 5, 2, 1, 7, 2, 3, 8, 1, 2, 1, 0, 6, 8, 2, 5, 8, 3, 2, 5, 6, 5, 7, 5, 3, 8, 3, 3, 0, 4, 2, 7, 6, 6, 5, 4, 8, 0, 6, 3, 7, 0, 5, 8, 2, 7, 2, 3, 1, 7, 6, 0, 0, 2, 2, 3, 2, 6, 4, 4, 5, 8, 4, 4, 8, 7, 4, 3, 1, 2, 6, 5, 0, 4, 7, 1, 3, 0, 3, 0, 3, 6, 2, 2, 7, 8, 3, 4, 5, 7, 8, 4, 0, 5, 4, 0, 1, 3, 4, 1, 0, 0, 3, 6, 4, 7, 6, 4, 3, 3, 2, 4, 5, 1, 8, 7, 5, 5, 6, 7, 6, 5, 3, 5, 6, 0, 2, 6, 7, 6, 4, 4, 3, 4, 3, 1, 3, 0, 1, 8, 8, 4, 5, 7, 3, 5, 7, 0, 6, 8, 8, 6, 6, 8, 7, 6, 6, 6, 7, 3, 7, 4, 2, 8, 4, 5, 1, 1, 2, 8, 1, 7, 8, 2, 0, 4, 6, 7, 3, 0, 0, 6, 6, 6, 1, 6, 1, 6, 5, 4, 6, 0, 3, 8, 6, 5, 4, 8, 2, 6, 8, 8, 5, 7, 1, 3, 3, 0, 6, 7, 1, 8, 1, 2, 1, 6, 8, 2, 3, 8]\n",
            "Files processed =  120\n",
            "[4, 3, 6, 2, 5, 6, 3, 4, 0, 2, 4, 3, 1, 8, 1, 8, 2, 3, 1, 0, 4, 4, 0, 3, 2, 4, 8, 4, 5, 3, 3, 6, 7, 3, 4, 3, 0, 3, 3, 5, 5, 3, 5, 2, 4, 4, 2, 3, 5, 3, 5, 1, 4, 5, 0, 6, 1, 2, 6, 8, 1, 1, 1, 5, 1, 3, 1, 3, 3, 1, 3, 2, 3, 4, 2, 1, 2, 1, 3, 1, 3, 3, 2, 5, 4, 6, 2, 3, 4, 2, 4, 2, 0, 1, 5, 3, 4, 5, 5, 0, 3, 1, 5, 4, 0, 1, 1, 2, 4, 1, 1, 3, 6, 0, 2, 5, 1, 6, 4, 1, 8, 5, 1, 3, 4, 7, 6, 6, 5, 6, 6, 3, 3, 2, 5, 1, 3, 1, 2, 5, 4, 2, 1, 8, 2, 6, 1, 6, 6, 1, 1, 5, 8, 3, 8, 7, 1, 3, 3, 1, 1, 4, 6, 1, 6, 6, 3, 3, 6, 0, 6, 7, 2, 4, 5, 4, 2, 3, 2, 3, 5, 3, 4, 5, 2, 1, 7, 2, 7, 0, 3, 2, 3, 6, 6, 5, 6, 1, 6, 6, 4, 5, 2, 4, 1, 3, 6, 5, 3, 6, 1, 2, 1, 0, 6, 0, 1, 4, 3, 5, 0, 3, 6, 3, 3, 5, 2, 1, 1, 5, 3, 5, 1, 2, 1, 0, 6, 8, 2, 3, 3, 3, 2, 1, 6, 3, 1, 4, 4, 3, 4, 3, 4, 4, 2, 7, 4, 6, 3, 4, 5, 6, 6, 3, 4, 0, 5, 8, 2, 7, 2, 6, 1, 7, 6, 4, 0, 2, 2, 4, 2, 6, 3, 3, 8, 8, 6, 4, 3, 7, 5, 1, 1, 2, 6, 3, 0, 4, 1, 1, 6, 3, 1, 7, 4, 6, 2, 2, 5, 3, 3, 3, 8, 1, 5, 6, 4, 5, 6, 7, 1, 3, 3, 1, 7, 8, 4, 6, 4, 1, 6, 1, 6, 4, 3, 6, 8, 1, 5, 7, 5, 3, 6, 4, 6, 2, 6, 3, 6, 0, 2, 6, 5, 6, 6, 1, 5, 4, 4, 1, 3, 5, 1, 3, 3, 3, 3, 1, 4, 5, 5, 0, 6, 5, 8, 6, 6, 3, 1, 6, 6, 6, 1, 2, 5, 4, 2, 3, 1, 3, 1, 1, 2, 4, 1, 7, 3, 2, 8, 6, 6, 4, 6, 2, 0, 6, 6, 6, 1, 6, 1, 6, 2, 3, 6, 0, 3, 8, 6, 7, 1, 3, 2, 6, 6, 3, 6, 1, 1, 6, 6, 0, 6, 7, 1, 3, 1, 2, 1, 6, 3, 2, 4, 5, 2, 4, 1, 1, 3, 1, 3, 3, 5, 6, 6, 8, 5, 4, 1, 3, 3, 6, 1, 1, 1, 1, 5, 3, 3, 8, 3, 5, 2, 2, 1, 0, 5, 0, 4, 3, 6, 3, 4, 1]\n",
            "[4, 7, 4, 8, 7, 6, 5, 8, 0, 2, 4, 0, 1, 8, 7, 5, 0, 3, 1, 5, 4, 4, 0, 8, 2, 4, 8, 5, 5, 8, 8, 8, 5, 4, 4, 3, 0, 8, 1, 7, 0, 0, 5, 2, 3, 4, 0, 4, 3, 8, 8, 1, 4, 0, 0, 6, 7, 2, 6, 8, 7, 7, 1, 5, 7, 5, 1, 3, 4, 1, 0, 2, 4, 3, 2, 7, 2, 4, 4, 1, 1, 5, 2, 7, 1, 6, 2, 4, 4, 0, 4, 2, 0, 1, 8, 3, 4, 3, 7, 0, 3, 1, 8, 5, 5, 1, 1, 2, 4, 1, 3, 5, 6, 7, 0, 7, 7, 3, 4, 1, 8, 2, 7, 4, 0, 7, 6, 6, 8, 0, 6, 5, 5, 2, 5, 7, 8, 1, 2, 7, 4, 2, 1, 8, 3, 4, 1, 6, 6, 1, 1, 8, 5, 0, 5, 8, 1, 3, 3, 7, 1, 4, 1, 1, 5, 6, 2, 4, 6, 0, 6, 7, 2, 5, 5, 7, 0, 2, 2, 4, 7, 0, 5, 5, 2, 7, 3, 2, 7, 2, 7, 2, 3, 3, 6, 5, 6, 7, 6, 3, 4, 7, 8, 5, 7, 3, 6, 7, 8, 0, 1, 2, 1, 0, 6, 3, 3, 4, 3, 5, 0, 8, 6, 5, 5, 5, 2, 1, 7, 2, 3, 8, 1, 2, 1, 0, 6, 8, 2, 5, 8, 3, 2, 5, 6, 5, 7, 5, 3, 8, 3, 3, 0, 4, 2, 7, 6, 6, 5, 4, 8, 0, 6, 3, 7, 0, 5, 8, 2, 7, 2, 3, 1, 7, 6, 0, 0, 2, 2, 3, 2, 6, 4, 4, 5, 8, 4, 4, 8, 7, 4, 3, 1, 2, 6, 5, 0, 4, 7, 1, 3, 0, 3, 0, 3, 6, 2, 2, 7, 8, 3, 4, 5, 7, 8, 4, 0, 5, 4, 0, 1, 3, 4, 1, 0, 0, 3, 6, 4, 7, 6, 4, 3, 3, 2, 4, 5, 1, 8, 7, 5, 5, 6, 7, 6, 5, 3, 5, 6, 0, 2, 6, 7, 6, 4, 4, 3, 4, 3, 1, 3, 0, 1, 8, 8, 4, 5, 7, 3, 5, 7, 0, 6, 8, 8, 6, 6, 8, 7, 6, 6, 6, 7, 3, 7, 4, 2, 8, 4, 5, 1, 1, 2, 8, 1, 7, 8, 2, 0, 4, 6, 7, 3, 0, 0, 6, 6, 6, 1, 6, 1, 6, 5, 4, 6, 0, 3, 8, 6, 5, 4, 8, 2, 6, 8, 8, 5, 7, 1, 3, 3, 0, 6, 7, 1, 8, 1, 2, 1, 6, 8, 2, 3, 8, 2, 4, 1, 1, 2, 1, 3, 0, 5, 6, 6, 8, 5, 8, 7, 3, 7, 4, 1, 1, 1, 1, 0, 7, 8, 8, 2, 8, 2, 2, 1, 0, 5, 0, 4, 5, 6, 5, 4, 7]\n",
            "Files processed =  130\n",
            "[4, 3, 6, 2, 5, 6, 3, 4, 0, 2, 4, 3, 1, 8, 1, 8, 2, 3, 1, 0, 4, 4, 0, 3, 2, 4, 8, 4, 5, 3, 3, 6, 7, 3, 4, 3, 0, 3, 3, 5, 5, 3, 5, 2, 4, 4, 2, 3, 5, 3, 5, 1, 4, 5, 0, 6, 1, 2, 6, 8, 1, 1, 1, 5, 1, 3, 1, 3, 3, 1, 3, 2, 3, 4, 2, 1, 2, 1, 3, 1, 3, 3, 2, 5, 4, 6, 2, 3, 4, 2, 4, 2, 0, 1, 5, 3, 4, 5, 5, 0, 3, 1, 5, 4, 0, 1, 1, 2, 4, 1, 1, 3, 6, 0, 2, 5, 1, 6, 4, 1, 8, 5, 1, 3, 4, 7, 6, 6, 5, 6, 6, 3, 3, 2, 5, 1, 3, 1, 2, 5, 4, 2, 1, 8, 2, 6, 1, 6, 6, 1, 1, 5, 8, 3, 8, 7, 1, 3, 3, 1, 1, 4, 6, 1, 6, 6, 3, 3, 6, 0, 6, 7, 2, 4, 5, 4, 2, 3, 2, 3, 5, 3, 4, 5, 2, 1, 7, 2, 7, 0, 3, 2, 3, 6, 6, 5, 6, 1, 6, 6, 4, 5, 2, 4, 1, 3, 6, 5, 3, 6, 1, 2, 1, 0, 6, 0, 1, 4, 3, 5, 0, 3, 6, 3, 3, 5, 2, 1, 1, 5, 3, 5, 1, 2, 1, 0, 6, 8, 2, 3, 3, 3, 2, 1, 6, 3, 1, 4, 4, 3, 4, 3, 4, 4, 2, 7, 4, 6, 3, 4, 5, 6, 6, 3, 4, 0, 5, 8, 2, 7, 2, 6, 1, 7, 6, 4, 0, 2, 2, 4, 2, 6, 3, 3, 8, 8, 6, 4, 3, 7, 5, 1, 1, 2, 6, 3, 0, 4, 1, 1, 6, 3, 1, 7, 4, 6, 2, 2, 5, 3, 3, 3, 8, 1, 5, 6, 4, 5, 6, 7, 1, 3, 3, 1, 7, 8, 4, 6, 4, 1, 6, 1, 6, 4, 3, 6, 8, 1, 5, 7, 5, 3, 6, 4, 6, 2, 6, 3, 6, 0, 2, 6, 5, 6, 6, 1, 5, 4, 4, 1, 3, 5, 1, 3, 3, 3, 3, 1, 4, 5, 5, 0, 6, 5, 8, 6, 6, 3, 1, 6, 6, 6, 1, 2, 5, 4, 2, 3, 1, 3, 1, 1, 2, 4, 1, 7, 3, 2, 8, 6, 6, 4, 6, 2, 0, 6, 6, 6, 1, 6, 1, 6, 2, 3, 6, 0, 3, 8, 6, 7, 1, 3, 2, 6, 6, 3, 6, 1, 1, 6, 6, 0, 6, 7, 1, 3, 1, 2, 1, 6, 3, 2, 4, 5, 2, 4, 1, 1, 3, 1, 3, 3, 5, 6, 6, 8, 5, 4, 1, 3, 3, 6, 1, 1, 1, 1, 5, 3, 3, 8, 3, 5, 2, 2, 1, 0, 5, 0, 4, 3, 6, 3, 4, 1, 1, 1, 1, 6, 4, 6, 1, 8, 1, 3, 2, 6, 6, 1, 6, 2, 5, 5, 4, 0, 8, 4, 6, 5, 1, 5, 2, 0, 4, 6, 2, 2, 2, 0, 6, 3, 3, 0, 0, 1]\n",
            "[4, 7, 4, 8, 7, 6, 5, 8, 0, 2, 4, 0, 1, 8, 7, 5, 0, 3, 1, 5, 4, 4, 0, 8, 2, 4, 8, 5, 5, 8, 8, 8, 5, 4, 4, 3, 0, 8, 1, 7, 0, 0, 5, 2, 3, 4, 0, 4, 3, 8, 8, 1, 4, 0, 0, 6, 7, 2, 6, 8, 7, 7, 1, 5, 7, 5, 1, 3, 4, 1, 0, 2, 4, 3, 2, 7, 2, 4, 4, 1, 1, 5, 2, 7, 1, 6, 2, 4, 4, 0, 4, 2, 0, 1, 8, 3, 4, 3, 7, 0, 3, 1, 8, 5, 5, 1, 1, 2, 4, 1, 3, 5, 6, 7, 0, 7, 7, 3, 4, 1, 8, 2, 7, 4, 0, 7, 6, 6, 8, 0, 6, 5, 5, 2, 5, 7, 8, 1, 2, 7, 4, 2, 1, 8, 3, 4, 1, 6, 6, 1, 1, 8, 5, 0, 5, 8, 1, 3, 3, 7, 1, 4, 1, 1, 5, 6, 2, 4, 6, 0, 6, 7, 2, 5, 5, 7, 0, 2, 2, 4, 7, 0, 5, 5, 2, 7, 3, 2, 7, 2, 7, 2, 3, 3, 6, 5, 6, 7, 6, 3, 4, 7, 8, 5, 7, 3, 6, 7, 8, 0, 1, 2, 1, 0, 6, 3, 3, 4, 3, 5, 0, 8, 6, 5, 5, 5, 2, 1, 7, 2, 3, 8, 1, 2, 1, 0, 6, 8, 2, 5, 8, 3, 2, 5, 6, 5, 7, 5, 3, 8, 3, 3, 0, 4, 2, 7, 6, 6, 5, 4, 8, 0, 6, 3, 7, 0, 5, 8, 2, 7, 2, 3, 1, 7, 6, 0, 0, 2, 2, 3, 2, 6, 4, 4, 5, 8, 4, 4, 8, 7, 4, 3, 1, 2, 6, 5, 0, 4, 7, 1, 3, 0, 3, 0, 3, 6, 2, 2, 7, 8, 3, 4, 5, 7, 8, 4, 0, 5, 4, 0, 1, 3, 4, 1, 0, 0, 3, 6, 4, 7, 6, 4, 3, 3, 2, 4, 5, 1, 8, 7, 5, 5, 6, 7, 6, 5, 3, 5, 6, 0, 2, 6, 7, 6, 4, 4, 3, 4, 3, 1, 3, 0, 1, 8, 8, 4, 5, 7, 3, 5, 7, 0, 6, 8, 8, 6, 6, 8, 7, 6, 6, 6, 7, 3, 7, 4, 2, 8, 4, 5, 1, 1, 2, 8, 1, 7, 8, 2, 0, 4, 6, 7, 3, 0, 0, 6, 6, 6, 1, 6, 1, 6, 5, 4, 6, 0, 3, 8, 6, 5, 4, 8, 2, 6, 8, 8, 5, 7, 1, 3, 3, 0, 6, 7, 1, 8, 1, 2, 1, 6, 8, 2, 3, 8, 2, 4, 1, 1, 2, 1, 3, 0, 5, 6, 6, 8, 5, 8, 7, 3, 7, 4, 1, 1, 1, 1, 0, 7, 8, 8, 2, 8, 2, 2, 1, 0, 5, 0, 4, 5, 6, 5, 4, 7, 1, 1, 1, 6, 4, 4, 1, 5, 1, 8, 2, 6, 6, 7, 6, 2, 0, 8, 5, 0, 0, 3, 5, 3, 7, 5, 2, 0, 3, 6, 2, 2, 2, 0, 3, 5, 4, 8, 0, 3]\n"
          ],
          "name": "stdout"
        },
        {
          "output_type": "stream",
          "text": [
            "\r  3%|▎         | 5/170 [2:10:39<72:14:58, 1576.35s/it]"
          ],
          "name": "stderr"
        },
        {
          "output_type": "stream",
          "text": [
            "Accuracy epoch 34  =  0.5191256830601093\n",
            "tensor(0.4560, device='cuda:0', grad_fn=<NllLossBackward>)\n",
            "tensor(0.7780, device='cuda:0', grad_fn=<NllLossBackward>)\n",
            "tensor(0.5180, device='cuda:0', grad_fn=<NllLossBackward>)\n",
            "tensor(1.4236, device='cuda:0', grad_fn=<NllLossBackward>)\n",
            "tensor(0.4209, device='cuda:0', grad_fn=<NllLossBackward>)\n",
            "tensor(0.9785, device='cuda:0', grad_fn=<NllLossBackward>)\n",
            "tensor(0.3215, device='cuda:0', grad_fn=<NllLossBackward>)\n",
            "tensor(0.5189, device='cuda:0', grad_fn=<NllLossBackward>)\n",
            "tensor(0.5953, device='cuda:0', grad_fn=<NllLossBackward>)\n",
            "tensor(1.0266, device='cuda:0', grad_fn=<NllLossBackward>)\n",
            "tensor(1.0908, device='cuda:0', grad_fn=<NllLossBackward>)\n",
            "COST epoch 35  =  [tensor(1111.4436), tensor(990.5597), tensor(934.4700), tensor(874.6571), tensor(822.8998), tensor(800.3447), tensor(765.9095), tensor(740.0458), tensor(718.9320), tensor(719.7072), tensor(693.2490), tensor(697.7689), tensor(672.8008), tensor(661.9917), tensor(658.5683), tensor(635.4274), tensor(631.2565), tensor(615.2205), tensor(607.1673), tensor(607.2458), tensor(606.9468), tensor(562.4706), tensor(572.2747), tensor(568.2372), tensor(549.9225), tensor(549.4277), tensor(539.3239), tensor(530.7670), tensor(519.7222), tensor(514.4471), tensor(505.1449), tensor(497.7492), tensor(483.2874, device='cuda:0'), tensor(486.2227, device='cuda:0'), tensor(471.6280, device='cuda:0'), tensor(463.2786, device='cuda:0'), tensor(463.6834, device='cuda:0'), tensor(461.9894, device='cuda:0')]\n",
            "Files processed =  0\n",
            "[6, 1, 3, 8]\n",
            "[3, 1, 4, 0]\n",
            "Files processed =  10\n",
            "[6, 1, 3, 8, 3, 7, 3, 6, 3, 0, 4, 2, 5, 0, 5, 2, 1, 2, 7, 3, 5, 3, 8, 5, 1, 2, 3, 5, 3, 0, 1, 3, 5, 6, 5, 6, 7, 0, 5, 7, 4, 3, 2, 8]\n",
            "[3, 1, 4, 0, 3, 7, 8, 4, 5, 4, 0, 4, 8, 0, 3, 2, 1, 2, 7, 4, 7, 3, 5, 8, 1, 2, 3, 5, 4, 7, 1, 7, 5, 4, 8, 6, 7, 0, 5, 1, 4, 3, 2, 8]\n",
            "Files processed =  20\n",
            "[6, 1, 3, 8, 3, 7, 3, 6, 3, 0, 4, 2, 5, 0, 5, 2, 1, 2, 7, 3, 5, 3, 8, 5, 1, 2, 3, 5, 3, 0, 1, 3, 5, 6, 5, 6, 7, 0, 5, 7, 4, 3, 2, 8, 3, 6, 8, 6, 8, 1, 8, 0, 6, 0, 5, 2, 8, 1, 5, 1, 5, 2, 5, 2, 0, 3, 6, 0, 5, 7, 1, 4, 6, 7, 0, 3, 1, 2, 0, 5, 5, 1, 0, 5]\n",
            "[3, 1, 4, 0, 3, 7, 8, 4, 5, 4, 0, 4, 8, 0, 3, 2, 1, 2, 7, 4, 7, 3, 5, 8, 1, 2, 3, 5, 4, 7, 1, 7, 5, 4, 8, 6, 7, 0, 5, 1, 4, 3, 2, 8, 4, 6, 5, 6, 5, 1, 8, 4, 4, 0, 7, 2, 5, 1, 1, 1, 7, 0, 7, 2, 0, 8, 6, 0, 8, 7, 7, 4, 6, 0, 4, 4, 1, 2, 0, 5, 4, 1, 5, 5]\n",
            "Files processed =  30\n",
            "[6, 1, 3, 8, 3, 7, 3, 6, 3, 0, 4, 2, 5, 0, 5, 2, 1, 2, 7, 3, 5, 3, 8, 5, 1, 2, 3, 5, 3, 0, 1, 3, 5, 6, 5, 6, 7, 0, 5, 7, 4, 3, 2, 8, 3, 6, 8, 6, 8, 1, 8, 0, 6, 0, 5, 2, 8, 1, 5, 1, 5, 2, 5, 2, 0, 3, 6, 0, 5, 7, 1, 4, 6, 7, 0, 3, 1, 2, 0, 5, 5, 1, 0, 5, 0, 8, 2, 5, 0, 6, 1, 4, 6, 3, 2, 1, 5, 1, 1, 2, 5, 0, 6, 8, 8, 4, 8, 6, 3, 2, 3, 0, 8, 1, 4, 1, 6, 6, 1, 4, 2, 1, 8, 8]\n",
            "[3, 1, 4, 0, 3, 7, 8, 4, 5, 4, 0, 4, 8, 0, 3, 2, 1, 2, 7, 4, 7, 3, 5, 8, 1, 2, 3, 5, 4, 7, 1, 7, 5, 4, 8, 6, 7, 0, 5, 1, 4, 3, 2, 8, 4, 6, 5, 6, 5, 1, 8, 4, 4, 0, 7, 2, 5, 1, 1, 1, 7, 0, 7, 2, 0, 8, 6, 0, 8, 7, 7, 4, 6, 0, 4, 4, 1, 2, 0, 5, 4, 1, 5, 5, 0, 5, 2, 0, 0, 3, 1, 4, 6, 4, 2, 1, 0, 1, 1, 2, 0, 0, 3, 5, 8, 4, 0, 6, 4, 2, 3, 0, 8, 1, 7, 3, 6, 6, 1, 3, 2, 7, 8, 8]\n",
            "Files processed =  40\n",
            "[6, 1, 3, 8, 3, 7, 3, 6, 3, 0, 4, 2, 5, 0, 5, 2, 1, 2, 7, 3, 5, 3, 8, 5, 1, 2, 3, 5, 3, 0, 1, 3, 5, 6, 5, 6, 7, 0, 5, 7, 4, 3, 2, 8, 3, 6, 8, 6, 8, 1, 8, 0, 6, 0, 5, 2, 8, 1, 5, 1, 5, 2, 5, 2, 0, 3, 6, 0, 5, 7, 1, 4, 6, 7, 0, 3, 1, 2, 0, 5, 5, 1, 0, 5, 0, 8, 2, 5, 0, 6, 1, 4, 6, 3, 2, 1, 5, 1, 1, 2, 5, 0, 6, 8, 8, 4, 8, 6, 3, 2, 3, 0, 8, 1, 4, 1, 6, 6, 1, 4, 2, 1, 8, 8, 2, 5, 1, 2, 1, 1, 3, 3, 2, 6, 3, 0, 3, 2, 7, 0, 3, 1, 5, 4, 1, 8, 5, 8, 1, 8, 6, 8, 0, 0, 2, 5, 6, 0, 3, 5, 0, 1, 5, 7]\n",
            "[3, 1, 4, 0, 3, 7, 8, 4, 5, 4, 0, 4, 8, 0, 3, 2, 1, 2, 7, 4, 7, 3, 5, 8, 1, 2, 3, 5, 4, 7, 1, 7, 5, 4, 8, 6, 7, 0, 5, 1, 4, 3, 2, 8, 4, 6, 5, 6, 5, 1, 8, 4, 4, 0, 7, 2, 5, 1, 1, 1, 7, 0, 7, 2, 0, 8, 6, 0, 8, 7, 7, 4, 6, 0, 4, 4, 1, 2, 0, 5, 4, 1, 5, 5, 0, 5, 2, 0, 0, 3, 1, 4, 6, 4, 2, 1, 0, 1, 1, 2, 0, 0, 3, 5, 8, 4, 0, 6, 4, 2, 3, 0, 8, 1, 7, 3, 6, 6, 1, 3, 2, 7, 8, 8, 2, 5, 1, 2, 7, 1, 3, 3, 2, 6, 1, 0, 8, 2, 7, 2, 3, 1, 8, 4, 1, 8, 4, 8, 7, 8, 6, 8, 0, 0, 5, 3, 6, 0, 4, 5, 0, 7, 5, 7]\n",
            "Files processed =  50\n",
            "[6, 1, 3, 8, 3, 7, 3, 6, 3, 0, 4, 2, 5, 0, 5, 2, 1, 2, 7, 3, 5, 3, 8, 5, 1, 2, 3, 5, 3, 0, 1, 3, 5, 6, 5, 6, 7, 0, 5, 7, 4, 3, 2, 8, 3, 6, 8, 6, 8, 1, 8, 0, 6, 0, 5, 2, 8, 1, 5, 1, 5, 2, 5, 2, 0, 3, 6, 0, 5, 7, 1, 4, 6, 7, 0, 3, 1, 2, 0, 5, 5, 1, 0, 5, 0, 8, 2, 5, 0, 6, 1, 4, 6, 3, 2, 1, 5, 1, 1, 2, 5, 0, 6, 8, 8, 4, 8, 6, 3, 2, 3, 0, 8, 1, 4, 1, 6, 6, 1, 4, 2, 1, 8, 8, 2, 5, 1, 2, 1, 1, 3, 3, 2, 6, 3, 0, 3, 2, 7, 0, 3, 1, 5, 4, 1, 8, 5, 8, 1, 8, 6, 8, 0, 0, 2, 5, 6, 0, 3, 5, 0, 1, 5, 7, 8, 3, 3, 2, 8, 1, 7, 5, 0, 1, 8, 0, 0, 2, 1, 5, 3, 3, 1, 6, 1, 2, 3, 3, 5, 6, 4, 8, 3, 6, 6, 7, 1, 3, 0, 1, 5, 5, 3, 2]\n",
            "[3, 1, 4, 0, 3, 7, 8, 4, 5, 4, 0, 4, 8, 0, 3, 2, 1, 2, 7, 4, 7, 3, 5, 8, 1, 2, 3, 5, 4, 7, 1, 7, 5, 4, 8, 6, 7, 0, 5, 1, 4, 3, 2, 8, 4, 6, 5, 6, 5, 1, 8, 4, 4, 0, 7, 2, 5, 1, 1, 1, 7, 0, 7, 2, 0, 8, 6, 0, 8, 7, 7, 4, 6, 0, 4, 4, 1, 2, 0, 5, 4, 1, 5, 5, 0, 5, 2, 0, 0, 3, 1, 4, 6, 4, 2, 1, 0, 1, 1, 2, 0, 0, 3, 5, 8, 4, 0, 6, 4, 2, 3, 0, 8, 1, 7, 3, 6, 6, 1, 3, 2, 7, 8, 8, 2, 5, 1, 2, 7, 1, 3, 3, 2, 6, 1, 0, 8, 2, 7, 2, 3, 1, 8, 4, 1, 8, 4, 8, 7, 8, 6, 8, 0, 0, 5, 3, 6, 0, 4, 5, 0, 7, 5, 7, 8, 7, 0, 8, 0, 1, 7, 5, 0, 7, 0, 3, 0, 2, 1, 7, 5, 8, 1, 3, 1, 0, 4, 4, 4, 6, 4, 0, 4, 6, 6, 7, 1, 5, 4, 1, 7, 7, 8, 2]\n",
            "Files processed =  60\n",
            "[6, 1, 3, 8, 3, 7, 3, 6, 3, 0, 4, 2, 5, 0, 5, 2, 1, 2, 7, 3, 5, 3, 8, 5, 1, 2, 3, 5, 3, 0, 1, 3, 5, 6, 5, 6, 7, 0, 5, 7, 4, 3, 2, 8, 3, 6, 8, 6, 8, 1, 8, 0, 6, 0, 5, 2, 8, 1, 5, 1, 5, 2, 5, 2, 0, 3, 6, 0, 5, 7, 1, 4, 6, 7, 0, 3, 1, 2, 0, 5, 5, 1, 0, 5, 0, 8, 2, 5, 0, 6, 1, 4, 6, 3, 2, 1, 5, 1, 1, 2, 5, 0, 6, 8, 8, 4, 8, 6, 3, 2, 3, 0, 8, 1, 4, 1, 6, 6, 1, 4, 2, 1, 8, 8, 2, 5, 1, 2, 1, 1, 3, 3, 2, 6, 3, 0, 3, 2, 7, 0, 3, 1, 5, 4, 1, 8, 5, 8, 1, 8, 6, 8, 0, 0, 2, 5, 6, 0, 3, 5, 0, 1, 5, 7, 8, 3, 3, 2, 8, 1, 7, 5, 0, 1, 8, 0, 0, 2, 1, 5, 3, 3, 1, 6, 1, 2, 3, 3, 5, 6, 4, 8, 3, 6, 6, 7, 1, 3, 0, 1, 5, 5, 3, 2, 5, 2, 3, 0, 6, 5, 2, 8, 2, 5, 0, 3, 6, 7, 2, 0, 5, 3, 1, 3, 3, 3, 5, 0, 1, 2, 2, 2, 5, 4, 6, 0, 1, 1, 3, 5, 1, 7, 5, 8]\n",
            "[3, 1, 4, 0, 3, 7, 8, 4, 5, 4, 0, 4, 8, 0, 3, 2, 1, 2, 7, 4, 7, 3, 5, 8, 1, 2, 3, 5, 4, 7, 1, 7, 5, 4, 8, 6, 7, 0, 5, 1, 4, 3, 2, 8, 4, 6, 5, 6, 5, 1, 8, 4, 4, 0, 7, 2, 5, 1, 1, 1, 7, 0, 7, 2, 0, 8, 6, 0, 8, 7, 7, 4, 6, 0, 4, 4, 1, 2, 0, 5, 4, 1, 5, 5, 0, 5, 2, 0, 0, 3, 1, 4, 6, 4, 2, 1, 0, 1, 1, 2, 0, 0, 3, 5, 8, 4, 0, 6, 4, 2, 3, 0, 8, 1, 7, 3, 6, 6, 1, 3, 2, 7, 8, 8, 2, 5, 1, 2, 7, 1, 3, 3, 2, 6, 1, 0, 8, 2, 7, 2, 3, 1, 8, 4, 1, 8, 4, 8, 7, 8, 6, 8, 0, 0, 5, 3, 6, 0, 4, 5, 0, 7, 5, 7, 8, 7, 0, 8, 0, 1, 7, 5, 0, 7, 0, 3, 0, 2, 1, 7, 5, 8, 1, 3, 1, 0, 4, 4, 4, 6, 4, 0, 4, 6, 6, 7, 1, 5, 4, 1, 7, 7, 8, 2, 5, 2, 3, 0, 6, 8, 2, 8, 2, 7, 3, 3, 6, 7, 5, 0, 7, 5, 1, 3, 3, 3, 2, 3, 1, 2, 7, 3, 4, 3, 6, 4, 1, 4, 4, 0, 7, 7, 8, 8]\n",
            "Files processed =  70\n",
            "[6, 1, 3, 8, 3, 7, 3, 6, 3, 0, 4, 2, 5, 0, 5, 2, 1, 2, 7, 3, 5, 3, 8, 5, 1, 2, 3, 5, 3, 0, 1, 3, 5, 6, 5, 6, 7, 0, 5, 7, 4, 3, 2, 8, 3, 6, 8, 6, 8, 1, 8, 0, 6, 0, 5, 2, 8, 1, 5, 1, 5, 2, 5, 2, 0, 3, 6, 0, 5, 7, 1, 4, 6, 7, 0, 3, 1, 2, 0, 5, 5, 1, 0, 5, 0, 8, 2, 5, 0, 6, 1, 4, 6, 3, 2, 1, 5, 1, 1, 2, 5, 0, 6, 8, 8, 4, 8, 6, 3, 2, 3, 0, 8, 1, 4, 1, 6, 6, 1, 4, 2, 1, 8, 8, 2, 5, 1, 2, 1, 1, 3, 3, 2, 6, 3, 0, 3, 2, 7, 0, 3, 1, 5, 4, 1, 8, 5, 8, 1, 8, 6, 8, 0, 0, 2, 5, 6, 0, 3, 5, 0, 1, 5, 7, 8, 3, 3, 2, 8, 1, 7, 5, 0, 1, 8, 0, 0, 2, 1, 5, 3, 3, 1, 6, 1, 2, 3, 3, 5, 6, 4, 8, 3, 6, 6, 7, 1, 3, 0, 1, 5, 5, 3, 2, 5, 2, 3, 0, 6, 5, 2, 8, 2, 5, 0, 3, 6, 7, 2, 0, 5, 3, 1, 3, 3, 3, 5, 0, 1, 2, 2, 2, 5, 4, 6, 0, 1, 1, 3, 5, 1, 7, 5, 8, 3, 3, 2, 6, 3, 6, 1, 8, 2, 5, 1, 6, 2, 2, 3, 6, 2, 2, 6, 1, 6, 4, 2, 8, 1, 6, 0, 3, 5, 6, 6, 3, 6, 6, 2, 2, 4, 8, 1, 3]\n",
            "[3, 1, 4, 0, 3, 7, 8, 4, 5, 4, 0, 4, 8, 0, 3, 2, 1, 2, 7, 4, 7, 3, 5, 8, 1, 2, 3, 5, 4, 7, 1, 7, 5, 4, 8, 6, 7, 0, 5, 1, 4, 3, 2, 8, 4, 6, 5, 6, 5, 1, 8, 4, 4, 0, 7, 2, 5, 1, 1, 1, 7, 0, 7, 2, 0, 8, 6, 0, 8, 7, 7, 4, 6, 0, 4, 4, 1, 2, 0, 5, 4, 1, 5, 5, 0, 5, 2, 0, 0, 3, 1, 4, 6, 4, 2, 1, 0, 1, 1, 2, 0, 0, 3, 5, 8, 4, 0, 6, 4, 2, 3, 0, 8, 1, 7, 3, 6, 6, 1, 3, 2, 7, 8, 8, 2, 5, 1, 2, 7, 1, 3, 3, 2, 6, 1, 0, 8, 2, 7, 2, 3, 1, 8, 4, 1, 8, 4, 8, 7, 8, 6, 8, 0, 0, 5, 3, 6, 0, 4, 5, 0, 7, 5, 7, 8, 7, 0, 8, 0, 1, 7, 5, 0, 7, 0, 3, 0, 2, 1, 7, 5, 8, 1, 3, 1, 0, 4, 4, 4, 6, 4, 0, 4, 6, 6, 7, 1, 5, 4, 1, 7, 7, 8, 2, 5, 2, 3, 0, 6, 8, 2, 8, 2, 7, 3, 3, 6, 7, 5, 0, 7, 5, 1, 3, 3, 3, 2, 3, 1, 2, 7, 3, 4, 3, 6, 4, 1, 4, 4, 0, 7, 7, 8, 8, 5, 5, 2, 6, 5, 6, 7, 8, 2, 4, 3, 6, 2, 2, 3, 4, 5, 2, 6, 7, 6, 4, 2, 5, 7, 6, 0, 4, 5, 3, 6, 2, 3, 5, 2, 2, 4, 8, 1, 1]\n",
            "Files processed =  80\n",
            "[6, 1, 3, 8, 3, 7, 3, 6, 3, 0, 4, 2, 5, 0, 5, 2, 1, 2, 7, 3, 5, 3, 8, 5, 1, 2, 3, 5, 3, 0, 1, 3, 5, 6, 5, 6, 7, 0, 5, 7, 4, 3, 2, 8, 3, 6, 8, 6, 8, 1, 8, 0, 6, 0, 5, 2, 8, 1, 5, 1, 5, 2, 5, 2, 0, 3, 6, 0, 5, 7, 1, 4, 6, 7, 0, 3, 1, 2, 0, 5, 5, 1, 0, 5, 0, 8, 2, 5, 0, 6, 1, 4, 6, 3, 2, 1, 5, 1, 1, 2, 5, 0, 6, 8, 8, 4, 8, 6, 3, 2, 3, 0, 8, 1, 4, 1, 6, 6, 1, 4, 2, 1, 8, 8, 2, 5, 1, 2, 1, 1, 3, 3, 2, 6, 3, 0, 3, 2, 7, 0, 3, 1, 5, 4, 1, 8, 5, 8, 1, 8, 6, 8, 0, 0, 2, 5, 6, 0, 3, 5, 0, 1, 5, 7, 8, 3, 3, 2, 8, 1, 7, 5, 0, 1, 8, 0, 0, 2, 1, 5, 3, 3, 1, 6, 1, 2, 3, 3, 5, 6, 4, 8, 3, 6, 6, 7, 1, 3, 0, 1, 5, 5, 3, 2, 5, 2, 3, 0, 6, 5, 2, 8, 2, 5, 0, 3, 6, 7, 2, 0, 5, 3, 1, 3, 3, 3, 5, 0, 1, 2, 2, 2, 5, 4, 6, 0, 1, 1, 3, 5, 1, 7, 5, 8, 3, 3, 2, 6, 3, 6, 1, 8, 2, 5, 1, 6, 2, 2, 3, 6, 2, 2, 6, 1, 6, 4, 2, 8, 1, 6, 0, 3, 5, 6, 6, 3, 6, 6, 2, 2, 4, 8, 1, 3, 2, 2, 6, 8, 8, 0, 2, 1, 5, 0, 0, 3, 8, 1, 5, 5, 6, 0, 2, 1, 3, 2, 7, 1, 0, 6, 7, 6, 1, 6, 1, 6, 3, 3, 3, 0, 6, 2, 6, 5]\n",
            "[3, 1, 4, 0, 3, 7, 8, 4, 5, 4, 0, 4, 8, 0, 3, 2, 1, 2, 7, 4, 7, 3, 5, 8, 1, 2, 3, 5, 4, 7, 1, 7, 5, 4, 8, 6, 7, 0, 5, 1, 4, 3, 2, 8, 4, 6, 5, 6, 5, 1, 8, 4, 4, 0, 7, 2, 5, 1, 1, 1, 7, 0, 7, 2, 0, 8, 6, 0, 8, 7, 7, 4, 6, 0, 4, 4, 1, 2, 0, 5, 4, 1, 5, 5, 0, 5, 2, 0, 0, 3, 1, 4, 6, 4, 2, 1, 0, 1, 1, 2, 0, 0, 3, 5, 8, 4, 0, 6, 4, 2, 3, 0, 8, 1, 7, 3, 6, 6, 1, 3, 2, 7, 8, 8, 2, 5, 1, 2, 7, 1, 3, 3, 2, 6, 1, 0, 8, 2, 7, 2, 3, 1, 8, 4, 1, 8, 4, 8, 7, 8, 6, 8, 0, 0, 5, 3, 6, 0, 4, 5, 0, 7, 5, 7, 8, 7, 0, 8, 0, 1, 7, 5, 0, 7, 0, 3, 0, 2, 1, 7, 5, 8, 1, 3, 1, 0, 4, 4, 4, 6, 4, 0, 4, 6, 6, 7, 1, 5, 4, 1, 7, 7, 8, 2, 5, 2, 3, 0, 6, 8, 2, 8, 2, 7, 3, 3, 6, 7, 5, 0, 7, 5, 1, 3, 3, 3, 2, 3, 1, 2, 7, 3, 4, 3, 6, 4, 1, 4, 4, 0, 7, 7, 8, 8, 5, 5, 2, 6, 5, 6, 7, 8, 2, 4, 3, 6, 2, 2, 3, 4, 5, 2, 6, 7, 6, 4, 2, 5, 7, 6, 0, 4, 5, 3, 6, 2, 3, 5, 2, 2, 4, 8, 1, 1, 2, 2, 6, 8, 4, 0, 5, 1, 8, 5, 4, 4, 5, 1, 4, 3, 6, 0, 2, 1, 3, 2, 7, 1, 0, 6, 7, 6, 7, 6, 1, 6, 1, 4, 3, 3, 6, 0, 6, 5]\n",
            "Files processed =  90\n",
            "[6, 1, 3, 8, 3, 7, 3, 6, 3, 0, 4, 2, 5, 0, 5, 2, 1, 2, 7, 3, 5, 3, 8, 5, 1, 2, 3, 5, 3, 0, 1, 3, 5, 6, 5, 6, 7, 0, 5, 7, 4, 3, 2, 8, 3, 6, 8, 6, 8, 1, 8, 0, 6, 0, 5, 2, 8, 1, 5, 1, 5, 2, 5, 2, 0, 3, 6, 0, 5, 7, 1, 4, 6, 7, 0, 3, 1, 2, 0, 5, 5, 1, 0, 5, 0, 8, 2, 5, 0, 6, 1, 4, 6, 3, 2, 1, 5, 1, 1, 2, 5, 0, 6, 8, 8, 4, 8, 6, 3, 2, 3, 0, 8, 1, 4, 1, 6, 6, 1, 4, 2, 1, 8, 8, 2, 5, 1, 2, 1, 1, 3, 3, 2, 6, 3, 0, 3, 2, 7, 0, 3, 1, 5, 4, 1, 8, 5, 8, 1, 8, 6, 8, 0, 0, 2, 5, 6, 0, 3, 5, 0, 1, 5, 7, 8, 3, 3, 2, 8, 1, 7, 5, 0, 1, 8, 0, 0, 2, 1, 5, 3, 3, 1, 6, 1, 2, 3, 3, 5, 6, 4, 8, 3, 6, 6, 7, 1, 3, 0, 1, 5, 5, 3, 2, 5, 2, 3, 0, 6, 5, 2, 8, 2, 5, 0, 3, 6, 7, 2, 0, 5, 3, 1, 3, 3, 3, 5, 0, 1, 2, 2, 2, 5, 4, 6, 0, 1, 1, 3, 5, 1, 7, 5, 8, 3, 3, 2, 6, 3, 6, 1, 8, 2, 5, 1, 6, 2, 2, 3, 6, 2, 2, 6, 1, 6, 4, 2, 8, 1, 6, 0, 3, 5, 6, 6, 3, 6, 6, 2, 2, 4, 8, 1, 3, 2, 2, 6, 8, 8, 0, 2, 1, 5, 0, 0, 3, 8, 1, 5, 5, 6, 0, 2, 1, 3, 2, 7, 1, 0, 6, 7, 6, 1, 6, 1, 6, 3, 3, 3, 0, 6, 2, 6, 5, 6, 5, 8, 8, 2, 3, 2, 1, 5, 5, 0, 6, 1, 1, 3, 6, 5, 0, 7, 1, 5, 6, 6, 2, 2, 6, 8, 2, 3, 8, 8, 2, 3, 8, 8, 6, 5, 6, 0, 8]\n",
            "[3, 1, 4, 0, 3, 7, 8, 4, 5, 4, 0, 4, 8, 0, 3, 2, 1, 2, 7, 4, 7, 3, 5, 8, 1, 2, 3, 5, 4, 7, 1, 7, 5, 4, 8, 6, 7, 0, 5, 1, 4, 3, 2, 8, 4, 6, 5, 6, 5, 1, 8, 4, 4, 0, 7, 2, 5, 1, 1, 1, 7, 0, 7, 2, 0, 8, 6, 0, 8, 7, 7, 4, 6, 0, 4, 4, 1, 2, 0, 5, 4, 1, 5, 5, 0, 5, 2, 0, 0, 3, 1, 4, 6, 4, 2, 1, 0, 1, 1, 2, 0, 0, 3, 5, 8, 4, 0, 6, 4, 2, 3, 0, 8, 1, 7, 3, 6, 6, 1, 3, 2, 7, 8, 8, 2, 5, 1, 2, 7, 1, 3, 3, 2, 6, 1, 0, 8, 2, 7, 2, 3, 1, 8, 4, 1, 8, 4, 8, 7, 8, 6, 8, 0, 0, 5, 3, 6, 0, 4, 5, 0, 7, 5, 7, 8, 7, 0, 8, 0, 1, 7, 5, 0, 7, 0, 3, 0, 2, 1, 7, 5, 8, 1, 3, 1, 0, 4, 4, 4, 6, 4, 0, 4, 6, 6, 7, 1, 5, 4, 1, 7, 7, 8, 2, 5, 2, 3, 0, 6, 8, 2, 8, 2, 7, 3, 3, 6, 7, 5, 0, 7, 5, 1, 3, 3, 3, 2, 3, 1, 2, 7, 3, 4, 3, 6, 4, 1, 4, 4, 0, 7, 7, 8, 8, 5, 5, 2, 6, 5, 6, 7, 8, 2, 4, 3, 6, 2, 2, 3, 4, 5, 2, 6, 7, 6, 4, 2, 5, 7, 6, 0, 4, 5, 3, 6, 2, 3, 5, 2, 2, 4, 8, 1, 1, 2, 2, 6, 8, 4, 0, 5, 1, 8, 5, 4, 4, 5, 1, 4, 3, 6, 0, 2, 1, 3, 2, 7, 1, 0, 6, 7, 6, 7, 6, 1, 6, 1, 4, 3, 3, 6, 0, 6, 5, 6, 5, 8, 0, 2, 4, 2, 1, 7, 5, 7, 6, 3, 1, 4, 3, 3, 0, 8, 7, 5, 6, 6, 2, 2, 6, 8, 0, 3, 3, 8, 2, 5, 3, 4, 6, 5, 6, 3, 0]\n",
            "Files processed =  100\n",
            "[6, 1, 3, 8, 3, 7, 3, 6, 3, 0, 4, 2, 5, 0, 5, 2, 1, 2, 7, 3, 5, 3, 8, 5, 1, 2, 3, 5, 3, 0, 1, 3, 5, 6, 5, 6, 7, 0, 5, 7, 4, 3, 2, 8, 3, 6, 8, 6, 8, 1, 8, 0, 6, 0, 5, 2, 8, 1, 5, 1, 5, 2, 5, 2, 0, 3, 6, 0, 5, 7, 1, 4, 6, 7, 0, 3, 1, 2, 0, 5, 5, 1, 0, 5, 0, 8, 2, 5, 0, 6, 1, 4, 6, 3, 2, 1, 5, 1, 1, 2, 5, 0, 6, 8, 8, 4, 8, 6, 3, 2, 3, 0, 8, 1, 4, 1, 6, 6, 1, 4, 2, 1, 8, 8, 2, 5, 1, 2, 1, 1, 3, 3, 2, 6, 3, 0, 3, 2, 7, 0, 3, 1, 5, 4, 1, 8, 5, 8, 1, 8, 6, 8, 0, 0, 2, 5, 6, 0, 3, 5, 0, 1, 5, 7, 8, 3, 3, 2, 8, 1, 7, 5, 0, 1, 8, 0, 0, 2, 1, 5, 3, 3, 1, 6, 1, 2, 3, 3, 5, 6, 4, 8, 3, 6, 6, 7, 1, 3, 0, 1, 5, 5, 3, 2, 5, 2, 3, 0, 6, 5, 2, 8, 2, 5, 0, 3, 6, 7, 2, 0, 5, 3, 1, 3, 3, 3, 5, 0, 1, 2, 2, 2, 5, 4, 6, 0, 1, 1, 3, 5, 1, 7, 5, 8, 3, 3, 2, 6, 3, 6, 1, 8, 2, 5, 1, 6, 2, 2, 3, 6, 2, 2, 6, 1, 6, 4, 2, 8, 1, 6, 0, 3, 5, 6, 6, 3, 6, 6, 2, 2, 4, 8, 1, 3, 2, 2, 6, 8, 8, 0, 2, 1, 5, 0, 0, 3, 8, 1, 5, 5, 6, 0, 2, 1, 3, 2, 7, 1, 0, 6, 7, 6, 1, 6, 1, 6, 3, 3, 3, 0, 6, 2, 6, 5, 6, 5, 8, 8, 2, 3, 2, 1, 5, 5, 0, 6, 1, 1, 3, 6, 5, 0, 7, 1, 5, 6, 6, 2, 2, 6, 8, 2, 3, 8, 8, 2, 3, 8, 8, 6, 5, 6, 0, 8, 5, 6, 2, 6, 6, 2, 5, 1, 4, 1, 5, 5, 6, 6, 8, 3, 2, 3, 8, 5, 3, 3, 1, 3, 5, 7, 2, 5, 2, 2, 6, 5, 5, 5, 7, 7, 6, 2, 5, 6]\n",
            "[3, 1, 4, 0, 3, 7, 8, 4, 5, 4, 0, 4, 8, 0, 3, 2, 1, 2, 7, 4, 7, 3, 5, 8, 1, 2, 3, 5, 4, 7, 1, 7, 5, 4, 8, 6, 7, 0, 5, 1, 4, 3, 2, 8, 4, 6, 5, 6, 5, 1, 8, 4, 4, 0, 7, 2, 5, 1, 1, 1, 7, 0, 7, 2, 0, 8, 6, 0, 8, 7, 7, 4, 6, 0, 4, 4, 1, 2, 0, 5, 4, 1, 5, 5, 0, 5, 2, 0, 0, 3, 1, 4, 6, 4, 2, 1, 0, 1, 1, 2, 0, 0, 3, 5, 8, 4, 0, 6, 4, 2, 3, 0, 8, 1, 7, 3, 6, 6, 1, 3, 2, 7, 8, 8, 2, 5, 1, 2, 7, 1, 3, 3, 2, 6, 1, 0, 8, 2, 7, 2, 3, 1, 8, 4, 1, 8, 4, 8, 7, 8, 6, 8, 0, 0, 5, 3, 6, 0, 4, 5, 0, 7, 5, 7, 8, 7, 0, 8, 0, 1, 7, 5, 0, 7, 0, 3, 0, 2, 1, 7, 5, 8, 1, 3, 1, 0, 4, 4, 4, 6, 4, 0, 4, 6, 6, 7, 1, 5, 4, 1, 7, 7, 8, 2, 5, 2, 3, 0, 6, 8, 2, 8, 2, 7, 3, 3, 6, 7, 5, 0, 7, 5, 1, 3, 3, 3, 2, 3, 1, 2, 7, 3, 4, 3, 6, 4, 1, 4, 4, 0, 7, 7, 8, 8, 5, 5, 2, 6, 5, 6, 7, 8, 2, 4, 3, 6, 2, 2, 3, 4, 5, 2, 6, 7, 6, 4, 2, 5, 7, 6, 0, 4, 5, 3, 6, 2, 3, 5, 2, 2, 4, 8, 1, 1, 2, 2, 6, 8, 4, 0, 5, 1, 8, 5, 4, 4, 5, 1, 4, 3, 6, 0, 2, 1, 3, 2, 7, 1, 0, 6, 7, 6, 7, 6, 1, 6, 1, 4, 3, 3, 6, 0, 6, 5, 6, 5, 8, 0, 2, 4, 2, 1, 7, 5, 7, 6, 3, 1, 4, 3, 3, 0, 8, 7, 5, 6, 6, 2, 2, 6, 8, 0, 3, 3, 8, 2, 5, 3, 4, 6, 5, 6, 3, 0, 3, 6, 2, 6, 6, 7, 7, 1, 4, 1, 5, 5, 6, 6, 8, 4, 2, 4, 5, 3, 3, 3, 1, 3, 7, 0, 3, 5, 2, 2, 6, 7, 7, 3, 0, 7, 6, 2, 8, 6]\n",
            "Files processed =  110\n",
            "[6, 1, 3, 8, 3, 7, 3, 6, 3, 0, 4, 2, 5, 0, 5, 2, 1, 2, 7, 3, 5, 3, 8, 5, 1, 2, 3, 5, 3, 0, 1, 3, 5, 6, 5, 6, 7, 0, 5, 7, 4, 3, 2, 8, 3, 6, 8, 6, 8, 1, 8, 0, 6, 0, 5, 2, 8, 1, 5, 1, 5, 2, 5, 2, 0, 3, 6, 0, 5, 7, 1, 4, 6, 7, 0, 3, 1, 2, 0, 5, 5, 1, 0, 5, 0, 8, 2, 5, 0, 6, 1, 4, 6, 3, 2, 1, 5, 1, 1, 2, 5, 0, 6, 8, 8, 4, 8, 6, 3, 2, 3, 0, 8, 1, 4, 1, 6, 6, 1, 4, 2, 1, 8, 8, 2, 5, 1, 2, 1, 1, 3, 3, 2, 6, 3, 0, 3, 2, 7, 0, 3, 1, 5, 4, 1, 8, 5, 8, 1, 8, 6, 8, 0, 0, 2, 5, 6, 0, 3, 5, 0, 1, 5, 7, 8, 3, 3, 2, 8, 1, 7, 5, 0, 1, 8, 0, 0, 2, 1, 5, 3, 3, 1, 6, 1, 2, 3, 3, 5, 6, 4, 8, 3, 6, 6, 7, 1, 3, 0, 1, 5, 5, 3, 2, 5, 2, 3, 0, 6, 5, 2, 8, 2, 5, 0, 3, 6, 7, 2, 0, 5, 3, 1, 3, 3, 3, 5, 0, 1, 2, 2, 2, 5, 4, 6, 0, 1, 1, 3, 5, 1, 7, 5, 8, 3, 3, 2, 6, 3, 6, 1, 8, 2, 5, 1, 6, 2, 2, 3, 6, 2, 2, 6, 1, 6, 4, 2, 8, 1, 6, 0, 3, 5, 6, 6, 3, 6, 6, 2, 2, 4, 8, 1, 3, 2, 2, 6, 8, 8, 0, 2, 1, 5, 0, 0, 3, 8, 1, 5, 5, 6, 0, 2, 1, 3, 2, 7, 1, 0, 6, 7, 6, 1, 6, 1, 6, 3, 3, 3, 0, 6, 2, 6, 5, 6, 5, 8, 8, 2, 3, 2, 1, 5, 5, 0, 6, 1, 1, 3, 6, 5, 0, 7, 1, 5, 6, 6, 2, 2, 6, 8, 2, 3, 8, 8, 2, 3, 8, 8, 6, 5, 6, 0, 8, 5, 6, 2, 6, 6, 2, 5, 1, 4, 1, 5, 5, 6, 6, 8, 3, 2, 3, 8, 5, 3, 3, 1, 3, 5, 7, 2, 5, 2, 2, 6, 5, 5, 5, 7, 7, 6, 2, 5, 6, 3, 3, 1, 1, 0, 6, 3, 2, 1, 2, 4, 6, 1, 1, 4, 2, 2, 8, 8, 8, 7, 1, 8, 8, 5, 1, 3, 0, 2, 1, 1, 5, 8, 5, 4, 1, 5, 5, 5, 1]\n",
            "[3, 1, 4, 0, 3, 7, 8, 4, 5, 4, 0, 4, 8, 0, 3, 2, 1, 2, 7, 4, 7, 3, 5, 8, 1, 2, 3, 5, 4, 7, 1, 7, 5, 4, 8, 6, 7, 0, 5, 1, 4, 3, 2, 8, 4, 6, 5, 6, 5, 1, 8, 4, 4, 0, 7, 2, 5, 1, 1, 1, 7, 0, 7, 2, 0, 8, 6, 0, 8, 7, 7, 4, 6, 0, 4, 4, 1, 2, 0, 5, 4, 1, 5, 5, 0, 5, 2, 0, 0, 3, 1, 4, 6, 4, 2, 1, 0, 1, 1, 2, 0, 0, 3, 5, 8, 4, 0, 6, 4, 2, 3, 0, 8, 1, 7, 3, 6, 6, 1, 3, 2, 7, 8, 8, 2, 5, 1, 2, 7, 1, 3, 3, 2, 6, 1, 0, 8, 2, 7, 2, 3, 1, 8, 4, 1, 8, 4, 8, 7, 8, 6, 8, 0, 0, 5, 3, 6, 0, 4, 5, 0, 7, 5, 7, 8, 7, 0, 8, 0, 1, 7, 5, 0, 7, 0, 3, 0, 2, 1, 7, 5, 8, 1, 3, 1, 0, 4, 4, 4, 6, 4, 0, 4, 6, 6, 7, 1, 5, 4, 1, 7, 7, 8, 2, 5, 2, 3, 0, 6, 8, 2, 8, 2, 7, 3, 3, 6, 7, 5, 0, 7, 5, 1, 3, 3, 3, 2, 3, 1, 2, 7, 3, 4, 3, 6, 4, 1, 4, 4, 0, 7, 7, 8, 8, 5, 5, 2, 6, 5, 6, 7, 8, 2, 4, 3, 6, 2, 2, 3, 4, 5, 2, 6, 7, 6, 4, 2, 5, 7, 6, 0, 4, 5, 3, 6, 2, 3, 5, 2, 2, 4, 8, 1, 1, 2, 2, 6, 8, 4, 0, 5, 1, 8, 5, 4, 4, 5, 1, 4, 3, 6, 0, 2, 1, 3, 2, 7, 1, 0, 6, 7, 6, 7, 6, 1, 6, 1, 4, 3, 3, 6, 0, 6, 5, 6, 5, 8, 0, 2, 4, 2, 1, 7, 5, 7, 6, 3, 1, 4, 3, 3, 0, 8, 7, 5, 6, 6, 2, 2, 6, 8, 0, 3, 3, 8, 2, 5, 3, 4, 6, 5, 6, 3, 0, 3, 6, 2, 6, 6, 7, 7, 1, 4, 1, 5, 5, 6, 6, 8, 4, 2, 4, 5, 3, 3, 3, 1, 3, 7, 0, 3, 5, 2, 2, 6, 7, 7, 3, 0, 7, 6, 2, 8, 6, 4, 3, 7, 1, 0, 6, 8, 0, 1, 2, 4, 5, 1, 1, 4, 2, 2, 5, 5, 5, 7, 1, 8, 7, 3, 1, 3, 8, 2, 1, 1, 8, 8, 1, 5, 7, 7, 4, 8, 7]\n",
            "Files processed =  120\n",
            "[6, 1, 3, 8, 3, 7, 3, 6, 3, 0, 4, 2, 5, 0, 5, 2, 1, 2, 7, 3, 5, 3, 8, 5, 1, 2, 3, 5, 3, 0, 1, 3, 5, 6, 5, 6, 7, 0, 5, 7, 4, 3, 2, 8, 3, 6, 8, 6, 8, 1, 8, 0, 6, 0, 5, 2, 8, 1, 5, 1, 5, 2, 5, 2, 0, 3, 6, 0, 5, 7, 1, 4, 6, 7, 0, 3, 1, 2, 0, 5, 5, 1, 0, 5, 0, 8, 2, 5, 0, 6, 1, 4, 6, 3, 2, 1, 5, 1, 1, 2, 5, 0, 6, 8, 8, 4, 8, 6, 3, 2, 3, 0, 8, 1, 4, 1, 6, 6, 1, 4, 2, 1, 8, 8, 2, 5, 1, 2, 1, 1, 3, 3, 2, 6, 3, 0, 3, 2, 7, 0, 3, 1, 5, 4, 1, 8, 5, 8, 1, 8, 6, 8, 0, 0, 2, 5, 6, 0, 3, 5, 0, 1, 5, 7, 8, 3, 3, 2, 8, 1, 7, 5, 0, 1, 8, 0, 0, 2, 1, 5, 3, 3, 1, 6, 1, 2, 3, 3, 5, 6, 4, 8, 3, 6, 6, 7, 1, 3, 0, 1, 5, 5, 3, 2, 5, 2, 3, 0, 6, 5, 2, 8, 2, 5, 0, 3, 6, 7, 2, 0, 5, 3, 1, 3, 3, 3, 5, 0, 1, 2, 2, 2, 5, 4, 6, 0, 1, 1, 3, 5, 1, 7, 5, 8, 3, 3, 2, 6, 3, 6, 1, 8, 2, 5, 1, 6, 2, 2, 3, 6, 2, 2, 6, 1, 6, 4, 2, 8, 1, 6, 0, 3, 5, 6, 6, 3, 6, 6, 2, 2, 4, 8, 1, 3, 2, 2, 6, 8, 8, 0, 2, 1, 5, 0, 0, 3, 8, 1, 5, 5, 6, 0, 2, 1, 3, 2, 7, 1, 0, 6, 7, 6, 1, 6, 1, 6, 3, 3, 3, 0, 6, 2, 6, 5, 6, 5, 8, 8, 2, 3, 2, 1, 5, 5, 0, 6, 1, 1, 3, 6, 5, 0, 7, 1, 5, 6, 6, 2, 2, 6, 8, 2, 3, 8, 8, 2, 3, 8, 8, 6, 5, 6, 0, 8, 5, 6, 2, 6, 6, 2, 5, 1, 4, 1, 5, 5, 6, 6, 8, 3, 2, 3, 8, 5, 3, 3, 1, 3, 5, 7, 2, 5, 2, 2, 6, 5, 5, 5, 7, 7, 6, 2, 5, 6, 3, 3, 1, 1, 0, 6, 3, 2, 1, 2, 4, 6, 1, 1, 4, 2, 2, 8, 8, 8, 7, 1, 8, 8, 5, 1, 3, 0, 2, 1, 1, 5, 8, 5, 4, 1, 5, 5, 5, 1, 6, 8, 3, 5, 6, 3, 2, 2, 0, 1, 8, 3, 5, 5, 2, 2, 2, 5, 5, 5, 6, 2, 8, 3, 8, 1, 0, 3, 1, 3, 6, 0, 3, 7, 2, 2, 7, 5, 7, 0]\n",
            "[3, 1, 4, 0, 3, 7, 8, 4, 5, 4, 0, 4, 8, 0, 3, 2, 1, 2, 7, 4, 7, 3, 5, 8, 1, 2, 3, 5, 4, 7, 1, 7, 5, 4, 8, 6, 7, 0, 5, 1, 4, 3, 2, 8, 4, 6, 5, 6, 5, 1, 8, 4, 4, 0, 7, 2, 5, 1, 1, 1, 7, 0, 7, 2, 0, 8, 6, 0, 8, 7, 7, 4, 6, 0, 4, 4, 1, 2, 0, 5, 4, 1, 5, 5, 0, 5, 2, 0, 0, 3, 1, 4, 6, 4, 2, 1, 0, 1, 1, 2, 0, 0, 3, 5, 8, 4, 0, 6, 4, 2, 3, 0, 8, 1, 7, 3, 6, 6, 1, 3, 2, 7, 8, 8, 2, 5, 1, 2, 7, 1, 3, 3, 2, 6, 1, 0, 8, 2, 7, 2, 3, 1, 8, 4, 1, 8, 4, 8, 7, 8, 6, 8, 0, 0, 5, 3, 6, 0, 4, 5, 0, 7, 5, 7, 8, 7, 0, 8, 0, 1, 7, 5, 0, 7, 0, 3, 0, 2, 1, 7, 5, 8, 1, 3, 1, 0, 4, 4, 4, 6, 4, 0, 4, 6, 6, 7, 1, 5, 4, 1, 7, 7, 8, 2, 5, 2, 3, 0, 6, 8, 2, 8, 2, 7, 3, 3, 6, 7, 5, 0, 7, 5, 1, 3, 3, 3, 2, 3, 1, 2, 7, 3, 4, 3, 6, 4, 1, 4, 4, 0, 7, 7, 8, 8, 5, 5, 2, 6, 5, 6, 7, 8, 2, 4, 3, 6, 2, 2, 3, 4, 5, 2, 6, 7, 6, 4, 2, 5, 7, 6, 0, 4, 5, 3, 6, 2, 3, 5, 2, 2, 4, 8, 1, 1, 2, 2, 6, 8, 4, 0, 5, 1, 8, 5, 4, 4, 5, 1, 4, 3, 6, 0, 2, 1, 3, 2, 7, 1, 0, 6, 7, 6, 7, 6, 1, 6, 1, 4, 3, 3, 6, 0, 6, 5, 6, 5, 8, 0, 2, 4, 2, 1, 7, 5, 7, 6, 3, 1, 4, 3, 3, 0, 8, 7, 5, 6, 6, 2, 2, 6, 8, 0, 3, 3, 8, 2, 5, 3, 4, 6, 5, 6, 3, 0, 3, 6, 2, 6, 6, 7, 7, 1, 4, 1, 5, 5, 6, 6, 8, 4, 2, 4, 5, 3, 3, 3, 1, 3, 7, 0, 3, 5, 2, 2, 6, 7, 7, 3, 0, 7, 6, 2, 8, 6, 4, 3, 7, 1, 0, 6, 8, 0, 1, 2, 4, 5, 1, 1, 4, 2, 2, 5, 5, 5, 7, 1, 8, 7, 3, 1, 3, 8, 2, 1, 1, 8, 8, 1, 5, 7, 7, 4, 8, 7, 6, 8, 3, 7, 6, 1, 2, 3, 0, 1, 0, 8, 5, 5, 2, 2, 2, 3, 8, 7, 6, 8, 8, 8, 5, 1, 0, 5, 1, 8, 6, 0, 4, 7, 0, 2, 7, 8, 7, 0]\n",
            "Files processed =  130\n",
            "[6, 1, 3, 8, 3, 7, 3, 6, 3, 0, 4, 2, 5, 0, 5, 2, 1, 2, 7, 3, 5, 3, 8, 5, 1, 2, 3, 5, 3, 0, 1, 3, 5, 6, 5, 6, 7, 0, 5, 7, 4, 3, 2, 8, 3, 6, 8, 6, 8, 1, 8, 0, 6, 0, 5, 2, 8, 1, 5, 1, 5, 2, 5, 2, 0, 3, 6, 0, 5, 7, 1, 4, 6, 7, 0, 3, 1, 2, 0, 5, 5, 1, 0, 5, 0, 8, 2, 5, 0, 6, 1, 4, 6, 3, 2, 1, 5, 1, 1, 2, 5, 0, 6, 8, 8, 4, 8, 6, 3, 2, 3, 0, 8, 1, 4, 1, 6, 6, 1, 4, 2, 1, 8, 8, 2, 5, 1, 2, 1, 1, 3, 3, 2, 6, 3, 0, 3, 2, 7, 0, 3, 1, 5, 4, 1, 8, 5, 8, 1, 8, 6, 8, 0, 0, 2, 5, 6, 0, 3, 5, 0, 1, 5, 7, 8, 3, 3, 2, 8, 1, 7, 5, 0, 1, 8, 0, 0, 2, 1, 5, 3, 3, 1, 6, 1, 2, 3, 3, 5, 6, 4, 8, 3, 6, 6, 7, 1, 3, 0, 1, 5, 5, 3, 2, 5, 2, 3, 0, 6, 5, 2, 8, 2, 5, 0, 3, 6, 7, 2, 0, 5, 3, 1, 3, 3, 3, 5, 0, 1, 2, 2, 2, 5, 4, 6, 0, 1, 1, 3, 5, 1, 7, 5, 8, 3, 3, 2, 6, 3, 6, 1, 8, 2, 5, 1, 6, 2, 2, 3, 6, 2, 2, 6, 1, 6, 4, 2, 8, 1, 6, 0, 3, 5, 6, 6, 3, 6, 6, 2, 2, 4, 8, 1, 3, 2, 2, 6, 8, 8, 0, 2, 1, 5, 0, 0, 3, 8, 1, 5, 5, 6, 0, 2, 1, 3, 2, 7, 1, 0, 6, 7, 6, 1, 6, 1, 6, 3, 3, 3, 0, 6, 2, 6, 5, 6, 5, 8, 8, 2, 3, 2, 1, 5, 5, 0, 6, 1, 1, 3, 6, 5, 0, 7, 1, 5, 6, 6, 2, 2, 6, 8, 2, 3, 8, 8, 2, 3, 8, 8, 6, 5, 6, 0, 8, 5, 6, 2, 6, 6, 2, 5, 1, 4, 1, 5, 5, 6, 6, 8, 3, 2, 3, 8, 5, 3, 3, 1, 3, 5, 7, 2, 5, 2, 2, 6, 5, 5, 5, 7, 7, 6, 2, 5, 6, 3, 3, 1, 1, 0, 6, 3, 2, 1, 2, 4, 6, 1, 1, 4, 2, 2, 8, 8, 8, 7, 1, 8, 8, 5, 1, 3, 0, 2, 1, 1, 5, 8, 5, 4, 1, 5, 5, 5, 1, 6, 8, 3, 5, 6, 3, 2, 2, 0, 1, 8, 3, 5, 5, 2, 2, 2, 5, 5, 5, 6, 2, 8, 3, 8, 1, 0, 3, 1, 3, 6, 0, 3, 7, 2, 2, 7, 5, 7, 0, 2, 2, 3, 5, 4, 6, 8, 3, 8, 0, 7, 4, 5, 5, 5, 7, 6, 2, 5, 8, 5, 6, 5, 8, 5, 1, 6, 3, 3, 5, 5, 3, 1, 6, 6, 8, 5, 6, 8, 3]\n",
            "[3, 1, 4, 0, 3, 7, 8, 4, 5, 4, 0, 4, 8, 0, 3, 2, 1, 2, 7, 4, 7, 3, 5, 8, 1, 2, 3, 5, 4, 7, 1, 7, 5, 4, 8, 6, 7, 0, 5, 1, 4, 3, 2, 8, 4, 6, 5, 6, 5, 1, 8, 4, 4, 0, 7, 2, 5, 1, 1, 1, 7, 0, 7, 2, 0, 8, 6, 0, 8, 7, 7, 4, 6, 0, 4, 4, 1, 2, 0, 5, 4, 1, 5, 5, 0, 5, 2, 0, 0, 3, 1, 4, 6, 4, 2, 1, 0, 1, 1, 2, 0, 0, 3, 5, 8, 4, 0, 6, 4, 2, 3, 0, 8, 1, 7, 3, 6, 6, 1, 3, 2, 7, 8, 8, 2, 5, 1, 2, 7, 1, 3, 3, 2, 6, 1, 0, 8, 2, 7, 2, 3, 1, 8, 4, 1, 8, 4, 8, 7, 8, 6, 8, 0, 0, 5, 3, 6, 0, 4, 5, 0, 7, 5, 7, 8, 7, 0, 8, 0, 1, 7, 5, 0, 7, 0, 3, 0, 2, 1, 7, 5, 8, 1, 3, 1, 0, 4, 4, 4, 6, 4, 0, 4, 6, 6, 7, 1, 5, 4, 1, 7, 7, 8, 2, 5, 2, 3, 0, 6, 8, 2, 8, 2, 7, 3, 3, 6, 7, 5, 0, 7, 5, 1, 3, 3, 3, 2, 3, 1, 2, 7, 3, 4, 3, 6, 4, 1, 4, 4, 0, 7, 7, 8, 8, 5, 5, 2, 6, 5, 6, 7, 8, 2, 4, 3, 6, 2, 2, 3, 4, 5, 2, 6, 7, 6, 4, 2, 5, 7, 6, 0, 4, 5, 3, 6, 2, 3, 5, 2, 2, 4, 8, 1, 1, 2, 2, 6, 8, 4, 0, 5, 1, 8, 5, 4, 4, 5, 1, 4, 3, 6, 0, 2, 1, 3, 2, 7, 1, 0, 6, 7, 6, 7, 6, 1, 6, 1, 4, 3, 3, 6, 0, 6, 5, 6, 5, 8, 0, 2, 4, 2, 1, 7, 5, 7, 6, 3, 1, 4, 3, 3, 0, 8, 7, 5, 6, 6, 2, 2, 6, 8, 0, 3, 3, 8, 2, 5, 3, 4, 6, 5, 6, 3, 0, 3, 6, 2, 6, 6, 7, 7, 1, 4, 1, 5, 5, 6, 6, 8, 4, 2, 4, 5, 3, 3, 3, 1, 3, 7, 0, 3, 5, 2, 2, 6, 7, 7, 3, 0, 7, 6, 2, 8, 6, 4, 3, 7, 1, 0, 6, 8, 0, 1, 2, 4, 5, 1, 1, 4, 2, 2, 5, 5, 5, 7, 1, 8, 7, 3, 1, 3, 8, 2, 1, 1, 8, 8, 1, 5, 7, 7, 4, 8, 7, 6, 8, 3, 7, 6, 1, 2, 3, 0, 1, 0, 8, 5, 5, 2, 2, 2, 3, 8, 7, 6, 8, 8, 8, 5, 1, 0, 5, 1, 8, 6, 0, 4, 7, 0, 2, 7, 8, 7, 0, 7, 0, 4, 3, 4, 6, 8, 1, 8, 4, 7, 4, 3, 5, 5, 7, 6, 2, 7, 5, 5, 6, 8, 0, 8, 4, 6, 3, 3, 3, 5, 3, 1, 6, 6, 0, 5, 6, 8, 8]\n"
          ],
          "name": "stdout"
        },
        {
          "output_type": "stream",
          "text": [
            "\r  4%|▎         | 6/170 [2:35:45<70:51:27, 1555.41s/it]"
          ],
          "name": "stderr"
        },
        {
          "output_type": "stream",
          "text": [
            "Accuracy epoch 35  =  0.5792349726775956\n",
            "tensor(0.5618, device='cuda:0', grad_fn=<NllLossBackward>)\n",
            "tensor(2.0026, device='cuda:0', grad_fn=<NllLossBackward>)\n",
            "tensor(0.3088, device='cuda:0', grad_fn=<NllLossBackward>)\n",
            "tensor(1.4039, device='cuda:0', grad_fn=<NllLossBackward>)\n",
            "tensor(2.4932, device='cuda:0', grad_fn=<NllLossBackward>)\n",
            "tensor(0.6446, device='cuda:0', grad_fn=<NllLossBackward>)\n",
            "tensor(0.9798, device='cuda:0', grad_fn=<NllLossBackward>)\n",
            "tensor(0.5103, device='cuda:0', grad_fn=<NllLossBackward>)\n",
            "tensor(1.0938, device='cuda:0', grad_fn=<NllLossBackward>)\n",
            "tensor(0.6084, device='cuda:0', grad_fn=<NllLossBackward>)\n",
            "tensor(0.6826, device='cuda:0', grad_fn=<NllLossBackward>)\n",
            "COST epoch 36  =  [tensor(1111.4436), tensor(990.5597), tensor(934.4700), tensor(874.6571), tensor(822.8998), tensor(800.3447), tensor(765.9095), tensor(740.0458), tensor(718.9320), tensor(719.7072), tensor(693.2490), tensor(697.7689), tensor(672.8008), tensor(661.9917), tensor(658.5683), tensor(635.4274), tensor(631.2565), tensor(615.2205), tensor(607.1673), tensor(607.2458), tensor(606.9468), tensor(562.4706), tensor(572.2747), tensor(568.2372), tensor(549.9225), tensor(549.4277), tensor(539.3239), tensor(530.7670), tensor(519.7222), tensor(514.4471), tensor(505.1449), tensor(497.7492), tensor(483.2874, device='cuda:0'), tensor(486.2227, device='cuda:0'), tensor(471.6280, device='cuda:0'), tensor(463.2786, device='cuda:0'), tensor(463.6834, device='cuda:0'), tensor(461.9894, device='cuda:0'), tensor(444.4067, device='cuda:0')]\n",
            "Files processed =  0\n",
            "[2, 2, 7, 8]\n",
            "[2, 2, 3, 8]\n",
            "Files processed =  10\n",
            "[2, 2, 7, 8, 1, 1, 6, 8, 7, 1, 6, 0, 4, 3, 3, 5, 1, 4, 3, 2, 1, 6, 5, 3, 3, 3, 1, 5, 7, 4, 3, 0, 4, 0, 1, 8, 3, 1, 4, 5, 1, 5, 2, 3]\n",
            "[2, 2, 3, 8, 1, 1, 6, 5, 7, 7, 6, 0, 7, 7, 4, 5, 7, 3, 3, 2, 7, 6, 7, 5, 3, 4, 7, 4, 3, 5, 8, 0, 8, 4, 1, 8, 3, 1, 3, 5, 7, 5, 2, 3]\n",
            "Files processed =  20\n",
            "[2, 2, 7, 8, 1, 1, 6, 8, 7, 1, 6, 0, 4, 3, 3, 5, 1, 4, 3, 2, 1, 6, 5, 3, 3, 3, 1, 5, 7, 4, 3, 0, 4, 0, 1, 8, 3, 1, 4, 5, 1, 5, 2, 3, 5, 4, 3, 8, 3, 8, 1, 8, 5, 3, 3, 1, 8, 1, 4, 3, 3, 3, 5, 2, 0, 1, 3, 1, 3, 8, 6, 8, 2, 5, 6, 3, 1, 1, 1, 3, 8, 5, 6, 3]\n",
            "[2, 2, 3, 8, 1, 1, 6, 5, 7, 7, 6, 0, 7, 7, 4, 5, 7, 3, 3, 2, 7, 6, 7, 5, 3, 4, 7, 4, 3, 5, 8, 0, 8, 4, 1, 8, 3, 1, 3, 5, 7, 5, 2, 3, 7, 4, 4, 5, 3, 8, 1, 0, 5, 3, 3, 1, 8, 1, 5, 3, 3, 3, 7, 2, 0, 1, 0, 7, 7, 2, 6, 3, 2, 3, 6, 3, 1, 4, 7, 4, 2, 7, 6, 8]\n",
            "Files processed =  30\n",
            "[2, 2, 7, 8, 1, 1, 6, 8, 7, 1, 6, 0, 4, 3, 3, 5, 1, 4, 3, 2, 1, 6, 5, 3, 3, 3, 1, 5, 7, 4, 3, 0, 4, 0, 1, 8, 3, 1, 4, 5, 1, 5, 2, 3, 5, 4, 3, 8, 3, 8, 1, 8, 5, 3, 3, 1, 8, 1, 4, 3, 3, 3, 5, 2, 0, 1, 3, 1, 3, 8, 6, 8, 2, 5, 6, 3, 1, 1, 1, 3, 8, 5, 6, 3, 4, 1, 1, 8, 8, 0, 4, 3, 1, 1, 3, 2, 3, 0, 5, 0, 2, 2, 6, 2, 7, 0, 8, 3, 8, 5, 3, 1, 8, 0, 7, 8, 8, 3, 2, 1, 1, 3, 8, 3]\n",
            "[2, 2, 3, 8, 1, 1, 6, 5, 7, 7, 6, 0, 7, 7, 4, 5, 7, 3, 3, 2, 7, 6, 7, 5, 3, 4, 7, 4, 3, 5, 8, 0, 8, 4, 1, 8, 3, 1, 3, 5, 7, 5, 2, 3, 7, 4, 4, 5, 3, 8, 1, 0, 5, 3, 3, 1, 8, 1, 5, 3, 3, 3, 7, 2, 0, 1, 0, 7, 7, 2, 6, 3, 2, 3, 6, 3, 1, 4, 7, 4, 2, 7, 6, 8, 0, 7, 1, 0, 8, 3, 4, 5, 7, 1, 8, 2, 3, 0, 8, 0, 2, 5, 6, 3, 7, 0, 5, 3, 8, 5, 3, 1, 0, 7, 7, 5, 5, 3, 2, 1, 1, 1, 8, 1]\n",
            "Files processed =  40\n",
            "[2, 2, 7, 8, 1, 1, 6, 8, 7, 1, 6, 0, 4, 3, 3, 5, 1, 4, 3, 2, 1, 6, 5, 3, 3, 3, 1, 5, 7, 4, 3, 0, 4, 0, 1, 8, 3, 1, 4, 5, 1, 5, 2, 3, 5, 4, 3, 8, 3, 8, 1, 8, 5, 3, 3, 1, 8, 1, 4, 3, 3, 3, 5, 2, 0, 1, 3, 1, 3, 8, 6, 8, 2, 5, 6, 3, 1, 1, 1, 3, 8, 5, 6, 3, 4, 1, 1, 8, 8, 0, 4, 3, 1, 1, 3, 2, 3, 0, 5, 0, 2, 2, 6, 2, 7, 0, 8, 3, 8, 5, 3, 1, 8, 0, 7, 8, 8, 3, 2, 1, 1, 3, 8, 3, 2, 3, 0, 8, 6, 3, 1, 1, 0, 2, 7, 5, 0, 3, 2, 5, 3, 3, 3, 6, 5, 8, 3, 6, 0, 1, 0, 5, 1, 0, 1, 3, 2, 8, 1, 5, 1, 7, 4, 8]\n",
            "[2, 2, 3, 8, 1, 1, 6, 5, 7, 7, 6, 0, 7, 7, 4, 5, 7, 3, 3, 2, 7, 6, 7, 5, 3, 4, 7, 4, 3, 5, 8, 0, 8, 4, 1, 8, 3, 1, 3, 5, 7, 5, 2, 3, 7, 4, 4, 5, 3, 8, 1, 0, 5, 3, 3, 1, 8, 1, 5, 3, 3, 3, 7, 2, 0, 1, 0, 7, 7, 2, 6, 3, 2, 3, 6, 3, 1, 4, 7, 4, 2, 7, 6, 8, 0, 7, 1, 0, 8, 3, 4, 5, 7, 1, 8, 2, 3, 0, 8, 0, 2, 5, 6, 3, 7, 0, 5, 3, 8, 5, 3, 1, 0, 7, 7, 5, 5, 3, 2, 1, 1, 1, 8, 1, 2, 5, 3, 5, 6, 3, 1, 1, 3, 2, 7, 0, 0, 2, 2, 7, 4, 4, 7, 6, 7, 8, 4, 6, 0, 1, 2, 8, 1, 0, 1, 5, 8, 0, 1, 3, 4, 0, 4, 8]\n",
            "Files processed =  50\n",
            "[2, 2, 7, 8, 1, 1, 6, 8, 7, 1, 6, 0, 4, 3, 3, 5, 1, 4, 3, 2, 1, 6, 5, 3, 3, 3, 1, 5, 7, 4, 3, 0, 4, 0, 1, 8, 3, 1, 4, 5, 1, 5, 2, 3, 5, 4, 3, 8, 3, 8, 1, 8, 5, 3, 3, 1, 8, 1, 4, 3, 3, 3, 5, 2, 0, 1, 3, 1, 3, 8, 6, 8, 2, 5, 6, 3, 1, 1, 1, 3, 8, 5, 6, 3, 4, 1, 1, 8, 8, 0, 4, 3, 1, 1, 3, 2, 3, 0, 5, 0, 2, 2, 6, 2, 7, 0, 8, 3, 8, 5, 3, 1, 8, 0, 7, 8, 8, 3, 2, 1, 1, 3, 8, 3, 2, 3, 0, 8, 6, 3, 1, 1, 0, 2, 7, 5, 0, 3, 2, 5, 3, 3, 3, 6, 5, 8, 3, 6, 0, 1, 0, 5, 1, 0, 1, 3, 2, 8, 1, 5, 1, 7, 4, 8, 8, 5, 2, 2, 8, 5, 4, 0, 1, 3, 2, 2, 3, 6, 3, 0, 2, 5, 1, 5, 2, 4, 5, 6, 1, 7, 8, 7, 0, 6, 2, 6, 2, 2, 1, 8, 8, 1, 1, 4]\n",
            "[2, 2, 3, 8, 1, 1, 6, 5, 7, 7, 6, 0, 7, 7, 4, 5, 7, 3, 3, 2, 7, 6, 7, 5, 3, 4, 7, 4, 3, 5, 8, 0, 8, 4, 1, 8, 3, 1, 3, 5, 7, 5, 2, 3, 7, 4, 4, 5, 3, 8, 1, 0, 5, 3, 3, 1, 8, 1, 5, 3, 3, 3, 7, 2, 0, 1, 0, 7, 7, 2, 6, 3, 2, 3, 6, 3, 1, 4, 7, 4, 2, 7, 6, 8, 0, 7, 1, 0, 8, 3, 4, 5, 7, 1, 8, 2, 3, 0, 8, 0, 2, 5, 6, 3, 7, 0, 5, 3, 8, 5, 3, 1, 0, 7, 7, 5, 5, 3, 2, 1, 1, 1, 8, 1, 2, 5, 3, 5, 6, 3, 1, 1, 3, 2, 7, 0, 0, 2, 2, 7, 4, 4, 7, 6, 7, 8, 4, 6, 0, 1, 2, 8, 1, 0, 1, 5, 8, 0, 1, 3, 4, 0, 4, 8, 4, 5, 2, 2, 5, 8, 4, 0, 1, 1, 2, 2, 8, 6, 3, 0, 2, 5, 3, 5, 2, 4, 1, 6, 1, 7, 5, 8, 0, 6, 2, 3, 2, 2, 7, 8, 3, 1, 1, 4]\n",
            "Files processed =  60\n",
            "[2, 2, 7, 8, 1, 1, 6, 8, 7, 1, 6, 0, 4, 3, 3, 5, 1, 4, 3, 2, 1, 6, 5, 3, 3, 3, 1, 5, 7, 4, 3, 0, 4, 0, 1, 8, 3, 1, 4, 5, 1, 5, 2, 3, 5, 4, 3, 8, 3, 8, 1, 8, 5, 3, 3, 1, 8, 1, 4, 3, 3, 3, 5, 2, 0, 1, 3, 1, 3, 8, 6, 8, 2, 5, 6, 3, 1, 1, 1, 3, 8, 5, 6, 3, 4, 1, 1, 8, 8, 0, 4, 3, 1, 1, 3, 2, 3, 0, 5, 0, 2, 2, 6, 2, 7, 0, 8, 3, 8, 5, 3, 1, 8, 0, 7, 8, 8, 3, 2, 1, 1, 3, 8, 3, 2, 3, 0, 8, 6, 3, 1, 1, 0, 2, 7, 5, 0, 3, 2, 5, 3, 3, 3, 6, 5, 8, 3, 6, 0, 1, 0, 5, 1, 0, 1, 3, 2, 8, 1, 5, 1, 7, 4, 8, 8, 5, 2, 2, 8, 5, 4, 0, 1, 3, 2, 2, 3, 6, 3, 0, 2, 5, 1, 5, 2, 4, 5, 6, 1, 7, 8, 7, 0, 6, 2, 6, 2, 2, 1, 8, 8, 1, 1, 4, 5, 2, 4, 4, 5, 8, 6, 6, 3, 7, 5, 3, 2, 5, 4, 3, 8, 0, 1, 0, 6, 6, 2, 8, 3, 6, 1, 7, 0, 8, 8, 8, 1, 4, 0, 1, 8, 0, 7, 3]\n",
            "[2, 2, 3, 8, 1, 1, 6, 5, 7, 7, 6, 0, 7, 7, 4, 5, 7, 3, 3, 2, 7, 6, 7, 5, 3, 4, 7, 4, 3, 5, 8, 0, 8, 4, 1, 8, 3, 1, 3, 5, 7, 5, 2, 3, 7, 4, 4, 5, 3, 8, 1, 0, 5, 3, 3, 1, 8, 1, 5, 3, 3, 3, 7, 2, 0, 1, 0, 7, 7, 2, 6, 3, 2, 3, 6, 3, 1, 4, 7, 4, 2, 7, 6, 8, 0, 7, 1, 0, 8, 3, 4, 5, 7, 1, 8, 2, 3, 0, 8, 0, 2, 5, 6, 3, 7, 0, 5, 3, 8, 5, 3, 1, 0, 7, 7, 5, 5, 3, 2, 1, 1, 1, 8, 1, 2, 5, 3, 5, 6, 3, 1, 1, 3, 2, 7, 0, 0, 2, 2, 7, 4, 4, 7, 6, 7, 8, 4, 6, 0, 1, 2, 8, 1, 0, 1, 5, 8, 0, 1, 3, 4, 0, 4, 8, 4, 5, 2, 2, 5, 8, 4, 0, 1, 1, 2, 2, 8, 6, 3, 0, 2, 5, 3, 5, 2, 4, 1, 6, 1, 7, 5, 8, 0, 6, 2, 3, 2, 2, 7, 8, 3, 1, 1, 4, 8, 2, 4, 5, 7, 8, 4, 6, 4, 7, 8, 8, 2, 3, 3, 8, 0, 0, 1, 0, 6, 6, 2, 3, 8, 6, 3, 7, 3, 0, 8, 5, 3, 3, 4, 1, 8, 0, 0, 5]\n",
            "Files processed =  70\n",
            "[2, 2, 7, 8, 1, 1, 6, 8, 7, 1, 6, 0, 4, 3, 3, 5, 1, 4, 3, 2, 1, 6, 5, 3, 3, 3, 1, 5, 7, 4, 3, 0, 4, 0, 1, 8, 3, 1, 4, 5, 1, 5, 2, 3, 5, 4, 3, 8, 3, 8, 1, 8, 5, 3, 3, 1, 8, 1, 4, 3, 3, 3, 5, 2, 0, 1, 3, 1, 3, 8, 6, 8, 2, 5, 6, 3, 1, 1, 1, 3, 8, 5, 6, 3, 4, 1, 1, 8, 8, 0, 4, 3, 1, 1, 3, 2, 3, 0, 5, 0, 2, 2, 6, 2, 7, 0, 8, 3, 8, 5, 3, 1, 8, 0, 7, 8, 8, 3, 2, 1, 1, 3, 8, 3, 2, 3, 0, 8, 6, 3, 1, 1, 0, 2, 7, 5, 0, 3, 2, 5, 3, 3, 3, 6, 5, 8, 3, 6, 0, 1, 0, 5, 1, 0, 1, 3, 2, 8, 1, 5, 1, 7, 4, 8, 8, 5, 2, 2, 8, 5, 4, 0, 1, 3, 2, 2, 3, 6, 3, 0, 2, 5, 1, 5, 2, 4, 5, 6, 1, 7, 8, 7, 0, 6, 2, 6, 2, 2, 1, 8, 8, 1, 1, 4, 5, 2, 4, 4, 5, 8, 6, 6, 3, 7, 5, 3, 2, 5, 4, 3, 8, 0, 1, 0, 6, 6, 2, 8, 3, 6, 1, 7, 0, 8, 8, 8, 1, 4, 0, 1, 8, 0, 7, 3, 8, 1, 6, 1, 6, 8, 5, 4, 8, 8, 1, 3, 5, 6, 5, 8, 5, 6, 2, 8, 6, 8, 6, 3, 1, 2, 8, 2, 1, 2, 4, 6, 0, 0, 0, 6, 7, 5, 4, 1]\n",
            "[2, 2, 3, 8, 1, 1, 6, 5, 7, 7, 6, 0, 7, 7, 4, 5, 7, 3, 3, 2, 7, 6, 7, 5, 3, 4, 7, 4, 3, 5, 8, 0, 8, 4, 1, 8, 3, 1, 3, 5, 7, 5, 2, 3, 7, 4, 4, 5, 3, 8, 1, 0, 5, 3, 3, 1, 8, 1, 5, 3, 3, 3, 7, 2, 0, 1, 0, 7, 7, 2, 6, 3, 2, 3, 6, 3, 1, 4, 7, 4, 2, 7, 6, 8, 0, 7, 1, 0, 8, 3, 4, 5, 7, 1, 8, 2, 3, 0, 8, 0, 2, 5, 6, 3, 7, 0, 5, 3, 8, 5, 3, 1, 0, 7, 7, 5, 5, 3, 2, 1, 1, 1, 8, 1, 2, 5, 3, 5, 6, 3, 1, 1, 3, 2, 7, 0, 0, 2, 2, 7, 4, 4, 7, 6, 7, 8, 4, 6, 0, 1, 2, 8, 1, 0, 1, 5, 8, 0, 1, 3, 4, 0, 4, 8, 4, 5, 2, 2, 5, 8, 4, 0, 1, 1, 2, 2, 8, 6, 3, 0, 2, 5, 3, 5, 2, 4, 1, 6, 1, 7, 5, 8, 0, 6, 2, 3, 2, 2, 7, 8, 3, 1, 1, 4, 8, 2, 4, 5, 7, 8, 4, 6, 4, 7, 8, 8, 2, 3, 3, 8, 0, 0, 1, 0, 6, 6, 2, 3, 8, 6, 3, 7, 3, 0, 8, 5, 3, 3, 4, 1, 8, 0, 0, 5, 8, 7, 6, 1, 3, 8, 7, 4, 3, 5, 1, 3, 8, 6, 5, 0, 5, 6, 2, 3, 6, 5, 6, 4, 1, 5, 8, 2, 7, 2, 3, 6, 0, 0, 4, 6, 7, 5, 4, 1]\n",
            "Files processed =  80\n",
            "[2, 2, 7, 8, 1, 1, 6, 8, 7, 1, 6, 0, 4, 3, 3, 5, 1, 4, 3, 2, 1, 6, 5, 3, 3, 3, 1, 5, 7, 4, 3, 0, 4, 0, 1, 8, 3, 1, 4, 5, 1, 5, 2, 3, 5, 4, 3, 8, 3, 8, 1, 8, 5, 3, 3, 1, 8, 1, 4, 3, 3, 3, 5, 2, 0, 1, 3, 1, 3, 8, 6, 8, 2, 5, 6, 3, 1, 1, 1, 3, 8, 5, 6, 3, 4, 1, 1, 8, 8, 0, 4, 3, 1, 1, 3, 2, 3, 0, 5, 0, 2, 2, 6, 2, 7, 0, 8, 3, 8, 5, 3, 1, 8, 0, 7, 8, 8, 3, 2, 1, 1, 3, 8, 3, 2, 3, 0, 8, 6, 3, 1, 1, 0, 2, 7, 5, 0, 3, 2, 5, 3, 3, 3, 6, 5, 8, 3, 6, 0, 1, 0, 5, 1, 0, 1, 3, 2, 8, 1, 5, 1, 7, 4, 8, 8, 5, 2, 2, 8, 5, 4, 0, 1, 3, 2, 2, 3, 6, 3, 0, 2, 5, 1, 5, 2, 4, 5, 6, 1, 7, 8, 7, 0, 6, 2, 6, 2, 2, 1, 8, 8, 1, 1, 4, 5, 2, 4, 4, 5, 8, 6, 6, 3, 7, 5, 3, 2, 5, 4, 3, 8, 0, 1, 0, 6, 6, 2, 8, 3, 6, 1, 7, 0, 8, 8, 8, 1, 4, 0, 1, 8, 0, 7, 3, 8, 1, 6, 1, 6, 8, 5, 4, 8, 8, 1, 3, 5, 6, 5, 8, 5, 6, 2, 8, 6, 8, 6, 3, 1, 2, 8, 2, 1, 2, 4, 6, 0, 0, 0, 6, 7, 5, 4, 1, 8, 6, 3, 3, 2, 3, 3, 8, 1, 7, 4, 7, 0, 4, 2, 1, 1, 3, 4, 4, 5, 5, 8, 1, 5, 6, 1, 6, 2, 3, 8, 1, 1, 5, 0, 6, 5, 2, 3, 5]\n",
            "[2, 2, 3, 8, 1, 1, 6, 5, 7, 7, 6, 0, 7, 7, 4, 5, 7, 3, 3, 2, 7, 6, 7, 5, 3, 4, 7, 4, 3, 5, 8, 0, 8, 4, 1, 8, 3, 1, 3, 5, 7, 5, 2, 3, 7, 4, 4, 5, 3, 8, 1, 0, 5, 3, 3, 1, 8, 1, 5, 3, 3, 3, 7, 2, 0, 1, 0, 7, 7, 2, 6, 3, 2, 3, 6, 3, 1, 4, 7, 4, 2, 7, 6, 8, 0, 7, 1, 0, 8, 3, 4, 5, 7, 1, 8, 2, 3, 0, 8, 0, 2, 5, 6, 3, 7, 0, 5, 3, 8, 5, 3, 1, 0, 7, 7, 5, 5, 3, 2, 1, 1, 1, 8, 1, 2, 5, 3, 5, 6, 3, 1, 1, 3, 2, 7, 0, 0, 2, 2, 7, 4, 4, 7, 6, 7, 8, 4, 6, 0, 1, 2, 8, 1, 0, 1, 5, 8, 0, 1, 3, 4, 0, 4, 8, 4, 5, 2, 2, 5, 8, 4, 0, 1, 1, 2, 2, 8, 6, 3, 0, 2, 5, 3, 5, 2, 4, 1, 6, 1, 7, 5, 8, 0, 6, 2, 3, 2, 2, 7, 8, 3, 1, 1, 4, 8, 2, 4, 5, 7, 8, 4, 6, 4, 7, 8, 8, 2, 3, 3, 8, 0, 0, 1, 0, 6, 6, 2, 3, 8, 6, 3, 7, 3, 0, 8, 5, 3, 3, 4, 1, 8, 0, 0, 5, 8, 7, 6, 1, 3, 8, 7, 4, 3, 5, 1, 3, 8, 6, 5, 0, 5, 6, 2, 3, 6, 5, 6, 4, 1, 5, 8, 2, 7, 2, 3, 6, 0, 0, 4, 6, 7, 5, 4, 1, 0, 6, 3, 7, 2, 4, 7, 8, 1, 7, 4, 0, 0, 4, 2, 7, 1, 8, 4, 3, 5, 5, 8, 7, 3, 6, 7, 6, 2, 5, 8, 1, 1, 7, 0, 6, 4, 2, 3, 0]\n",
            "Files processed =  90\n",
            "[2, 2, 7, 8, 1, 1, 6, 8, 7, 1, 6, 0, 4, 3, 3, 5, 1, 4, 3, 2, 1, 6, 5, 3, 3, 3, 1, 5, 7, 4, 3, 0, 4, 0, 1, 8, 3, 1, 4, 5, 1, 5, 2, 3, 5, 4, 3, 8, 3, 8, 1, 8, 5, 3, 3, 1, 8, 1, 4, 3, 3, 3, 5, 2, 0, 1, 3, 1, 3, 8, 6, 8, 2, 5, 6, 3, 1, 1, 1, 3, 8, 5, 6, 3, 4, 1, 1, 8, 8, 0, 4, 3, 1, 1, 3, 2, 3, 0, 5, 0, 2, 2, 6, 2, 7, 0, 8, 3, 8, 5, 3, 1, 8, 0, 7, 8, 8, 3, 2, 1, 1, 3, 8, 3, 2, 3, 0, 8, 6, 3, 1, 1, 0, 2, 7, 5, 0, 3, 2, 5, 3, 3, 3, 6, 5, 8, 3, 6, 0, 1, 0, 5, 1, 0, 1, 3, 2, 8, 1, 5, 1, 7, 4, 8, 8, 5, 2, 2, 8, 5, 4, 0, 1, 3, 2, 2, 3, 6, 3, 0, 2, 5, 1, 5, 2, 4, 5, 6, 1, 7, 8, 7, 0, 6, 2, 6, 2, 2, 1, 8, 8, 1, 1, 4, 5, 2, 4, 4, 5, 8, 6, 6, 3, 7, 5, 3, 2, 5, 4, 3, 8, 0, 1, 0, 6, 6, 2, 8, 3, 6, 1, 7, 0, 8, 8, 8, 1, 4, 0, 1, 8, 0, 7, 3, 8, 1, 6, 1, 6, 8, 5, 4, 8, 8, 1, 3, 5, 6, 5, 8, 5, 6, 2, 8, 6, 8, 6, 3, 1, 2, 8, 2, 1, 2, 4, 6, 0, 0, 0, 6, 7, 5, 4, 1, 8, 6, 3, 3, 2, 3, 3, 8, 1, 7, 4, 7, 0, 4, 2, 1, 1, 3, 4, 4, 5, 5, 8, 1, 5, 6, 1, 6, 2, 3, 8, 1, 1, 5, 0, 6, 5, 2, 3, 5, 5, 5, 3, 4, 5, 3, 6, 8, 5, 3, 7, 3, 0, 6, 5, 8, 8, 4, 2, 6, 1, 5, 8, 6, 5, 3, 1, 8, 5, 6, 6, 6, 0, 3, 1, 3, 2, 3, 5, 2]\n",
            "[2, 2, 3, 8, 1, 1, 6, 5, 7, 7, 6, 0, 7, 7, 4, 5, 7, 3, 3, 2, 7, 6, 7, 5, 3, 4, 7, 4, 3, 5, 8, 0, 8, 4, 1, 8, 3, 1, 3, 5, 7, 5, 2, 3, 7, 4, 4, 5, 3, 8, 1, 0, 5, 3, 3, 1, 8, 1, 5, 3, 3, 3, 7, 2, 0, 1, 0, 7, 7, 2, 6, 3, 2, 3, 6, 3, 1, 4, 7, 4, 2, 7, 6, 8, 0, 7, 1, 0, 8, 3, 4, 5, 7, 1, 8, 2, 3, 0, 8, 0, 2, 5, 6, 3, 7, 0, 5, 3, 8, 5, 3, 1, 0, 7, 7, 5, 5, 3, 2, 1, 1, 1, 8, 1, 2, 5, 3, 5, 6, 3, 1, 1, 3, 2, 7, 0, 0, 2, 2, 7, 4, 4, 7, 6, 7, 8, 4, 6, 0, 1, 2, 8, 1, 0, 1, 5, 8, 0, 1, 3, 4, 0, 4, 8, 4, 5, 2, 2, 5, 8, 4, 0, 1, 1, 2, 2, 8, 6, 3, 0, 2, 5, 3, 5, 2, 4, 1, 6, 1, 7, 5, 8, 0, 6, 2, 3, 2, 2, 7, 8, 3, 1, 1, 4, 8, 2, 4, 5, 7, 8, 4, 6, 4, 7, 8, 8, 2, 3, 3, 8, 0, 0, 1, 0, 6, 6, 2, 3, 8, 6, 3, 7, 3, 0, 8, 5, 3, 3, 4, 1, 8, 0, 0, 5, 8, 7, 6, 1, 3, 8, 7, 4, 3, 5, 1, 3, 8, 6, 5, 0, 5, 6, 2, 3, 6, 5, 6, 4, 1, 5, 8, 2, 7, 2, 3, 6, 0, 0, 4, 6, 7, 5, 4, 1, 0, 6, 3, 7, 2, 4, 7, 8, 1, 7, 4, 0, 0, 4, 2, 7, 1, 8, 4, 3, 5, 5, 8, 7, 3, 6, 7, 6, 2, 5, 8, 1, 1, 7, 0, 6, 4, 2, 3, 0, 8, 7, 3, 4, 0, 4, 6, 8, 8, 3, 0, 2, 0, 6, 5, 8, 3, 4, 2, 6, 1, 8, 8, 6, 7, 5, 1, 8, 7, 6, 6, 6, 3, 1, 1, 5, 2, 4, 5, 2]\n",
            "Files processed =  100\n",
            "[2, 2, 7, 8, 1, 1, 6, 8, 7, 1, 6, 0, 4, 3, 3, 5, 1, 4, 3, 2, 1, 6, 5, 3, 3, 3, 1, 5, 7, 4, 3, 0, 4, 0, 1, 8, 3, 1, 4, 5, 1, 5, 2, 3, 5, 4, 3, 8, 3, 8, 1, 8, 5, 3, 3, 1, 8, 1, 4, 3, 3, 3, 5, 2, 0, 1, 3, 1, 3, 8, 6, 8, 2, 5, 6, 3, 1, 1, 1, 3, 8, 5, 6, 3, 4, 1, 1, 8, 8, 0, 4, 3, 1, 1, 3, 2, 3, 0, 5, 0, 2, 2, 6, 2, 7, 0, 8, 3, 8, 5, 3, 1, 8, 0, 7, 8, 8, 3, 2, 1, 1, 3, 8, 3, 2, 3, 0, 8, 6, 3, 1, 1, 0, 2, 7, 5, 0, 3, 2, 5, 3, 3, 3, 6, 5, 8, 3, 6, 0, 1, 0, 5, 1, 0, 1, 3, 2, 8, 1, 5, 1, 7, 4, 8, 8, 5, 2, 2, 8, 5, 4, 0, 1, 3, 2, 2, 3, 6, 3, 0, 2, 5, 1, 5, 2, 4, 5, 6, 1, 7, 8, 7, 0, 6, 2, 6, 2, 2, 1, 8, 8, 1, 1, 4, 5, 2, 4, 4, 5, 8, 6, 6, 3, 7, 5, 3, 2, 5, 4, 3, 8, 0, 1, 0, 6, 6, 2, 8, 3, 6, 1, 7, 0, 8, 8, 8, 1, 4, 0, 1, 8, 0, 7, 3, 8, 1, 6, 1, 6, 8, 5, 4, 8, 8, 1, 3, 5, 6, 5, 8, 5, 6, 2, 8, 6, 8, 6, 3, 1, 2, 8, 2, 1, 2, 4, 6, 0, 0, 0, 6, 7, 5, 4, 1, 8, 6, 3, 3, 2, 3, 3, 8, 1, 7, 4, 7, 0, 4, 2, 1, 1, 3, 4, 4, 5, 5, 8, 1, 5, 6, 1, 6, 2, 3, 8, 1, 1, 5, 0, 6, 5, 2, 3, 5, 5, 5, 3, 4, 5, 3, 6, 8, 5, 3, 7, 3, 0, 6, 5, 8, 8, 4, 2, 6, 1, 5, 8, 6, 5, 3, 1, 8, 5, 6, 6, 6, 0, 3, 1, 3, 2, 3, 5, 2, 8, 0, 8, 1, 4, 1, 1, 8, 3, 1, 8, 3, 0, 2, 5, 1, 2, 5, 2, 3, 3, 1, 6, 3, 2, 6, 1, 3, 8, 6, 6, 3, 5, 6, 1, 5, 6, 3, 2, 2]\n",
            "[2, 2, 3, 8, 1, 1, 6, 5, 7, 7, 6, 0, 7, 7, 4, 5, 7, 3, 3, 2, 7, 6, 7, 5, 3, 4, 7, 4, 3, 5, 8, 0, 8, 4, 1, 8, 3, 1, 3, 5, 7, 5, 2, 3, 7, 4, 4, 5, 3, 8, 1, 0, 5, 3, 3, 1, 8, 1, 5, 3, 3, 3, 7, 2, 0, 1, 0, 7, 7, 2, 6, 3, 2, 3, 6, 3, 1, 4, 7, 4, 2, 7, 6, 8, 0, 7, 1, 0, 8, 3, 4, 5, 7, 1, 8, 2, 3, 0, 8, 0, 2, 5, 6, 3, 7, 0, 5, 3, 8, 5, 3, 1, 0, 7, 7, 5, 5, 3, 2, 1, 1, 1, 8, 1, 2, 5, 3, 5, 6, 3, 1, 1, 3, 2, 7, 0, 0, 2, 2, 7, 4, 4, 7, 6, 7, 8, 4, 6, 0, 1, 2, 8, 1, 0, 1, 5, 8, 0, 1, 3, 4, 0, 4, 8, 4, 5, 2, 2, 5, 8, 4, 0, 1, 1, 2, 2, 8, 6, 3, 0, 2, 5, 3, 5, 2, 4, 1, 6, 1, 7, 5, 8, 0, 6, 2, 3, 2, 2, 7, 8, 3, 1, 1, 4, 8, 2, 4, 5, 7, 8, 4, 6, 4, 7, 8, 8, 2, 3, 3, 8, 0, 0, 1, 0, 6, 6, 2, 3, 8, 6, 3, 7, 3, 0, 8, 5, 3, 3, 4, 1, 8, 0, 0, 5, 8, 7, 6, 1, 3, 8, 7, 4, 3, 5, 1, 3, 8, 6, 5, 0, 5, 6, 2, 3, 6, 5, 6, 4, 1, 5, 8, 2, 7, 2, 3, 6, 0, 0, 4, 6, 7, 5, 4, 1, 0, 6, 3, 7, 2, 4, 7, 8, 1, 7, 4, 0, 0, 4, 2, 7, 1, 8, 4, 3, 5, 5, 8, 7, 3, 6, 7, 6, 2, 5, 8, 1, 1, 7, 0, 6, 4, 2, 3, 0, 8, 7, 3, 4, 0, 4, 6, 8, 8, 3, 0, 2, 0, 6, 5, 8, 3, 4, 2, 6, 1, 8, 8, 6, 7, 5, 1, 8, 7, 6, 6, 6, 3, 1, 1, 5, 2, 4, 5, 2, 5, 0, 3, 1, 4, 1, 4, 4, 4, 7, 5, 3, 2, 2, 7, 1, 2, 5, 2, 8, 8, 7, 6, 3, 0, 6, 7, 4, 2, 6, 6, 4, 5, 6, 1, 5, 6, 0, 0, 3]\n",
            "Files processed =  110\n",
            "[2, 2, 7, 8, 1, 1, 6, 8, 7, 1, 6, 0, 4, 3, 3, 5, 1, 4, 3, 2, 1, 6, 5, 3, 3, 3, 1, 5, 7, 4, 3, 0, 4, 0, 1, 8, 3, 1, 4, 5, 1, 5, 2, 3, 5, 4, 3, 8, 3, 8, 1, 8, 5, 3, 3, 1, 8, 1, 4, 3, 3, 3, 5, 2, 0, 1, 3, 1, 3, 8, 6, 8, 2, 5, 6, 3, 1, 1, 1, 3, 8, 5, 6, 3, 4, 1, 1, 8, 8, 0, 4, 3, 1, 1, 3, 2, 3, 0, 5, 0, 2, 2, 6, 2, 7, 0, 8, 3, 8, 5, 3, 1, 8, 0, 7, 8, 8, 3, 2, 1, 1, 3, 8, 3, 2, 3, 0, 8, 6, 3, 1, 1, 0, 2, 7, 5, 0, 3, 2, 5, 3, 3, 3, 6, 5, 8, 3, 6, 0, 1, 0, 5, 1, 0, 1, 3, 2, 8, 1, 5, 1, 7, 4, 8, 8, 5, 2, 2, 8, 5, 4, 0, 1, 3, 2, 2, 3, 6, 3, 0, 2, 5, 1, 5, 2, 4, 5, 6, 1, 7, 8, 7, 0, 6, 2, 6, 2, 2, 1, 8, 8, 1, 1, 4, 5, 2, 4, 4, 5, 8, 6, 6, 3, 7, 5, 3, 2, 5, 4, 3, 8, 0, 1, 0, 6, 6, 2, 8, 3, 6, 1, 7, 0, 8, 8, 8, 1, 4, 0, 1, 8, 0, 7, 3, 8, 1, 6, 1, 6, 8, 5, 4, 8, 8, 1, 3, 5, 6, 5, 8, 5, 6, 2, 8, 6, 8, 6, 3, 1, 2, 8, 2, 1, 2, 4, 6, 0, 0, 0, 6, 7, 5, 4, 1, 8, 6, 3, 3, 2, 3, 3, 8, 1, 7, 4, 7, 0, 4, 2, 1, 1, 3, 4, 4, 5, 5, 8, 1, 5, 6, 1, 6, 2, 3, 8, 1, 1, 5, 0, 6, 5, 2, 3, 5, 5, 5, 3, 4, 5, 3, 6, 8, 5, 3, 7, 3, 0, 6, 5, 8, 8, 4, 2, 6, 1, 5, 8, 6, 5, 3, 1, 8, 5, 6, 6, 6, 0, 3, 1, 3, 2, 3, 5, 2, 8, 0, 8, 1, 4, 1, 1, 8, 3, 1, 8, 3, 0, 2, 5, 1, 2, 5, 2, 3, 3, 1, 6, 3, 2, 6, 1, 3, 8, 6, 6, 3, 5, 6, 1, 5, 6, 3, 2, 2, 1, 6, 1, 8, 6, 3, 2, 8, 3, 7, 1, 6, 6, 1, 5, 8, 4, 5, 0, 5, 1, 3, 6, 3, 2, 2, 8, 0, 6, 1, 3, 3, 6, 3, 0, 6, 4, 5, 8, 0]\n",
            "[2, 2, 3, 8, 1, 1, 6, 5, 7, 7, 6, 0, 7, 7, 4, 5, 7, 3, 3, 2, 7, 6, 7, 5, 3, 4, 7, 4, 3, 5, 8, 0, 8, 4, 1, 8, 3, 1, 3, 5, 7, 5, 2, 3, 7, 4, 4, 5, 3, 8, 1, 0, 5, 3, 3, 1, 8, 1, 5, 3, 3, 3, 7, 2, 0, 1, 0, 7, 7, 2, 6, 3, 2, 3, 6, 3, 1, 4, 7, 4, 2, 7, 6, 8, 0, 7, 1, 0, 8, 3, 4, 5, 7, 1, 8, 2, 3, 0, 8, 0, 2, 5, 6, 3, 7, 0, 5, 3, 8, 5, 3, 1, 0, 7, 7, 5, 5, 3, 2, 1, 1, 1, 8, 1, 2, 5, 3, 5, 6, 3, 1, 1, 3, 2, 7, 0, 0, 2, 2, 7, 4, 4, 7, 6, 7, 8, 4, 6, 0, 1, 2, 8, 1, 0, 1, 5, 8, 0, 1, 3, 4, 0, 4, 8, 4, 5, 2, 2, 5, 8, 4, 0, 1, 1, 2, 2, 8, 6, 3, 0, 2, 5, 3, 5, 2, 4, 1, 6, 1, 7, 5, 8, 0, 6, 2, 3, 2, 2, 7, 8, 3, 1, 1, 4, 8, 2, 4, 5, 7, 8, 4, 6, 4, 7, 8, 8, 2, 3, 3, 8, 0, 0, 1, 0, 6, 6, 2, 3, 8, 6, 3, 7, 3, 0, 8, 5, 3, 3, 4, 1, 8, 0, 0, 5, 8, 7, 6, 1, 3, 8, 7, 4, 3, 5, 1, 3, 8, 6, 5, 0, 5, 6, 2, 3, 6, 5, 6, 4, 1, 5, 8, 2, 7, 2, 3, 6, 0, 0, 4, 6, 7, 5, 4, 1, 0, 6, 3, 7, 2, 4, 7, 8, 1, 7, 4, 0, 0, 4, 2, 7, 1, 8, 4, 3, 5, 5, 8, 7, 3, 6, 7, 6, 2, 5, 8, 1, 1, 7, 0, 6, 4, 2, 3, 0, 8, 7, 3, 4, 0, 4, 6, 8, 8, 3, 0, 2, 0, 6, 5, 8, 3, 4, 2, 6, 1, 8, 8, 6, 7, 5, 1, 8, 7, 6, 6, 6, 3, 1, 1, 5, 2, 4, 5, 2, 5, 0, 3, 1, 4, 1, 4, 4, 4, 7, 5, 3, 2, 2, 7, 1, 2, 5, 2, 8, 8, 7, 6, 3, 0, 6, 7, 4, 2, 6, 6, 4, 5, 6, 1, 5, 6, 0, 0, 3, 4, 6, 1, 2, 5, 5, 2, 5, 8, 0, 7, 6, 6, 1, 7, 5, 4, 0, 0, 4, 1, 4, 6, 4, 2, 2, 0, 2, 4, 1, 4, 8, 6, 3, 0, 4, 4, 5, 5, 0]\n",
            "Files processed =  120\n",
            "[2, 2, 7, 8, 1, 1, 6, 8, 7, 1, 6, 0, 4, 3, 3, 5, 1, 4, 3, 2, 1, 6, 5, 3, 3, 3, 1, 5, 7, 4, 3, 0, 4, 0, 1, 8, 3, 1, 4, 5, 1, 5, 2, 3, 5, 4, 3, 8, 3, 8, 1, 8, 5, 3, 3, 1, 8, 1, 4, 3, 3, 3, 5, 2, 0, 1, 3, 1, 3, 8, 6, 8, 2, 5, 6, 3, 1, 1, 1, 3, 8, 5, 6, 3, 4, 1, 1, 8, 8, 0, 4, 3, 1, 1, 3, 2, 3, 0, 5, 0, 2, 2, 6, 2, 7, 0, 8, 3, 8, 5, 3, 1, 8, 0, 7, 8, 8, 3, 2, 1, 1, 3, 8, 3, 2, 3, 0, 8, 6, 3, 1, 1, 0, 2, 7, 5, 0, 3, 2, 5, 3, 3, 3, 6, 5, 8, 3, 6, 0, 1, 0, 5, 1, 0, 1, 3, 2, 8, 1, 5, 1, 7, 4, 8, 8, 5, 2, 2, 8, 5, 4, 0, 1, 3, 2, 2, 3, 6, 3, 0, 2, 5, 1, 5, 2, 4, 5, 6, 1, 7, 8, 7, 0, 6, 2, 6, 2, 2, 1, 8, 8, 1, 1, 4, 5, 2, 4, 4, 5, 8, 6, 6, 3, 7, 5, 3, 2, 5, 4, 3, 8, 0, 1, 0, 6, 6, 2, 8, 3, 6, 1, 7, 0, 8, 8, 8, 1, 4, 0, 1, 8, 0, 7, 3, 8, 1, 6, 1, 6, 8, 5, 4, 8, 8, 1, 3, 5, 6, 5, 8, 5, 6, 2, 8, 6, 8, 6, 3, 1, 2, 8, 2, 1, 2, 4, 6, 0, 0, 0, 6, 7, 5, 4, 1, 8, 6, 3, 3, 2, 3, 3, 8, 1, 7, 4, 7, 0, 4, 2, 1, 1, 3, 4, 4, 5, 5, 8, 1, 5, 6, 1, 6, 2, 3, 8, 1, 1, 5, 0, 6, 5, 2, 3, 5, 5, 5, 3, 4, 5, 3, 6, 8, 5, 3, 7, 3, 0, 6, 5, 8, 8, 4, 2, 6, 1, 5, 8, 6, 5, 3, 1, 8, 5, 6, 6, 6, 0, 3, 1, 3, 2, 3, 5, 2, 8, 0, 8, 1, 4, 1, 1, 8, 3, 1, 8, 3, 0, 2, 5, 1, 2, 5, 2, 3, 3, 1, 6, 3, 2, 6, 1, 3, 8, 6, 6, 3, 5, 6, 1, 5, 6, 3, 2, 2, 1, 6, 1, 8, 6, 3, 2, 8, 3, 7, 1, 6, 6, 1, 5, 8, 4, 5, 0, 5, 1, 3, 6, 3, 2, 2, 8, 0, 6, 1, 3, 3, 6, 3, 0, 6, 4, 5, 8, 0, 2, 1, 6, 7, 2, 6, 1, 6, 7, 2, 5, 4, 3, 5, 3, 2, 5, 4, 8, 4, 2, 6, 2, 3, 8, 1, 6, 8, 6, 1, 3, 7, 8, 7, 6, 3, 6, 3, 6, 6]\n",
            "[2, 2, 3, 8, 1, 1, 6, 5, 7, 7, 6, 0, 7, 7, 4, 5, 7, 3, 3, 2, 7, 6, 7, 5, 3, 4, 7, 4, 3, 5, 8, 0, 8, 4, 1, 8, 3, 1, 3, 5, 7, 5, 2, 3, 7, 4, 4, 5, 3, 8, 1, 0, 5, 3, 3, 1, 8, 1, 5, 3, 3, 3, 7, 2, 0, 1, 0, 7, 7, 2, 6, 3, 2, 3, 6, 3, 1, 4, 7, 4, 2, 7, 6, 8, 0, 7, 1, 0, 8, 3, 4, 5, 7, 1, 8, 2, 3, 0, 8, 0, 2, 5, 6, 3, 7, 0, 5, 3, 8, 5, 3, 1, 0, 7, 7, 5, 5, 3, 2, 1, 1, 1, 8, 1, 2, 5, 3, 5, 6, 3, 1, 1, 3, 2, 7, 0, 0, 2, 2, 7, 4, 4, 7, 6, 7, 8, 4, 6, 0, 1, 2, 8, 1, 0, 1, 5, 8, 0, 1, 3, 4, 0, 4, 8, 4, 5, 2, 2, 5, 8, 4, 0, 1, 1, 2, 2, 8, 6, 3, 0, 2, 5, 3, 5, 2, 4, 1, 6, 1, 7, 5, 8, 0, 6, 2, 3, 2, 2, 7, 8, 3, 1, 1, 4, 8, 2, 4, 5, 7, 8, 4, 6, 4, 7, 8, 8, 2, 3, 3, 8, 0, 0, 1, 0, 6, 6, 2, 3, 8, 6, 3, 7, 3, 0, 8, 5, 3, 3, 4, 1, 8, 0, 0, 5, 8, 7, 6, 1, 3, 8, 7, 4, 3, 5, 1, 3, 8, 6, 5, 0, 5, 6, 2, 3, 6, 5, 6, 4, 1, 5, 8, 2, 7, 2, 3, 6, 0, 0, 4, 6, 7, 5, 4, 1, 0, 6, 3, 7, 2, 4, 7, 8, 1, 7, 4, 0, 0, 4, 2, 7, 1, 8, 4, 3, 5, 5, 8, 7, 3, 6, 7, 6, 2, 5, 8, 1, 1, 7, 0, 6, 4, 2, 3, 0, 8, 7, 3, 4, 0, 4, 6, 8, 8, 3, 0, 2, 0, 6, 5, 8, 3, 4, 2, 6, 1, 8, 8, 6, 7, 5, 1, 8, 7, 6, 6, 6, 3, 1, 1, 5, 2, 4, 5, 2, 5, 0, 3, 1, 4, 1, 4, 4, 4, 7, 5, 3, 2, 2, 7, 1, 2, 5, 2, 8, 8, 7, 6, 3, 0, 6, 7, 4, 2, 6, 6, 4, 5, 6, 1, 5, 6, 0, 0, 3, 4, 6, 1, 2, 5, 5, 2, 5, 8, 0, 7, 6, 6, 1, 7, 5, 4, 0, 0, 4, 1, 4, 6, 4, 2, 2, 0, 2, 4, 1, 4, 8, 6, 3, 0, 4, 4, 5, 5, 0, 2, 1, 6, 7, 0, 6, 1, 6, 0, 2, 5, 4, 3, 4, 8, 2, 8, 4, 0, 4, 2, 6, 2, 8, 8, 1, 6, 5, 6, 1, 8, 0, 8, 7, 6, 7, 6, 3, 6, 6]\n",
            "Files processed =  130\n",
            "[2, 2, 7, 8, 1, 1, 6, 8, 7, 1, 6, 0, 4, 3, 3, 5, 1, 4, 3, 2, 1, 6, 5, 3, 3, 3, 1, 5, 7, 4, 3, 0, 4, 0, 1, 8, 3, 1, 4, 5, 1, 5, 2, 3, 5, 4, 3, 8, 3, 8, 1, 8, 5, 3, 3, 1, 8, 1, 4, 3, 3, 3, 5, 2, 0, 1, 3, 1, 3, 8, 6, 8, 2, 5, 6, 3, 1, 1, 1, 3, 8, 5, 6, 3, 4, 1, 1, 8, 8, 0, 4, 3, 1, 1, 3, 2, 3, 0, 5, 0, 2, 2, 6, 2, 7, 0, 8, 3, 8, 5, 3, 1, 8, 0, 7, 8, 8, 3, 2, 1, 1, 3, 8, 3, 2, 3, 0, 8, 6, 3, 1, 1, 0, 2, 7, 5, 0, 3, 2, 5, 3, 3, 3, 6, 5, 8, 3, 6, 0, 1, 0, 5, 1, 0, 1, 3, 2, 8, 1, 5, 1, 7, 4, 8, 8, 5, 2, 2, 8, 5, 4, 0, 1, 3, 2, 2, 3, 6, 3, 0, 2, 5, 1, 5, 2, 4, 5, 6, 1, 7, 8, 7, 0, 6, 2, 6, 2, 2, 1, 8, 8, 1, 1, 4, 5, 2, 4, 4, 5, 8, 6, 6, 3, 7, 5, 3, 2, 5, 4, 3, 8, 0, 1, 0, 6, 6, 2, 8, 3, 6, 1, 7, 0, 8, 8, 8, 1, 4, 0, 1, 8, 0, 7, 3, 8, 1, 6, 1, 6, 8, 5, 4, 8, 8, 1, 3, 5, 6, 5, 8, 5, 6, 2, 8, 6, 8, 6, 3, 1, 2, 8, 2, 1, 2, 4, 6, 0, 0, 0, 6, 7, 5, 4, 1, 8, 6, 3, 3, 2, 3, 3, 8, 1, 7, 4, 7, 0, 4, 2, 1, 1, 3, 4, 4, 5, 5, 8, 1, 5, 6, 1, 6, 2, 3, 8, 1, 1, 5, 0, 6, 5, 2, 3, 5, 5, 5, 3, 4, 5, 3, 6, 8, 5, 3, 7, 3, 0, 6, 5, 8, 8, 4, 2, 6, 1, 5, 8, 6, 5, 3, 1, 8, 5, 6, 6, 6, 0, 3, 1, 3, 2, 3, 5, 2, 8, 0, 8, 1, 4, 1, 1, 8, 3, 1, 8, 3, 0, 2, 5, 1, 2, 5, 2, 3, 3, 1, 6, 3, 2, 6, 1, 3, 8, 6, 6, 3, 5, 6, 1, 5, 6, 3, 2, 2, 1, 6, 1, 8, 6, 3, 2, 8, 3, 7, 1, 6, 6, 1, 5, 8, 4, 5, 0, 5, 1, 3, 6, 3, 2, 2, 8, 0, 6, 1, 3, 3, 6, 3, 0, 6, 4, 5, 8, 0, 2, 1, 6, 7, 2, 6, 1, 6, 7, 2, 5, 4, 3, 5, 3, 2, 5, 4, 8, 4, 2, 6, 2, 3, 8, 1, 6, 8, 6, 1, 3, 7, 8, 7, 6, 3, 6, 3, 6, 6, 5, 1, 3, 5, 6, 1, 0, 1, 1, 3, 5, 1, 7, 8, 0, 2, 2, 3, 4, 4, 8, 0, 4, 3, 8, 7, 5, 0, 3, 2, 4, 8, 1, 6, 5, 1, 6, 8, 5, 1]\n",
            "[2, 2, 3, 8, 1, 1, 6, 5, 7, 7, 6, 0, 7, 7, 4, 5, 7, 3, 3, 2, 7, 6, 7, 5, 3, 4, 7, 4, 3, 5, 8, 0, 8, 4, 1, 8, 3, 1, 3, 5, 7, 5, 2, 3, 7, 4, 4, 5, 3, 8, 1, 0, 5, 3, 3, 1, 8, 1, 5, 3, 3, 3, 7, 2, 0, 1, 0, 7, 7, 2, 6, 3, 2, 3, 6, 3, 1, 4, 7, 4, 2, 7, 6, 8, 0, 7, 1, 0, 8, 3, 4, 5, 7, 1, 8, 2, 3, 0, 8, 0, 2, 5, 6, 3, 7, 0, 5, 3, 8, 5, 3, 1, 0, 7, 7, 5, 5, 3, 2, 1, 1, 1, 8, 1, 2, 5, 3, 5, 6, 3, 1, 1, 3, 2, 7, 0, 0, 2, 2, 7, 4, 4, 7, 6, 7, 8, 4, 6, 0, 1, 2, 8, 1, 0, 1, 5, 8, 0, 1, 3, 4, 0, 4, 8, 4, 5, 2, 2, 5, 8, 4, 0, 1, 1, 2, 2, 8, 6, 3, 0, 2, 5, 3, 5, 2, 4, 1, 6, 1, 7, 5, 8, 0, 6, 2, 3, 2, 2, 7, 8, 3, 1, 1, 4, 8, 2, 4, 5, 7, 8, 4, 6, 4, 7, 8, 8, 2, 3, 3, 8, 0, 0, 1, 0, 6, 6, 2, 3, 8, 6, 3, 7, 3, 0, 8, 5, 3, 3, 4, 1, 8, 0, 0, 5, 8, 7, 6, 1, 3, 8, 7, 4, 3, 5, 1, 3, 8, 6, 5, 0, 5, 6, 2, 3, 6, 5, 6, 4, 1, 5, 8, 2, 7, 2, 3, 6, 0, 0, 4, 6, 7, 5, 4, 1, 0, 6, 3, 7, 2, 4, 7, 8, 1, 7, 4, 0, 0, 4, 2, 7, 1, 8, 4, 3, 5, 5, 8, 7, 3, 6, 7, 6, 2, 5, 8, 1, 1, 7, 0, 6, 4, 2, 3, 0, 8, 7, 3, 4, 0, 4, 6, 8, 8, 3, 0, 2, 0, 6, 5, 8, 3, 4, 2, 6, 1, 8, 8, 6, 7, 5, 1, 8, 7, 6, 6, 6, 3, 1, 1, 5, 2, 4, 5, 2, 5, 0, 3, 1, 4, 1, 4, 4, 4, 7, 5, 3, 2, 2, 7, 1, 2, 5, 2, 8, 8, 7, 6, 3, 0, 6, 7, 4, 2, 6, 6, 4, 5, 6, 1, 5, 6, 0, 0, 3, 4, 6, 1, 2, 5, 5, 2, 5, 8, 0, 7, 6, 6, 1, 7, 5, 4, 0, 0, 4, 1, 4, 6, 4, 2, 2, 0, 2, 4, 1, 4, 8, 6, 3, 0, 4, 4, 5, 5, 0, 2, 1, 6, 7, 0, 6, 1, 6, 0, 2, 5, 4, 3, 4, 8, 2, 8, 4, 0, 4, 2, 6, 2, 8, 8, 1, 6, 5, 6, 1, 8, 0, 8, 7, 6, 7, 6, 3, 6, 6, 7, 7, 8, 5, 6, 7, 0, 1, 1, 4, 7, 7, 4, 0, 0, 2, 2, 3, 4, 6, 8, 0, 4, 5, 7, 3, 7, 0, 5, 2, 7, 8, 1, 6, 5, 1, 6, 8, 5, 1]\n"
          ],
          "name": "stdout"
        },
        {
          "output_type": "stream",
          "text": [
            "\r  4%|▍         | 7/170 [3:01:09<70:00:12, 1546.09s/it]"
          ],
          "name": "stderr"
        },
        {
          "output_type": "stream",
          "text": [
            "Accuracy epoch 36  =  0.5719489981785064\n",
            "tensor(0.4585, device='cuda:0', grad_fn=<NllLossBackward>)\n",
            "tensor(0.9253, device='cuda:0', grad_fn=<NllLossBackward>)\n",
            "tensor(0.5511, device='cuda:0', grad_fn=<NllLossBackward>)\n",
            "tensor(1.3468, device='cuda:0', grad_fn=<NllLossBackward>)\n",
            "tensor(0.5210, device='cuda:0', grad_fn=<NllLossBackward>)\n",
            "tensor(0.2197, device='cuda:0', grad_fn=<NllLossBackward>)\n",
            "tensor(1.4678, device='cuda:0', grad_fn=<NllLossBackward>)\n",
            "tensor(0.8825, device='cuda:0', grad_fn=<NllLossBackward>)\n",
            "tensor(0.7784, device='cuda:0', grad_fn=<NllLossBackward>)\n",
            "tensor(1.0075, device='cuda:0', grad_fn=<NllLossBackward>)\n",
            "tensor(0.5863, device='cuda:0', grad_fn=<NllLossBackward>)\n",
            "COST epoch 37  =  [tensor(1111.4436), tensor(990.5597), tensor(934.4700), tensor(874.6571), tensor(822.8998), tensor(800.3447), tensor(765.9095), tensor(740.0458), tensor(718.9320), tensor(719.7072), tensor(693.2490), tensor(697.7689), tensor(672.8008), tensor(661.9917), tensor(658.5683), tensor(635.4274), tensor(631.2565), tensor(615.2205), tensor(607.1673), tensor(607.2458), tensor(606.9468), tensor(562.4706), tensor(572.2747), tensor(568.2372), tensor(549.9225), tensor(549.4277), tensor(539.3239), tensor(530.7670), tensor(519.7222), tensor(514.4471), tensor(505.1449), tensor(497.7492), tensor(483.2874, device='cuda:0'), tensor(486.2227, device='cuda:0'), tensor(471.6280, device='cuda:0'), tensor(463.2786, device='cuda:0'), tensor(463.6834, device='cuda:0'), tensor(461.9894, device='cuda:0'), tensor(444.4067, device='cuda:0'), tensor(445.1245, device='cuda:0')]\n",
            "Files processed =  0\n",
            "[8, 1, 3, 8]\n",
            "[8, 7, 3, 3]\n",
            "Files processed =  10\n",
            "[8, 1, 3, 8, 6, 0, 8, 5, 1, 5, 8, 8, 7, 4, 7, 7, 6, 2, 8, 8, 7, 3, 4, 2, 1, 8, 0, 6, 1, 8, 1, 8, 1, 1, 3, 0, 6, 2, 6, 1, 7, 8, 8, 0]\n",
            "[8, 7, 3, 3, 6, 7, 5, 8, 1, 7, 5, 5, 0, 0, 5, 8, 6, 2, 5, 8, 7, 4, 3, 2, 1, 7, 0, 4, 1, 5, 1, 5, 7, 7, 4, 0, 6, 2, 4, 1, 5, 2, 5, 0]\n",
            "Files processed =  20\n",
            "[8, 1, 3, 8, 6, 0, 8, 5, 1, 5, 8, 8, 7, 4, 7, 7, 6, 2, 8, 8, 7, 3, 4, 2, 1, 8, 0, 6, 1, 8, 1, 8, 1, 1, 3, 0, 6, 2, 6, 1, 7, 8, 8, 0, 4, 1, 8, 6, 7, 1, 1, 4, 5, 4, 2, 2, 6, 5, 2, 4, 2, 3, 0, 8, 6, 1, 4, 0, 1, 8, 3, 1, 6, 8, 2, 8, 6, 3, 6, 0, 1, 6, 0, 2]\n",
            "[8, 7, 3, 3, 6, 7, 5, 8, 1, 7, 5, 5, 0, 0, 5, 8, 6, 2, 5, 8, 7, 4, 3, 2, 1, 7, 0, 4, 1, 5, 1, 5, 7, 7, 4, 0, 6, 2, 4, 1, 5, 2, 5, 0, 4, 1, 7, 6, 0, 7, 1, 3, 8, 3, 2, 2, 6, 5, 2, 4, 2, 3, 0, 5, 6, 1, 4, 0, 7, 0, 4, 7, 6, 2, 2, 8, 4, 5, 6, 4, 1, 6, 3, 2]\n",
            "Files processed =  30\n",
            "[8, 1, 3, 8, 6, 0, 8, 5, 1, 5, 8, 8, 7, 4, 7, 7, 6, 2, 8, 8, 7, 3, 4, 2, 1, 8, 0, 6, 1, 8, 1, 8, 1, 1, 3, 0, 6, 2, 6, 1, 7, 8, 8, 0, 4, 1, 8, 6, 7, 1, 1, 4, 5, 4, 2, 2, 6, 5, 2, 4, 2, 3, 0, 8, 6, 1, 4, 0, 1, 8, 3, 1, 6, 8, 2, 8, 6, 3, 6, 0, 1, 6, 0, 2, 1, 6, 1, 1, 1, 1, 8, 8, 4, 6, 1, 5, 6, 3, 2, 7, 8, 2, 2, 6, 6, 8, 4, 3, 1, 6, 1, 4, 3, 0, 1, 6, 3, 8, 6, 1, 2, 4, 8, 6]\n",
            "[8, 7, 3, 3, 6, 7, 5, 8, 1, 7, 5, 5, 0, 0, 5, 8, 6, 2, 5, 8, 7, 4, 3, 2, 1, 7, 0, 4, 1, 5, 1, 5, 7, 7, 4, 0, 6, 2, 4, 1, 5, 2, 5, 0, 4, 1, 7, 6, 0, 7, 1, 3, 8, 3, 2, 2, 6, 5, 2, 4, 2, 3, 0, 5, 6, 1, 4, 0, 7, 0, 4, 7, 6, 2, 2, 8, 4, 5, 6, 4, 1, 6, 3, 2, 1, 3, 1, 7, 7, 1, 8, 0, 4, 6, 1, 5, 6, 5, 2, 7, 8, 2, 0, 6, 6, 0, 4, 3, 7, 6, 1, 4, 4, 3, 1, 6, 4, 8, 6, 7, 2, 4, 3, 4]\n",
            "Files processed =  40\n",
            "[8, 1, 3, 8, 6, 0, 8, 5, 1, 5, 8, 8, 7, 4, 7, 7, 6, 2, 8, 8, 7, 3, 4, 2, 1, 8, 0, 6, 1, 8, 1, 8, 1, 1, 3, 0, 6, 2, 6, 1, 7, 8, 8, 0, 4, 1, 8, 6, 7, 1, 1, 4, 5, 4, 2, 2, 6, 5, 2, 4, 2, 3, 0, 8, 6, 1, 4, 0, 1, 8, 3, 1, 6, 8, 2, 8, 6, 3, 6, 0, 1, 6, 0, 2, 1, 6, 1, 1, 1, 1, 8, 8, 4, 6, 1, 5, 6, 3, 2, 7, 8, 2, 2, 6, 6, 8, 4, 3, 1, 6, 1, 4, 3, 0, 1, 6, 3, 8, 6, 1, 2, 4, 8, 6, 6, 2, 8, 8, 6, 6, 5, 3, 6, 1, 1, 6, 5, 0, 3, 2, 4, 0, 8, 4, 8, 1, 8, 6, 1, 8, 2, 5, 4, 6, 6, 8, 2, 1, 6, 3, 3, 7, 4, 8]\n",
            "[8, 7, 3, 3, 6, 7, 5, 8, 1, 7, 5, 5, 0, 0, 5, 8, 6, 2, 5, 8, 7, 4, 3, 2, 1, 7, 0, 4, 1, 5, 1, 5, 7, 7, 4, 0, 6, 2, 4, 1, 5, 2, 5, 0, 4, 1, 7, 6, 0, 7, 1, 3, 8, 3, 2, 2, 6, 5, 2, 4, 2, 3, 0, 5, 6, 1, 4, 0, 7, 0, 4, 7, 6, 2, 2, 8, 4, 5, 6, 4, 1, 6, 3, 2, 1, 3, 1, 7, 7, 1, 8, 0, 4, 6, 1, 5, 6, 5, 2, 7, 8, 2, 0, 6, 6, 0, 4, 3, 7, 6, 1, 4, 4, 3, 1, 6, 4, 8, 6, 7, 2, 4, 3, 4, 6, 2, 8, 8, 6, 6, 7, 8, 3, 7, 4, 6, 5, 0, 3, 2, 4, 4, 5, 3, 0, 7, 8, 3, 1, 7, 2, 3, 3, 6, 6, 3, 2, 7, 6, 3, 7, 0, 4, 8]\n",
            "Files processed =  50\n",
            "[8, 1, 3, 8, 6, 0, 8, 5, 1, 5, 8, 8, 7, 4, 7, 7, 6, 2, 8, 8, 7, 3, 4, 2, 1, 8, 0, 6, 1, 8, 1, 8, 1, 1, 3, 0, 6, 2, 6, 1, 7, 8, 8, 0, 4, 1, 8, 6, 7, 1, 1, 4, 5, 4, 2, 2, 6, 5, 2, 4, 2, 3, 0, 8, 6, 1, 4, 0, 1, 8, 3, 1, 6, 8, 2, 8, 6, 3, 6, 0, 1, 6, 0, 2, 1, 6, 1, 1, 1, 1, 8, 8, 4, 6, 1, 5, 6, 3, 2, 7, 8, 2, 2, 6, 6, 8, 4, 3, 1, 6, 1, 4, 3, 0, 1, 6, 3, 8, 6, 1, 2, 4, 8, 6, 6, 2, 8, 8, 6, 6, 5, 3, 6, 1, 1, 6, 5, 0, 3, 2, 4, 0, 8, 4, 8, 1, 8, 6, 1, 8, 2, 5, 4, 6, 6, 8, 2, 1, 6, 3, 3, 7, 4, 8, 2, 6, 1, 8, 5, 8, 7, 8, 5, 6, 1, 4, 2, 4, 0, 3, 3, 0, 8, 0, 0, 8, 8, 5, 1, 7, 6, 0, 8, 4, 5, 0, 6, 6, 0, 6, 4, 8, 6, 8]\n",
            "[8, 7, 3, 3, 6, 7, 5, 8, 1, 7, 5, 5, 0, 0, 5, 8, 6, 2, 5, 8, 7, 4, 3, 2, 1, 7, 0, 4, 1, 5, 1, 5, 7, 7, 4, 0, 6, 2, 4, 1, 5, 2, 5, 0, 4, 1, 7, 6, 0, 7, 1, 3, 8, 3, 2, 2, 6, 5, 2, 4, 2, 3, 0, 5, 6, 1, 4, 0, 7, 0, 4, 7, 6, 2, 2, 8, 4, 5, 6, 4, 1, 6, 3, 2, 1, 3, 1, 7, 7, 1, 8, 0, 4, 6, 1, 5, 6, 5, 2, 7, 8, 2, 0, 6, 6, 0, 4, 3, 7, 6, 1, 4, 4, 3, 1, 6, 4, 8, 6, 7, 2, 4, 3, 4, 6, 2, 8, 8, 6, 6, 7, 8, 3, 7, 4, 6, 5, 0, 3, 2, 4, 4, 5, 3, 0, 7, 8, 3, 1, 7, 2, 3, 3, 6, 6, 3, 2, 7, 6, 3, 7, 0, 4, 8, 2, 6, 4, 5, 8, 3, 0, 0, 5, 6, 7, 4, 2, 4, 5, 4, 4, 0, 8, 0, 2, 5, 2, 8, 7, 7, 6, 0, 7, 3, 7, 2, 6, 6, 0, 4, 7, 8, 6, 8]\n",
            "Files processed =  60\n",
            "[8, 1, 3, 8, 6, 0, 8, 5, 1, 5, 8, 8, 7, 4, 7, 7, 6, 2, 8, 8, 7, 3, 4, 2, 1, 8, 0, 6, 1, 8, 1, 8, 1, 1, 3, 0, 6, 2, 6, 1, 7, 8, 8, 0, 4, 1, 8, 6, 7, 1, 1, 4, 5, 4, 2, 2, 6, 5, 2, 4, 2, 3, 0, 8, 6, 1, 4, 0, 1, 8, 3, 1, 6, 8, 2, 8, 6, 3, 6, 0, 1, 6, 0, 2, 1, 6, 1, 1, 1, 1, 8, 8, 4, 6, 1, 5, 6, 3, 2, 7, 8, 2, 2, 6, 6, 8, 4, 3, 1, 6, 1, 4, 3, 0, 1, 6, 3, 8, 6, 1, 2, 4, 8, 6, 6, 2, 8, 8, 6, 6, 5, 3, 6, 1, 1, 6, 5, 0, 3, 2, 4, 0, 8, 4, 8, 1, 8, 6, 1, 8, 2, 5, 4, 6, 6, 8, 2, 1, 6, 3, 3, 7, 4, 8, 2, 6, 1, 8, 5, 8, 7, 8, 5, 6, 1, 4, 2, 4, 0, 3, 3, 0, 8, 0, 0, 8, 8, 5, 1, 7, 6, 0, 8, 4, 5, 0, 6, 6, 0, 6, 4, 8, 6, 8, 3, 0, 0, 8, 8, 8, 0, 2, 2, 3, 3, 0, 1, 8, 1, 1, 5, 8, 8, 5, 1, 6, 5, 8, 1, 5, 0, 3, 0, 8, 4, 1, 4, 0, 2, 1, 4, 8, 2, 6]\n",
            "[8, 7, 3, 3, 6, 7, 5, 8, 1, 7, 5, 5, 0, 0, 5, 8, 6, 2, 5, 8, 7, 4, 3, 2, 1, 7, 0, 4, 1, 5, 1, 5, 7, 7, 4, 0, 6, 2, 4, 1, 5, 2, 5, 0, 4, 1, 7, 6, 0, 7, 1, 3, 8, 3, 2, 2, 6, 5, 2, 4, 2, 3, 0, 5, 6, 1, 4, 0, 7, 0, 4, 7, 6, 2, 2, 8, 4, 5, 6, 4, 1, 6, 3, 2, 1, 3, 1, 7, 7, 1, 8, 0, 4, 6, 1, 5, 6, 5, 2, 7, 8, 2, 0, 6, 6, 0, 4, 3, 7, 6, 1, 4, 4, 3, 1, 6, 4, 8, 6, 7, 2, 4, 3, 4, 6, 2, 8, 8, 6, 6, 7, 8, 3, 7, 4, 6, 5, 0, 3, 2, 4, 4, 5, 3, 0, 7, 8, 3, 1, 7, 2, 3, 3, 6, 6, 3, 2, 7, 6, 3, 7, 0, 4, 8, 2, 6, 4, 5, 8, 3, 0, 0, 5, 6, 7, 4, 2, 4, 5, 4, 4, 0, 8, 0, 2, 5, 2, 8, 7, 7, 6, 0, 7, 3, 7, 2, 6, 6, 0, 4, 7, 8, 6, 8, 3, 0, 0, 5, 8, 0, 0, 2, 2, 4, 8, 0, 1, 4, 7, 1, 7, 5, 5, 8, 1, 6, 7, 5, 1, 5, 0, 4, 0, 5, 3, 1, 5, 3, 2, 4, 4, 8, 2, 6]\n",
            "Files processed =  70\n",
            "[8, 1, 3, 8, 6, 0, 8, 5, 1, 5, 8, 8, 7, 4, 7, 7, 6, 2, 8, 8, 7, 3, 4, 2, 1, 8, 0, 6, 1, 8, 1, 8, 1, 1, 3, 0, 6, 2, 6, 1, 7, 8, 8, 0, 4, 1, 8, 6, 7, 1, 1, 4, 5, 4, 2, 2, 6, 5, 2, 4, 2, 3, 0, 8, 6, 1, 4, 0, 1, 8, 3, 1, 6, 8, 2, 8, 6, 3, 6, 0, 1, 6, 0, 2, 1, 6, 1, 1, 1, 1, 8, 8, 4, 6, 1, 5, 6, 3, 2, 7, 8, 2, 2, 6, 6, 8, 4, 3, 1, 6, 1, 4, 3, 0, 1, 6, 3, 8, 6, 1, 2, 4, 8, 6, 6, 2, 8, 8, 6, 6, 5, 3, 6, 1, 1, 6, 5, 0, 3, 2, 4, 0, 8, 4, 8, 1, 8, 6, 1, 8, 2, 5, 4, 6, 6, 8, 2, 1, 6, 3, 3, 7, 4, 8, 2, 6, 1, 8, 5, 8, 7, 8, 5, 6, 1, 4, 2, 4, 0, 3, 3, 0, 8, 0, 0, 8, 8, 5, 1, 7, 6, 0, 8, 4, 5, 0, 6, 6, 0, 6, 4, 8, 6, 8, 3, 0, 0, 8, 8, 8, 0, 2, 2, 3, 3, 0, 1, 8, 1, 1, 5, 8, 8, 5, 1, 6, 5, 8, 1, 5, 0, 3, 0, 8, 4, 1, 4, 0, 2, 1, 4, 8, 2, 6, 0, 4, 8, 4, 1, 2, 8, 5, 3, 4, 1, 6, 4, 1, 5, 8, 6, 1, 2, 0, 8, 2, 3, 4, 4, 0, 3, 6, 6, 3, 5, 1, 1, 1, 1, 5, 3, 3, 0, 1]\n",
            "[8, 7, 3, 3, 6, 7, 5, 8, 1, 7, 5, 5, 0, 0, 5, 8, 6, 2, 5, 8, 7, 4, 3, 2, 1, 7, 0, 4, 1, 5, 1, 5, 7, 7, 4, 0, 6, 2, 4, 1, 5, 2, 5, 0, 4, 1, 7, 6, 0, 7, 1, 3, 8, 3, 2, 2, 6, 5, 2, 4, 2, 3, 0, 5, 6, 1, 4, 0, 7, 0, 4, 7, 6, 2, 2, 8, 4, 5, 6, 4, 1, 6, 3, 2, 1, 3, 1, 7, 7, 1, 8, 0, 4, 6, 1, 5, 6, 5, 2, 7, 8, 2, 0, 6, 6, 0, 4, 3, 7, 6, 1, 4, 4, 3, 1, 6, 4, 8, 6, 7, 2, 4, 3, 4, 6, 2, 8, 8, 6, 6, 7, 8, 3, 7, 4, 6, 5, 0, 3, 2, 4, 4, 5, 3, 0, 7, 8, 3, 1, 7, 2, 3, 3, 6, 6, 3, 2, 7, 6, 3, 7, 0, 4, 8, 2, 6, 4, 5, 8, 3, 0, 0, 5, 6, 7, 4, 2, 4, 5, 4, 4, 0, 8, 0, 2, 5, 2, 8, 7, 7, 6, 0, 7, 3, 7, 2, 6, 6, 0, 4, 7, 8, 6, 8, 3, 0, 0, 5, 8, 0, 0, 2, 2, 4, 8, 0, 1, 4, 7, 1, 7, 5, 5, 8, 1, 6, 7, 5, 1, 5, 0, 4, 0, 5, 3, 1, 5, 3, 2, 4, 4, 8, 2, 6, 0, 4, 5, 4, 7, 2, 2, 7, 5, 4, 1, 6, 4, 1, 7, 2, 6, 3, 8, 4, 0, 2, 5, 4, 4, 0, 3, 6, 3, 3, 5, 1, 1, 4, 1, 8, 4, 5, 0, 3]\n",
            "Files processed =  80\n",
            "[8, 1, 3, 8, 6, 0, 8, 5, 1, 5, 8, 8, 7, 4, 7, 7, 6, 2, 8, 8, 7, 3, 4, 2, 1, 8, 0, 6, 1, 8, 1, 8, 1, 1, 3, 0, 6, 2, 6, 1, 7, 8, 8, 0, 4, 1, 8, 6, 7, 1, 1, 4, 5, 4, 2, 2, 6, 5, 2, 4, 2, 3, 0, 8, 6, 1, 4, 0, 1, 8, 3, 1, 6, 8, 2, 8, 6, 3, 6, 0, 1, 6, 0, 2, 1, 6, 1, 1, 1, 1, 8, 8, 4, 6, 1, 5, 6, 3, 2, 7, 8, 2, 2, 6, 6, 8, 4, 3, 1, 6, 1, 4, 3, 0, 1, 6, 3, 8, 6, 1, 2, 4, 8, 6, 6, 2, 8, 8, 6, 6, 5, 3, 6, 1, 1, 6, 5, 0, 3, 2, 4, 0, 8, 4, 8, 1, 8, 6, 1, 8, 2, 5, 4, 6, 6, 8, 2, 1, 6, 3, 3, 7, 4, 8, 2, 6, 1, 8, 5, 8, 7, 8, 5, 6, 1, 4, 2, 4, 0, 3, 3, 0, 8, 0, 0, 8, 8, 5, 1, 7, 6, 0, 8, 4, 5, 0, 6, 6, 0, 6, 4, 8, 6, 8, 3, 0, 0, 8, 8, 8, 0, 2, 2, 3, 3, 0, 1, 8, 1, 1, 5, 8, 8, 5, 1, 6, 5, 8, 1, 5, 0, 3, 0, 8, 4, 1, 4, 0, 2, 1, 4, 8, 2, 6, 0, 4, 8, 4, 1, 2, 8, 5, 3, 4, 1, 6, 4, 1, 5, 8, 6, 1, 2, 0, 8, 2, 3, 4, 4, 0, 3, 6, 6, 3, 5, 1, 1, 1, 1, 5, 3, 3, 0, 1, 8, 7, 1, 4, 3, 8, 0, 1, 2, 8, 8, 7, 3, 8, 6, 8, 6, 4, 8, 1, 6, 4, 1, 6, 8, 0, 4, 3, 5, 8, 8, 1, 3, 8, 8, 4, 1, 8, 4, 8]\n",
            "[8, 7, 3, 3, 6, 7, 5, 8, 1, 7, 5, 5, 0, 0, 5, 8, 6, 2, 5, 8, 7, 4, 3, 2, 1, 7, 0, 4, 1, 5, 1, 5, 7, 7, 4, 0, 6, 2, 4, 1, 5, 2, 5, 0, 4, 1, 7, 6, 0, 7, 1, 3, 8, 3, 2, 2, 6, 5, 2, 4, 2, 3, 0, 5, 6, 1, 4, 0, 7, 0, 4, 7, 6, 2, 2, 8, 4, 5, 6, 4, 1, 6, 3, 2, 1, 3, 1, 7, 7, 1, 8, 0, 4, 6, 1, 5, 6, 5, 2, 7, 8, 2, 0, 6, 6, 0, 4, 3, 7, 6, 1, 4, 4, 3, 1, 6, 4, 8, 6, 7, 2, 4, 3, 4, 6, 2, 8, 8, 6, 6, 7, 8, 3, 7, 4, 6, 5, 0, 3, 2, 4, 4, 5, 3, 0, 7, 8, 3, 1, 7, 2, 3, 3, 6, 6, 3, 2, 7, 6, 3, 7, 0, 4, 8, 2, 6, 4, 5, 8, 3, 0, 0, 5, 6, 7, 4, 2, 4, 5, 4, 4, 0, 8, 0, 2, 5, 2, 8, 7, 7, 6, 0, 7, 3, 7, 2, 6, 6, 0, 4, 7, 8, 6, 8, 3, 0, 0, 5, 8, 0, 0, 2, 2, 4, 8, 0, 1, 4, 7, 1, 7, 5, 5, 8, 1, 6, 7, 5, 1, 5, 0, 4, 0, 5, 3, 1, 5, 3, 2, 4, 4, 8, 2, 6, 0, 4, 5, 4, 7, 2, 2, 7, 5, 4, 1, 6, 4, 1, 7, 2, 6, 3, 8, 4, 0, 2, 5, 4, 4, 0, 3, 6, 3, 3, 5, 1, 1, 4, 1, 8, 4, 5, 0, 3, 5, 0, 1, 4, 3, 8, 2, 1, 2, 7, 5, 7, 5, 8, 6, 5, 4, 4, 8, 7, 6, 4, 1, 6, 8, 0, 3, 3, 5, 8, 8, 1, 8, 5, 5, 4, 4, 0, 3, 5]\n",
            "Files processed =  90\n",
            "[8, 1, 3, 8, 6, 0, 8, 5, 1, 5, 8, 8, 7, 4, 7, 7, 6, 2, 8, 8, 7, 3, 4, 2, 1, 8, 0, 6, 1, 8, 1, 8, 1, 1, 3, 0, 6, 2, 6, 1, 7, 8, 8, 0, 4, 1, 8, 6, 7, 1, 1, 4, 5, 4, 2, 2, 6, 5, 2, 4, 2, 3, 0, 8, 6, 1, 4, 0, 1, 8, 3, 1, 6, 8, 2, 8, 6, 3, 6, 0, 1, 6, 0, 2, 1, 6, 1, 1, 1, 1, 8, 8, 4, 6, 1, 5, 6, 3, 2, 7, 8, 2, 2, 6, 6, 8, 4, 3, 1, 6, 1, 4, 3, 0, 1, 6, 3, 8, 6, 1, 2, 4, 8, 6, 6, 2, 8, 8, 6, 6, 5, 3, 6, 1, 1, 6, 5, 0, 3, 2, 4, 0, 8, 4, 8, 1, 8, 6, 1, 8, 2, 5, 4, 6, 6, 8, 2, 1, 6, 3, 3, 7, 4, 8, 2, 6, 1, 8, 5, 8, 7, 8, 5, 6, 1, 4, 2, 4, 0, 3, 3, 0, 8, 0, 0, 8, 8, 5, 1, 7, 6, 0, 8, 4, 5, 0, 6, 6, 0, 6, 4, 8, 6, 8, 3, 0, 0, 8, 8, 8, 0, 2, 2, 3, 3, 0, 1, 8, 1, 1, 5, 8, 8, 5, 1, 6, 5, 8, 1, 5, 0, 3, 0, 8, 4, 1, 4, 0, 2, 1, 4, 8, 2, 6, 0, 4, 8, 4, 1, 2, 8, 5, 3, 4, 1, 6, 4, 1, 5, 8, 6, 1, 2, 0, 8, 2, 3, 4, 4, 0, 3, 6, 6, 3, 5, 1, 1, 1, 1, 5, 3, 3, 0, 1, 8, 7, 1, 4, 3, 8, 0, 1, 2, 8, 8, 7, 3, 8, 6, 8, 6, 4, 8, 1, 6, 4, 1, 6, 8, 0, 4, 3, 5, 8, 8, 1, 3, 8, 8, 4, 1, 8, 4, 8, 7, 1, 0, 3, 0, 8, 1, 6, 7, 1, 6, 8, 2, 3, 0, 3, 0, 3, 1, 6, 1, 0, 1, 6, 2, 7, 5, 0, 1, 2, 0, 0, 2, 8, 1, 4, 1, 2, 1, 8]\n",
            "[8, 7, 3, 3, 6, 7, 5, 8, 1, 7, 5, 5, 0, 0, 5, 8, 6, 2, 5, 8, 7, 4, 3, 2, 1, 7, 0, 4, 1, 5, 1, 5, 7, 7, 4, 0, 6, 2, 4, 1, 5, 2, 5, 0, 4, 1, 7, 6, 0, 7, 1, 3, 8, 3, 2, 2, 6, 5, 2, 4, 2, 3, 0, 5, 6, 1, 4, 0, 7, 0, 4, 7, 6, 2, 2, 8, 4, 5, 6, 4, 1, 6, 3, 2, 1, 3, 1, 7, 7, 1, 8, 0, 4, 6, 1, 5, 6, 5, 2, 7, 8, 2, 0, 6, 6, 0, 4, 3, 7, 6, 1, 4, 4, 3, 1, 6, 4, 8, 6, 7, 2, 4, 3, 4, 6, 2, 8, 8, 6, 6, 7, 8, 3, 7, 4, 6, 5, 0, 3, 2, 4, 4, 5, 3, 0, 7, 8, 3, 1, 7, 2, 3, 3, 6, 6, 3, 2, 7, 6, 3, 7, 0, 4, 8, 2, 6, 4, 5, 8, 3, 0, 0, 5, 6, 7, 4, 2, 4, 5, 4, 4, 0, 8, 0, 2, 5, 2, 8, 7, 7, 6, 0, 7, 3, 7, 2, 6, 6, 0, 4, 7, 8, 6, 8, 3, 0, 0, 5, 8, 0, 0, 2, 2, 4, 8, 0, 1, 4, 7, 1, 7, 5, 5, 8, 1, 6, 7, 5, 1, 5, 0, 4, 0, 5, 3, 1, 5, 3, 2, 4, 4, 8, 2, 6, 0, 4, 5, 4, 7, 2, 2, 7, 5, 4, 1, 6, 4, 1, 7, 2, 6, 3, 8, 4, 0, 2, 5, 4, 4, 0, 3, 6, 3, 3, 5, 1, 1, 4, 1, 8, 4, 5, 0, 3, 5, 0, 1, 4, 3, 8, 2, 1, 2, 7, 5, 7, 5, 8, 6, 5, 4, 4, 8, 7, 6, 4, 1, 6, 8, 0, 3, 3, 5, 8, 8, 1, 8, 5, 5, 4, 4, 0, 3, 5, 7, 1, 0, 0, 4, 5, 1, 6, 0, 2, 6, 5, 2, 8, 0, 5, 0, 3, 7, 6, 7, 0, 7, 6, 2, 3, 5, 0, 1, 2, 4, 2, 2, 8, 1, 5, 1, 2, 7, 0]\n",
            "Files processed =  100\n",
            "[8, 1, 3, 8, 6, 0, 8, 5, 1, 5, 8, 8, 7, 4, 7, 7, 6, 2, 8, 8, 7, 3, 4, 2, 1, 8, 0, 6, 1, 8, 1, 8, 1, 1, 3, 0, 6, 2, 6, 1, 7, 8, 8, 0, 4, 1, 8, 6, 7, 1, 1, 4, 5, 4, 2, 2, 6, 5, 2, 4, 2, 3, 0, 8, 6, 1, 4, 0, 1, 8, 3, 1, 6, 8, 2, 8, 6, 3, 6, 0, 1, 6, 0, 2, 1, 6, 1, 1, 1, 1, 8, 8, 4, 6, 1, 5, 6, 3, 2, 7, 8, 2, 2, 6, 6, 8, 4, 3, 1, 6, 1, 4, 3, 0, 1, 6, 3, 8, 6, 1, 2, 4, 8, 6, 6, 2, 8, 8, 6, 6, 5, 3, 6, 1, 1, 6, 5, 0, 3, 2, 4, 0, 8, 4, 8, 1, 8, 6, 1, 8, 2, 5, 4, 6, 6, 8, 2, 1, 6, 3, 3, 7, 4, 8, 2, 6, 1, 8, 5, 8, 7, 8, 5, 6, 1, 4, 2, 4, 0, 3, 3, 0, 8, 0, 0, 8, 8, 5, 1, 7, 6, 0, 8, 4, 5, 0, 6, 6, 0, 6, 4, 8, 6, 8, 3, 0, 0, 8, 8, 8, 0, 2, 2, 3, 3, 0, 1, 8, 1, 1, 5, 8, 8, 5, 1, 6, 5, 8, 1, 5, 0, 3, 0, 8, 4, 1, 4, 0, 2, 1, 4, 8, 2, 6, 0, 4, 8, 4, 1, 2, 8, 5, 3, 4, 1, 6, 4, 1, 5, 8, 6, 1, 2, 0, 8, 2, 3, 4, 4, 0, 3, 6, 6, 3, 5, 1, 1, 1, 1, 5, 3, 3, 0, 1, 8, 7, 1, 4, 3, 8, 0, 1, 2, 8, 8, 7, 3, 8, 6, 8, 6, 4, 8, 1, 6, 4, 1, 6, 8, 0, 4, 3, 5, 8, 8, 1, 3, 8, 8, 4, 1, 8, 4, 8, 7, 1, 0, 3, 0, 8, 1, 6, 7, 1, 6, 8, 2, 3, 0, 3, 0, 3, 1, 6, 1, 0, 1, 6, 2, 7, 5, 0, 1, 2, 0, 0, 2, 8, 1, 4, 1, 2, 1, 8, 8, 3, 8, 0, 3, 8, 4, 0, 8, 4, 3, 2, 8, 8, 8, 5, 1, 2, 6, 3, 4, 4, 4, 3, 6, 1, 1, 1, 1, 1, 6, 8, 6, 0, 2, 1, 8, 8, 6, 1]\n",
            "[8, 7, 3, 3, 6, 7, 5, 8, 1, 7, 5, 5, 0, 0, 5, 8, 6, 2, 5, 8, 7, 4, 3, 2, 1, 7, 0, 4, 1, 5, 1, 5, 7, 7, 4, 0, 6, 2, 4, 1, 5, 2, 5, 0, 4, 1, 7, 6, 0, 7, 1, 3, 8, 3, 2, 2, 6, 5, 2, 4, 2, 3, 0, 5, 6, 1, 4, 0, 7, 0, 4, 7, 6, 2, 2, 8, 4, 5, 6, 4, 1, 6, 3, 2, 1, 3, 1, 7, 7, 1, 8, 0, 4, 6, 1, 5, 6, 5, 2, 7, 8, 2, 0, 6, 6, 0, 4, 3, 7, 6, 1, 4, 4, 3, 1, 6, 4, 8, 6, 7, 2, 4, 3, 4, 6, 2, 8, 8, 6, 6, 7, 8, 3, 7, 4, 6, 5, 0, 3, 2, 4, 4, 5, 3, 0, 7, 8, 3, 1, 7, 2, 3, 3, 6, 6, 3, 2, 7, 6, 3, 7, 0, 4, 8, 2, 6, 4, 5, 8, 3, 0, 0, 5, 6, 7, 4, 2, 4, 5, 4, 4, 0, 8, 0, 2, 5, 2, 8, 7, 7, 6, 0, 7, 3, 7, 2, 6, 6, 0, 4, 7, 8, 6, 8, 3, 0, 0, 5, 8, 0, 0, 2, 2, 4, 8, 0, 1, 4, 7, 1, 7, 5, 5, 8, 1, 6, 7, 5, 1, 5, 0, 4, 0, 5, 3, 1, 5, 3, 2, 4, 4, 8, 2, 6, 0, 4, 5, 4, 7, 2, 2, 7, 5, 4, 1, 6, 4, 1, 7, 2, 6, 3, 8, 4, 0, 2, 5, 4, 4, 0, 3, 6, 3, 3, 5, 1, 1, 4, 1, 8, 4, 5, 0, 3, 5, 0, 1, 4, 3, 8, 2, 1, 2, 7, 5, 7, 5, 8, 6, 5, 4, 4, 8, 7, 6, 4, 1, 6, 8, 0, 3, 3, 5, 8, 8, 1, 8, 5, 5, 4, 4, 0, 3, 5, 7, 1, 0, 0, 4, 5, 1, 6, 0, 2, 6, 5, 2, 8, 0, 5, 0, 3, 7, 6, 7, 0, 7, 6, 2, 3, 5, 0, 1, 2, 4, 2, 2, 8, 1, 5, 1, 2, 7, 0, 8, 3, 2, 0, 1, 8, 3, 5, 3, 4, 5, 2, 2, 8, 8, 8, 1, 2, 6, 4, 3, 4, 3, 5, 0, 7, 7, 1, 7, 1, 6, 8, 6, 0, 2, 1, 8, 5, 6, 1]\n",
            "Files processed =  110\n",
            "[8, 1, 3, 8, 6, 0, 8, 5, 1, 5, 8, 8, 7, 4, 7, 7, 6, 2, 8, 8, 7, 3, 4, 2, 1, 8, 0, 6, 1, 8, 1, 8, 1, 1, 3, 0, 6, 2, 6, 1, 7, 8, 8, 0, 4, 1, 8, 6, 7, 1, 1, 4, 5, 4, 2, 2, 6, 5, 2, 4, 2, 3, 0, 8, 6, 1, 4, 0, 1, 8, 3, 1, 6, 8, 2, 8, 6, 3, 6, 0, 1, 6, 0, 2, 1, 6, 1, 1, 1, 1, 8, 8, 4, 6, 1, 5, 6, 3, 2, 7, 8, 2, 2, 6, 6, 8, 4, 3, 1, 6, 1, 4, 3, 0, 1, 6, 3, 8, 6, 1, 2, 4, 8, 6, 6, 2, 8, 8, 6, 6, 5, 3, 6, 1, 1, 6, 5, 0, 3, 2, 4, 0, 8, 4, 8, 1, 8, 6, 1, 8, 2, 5, 4, 6, 6, 8, 2, 1, 6, 3, 3, 7, 4, 8, 2, 6, 1, 8, 5, 8, 7, 8, 5, 6, 1, 4, 2, 4, 0, 3, 3, 0, 8, 0, 0, 8, 8, 5, 1, 7, 6, 0, 8, 4, 5, 0, 6, 6, 0, 6, 4, 8, 6, 8, 3, 0, 0, 8, 8, 8, 0, 2, 2, 3, 3, 0, 1, 8, 1, 1, 5, 8, 8, 5, 1, 6, 5, 8, 1, 5, 0, 3, 0, 8, 4, 1, 4, 0, 2, 1, 4, 8, 2, 6, 0, 4, 8, 4, 1, 2, 8, 5, 3, 4, 1, 6, 4, 1, 5, 8, 6, 1, 2, 0, 8, 2, 3, 4, 4, 0, 3, 6, 6, 3, 5, 1, 1, 1, 1, 5, 3, 3, 0, 1, 8, 7, 1, 4, 3, 8, 0, 1, 2, 8, 8, 7, 3, 8, 6, 8, 6, 4, 8, 1, 6, 4, 1, 6, 8, 0, 4, 3, 5, 8, 8, 1, 3, 8, 8, 4, 1, 8, 4, 8, 7, 1, 0, 3, 0, 8, 1, 6, 7, 1, 6, 8, 2, 3, 0, 3, 0, 3, 1, 6, 1, 0, 1, 6, 2, 7, 5, 0, 1, 2, 0, 0, 2, 8, 1, 4, 1, 2, 1, 8, 8, 3, 8, 0, 3, 8, 4, 0, 8, 4, 3, 2, 8, 8, 8, 5, 1, 2, 6, 3, 4, 4, 4, 3, 6, 1, 1, 1, 1, 1, 6, 8, 6, 0, 2, 1, 8, 8, 6, 1, 4, 3, 8, 6, 3, 6, 4, 6, 0, 1, 1, 3, 8, 8, 6, 1, 2, 8, 3, 8, 6, 1, 1, 1, 8, 5, 3, 6, 8, 1, 0, 0, 0, 2, 6, 4, 1, 0, 1, 3]\n",
            "[8, 7, 3, 3, 6, 7, 5, 8, 1, 7, 5, 5, 0, 0, 5, 8, 6, 2, 5, 8, 7, 4, 3, 2, 1, 7, 0, 4, 1, 5, 1, 5, 7, 7, 4, 0, 6, 2, 4, 1, 5, 2, 5, 0, 4, 1, 7, 6, 0, 7, 1, 3, 8, 3, 2, 2, 6, 5, 2, 4, 2, 3, 0, 5, 6, 1, 4, 0, 7, 0, 4, 7, 6, 2, 2, 8, 4, 5, 6, 4, 1, 6, 3, 2, 1, 3, 1, 7, 7, 1, 8, 0, 4, 6, 1, 5, 6, 5, 2, 7, 8, 2, 0, 6, 6, 0, 4, 3, 7, 6, 1, 4, 4, 3, 1, 6, 4, 8, 6, 7, 2, 4, 3, 4, 6, 2, 8, 8, 6, 6, 7, 8, 3, 7, 4, 6, 5, 0, 3, 2, 4, 4, 5, 3, 0, 7, 8, 3, 1, 7, 2, 3, 3, 6, 6, 3, 2, 7, 6, 3, 7, 0, 4, 8, 2, 6, 4, 5, 8, 3, 0, 0, 5, 6, 7, 4, 2, 4, 5, 4, 4, 0, 8, 0, 2, 5, 2, 8, 7, 7, 6, 0, 7, 3, 7, 2, 6, 6, 0, 4, 7, 8, 6, 8, 3, 0, 0, 5, 8, 0, 0, 2, 2, 4, 8, 0, 1, 4, 7, 1, 7, 5, 5, 8, 1, 6, 7, 5, 1, 5, 0, 4, 0, 5, 3, 1, 5, 3, 2, 4, 4, 8, 2, 6, 0, 4, 5, 4, 7, 2, 2, 7, 5, 4, 1, 6, 4, 1, 7, 2, 6, 3, 8, 4, 0, 2, 5, 4, 4, 0, 3, 6, 3, 3, 5, 1, 1, 4, 1, 8, 4, 5, 0, 3, 5, 0, 1, 4, 3, 8, 2, 1, 2, 7, 5, 7, 5, 8, 6, 5, 4, 4, 8, 7, 6, 4, 1, 6, 8, 0, 3, 3, 5, 8, 8, 1, 8, 5, 5, 4, 4, 0, 3, 5, 7, 1, 0, 0, 4, 5, 1, 6, 0, 2, 6, 5, 2, 8, 0, 5, 0, 3, 7, 6, 7, 0, 7, 6, 2, 3, 5, 0, 1, 2, 4, 2, 2, 8, 1, 5, 1, 2, 7, 0, 8, 3, 2, 0, 1, 8, 3, 5, 3, 4, 5, 2, 2, 8, 8, 8, 1, 2, 6, 4, 3, 4, 3, 5, 0, 7, 7, 1, 7, 1, 6, 8, 6, 0, 2, 1, 8, 5, 6, 1, 3, 4, 0, 6, 3, 8, 3, 6, 0, 1, 1, 8, 8, 8, 6, 1, 2, 8, 3, 5, 3, 4, 7, 1, 8, 7, 8, 3, 8, 1, 0, 0, 0, 2, 5, 4, 1, 0, 1, 3]\n",
            "Files processed =  120\n",
            "[8, 1, 3, 8, 6, 0, 8, 5, 1, 5, 8, 8, 7, 4, 7, 7, 6, 2, 8, 8, 7, 3, 4, 2, 1, 8, 0, 6, 1, 8, 1, 8, 1, 1, 3, 0, 6, 2, 6, 1, 7, 8, 8, 0, 4, 1, 8, 6, 7, 1, 1, 4, 5, 4, 2, 2, 6, 5, 2, 4, 2, 3, 0, 8, 6, 1, 4, 0, 1, 8, 3, 1, 6, 8, 2, 8, 6, 3, 6, 0, 1, 6, 0, 2, 1, 6, 1, 1, 1, 1, 8, 8, 4, 6, 1, 5, 6, 3, 2, 7, 8, 2, 2, 6, 6, 8, 4, 3, 1, 6, 1, 4, 3, 0, 1, 6, 3, 8, 6, 1, 2, 4, 8, 6, 6, 2, 8, 8, 6, 6, 5, 3, 6, 1, 1, 6, 5, 0, 3, 2, 4, 0, 8, 4, 8, 1, 8, 6, 1, 8, 2, 5, 4, 6, 6, 8, 2, 1, 6, 3, 3, 7, 4, 8, 2, 6, 1, 8, 5, 8, 7, 8, 5, 6, 1, 4, 2, 4, 0, 3, 3, 0, 8, 0, 0, 8, 8, 5, 1, 7, 6, 0, 8, 4, 5, 0, 6, 6, 0, 6, 4, 8, 6, 8, 3, 0, 0, 8, 8, 8, 0, 2, 2, 3, 3, 0, 1, 8, 1, 1, 5, 8, 8, 5, 1, 6, 5, 8, 1, 5, 0, 3, 0, 8, 4, 1, 4, 0, 2, 1, 4, 8, 2, 6, 0, 4, 8, 4, 1, 2, 8, 5, 3, 4, 1, 6, 4, 1, 5, 8, 6, 1, 2, 0, 8, 2, 3, 4, 4, 0, 3, 6, 6, 3, 5, 1, 1, 1, 1, 5, 3, 3, 0, 1, 8, 7, 1, 4, 3, 8, 0, 1, 2, 8, 8, 7, 3, 8, 6, 8, 6, 4, 8, 1, 6, 4, 1, 6, 8, 0, 4, 3, 5, 8, 8, 1, 3, 8, 8, 4, 1, 8, 4, 8, 7, 1, 0, 3, 0, 8, 1, 6, 7, 1, 6, 8, 2, 3, 0, 3, 0, 3, 1, 6, 1, 0, 1, 6, 2, 7, 5, 0, 1, 2, 0, 0, 2, 8, 1, 4, 1, 2, 1, 8, 8, 3, 8, 0, 3, 8, 4, 0, 8, 4, 3, 2, 8, 8, 8, 5, 1, 2, 6, 3, 4, 4, 4, 3, 6, 1, 1, 1, 1, 1, 6, 8, 6, 0, 2, 1, 8, 8, 6, 1, 4, 3, 8, 6, 3, 6, 4, 6, 0, 1, 1, 3, 8, 8, 6, 1, 2, 8, 3, 8, 6, 1, 1, 1, 8, 5, 3, 6, 8, 1, 0, 0, 0, 2, 6, 4, 1, 0, 1, 3, 1, 1, 0, 1, 8, 4, 8, 4, 2, 2, 1, 1, 4, 1, 4, 2, 6, 0, 1, 3, 7, 8, 1, 8, 2, 8, 1, 5, 4, 1, 5, 6, 6, 0, 6, 6, 0, 1, 8, 1]\n",
            "[8, 7, 3, 3, 6, 7, 5, 8, 1, 7, 5, 5, 0, 0, 5, 8, 6, 2, 5, 8, 7, 4, 3, 2, 1, 7, 0, 4, 1, 5, 1, 5, 7, 7, 4, 0, 6, 2, 4, 1, 5, 2, 5, 0, 4, 1, 7, 6, 0, 7, 1, 3, 8, 3, 2, 2, 6, 5, 2, 4, 2, 3, 0, 5, 6, 1, 4, 0, 7, 0, 4, 7, 6, 2, 2, 8, 4, 5, 6, 4, 1, 6, 3, 2, 1, 3, 1, 7, 7, 1, 8, 0, 4, 6, 1, 5, 6, 5, 2, 7, 8, 2, 0, 6, 6, 0, 4, 3, 7, 6, 1, 4, 4, 3, 1, 6, 4, 8, 6, 7, 2, 4, 3, 4, 6, 2, 8, 8, 6, 6, 7, 8, 3, 7, 4, 6, 5, 0, 3, 2, 4, 4, 5, 3, 0, 7, 8, 3, 1, 7, 2, 3, 3, 6, 6, 3, 2, 7, 6, 3, 7, 0, 4, 8, 2, 6, 4, 5, 8, 3, 0, 0, 5, 6, 7, 4, 2, 4, 5, 4, 4, 0, 8, 0, 2, 5, 2, 8, 7, 7, 6, 0, 7, 3, 7, 2, 6, 6, 0, 4, 7, 8, 6, 8, 3, 0, 0, 5, 8, 0, 0, 2, 2, 4, 8, 0, 1, 4, 7, 1, 7, 5, 5, 8, 1, 6, 7, 5, 1, 5, 0, 4, 0, 5, 3, 1, 5, 3, 2, 4, 4, 8, 2, 6, 0, 4, 5, 4, 7, 2, 2, 7, 5, 4, 1, 6, 4, 1, 7, 2, 6, 3, 8, 4, 0, 2, 5, 4, 4, 0, 3, 6, 3, 3, 5, 1, 1, 4, 1, 8, 4, 5, 0, 3, 5, 0, 1, 4, 3, 8, 2, 1, 2, 7, 5, 7, 5, 8, 6, 5, 4, 4, 8, 7, 6, 4, 1, 6, 8, 0, 3, 3, 5, 8, 8, 1, 8, 5, 5, 4, 4, 0, 3, 5, 7, 1, 0, 0, 4, 5, 1, 6, 0, 2, 6, 5, 2, 8, 0, 5, 0, 3, 7, 6, 7, 0, 7, 6, 2, 3, 5, 0, 1, 2, 4, 2, 2, 8, 1, 5, 1, 2, 7, 0, 8, 3, 2, 0, 1, 8, 3, 5, 3, 4, 5, 2, 2, 8, 8, 8, 1, 2, 6, 4, 3, 4, 3, 5, 0, 7, 7, 1, 7, 1, 6, 8, 6, 0, 2, 1, 8, 5, 6, 1, 3, 4, 0, 6, 3, 8, 3, 6, 0, 1, 1, 8, 8, 8, 6, 1, 2, 8, 3, 5, 3, 4, 7, 1, 8, 7, 8, 3, 8, 1, 0, 0, 0, 2, 5, 4, 1, 0, 1, 3, 7, 4, 2, 1, 0, 5, 5, 3, 2, 2, 1, 7, 8, 7, 5, 2, 6, 0, 1, 1, 3, 8, 1, 8, 2, 8, 3, 5, 3, 7, 5, 6, 6, 0, 6, 6, 0, 1, 8, 1]\n",
            "Files processed =  130\n",
            "[8, 1, 3, 8, 6, 0, 8, 5, 1, 5, 8, 8, 7, 4, 7, 7, 6, 2, 8, 8, 7, 3, 4, 2, 1, 8, 0, 6, 1, 8, 1, 8, 1, 1, 3, 0, 6, 2, 6, 1, 7, 8, 8, 0, 4, 1, 8, 6, 7, 1, 1, 4, 5, 4, 2, 2, 6, 5, 2, 4, 2, 3, 0, 8, 6, 1, 4, 0, 1, 8, 3, 1, 6, 8, 2, 8, 6, 3, 6, 0, 1, 6, 0, 2, 1, 6, 1, 1, 1, 1, 8, 8, 4, 6, 1, 5, 6, 3, 2, 7, 8, 2, 2, 6, 6, 8, 4, 3, 1, 6, 1, 4, 3, 0, 1, 6, 3, 8, 6, 1, 2, 4, 8, 6, 6, 2, 8, 8, 6, 6, 5, 3, 6, 1, 1, 6, 5, 0, 3, 2, 4, 0, 8, 4, 8, 1, 8, 6, 1, 8, 2, 5, 4, 6, 6, 8, 2, 1, 6, 3, 3, 7, 4, 8, 2, 6, 1, 8, 5, 8, 7, 8, 5, 6, 1, 4, 2, 4, 0, 3, 3, 0, 8, 0, 0, 8, 8, 5, 1, 7, 6, 0, 8, 4, 5, 0, 6, 6, 0, 6, 4, 8, 6, 8, 3, 0, 0, 8, 8, 8, 0, 2, 2, 3, 3, 0, 1, 8, 1, 1, 5, 8, 8, 5, 1, 6, 5, 8, 1, 5, 0, 3, 0, 8, 4, 1, 4, 0, 2, 1, 4, 8, 2, 6, 0, 4, 8, 4, 1, 2, 8, 5, 3, 4, 1, 6, 4, 1, 5, 8, 6, 1, 2, 0, 8, 2, 3, 4, 4, 0, 3, 6, 6, 3, 5, 1, 1, 1, 1, 5, 3, 3, 0, 1, 8, 7, 1, 4, 3, 8, 0, 1, 2, 8, 8, 7, 3, 8, 6, 8, 6, 4, 8, 1, 6, 4, 1, 6, 8, 0, 4, 3, 5, 8, 8, 1, 3, 8, 8, 4, 1, 8, 4, 8, 7, 1, 0, 3, 0, 8, 1, 6, 7, 1, 6, 8, 2, 3, 0, 3, 0, 3, 1, 6, 1, 0, 1, 6, 2, 7, 5, 0, 1, 2, 0, 0, 2, 8, 1, 4, 1, 2, 1, 8, 8, 3, 8, 0, 3, 8, 4, 0, 8, 4, 3, 2, 8, 8, 8, 5, 1, 2, 6, 3, 4, 4, 4, 3, 6, 1, 1, 1, 1, 1, 6, 8, 6, 0, 2, 1, 8, 8, 6, 1, 4, 3, 8, 6, 3, 6, 4, 6, 0, 1, 1, 3, 8, 8, 6, 1, 2, 8, 3, 8, 6, 1, 1, 1, 8, 5, 3, 6, 8, 1, 0, 0, 0, 2, 6, 4, 1, 0, 1, 3, 1, 1, 0, 1, 8, 4, 8, 4, 2, 2, 1, 1, 4, 1, 4, 2, 6, 0, 1, 3, 7, 8, 1, 8, 2, 8, 1, 5, 4, 1, 5, 6, 6, 0, 6, 6, 0, 1, 8, 1, 8, 4, 5, 8, 8, 4, 1, 6, 6, 8, 8, 3, 2, 1, 2, 8, 1, 3, 3, 5, 7, 6, 0, 2, 1, 0, 4, 4, 1, 8, 0, 7, 8, 1, 1, 6, 7, 6, 3, 8]\n",
            "[8, 7, 3, 3, 6, 7, 5, 8, 1, 7, 5, 5, 0, 0, 5, 8, 6, 2, 5, 8, 7, 4, 3, 2, 1, 7, 0, 4, 1, 5, 1, 5, 7, 7, 4, 0, 6, 2, 4, 1, 5, 2, 5, 0, 4, 1, 7, 6, 0, 7, 1, 3, 8, 3, 2, 2, 6, 5, 2, 4, 2, 3, 0, 5, 6, 1, 4, 0, 7, 0, 4, 7, 6, 2, 2, 8, 4, 5, 6, 4, 1, 6, 3, 2, 1, 3, 1, 7, 7, 1, 8, 0, 4, 6, 1, 5, 6, 5, 2, 7, 8, 2, 0, 6, 6, 0, 4, 3, 7, 6, 1, 4, 4, 3, 1, 6, 4, 8, 6, 7, 2, 4, 3, 4, 6, 2, 8, 8, 6, 6, 7, 8, 3, 7, 4, 6, 5, 0, 3, 2, 4, 4, 5, 3, 0, 7, 8, 3, 1, 7, 2, 3, 3, 6, 6, 3, 2, 7, 6, 3, 7, 0, 4, 8, 2, 6, 4, 5, 8, 3, 0, 0, 5, 6, 7, 4, 2, 4, 5, 4, 4, 0, 8, 0, 2, 5, 2, 8, 7, 7, 6, 0, 7, 3, 7, 2, 6, 6, 0, 4, 7, 8, 6, 8, 3, 0, 0, 5, 8, 0, 0, 2, 2, 4, 8, 0, 1, 4, 7, 1, 7, 5, 5, 8, 1, 6, 7, 5, 1, 5, 0, 4, 0, 5, 3, 1, 5, 3, 2, 4, 4, 8, 2, 6, 0, 4, 5, 4, 7, 2, 2, 7, 5, 4, 1, 6, 4, 1, 7, 2, 6, 3, 8, 4, 0, 2, 5, 4, 4, 0, 3, 6, 3, 3, 5, 1, 1, 4, 1, 8, 4, 5, 0, 3, 5, 0, 1, 4, 3, 8, 2, 1, 2, 7, 5, 7, 5, 8, 6, 5, 4, 4, 8, 7, 6, 4, 1, 6, 8, 0, 3, 3, 5, 8, 8, 1, 8, 5, 5, 4, 4, 0, 3, 5, 7, 1, 0, 0, 4, 5, 1, 6, 0, 2, 6, 5, 2, 8, 0, 5, 0, 3, 7, 6, 7, 0, 7, 6, 2, 3, 5, 0, 1, 2, 4, 2, 2, 8, 1, 5, 1, 2, 7, 0, 8, 3, 2, 0, 1, 8, 3, 5, 3, 4, 5, 2, 2, 8, 8, 8, 1, 2, 6, 4, 3, 4, 3, 5, 0, 7, 7, 1, 7, 1, 6, 8, 6, 0, 2, 1, 8, 5, 6, 1, 3, 4, 0, 6, 3, 8, 3, 6, 0, 1, 1, 8, 8, 8, 6, 1, 2, 8, 3, 5, 3, 4, 7, 1, 8, 7, 8, 3, 8, 1, 0, 0, 0, 2, 5, 4, 1, 0, 1, 3, 7, 4, 2, 1, 0, 5, 5, 3, 2, 2, 1, 7, 8, 7, 5, 2, 6, 0, 1, 1, 3, 8, 1, 8, 2, 8, 3, 5, 3, 7, 5, 6, 6, 0, 6, 6, 0, 1, 8, 1, 8, 0, 5, 8, 5, 3, 7, 6, 6, 2, 5, 2, 2, 1, 2, 8, 3, 5, 3, 7, 3, 4, 2, 2, 7, 7, 3, 4, 1, 5, 3, 7, 0, 1, 7, 6, 7, 6, 4, 8]\n"
          ],
          "name": "stdout"
        },
        {
          "output_type": "stream",
          "text": [
            "\r  5%|▍         | 8/170 [3:26:52<69:31:38, 1545.05s/it]"
          ],
          "name": "stderr"
        },
        {
          "output_type": "stream",
          "text": [
            "Accuracy epoch 37  =  0.5591985428051002\n",
            "tensor(0.9269, device='cuda:0', grad_fn=<NllLossBackward>)\n",
            "tensor(0.5650, device='cuda:0', grad_fn=<NllLossBackward>)\n",
            "tensor(0.6376, device='cuda:0', grad_fn=<NllLossBackward>)\n",
            "tensor(0.5012, device='cuda:0', grad_fn=<NllLossBackward>)\n",
            "tensor(1.3192, device='cuda:0', grad_fn=<NllLossBackward>)\n",
            "tensor(1.2530, device='cuda:0', grad_fn=<NllLossBackward>)\n",
            "tensor(0.5717, device='cuda:0', grad_fn=<NllLossBackward>)\n",
            "tensor(1.2310, device='cuda:0', grad_fn=<NllLossBackward>)\n",
            "tensor(0.9401, device='cuda:0', grad_fn=<NllLossBackward>)\n",
            "tensor(0.7808, device='cuda:0', grad_fn=<NllLossBackward>)\n",
            "tensor(0.3659, device='cuda:0', grad_fn=<NllLossBackward>)\n",
            "COST epoch 38  =  [tensor(1111.4436), tensor(990.5597), tensor(934.4700), tensor(874.6571), tensor(822.8998), tensor(800.3447), tensor(765.9095), tensor(740.0458), tensor(718.9320), tensor(719.7072), tensor(693.2490), tensor(697.7689), tensor(672.8008), tensor(661.9917), tensor(658.5683), tensor(635.4274), tensor(631.2565), tensor(615.2205), tensor(607.1673), tensor(607.2458), tensor(606.9468), tensor(562.4706), tensor(572.2747), tensor(568.2372), tensor(549.9225), tensor(549.4277), tensor(539.3239), tensor(530.7670), tensor(519.7222), tensor(514.4471), tensor(505.1449), tensor(497.7492), tensor(483.2874, device='cuda:0'), tensor(486.2227, device='cuda:0'), tensor(471.6280, device='cuda:0'), tensor(463.2786, device='cuda:0'), tensor(463.6834, device='cuda:0'), tensor(461.9894, device='cuda:0'), tensor(444.4067, device='cuda:0'), tensor(445.1245, device='cuda:0'), tensor(418.3448, device='cuda:0')]\n",
            "Files processed =  0\n",
            "[6, 6, 6, 4]\n",
            "[6, 6, 6, 3]\n",
            "Files processed =  10\n",
            "[6, 6, 6, 4, 2, 3, 3, 8, 0, 1, 3, 1, 6, 2, 2, 6, 6, 4, 4, 6, 6, 2, 4, 2, 1, 6, 0, 0, 8, 8, 3, 6, 4, 4, 5, 0, 1, 3, 1, 1, 2, 8, 0, 8]\n",
            "[6, 6, 6, 3, 2, 1, 3, 2, 0, 7, 8, 1, 6, 2, 2, 5, 4, 4, 4, 6, 6, 2, 4, 8, 3, 6, 0, 7, 8, 0, 5, 5, 4, 7, 5, 0, 1, 7, 7, 7, 2, 5, 0, 8]\n",
            "Files processed =  20\n",
            "[6, 6, 6, 4, 2, 3, 3, 8, 0, 1, 3, 1, 6, 2, 2, 6, 6, 4, 4, 6, 6, 2, 4, 2, 1, 6, 0, 0, 8, 8, 3, 6, 4, 4, 5, 0, 1, 3, 1, 1, 2, 8, 0, 8, 8, 2, 6, 1, 1, 8, 6, 6, 4, 3, 1, 3, 4, 8, 1, 2, 6, 4, 2, 2, 6, 3, 4, 6, 6, 3, 4, 8, 8, 3, 1, 0, 8, 0, 0, 5, 6, 3, 2, 0]\n",
            "[6, 6, 6, 3, 2, 1, 3, 2, 0, 7, 8, 1, 6, 2, 2, 5, 4, 4, 4, 6, 6, 2, 4, 8, 3, 6, 0, 7, 8, 0, 5, 5, 4, 7, 5, 0, 1, 7, 7, 7, 2, 5, 0, 8, 8, 2, 6, 1, 5, 2, 4, 6, 5, 4, 1, 4, 4, 8, 1, 2, 6, 7, 2, 2, 8, 5, 4, 6, 6, 3, 8, 8, 3, 8, 1, 3, 5, 5, 0, 5, 6, 7, 2, 0]\n",
            "Files processed =  30\n",
            "[6, 6, 6, 4, 2, 3, 3, 8, 0, 1, 3, 1, 6, 2, 2, 6, 6, 4, 4, 6, 6, 2, 4, 2, 1, 6, 0, 0, 8, 8, 3, 6, 4, 4, 5, 0, 1, 3, 1, 1, 2, 8, 0, 8, 8, 2, 6, 1, 1, 8, 6, 6, 4, 3, 1, 3, 4, 8, 1, 2, 6, 4, 2, 2, 6, 3, 4, 6, 6, 3, 4, 8, 8, 3, 1, 0, 8, 0, 0, 5, 6, 3, 2, 0, 1, 6, 7, 3, 2, 1, 6, 3, 1, 6, 1, 0, 4, 6, 1, 4, 0, 3, 3, 1, 3, 8, 2, 2, 1, 3, 4, 5, 6, 3, 2, 3, 2, 3, 8, 0, 5, 7, 6, 4]\n",
            "[6, 6, 6, 3, 2, 1, 3, 2, 0, 7, 8, 1, 6, 2, 2, 5, 4, 4, 4, 6, 6, 2, 4, 8, 3, 6, 0, 7, 8, 0, 5, 5, 4, 7, 5, 0, 1, 7, 7, 7, 2, 5, 0, 8, 8, 2, 6, 1, 5, 2, 4, 6, 5, 4, 1, 4, 4, 8, 1, 2, 6, 7, 2, 2, 8, 5, 4, 6, 6, 3, 8, 8, 3, 8, 1, 3, 5, 5, 0, 5, 6, 7, 2, 0, 7, 6, 7, 3, 2, 1, 6, 0, 1, 5, 4, 0, 4, 5, 1, 3, 0, 8, 3, 7, 0, 8, 2, 2, 1, 8, 3, 0, 3, 3, 2, 3, 2, 5, 8, 0, 8, 0, 6, 4]\n",
            "Files processed =  40\n",
            "[6, 6, 6, 4, 2, 3, 3, 8, 0, 1, 3, 1, 6, 2, 2, 6, 6, 4, 4, 6, 6, 2, 4, 2, 1, 6, 0, 0, 8, 8, 3, 6, 4, 4, 5, 0, 1, 3, 1, 1, 2, 8, 0, 8, 8, 2, 6, 1, 1, 8, 6, 6, 4, 3, 1, 3, 4, 8, 1, 2, 6, 4, 2, 2, 6, 3, 4, 6, 6, 3, 4, 8, 8, 3, 1, 0, 8, 0, 0, 5, 6, 3, 2, 0, 1, 6, 7, 3, 2, 1, 6, 3, 1, 6, 1, 0, 4, 6, 1, 4, 0, 3, 3, 1, 3, 8, 2, 2, 1, 3, 4, 5, 6, 3, 2, 3, 2, 3, 8, 0, 5, 7, 6, 4, 4, 4, 6, 1, 6, 1, 4, 6, 6, 8, 3, 1, 4, 6, 3, 6, 1, 0, 0, 3, 0, 4, 7, 3, 6, 3, 5, 3, 8, 3, 8, 8, 5, 6, 6, 8, 2, 3, 6, 1]\n",
            "[6, 6, 6, 3, 2, 1, 3, 2, 0, 7, 8, 1, 6, 2, 2, 5, 4, 4, 4, 6, 6, 2, 4, 8, 3, 6, 0, 7, 8, 0, 5, 5, 4, 7, 5, 0, 1, 7, 7, 7, 2, 5, 0, 8, 8, 2, 6, 1, 5, 2, 4, 6, 5, 4, 1, 4, 4, 8, 1, 2, 6, 7, 2, 2, 8, 5, 4, 6, 6, 3, 8, 8, 3, 8, 1, 3, 5, 5, 0, 5, 6, 7, 2, 0, 7, 6, 7, 3, 2, 1, 6, 0, 1, 5, 4, 0, 4, 5, 1, 3, 0, 8, 3, 7, 0, 8, 2, 2, 1, 8, 3, 0, 3, 3, 2, 3, 2, 5, 8, 0, 8, 0, 6, 4, 3, 4, 6, 7, 6, 1, 3, 6, 3, 8, 4, 7, 4, 6, 5, 3, 1, 0, 0, 3, 0, 3, 0, 3, 6, 3, 7, 7, 5, 4, 2, 5, 5, 4, 3, 2, 5, 8, 6, 1]\n",
            "Files processed =  50\n",
            "[6, 6, 6, 4, 2, 3, 3, 8, 0, 1, 3, 1, 6, 2, 2, 6, 6, 4, 4, 6, 6, 2, 4, 2, 1, 6, 0, 0, 8, 8, 3, 6, 4, 4, 5, 0, 1, 3, 1, 1, 2, 8, 0, 8, 8, 2, 6, 1, 1, 8, 6, 6, 4, 3, 1, 3, 4, 8, 1, 2, 6, 4, 2, 2, 6, 3, 4, 6, 6, 3, 4, 8, 8, 3, 1, 0, 8, 0, 0, 5, 6, 3, 2, 0, 1, 6, 7, 3, 2, 1, 6, 3, 1, 6, 1, 0, 4, 6, 1, 4, 0, 3, 3, 1, 3, 8, 2, 2, 1, 3, 4, 5, 6, 3, 2, 3, 2, 3, 8, 0, 5, 7, 6, 4, 4, 4, 6, 1, 6, 1, 4, 6, 6, 8, 3, 1, 4, 6, 3, 6, 1, 0, 0, 3, 0, 4, 7, 3, 6, 3, 5, 3, 8, 3, 8, 8, 5, 6, 6, 8, 2, 3, 6, 1, 6, 5, 8, 6, 1, 4, 1, 8, 1, 1, 3, 1, 2, 3, 4, 6, 8, 8, 3, 2, 1, 1, 1, 6, 3, 1, 8, 1, 6, 1, 6, 3, 3, 0, 8, 1, 2, 1, 0, 8]\n",
            "[6, 6, 6, 3, 2, 1, 3, 2, 0, 7, 8, 1, 6, 2, 2, 5, 4, 4, 4, 6, 6, 2, 4, 8, 3, 6, 0, 7, 8, 0, 5, 5, 4, 7, 5, 0, 1, 7, 7, 7, 2, 5, 0, 8, 8, 2, 6, 1, 5, 2, 4, 6, 5, 4, 1, 4, 4, 8, 1, 2, 6, 7, 2, 2, 8, 5, 4, 6, 6, 3, 8, 8, 3, 8, 1, 3, 5, 5, 0, 5, 6, 7, 2, 0, 7, 6, 7, 3, 2, 1, 6, 0, 1, 5, 4, 0, 4, 5, 1, 3, 0, 8, 3, 7, 0, 8, 2, 2, 1, 8, 3, 0, 3, 3, 2, 3, 2, 5, 8, 0, 8, 0, 6, 4, 3, 4, 6, 7, 6, 1, 3, 6, 3, 8, 4, 7, 4, 6, 5, 3, 1, 0, 0, 3, 0, 3, 0, 3, 6, 3, 7, 7, 5, 4, 2, 5, 5, 4, 3, 2, 5, 8, 6, 1, 3, 3, 4, 6, 1, 4, 1, 2, 1, 7, 3, 1, 2, 8, 4, 3, 0, 8, 8, 2, 7, 1, 7, 4, 3, 7, 8, 3, 4, 1, 6, 5, 4, 0, 8, 1, 2, 1, 0, 0]\n",
            "Files processed =  60\n",
            "[6, 6, 6, 4, 2, 3, 3, 8, 0, 1, 3, 1, 6, 2, 2, 6, 6, 4, 4, 6, 6, 2, 4, 2, 1, 6, 0, 0, 8, 8, 3, 6, 4, 4, 5, 0, 1, 3, 1, 1, 2, 8, 0, 8, 8, 2, 6, 1, 1, 8, 6, 6, 4, 3, 1, 3, 4, 8, 1, 2, 6, 4, 2, 2, 6, 3, 4, 6, 6, 3, 4, 8, 8, 3, 1, 0, 8, 0, 0, 5, 6, 3, 2, 0, 1, 6, 7, 3, 2, 1, 6, 3, 1, 6, 1, 0, 4, 6, 1, 4, 0, 3, 3, 1, 3, 8, 2, 2, 1, 3, 4, 5, 6, 3, 2, 3, 2, 3, 8, 0, 5, 7, 6, 4, 4, 4, 6, 1, 6, 1, 4, 6, 6, 8, 3, 1, 4, 6, 3, 6, 1, 0, 0, 3, 0, 4, 7, 3, 6, 3, 5, 3, 8, 3, 8, 8, 5, 6, 6, 8, 2, 3, 6, 1, 6, 5, 8, 6, 1, 4, 1, 8, 1, 1, 3, 1, 2, 3, 4, 6, 8, 8, 3, 2, 1, 1, 1, 6, 3, 1, 8, 1, 6, 1, 6, 3, 3, 0, 8, 1, 2, 1, 0, 8, 1, 2, 3, 1, 8, 6, 8, 1, 1, 8, 3, 0, 2, 4, 0, 0, 2, 7, 3, 4, 3, 0, 0, 2, 4, 2, 8, 5, 3, 7, 6, 6, 6, 1, 6, 4, 1, 3, 8, 8]\n",
            "[6, 6, 6, 3, 2, 1, 3, 2, 0, 7, 8, 1, 6, 2, 2, 5, 4, 4, 4, 6, 6, 2, 4, 8, 3, 6, 0, 7, 8, 0, 5, 5, 4, 7, 5, 0, 1, 7, 7, 7, 2, 5, 0, 8, 8, 2, 6, 1, 5, 2, 4, 6, 5, 4, 1, 4, 4, 8, 1, 2, 6, 7, 2, 2, 8, 5, 4, 6, 6, 3, 8, 8, 3, 8, 1, 3, 5, 5, 0, 5, 6, 7, 2, 0, 7, 6, 7, 3, 2, 1, 6, 0, 1, 5, 4, 0, 4, 5, 1, 3, 0, 8, 3, 7, 0, 8, 2, 2, 1, 8, 3, 0, 3, 3, 2, 3, 2, 5, 8, 0, 8, 0, 6, 4, 3, 4, 6, 7, 6, 1, 3, 6, 3, 8, 4, 7, 4, 6, 5, 3, 1, 0, 0, 3, 0, 3, 0, 3, 6, 3, 7, 7, 5, 4, 2, 5, 5, 4, 3, 2, 5, 8, 6, 1, 3, 3, 4, 6, 1, 4, 1, 2, 1, 7, 3, 1, 2, 8, 4, 3, 0, 8, 8, 2, 7, 1, 7, 4, 3, 7, 8, 3, 4, 1, 6, 5, 4, 0, 8, 1, 2, 1, 0, 0, 1, 2, 3, 1, 8, 3, 8, 7, 1, 8, 4, 0, 2, 8, 3, 0, 0, 7, 3, 4, 3, 0, 0, 2, 3, 2, 5, 8, 4, 0, 3, 6, 3, 1, 6, 4, 7, 8, 0, 5]\n",
            "Files processed =  70\n",
            "[6, 6, 6, 4, 2, 3, 3, 8, 0, 1, 3, 1, 6, 2, 2, 6, 6, 4, 4, 6, 6, 2, 4, 2, 1, 6, 0, 0, 8, 8, 3, 6, 4, 4, 5, 0, 1, 3, 1, 1, 2, 8, 0, 8, 8, 2, 6, 1, 1, 8, 6, 6, 4, 3, 1, 3, 4, 8, 1, 2, 6, 4, 2, 2, 6, 3, 4, 6, 6, 3, 4, 8, 8, 3, 1, 0, 8, 0, 0, 5, 6, 3, 2, 0, 1, 6, 7, 3, 2, 1, 6, 3, 1, 6, 1, 0, 4, 6, 1, 4, 0, 3, 3, 1, 3, 8, 2, 2, 1, 3, 4, 5, 6, 3, 2, 3, 2, 3, 8, 0, 5, 7, 6, 4, 4, 4, 6, 1, 6, 1, 4, 6, 6, 8, 3, 1, 4, 6, 3, 6, 1, 0, 0, 3, 0, 4, 7, 3, 6, 3, 5, 3, 8, 3, 8, 8, 5, 6, 6, 8, 2, 3, 6, 1, 6, 5, 8, 6, 1, 4, 1, 8, 1, 1, 3, 1, 2, 3, 4, 6, 8, 8, 3, 2, 1, 1, 1, 6, 3, 1, 8, 1, 6, 1, 6, 3, 3, 0, 8, 1, 2, 1, 0, 8, 1, 2, 3, 1, 8, 6, 8, 1, 1, 8, 3, 0, 2, 4, 0, 0, 2, 7, 3, 4, 3, 0, 0, 2, 4, 2, 8, 5, 3, 7, 6, 6, 6, 1, 6, 4, 1, 3, 8, 8, 8, 6, 3, 2, 5, 4, 2, 1, 1, 8, 6, 0, 1, 4, 5, 5, 2, 3, 0, 8, 6, 2, 1, 6, 2, 5, 7, 2, 6, 8, 3, 1, 7, 5, 2, 3, 6, 7, 0, 6]\n",
            "[6, 6, 6, 3, 2, 1, 3, 2, 0, 7, 8, 1, 6, 2, 2, 5, 4, 4, 4, 6, 6, 2, 4, 8, 3, 6, 0, 7, 8, 0, 5, 5, 4, 7, 5, 0, 1, 7, 7, 7, 2, 5, 0, 8, 8, 2, 6, 1, 5, 2, 4, 6, 5, 4, 1, 4, 4, 8, 1, 2, 6, 7, 2, 2, 8, 5, 4, 6, 6, 3, 8, 8, 3, 8, 1, 3, 5, 5, 0, 5, 6, 7, 2, 0, 7, 6, 7, 3, 2, 1, 6, 0, 1, 5, 4, 0, 4, 5, 1, 3, 0, 8, 3, 7, 0, 8, 2, 2, 1, 8, 3, 0, 3, 3, 2, 3, 2, 5, 8, 0, 8, 0, 6, 4, 3, 4, 6, 7, 6, 1, 3, 6, 3, 8, 4, 7, 4, 6, 5, 3, 1, 0, 0, 3, 0, 3, 0, 3, 6, 3, 7, 7, 5, 4, 2, 5, 5, 4, 3, 2, 5, 8, 6, 1, 3, 3, 4, 6, 1, 4, 1, 2, 1, 7, 3, 1, 2, 8, 4, 3, 0, 8, 8, 2, 7, 1, 7, 4, 3, 7, 8, 3, 4, 1, 6, 5, 4, 0, 8, 1, 2, 1, 0, 0, 1, 2, 3, 1, 8, 3, 8, 7, 1, 8, 4, 0, 2, 8, 3, 0, 0, 7, 3, 4, 3, 0, 0, 2, 3, 2, 5, 8, 4, 0, 3, 6, 3, 1, 6, 4, 7, 8, 0, 5, 5, 6, 5, 0, 0, 1, 2, 7, 7, 3, 6, 0, 4, 7, 0, 5, 2, 4, 2, 8, 6, 2, 1, 6, 2, 7, 7, 2, 8, 8, 5, 1, 7, 5, 2, 5, 6, 0, 0, 6]\n",
            "Files processed =  80\n",
            "[6, 6, 6, 4, 2, 3, 3, 8, 0, 1, 3, 1, 6, 2, 2, 6, 6, 4, 4, 6, 6, 2, 4, 2, 1, 6, 0, 0, 8, 8, 3, 6, 4, 4, 5, 0, 1, 3, 1, 1, 2, 8, 0, 8, 8, 2, 6, 1, 1, 8, 6, 6, 4, 3, 1, 3, 4, 8, 1, 2, 6, 4, 2, 2, 6, 3, 4, 6, 6, 3, 4, 8, 8, 3, 1, 0, 8, 0, 0, 5, 6, 3, 2, 0, 1, 6, 7, 3, 2, 1, 6, 3, 1, 6, 1, 0, 4, 6, 1, 4, 0, 3, 3, 1, 3, 8, 2, 2, 1, 3, 4, 5, 6, 3, 2, 3, 2, 3, 8, 0, 5, 7, 6, 4, 4, 4, 6, 1, 6, 1, 4, 6, 6, 8, 3, 1, 4, 6, 3, 6, 1, 0, 0, 3, 0, 4, 7, 3, 6, 3, 5, 3, 8, 3, 8, 8, 5, 6, 6, 8, 2, 3, 6, 1, 6, 5, 8, 6, 1, 4, 1, 8, 1, 1, 3, 1, 2, 3, 4, 6, 8, 8, 3, 2, 1, 1, 1, 6, 3, 1, 8, 1, 6, 1, 6, 3, 3, 0, 8, 1, 2, 1, 0, 8, 1, 2, 3, 1, 8, 6, 8, 1, 1, 8, 3, 0, 2, 4, 0, 0, 2, 7, 3, 4, 3, 0, 0, 2, 4, 2, 8, 5, 3, 7, 6, 6, 6, 1, 6, 4, 1, 3, 8, 8, 8, 6, 3, 2, 5, 4, 2, 1, 1, 8, 6, 0, 1, 4, 5, 5, 2, 3, 0, 8, 6, 2, 1, 6, 2, 5, 7, 2, 6, 8, 3, 1, 7, 5, 2, 3, 6, 7, 0, 6, 3, 0, 8, 2, 2, 6, 1, 4, 1, 2, 1, 1, 0, 6, 6, 2, 1, 1, 3, 1, 4, 1, 8, 3, 6, 4, 6, 0, 2, 1, 1, 1, 6, 8, 3, 6, 4, 1, 2, 3]\n",
            "[6, 6, 6, 3, 2, 1, 3, 2, 0, 7, 8, 1, 6, 2, 2, 5, 4, 4, 4, 6, 6, 2, 4, 8, 3, 6, 0, 7, 8, 0, 5, 5, 4, 7, 5, 0, 1, 7, 7, 7, 2, 5, 0, 8, 8, 2, 6, 1, 5, 2, 4, 6, 5, 4, 1, 4, 4, 8, 1, 2, 6, 7, 2, 2, 8, 5, 4, 6, 6, 3, 8, 8, 3, 8, 1, 3, 5, 5, 0, 5, 6, 7, 2, 0, 7, 6, 7, 3, 2, 1, 6, 0, 1, 5, 4, 0, 4, 5, 1, 3, 0, 8, 3, 7, 0, 8, 2, 2, 1, 8, 3, 0, 3, 3, 2, 3, 2, 5, 8, 0, 8, 0, 6, 4, 3, 4, 6, 7, 6, 1, 3, 6, 3, 8, 4, 7, 4, 6, 5, 3, 1, 0, 0, 3, 0, 3, 0, 3, 6, 3, 7, 7, 5, 4, 2, 5, 5, 4, 3, 2, 5, 8, 6, 1, 3, 3, 4, 6, 1, 4, 1, 2, 1, 7, 3, 1, 2, 8, 4, 3, 0, 8, 8, 2, 7, 1, 7, 4, 3, 7, 8, 3, 4, 1, 6, 5, 4, 0, 8, 1, 2, 1, 0, 0, 1, 2, 3, 1, 8, 3, 8, 7, 1, 8, 4, 0, 2, 8, 3, 0, 0, 7, 3, 4, 3, 0, 0, 2, 3, 2, 5, 8, 4, 0, 3, 6, 3, 1, 6, 4, 7, 8, 0, 5, 5, 6, 5, 0, 0, 1, 2, 7, 7, 3, 6, 0, 4, 7, 0, 5, 2, 4, 2, 8, 6, 2, 1, 6, 2, 7, 7, 2, 8, 8, 5, 1, 7, 5, 2, 5, 6, 0, 0, 6, 5, 3, 4, 2, 0, 3, 7, 5, 7, 2, 1, 1, 0, 4, 6, 2, 1, 1, 7, 1, 4, 3, 8, 8, 6, 4, 6, 0, 2, 1, 4, 7, 6, 2, 5, 6, 3, 1, 2, 4]\n",
            "Files processed =  90\n",
            "[6, 6, 6, 4, 2, 3, 3, 8, 0, 1, 3, 1, 6, 2, 2, 6, 6, 4, 4, 6, 6, 2, 4, 2, 1, 6, 0, 0, 8, 8, 3, 6, 4, 4, 5, 0, 1, 3, 1, 1, 2, 8, 0, 8, 8, 2, 6, 1, 1, 8, 6, 6, 4, 3, 1, 3, 4, 8, 1, 2, 6, 4, 2, 2, 6, 3, 4, 6, 6, 3, 4, 8, 8, 3, 1, 0, 8, 0, 0, 5, 6, 3, 2, 0, 1, 6, 7, 3, 2, 1, 6, 3, 1, 6, 1, 0, 4, 6, 1, 4, 0, 3, 3, 1, 3, 8, 2, 2, 1, 3, 4, 5, 6, 3, 2, 3, 2, 3, 8, 0, 5, 7, 6, 4, 4, 4, 6, 1, 6, 1, 4, 6, 6, 8, 3, 1, 4, 6, 3, 6, 1, 0, 0, 3, 0, 4, 7, 3, 6, 3, 5, 3, 8, 3, 8, 8, 5, 6, 6, 8, 2, 3, 6, 1, 6, 5, 8, 6, 1, 4, 1, 8, 1, 1, 3, 1, 2, 3, 4, 6, 8, 8, 3, 2, 1, 1, 1, 6, 3, 1, 8, 1, 6, 1, 6, 3, 3, 0, 8, 1, 2, 1, 0, 8, 1, 2, 3, 1, 8, 6, 8, 1, 1, 8, 3, 0, 2, 4, 0, 0, 2, 7, 3, 4, 3, 0, 0, 2, 4, 2, 8, 5, 3, 7, 6, 6, 6, 1, 6, 4, 1, 3, 8, 8, 8, 6, 3, 2, 5, 4, 2, 1, 1, 8, 6, 0, 1, 4, 5, 5, 2, 3, 0, 8, 6, 2, 1, 6, 2, 5, 7, 2, 6, 8, 3, 1, 7, 5, 2, 3, 6, 7, 0, 6, 3, 0, 8, 2, 2, 6, 1, 4, 1, 2, 1, 1, 0, 6, 6, 2, 1, 1, 3, 1, 4, 1, 8, 3, 6, 4, 6, 0, 2, 1, 1, 1, 6, 8, 3, 6, 4, 1, 2, 3, 1, 6, 1, 2, 5, 3, 3, 3, 8, 3, 1, 1, 3, 6, 0, 6, 4, 2, 8, 2, 1, 6, 0, 3, 4, 8, 1, 4, 3, 3, 3, 8, 1, 5, 4, 5, 8, 1, 3, 3]\n",
            "[6, 6, 6, 3, 2, 1, 3, 2, 0, 7, 8, 1, 6, 2, 2, 5, 4, 4, 4, 6, 6, 2, 4, 8, 3, 6, 0, 7, 8, 0, 5, 5, 4, 7, 5, 0, 1, 7, 7, 7, 2, 5, 0, 8, 8, 2, 6, 1, 5, 2, 4, 6, 5, 4, 1, 4, 4, 8, 1, 2, 6, 7, 2, 2, 8, 5, 4, 6, 6, 3, 8, 8, 3, 8, 1, 3, 5, 5, 0, 5, 6, 7, 2, 0, 7, 6, 7, 3, 2, 1, 6, 0, 1, 5, 4, 0, 4, 5, 1, 3, 0, 8, 3, 7, 0, 8, 2, 2, 1, 8, 3, 0, 3, 3, 2, 3, 2, 5, 8, 0, 8, 0, 6, 4, 3, 4, 6, 7, 6, 1, 3, 6, 3, 8, 4, 7, 4, 6, 5, 3, 1, 0, 0, 3, 0, 3, 0, 3, 6, 3, 7, 7, 5, 4, 2, 5, 5, 4, 3, 2, 5, 8, 6, 1, 3, 3, 4, 6, 1, 4, 1, 2, 1, 7, 3, 1, 2, 8, 4, 3, 0, 8, 8, 2, 7, 1, 7, 4, 3, 7, 8, 3, 4, 1, 6, 5, 4, 0, 8, 1, 2, 1, 0, 0, 1, 2, 3, 1, 8, 3, 8, 7, 1, 8, 4, 0, 2, 8, 3, 0, 0, 7, 3, 4, 3, 0, 0, 2, 3, 2, 5, 8, 4, 0, 3, 6, 3, 1, 6, 4, 7, 8, 0, 5, 5, 6, 5, 0, 0, 1, 2, 7, 7, 3, 6, 0, 4, 7, 0, 5, 2, 4, 2, 8, 6, 2, 1, 6, 2, 7, 7, 2, 8, 8, 5, 1, 7, 5, 2, 5, 6, 0, 0, 6, 5, 3, 4, 2, 0, 3, 7, 5, 7, 2, 1, 1, 0, 4, 6, 2, 1, 1, 7, 1, 4, 3, 8, 8, 6, 4, 6, 0, 2, 1, 4, 7, 6, 2, 5, 6, 3, 1, 2, 4, 7, 4, 1, 2, 5, 5, 4, 0, 0, 4, 7, 1, 7, 6, 3, 0, 3, 2, 8, 2, 1, 4, 0, 8, 4, 8, 4, 0, 3, 3, 1, 5, 1, 7, 5, 5, 8, 1, 4, 3]\n",
            "Files processed =  100\n",
            "[6, 6, 6, 4, 2, 3, 3, 8, 0, 1, 3, 1, 6, 2, 2, 6, 6, 4, 4, 6, 6, 2, 4, 2, 1, 6, 0, 0, 8, 8, 3, 6, 4, 4, 5, 0, 1, 3, 1, 1, 2, 8, 0, 8, 8, 2, 6, 1, 1, 8, 6, 6, 4, 3, 1, 3, 4, 8, 1, 2, 6, 4, 2, 2, 6, 3, 4, 6, 6, 3, 4, 8, 8, 3, 1, 0, 8, 0, 0, 5, 6, 3, 2, 0, 1, 6, 7, 3, 2, 1, 6, 3, 1, 6, 1, 0, 4, 6, 1, 4, 0, 3, 3, 1, 3, 8, 2, 2, 1, 3, 4, 5, 6, 3, 2, 3, 2, 3, 8, 0, 5, 7, 6, 4, 4, 4, 6, 1, 6, 1, 4, 6, 6, 8, 3, 1, 4, 6, 3, 6, 1, 0, 0, 3, 0, 4, 7, 3, 6, 3, 5, 3, 8, 3, 8, 8, 5, 6, 6, 8, 2, 3, 6, 1, 6, 5, 8, 6, 1, 4, 1, 8, 1, 1, 3, 1, 2, 3, 4, 6, 8, 8, 3, 2, 1, 1, 1, 6, 3, 1, 8, 1, 6, 1, 6, 3, 3, 0, 8, 1, 2, 1, 0, 8, 1, 2, 3, 1, 8, 6, 8, 1, 1, 8, 3, 0, 2, 4, 0, 0, 2, 7, 3, 4, 3, 0, 0, 2, 4, 2, 8, 5, 3, 7, 6, 6, 6, 1, 6, 4, 1, 3, 8, 8, 8, 6, 3, 2, 5, 4, 2, 1, 1, 8, 6, 0, 1, 4, 5, 5, 2, 3, 0, 8, 6, 2, 1, 6, 2, 5, 7, 2, 6, 8, 3, 1, 7, 5, 2, 3, 6, 7, 0, 6, 3, 0, 8, 2, 2, 6, 1, 4, 1, 2, 1, 1, 0, 6, 6, 2, 1, 1, 3, 1, 4, 1, 8, 3, 6, 4, 6, 0, 2, 1, 1, 1, 6, 8, 3, 6, 4, 1, 2, 3, 1, 6, 1, 2, 5, 3, 3, 3, 8, 3, 1, 1, 3, 6, 0, 6, 4, 2, 8, 2, 1, 6, 0, 3, 4, 8, 1, 4, 3, 3, 3, 8, 1, 5, 4, 5, 8, 1, 3, 3, 8, 1, 4, 5, 7, 1, 6, 8, 5, 6, 4, 5, 6, 6, 3, 3, 3, 0, 7, 2, 8, 0, 0, 3, 4, 6, 2, 7, 1, 8, 6, 2, 1, 8, 4, 1, 0, 3, 0, 1]\n",
            "[6, 6, 6, 3, 2, 1, 3, 2, 0, 7, 8, 1, 6, 2, 2, 5, 4, 4, 4, 6, 6, 2, 4, 8, 3, 6, 0, 7, 8, 0, 5, 5, 4, 7, 5, 0, 1, 7, 7, 7, 2, 5, 0, 8, 8, 2, 6, 1, 5, 2, 4, 6, 5, 4, 1, 4, 4, 8, 1, 2, 6, 7, 2, 2, 8, 5, 4, 6, 6, 3, 8, 8, 3, 8, 1, 3, 5, 5, 0, 5, 6, 7, 2, 0, 7, 6, 7, 3, 2, 1, 6, 0, 1, 5, 4, 0, 4, 5, 1, 3, 0, 8, 3, 7, 0, 8, 2, 2, 1, 8, 3, 0, 3, 3, 2, 3, 2, 5, 8, 0, 8, 0, 6, 4, 3, 4, 6, 7, 6, 1, 3, 6, 3, 8, 4, 7, 4, 6, 5, 3, 1, 0, 0, 3, 0, 3, 0, 3, 6, 3, 7, 7, 5, 4, 2, 5, 5, 4, 3, 2, 5, 8, 6, 1, 3, 3, 4, 6, 1, 4, 1, 2, 1, 7, 3, 1, 2, 8, 4, 3, 0, 8, 8, 2, 7, 1, 7, 4, 3, 7, 8, 3, 4, 1, 6, 5, 4, 0, 8, 1, 2, 1, 0, 0, 1, 2, 3, 1, 8, 3, 8, 7, 1, 8, 4, 0, 2, 8, 3, 0, 0, 7, 3, 4, 3, 0, 0, 2, 3, 2, 5, 8, 4, 0, 3, 6, 3, 1, 6, 4, 7, 8, 0, 5, 5, 6, 5, 0, 0, 1, 2, 7, 7, 3, 6, 0, 4, 7, 0, 5, 2, 4, 2, 8, 6, 2, 1, 6, 2, 7, 7, 2, 8, 8, 5, 1, 7, 5, 2, 5, 6, 0, 0, 6, 5, 3, 4, 2, 0, 3, 7, 5, 7, 2, 1, 1, 0, 4, 6, 2, 1, 1, 7, 1, 4, 3, 8, 8, 6, 4, 6, 0, 2, 1, 4, 7, 6, 2, 5, 6, 3, 1, 2, 4, 7, 4, 1, 2, 5, 5, 4, 0, 0, 4, 7, 1, 7, 6, 3, 0, 3, 2, 8, 2, 1, 4, 0, 8, 4, 8, 4, 0, 3, 3, 1, 5, 1, 7, 5, 5, 8, 1, 4, 3, 5, 1, 0, 7, 5, 1, 6, 5, 5, 8, 5, 5, 6, 5, 7, 8, 5, 0, 7, 2, 8, 2, 0, 8, 4, 6, 2, 7, 7, 2, 6, 2, 1, 2, 3, 7, 0, 8, 0, 1]\n",
            "Files processed =  110\n",
            "[6, 6, 6, 4, 2, 3, 3, 8, 0, 1, 3, 1, 6, 2, 2, 6, 6, 4, 4, 6, 6, 2, 4, 2, 1, 6, 0, 0, 8, 8, 3, 6, 4, 4, 5, 0, 1, 3, 1, 1, 2, 8, 0, 8, 8, 2, 6, 1, 1, 8, 6, 6, 4, 3, 1, 3, 4, 8, 1, 2, 6, 4, 2, 2, 6, 3, 4, 6, 6, 3, 4, 8, 8, 3, 1, 0, 8, 0, 0, 5, 6, 3, 2, 0, 1, 6, 7, 3, 2, 1, 6, 3, 1, 6, 1, 0, 4, 6, 1, 4, 0, 3, 3, 1, 3, 8, 2, 2, 1, 3, 4, 5, 6, 3, 2, 3, 2, 3, 8, 0, 5, 7, 6, 4, 4, 4, 6, 1, 6, 1, 4, 6, 6, 8, 3, 1, 4, 6, 3, 6, 1, 0, 0, 3, 0, 4, 7, 3, 6, 3, 5, 3, 8, 3, 8, 8, 5, 6, 6, 8, 2, 3, 6, 1, 6, 5, 8, 6, 1, 4, 1, 8, 1, 1, 3, 1, 2, 3, 4, 6, 8, 8, 3, 2, 1, 1, 1, 6, 3, 1, 8, 1, 6, 1, 6, 3, 3, 0, 8, 1, 2, 1, 0, 8, 1, 2, 3, 1, 8, 6, 8, 1, 1, 8, 3, 0, 2, 4, 0, 0, 2, 7, 3, 4, 3, 0, 0, 2, 4, 2, 8, 5, 3, 7, 6, 6, 6, 1, 6, 4, 1, 3, 8, 8, 8, 6, 3, 2, 5, 4, 2, 1, 1, 8, 6, 0, 1, 4, 5, 5, 2, 3, 0, 8, 6, 2, 1, 6, 2, 5, 7, 2, 6, 8, 3, 1, 7, 5, 2, 3, 6, 7, 0, 6, 3, 0, 8, 2, 2, 6, 1, 4, 1, 2, 1, 1, 0, 6, 6, 2, 1, 1, 3, 1, 4, 1, 8, 3, 6, 4, 6, 0, 2, 1, 1, 1, 6, 8, 3, 6, 4, 1, 2, 3, 1, 6, 1, 2, 5, 3, 3, 3, 8, 3, 1, 1, 3, 6, 0, 6, 4, 2, 8, 2, 1, 6, 0, 3, 4, 8, 1, 4, 3, 3, 3, 8, 1, 5, 4, 5, 8, 1, 3, 3, 8, 1, 4, 5, 7, 1, 6, 8, 5, 6, 4, 5, 6, 6, 3, 3, 3, 0, 7, 2, 8, 0, 0, 3, 4, 6, 2, 7, 1, 8, 6, 2, 1, 8, 4, 1, 0, 3, 0, 1, 5, 1, 5, 3, 1, 1, 4, 3, 6, 6, 5, 2, 6, 3, 8, 2, 6, 3, 4, 5, 3, 3, 5, 6, 3, 1, 3, 1, 1, 1, 4, 5, 3, 3, 6, 0, 8, 6, 8, 6]\n",
            "[6, 6, 6, 3, 2, 1, 3, 2, 0, 7, 8, 1, 6, 2, 2, 5, 4, 4, 4, 6, 6, 2, 4, 8, 3, 6, 0, 7, 8, 0, 5, 5, 4, 7, 5, 0, 1, 7, 7, 7, 2, 5, 0, 8, 8, 2, 6, 1, 5, 2, 4, 6, 5, 4, 1, 4, 4, 8, 1, 2, 6, 7, 2, 2, 8, 5, 4, 6, 6, 3, 8, 8, 3, 8, 1, 3, 5, 5, 0, 5, 6, 7, 2, 0, 7, 6, 7, 3, 2, 1, 6, 0, 1, 5, 4, 0, 4, 5, 1, 3, 0, 8, 3, 7, 0, 8, 2, 2, 1, 8, 3, 0, 3, 3, 2, 3, 2, 5, 8, 0, 8, 0, 6, 4, 3, 4, 6, 7, 6, 1, 3, 6, 3, 8, 4, 7, 4, 6, 5, 3, 1, 0, 0, 3, 0, 3, 0, 3, 6, 3, 7, 7, 5, 4, 2, 5, 5, 4, 3, 2, 5, 8, 6, 1, 3, 3, 4, 6, 1, 4, 1, 2, 1, 7, 3, 1, 2, 8, 4, 3, 0, 8, 8, 2, 7, 1, 7, 4, 3, 7, 8, 3, 4, 1, 6, 5, 4, 0, 8, 1, 2, 1, 0, 0, 1, 2, 3, 1, 8, 3, 8, 7, 1, 8, 4, 0, 2, 8, 3, 0, 0, 7, 3, 4, 3, 0, 0, 2, 3, 2, 5, 8, 4, 0, 3, 6, 3, 1, 6, 4, 7, 8, 0, 5, 5, 6, 5, 0, 0, 1, 2, 7, 7, 3, 6, 0, 4, 7, 0, 5, 2, 4, 2, 8, 6, 2, 1, 6, 2, 7, 7, 2, 8, 8, 5, 1, 7, 5, 2, 5, 6, 0, 0, 6, 5, 3, 4, 2, 0, 3, 7, 5, 7, 2, 1, 1, 0, 4, 6, 2, 1, 1, 7, 1, 4, 3, 8, 8, 6, 4, 6, 0, 2, 1, 4, 7, 6, 2, 5, 6, 3, 1, 2, 4, 7, 4, 1, 2, 5, 5, 4, 0, 0, 4, 7, 1, 7, 6, 3, 0, 3, 2, 8, 2, 1, 4, 0, 8, 4, 8, 4, 0, 3, 3, 1, 5, 1, 7, 5, 5, 8, 1, 4, 3, 5, 1, 0, 7, 5, 1, 6, 5, 5, 8, 5, 5, 6, 5, 7, 8, 5, 0, 7, 2, 8, 2, 0, 8, 4, 6, 2, 7, 7, 2, 6, 2, 1, 2, 3, 7, 0, 8, 0, 1, 8, 7, 7, 8, 7, 1, 4, 3, 6, 6, 7, 2, 6, 3, 8, 2, 6, 5, 8, 0, 5, 5, 7, 3, 3, 7, 5, 7, 1, 1, 5, 7, 7, 8, 6, 0, 5, 3, 0, 6]\n",
            "Files processed =  120\n",
            "[6, 6, 6, 4, 2, 3, 3, 8, 0, 1, 3, 1, 6, 2, 2, 6, 6, 4, 4, 6, 6, 2, 4, 2, 1, 6, 0, 0, 8, 8, 3, 6, 4, 4, 5, 0, 1, 3, 1, 1, 2, 8, 0, 8, 8, 2, 6, 1, 1, 8, 6, 6, 4, 3, 1, 3, 4, 8, 1, 2, 6, 4, 2, 2, 6, 3, 4, 6, 6, 3, 4, 8, 8, 3, 1, 0, 8, 0, 0, 5, 6, 3, 2, 0, 1, 6, 7, 3, 2, 1, 6, 3, 1, 6, 1, 0, 4, 6, 1, 4, 0, 3, 3, 1, 3, 8, 2, 2, 1, 3, 4, 5, 6, 3, 2, 3, 2, 3, 8, 0, 5, 7, 6, 4, 4, 4, 6, 1, 6, 1, 4, 6, 6, 8, 3, 1, 4, 6, 3, 6, 1, 0, 0, 3, 0, 4, 7, 3, 6, 3, 5, 3, 8, 3, 8, 8, 5, 6, 6, 8, 2, 3, 6, 1, 6, 5, 8, 6, 1, 4, 1, 8, 1, 1, 3, 1, 2, 3, 4, 6, 8, 8, 3, 2, 1, 1, 1, 6, 3, 1, 8, 1, 6, 1, 6, 3, 3, 0, 8, 1, 2, 1, 0, 8, 1, 2, 3, 1, 8, 6, 8, 1, 1, 8, 3, 0, 2, 4, 0, 0, 2, 7, 3, 4, 3, 0, 0, 2, 4, 2, 8, 5, 3, 7, 6, 6, 6, 1, 6, 4, 1, 3, 8, 8, 8, 6, 3, 2, 5, 4, 2, 1, 1, 8, 6, 0, 1, 4, 5, 5, 2, 3, 0, 8, 6, 2, 1, 6, 2, 5, 7, 2, 6, 8, 3, 1, 7, 5, 2, 3, 6, 7, 0, 6, 3, 0, 8, 2, 2, 6, 1, 4, 1, 2, 1, 1, 0, 6, 6, 2, 1, 1, 3, 1, 4, 1, 8, 3, 6, 4, 6, 0, 2, 1, 1, 1, 6, 8, 3, 6, 4, 1, 2, 3, 1, 6, 1, 2, 5, 3, 3, 3, 8, 3, 1, 1, 3, 6, 0, 6, 4, 2, 8, 2, 1, 6, 0, 3, 4, 8, 1, 4, 3, 3, 3, 8, 1, 5, 4, 5, 8, 1, 3, 3, 8, 1, 4, 5, 7, 1, 6, 8, 5, 6, 4, 5, 6, 6, 3, 3, 3, 0, 7, 2, 8, 0, 0, 3, 4, 6, 2, 7, 1, 8, 6, 2, 1, 8, 4, 1, 0, 3, 0, 1, 5, 1, 5, 3, 1, 1, 4, 3, 6, 6, 5, 2, 6, 3, 8, 2, 6, 3, 4, 5, 3, 3, 5, 6, 3, 1, 3, 1, 1, 1, 4, 5, 3, 3, 6, 0, 8, 6, 8, 6, 1, 0, 0, 8, 4, 2, 6, 0, 0, 3, 0, 1, 8, 7, 3, 3, 6, 0, 4, 1, 3, 6, 8, 4, 1, 1, 0, 5, 7, 4, 3, 6, 1, 1, 8, 7, 4, 6, 6, 4]\n",
            "[6, 6, 6, 3, 2, 1, 3, 2, 0, 7, 8, 1, 6, 2, 2, 5, 4, 4, 4, 6, 6, 2, 4, 8, 3, 6, 0, 7, 8, 0, 5, 5, 4, 7, 5, 0, 1, 7, 7, 7, 2, 5, 0, 8, 8, 2, 6, 1, 5, 2, 4, 6, 5, 4, 1, 4, 4, 8, 1, 2, 6, 7, 2, 2, 8, 5, 4, 6, 6, 3, 8, 8, 3, 8, 1, 3, 5, 5, 0, 5, 6, 7, 2, 0, 7, 6, 7, 3, 2, 1, 6, 0, 1, 5, 4, 0, 4, 5, 1, 3, 0, 8, 3, 7, 0, 8, 2, 2, 1, 8, 3, 0, 3, 3, 2, 3, 2, 5, 8, 0, 8, 0, 6, 4, 3, 4, 6, 7, 6, 1, 3, 6, 3, 8, 4, 7, 4, 6, 5, 3, 1, 0, 0, 3, 0, 3, 0, 3, 6, 3, 7, 7, 5, 4, 2, 5, 5, 4, 3, 2, 5, 8, 6, 1, 3, 3, 4, 6, 1, 4, 1, 2, 1, 7, 3, 1, 2, 8, 4, 3, 0, 8, 8, 2, 7, 1, 7, 4, 3, 7, 8, 3, 4, 1, 6, 5, 4, 0, 8, 1, 2, 1, 0, 0, 1, 2, 3, 1, 8, 3, 8, 7, 1, 8, 4, 0, 2, 8, 3, 0, 0, 7, 3, 4, 3, 0, 0, 2, 3, 2, 5, 8, 4, 0, 3, 6, 3, 1, 6, 4, 7, 8, 0, 5, 5, 6, 5, 0, 0, 1, 2, 7, 7, 3, 6, 0, 4, 7, 0, 5, 2, 4, 2, 8, 6, 2, 1, 6, 2, 7, 7, 2, 8, 8, 5, 1, 7, 5, 2, 5, 6, 0, 0, 6, 5, 3, 4, 2, 0, 3, 7, 5, 7, 2, 1, 1, 0, 4, 6, 2, 1, 1, 7, 1, 4, 3, 8, 8, 6, 4, 6, 0, 2, 1, 4, 7, 6, 2, 5, 6, 3, 1, 2, 4, 7, 4, 1, 2, 5, 5, 4, 0, 0, 4, 7, 1, 7, 6, 3, 0, 3, 2, 8, 2, 1, 4, 0, 8, 4, 8, 4, 0, 3, 3, 1, 5, 1, 7, 5, 5, 8, 1, 4, 3, 5, 1, 0, 7, 5, 1, 6, 5, 5, 8, 5, 5, 6, 5, 7, 8, 5, 0, 7, 2, 8, 2, 0, 8, 4, 6, 2, 7, 7, 2, 6, 2, 1, 2, 3, 7, 0, 8, 0, 1, 8, 7, 7, 8, 7, 1, 4, 3, 6, 6, 7, 2, 6, 3, 8, 2, 6, 5, 8, 0, 5, 5, 7, 3, 3, 7, 5, 7, 1, 1, 5, 7, 7, 8, 6, 0, 5, 3, 0, 6, 1, 0, 0, 8, 4, 2, 6, 0, 0, 8, 0, 1, 8, 7, 8, 8, 4, 4, 4, 7, 3, 6, 8, 4, 1, 7, 5, 5, 8, 1, 4, 6, 7, 3, 2, 7, 8, 4, 6, 7]\n",
            "Files processed =  130\n",
            "[6, 6, 6, 4, 2, 3, 3, 8, 0, 1, 3, 1, 6, 2, 2, 6, 6, 4, 4, 6, 6, 2, 4, 2, 1, 6, 0, 0, 8, 8, 3, 6, 4, 4, 5, 0, 1, 3, 1, 1, 2, 8, 0, 8, 8, 2, 6, 1, 1, 8, 6, 6, 4, 3, 1, 3, 4, 8, 1, 2, 6, 4, 2, 2, 6, 3, 4, 6, 6, 3, 4, 8, 8, 3, 1, 0, 8, 0, 0, 5, 6, 3, 2, 0, 1, 6, 7, 3, 2, 1, 6, 3, 1, 6, 1, 0, 4, 6, 1, 4, 0, 3, 3, 1, 3, 8, 2, 2, 1, 3, 4, 5, 6, 3, 2, 3, 2, 3, 8, 0, 5, 7, 6, 4, 4, 4, 6, 1, 6, 1, 4, 6, 6, 8, 3, 1, 4, 6, 3, 6, 1, 0, 0, 3, 0, 4, 7, 3, 6, 3, 5, 3, 8, 3, 8, 8, 5, 6, 6, 8, 2, 3, 6, 1, 6, 5, 8, 6, 1, 4, 1, 8, 1, 1, 3, 1, 2, 3, 4, 6, 8, 8, 3, 2, 1, 1, 1, 6, 3, 1, 8, 1, 6, 1, 6, 3, 3, 0, 8, 1, 2, 1, 0, 8, 1, 2, 3, 1, 8, 6, 8, 1, 1, 8, 3, 0, 2, 4, 0, 0, 2, 7, 3, 4, 3, 0, 0, 2, 4, 2, 8, 5, 3, 7, 6, 6, 6, 1, 6, 4, 1, 3, 8, 8, 8, 6, 3, 2, 5, 4, 2, 1, 1, 8, 6, 0, 1, 4, 5, 5, 2, 3, 0, 8, 6, 2, 1, 6, 2, 5, 7, 2, 6, 8, 3, 1, 7, 5, 2, 3, 6, 7, 0, 6, 3, 0, 8, 2, 2, 6, 1, 4, 1, 2, 1, 1, 0, 6, 6, 2, 1, 1, 3, 1, 4, 1, 8, 3, 6, 4, 6, 0, 2, 1, 1, 1, 6, 8, 3, 6, 4, 1, 2, 3, 1, 6, 1, 2, 5, 3, 3, 3, 8, 3, 1, 1, 3, 6, 0, 6, 4, 2, 8, 2, 1, 6, 0, 3, 4, 8, 1, 4, 3, 3, 3, 8, 1, 5, 4, 5, 8, 1, 3, 3, 8, 1, 4, 5, 7, 1, 6, 8, 5, 6, 4, 5, 6, 6, 3, 3, 3, 0, 7, 2, 8, 0, 0, 3, 4, 6, 2, 7, 1, 8, 6, 2, 1, 8, 4, 1, 0, 3, 0, 1, 5, 1, 5, 3, 1, 1, 4, 3, 6, 6, 5, 2, 6, 3, 8, 2, 6, 3, 4, 5, 3, 3, 5, 6, 3, 1, 3, 1, 1, 1, 4, 5, 3, 3, 6, 0, 8, 6, 8, 6, 1, 0, 0, 8, 4, 2, 6, 0, 0, 3, 0, 1, 8, 7, 3, 3, 6, 0, 4, 1, 3, 6, 8, 4, 1, 1, 0, 5, 7, 4, 3, 6, 1, 1, 8, 7, 4, 6, 6, 4, 6, 3, 0, 2, 6, 6, 1, 1, 6, 3, 8, 0, 6, 1, 8, 3, 0, 6, 3, 0, 1, 8, 8, 6, 5, 0, 1, 8, 3, 3, 8, 6, 6, 2, 8, 4, 6, 8, 3, 3]\n",
            "[6, 6, 6, 3, 2, 1, 3, 2, 0, 7, 8, 1, 6, 2, 2, 5, 4, 4, 4, 6, 6, 2, 4, 8, 3, 6, 0, 7, 8, 0, 5, 5, 4, 7, 5, 0, 1, 7, 7, 7, 2, 5, 0, 8, 8, 2, 6, 1, 5, 2, 4, 6, 5, 4, 1, 4, 4, 8, 1, 2, 6, 7, 2, 2, 8, 5, 4, 6, 6, 3, 8, 8, 3, 8, 1, 3, 5, 5, 0, 5, 6, 7, 2, 0, 7, 6, 7, 3, 2, 1, 6, 0, 1, 5, 4, 0, 4, 5, 1, 3, 0, 8, 3, 7, 0, 8, 2, 2, 1, 8, 3, 0, 3, 3, 2, 3, 2, 5, 8, 0, 8, 0, 6, 4, 3, 4, 6, 7, 6, 1, 3, 6, 3, 8, 4, 7, 4, 6, 5, 3, 1, 0, 0, 3, 0, 3, 0, 3, 6, 3, 7, 7, 5, 4, 2, 5, 5, 4, 3, 2, 5, 8, 6, 1, 3, 3, 4, 6, 1, 4, 1, 2, 1, 7, 3, 1, 2, 8, 4, 3, 0, 8, 8, 2, 7, 1, 7, 4, 3, 7, 8, 3, 4, 1, 6, 5, 4, 0, 8, 1, 2, 1, 0, 0, 1, 2, 3, 1, 8, 3, 8, 7, 1, 8, 4, 0, 2, 8, 3, 0, 0, 7, 3, 4, 3, 0, 0, 2, 3, 2, 5, 8, 4, 0, 3, 6, 3, 1, 6, 4, 7, 8, 0, 5, 5, 6, 5, 0, 0, 1, 2, 7, 7, 3, 6, 0, 4, 7, 0, 5, 2, 4, 2, 8, 6, 2, 1, 6, 2, 7, 7, 2, 8, 8, 5, 1, 7, 5, 2, 5, 6, 0, 0, 6, 5, 3, 4, 2, 0, 3, 7, 5, 7, 2, 1, 1, 0, 4, 6, 2, 1, 1, 7, 1, 4, 3, 8, 8, 6, 4, 6, 0, 2, 1, 4, 7, 6, 2, 5, 6, 3, 1, 2, 4, 7, 4, 1, 2, 5, 5, 4, 0, 0, 4, 7, 1, 7, 6, 3, 0, 3, 2, 8, 2, 1, 4, 0, 8, 4, 8, 4, 0, 3, 3, 1, 5, 1, 7, 5, 5, 8, 1, 4, 3, 5, 1, 0, 7, 5, 1, 6, 5, 5, 8, 5, 5, 6, 5, 7, 8, 5, 0, 7, 2, 8, 2, 0, 8, 4, 6, 2, 7, 7, 2, 6, 2, 1, 2, 3, 7, 0, 8, 0, 1, 8, 7, 7, 8, 7, 1, 4, 3, 6, 6, 7, 2, 6, 3, 8, 2, 6, 5, 8, 0, 5, 5, 7, 3, 3, 7, 5, 7, 1, 1, 5, 7, 7, 8, 6, 0, 5, 3, 0, 6, 1, 0, 0, 8, 4, 2, 6, 0, 0, 8, 0, 1, 8, 7, 8, 8, 4, 4, 4, 7, 3, 6, 8, 4, 1, 7, 5, 5, 8, 1, 4, 6, 7, 3, 2, 7, 8, 4, 6, 7, 6, 5, 2, 2, 6, 4, 1, 1, 4, 4, 3, 0, 6, 1, 7, 8, 5, 6, 4, 0, 1, 8, 8, 6, 2, 5, 1, 2, 5, 7, 8, 6, 5, 2, 0, 4, 4, 8, 3, 8]\n"
          ],
          "name": "stdout"
        },
        {
          "output_type": "stream",
          "text": [
            "\r  5%|▌         | 9/170 [3:52:18<68:50:47, 1539.42s/it]"
          ],
          "name": "stderr"
        },
        {
          "output_type": "stream",
          "text": [
            "Accuracy epoch 38  =  0.5428051001821493\n",
            "tensor(1.0916, device='cuda:0', grad_fn=<NllLossBackward>)\n",
            "tensor(0.9016, device='cuda:0', grad_fn=<NllLossBackward>)\n",
            "tensor(1.3273, device='cuda:0', grad_fn=<NllLossBackward>)\n",
            "tensor(1.0325, device='cuda:0', grad_fn=<NllLossBackward>)\n",
            "tensor(0.6659, device='cuda:0', grad_fn=<NllLossBackward>)\n",
            "tensor(1.7749, device='cuda:0', grad_fn=<NllLossBackward>)\n",
            "tensor(0.8337, device='cuda:0', grad_fn=<NllLossBackward>)\n",
            "tensor(0.5481, device='cuda:0', grad_fn=<NllLossBackward>)\n",
            "tensor(0.3790, device='cuda:0', grad_fn=<NllLossBackward>)\n",
            "tensor(1.0863, device='cuda:0', grad_fn=<NllLossBackward>)\n",
            "tensor(0.6758, device='cuda:0', grad_fn=<NllLossBackward>)\n",
            "COST epoch 39  =  [tensor(1111.4436), tensor(990.5597), tensor(934.4700), tensor(874.6571), tensor(822.8998), tensor(800.3447), tensor(765.9095), tensor(740.0458), tensor(718.9320), tensor(719.7072), tensor(693.2490), tensor(697.7689), tensor(672.8008), tensor(661.9917), tensor(658.5683), tensor(635.4274), tensor(631.2565), tensor(615.2205), tensor(607.1673), tensor(607.2458), tensor(606.9468), tensor(562.4706), tensor(572.2747), tensor(568.2372), tensor(549.9225), tensor(549.4277), tensor(539.3239), tensor(530.7670), tensor(519.7222), tensor(514.4471), tensor(505.1449), tensor(497.7492), tensor(483.2874, device='cuda:0'), tensor(486.2227, device='cuda:0'), tensor(471.6280, device='cuda:0'), tensor(463.2786, device='cuda:0'), tensor(463.6834, device='cuda:0'), tensor(461.9894, device='cuda:0'), tensor(444.4067, device='cuda:0'), tensor(445.1245, device='cuda:0'), tensor(418.3448, device='cuda:0'), tensor(431.1009, device='cuda:0')]\n",
            "Files processed =  0\n",
            "[5, 5, 7, 0]\n",
            "[8, 5, 7, 3]\n",
            "Files processed =  10\n",
            "[5, 5, 7, 0, 7, 5, 2, 5, 3, 0, 6, 2, 3, 5, 4, 1, 2, 6, 7, 0, 6, 2, 5, 1, 1, 6, 1, 8, 6, 7, 7, 5, 8, 4, 6, 2, 7, 2, 2, 0, 3, 4, 1, 5]\n",
            "[8, 5, 7, 3, 0, 8, 2, 5, 3, 0, 6, 8, 4, 5, 4, 1, 8, 6, 7, 0, 6, 2, 4, 1, 7, 6, 2, 5, 6, 8, 8, 8, 0, 8, 6, 8, 3, 2, 2, 0, 4, 3, 1, 5]\n",
            "Files processed =  20\n",
            "[5, 5, 7, 0, 7, 5, 2, 5, 3, 0, 6, 2, 3, 5, 4, 1, 2, 6, 7, 0, 6, 2, 5, 1, 1, 6, 1, 8, 6, 7, 7, 5, 8, 4, 6, 2, 7, 2, 2, 0, 3, 4, 1, 5, 1, 3, 7, 2, 2, 4, 1, 4, 1, 1, 2, 0, 5, 6, 5, 7, 1, 8, 3, 6, 7, 2, 0, 0, 1, 8, 6, 8, 2, 6, 1, 0, 2, 1, 5, 3, 6, 7, 5, 3]\n",
            "[8, 5, 7, 3, 0, 8, 2, 5, 3, 0, 6, 8, 4, 5, 4, 1, 8, 6, 7, 0, 6, 2, 4, 1, 7, 6, 2, 5, 6, 8, 8, 8, 0, 8, 6, 8, 3, 2, 2, 0, 4, 3, 1, 5, 1, 0, 3, 2, 2, 5, 1, 3, 1, 1, 5, 0, 5, 6, 0, 0, 7, 8, 3, 6, 0, 8, 0, 0, 1, 8, 3, 8, 0, 6, 1, 2, 2, 1, 5, 3, 6, 0, 0, 3]\n",
            "Files processed =  30\n",
            "[5, 5, 7, 0, 7, 5, 2, 5, 3, 0, 6, 2, 3, 5, 4, 1, 2, 6, 7, 0, 6, 2, 5, 1, 1, 6, 1, 8, 6, 7, 7, 5, 8, 4, 6, 2, 7, 2, 2, 0, 3, 4, 1, 5, 1, 3, 7, 2, 2, 4, 1, 4, 1, 1, 2, 0, 5, 6, 5, 7, 1, 8, 3, 6, 7, 2, 0, 0, 1, 8, 6, 8, 2, 6, 1, 0, 2, 1, 5, 3, 6, 7, 5, 3, 5, 8, 1, 4, 1, 4, 5, 7, 7, 5, 5, 0, 3, 0, 3, 2, 5, 5, 2, 2, 1, 1, 5, 5, 0, 5, 2, 5, 8, 1, 1, 6, 1, 4, 2, 4, 4, 0, 0, 3]\n",
            "[8, 5, 7, 3, 0, 8, 2, 5, 3, 0, 6, 8, 4, 5, 4, 1, 8, 6, 7, 0, 6, 2, 4, 1, 7, 6, 2, 5, 6, 8, 8, 8, 0, 8, 6, 8, 3, 2, 2, 0, 4, 3, 1, 5, 1, 0, 3, 2, 2, 5, 1, 3, 1, 1, 5, 0, 5, 6, 0, 0, 7, 8, 3, 6, 0, 8, 0, 0, 1, 8, 3, 8, 0, 6, 1, 2, 2, 1, 5, 3, 6, 0, 0, 3, 5, 8, 7, 4, 1, 4, 8, 0, 1, 8, 8, 0, 4, 0, 8, 2, 5, 3, 0, 2, 1, 1, 7, 0, 0, 0, 2, 8, 0, 7, 3, 6, 7, 3, 2, 3, 4, 0, 0, 3]\n",
            "Files processed =  40\n",
            "[5, 5, 7, 0, 7, 5, 2, 5, 3, 0, 6, 2, 3, 5, 4, 1, 2, 6, 7, 0, 6, 2, 5, 1, 1, 6, 1, 8, 6, 7, 7, 5, 8, 4, 6, 2, 7, 2, 2, 0, 3, 4, 1, 5, 1, 3, 7, 2, 2, 4, 1, 4, 1, 1, 2, 0, 5, 6, 5, 7, 1, 8, 3, 6, 7, 2, 0, 0, 1, 8, 6, 8, 2, 6, 1, 0, 2, 1, 5, 3, 6, 7, 5, 3, 5, 8, 1, 4, 1, 4, 5, 7, 7, 5, 5, 0, 3, 0, 3, 2, 5, 5, 2, 2, 1, 1, 5, 5, 0, 5, 2, 5, 8, 1, 1, 6, 1, 4, 2, 4, 4, 0, 0, 3, 4, 4, 2, 2, 5, 4, 5, 4, 1, 7, 8, 5, 2, 3, 6, 1, 6, 4, 7, 6, 1, 8, 2, 4, 3, 2, 6, 7, 1, 5, 5, 7, 7, 6, 1, 6, 4, 5, 5, 4]\n",
            "[8, 5, 7, 3, 0, 8, 2, 5, 3, 0, 6, 8, 4, 5, 4, 1, 8, 6, 7, 0, 6, 2, 4, 1, 7, 6, 2, 5, 6, 8, 8, 8, 0, 8, 6, 8, 3, 2, 2, 0, 4, 3, 1, 5, 1, 0, 3, 2, 2, 5, 1, 3, 1, 1, 5, 0, 5, 6, 0, 0, 7, 8, 3, 6, 0, 8, 0, 0, 1, 8, 3, 8, 0, 6, 1, 2, 2, 1, 5, 3, 6, 0, 0, 3, 5, 8, 7, 4, 1, 4, 8, 0, 1, 8, 8, 0, 4, 0, 8, 2, 5, 3, 0, 2, 1, 1, 7, 0, 0, 0, 2, 8, 0, 7, 3, 6, 7, 3, 2, 3, 4, 0, 0, 3, 3, 4, 2, 2, 8, 4, 5, 5, 1, 7, 8, 3, 2, 5, 6, 1, 6, 3, 7, 6, 1, 8, 0, 0, 5, 8, 6, 7, 1, 5, 5, 0, 5, 6, 1, 6, 5, 8, 5, 4]\n",
            "Files processed =  50\n",
            "[5, 5, 7, 0, 7, 5, 2, 5, 3, 0, 6, 2, 3, 5, 4, 1, 2, 6, 7, 0, 6, 2, 5, 1, 1, 6, 1, 8, 6, 7, 7, 5, 8, 4, 6, 2, 7, 2, 2, 0, 3, 4, 1, 5, 1, 3, 7, 2, 2, 4, 1, 4, 1, 1, 2, 0, 5, 6, 5, 7, 1, 8, 3, 6, 7, 2, 0, 0, 1, 8, 6, 8, 2, 6, 1, 0, 2, 1, 5, 3, 6, 7, 5, 3, 5, 8, 1, 4, 1, 4, 5, 7, 7, 5, 5, 0, 3, 0, 3, 2, 5, 5, 2, 2, 1, 1, 5, 5, 0, 5, 2, 5, 8, 1, 1, 6, 1, 4, 2, 4, 4, 0, 0, 3, 4, 4, 2, 2, 5, 4, 5, 4, 1, 7, 8, 5, 2, 3, 6, 1, 6, 4, 7, 6, 1, 8, 2, 4, 3, 2, 6, 7, 1, 5, 5, 7, 7, 6, 1, 6, 4, 5, 5, 4, 1, 6, 3, 1, 2, 5, 1, 5, 7, 1, 1, 6, 1, 7, 6, 2, 2, 2, 2, 4, 6, 5, 0, 6, 5, 4, 2, 5, 1, 5, 8, 7, 3, 5, 1, 0, 3, 4, 5, 5]\n",
            "[8, 5, 7, 3, 0, 8, 2, 5, 3, 0, 6, 8, 4, 5, 4, 1, 8, 6, 7, 0, 6, 2, 4, 1, 7, 6, 2, 5, 6, 8, 8, 8, 0, 8, 6, 8, 3, 2, 2, 0, 4, 3, 1, 5, 1, 0, 3, 2, 2, 5, 1, 3, 1, 1, 5, 0, 5, 6, 0, 0, 7, 8, 3, 6, 0, 8, 0, 0, 1, 8, 3, 8, 0, 6, 1, 2, 2, 1, 5, 3, 6, 0, 0, 3, 5, 8, 7, 4, 1, 4, 8, 0, 1, 8, 8, 0, 4, 0, 8, 2, 5, 3, 0, 2, 1, 1, 7, 0, 0, 0, 2, 8, 0, 7, 3, 6, 7, 3, 2, 3, 4, 0, 0, 3, 3, 4, 2, 2, 8, 4, 5, 5, 1, 7, 8, 3, 2, 5, 6, 1, 6, 3, 7, 6, 1, 8, 0, 0, 5, 8, 6, 7, 1, 5, 5, 0, 5, 6, 1, 6, 5, 8, 5, 4, 1, 6, 8, 1, 2, 8, 1, 8, 7, 1, 7, 6, 1, 7, 6, 2, 2, 2, 2, 3, 6, 5, 0, 6, 7, 4, 7, 5, 7, 0, 8, 3, 3, 4, 1, 0, 5, 3, 4, 8]\n",
            "Files processed =  60\n",
            "[5, 5, 7, 0, 7, 5, 2, 5, 3, 0, 6, 2, 3, 5, 4, 1, 2, 6, 7, 0, 6, 2, 5, 1, 1, 6, 1, 8, 6, 7, 7, 5, 8, 4, 6, 2, 7, 2, 2, 0, 3, 4, 1, 5, 1, 3, 7, 2, 2, 4, 1, 4, 1, 1, 2, 0, 5, 6, 5, 7, 1, 8, 3, 6, 7, 2, 0, 0, 1, 8, 6, 8, 2, 6, 1, 0, 2, 1, 5, 3, 6, 7, 5, 3, 5, 8, 1, 4, 1, 4, 5, 7, 7, 5, 5, 0, 3, 0, 3, 2, 5, 5, 2, 2, 1, 1, 5, 5, 0, 5, 2, 5, 8, 1, 1, 6, 1, 4, 2, 4, 4, 0, 0, 3, 4, 4, 2, 2, 5, 4, 5, 4, 1, 7, 8, 5, 2, 3, 6, 1, 6, 4, 7, 6, 1, 8, 2, 4, 3, 2, 6, 7, 1, 5, 5, 7, 7, 6, 1, 6, 4, 5, 5, 4, 1, 6, 3, 1, 2, 5, 1, 5, 7, 1, 1, 6, 1, 7, 6, 2, 2, 2, 2, 4, 6, 5, 0, 6, 5, 4, 2, 5, 1, 5, 8, 7, 3, 5, 1, 0, 3, 4, 5, 5, 5, 5, 7, 3, 6, 3, 1, 1, 5, 2, 2, 6, 6, 4, 2, 7, 5, 1, 3, 6, 6, 6, 6, 1, 4, 4, 5, 5, 5, 1, 7, 7, 2, 5, 1, 3, 5, 5, 2, 5]\n",
            "[8, 5, 7, 3, 0, 8, 2, 5, 3, 0, 6, 8, 4, 5, 4, 1, 8, 6, 7, 0, 6, 2, 4, 1, 7, 6, 2, 5, 6, 8, 8, 8, 0, 8, 6, 8, 3, 2, 2, 0, 4, 3, 1, 5, 1, 0, 3, 2, 2, 5, 1, 3, 1, 1, 5, 0, 5, 6, 0, 0, 7, 8, 3, 6, 0, 8, 0, 0, 1, 8, 3, 8, 0, 6, 1, 2, 2, 1, 5, 3, 6, 0, 0, 3, 5, 8, 7, 4, 1, 4, 8, 0, 1, 8, 8, 0, 4, 0, 8, 2, 5, 3, 0, 2, 1, 1, 7, 0, 0, 0, 2, 8, 0, 7, 3, 6, 7, 3, 2, 3, 4, 0, 0, 3, 3, 4, 2, 2, 8, 4, 5, 5, 1, 7, 8, 3, 2, 5, 6, 1, 6, 3, 7, 6, 1, 8, 0, 0, 5, 8, 6, 7, 1, 5, 5, 0, 5, 6, 1, 6, 5, 8, 5, 4, 1, 6, 8, 1, 2, 8, 1, 8, 7, 1, 7, 6, 1, 7, 6, 2, 2, 2, 2, 3, 6, 5, 0, 6, 7, 4, 7, 5, 7, 0, 8, 3, 3, 4, 1, 0, 5, 3, 4, 8, 5, 7, 4, 3, 6, 8, 7, 7, 7, 2, 5, 6, 6, 4, 2, 0, 7, 3, 8, 6, 6, 6, 3, 1, 4, 3, 7, 7, 8, 1, 0, 0, 2, 5, 1, 3, 8, 4, 2, 3]\n",
            "Files processed =  70\n",
            "[5, 5, 7, 0, 7, 5, 2, 5, 3, 0, 6, 2, 3, 5, 4, 1, 2, 6, 7, 0, 6, 2, 5, 1, 1, 6, 1, 8, 6, 7, 7, 5, 8, 4, 6, 2, 7, 2, 2, 0, 3, 4, 1, 5, 1, 3, 7, 2, 2, 4, 1, 4, 1, 1, 2, 0, 5, 6, 5, 7, 1, 8, 3, 6, 7, 2, 0, 0, 1, 8, 6, 8, 2, 6, 1, 0, 2, 1, 5, 3, 6, 7, 5, 3, 5, 8, 1, 4, 1, 4, 5, 7, 7, 5, 5, 0, 3, 0, 3, 2, 5, 5, 2, 2, 1, 1, 5, 5, 0, 5, 2, 5, 8, 1, 1, 6, 1, 4, 2, 4, 4, 0, 0, 3, 4, 4, 2, 2, 5, 4, 5, 4, 1, 7, 8, 5, 2, 3, 6, 1, 6, 4, 7, 6, 1, 8, 2, 4, 3, 2, 6, 7, 1, 5, 5, 7, 7, 6, 1, 6, 4, 5, 5, 4, 1, 6, 3, 1, 2, 5, 1, 5, 7, 1, 1, 6, 1, 7, 6, 2, 2, 2, 2, 4, 6, 5, 0, 6, 5, 4, 2, 5, 1, 5, 8, 7, 3, 5, 1, 0, 3, 4, 5, 5, 5, 5, 7, 3, 6, 3, 1, 1, 5, 2, 2, 6, 6, 4, 2, 7, 5, 1, 3, 6, 6, 6, 6, 1, 4, 4, 5, 5, 5, 1, 7, 7, 2, 5, 1, 3, 5, 5, 2, 5, 2, 1, 4, 3, 6, 2, 4, 6, 2, 0, 4, 6, 4, 1, 8, 8, 3, 4, 1, 8, 5, 1, 7, 5, 4, 5, 2, 7, 6, 4, 5, 6, 2, 5, 7, 5, 7, 6, 2, 1]\n",
            "[8, 5, 7, 3, 0, 8, 2, 5, 3, 0, 6, 8, 4, 5, 4, 1, 8, 6, 7, 0, 6, 2, 4, 1, 7, 6, 2, 5, 6, 8, 8, 8, 0, 8, 6, 8, 3, 2, 2, 0, 4, 3, 1, 5, 1, 0, 3, 2, 2, 5, 1, 3, 1, 1, 5, 0, 5, 6, 0, 0, 7, 8, 3, 6, 0, 8, 0, 0, 1, 8, 3, 8, 0, 6, 1, 2, 2, 1, 5, 3, 6, 0, 0, 3, 5, 8, 7, 4, 1, 4, 8, 0, 1, 8, 8, 0, 4, 0, 8, 2, 5, 3, 0, 2, 1, 1, 7, 0, 0, 0, 2, 8, 0, 7, 3, 6, 7, 3, 2, 3, 4, 0, 0, 3, 3, 4, 2, 2, 8, 4, 5, 5, 1, 7, 8, 3, 2, 5, 6, 1, 6, 3, 7, 6, 1, 8, 0, 0, 5, 8, 6, 7, 1, 5, 5, 0, 5, 6, 1, 6, 5, 8, 5, 4, 1, 6, 8, 1, 2, 8, 1, 8, 7, 1, 7, 6, 1, 7, 6, 2, 2, 2, 2, 3, 6, 5, 0, 6, 7, 4, 7, 5, 7, 0, 8, 3, 3, 4, 1, 0, 5, 3, 4, 8, 5, 7, 4, 3, 6, 8, 7, 7, 7, 2, 5, 6, 6, 4, 2, 0, 7, 3, 8, 6, 6, 6, 3, 1, 4, 3, 7, 7, 8, 1, 0, 0, 2, 5, 1, 3, 8, 4, 2, 3, 2, 7, 5, 4, 6, 2, 3, 6, 2, 0, 4, 6, 4, 1, 5, 5, 8, 4, 7, 8, 7, 1, 8, 5, 4, 3, 2, 0, 6, 5, 3, 6, 2, 8, 3, 5, 7, 6, 2, 1]\n",
            "Files processed =  80\n",
            "[5, 5, 7, 0, 7, 5, 2, 5, 3, 0, 6, 2, 3, 5, 4, 1, 2, 6, 7, 0, 6, 2, 5, 1, 1, 6, 1, 8, 6, 7, 7, 5, 8, 4, 6, 2, 7, 2, 2, 0, 3, 4, 1, 5, 1, 3, 7, 2, 2, 4, 1, 4, 1, 1, 2, 0, 5, 6, 5, 7, 1, 8, 3, 6, 7, 2, 0, 0, 1, 8, 6, 8, 2, 6, 1, 0, 2, 1, 5, 3, 6, 7, 5, 3, 5, 8, 1, 4, 1, 4, 5, 7, 7, 5, 5, 0, 3, 0, 3, 2, 5, 5, 2, 2, 1, 1, 5, 5, 0, 5, 2, 5, 8, 1, 1, 6, 1, 4, 2, 4, 4, 0, 0, 3, 4, 4, 2, 2, 5, 4, 5, 4, 1, 7, 8, 5, 2, 3, 6, 1, 6, 4, 7, 6, 1, 8, 2, 4, 3, 2, 6, 7, 1, 5, 5, 7, 7, 6, 1, 6, 4, 5, 5, 4, 1, 6, 3, 1, 2, 5, 1, 5, 7, 1, 1, 6, 1, 7, 6, 2, 2, 2, 2, 4, 6, 5, 0, 6, 5, 4, 2, 5, 1, 5, 8, 7, 3, 5, 1, 0, 3, 4, 5, 5, 5, 5, 7, 3, 6, 3, 1, 1, 5, 2, 2, 6, 6, 4, 2, 7, 5, 1, 3, 6, 6, 6, 6, 1, 4, 4, 5, 5, 5, 1, 7, 7, 2, 5, 1, 3, 5, 5, 2, 5, 2, 1, 4, 3, 6, 2, 4, 6, 2, 0, 4, 6, 4, 1, 8, 8, 3, 4, 1, 8, 5, 1, 7, 5, 4, 5, 2, 7, 6, 4, 5, 6, 2, 5, 7, 5, 7, 6, 2, 1, 1, 0, 8, 7, 3, 6, 7, 5, 7, 2, 7, 6, 3, 3, 2, 4, 2, 7, 4, 5, 2, 6, 1, 5, 1, 5, 8, 7, 4, 7, 6, 1, 3, 0, 4, 3, 1, 8, 6, 8]\n",
            "[8, 5, 7, 3, 0, 8, 2, 5, 3, 0, 6, 8, 4, 5, 4, 1, 8, 6, 7, 0, 6, 2, 4, 1, 7, 6, 2, 5, 6, 8, 8, 8, 0, 8, 6, 8, 3, 2, 2, 0, 4, 3, 1, 5, 1, 0, 3, 2, 2, 5, 1, 3, 1, 1, 5, 0, 5, 6, 0, 0, 7, 8, 3, 6, 0, 8, 0, 0, 1, 8, 3, 8, 0, 6, 1, 2, 2, 1, 5, 3, 6, 0, 0, 3, 5, 8, 7, 4, 1, 4, 8, 0, 1, 8, 8, 0, 4, 0, 8, 2, 5, 3, 0, 2, 1, 1, 7, 0, 0, 0, 2, 8, 0, 7, 3, 6, 7, 3, 2, 3, 4, 0, 0, 3, 3, 4, 2, 2, 8, 4, 5, 5, 1, 7, 8, 3, 2, 5, 6, 1, 6, 3, 7, 6, 1, 8, 0, 0, 5, 8, 6, 7, 1, 5, 5, 0, 5, 6, 1, 6, 5, 8, 5, 4, 1, 6, 8, 1, 2, 8, 1, 8, 7, 1, 7, 6, 1, 7, 6, 2, 2, 2, 2, 3, 6, 5, 0, 6, 7, 4, 7, 5, 7, 0, 8, 3, 3, 4, 1, 0, 5, 3, 4, 8, 5, 7, 4, 3, 6, 8, 7, 7, 7, 2, 5, 6, 6, 4, 2, 0, 7, 3, 8, 6, 6, 6, 3, 1, 4, 3, 7, 7, 8, 1, 0, 0, 2, 5, 1, 3, 8, 4, 2, 3, 2, 7, 5, 4, 6, 2, 3, 6, 2, 0, 4, 6, 4, 1, 5, 5, 8, 4, 7, 8, 7, 1, 8, 5, 4, 3, 2, 0, 6, 5, 3, 6, 2, 8, 3, 5, 7, 6, 2, 1, 1, 0, 5, 5, 4, 6, 0, 5, 8, 3, 4, 6, 3, 0, 0, 4, 2, 0, 4, 8, 2, 6, 1, 3, 1, 0, 8, 7, 4, 5, 4, 1, 3, 0, 4, 4, 7, 5, 6, 7]\n",
            "Files processed =  90\n",
            "[5, 5, 7, 0, 7, 5, 2, 5, 3, 0, 6, 2, 3, 5, 4, 1, 2, 6, 7, 0, 6, 2, 5, 1, 1, 6, 1, 8, 6, 7, 7, 5, 8, 4, 6, 2, 7, 2, 2, 0, 3, 4, 1, 5, 1, 3, 7, 2, 2, 4, 1, 4, 1, 1, 2, 0, 5, 6, 5, 7, 1, 8, 3, 6, 7, 2, 0, 0, 1, 8, 6, 8, 2, 6, 1, 0, 2, 1, 5, 3, 6, 7, 5, 3, 5, 8, 1, 4, 1, 4, 5, 7, 7, 5, 5, 0, 3, 0, 3, 2, 5, 5, 2, 2, 1, 1, 5, 5, 0, 5, 2, 5, 8, 1, 1, 6, 1, 4, 2, 4, 4, 0, 0, 3, 4, 4, 2, 2, 5, 4, 5, 4, 1, 7, 8, 5, 2, 3, 6, 1, 6, 4, 7, 6, 1, 8, 2, 4, 3, 2, 6, 7, 1, 5, 5, 7, 7, 6, 1, 6, 4, 5, 5, 4, 1, 6, 3, 1, 2, 5, 1, 5, 7, 1, 1, 6, 1, 7, 6, 2, 2, 2, 2, 4, 6, 5, 0, 6, 5, 4, 2, 5, 1, 5, 8, 7, 3, 5, 1, 0, 3, 4, 5, 5, 5, 5, 7, 3, 6, 3, 1, 1, 5, 2, 2, 6, 6, 4, 2, 7, 5, 1, 3, 6, 6, 6, 6, 1, 4, 4, 5, 5, 5, 1, 7, 7, 2, 5, 1, 3, 5, 5, 2, 5, 2, 1, 4, 3, 6, 2, 4, 6, 2, 0, 4, 6, 4, 1, 8, 8, 3, 4, 1, 8, 5, 1, 7, 5, 4, 5, 2, 7, 6, 4, 5, 6, 2, 5, 7, 5, 7, 6, 2, 1, 1, 0, 8, 7, 3, 6, 7, 5, 7, 2, 7, 6, 3, 3, 2, 4, 2, 7, 4, 5, 2, 6, 1, 5, 1, 5, 8, 7, 4, 7, 6, 1, 3, 0, 4, 3, 1, 8, 6, 8, 1, 2, 3, 4, 2, 3, 5, 7, 6, 8, 4, 2, 1, 2, 7, 1, 6, 8, 5, 4, 6, 3, 6, 2, 7, 5, 6, 6, 2, 2, 2, 0, 1, 8, 2, 1, 2, 3, 6, 4]\n",
            "[8, 5, 7, 3, 0, 8, 2, 5, 3, 0, 6, 8, 4, 5, 4, 1, 8, 6, 7, 0, 6, 2, 4, 1, 7, 6, 2, 5, 6, 8, 8, 8, 0, 8, 6, 8, 3, 2, 2, 0, 4, 3, 1, 5, 1, 0, 3, 2, 2, 5, 1, 3, 1, 1, 5, 0, 5, 6, 0, 0, 7, 8, 3, 6, 0, 8, 0, 0, 1, 8, 3, 8, 0, 6, 1, 2, 2, 1, 5, 3, 6, 0, 0, 3, 5, 8, 7, 4, 1, 4, 8, 0, 1, 8, 8, 0, 4, 0, 8, 2, 5, 3, 0, 2, 1, 1, 7, 0, 0, 0, 2, 8, 0, 7, 3, 6, 7, 3, 2, 3, 4, 0, 0, 3, 3, 4, 2, 2, 8, 4, 5, 5, 1, 7, 8, 3, 2, 5, 6, 1, 6, 3, 7, 6, 1, 8, 0, 0, 5, 8, 6, 7, 1, 5, 5, 0, 5, 6, 1, 6, 5, 8, 5, 4, 1, 6, 8, 1, 2, 8, 1, 8, 7, 1, 7, 6, 1, 7, 6, 2, 2, 2, 2, 3, 6, 5, 0, 6, 7, 4, 7, 5, 7, 0, 8, 3, 3, 4, 1, 0, 5, 3, 4, 8, 5, 7, 4, 3, 6, 8, 7, 7, 7, 2, 5, 6, 6, 4, 2, 0, 7, 3, 8, 6, 6, 6, 3, 1, 4, 3, 7, 7, 8, 1, 0, 0, 2, 5, 1, 3, 8, 4, 2, 3, 2, 7, 5, 4, 6, 2, 3, 6, 2, 0, 4, 6, 4, 1, 5, 5, 8, 4, 7, 8, 7, 1, 8, 5, 4, 3, 2, 0, 6, 5, 3, 6, 2, 8, 3, 5, 7, 6, 2, 1, 1, 0, 5, 5, 4, 6, 0, 5, 8, 3, 4, 6, 3, 0, 0, 4, 2, 0, 4, 8, 2, 6, 1, 3, 1, 0, 8, 7, 4, 5, 4, 1, 3, 0, 4, 4, 7, 5, 6, 7, 1, 2, 5, 5, 2, 4, 5, 3, 6, 8, 4, 2, 1, 2, 0, 7, 6, 8, 4, 4, 4, 3, 6, 2, 5, 5, 6, 6, 2, 2, 2, 0, 1, 5, 5, 1, 0, 1, 6, 4]\n",
            "Files processed =  100\n",
            "[5, 5, 7, 0, 7, 5, 2, 5, 3, 0, 6, 2, 3, 5, 4, 1, 2, 6, 7, 0, 6, 2, 5, 1, 1, 6, 1, 8, 6, 7, 7, 5, 8, 4, 6, 2, 7, 2, 2, 0, 3, 4, 1, 5, 1, 3, 7, 2, 2, 4, 1, 4, 1, 1, 2, 0, 5, 6, 5, 7, 1, 8, 3, 6, 7, 2, 0, 0, 1, 8, 6, 8, 2, 6, 1, 0, 2, 1, 5, 3, 6, 7, 5, 3, 5, 8, 1, 4, 1, 4, 5, 7, 7, 5, 5, 0, 3, 0, 3, 2, 5, 5, 2, 2, 1, 1, 5, 5, 0, 5, 2, 5, 8, 1, 1, 6, 1, 4, 2, 4, 4, 0, 0, 3, 4, 4, 2, 2, 5, 4, 5, 4, 1, 7, 8, 5, 2, 3, 6, 1, 6, 4, 7, 6, 1, 8, 2, 4, 3, 2, 6, 7, 1, 5, 5, 7, 7, 6, 1, 6, 4, 5, 5, 4, 1, 6, 3, 1, 2, 5, 1, 5, 7, 1, 1, 6, 1, 7, 6, 2, 2, 2, 2, 4, 6, 5, 0, 6, 5, 4, 2, 5, 1, 5, 8, 7, 3, 5, 1, 0, 3, 4, 5, 5, 5, 5, 7, 3, 6, 3, 1, 1, 5, 2, 2, 6, 6, 4, 2, 7, 5, 1, 3, 6, 6, 6, 6, 1, 4, 4, 5, 5, 5, 1, 7, 7, 2, 5, 1, 3, 5, 5, 2, 5, 2, 1, 4, 3, 6, 2, 4, 6, 2, 0, 4, 6, 4, 1, 8, 8, 3, 4, 1, 8, 5, 1, 7, 5, 4, 5, 2, 7, 6, 4, 5, 6, 2, 5, 7, 5, 7, 6, 2, 1, 1, 0, 8, 7, 3, 6, 7, 5, 7, 2, 7, 6, 3, 3, 2, 4, 2, 7, 4, 5, 2, 6, 1, 5, 1, 5, 8, 7, 4, 7, 6, 1, 3, 0, 4, 3, 1, 8, 6, 8, 1, 2, 3, 4, 2, 3, 5, 7, 6, 8, 4, 2, 1, 2, 7, 1, 6, 8, 5, 4, 6, 3, 6, 2, 7, 5, 6, 6, 2, 2, 2, 0, 1, 8, 2, 1, 2, 3, 6, 4, 5, 4, 0, 7, 2, 7, 2, 1, 1, 8, 4, 2, 6, 1, 3, 0, 3, 1, 1, 8, 5, 2, 3, 1, 5, 2, 1, 1, 2, 3, 7, 4, 3, 7, 4, 2, 4, 3, 1, 5]\n",
            "[8, 5, 7, 3, 0, 8, 2, 5, 3, 0, 6, 8, 4, 5, 4, 1, 8, 6, 7, 0, 6, 2, 4, 1, 7, 6, 2, 5, 6, 8, 8, 8, 0, 8, 6, 8, 3, 2, 2, 0, 4, 3, 1, 5, 1, 0, 3, 2, 2, 5, 1, 3, 1, 1, 5, 0, 5, 6, 0, 0, 7, 8, 3, 6, 0, 8, 0, 0, 1, 8, 3, 8, 0, 6, 1, 2, 2, 1, 5, 3, 6, 0, 0, 3, 5, 8, 7, 4, 1, 4, 8, 0, 1, 8, 8, 0, 4, 0, 8, 2, 5, 3, 0, 2, 1, 1, 7, 0, 0, 0, 2, 8, 0, 7, 3, 6, 7, 3, 2, 3, 4, 0, 0, 3, 3, 4, 2, 2, 8, 4, 5, 5, 1, 7, 8, 3, 2, 5, 6, 1, 6, 3, 7, 6, 1, 8, 0, 0, 5, 8, 6, 7, 1, 5, 5, 0, 5, 6, 1, 6, 5, 8, 5, 4, 1, 6, 8, 1, 2, 8, 1, 8, 7, 1, 7, 6, 1, 7, 6, 2, 2, 2, 2, 3, 6, 5, 0, 6, 7, 4, 7, 5, 7, 0, 8, 3, 3, 4, 1, 0, 5, 3, 4, 8, 5, 7, 4, 3, 6, 8, 7, 7, 7, 2, 5, 6, 6, 4, 2, 0, 7, 3, 8, 6, 6, 6, 3, 1, 4, 3, 7, 7, 8, 1, 0, 0, 2, 5, 1, 3, 8, 4, 2, 3, 2, 7, 5, 4, 6, 2, 3, 6, 2, 0, 4, 6, 4, 1, 5, 5, 8, 4, 7, 8, 7, 1, 8, 5, 4, 3, 2, 0, 6, 5, 3, 6, 2, 8, 3, 5, 7, 6, 2, 1, 1, 0, 5, 5, 4, 6, 0, 5, 8, 3, 4, 6, 3, 0, 0, 4, 2, 0, 4, 8, 2, 6, 1, 3, 1, 0, 8, 7, 4, 5, 4, 1, 3, 0, 4, 4, 7, 5, 6, 7, 1, 2, 5, 5, 2, 4, 5, 3, 6, 8, 4, 2, 1, 2, 0, 7, 6, 8, 4, 4, 4, 3, 6, 2, 5, 5, 6, 6, 2, 2, 2, 0, 1, 5, 5, 1, 0, 1, 6, 4, 5, 6, 7, 5, 8, 7, 2, 1, 1, 8, 4, 2, 6, 1, 3, 0, 8, 1, 1, 8, 8, 2, 4, 7, 8, 3, 7, 4, 2, 3, 7, 4, 3, 7, 4, 2, 4, 3, 3, 3]\n",
            "Files processed =  110\n",
            "[5, 5, 7, 0, 7, 5, 2, 5, 3, 0, 6, 2, 3, 5, 4, 1, 2, 6, 7, 0, 6, 2, 5, 1, 1, 6, 1, 8, 6, 7, 7, 5, 8, 4, 6, 2, 7, 2, 2, 0, 3, 4, 1, 5, 1, 3, 7, 2, 2, 4, 1, 4, 1, 1, 2, 0, 5, 6, 5, 7, 1, 8, 3, 6, 7, 2, 0, 0, 1, 8, 6, 8, 2, 6, 1, 0, 2, 1, 5, 3, 6, 7, 5, 3, 5, 8, 1, 4, 1, 4, 5, 7, 7, 5, 5, 0, 3, 0, 3, 2, 5, 5, 2, 2, 1, 1, 5, 5, 0, 5, 2, 5, 8, 1, 1, 6, 1, 4, 2, 4, 4, 0, 0, 3, 4, 4, 2, 2, 5, 4, 5, 4, 1, 7, 8, 5, 2, 3, 6, 1, 6, 4, 7, 6, 1, 8, 2, 4, 3, 2, 6, 7, 1, 5, 5, 7, 7, 6, 1, 6, 4, 5, 5, 4, 1, 6, 3, 1, 2, 5, 1, 5, 7, 1, 1, 6, 1, 7, 6, 2, 2, 2, 2, 4, 6, 5, 0, 6, 5, 4, 2, 5, 1, 5, 8, 7, 3, 5, 1, 0, 3, 4, 5, 5, 5, 5, 7, 3, 6, 3, 1, 1, 5, 2, 2, 6, 6, 4, 2, 7, 5, 1, 3, 6, 6, 6, 6, 1, 4, 4, 5, 5, 5, 1, 7, 7, 2, 5, 1, 3, 5, 5, 2, 5, 2, 1, 4, 3, 6, 2, 4, 6, 2, 0, 4, 6, 4, 1, 8, 8, 3, 4, 1, 8, 5, 1, 7, 5, 4, 5, 2, 7, 6, 4, 5, 6, 2, 5, 7, 5, 7, 6, 2, 1, 1, 0, 8, 7, 3, 6, 7, 5, 7, 2, 7, 6, 3, 3, 2, 4, 2, 7, 4, 5, 2, 6, 1, 5, 1, 5, 8, 7, 4, 7, 6, 1, 3, 0, 4, 3, 1, 8, 6, 8, 1, 2, 3, 4, 2, 3, 5, 7, 6, 8, 4, 2, 1, 2, 7, 1, 6, 8, 5, 4, 6, 3, 6, 2, 7, 5, 6, 6, 2, 2, 2, 0, 1, 8, 2, 1, 2, 3, 6, 4, 5, 4, 0, 7, 2, 7, 2, 1, 1, 8, 4, 2, 6, 1, 3, 0, 3, 1, 1, 8, 5, 2, 3, 1, 5, 2, 1, 1, 2, 3, 7, 4, 3, 7, 4, 2, 4, 3, 1, 5, 4, 7, 2, 4, 5, 1, 2, 5, 1, 3, 3, 5, 3, 1, 6, 7, 2, 4, 4, 5, 5, 5, 3, 7, 5, 3, 1, 1, 5, 7, 8, 6, 6, 4, 6, 1, 1, 1, 0, 1]\n",
            "[8, 5, 7, 3, 0, 8, 2, 5, 3, 0, 6, 8, 4, 5, 4, 1, 8, 6, 7, 0, 6, 2, 4, 1, 7, 6, 2, 5, 6, 8, 8, 8, 0, 8, 6, 8, 3, 2, 2, 0, 4, 3, 1, 5, 1, 0, 3, 2, 2, 5, 1, 3, 1, 1, 5, 0, 5, 6, 0, 0, 7, 8, 3, 6, 0, 8, 0, 0, 1, 8, 3, 8, 0, 6, 1, 2, 2, 1, 5, 3, 6, 0, 0, 3, 5, 8, 7, 4, 1, 4, 8, 0, 1, 8, 8, 0, 4, 0, 8, 2, 5, 3, 0, 2, 1, 1, 7, 0, 0, 0, 2, 8, 0, 7, 3, 6, 7, 3, 2, 3, 4, 0, 0, 3, 3, 4, 2, 2, 8, 4, 5, 5, 1, 7, 8, 3, 2, 5, 6, 1, 6, 3, 7, 6, 1, 8, 0, 0, 5, 8, 6, 7, 1, 5, 5, 0, 5, 6, 1, 6, 5, 8, 5, 4, 1, 6, 8, 1, 2, 8, 1, 8, 7, 1, 7, 6, 1, 7, 6, 2, 2, 2, 2, 3, 6, 5, 0, 6, 7, 4, 7, 5, 7, 0, 8, 3, 3, 4, 1, 0, 5, 3, 4, 8, 5, 7, 4, 3, 6, 8, 7, 7, 7, 2, 5, 6, 6, 4, 2, 0, 7, 3, 8, 6, 6, 6, 3, 1, 4, 3, 7, 7, 8, 1, 0, 0, 2, 5, 1, 3, 8, 4, 2, 3, 2, 7, 5, 4, 6, 2, 3, 6, 2, 0, 4, 6, 4, 1, 5, 5, 8, 4, 7, 8, 7, 1, 8, 5, 4, 3, 2, 0, 6, 5, 3, 6, 2, 8, 3, 5, 7, 6, 2, 1, 1, 0, 5, 5, 4, 6, 0, 5, 8, 3, 4, 6, 3, 0, 0, 4, 2, 0, 4, 8, 2, 6, 1, 3, 1, 0, 8, 7, 4, 5, 4, 1, 3, 0, 4, 4, 7, 5, 6, 7, 1, 2, 5, 5, 2, 4, 5, 3, 6, 8, 4, 2, 1, 2, 0, 7, 6, 8, 4, 4, 4, 3, 6, 2, 5, 5, 6, 6, 2, 2, 2, 0, 1, 5, 5, 1, 0, 1, 6, 4, 5, 6, 7, 5, 8, 7, 2, 1, 1, 8, 4, 2, 6, 1, 3, 0, 8, 1, 1, 8, 8, 2, 4, 7, 8, 3, 7, 4, 2, 3, 7, 4, 3, 7, 4, 2, 4, 3, 3, 3, 3, 0, 2, 3, 7, 1, 2, 5, 1, 7, 4, 3, 8, 7, 6, 1, 2, 6, 3, 6, 7, 7, 5, 3, 5, 3, 4, 1, 0, 0, 5, 6, 6, 4, 6, 1, 1, 7, 0, 3]\n",
            "Files processed =  120\n",
            "[5, 5, 7, 0, 7, 5, 2, 5, 3, 0, 6, 2, 3, 5, 4, 1, 2, 6, 7, 0, 6, 2, 5, 1, 1, 6, 1, 8, 6, 7, 7, 5, 8, 4, 6, 2, 7, 2, 2, 0, 3, 4, 1, 5, 1, 3, 7, 2, 2, 4, 1, 4, 1, 1, 2, 0, 5, 6, 5, 7, 1, 8, 3, 6, 7, 2, 0, 0, 1, 8, 6, 8, 2, 6, 1, 0, 2, 1, 5, 3, 6, 7, 5, 3, 5, 8, 1, 4, 1, 4, 5, 7, 7, 5, 5, 0, 3, 0, 3, 2, 5, 5, 2, 2, 1, 1, 5, 5, 0, 5, 2, 5, 8, 1, 1, 6, 1, 4, 2, 4, 4, 0, 0, 3, 4, 4, 2, 2, 5, 4, 5, 4, 1, 7, 8, 5, 2, 3, 6, 1, 6, 4, 7, 6, 1, 8, 2, 4, 3, 2, 6, 7, 1, 5, 5, 7, 7, 6, 1, 6, 4, 5, 5, 4, 1, 6, 3, 1, 2, 5, 1, 5, 7, 1, 1, 6, 1, 7, 6, 2, 2, 2, 2, 4, 6, 5, 0, 6, 5, 4, 2, 5, 1, 5, 8, 7, 3, 5, 1, 0, 3, 4, 5, 5, 5, 5, 7, 3, 6, 3, 1, 1, 5, 2, 2, 6, 6, 4, 2, 7, 5, 1, 3, 6, 6, 6, 6, 1, 4, 4, 5, 5, 5, 1, 7, 7, 2, 5, 1, 3, 5, 5, 2, 5, 2, 1, 4, 3, 6, 2, 4, 6, 2, 0, 4, 6, 4, 1, 8, 8, 3, 4, 1, 8, 5, 1, 7, 5, 4, 5, 2, 7, 6, 4, 5, 6, 2, 5, 7, 5, 7, 6, 2, 1, 1, 0, 8, 7, 3, 6, 7, 5, 7, 2, 7, 6, 3, 3, 2, 4, 2, 7, 4, 5, 2, 6, 1, 5, 1, 5, 8, 7, 4, 7, 6, 1, 3, 0, 4, 3, 1, 8, 6, 8, 1, 2, 3, 4, 2, 3, 5, 7, 6, 8, 4, 2, 1, 2, 7, 1, 6, 8, 5, 4, 6, 3, 6, 2, 7, 5, 6, 6, 2, 2, 2, 0, 1, 8, 2, 1, 2, 3, 6, 4, 5, 4, 0, 7, 2, 7, 2, 1, 1, 8, 4, 2, 6, 1, 3, 0, 3, 1, 1, 8, 5, 2, 3, 1, 5, 2, 1, 1, 2, 3, 7, 4, 3, 7, 4, 2, 4, 3, 1, 5, 4, 7, 2, 4, 5, 1, 2, 5, 1, 3, 3, 5, 3, 1, 6, 7, 2, 4, 4, 5, 5, 5, 3, 7, 5, 3, 1, 1, 5, 7, 8, 6, 6, 4, 6, 1, 1, 1, 0, 1, 6, 2, 6, 5, 5, 7, 5, 1, 2, 3, 8, 3, 2, 2, 4, 7, 2, 2, 6, 7, 2, 3, 5, 2, 2, 7, 1, 2, 7, 4, 1, 3, 3, 2, 7, 1, 7, 2, 1, 5]\n",
            "[8, 5, 7, 3, 0, 8, 2, 5, 3, 0, 6, 8, 4, 5, 4, 1, 8, 6, 7, 0, 6, 2, 4, 1, 7, 6, 2, 5, 6, 8, 8, 8, 0, 8, 6, 8, 3, 2, 2, 0, 4, 3, 1, 5, 1, 0, 3, 2, 2, 5, 1, 3, 1, 1, 5, 0, 5, 6, 0, 0, 7, 8, 3, 6, 0, 8, 0, 0, 1, 8, 3, 8, 0, 6, 1, 2, 2, 1, 5, 3, 6, 0, 0, 3, 5, 8, 7, 4, 1, 4, 8, 0, 1, 8, 8, 0, 4, 0, 8, 2, 5, 3, 0, 2, 1, 1, 7, 0, 0, 0, 2, 8, 0, 7, 3, 6, 7, 3, 2, 3, 4, 0, 0, 3, 3, 4, 2, 2, 8, 4, 5, 5, 1, 7, 8, 3, 2, 5, 6, 1, 6, 3, 7, 6, 1, 8, 0, 0, 5, 8, 6, 7, 1, 5, 5, 0, 5, 6, 1, 6, 5, 8, 5, 4, 1, 6, 8, 1, 2, 8, 1, 8, 7, 1, 7, 6, 1, 7, 6, 2, 2, 2, 2, 3, 6, 5, 0, 6, 7, 4, 7, 5, 7, 0, 8, 3, 3, 4, 1, 0, 5, 3, 4, 8, 5, 7, 4, 3, 6, 8, 7, 7, 7, 2, 5, 6, 6, 4, 2, 0, 7, 3, 8, 6, 6, 6, 3, 1, 4, 3, 7, 7, 8, 1, 0, 0, 2, 5, 1, 3, 8, 4, 2, 3, 2, 7, 5, 4, 6, 2, 3, 6, 2, 0, 4, 6, 4, 1, 5, 5, 8, 4, 7, 8, 7, 1, 8, 5, 4, 3, 2, 0, 6, 5, 3, 6, 2, 8, 3, 5, 7, 6, 2, 1, 1, 0, 5, 5, 4, 6, 0, 5, 8, 3, 4, 6, 3, 0, 0, 4, 2, 0, 4, 8, 2, 6, 1, 3, 1, 0, 8, 7, 4, 5, 4, 1, 3, 0, 4, 4, 7, 5, 6, 7, 1, 2, 5, 5, 2, 4, 5, 3, 6, 8, 4, 2, 1, 2, 0, 7, 6, 8, 4, 4, 4, 3, 6, 2, 5, 5, 6, 6, 2, 2, 2, 0, 1, 5, 5, 1, 0, 1, 6, 4, 5, 6, 7, 5, 8, 7, 2, 1, 1, 8, 4, 2, 6, 1, 3, 0, 8, 1, 1, 8, 8, 2, 4, 7, 8, 3, 7, 4, 2, 3, 7, 4, 3, 7, 4, 2, 4, 3, 3, 3, 3, 0, 2, 3, 7, 1, 2, 5, 1, 7, 4, 3, 8, 7, 6, 1, 2, 6, 3, 6, 7, 7, 5, 3, 5, 3, 4, 1, 0, 0, 5, 6, 6, 4, 6, 1, 1, 7, 0, 3, 6, 2, 6, 8, 7, 7, 3, 7, 5, 4, 8, 4, 7, 8, 5, 0, 2, 2, 6, 7, 3, 4, 8, 2, 2, 0, 7, 2, 3, 3, 1, 8, 8, 3, 5, 1, 3, 2, 4, 0]\n",
            "Files processed =  130\n",
            "[5, 5, 7, 0, 7, 5, 2, 5, 3, 0, 6, 2, 3, 5, 4, 1, 2, 6, 7, 0, 6, 2, 5, 1, 1, 6, 1, 8, 6, 7, 7, 5, 8, 4, 6, 2, 7, 2, 2, 0, 3, 4, 1, 5, 1, 3, 7, 2, 2, 4, 1, 4, 1, 1, 2, 0, 5, 6, 5, 7, 1, 8, 3, 6, 7, 2, 0, 0, 1, 8, 6, 8, 2, 6, 1, 0, 2, 1, 5, 3, 6, 7, 5, 3, 5, 8, 1, 4, 1, 4, 5, 7, 7, 5, 5, 0, 3, 0, 3, 2, 5, 5, 2, 2, 1, 1, 5, 5, 0, 5, 2, 5, 8, 1, 1, 6, 1, 4, 2, 4, 4, 0, 0, 3, 4, 4, 2, 2, 5, 4, 5, 4, 1, 7, 8, 5, 2, 3, 6, 1, 6, 4, 7, 6, 1, 8, 2, 4, 3, 2, 6, 7, 1, 5, 5, 7, 7, 6, 1, 6, 4, 5, 5, 4, 1, 6, 3, 1, 2, 5, 1, 5, 7, 1, 1, 6, 1, 7, 6, 2, 2, 2, 2, 4, 6, 5, 0, 6, 5, 4, 2, 5, 1, 5, 8, 7, 3, 5, 1, 0, 3, 4, 5, 5, 5, 5, 7, 3, 6, 3, 1, 1, 5, 2, 2, 6, 6, 4, 2, 7, 5, 1, 3, 6, 6, 6, 6, 1, 4, 4, 5, 5, 5, 1, 7, 7, 2, 5, 1, 3, 5, 5, 2, 5, 2, 1, 4, 3, 6, 2, 4, 6, 2, 0, 4, 6, 4, 1, 8, 8, 3, 4, 1, 8, 5, 1, 7, 5, 4, 5, 2, 7, 6, 4, 5, 6, 2, 5, 7, 5, 7, 6, 2, 1, 1, 0, 8, 7, 3, 6, 7, 5, 7, 2, 7, 6, 3, 3, 2, 4, 2, 7, 4, 5, 2, 6, 1, 5, 1, 5, 8, 7, 4, 7, 6, 1, 3, 0, 4, 3, 1, 8, 6, 8, 1, 2, 3, 4, 2, 3, 5, 7, 6, 8, 4, 2, 1, 2, 7, 1, 6, 8, 5, 4, 6, 3, 6, 2, 7, 5, 6, 6, 2, 2, 2, 0, 1, 8, 2, 1, 2, 3, 6, 4, 5, 4, 0, 7, 2, 7, 2, 1, 1, 8, 4, 2, 6, 1, 3, 0, 3, 1, 1, 8, 5, 2, 3, 1, 5, 2, 1, 1, 2, 3, 7, 4, 3, 7, 4, 2, 4, 3, 1, 5, 4, 7, 2, 4, 5, 1, 2, 5, 1, 3, 3, 5, 3, 1, 6, 7, 2, 4, 4, 5, 5, 5, 3, 7, 5, 3, 1, 1, 5, 7, 8, 6, 6, 4, 6, 1, 1, 1, 0, 1, 6, 2, 6, 5, 5, 7, 5, 1, 2, 3, 8, 3, 2, 2, 4, 7, 2, 2, 6, 7, 2, 3, 5, 2, 2, 7, 1, 2, 7, 4, 1, 3, 3, 2, 7, 1, 7, 2, 1, 5, 7, 3, 8, 1, 1, 5, 1, 3, 1, 6, 7, 1, 3, 2, 3, 7, 6, 4, 5, 6, 4, 7, 5, 1, 4, 8, 5, 7, 7, 8, 2, 6, 1, 1, 5, 7, 1, 4, 2, 2]\n",
            "[8, 5, 7, 3, 0, 8, 2, 5, 3, 0, 6, 8, 4, 5, 4, 1, 8, 6, 7, 0, 6, 2, 4, 1, 7, 6, 2, 5, 6, 8, 8, 8, 0, 8, 6, 8, 3, 2, 2, 0, 4, 3, 1, 5, 1, 0, 3, 2, 2, 5, 1, 3, 1, 1, 5, 0, 5, 6, 0, 0, 7, 8, 3, 6, 0, 8, 0, 0, 1, 8, 3, 8, 0, 6, 1, 2, 2, 1, 5, 3, 6, 0, 0, 3, 5, 8, 7, 4, 1, 4, 8, 0, 1, 8, 8, 0, 4, 0, 8, 2, 5, 3, 0, 2, 1, 1, 7, 0, 0, 0, 2, 8, 0, 7, 3, 6, 7, 3, 2, 3, 4, 0, 0, 3, 3, 4, 2, 2, 8, 4, 5, 5, 1, 7, 8, 3, 2, 5, 6, 1, 6, 3, 7, 6, 1, 8, 0, 0, 5, 8, 6, 7, 1, 5, 5, 0, 5, 6, 1, 6, 5, 8, 5, 4, 1, 6, 8, 1, 2, 8, 1, 8, 7, 1, 7, 6, 1, 7, 6, 2, 2, 2, 2, 3, 6, 5, 0, 6, 7, 4, 7, 5, 7, 0, 8, 3, 3, 4, 1, 0, 5, 3, 4, 8, 5, 7, 4, 3, 6, 8, 7, 7, 7, 2, 5, 6, 6, 4, 2, 0, 7, 3, 8, 6, 6, 6, 3, 1, 4, 3, 7, 7, 8, 1, 0, 0, 2, 5, 1, 3, 8, 4, 2, 3, 2, 7, 5, 4, 6, 2, 3, 6, 2, 0, 4, 6, 4, 1, 5, 5, 8, 4, 7, 8, 7, 1, 8, 5, 4, 3, 2, 0, 6, 5, 3, 6, 2, 8, 3, 5, 7, 6, 2, 1, 1, 0, 5, 5, 4, 6, 0, 5, 8, 3, 4, 6, 3, 0, 0, 4, 2, 0, 4, 8, 2, 6, 1, 3, 1, 0, 8, 7, 4, 5, 4, 1, 3, 0, 4, 4, 7, 5, 6, 7, 1, 2, 5, 5, 2, 4, 5, 3, 6, 8, 4, 2, 1, 2, 0, 7, 6, 8, 4, 4, 4, 3, 6, 2, 5, 5, 6, 6, 2, 2, 2, 0, 1, 5, 5, 1, 0, 1, 6, 4, 5, 6, 7, 5, 8, 7, 2, 1, 1, 8, 4, 2, 6, 1, 3, 0, 8, 1, 1, 8, 8, 2, 4, 7, 8, 3, 7, 4, 2, 3, 7, 4, 3, 7, 4, 2, 4, 3, 3, 3, 3, 0, 2, 3, 7, 1, 2, 5, 1, 7, 4, 3, 8, 7, 6, 1, 2, 6, 3, 6, 7, 7, 5, 3, 5, 3, 4, 1, 0, 0, 5, 6, 6, 4, 6, 1, 1, 7, 0, 3, 6, 2, 6, 8, 7, 7, 3, 7, 5, 4, 8, 4, 7, 8, 5, 0, 2, 2, 6, 7, 3, 4, 8, 2, 2, 0, 7, 2, 3, 3, 1, 8, 8, 3, 5, 1, 3, 2, 4, 0, 7, 5, 5, 1, 1, 0, 7, 4, 1, 6, 8, 1, 4, 0, 8, 0, 6, 4, 5, 6, 4, 7, 5, 1, 3, 8, 7, 2, 0, 5, 7, 6, 7, 1, 8, 7, 7, 7, 4, 2]\n"
          ],
          "name": "stdout"
        },
        {
          "output_type": "stream",
          "text": [
            "\r  6%|▌         | 10/170 [4:17:55<68:22:59, 1538.62s/it]"
          ],
          "name": "stderr"
        },
        {
          "output_type": "stream",
          "text": [
            "Accuracy epoch 39  =  0.5519125683060109\n",
            "tensor(0.8459, device='cuda:0', grad_fn=<NllLossBackward>)\n",
            "tensor(0.4638, device='cuda:0', grad_fn=<NllLossBackward>)\n",
            "tensor(0.5338, device='cuda:0', grad_fn=<NllLossBackward>)\n",
            "tensor(0.3811, device='cuda:0', grad_fn=<NllLossBackward>)\n",
            "tensor(0.5335, device='cuda:0', grad_fn=<NllLossBackward>)\n",
            "tensor(0.2403, device='cuda:0', grad_fn=<NllLossBackward>)\n",
            "tensor(0.3082, device='cuda:0', grad_fn=<NllLossBackward>)\n",
            "tensor(0.8749, device='cuda:0', grad_fn=<NllLossBackward>)\n",
            "tensor(0.5516, device='cuda:0', grad_fn=<NllLossBackward>)\n",
            "tensor(0.9750, device='cuda:0', grad_fn=<NllLossBackward>)\n",
            "tensor(0.8493, device='cuda:0', grad_fn=<NllLossBackward>)\n",
            "COST epoch 40  =  [tensor(1111.4436), tensor(990.5597), tensor(934.4700), tensor(874.6571), tensor(822.8998), tensor(800.3447), tensor(765.9095), tensor(740.0458), tensor(718.9320), tensor(719.7072), tensor(693.2490), tensor(697.7689), tensor(672.8008), tensor(661.9917), tensor(658.5683), tensor(635.4274), tensor(631.2565), tensor(615.2205), tensor(607.1673), tensor(607.2458), tensor(606.9468), tensor(562.4706), tensor(572.2747), tensor(568.2372), tensor(549.9225), tensor(549.4277), tensor(539.3239), tensor(530.7670), tensor(519.7222), tensor(514.4471), tensor(505.1449), tensor(497.7492), tensor(483.2874, device='cuda:0'), tensor(486.2227, device='cuda:0'), tensor(471.6280, device='cuda:0'), tensor(463.2786, device='cuda:0'), tensor(463.6834, device='cuda:0'), tensor(461.9894, device='cuda:0'), tensor(444.4067, device='cuda:0'), tensor(445.1245, device='cuda:0'), tensor(418.3448, device='cuda:0'), tensor(431.1009, device='cuda:0'), tensor(422.5991, device='cuda:0')]\n",
            "Files processed =  0\n",
            "[8, 1, 0, 8]\n",
            "[5, 1, 0, 8]\n",
            "Files processed =  10\n",
            "[8, 1, 0, 8, 3, 6, 3, 7, 5, 4, 6, 4, 5, 4, 4, 1, 2, 2, 1, 6, 6, 1, 1, 7, 4, 2, 5, 5, 8, 5, 0, 6, 1, 1, 2, 1, 2, 4, 7, 2, 8, 4, 6, 1]\n",
            "[5, 1, 0, 8, 5, 6, 4, 7, 5, 3, 6, 4, 5, 4, 4, 7, 2, 2, 7, 6, 3, 7, 7, 7, 5, 5, 0, 8, 5, 8, 4, 6, 7, 7, 2, 1, 2, 4, 7, 2, 8, 0, 6, 1]\n",
            "Files processed =  20\n",
            "[8, 1, 0, 8, 3, 6, 3, 7, 5, 4, 6, 4, 5, 4, 4, 1, 2, 2, 1, 6, 6, 1, 1, 7, 4, 2, 5, 5, 8, 5, 0, 6, 1, 1, 2, 1, 2, 4, 7, 2, 8, 4, 6, 1, 1, 8, 5, 1, 5, 5, 2, 2, 2, 8, 1, 4, 1, 2, 2, 6, 1, 1, 6, 5, 5, 2, 8, 4, 0, 5, 8, 2, 1, 2, 8, 3, 2, 3, 5, 1, 8, 8, 5, 6]\n",
            "[5, 1, 0, 8, 5, 6, 4, 7, 5, 3, 6, 4, 5, 4, 4, 7, 2, 2, 7, 6, 3, 7, 7, 7, 5, 5, 0, 8, 5, 8, 4, 6, 7, 7, 2, 1, 2, 4, 7, 2, 8, 0, 6, 1, 7, 7, 5, 7, 5, 5, 0, 3, 2, 5, 1, 3, 1, 5, 0, 6, 1, 1, 6, 3, 8, 2, 0, 4, 0, 7, 5, 2, 3, 2, 8, 5, 2, 3, 5, 1, 3, 8, 5, 6]\n",
            "Files processed =  30\n",
            "[8, 1, 0, 8, 3, 6, 3, 7, 5, 4, 6, 4, 5, 4, 4, 1, 2, 2, 1, 6, 6, 1, 1, 7, 4, 2, 5, 5, 8, 5, 0, 6, 1, 1, 2, 1, 2, 4, 7, 2, 8, 4, 6, 1, 1, 8, 5, 1, 5, 5, 2, 2, 2, 8, 1, 4, 1, 2, 2, 6, 1, 1, 6, 5, 5, 2, 8, 4, 0, 5, 8, 2, 1, 2, 8, 3, 2, 3, 5, 1, 8, 8, 5, 6, 1, 3, 2, 4, 6, 2, 6, 4, 2, 5, 4, 1, 3, 4, 2, 0, 4, 6, 6, 3, 2, 6, 3, 6, 1, 6, 6, 4, 1, 1, 4, 6, 2, 5, 5, 6, 1, 6, 2, 4]\n",
            "[5, 1, 0, 8, 5, 6, 4, 7, 5, 3, 6, 4, 5, 4, 4, 7, 2, 2, 7, 6, 3, 7, 7, 7, 5, 5, 0, 8, 5, 8, 4, 6, 7, 7, 2, 1, 2, 4, 7, 2, 8, 0, 6, 1, 7, 7, 5, 7, 5, 5, 0, 3, 2, 5, 1, 3, 1, 5, 0, 6, 1, 1, 6, 3, 8, 2, 0, 4, 0, 7, 5, 2, 3, 2, 8, 5, 2, 3, 5, 1, 3, 8, 5, 6, 7, 8, 2, 4, 6, 8, 3, 4, 2, 5, 3, 1, 3, 4, 2, 0, 4, 6, 3, 3, 3, 6, 4, 6, 1, 6, 6, 4, 1, 7, 4, 0, 2, 0, 8, 6, 1, 6, 0, 3]\n",
            "Files processed =  40\n",
            "[8, 1, 0, 8, 3, 6, 3, 7, 5, 4, 6, 4, 5, 4, 4, 1, 2, 2, 1, 6, 6, 1, 1, 7, 4, 2, 5, 5, 8, 5, 0, 6, 1, 1, 2, 1, 2, 4, 7, 2, 8, 4, 6, 1, 1, 8, 5, 1, 5, 5, 2, 2, 2, 8, 1, 4, 1, 2, 2, 6, 1, 1, 6, 5, 5, 2, 8, 4, 0, 5, 8, 2, 1, 2, 8, 3, 2, 3, 5, 1, 8, 8, 5, 6, 1, 3, 2, 4, 6, 2, 6, 4, 2, 5, 4, 1, 3, 4, 2, 0, 4, 6, 6, 3, 2, 6, 3, 6, 1, 6, 6, 4, 1, 1, 4, 6, 2, 5, 5, 6, 1, 6, 2, 4, 1, 8, 5, 2, 4, 0, 8, 6, 2, 2, 1, 5, 2, 5, 1, 4, 8, 5, 6, 1, 8, 4, 1, 6, 1, 8, 6, 0, 6, 1, 2, 6, 5, 1, 1, 1, 1, 2, 6, 6]\n",
            "[5, 1, 0, 8, 5, 6, 4, 7, 5, 3, 6, 4, 5, 4, 4, 7, 2, 2, 7, 6, 3, 7, 7, 7, 5, 5, 0, 8, 5, 8, 4, 6, 7, 7, 2, 1, 2, 4, 7, 2, 8, 0, 6, 1, 7, 7, 5, 7, 5, 5, 0, 3, 2, 5, 1, 3, 1, 5, 0, 6, 1, 1, 6, 3, 8, 2, 0, 4, 0, 7, 5, 2, 3, 2, 8, 5, 2, 3, 5, 1, 3, 8, 5, 6, 7, 8, 2, 4, 6, 8, 3, 4, 2, 5, 3, 1, 3, 4, 2, 0, 4, 6, 3, 3, 3, 6, 4, 6, 1, 6, 6, 4, 1, 7, 4, 0, 2, 0, 8, 6, 1, 6, 0, 3, 1, 0, 3, 2, 4, 0, 0, 6, 2, 2, 7, 7, 2, 7, 8, 4, 8, 5, 6, 7, 8, 4, 7, 6, 1, 5, 6, 0, 4, 1, 5, 6, 5, 3, 1, 1, 1, 2, 6, 6]\n",
            "Files processed =  50\n",
            "[8, 1, 0, 8, 3, 6, 3, 7, 5, 4, 6, 4, 5, 4, 4, 1, 2, 2, 1, 6, 6, 1, 1, 7, 4, 2, 5, 5, 8, 5, 0, 6, 1, 1, 2, 1, 2, 4, 7, 2, 8, 4, 6, 1, 1, 8, 5, 1, 5, 5, 2, 2, 2, 8, 1, 4, 1, 2, 2, 6, 1, 1, 6, 5, 5, 2, 8, 4, 0, 5, 8, 2, 1, 2, 8, 3, 2, 3, 5, 1, 8, 8, 5, 6, 1, 3, 2, 4, 6, 2, 6, 4, 2, 5, 4, 1, 3, 4, 2, 0, 4, 6, 6, 3, 2, 6, 3, 6, 1, 6, 6, 4, 1, 1, 4, 6, 2, 5, 5, 6, 1, 6, 2, 4, 1, 8, 5, 2, 4, 0, 8, 6, 2, 2, 1, 5, 2, 5, 1, 4, 8, 5, 6, 1, 8, 4, 1, 6, 1, 8, 6, 0, 6, 1, 2, 6, 5, 1, 1, 1, 1, 2, 6, 6, 6, 5, 3, 0, 8, 1, 4, 1, 6, 1, 1, 6, 1, 4, 6, 4, 2, 7, 2, 6, 3, 2, 2, 5, 2, 8, 2, 6, 1, 8, 6, 2, 1, 4, 1, 1, 1, 1, 4, 4]\n",
            "[5, 1, 0, 8, 5, 6, 4, 7, 5, 3, 6, 4, 5, 4, 4, 7, 2, 2, 7, 6, 3, 7, 7, 7, 5, 5, 0, 8, 5, 8, 4, 6, 7, 7, 2, 1, 2, 4, 7, 2, 8, 0, 6, 1, 7, 7, 5, 7, 5, 5, 0, 3, 2, 5, 1, 3, 1, 5, 0, 6, 1, 1, 6, 3, 8, 2, 0, 4, 0, 7, 5, 2, 3, 2, 8, 5, 2, 3, 5, 1, 3, 8, 5, 6, 7, 8, 2, 4, 6, 8, 3, 4, 2, 5, 3, 1, 3, 4, 2, 0, 4, 6, 3, 3, 3, 6, 4, 6, 1, 6, 6, 4, 1, 7, 4, 0, 2, 0, 8, 6, 1, 6, 0, 3, 1, 0, 3, 2, 4, 0, 0, 6, 2, 2, 7, 7, 2, 7, 8, 4, 8, 5, 6, 7, 8, 4, 7, 6, 1, 5, 6, 0, 4, 1, 5, 6, 5, 3, 1, 1, 1, 2, 6, 6, 6, 8, 4, 3, 8, 7, 3, 7, 6, 1, 8, 5, 1, 3, 6, 3, 2, 0, 2, 3, 4, 2, 0, 5, 2, 8, 2, 6, 2, 8, 6, 2, 7, 5, 7, 1, 4, 1, 0, 3]\n",
            "Files processed =  60\n",
            "[8, 1, 0, 8, 3, 6, 3, 7, 5, 4, 6, 4, 5, 4, 4, 1, 2, 2, 1, 6, 6, 1, 1, 7, 4, 2, 5, 5, 8, 5, 0, 6, 1, 1, 2, 1, 2, 4, 7, 2, 8, 4, 6, 1, 1, 8, 5, 1, 5, 5, 2, 2, 2, 8, 1, 4, 1, 2, 2, 6, 1, 1, 6, 5, 5, 2, 8, 4, 0, 5, 8, 2, 1, 2, 8, 3, 2, 3, 5, 1, 8, 8, 5, 6, 1, 3, 2, 4, 6, 2, 6, 4, 2, 5, 4, 1, 3, 4, 2, 0, 4, 6, 6, 3, 2, 6, 3, 6, 1, 6, 6, 4, 1, 1, 4, 6, 2, 5, 5, 6, 1, 6, 2, 4, 1, 8, 5, 2, 4, 0, 8, 6, 2, 2, 1, 5, 2, 5, 1, 4, 8, 5, 6, 1, 8, 4, 1, 6, 1, 8, 6, 0, 6, 1, 2, 6, 5, 1, 1, 1, 1, 2, 6, 6, 6, 5, 3, 0, 8, 1, 4, 1, 6, 1, 1, 6, 1, 4, 6, 4, 2, 7, 2, 6, 3, 2, 2, 5, 2, 8, 2, 6, 1, 8, 6, 2, 1, 4, 1, 1, 1, 1, 4, 4, 4, 1, 3, 1, 6, 4, 4, 3, 6, 7, 5, 2, 0, 8, 1, 3, 6, 3, 3, 6, 3, 5, 7, 0, 2, 1, 8, 3, 1, 1, 1, 1, 1, 6, 4, 2, 1, 3, 1, 4]\n",
            "[5, 1, 0, 8, 5, 6, 4, 7, 5, 3, 6, 4, 5, 4, 4, 7, 2, 2, 7, 6, 3, 7, 7, 7, 5, 5, 0, 8, 5, 8, 4, 6, 7, 7, 2, 1, 2, 4, 7, 2, 8, 0, 6, 1, 7, 7, 5, 7, 5, 5, 0, 3, 2, 5, 1, 3, 1, 5, 0, 6, 1, 1, 6, 3, 8, 2, 0, 4, 0, 7, 5, 2, 3, 2, 8, 5, 2, 3, 5, 1, 3, 8, 5, 6, 7, 8, 2, 4, 6, 8, 3, 4, 2, 5, 3, 1, 3, 4, 2, 0, 4, 6, 3, 3, 3, 6, 4, 6, 1, 6, 6, 4, 1, 7, 4, 0, 2, 0, 8, 6, 1, 6, 0, 3, 1, 0, 3, 2, 4, 0, 0, 6, 2, 2, 7, 7, 2, 7, 8, 4, 8, 5, 6, 7, 8, 4, 7, 6, 1, 5, 6, 0, 4, 1, 5, 6, 5, 3, 1, 1, 1, 2, 6, 6, 6, 8, 4, 3, 8, 7, 3, 7, 6, 1, 8, 5, 1, 3, 6, 3, 2, 0, 2, 3, 4, 2, 0, 5, 2, 8, 2, 6, 2, 8, 6, 2, 7, 5, 7, 1, 4, 1, 0, 3, 5, 3, 1, 1, 6, 4, 3, 8, 6, 5, 8, 2, 0, 0, 1, 7, 6, 4, 1, 6, 7, 8, 0, 0, 5, 1, 8, 8, 1, 7, 1, 4, 3, 5, 4, 2, 1, 4, 1, 3]\n",
            "Files processed =  70\n",
            "[8, 1, 0, 8, 3, 6, 3, 7, 5, 4, 6, 4, 5, 4, 4, 1, 2, 2, 1, 6, 6, 1, 1, 7, 4, 2, 5, 5, 8, 5, 0, 6, 1, 1, 2, 1, 2, 4, 7, 2, 8, 4, 6, 1, 1, 8, 5, 1, 5, 5, 2, 2, 2, 8, 1, 4, 1, 2, 2, 6, 1, 1, 6, 5, 5, 2, 8, 4, 0, 5, 8, 2, 1, 2, 8, 3, 2, 3, 5, 1, 8, 8, 5, 6, 1, 3, 2, 4, 6, 2, 6, 4, 2, 5, 4, 1, 3, 4, 2, 0, 4, 6, 6, 3, 2, 6, 3, 6, 1, 6, 6, 4, 1, 1, 4, 6, 2, 5, 5, 6, 1, 6, 2, 4, 1, 8, 5, 2, 4, 0, 8, 6, 2, 2, 1, 5, 2, 5, 1, 4, 8, 5, 6, 1, 8, 4, 1, 6, 1, 8, 6, 0, 6, 1, 2, 6, 5, 1, 1, 1, 1, 2, 6, 6, 6, 5, 3, 0, 8, 1, 4, 1, 6, 1, 1, 6, 1, 4, 6, 4, 2, 7, 2, 6, 3, 2, 2, 5, 2, 8, 2, 6, 1, 8, 6, 2, 1, 4, 1, 1, 1, 1, 4, 4, 4, 1, 3, 1, 6, 4, 4, 3, 6, 7, 5, 2, 0, 8, 1, 3, 6, 3, 3, 6, 3, 5, 7, 0, 2, 1, 8, 3, 1, 1, 1, 1, 1, 6, 4, 2, 1, 3, 1, 4, 3, 4, 2, 1, 1, 3, 4, 2, 2, 1, 1, 8, 0, 3, 4, 4, 5, 7, 2, 2, 4, 3, 6, 2, 6, 5, 1, 8, 8, 5, 3, 3, 5, 4, 6, 7, 1, 1, 7, 1]\n",
            "[5, 1, 0, 8, 5, 6, 4, 7, 5, 3, 6, 4, 5, 4, 4, 7, 2, 2, 7, 6, 3, 7, 7, 7, 5, 5, 0, 8, 5, 8, 4, 6, 7, 7, 2, 1, 2, 4, 7, 2, 8, 0, 6, 1, 7, 7, 5, 7, 5, 5, 0, 3, 2, 5, 1, 3, 1, 5, 0, 6, 1, 1, 6, 3, 8, 2, 0, 4, 0, 7, 5, 2, 3, 2, 8, 5, 2, 3, 5, 1, 3, 8, 5, 6, 7, 8, 2, 4, 6, 8, 3, 4, 2, 5, 3, 1, 3, 4, 2, 0, 4, 6, 3, 3, 3, 6, 4, 6, 1, 6, 6, 4, 1, 7, 4, 0, 2, 0, 8, 6, 1, 6, 0, 3, 1, 0, 3, 2, 4, 0, 0, 6, 2, 2, 7, 7, 2, 7, 8, 4, 8, 5, 6, 7, 8, 4, 7, 6, 1, 5, 6, 0, 4, 1, 5, 6, 5, 3, 1, 1, 1, 2, 6, 6, 6, 8, 4, 3, 8, 7, 3, 7, 6, 1, 8, 5, 1, 3, 6, 3, 2, 0, 2, 3, 4, 2, 0, 5, 2, 8, 2, 6, 2, 8, 6, 2, 7, 5, 7, 1, 4, 1, 0, 3, 5, 3, 1, 1, 6, 4, 3, 8, 6, 5, 8, 2, 0, 0, 1, 7, 6, 4, 1, 6, 7, 8, 0, 0, 5, 1, 8, 8, 1, 7, 1, 4, 3, 5, 4, 2, 1, 4, 1, 3, 3, 4, 0, 4, 1, 8, 3, 5, 2, 4, 1, 5, 0, 4, 4, 4, 8, 7, 2, 2, 3, 3, 5, 2, 6, 7, 4, 8, 3, 7, 5, 0, 5, 3, 6, 7, 1, 1, 5, 1]\n",
            "Files processed =  80\n",
            "[8, 1, 0, 8, 3, 6, 3, 7, 5, 4, 6, 4, 5, 4, 4, 1, 2, 2, 1, 6, 6, 1, 1, 7, 4, 2, 5, 5, 8, 5, 0, 6, 1, 1, 2, 1, 2, 4, 7, 2, 8, 4, 6, 1, 1, 8, 5, 1, 5, 5, 2, 2, 2, 8, 1, 4, 1, 2, 2, 6, 1, 1, 6, 5, 5, 2, 8, 4, 0, 5, 8, 2, 1, 2, 8, 3, 2, 3, 5, 1, 8, 8, 5, 6, 1, 3, 2, 4, 6, 2, 6, 4, 2, 5, 4, 1, 3, 4, 2, 0, 4, 6, 6, 3, 2, 6, 3, 6, 1, 6, 6, 4, 1, 1, 4, 6, 2, 5, 5, 6, 1, 6, 2, 4, 1, 8, 5, 2, 4, 0, 8, 6, 2, 2, 1, 5, 2, 5, 1, 4, 8, 5, 6, 1, 8, 4, 1, 6, 1, 8, 6, 0, 6, 1, 2, 6, 5, 1, 1, 1, 1, 2, 6, 6, 6, 5, 3, 0, 8, 1, 4, 1, 6, 1, 1, 6, 1, 4, 6, 4, 2, 7, 2, 6, 3, 2, 2, 5, 2, 8, 2, 6, 1, 8, 6, 2, 1, 4, 1, 1, 1, 1, 4, 4, 4, 1, 3, 1, 6, 4, 4, 3, 6, 7, 5, 2, 0, 8, 1, 3, 6, 3, 3, 6, 3, 5, 7, 0, 2, 1, 8, 3, 1, 1, 1, 1, 1, 6, 4, 2, 1, 3, 1, 4, 3, 4, 2, 1, 1, 3, 4, 2, 2, 1, 1, 8, 0, 3, 4, 4, 5, 7, 2, 2, 4, 3, 6, 2, 6, 5, 1, 8, 8, 5, 3, 3, 5, 4, 6, 7, 1, 1, 7, 1, 5, 5, 1, 3, 2, 1, 8, 3, 4, 6, 3, 3, 7, 7, 8, 6, 1, 3, 7, 6, 1, 8, 4, 7, 2, 0, 6, 1, 2, 4, 2, 7, 6, 7, 3, 4, 2, 1, 6, 8]\n",
            "[5, 1, 0, 8, 5, 6, 4, 7, 5, 3, 6, 4, 5, 4, 4, 7, 2, 2, 7, 6, 3, 7, 7, 7, 5, 5, 0, 8, 5, 8, 4, 6, 7, 7, 2, 1, 2, 4, 7, 2, 8, 0, 6, 1, 7, 7, 5, 7, 5, 5, 0, 3, 2, 5, 1, 3, 1, 5, 0, 6, 1, 1, 6, 3, 8, 2, 0, 4, 0, 7, 5, 2, 3, 2, 8, 5, 2, 3, 5, 1, 3, 8, 5, 6, 7, 8, 2, 4, 6, 8, 3, 4, 2, 5, 3, 1, 3, 4, 2, 0, 4, 6, 3, 3, 3, 6, 4, 6, 1, 6, 6, 4, 1, 7, 4, 0, 2, 0, 8, 6, 1, 6, 0, 3, 1, 0, 3, 2, 4, 0, 0, 6, 2, 2, 7, 7, 2, 7, 8, 4, 8, 5, 6, 7, 8, 4, 7, 6, 1, 5, 6, 0, 4, 1, 5, 6, 5, 3, 1, 1, 1, 2, 6, 6, 6, 8, 4, 3, 8, 7, 3, 7, 6, 1, 8, 5, 1, 3, 6, 3, 2, 0, 2, 3, 4, 2, 0, 5, 2, 8, 2, 6, 2, 8, 6, 2, 7, 5, 7, 1, 4, 1, 0, 3, 5, 3, 1, 1, 6, 4, 3, 8, 6, 5, 8, 2, 0, 0, 1, 7, 6, 4, 1, 6, 7, 8, 0, 0, 5, 1, 8, 8, 1, 7, 1, 4, 3, 5, 4, 2, 1, 4, 1, 3, 3, 4, 0, 4, 1, 8, 3, 5, 2, 4, 1, 5, 0, 4, 4, 4, 8, 7, 2, 2, 3, 3, 5, 2, 6, 7, 4, 8, 3, 7, 5, 0, 5, 3, 6, 7, 1, 1, 5, 1, 7, 7, 1, 3, 2, 1, 8, 8, 8, 6, 8, 8, 7, 7, 8, 6, 4, 3, 7, 4, 1, 8, 7, 0, 2, 0, 3, 1, 0, 4, 2, 5, 6, 7, 4, 4, 2, 7, 6, 2]\n",
            "Files processed =  90\n",
            "[8, 1, 0, 8, 3, 6, 3, 7, 5, 4, 6, 4, 5, 4, 4, 1, 2, 2, 1, 6, 6, 1, 1, 7, 4, 2, 5, 5, 8, 5, 0, 6, 1, 1, 2, 1, 2, 4, 7, 2, 8, 4, 6, 1, 1, 8, 5, 1, 5, 5, 2, 2, 2, 8, 1, 4, 1, 2, 2, 6, 1, 1, 6, 5, 5, 2, 8, 4, 0, 5, 8, 2, 1, 2, 8, 3, 2, 3, 5, 1, 8, 8, 5, 6, 1, 3, 2, 4, 6, 2, 6, 4, 2, 5, 4, 1, 3, 4, 2, 0, 4, 6, 6, 3, 2, 6, 3, 6, 1, 6, 6, 4, 1, 1, 4, 6, 2, 5, 5, 6, 1, 6, 2, 4, 1, 8, 5, 2, 4, 0, 8, 6, 2, 2, 1, 5, 2, 5, 1, 4, 8, 5, 6, 1, 8, 4, 1, 6, 1, 8, 6, 0, 6, 1, 2, 6, 5, 1, 1, 1, 1, 2, 6, 6, 6, 5, 3, 0, 8, 1, 4, 1, 6, 1, 1, 6, 1, 4, 6, 4, 2, 7, 2, 6, 3, 2, 2, 5, 2, 8, 2, 6, 1, 8, 6, 2, 1, 4, 1, 1, 1, 1, 4, 4, 4, 1, 3, 1, 6, 4, 4, 3, 6, 7, 5, 2, 0, 8, 1, 3, 6, 3, 3, 6, 3, 5, 7, 0, 2, 1, 8, 3, 1, 1, 1, 1, 1, 6, 4, 2, 1, 3, 1, 4, 3, 4, 2, 1, 1, 3, 4, 2, 2, 1, 1, 8, 0, 3, 4, 4, 5, 7, 2, 2, 4, 3, 6, 2, 6, 5, 1, 8, 8, 5, 3, 3, 5, 4, 6, 7, 1, 1, 7, 1, 5, 5, 1, 3, 2, 1, 8, 3, 4, 6, 3, 3, 7, 7, 8, 6, 1, 3, 7, 6, 1, 8, 4, 7, 2, 0, 6, 1, 2, 4, 2, 7, 6, 7, 3, 4, 2, 1, 6, 8, 4, 5, 6, 1, 6, 4, 7, 4, 2, 8, 6, 4, 4, 4, 8, 6, 4, 4, 4, 4, 3, 1, 4, 8, 7, 1, 6, 4, 2, 5, 6, 3, 4, 4, 0, 2, 1, 6, 4, 2]\n",
            "[5, 1, 0, 8, 5, 6, 4, 7, 5, 3, 6, 4, 5, 4, 4, 7, 2, 2, 7, 6, 3, 7, 7, 7, 5, 5, 0, 8, 5, 8, 4, 6, 7, 7, 2, 1, 2, 4, 7, 2, 8, 0, 6, 1, 7, 7, 5, 7, 5, 5, 0, 3, 2, 5, 1, 3, 1, 5, 0, 6, 1, 1, 6, 3, 8, 2, 0, 4, 0, 7, 5, 2, 3, 2, 8, 5, 2, 3, 5, 1, 3, 8, 5, 6, 7, 8, 2, 4, 6, 8, 3, 4, 2, 5, 3, 1, 3, 4, 2, 0, 4, 6, 3, 3, 3, 6, 4, 6, 1, 6, 6, 4, 1, 7, 4, 0, 2, 0, 8, 6, 1, 6, 0, 3, 1, 0, 3, 2, 4, 0, 0, 6, 2, 2, 7, 7, 2, 7, 8, 4, 8, 5, 6, 7, 8, 4, 7, 6, 1, 5, 6, 0, 4, 1, 5, 6, 5, 3, 1, 1, 1, 2, 6, 6, 6, 8, 4, 3, 8, 7, 3, 7, 6, 1, 8, 5, 1, 3, 6, 3, 2, 0, 2, 3, 4, 2, 0, 5, 2, 8, 2, 6, 2, 8, 6, 2, 7, 5, 7, 1, 4, 1, 0, 3, 5, 3, 1, 1, 6, 4, 3, 8, 6, 5, 8, 2, 0, 0, 1, 7, 6, 4, 1, 6, 7, 8, 0, 0, 5, 1, 8, 8, 1, 7, 1, 4, 3, 5, 4, 2, 1, 4, 1, 3, 3, 4, 0, 4, 1, 8, 3, 5, 2, 4, 1, 5, 0, 4, 4, 4, 8, 7, 2, 2, 3, 3, 5, 2, 6, 7, 4, 8, 3, 7, 5, 0, 5, 3, 6, 7, 1, 1, 5, 1, 7, 7, 1, 3, 2, 1, 8, 8, 8, 6, 8, 8, 7, 7, 8, 6, 4, 3, 7, 4, 1, 8, 7, 0, 2, 0, 3, 1, 0, 4, 2, 5, 6, 7, 4, 4, 2, 7, 6, 2, 4, 8, 6, 7, 6, 3, 7, 8, 2, 5, 6, 3, 4, 5, 8, 7, 5, 5, 3, 0, 3, 1, 8, 8, 7, 2, 6, 4, 2, 7, 6, 5, 3, 0, 0, 0, 1, 6, 5, 0]\n",
            "Files processed =  100\n",
            "[8, 1, 0, 8, 3, 6, 3, 7, 5, 4, 6, 4, 5, 4, 4, 1, 2, 2, 1, 6, 6, 1, 1, 7, 4, 2, 5, 5, 8, 5, 0, 6, 1, 1, 2, 1, 2, 4, 7, 2, 8, 4, 6, 1, 1, 8, 5, 1, 5, 5, 2, 2, 2, 8, 1, 4, 1, 2, 2, 6, 1, 1, 6, 5, 5, 2, 8, 4, 0, 5, 8, 2, 1, 2, 8, 3, 2, 3, 5, 1, 8, 8, 5, 6, 1, 3, 2, 4, 6, 2, 6, 4, 2, 5, 4, 1, 3, 4, 2, 0, 4, 6, 6, 3, 2, 6, 3, 6, 1, 6, 6, 4, 1, 1, 4, 6, 2, 5, 5, 6, 1, 6, 2, 4, 1, 8, 5, 2, 4, 0, 8, 6, 2, 2, 1, 5, 2, 5, 1, 4, 8, 5, 6, 1, 8, 4, 1, 6, 1, 8, 6, 0, 6, 1, 2, 6, 5, 1, 1, 1, 1, 2, 6, 6, 6, 5, 3, 0, 8, 1, 4, 1, 6, 1, 1, 6, 1, 4, 6, 4, 2, 7, 2, 6, 3, 2, 2, 5, 2, 8, 2, 6, 1, 8, 6, 2, 1, 4, 1, 1, 1, 1, 4, 4, 4, 1, 3, 1, 6, 4, 4, 3, 6, 7, 5, 2, 0, 8, 1, 3, 6, 3, 3, 6, 3, 5, 7, 0, 2, 1, 8, 3, 1, 1, 1, 1, 1, 6, 4, 2, 1, 3, 1, 4, 3, 4, 2, 1, 1, 3, 4, 2, 2, 1, 1, 8, 0, 3, 4, 4, 5, 7, 2, 2, 4, 3, 6, 2, 6, 5, 1, 8, 8, 5, 3, 3, 5, 4, 6, 7, 1, 1, 7, 1, 5, 5, 1, 3, 2, 1, 8, 3, 4, 6, 3, 3, 7, 7, 8, 6, 1, 3, 7, 6, 1, 8, 4, 7, 2, 0, 6, 1, 2, 4, 2, 7, 6, 7, 3, 4, 2, 1, 6, 8, 4, 5, 6, 1, 6, 4, 7, 4, 2, 8, 6, 4, 4, 4, 8, 6, 4, 4, 4, 4, 3, 1, 4, 8, 7, 1, 6, 4, 2, 5, 6, 3, 4, 4, 0, 2, 1, 6, 4, 2, 3, 6, 1, 6, 1, 4, 1, 1, 4, 1, 4, 1, 8, 6, 2, 1, 4, 2, 1, 2, 8, 1, 2, 0, 6, 6, 2, 1, 1, 5, 8, 1, 7, 8, 6, 4, 7, 1, 6, 6]\n",
            "[5, 1, 0, 8, 5, 6, 4, 7, 5, 3, 6, 4, 5, 4, 4, 7, 2, 2, 7, 6, 3, 7, 7, 7, 5, 5, 0, 8, 5, 8, 4, 6, 7, 7, 2, 1, 2, 4, 7, 2, 8, 0, 6, 1, 7, 7, 5, 7, 5, 5, 0, 3, 2, 5, 1, 3, 1, 5, 0, 6, 1, 1, 6, 3, 8, 2, 0, 4, 0, 7, 5, 2, 3, 2, 8, 5, 2, 3, 5, 1, 3, 8, 5, 6, 7, 8, 2, 4, 6, 8, 3, 4, 2, 5, 3, 1, 3, 4, 2, 0, 4, 6, 3, 3, 3, 6, 4, 6, 1, 6, 6, 4, 1, 7, 4, 0, 2, 0, 8, 6, 1, 6, 0, 3, 1, 0, 3, 2, 4, 0, 0, 6, 2, 2, 7, 7, 2, 7, 8, 4, 8, 5, 6, 7, 8, 4, 7, 6, 1, 5, 6, 0, 4, 1, 5, 6, 5, 3, 1, 1, 1, 2, 6, 6, 6, 8, 4, 3, 8, 7, 3, 7, 6, 1, 8, 5, 1, 3, 6, 3, 2, 0, 2, 3, 4, 2, 0, 5, 2, 8, 2, 6, 2, 8, 6, 2, 7, 5, 7, 1, 4, 1, 0, 3, 5, 3, 1, 1, 6, 4, 3, 8, 6, 5, 8, 2, 0, 0, 1, 7, 6, 4, 1, 6, 7, 8, 0, 0, 5, 1, 8, 8, 1, 7, 1, 4, 3, 5, 4, 2, 1, 4, 1, 3, 3, 4, 0, 4, 1, 8, 3, 5, 2, 4, 1, 5, 0, 4, 4, 4, 8, 7, 2, 2, 3, 3, 5, 2, 6, 7, 4, 8, 3, 7, 5, 0, 5, 3, 6, 7, 1, 1, 5, 1, 7, 7, 1, 3, 2, 1, 8, 8, 8, 6, 8, 8, 7, 7, 8, 6, 4, 3, 7, 4, 1, 8, 7, 0, 2, 0, 3, 1, 0, 4, 2, 5, 6, 7, 4, 4, 2, 7, 6, 2, 4, 8, 6, 7, 6, 3, 7, 8, 2, 5, 6, 3, 4, 5, 8, 7, 5, 5, 3, 0, 3, 1, 8, 8, 7, 2, 6, 4, 2, 7, 6, 5, 3, 0, 0, 0, 1, 6, 5, 0, 8, 6, 7, 6, 4, 6, 1, 4, 3, 1, 4, 5, 8, 6, 2, 4, 4, 2, 7, 2, 8, 7, 0, 0, 3, 4, 2, 7, 1, 8, 8, 1, 3, 8, 6, 4, 0, 7, 6, 3]\n",
            "Files processed =  110\n",
            "[8, 1, 0, 8, 3, 6, 3, 7, 5, 4, 6, 4, 5, 4, 4, 1, 2, 2, 1, 6, 6, 1, 1, 7, 4, 2, 5, 5, 8, 5, 0, 6, 1, 1, 2, 1, 2, 4, 7, 2, 8, 4, 6, 1, 1, 8, 5, 1, 5, 5, 2, 2, 2, 8, 1, 4, 1, 2, 2, 6, 1, 1, 6, 5, 5, 2, 8, 4, 0, 5, 8, 2, 1, 2, 8, 3, 2, 3, 5, 1, 8, 8, 5, 6, 1, 3, 2, 4, 6, 2, 6, 4, 2, 5, 4, 1, 3, 4, 2, 0, 4, 6, 6, 3, 2, 6, 3, 6, 1, 6, 6, 4, 1, 1, 4, 6, 2, 5, 5, 6, 1, 6, 2, 4, 1, 8, 5, 2, 4, 0, 8, 6, 2, 2, 1, 5, 2, 5, 1, 4, 8, 5, 6, 1, 8, 4, 1, 6, 1, 8, 6, 0, 6, 1, 2, 6, 5, 1, 1, 1, 1, 2, 6, 6, 6, 5, 3, 0, 8, 1, 4, 1, 6, 1, 1, 6, 1, 4, 6, 4, 2, 7, 2, 6, 3, 2, 2, 5, 2, 8, 2, 6, 1, 8, 6, 2, 1, 4, 1, 1, 1, 1, 4, 4, 4, 1, 3, 1, 6, 4, 4, 3, 6, 7, 5, 2, 0, 8, 1, 3, 6, 3, 3, 6, 3, 5, 7, 0, 2, 1, 8, 3, 1, 1, 1, 1, 1, 6, 4, 2, 1, 3, 1, 4, 3, 4, 2, 1, 1, 3, 4, 2, 2, 1, 1, 8, 0, 3, 4, 4, 5, 7, 2, 2, 4, 3, 6, 2, 6, 5, 1, 8, 8, 5, 3, 3, 5, 4, 6, 7, 1, 1, 7, 1, 5, 5, 1, 3, 2, 1, 8, 3, 4, 6, 3, 3, 7, 7, 8, 6, 1, 3, 7, 6, 1, 8, 4, 7, 2, 0, 6, 1, 2, 4, 2, 7, 6, 7, 3, 4, 2, 1, 6, 8, 4, 5, 6, 1, 6, 4, 7, 4, 2, 8, 6, 4, 4, 4, 8, 6, 4, 4, 4, 4, 3, 1, 4, 8, 7, 1, 6, 4, 2, 5, 6, 3, 4, 4, 0, 2, 1, 6, 4, 2, 3, 6, 1, 6, 1, 4, 1, 1, 4, 1, 4, 1, 8, 6, 2, 1, 4, 2, 1, 2, 8, 1, 2, 0, 6, 6, 2, 1, 1, 5, 8, 1, 7, 8, 6, 4, 7, 1, 6, 6, 2, 2, 3, 5, 1, 2, 3, 4, 4, 2, 0, 4, 4, 2, 3, 0, 6, 5, 0, 2, 3, 3, 0, 8, 8, 5, 5, 1, 1, 2, 2, 6, 5, 1, 2, 3, 3, 6, 3, 8]\n",
            "[5, 1, 0, 8, 5, 6, 4, 7, 5, 3, 6, 4, 5, 4, 4, 7, 2, 2, 7, 6, 3, 7, 7, 7, 5, 5, 0, 8, 5, 8, 4, 6, 7, 7, 2, 1, 2, 4, 7, 2, 8, 0, 6, 1, 7, 7, 5, 7, 5, 5, 0, 3, 2, 5, 1, 3, 1, 5, 0, 6, 1, 1, 6, 3, 8, 2, 0, 4, 0, 7, 5, 2, 3, 2, 8, 5, 2, 3, 5, 1, 3, 8, 5, 6, 7, 8, 2, 4, 6, 8, 3, 4, 2, 5, 3, 1, 3, 4, 2, 0, 4, 6, 3, 3, 3, 6, 4, 6, 1, 6, 6, 4, 1, 7, 4, 0, 2, 0, 8, 6, 1, 6, 0, 3, 1, 0, 3, 2, 4, 0, 0, 6, 2, 2, 7, 7, 2, 7, 8, 4, 8, 5, 6, 7, 8, 4, 7, 6, 1, 5, 6, 0, 4, 1, 5, 6, 5, 3, 1, 1, 1, 2, 6, 6, 6, 8, 4, 3, 8, 7, 3, 7, 6, 1, 8, 5, 1, 3, 6, 3, 2, 0, 2, 3, 4, 2, 0, 5, 2, 8, 2, 6, 2, 8, 6, 2, 7, 5, 7, 1, 4, 1, 0, 3, 5, 3, 1, 1, 6, 4, 3, 8, 6, 5, 8, 2, 0, 0, 1, 7, 6, 4, 1, 6, 7, 8, 0, 0, 5, 1, 8, 8, 1, 7, 1, 4, 3, 5, 4, 2, 1, 4, 1, 3, 3, 4, 0, 4, 1, 8, 3, 5, 2, 4, 1, 5, 0, 4, 4, 4, 8, 7, 2, 2, 3, 3, 5, 2, 6, 7, 4, 8, 3, 7, 5, 0, 5, 3, 6, 7, 1, 1, 5, 1, 7, 7, 1, 3, 2, 1, 8, 8, 8, 6, 8, 8, 7, 7, 8, 6, 4, 3, 7, 4, 1, 8, 7, 0, 2, 0, 3, 1, 0, 4, 2, 5, 6, 7, 4, 4, 2, 7, 6, 2, 4, 8, 6, 7, 6, 3, 7, 8, 2, 5, 6, 3, 4, 5, 8, 7, 5, 5, 3, 0, 3, 1, 8, 8, 7, 2, 6, 4, 2, 7, 6, 5, 3, 0, 0, 0, 1, 6, 5, 0, 8, 6, 7, 6, 4, 6, 1, 4, 3, 1, 4, 5, 8, 6, 2, 4, 4, 2, 7, 2, 8, 7, 0, 0, 3, 4, 2, 7, 1, 8, 8, 1, 3, 8, 6, 4, 0, 7, 6, 3, 2, 5, 8, 5, 1, 2, 3, 4, 5, 0, 0, 4, 3, 2, 8, 0, 4, 7, 0, 2, 3, 8, 0, 8, 0, 7, 2, 1, 1, 2, 2, 4, 5, 1, 0, 4, 3, 6, 0, 8]\n",
            "Files processed =  120\n",
            "[8, 1, 0, 8, 3, 6, 3, 7, 5, 4, 6, 4, 5, 4, 4, 1, 2, 2, 1, 6, 6, 1, 1, 7, 4, 2, 5, 5, 8, 5, 0, 6, 1, 1, 2, 1, 2, 4, 7, 2, 8, 4, 6, 1, 1, 8, 5, 1, 5, 5, 2, 2, 2, 8, 1, 4, 1, 2, 2, 6, 1, 1, 6, 5, 5, 2, 8, 4, 0, 5, 8, 2, 1, 2, 8, 3, 2, 3, 5, 1, 8, 8, 5, 6, 1, 3, 2, 4, 6, 2, 6, 4, 2, 5, 4, 1, 3, 4, 2, 0, 4, 6, 6, 3, 2, 6, 3, 6, 1, 6, 6, 4, 1, 1, 4, 6, 2, 5, 5, 6, 1, 6, 2, 4, 1, 8, 5, 2, 4, 0, 8, 6, 2, 2, 1, 5, 2, 5, 1, 4, 8, 5, 6, 1, 8, 4, 1, 6, 1, 8, 6, 0, 6, 1, 2, 6, 5, 1, 1, 1, 1, 2, 6, 6, 6, 5, 3, 0, 8, 1, 4, 1, 6, 1, 1, 6, 1, 4, 6, 4, 2, 7, 2, 6, 3, 2, 2, 5, 2, 8, 2, 6, 1, 8, 6, 2, 1, 4, 1, 1, 1, 1, 4, 4, 4, 1, 3, 1, 6, 4, 4, 3, 6, 7, 5, 2, 0, 8, 1, 3, 6, 3, 3, 6, 3, 5, 7, 0, 2, 1, 8, 3, 1, 1, 1, 1, 1, 6, 4, 2, 1, 3, 1, 4, 3, 4, 2, 1, 1, 3, 4, 2, 2, 1, 1, 8, 0, 3, 4, 4, 5, 7, 2, 2, 4, 3, 6, 2, 6, 5, 1, 8, 8, 5, 3, 3, 5, 4, 6, 7, 1, 1, 7, 1, 5, 5, 1, 3, 2, 1, 8, 3, 4, 6, 3, 3, 7, 7, 8, 6, 1, 3, 7, 6, 1, 8, 4, 7, 2, 0, 6, 1, 2, 4, 2, 7, 6, 7, 3, 4, 2, 1, 6, 8, 4, 5, 6, 1, 6, 4, 7, 4, 2, 8, 6, 4, 4, 4, 8, 6, 4, 4, 4, 4, 3, 1, 4, 8, 7, 1, 6, 4, 2, 5, 6, 3, 4, 4, 0, 2, 1, 6, 4, 2, 3, 6, 1, 6, 1, 4, 1, 1, 4, 1, 4, 1, 8, 6, 2, 1, 4, 2, 1, 2, 8, 1, 2, 0, 6, 6, 2, 1, 1, 5, 8, 1, 7, 8, 6, 4, 7, 1, 6, 6, 2, 2, 3, 5, 1, 2, 3, 4, 4, 2, 0, 4, 4, 2, 3, 0, 6, 5, 0, 2, 3, 3, 0, 8, 8, 5, 5, 1, 1, 2, 2, 6, 5, 1, 2, 3, 3, 6, 3, 8, 2, 4, 3, 1, 4, 0, 2, 1, 6, 2, 8, 3, 3, 1, 3, 0, 4, 1, 6, 4, 1, 1, 2, 1, 4, 8, 3, 7, 4, 3, 1, 2, 3, 6, 0, 3, 5, 1, 8, 8]\n",
            "[5, 1, 0, 8, 5, 6, 4, 7, 5, 3, 6, 4, 5, 4, 4, 7, 2, 2, 7, 6, 3, 7, 7, 7, 5, 5, 0, 8, 5, 8, 4, 6, 7, 7, 2, 1, 2, 4, 7, 2, 8, 0, 6, 1, 7, 7, 5, 7, 5, 5, 0, 3, 2, 5, 1, 3, 1, 5, 0, 6, 1, 1, 6, 3, 8, 2, 0, 4, 0, 7, 5, 2, 3, 2, 8, 5, 2, 3, 5, 1, 3, 8, 5, 6, 7, 8, 2, 4, 6, 8, 3, 4, 2, 5, 3, 1, 3, 4, 2, 0, 4, 6, 3, 3, 3, 6, 4, 6, 1, 6, 6, 4, 1, 7, 4, 0, 2, 0, 8, 6, 1, 6, 0, 3, 1, 0, 3, 2, 4, 0, 0, 6, 2, 2, 7, 7, 2, 7, 8, 4, 8, 5, 6, 7, 8, 4, 7, 6, 1, 5, 6, 0, 4, 1, 5, 6, 5, 3, 1, 1, 1, 2, 6, 6, 6, 8, 4, 3, 8, 7, 3, 7, 6, 1, 8, 5, 1, 3, 6, 3, 2, 0, 2, 3, 4, 2, 0, 5, 2, 8, 2, 6, 2, 8, 6, 2, 7, 5, 7, 1, 4, 1, 0, 3, 5, 3, 1, 1, 6, 4, 3, 8, 6, 5, 8, 2, 0, 0, 1, 7, 6, 4, 1, 6, 7, 8, 0, 0, 5, 1, 8, 8, 1, 7, 1, 4, 3, 5, 4, 2, 1, 4, 1, 3, 3, 4, 0, 4, 1, 8, 3, 5, 2, 4, 1, 5, 0, 4, 4, 4, 8, 7, 2, 2, 3, 3, 5, 2, 6, 7, 4, 8, 3, 7, 5, 0, 5, 3, 6, 7, 1, 1, 5, 1, 7, 7, 1, 3, 2, 1, 8, 8, 8, 6, 8, 8, 7, 7, 8, 6, 4, 3, 7, 4, 1, 8, 7, 0, 2, 0, 3, 1, 0, 4, 2, 5, 6, 7, 4, 4, 2, 7, 6, 2, 4, 8, 6, 7, 6, 3, 7, 8, 2, 5, 6, 3, 4, 5, 8, 7, 5, 5, 3, 0, 3, 1, 8, 8, 7, 2, 6, 4, 2, 7, 6, 5, 3, 0, 0, 0, 1, 6, 5, 0, 8, 6, 7, 6, 4, 6, 1, 4, 3, 1, 4, 5, 8, 6, 2, 4, 4, 2, 7, 2, 8, 7, 0, 0, 3, 4, 2, 7, 1, 8, 8, 1, 3, 8, 6, 4, 0, 7, 6, 3, 2, 5, 8, 5, 1, 2, 3, 4, 5, 0, 0, 4, 3, 2, 8, 0, 4, 7, 0, 2, 3, 8, 0, 8, 0, 7, 2, 1, 1, 2, 2, 4, 5, 1, 0, 4, 3, 6, 0, 8, 8, 0, 3, 1, 4, 0, 2, 1, 6, 5, 0, 8, 3, 7, 3, 3, 0, 1, 6, 5, 1, 1, 2, 1, 5, 8, 3, 0, 0, 5, 7, 2, 8, 0, 0, 8, 7, 7, 8, 8]\n"
          ],
          "name": "stdout"
        }
      ]
    },
    {
      "cell_type": "code",
      "metadata": {
        "id": "wp3qvwwSCKTN",
        "colab_type": "code",
        "colab": {
          "base_uri": "https://localhost:8080/",
          "height": 282
        },
        "outputId": "6c12a313-8e78-4303-9fa1-8702918da6e8"
      },
      "source": [
        "plt.plot(cost_list)"
      ],
      "execution_count": 11,
      "outputs": [
        {
          "output_type": "execute_result",
          "data": {
            "text/plain": [
              "[<matplotlib.lines.Line2D at 0x7fc24cf946a0>]"
            ]
          },
          "metadata": {
            "tags": []
          },
          "execution_count": 11
        },
        {
          "output_type": "display_data",
          "data": {
            "image/png": "[encoded data removed]",
            "text/plain": [
              "<Figure size 432x288 with 1 Axes>"
            ]
          },
          "metadata": {
            "tags": [],
            "needs_background": "light"
          }
        }
      ]
    },
    {
      "cell_type": "markdown",
      "metadata": {
        "id": "ytItCcLoCKTQ",
        "colab_type": "text"
      },
      "source": [
        "### Evaluation"
      ]
    },
    {
      "cell_type": "markdown",
      "metadata": {
        "id": "-Ih6AitSlIFT",
        "colab_type": "text"
      },
      "source": [
        "Model loading"
      ]
    },
    {
      "cell_type": "code",
      "metadata": {
        "id": "IWBI0zkeCKTR",
        "colab_type": "code",
        "outputId": "1e6c46b5-ffc5-4ef0-b77e-9b0bae367428",
        "colab": {
          "base_uri": "https://localhost:8080/",
          "height": 355
        }
      },
      "source": [
        "device = torch.device('cuda')\n",
        "model = CNN(num_class=9, gap_h=1, gap_w=2)\n",
        "\n",
        "\n",
        "checkpoint = torch.load('/content/drive/My Drive/complete_track/checkpoint>50.tar', map_location=lambda storage, loc: storage)\n",
        "model.load_state_dict(checkpoint['model_state_dict'])\n",
        "optimizer.load_state_dict(checkpoint['optimizer_state_dict'])\n",
        "epoch = checkpoint['epoch']\n",
        "model.cuda()"
      ],
      "execution_count": 0,
      "outputs": [
        {
          "output_type": "execute_result",
          "data": {
            "text/plain": [
              "CNN(\n",
              "  (bn_init): BatchNorm2d(1, eps=1e-05, momentum=0.1, affine=True, track_running_stats=True)\n",
              "  (conv_1): Conv2d(1, 64, kernel_size=(3, 3), stride=(1, 1), padding=(1, 1))\n",
              "  (bn_1): BatchNorm2d(64, eps=1e-05, momentum=0.1, affine=True, track_running_stats=True)\n",
              "  (mp_1): MaxPool2d(kernel_size=(2, 4), stride=(2, 4), padding=0, dilation=1, ceil_mode=False)\n",
              "  (conv_2): Conv2d(64, 128, kernel_size=(3, 3), stride=(1, 1), padding=(1, 1))\n",
              "  (bn_2): BatchNorm2d(128, eps=1e-05, momentum=0.1, affine=True, track_running_stats=True)\n",
              "  (mp_2): MaxPool2d(kernel_size=(2, 4), stride=(2, 4), padding=0, dilation=1, ceil_mode=False)\n",
              "  (conv_3): Conv2d(128, 128, kernel_size=(3, 3), stride=(1, 1), padding=(1, 1))\n",
              "  (bn_3): BatchNorm2d(128, eps=1e-05, momentum=0.1, affine=True, track_running_stats=True)\n",
              "  (mp_3): MaxPool2d(kernel_size=(2, 4), stride=(2, 4), padding=0, dilation=1, ceil_mode=False)\n",
              "  (conv_4): Conv2d(128, 128, kernel_size=(3, 3), stride=(1, 1), padding=(1, 1))\n",
              "  (bn_4): BatchNorm2d(128, eps=1e-05, momentum=0.1, affine=True, track_running_stats=True)\n",
              "  (mp_4): MaxPool2d(kernel_size=(3, 5), stride=(3, 5), padding=0, dilation=1, ceil_mode=False)\n",
              "  (conv_5): Conv2d(128, 64, kernel_size=(3, 3), stride=(1, 1), padding=(1, 1))\n",
              "  (bn_5): BatchNorm2d(64, eps=1e-05, momentum=0.1, affine=True, track_running_stats=True)\n",
              "  (mp_5): MaxPool2d(kernel_size=(4, 4), stride=(4, 4), padding=0, dilation=1, ceil_mode=False)\n",
              "  (dense): Linear(in_features=64, out_features=9, bias=True)\n",
              ")"
            ]
          },
          "metadata": {
            "tags": []
          },
          "execution_count": 9
        }
      ]
    },
    {
      "cell_type": "code",
      "metadata": {
        "id": "1f41FpLJCKTT",
        "colab_type": "code",
        "outputId": "38d22d13-eb2e-47df-ea6f-0c04fea23bd0",
        "colab": {
          "base_uri": "https://localhost:8080/",
          "height": 355
        }
      },
      "source": [
        "y_list = []\n",
        "pred_list = []\n",
        "model.eval()\n",
        "for i, data in enumerate(test_loader):\n",
        "    x, y = data\n",
        "    x = x.cuda()\n",
        "    pred = model(x)\n",
        "\n",
        "    pred = pred.detach().cpu()\n",
        "    for _p in pred:\n",
        "          pred_list.append(int(_p.argmax()))\n",
        "    for _y in y:\n",
        "          y_list.append(int(_y))\n",
        "        \n",
        "    if i % 10 == 0:\n",
        "        print('Files processed = ', i) "
      ],
      "execution_count": 0,
      "outputs": [
        {
          "output_type": "stream",
          "text": [
            "Files processed =  0\n",
            "Files processed =  10\n",
            "Files processed =  20\n",
            "Files processed =  30\n",
            "Files processed =  40\n",
            "Files processed =  50\n",
            "Files processed =  60\n",
            "Files processed =  70\n",
            "Files processed =  80\n",
            "Files processed =  90\n",
            "Files processed =  100\n",
            "Files processed =  110\n",
            "Files processed =  120\n",
            "Files processed =  130\n",
            "Files processed =  140\n",
            "Files processed =  150\n",
            "Files processed =  160\n",
            "Files processed =  170\n",
            "Files processed =  180\n"
          ],
          "name": "stdout"
        }
      ]
    },
    {
      "cell_type": "markdown",
      "metadata": {
        "id": "7PkreAUslelJ",
        "colab_type": "text"
      },
      "source": [
        "Accuracy calculation"
      ]
    },
    {
      "cell_type": "code",
      "metadata": {
        "id": "kntV0jeTCKTY",
        "colab_type": "code",
        "outputId": "d24a31eb-62b2-4adf-80d5-9b008e114b95",
        "colab": {
          "base_uri": "https://localhost:8080/",
          "height": 35
        }
      },
      "source": [
        "accuracy = np.sum(np.asarray(pred_list)==np.asarray(y_list))/len(y_list)\n",
        "print(accuracy)"
      ],
      "execution_count": 0,
      "outputs": [
        {
          "output_type": "stream",
          "text": [
            "0.5610200364298725\n"
          ],
          "name": "stdout"
        }
      ]
    },
    {
      "cell_type": "markdown",
      "metadata": {
        "id": "gnVMUaEdlgaz",
        "colab_type": "text"
      },
      "source": [
        "Confusion matrix calculation"
      ]
    },
    {
      "cell_type": "code",
      "metadata": {
        "id": "gDCrUpFiCKTb",
        "colab_type": "code",
        "outputId": "5f468b35-b197-4dfa-c9a2-9747b0ecb01e",
        "colab": {
          "base_uri": "https://localhost:8080/",
          "height": 349
        }
      },
      "source": [
        "import sklearn.metrics\n",
        "import seaborn\n",
        " \n",
        "lab = [lab.split('archive')[0] for lab in labels]\n",
        "plt.figure()\n",
        "plt.title('Confusion matrix full-track chunk')\n",
        "cm = sklearn.metrics.confusion_matrix(np.asarray(y_list), np.asarray(pred_list))\n",
        "seaborn.heatmap(cm, annot=True, xticklabels=lab, yticklabels=lab, fmt=\"d\", cmap = \"Oranges\")"
      ],
      "execution_count": 0,
      "outputs": [
        {
          "output_type": "execute_result",
          "data": {
            "text/plain": [
              "<matplotlib.axes._subplots.AxesSubplot at 0x7fe203eccda0>"
            ]
          },
          "metadata": {
            "tags": []
          },
          "execution_count": 28
        },
        {
          "output_type": "display_data",
          "data": {
            "image/png": "[encoded data removed]",
            "text/plain": [
              "<Figure size 432x288 with 2 Axes>"
            ]
          },
          "metadata": {
            "tags": []
          }
        }
      ]
    },
    {
      "cell_type": "markdown",
      "metadata": {
        "id": "d6WUbj8mlk2m",
        "colab_type": "text"
      },
      "source": [
        "F1 score calculation"
      ]
    },
    {
      "cell_type": "code",
      "metadata": {
        "id": "DjeUifEtCKTj",
        "colab_type": "code",
        "outputId": "80a94ccd-b514-4171-e196-9ba84347d163",
        "colab": {
          "base_uri": "https://localhost:8080/",
          "height": 35
        }
      },
      "source": [
        "sklearn.metrics.f1_score(y_list, pred_list, average='micro')"
      ],
      "execution_count": 0,
      "outputs": [
        {
          "output_type": "execute_result",
          "data": {
            "text/plain": [
              "0.5596555646952932"
            ]
          },
          "metadata": {
            "tags": []
          },
          "execution_count": 17
        }
      ]
    },
    {
      "cell_type": "markdown",
      "metadata": {
        "id": "Q9vEI-aT1YBO",
        "colab_type": "text"
      },
      "source": [
        "# Further analysis"
      ]
    },
    {
      "cell_type": "markdown",
      "metadata": {
        "id": "VA9PdWjFlqBF",
        "colab_type": "text"
      },
      "source": [
        "In this part we analyze train data set accuracy to check if model is overfitting"
      ]
    },
    {
      "cell_type": "code",
      "metadata": {
        "id": "eAYBJ2-R1aRP",
        "colab_type": "code",
        "outputId": "9f09c718-6381-4939-ff89-5d00e3eb9e0a",
        "colab": {
          "base_uri": "https://localhost:8080/",
          "height": 1000
        }
      },
      "source": [
        "y_list = []\n",
        "pred_list = []\n",
        "model.eval()\n",
        "for i, data in enumerate(train_loader):\n",
        "    x, y = data\n",
        "    x = x.cuda()\n",
        "    pred = model(x)\n",
        "\n",
        "    pred = pred.detach().cpu()\n",
        "    for _p in pred:\n",
        "          pred_list.append(int(_p.argmax()))\n",
        "    for _y in y:\n",
        "          y_list.append(int(_y))\n",
        "        \n",
        "    if i % 10 == 0:\n",
        "        print('Files processed = ', i)"
      ],
      "execution_count": 0,
      "outputs": [
        {
          "output_type": "stream",
          "text": [
            "Files processed =  0\n",
            "Files processed =  10\n",
            "Files processed =  20\n",
            "Files processed =  30\n",
            "Files processed =  40\n",
            "Files processed =  50\n",
            "Files processed =  60\n",
            "Files processed =  70\n",
            "Files processed =  80\n",
            "Files processed =  90\n",
            "Files processed =  100\n",
            "Files processed =  110\n",
            "Files processed =  120\n",
            "Files processed =  130\n",
            "Files processed =  140\n",
            "Files processed =  150\n",
            "Files processed =  160\n",
            "Files processed =  170\n",
            "Files processed =  180\n",
            "Files processed =  190\n",
            "Files processed =  200\n",
            "Files processed =  210\n",
            "Files processed =  220\n",
            "Files processed =  230\n",
            "Files processed =  240\n",
            "Files processed =  250\n",
            "Files processed =  260\n",
            "Files processed =  270\n",
            "Files processed =  280\n",
            "Files processed =  290\n",
            "Files processed =  300\n",
            "Files processed =  310\n",
            "Files processed =  320\n",
            "Files processed =  330\n",
            "Files processed =  340\n",
            "Files processed =  350\n",
            "Files processed =  360\n",
            "Files processed =  370\n",
            "Files processed =  380\n",
            "Files processed =  390\n",
            "Files processed =  400\n",
            "Files processed =  410\n",
            "Files processed =  420\n",
            "Files processed =  430\n",
            "Files processed =  440\n",
            "Files processed =  450\n",
            "Files processed =  460\n",
            "Files processed =  470\n",
            "Files processed =  480\n",
            "Files processed =  490\n",
            "Files processed =  500\n",
            "Files processed =  510\n",
            "Files processed =  520\n",
            "Files processed =  530\n",
            "Files processed =  540\n",
            "Files processed =  550\n",
            "Files processed =  560\n",
            "Files processed =  570\n",
            "Files processed =  580\n",
            "Files processed =  590\n",
            "Files processed =  600\n",
            "Files processed =  610\n",
            "Files processed =  620\n",
            "Files processed =  630\n",
            "Files processed =  640\n",
            "Files processed =  650\n",
            "Files processed =  660\n",
            "Files processed =  670\n",
            "Files processed =  680\n",
            "Files processed =  690\n",
            "Files processed =  700\n",
            "Files processed =  710\n",
            "Files processed =  720\n",
            "Files processed =  730\n"
          ],
          "name": "stdout"
        }
      ]
    },
    {
      "cell_type": "markdown",
      "metadata": {
        "id": "kqWI0frulvri",
        "colab_type": "text"
      },
      "source": [
        "Accuracy calculation"
      ]
    },
    {
      "cell_type": "code",
      "metadata": {
        "id": "LlsGeM3A1b7M",
        "colab_type": "code",
        "outputId": "56e77e2b-f020-4e9f-9344-193c008a02aa",
        "colab": {
          "base_uri": "https://localhost:8080/",
          "height": 35
        }
      },
      "source": [
        "accuracy = np.sum(np.asarray(pred_list)==np.asarray(y_list))/len(y_list)\n",
        "print(accuracy)"
      ],
      "execution_count": 0,
      "outputs": [
        {
          "output_type": "stream",
          "text": [
            "0.9015945330296128\n"
          ],
          "name": "stdout"
        }
      ]
    },
    {
      "cell_type": "markdown",
      "metadata": {
        "id": "IF3dsz5klw-4",
        "colab_type": "text"
      },
      "source": [
        "We see how the accuracy for training set is very high while test set accuracy is low. This shows that our model is overfitting"
      ]
    }
  ]
}